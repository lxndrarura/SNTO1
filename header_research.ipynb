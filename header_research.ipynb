{
 "cells": [
  {
   "cell_type": "code",
   "execution_count": 1,
   "id": "35f055ce",
   "metadata": {},
   "outputs": [
    {
     "data": {
      "text/html": [
       "<script>\n",
       "code_show=true; \n",
       "function code_toggle() {\n",
       " if (code_show){\n",
       " $('div.input').hide();\n",
       " } else {\n",
       " $('div.input').show();\n",
       " }\n",
       " code_show = !code_show\n",
       "} \n",
       "$( document ).ready(code_toggle);\n",
       "</script>\n",
       "<form action=\"javascript:code_toggle()\"><input type=\"submit\" value=\"Click here to toggle on/off the raw code.\"></form>"
      ],
      "text/plain": [
       "<IPython.core.display.HTML object>"
      ]
     },
     "execution_count": 1,
     "metadata": {},
     "output_type": "execute_result"
    }
   ],
   "source": [
    "from IPython.display import HTML\n",
    "\n",
    "HTML('''<script>\n",
    "code_show=true; \n",
    "function code_toggle() {\n",
    " if (code_show){\n",
    " $('div.input').hide();\n",
    " } else {\n",
    " $('div.input').show();\n",
    " }\n",
    " code_show = !code_show\n",
    "} \n",
    "$( document ).ready(code_toggle);\n",
    "</script>\n",
    "<form action=\"javascript:code_toggle()\"><input type=\"submit\" value=\"Click here to toggle on/off the raw code.\"></form>''')\n",
    "\n"
   ]
  },
  {
   "cell_type": "code",
   "execution_count": 2,
   "id": "423992f7",
   "metadata": {},
   "outputs": [
    {
     "data": {
      "text/html": [
       "        <script type=\"text/javascript\">\n",
       "        window.PlotlyConfig = {MathJaxConfig: 'local'};\n",
       "        if (window.MathJax) {MathJax.Hub.Config({SVG: {font: \"STIX-Web\"}});}\n",
       "        if (typeof require !== 'undefined') {\n",
       "        require.undef(\"plotly\");\n",
       "        requirejs.config({\n",
       "            paths: {\n",
       "                'plotly': ['https://cdn.plot.ly/plotly-2.2.0.min']\n",
       "            }\n",
       "        });\n",
       "        require(['plotly'], function(Plotly) {\n",
       "            window._Plotly = Plotly;\n",
       "        });\n",
       "        }\n",
       "        </script>\n",
       "        "
      ]
     },
     "metadata": {},
     "output_type": "display_data"
    },
    {
     "data": {
      "text/html": [
       "        <script type=\"text/javascript\">\n",
       "        window.PlotlyConfig = {MathJaxConfig: 'local'};\n",
       "        if (window.MathJax) {MathJax.Hub.Config({SVG: {font: \"STIX-Web\"}});}\n",
       "        if (typeof require !== 'undefined') {\n",
       "        require.undef(\"plotly\");\n",
       "        requirejs.config({\n",
       "            paths: {\n",
       "                'plotly': ['https://cdn.plot.ly/plotly-2.2.0.min']\n",
       "            }\n",
       "        });\n",
       "        require(['plotly'], function(Plotly) {\n",
       "            window._Plotly = Plotly;\n",
       "        });\n",
       "        }\n",
       "        </script>\n",
       "        "
      ]
     },
     "metadata": {},
     "output_type": "display_data"
    }
   ],
   "source": [
    "import pandas as pd\n",
    "from google.oauth2 import service_account\n",
    "\n",
    "import numpy as np\n",
    "import matplotlib.pyplot as plt\n",
    "from scipy import stats\n",
    "from scipy.stats import norm\n",
    "from scipy.stats import t\n",
    "from statsmodels.stats.proportion import proportion_confint\n",
    "from statsmodels.stats.weightstats import ztest\n",
    "from statsmodels.stats import weightstats\n",
    "from datetime import datetime\n",
    "import statsmodels.stats.weightstats as ws\n",
    "import math \n",
    "\n",
    "import plotly.io as pio\n",
    "import plotly.graph_objects as go\n",
    "import plotly as py\n",
    "import plotly.express as px\n",
    "from plotly.offline import download_plotlyjs, init_notebook_mode, plot, iplot\n",
    "import cufflinks as cf\n",
    "\n",
    "\n",
    "\n",
    "pio.renderers.default='notebook' # для отображения графиков плотли в nbviewer\n",
    "init_notebook_mode(connected = True) # для работы с плотли оффлайн\n",
    "cf.go_offline()\n",
    "\n",
    "pd.set_option('display.max_colwidth', 150)\n",
    "pd.set_option('display.max_columns', None)\n"
   ]
  },
  {
   "cell_type": "code",
   "execution_count": 17,
   "id": "db03596e",
   "metadata": {},
   "outputs": [],
   "source": [
    "# sql запрос для получения данных о кликах по каталогу \n",
    "def categ_sql():\n",
    "    credentials = service_account.Credentials.from_service_account_file(\n",
    "    '/Users/lxndrarura/Python Santehnika/key/spry-compound-139714-3c5694cec4ca.json')\n",
    "    project_id = 'spry-compound-139714' \n",
    "   \n",
    "    query = '''\n",
    "    select \n",
    "        *\n",
    "    from `spry-compound-139714.SNTO_lyapakhina.head_catalog_events11`\n",
    "    '''\n",
    "    ct = pd.read_gbq(query, project_id=project_id, credentials=credentials)\n",
    "    return ct\n",
    "\n",
    "# sql запрос для получения данных о кликах по шапке каталога \n",
    "def bar_sql():\n",
    "    credentials = service_account.Credentials.from_service_account_file(\n",
    "    '/Users/lxndrarura/Python Santehnika/key/spry-compound-139714-3c5694cec4ca.json')\n",
    "    project_id = 'spry-compound-139714' \n",
    "   \n",
    "    query = '''\n",
    "    select \n",
    "        *\n",
    "    from `spry-compound-139714.SNTO_lyapakhina.head_bar_events11`\n",
    "    '''\n",
    "    bar = pd.read_gbq(query, project_id=project_id, credentials=credentials)\n",
    "    return bar\n",
    "\n",
    "# sql запрос для получения данных о сессиях\n",
    "def sessions_sql():\n",
    "    credentials = service_account.Credentials.from_service_account_file(\n",
    "    '/Users/lxndrarura/Python Santehnika/key/spry-compound-139714-3c5694cec4ca.json')\n",
    "    project_id = 'spry-compound-139714' \n",
    "   \n",
    "    query = '''\n",
    "    select \n",
    "        *\n",
    "    from `spry-compound-139714.SNTO_lyapakhina.head_sessions_count11`\n",
    "    '''\n",
    "    ses = pd.read_gbq(query, project_id=project_id, credentials=credentials)\n",
    "    return ses\n",
    "\n",
    "# sql запрос для получения данных о сессиях с отказом после открытия каталога\n",
    "def rejections_sql():\n",
    "    credentials = service_account.Credentials.from_service_account_file(\n",
    "    '/Users/lxndrarura/Python Santehnika/key/spry-compound-139714-3c5694cec4ca.json')\n",
    "    project_id = 'spry-compound-139714' \n",
    "   \n",
    "    query = '''\n",
    "    select \n",
    "        *\n",
    "    from `spry-compound-139714.SNTO_lyapakhina.head_sessions_with_rejection111`\n",
    "    '''\n",
    "\n",
    "    reg = pd.read_gbq(query, project_id=project_id, credentials=credentials)\n",
    "    return reg\n",
    "\n",
    "\n",
    "# получение таблицы с информацией о распределении кликов по каталогу \n",
    "def to_categ(ct):\n",
    "    categ = ct[(ct['eventAction']=='header_nav_catalog_click')][['hitId', 'eventLabel']]\n",
    "    categ = categ[categ['eventLabel'].str.contains(\"/\") == True]\n",
    "    categ['eventLabel'] = categ['eventLabel'].apply(lambda x: x.lower())\n",
    "    categ = categ[(categ['eventLabel'].str.contains(\"каталог товаров\") == True) | (categ['eventLabel'].str.contains(\"каталог\") == True)]\n",
    "    categ['one'] = categ['eventLabel'].apply(lambda x: x[x.index('/', 0)+1:])\n",
    "    categ['one'] = categ['one'].apply(lambda x: x[:x.index('/', 0)] if (\"/\" in x) == True else x)\n",
    "    categ['last'] = categ['eventLabel'].apply(lambda x: x[x.rindex('/', 0)+1:])\n",
    "    categ = categ[['one', 'last', 'hitId']]\n",
    "    categ = categ.groupby(['one', 'last'])['hitId'].count().reset_index().rename(columns = {'hitId': 'count_sum'})    \n",
    "    return categ\n",
    "\n",
    "# визуализация распределения кликов по каталогу общая\n",
    "def categ_distribution_visualization_all(categ):\n",
    "    # визуализация \n",
    "    df = categ\n",
    "    fig = px.treemap(df, path=[px.Constant(\"all\"), 'one', 'last'], values='count_sum',\n",
    "    #                   color='count_sum', \n",
    "    #                  hover_data=['count_sum'],\n",
    "                      color_continuous_scale='RdBu',\n",
    "                     color_continuous_midpoint=np.average(df['count_sum'], weights=df['count_sum'])\n",
    "                    )\n",
    "    fig.update_layout(margin = dict(t=50, l=25, r=25, b=25))\n",
    "    return fig.show()\n",
    "\n",
    "# визуализация распределения кликов по каталогу верхний уровень вложенности\n",
    "def categ_distribution_visualization_upper(categ):\n",
    "    df = categ.groupby('one')['count_sum'].sum().reset_index()\n",
    "    fig = px.treemap(df, path=[px.Constant(\"all\"), 'one'], values='count_sum',\n",
    "                  color='count_sum', hover_data=['count_sum'],\n",
    "                  color_continuous_scale='RdBu',\n",
    "                  color_continuous_midpoint=np.average(df['count_sum'], weights=df['count_sum'])\n",
    "                )\n",
    "    fig.update_layout(margin = dict(t=50, l=25, r=25, b=25))\n",
    "    return fig.show()\n",
    "\n",
    "# визуализация распределения кликов по каталогу верхнидний уровень вложенности\n",
    "def categ_distribution_visualization_lower(categ):\n",
    "    df = categ.groupby('last')['count_sum'].sum().reset_index()\n",
    "    fig = px.treemap(df, path=[px.Constant(\"all\"), 'last'], values='count_sum',\n",
    "                  color='count_sum', hover_data=['count_sum'],\n",
    "                  color_continuous_scale='RdBu',\n",
    "                  color_continuous_midpoint=np.average(df['count_sum'], weights=df['count_sum'])\n",
    "                )\n",
    "    fig.update_layout(margin = dict(t=50, l=25, r=25, b=25))\n",
    "    return fig.show()\n",
    "\n",
    "# получение таблицы с метриками по каталогу\n",
    "def result_catalog(ct, ses, reg):\n",
    "    res = ses.groupby('f0_')['sessions_count'].sum().reset_index()\n",
    "    sessions_sum = res['sessions_count'].sum()\n",
    "    res['GT%'] = (100/sessions_sum)*res['sessions_count']\n",
    "    res = res.merge(ct.groupby('f0_')['sessionId'].nunique().reset_index().rename(columns = {'sessionId':'catalog_open_sessions'}), on='f0_', how='left')\n",
    "    res['CR в уник. клики,%'] = (res['catalog_open_sessions']/res['sessions_count'])*100\n",
    "    res = res.merge(ct[ct['eventLabel']=='open'].groupby('f0_')['hitId'].count().reset_index().rename(columns = {'hitId':'catalog_open_count'}), on='f0_', how='left')\n",
    "    res['Частота кликов'] = res['catalog_open_count']/res['catalog_open_sessions']\n",
    "    res = res.merge(reg.groupby('f0_')['sessionId'].nunique().reset_index().rename(columns = {'sessionId': 'Сессии с выходом'}), on='f0_', how='left')\n",
    "    res['Показатель выхода,%'] = (res['Сессии с выходом']/res['catalog_open_sessions'])*100\n",
    "    res = res.round(2)\n",
    "    r = res.T\n",
    "    r.columns = r.iloc[0]\n",
    "    r = r[1:]\n",
    "    r = r[['before', 'after']]\n",
    "    r['diff,%'] = (100/r['before'])*r['after']-100\n",
    "    r['diff,%'] = r['diff,%'].apply(lambda x: round(x, 2))\n",
    "    return r \n",
    "\n",
    "# проверка на стат значимость частоты кликов по каталогу\n",
    "def stat_significance_catalog_freq(ct):\n",
    "    \n",
    "    cc = ct[ct['eventLabel']=='open'].groupby(['sessionId', 'f0_'])['hitId'].count().reset_index()\n",
    "    a = cc[cc['f0_']=='after']\n",
    "    b = cc[cc['f0_']=='before']\n",
    "    \n",
    "    if a['hitId'].mean() > b['hitId'].mean():\n",
    "        t_result_bill = weightstats.ttest_ind(a['hitId'], b['hitId'],\n",
    "                         usevar='unequal', alternative='larger')\n",
    "        if t_result_bill[1] <= 0.05:\n",
    "            print('Частота кликов по каталогу в новой версии больше чем в старой, разница стат.значима на уровне значимости a = 5%, p_value =', '{:.19f}'.format(t_result_bill[1]))\n",
    "        else:\n",
    "            print('Частота кликов по каталогу в новой версии не больше чем в старой, разница не стат.значима на уровне значимости a = 5%, p_value =', '{:.19f}'.format(t_result_bill[1]))           \n",
    "\n",
    "            #     print('Ttest_indResult', t_result_bill[0], '{:.19f}'.format(t_result_bill[1]))\n",
    "\n",
    "# визуализация таблицы с метриками по каталогу\n",
    "def result_catalog_visualisation(r): \n",
    "    columns_list = r.columns\n",
    "    columns_list = columns_list.insert(0, '') \n",
    "    columns_list\n",
    "\n",
    "    fig = go.Figure(data=[go.Table(\n",
    "     # columnorder = [1,4],\n",
    "      columnwidth = [150,160,160,160],\n",
    "      header = dict(\n",
    "        values = columns_list,\n",
    "        line_color='darkslategray',\n",
    "        fill_color='rgb(103,112,244)',\n",
    "        align=['left','center'],\n",
    "        font=dict(color='white', size=12),\n",
    "        height=40\n",
    "      ),\n",
    "      cells=dict(\n",
    "        values=[r.index, r['before'], r['after'], r['diff,%']],\n",
    "        line_color='darkslategray',\n",
    "        fill=dict(color=[['rgb(229, 238, 255)','rgb(229, 238, 255)','rgb(229, 238, 255)', '#a1bcf7','rgb(229, 238, 255)','#a1bcf7','rgb(229, 238, 255)','#a1bcf7'], ['white','white','white', '#d9d9d9','white','#d9d9d9','white','#d9d9d9'], ['white','white','white', '#d9d9d9','white','#d9d9d9','white','#d9d9d9'], ['white','white','white', '#d9d9d9','white','#d9d9d9','white','#d9d9d9']]),\n",
    "        align=['left', 'center'],\n",
    "        font_size=12,\n",
    "        height=30)\n",
    "        )\n",
    "    ])\n",
    "    return fig.show()\n",
    "\n",
    "# получение таблицы метрик по шапке\n",
    "def result_bar(bar, ses):\n",
    "    res2 = ses.groupby('f0_')['sessions_count'].sum().reset_index()\n",
    "    sessions_sum = res2['sessions_count'].sum()\n",
    "    res2['GT%'] = (100/sessions_sum)*res2['sessions_count']\n",
    "    \n",
    "    res2 = res2.merge(bar.groupby('f0_')['sessionId'].nunique().reset_index().rename(columns = {'sessionId':'bar_click_sessions'}), on='f0_', how='left')\n",
    "    for i in bar['eventLabel'].unique():\n",
    "        res2 = res2.merge(bar[bar['eventLabel']==i].groupby('f0_')['sessionId'].nunique().reset_index().rename(columns = {'sessionId':'bar_click_sessions_{}'.format(i)}), on='f0_', how='left')\n",
    "   \n",
    "    res2['%CR в уник. клики'] = (res2['bar_click_sessions']/res2['sessions_count'])*100\n",
    "    for i in bar['eventLabel'].unique():\n",
    "        res2['%CR в уник. клики_{}'.format(i)] = (res2['bar_click_sessions_{}'.format(i)]/res2['sessions_count'])*100\n",
    "\n",
    "    res2 = res2.merge(bar.groupby('f0_')['open_count'].sum().reset_index().rename(columns = {'open_count':'Клики'}), on='f0_', how='left')\n",
    "    for i in bar['eventLabel'].unique():\n",
    "        res2 = res2.merge(bar[bar['eventLabel']==i].groupby('f0_')['open_count'].sum().reset_index().rename(columns = {'open_count':'Клики_{}'.format(i)}), on='f0_', how='left')\n",
    "\n",
    "    res2['Частота кликов'] = (res2['Клики']/res2['bar_click_sessions'])\n",
    "    for i in bar['eventLabel'].unique():\n",
    "        res2['Частота кликов_{}'.format(i)] = res2['Клики_{}'.format(i)]/res2['bar_click_sessions_{}'.format(i)]\n",
    "\n",
    "    res2['%GT_Клики'] = (res2['Клики']/res2['Клики'])*100\n",
    "    for i in bar['eventLabel'].unique():\n",
    "        res2['%GT_Клики_{}'.format(i)] = (res2['Клики_{}'.format(i)]/res2['Клики'])*100\n",
    "    \n",
    "    res2 = res2.round(2)\n",
    "    r2 = res2.T\n",
    "    r2.columns = r2.iloc[0]\n",
    "    r2 = r2[1:]\n",
    "    r2 = r2[['before', 'after']]\n",
    "    r2['diff,%'] = (100/r2['before'])*r2['after']-100\n",
    "    r2['diff,%'] = r2['diff,%'].apply(lambda x: round(x, 2))\n",
    "    return r2\n",
    "\n",
    "# визуализация таблицы с метриками по шапке \n",
    "def result_bar_visualization(r2):\n",
    "    columns_list = r2.columns\n",
    "    columns_list = columns_list.insert(0, '') \n",
    "\n",
    "    fig = go.Figure(data=[go.Table(\n",
    "     # columnorder = [1,4],\n",
    "      columnwidth = [210,160,160,160],\n",
    "      header = dict(\n",
    "        values = columns_list,\n",
    "        line_color='darkslategray',\n",
    "        fill_color='rgb(103,112,244)',\n",
    "        align=['left','center'],\n",
    "        font=dict(color='white', size=12),\n",
    "        height=40\n",
    "      ),\n",
    "      cells=dict(\n",
    "        values=[r2.index, r2['before'], r2['after'], r2['diff,%']],\n",
    "        line_color='darkslategray',\n",
    "        fill=dict(color=[['#b8cdf9', '#b8cdf9', '#b8cdf9', 'rgb(229, 238, 255)', 'rgb(229, 238, 255)', 'rgb(229, 238, 255)', 'rgb(229, 238, 255)', 'rgb(229, 238, 255)', 'rgb(229, 238, 255)','#b8cdf9', 'rgb(229, 238, 255)', 'rgb(229, 238, 255)', 'rgb(229, 238, 255)', 'rgb(229, 238, 255)', 'rgb(229, 238, 255)', 'rgb(229, 238, 255)', '#b8cdf9', 'rgb(229, 238, 255)', 'rgb(229, 238, 255)', 'rgb(229, 238, 255)', 'rgb(229, 238, 255)', 'rgb(229, 238, 255)', 'rgb(229, 238, 255)', '#b8cdf9', 'rgb(229, 238, 255)', 'rgb(229, 238, 255)', 'rgb(229, 238, 255)', 'rgb(229, 238, 255)', 'rgb(229, 238, 255)', 'rgb(229, 238, 255)', '#b8cdf9', 'rgb(229, 238, 255)', 'rgb(229, 238, 255)', 'rgb(229, 238, 255)', 'rgb(229, 238, 255)', 'rgb(229, 238, 255)', 'rgb(229, 238, 255)' ], \n",
    "                         ['#f2f2f2', '#f2f2f2', '#f2f2f2', 'white', 'white', 'white', 'white', 'white', 'white', '#f2f2f2', 'white', 'white', 'white', 'white', 'white', 'white', '#f2f2f2', 'white', 'white', 'white', 'white', 'white', 'white','#f2f2f2', 'white', 'white', 'white', 'white', 'white', 'white','#f2f2f2', 'white', 'white', 'white', 'white', 'white', 'white', ], \n",
    "                         ['#f2f2f2', '#f2f2f2', '#f2f2f2', 'white', 'white', 'white', 'white', 'white', 'white', '#f2f2f2', 'white', 'white', 'white', 'white', 'white', 'white', '#f2f2f2', 'white', 'white', 'white', 'white', 'white', 'white','#f2f2f2', 'white', 'white', 'white', 'white', 'white', 'white','#f2f2f2', 'white', 'white', 'white', 'white', 'white', 'white', ], \n",
    "                         ['#f2f2f2', '#f2f2f2', '#f2f2f2', 'white', 'white', 'white', 'white', 'white', 'white', '#f2f2f2', 'white', 'white', 'white', 'white', 'white', 'white', '#f2f2f2', 'white', 'white', 'white', 'white', 'white', 'white','#f2f2f2', 'white', 'white', 'white', 'white', 'white', 'white','#f2f2f2', 'white', 'white', 'white', 'white', 'white', 'white', ]\n",
    "                        ]),\n",
    "        align=['left', 'center'],\n",
    "        font_size=12,\n",
    "        height=30)\n",
    "        )\n",
    "    ])\n",
    "    return fig.show()\n",
    "\n",
    "# визуализация распределения кликов по элементам шапки \n",
    "def bar_gt_b(bar):\n",
    "    b1 = bar[bar['f0_']=='before'].groupby('eventLabel')['open_count'].sum().reset_index()\n",
    "    b2 = bar[bar['f0_']=='after'].groupby('eventLabel')['open_count'].sum().reset_index()\n",
    "    \n",
    "    \n",
    "    pyplt=py.offline.plot\n",
    "    labels=b1['eventLabel']\n",
    "    values=b1['open_count']\n",
    "    trace=[go.Pie(\n",
    "        labels=labels,\n",
    "        values=values,\n",
    "        hole=0.7,   # Размер заготовки центра кольца управления\n",
    "        hoverinfo='label+percent'   \n",
    "    )]\n",
    "    layout=go.Layout(\n",
    "        title='before. Клики по элементам шапки'\n",
    "    )\n",
    "    fig=go.Figure(data=trace,layout=layout)\n",
    "    return fig.show()\n",
    "\n",
    "def bar_gt_a(bar):\n",
    "    b1 = bar[bar['f0_']=='before'].groupby('eventLabel')['open_count'].sum().reset_index()\n",
    "    b2 = bar[bar['f0_']=='after'].groupby('eventLabel')['open_count'].sum().reset_index()\n",
    "    \n",
    "    \n",
    "    pyplt=py.offline.plot\n",
    "    labels=b2['eventLabel']\n",
    "    values=b2['open_count']\n",
    "    trace=[go.Pie(\n",
    "        labels=labels,\n",
    "        values=values,\n",
    "        hole=0.7,   # Размер заготовки центра кольца управления\n",
    "        hoverinfo='label+percent'   \n",
    "    )]\n",
    "    layout=go.Layout(\n",
    "        title='after. Клики по элементам шапки'\n",
    "    )\n",
    "    fig=go.Figure(data=trace,layout=layout)\n",
    "    return fig.show()\n",
    "    "
   ]
  },
  {
   "cell_type": "code",
   "execution_count": 10,
   "id": "f255db90",
   "metadata": {},
   "outputs": [],
   "source": [
    "# создание таблиц с помощью sql запроса \n",
    "ct = categ_sql()\n",
    "bar = bar_sql()\n",
    "ses = sessions_sql()\n",
    "reg = rejections_sql()\n"
   ]
  },
  {
   "cell_type": "markdown",
   "id": "13d3d547",
   "metadata": {},
   "source": [
    "# Вовлеченность в элементы хедера и каталога после редизайна             \n",
    "\n",
    "- <b>before</b>: 2021.11-17 - 2021.11.23\n",
    "- <b>after</b>: 2021.11.29 - 2021.12.04\n",
    "- <b>Срок внедрения</b>: 2021-11-24\n",
    "- <b>desktop </b>     \n"
   ]
  },
  {
   "cell_type": "markdown",
   "id": "e996bc8d",
   "metadata": {},
   "source": [
    "##  Каталог. Распределение кликов по категориям\n"
   ]
  },
  {
   "cell_type": "code",
   "execution_count": 11,
   "id": "3a836cc2",
   "metadata": {},
   "outputs": [
    {
     "data": {
      "application/vnd.plotly.v1+json": {
       "config": {
        "plotlyServerURL": "https://plot.ly"
       },
       "data": [
        {
         "branchvalues": "total",
         "domain": {
          "x": [
           0,
           1
          ],
          "y": [
           0,
           1
          ]
         },
         "hovertemplate": "labels=%{label}<br>count_sum=%{value}<br>parent=%{parent}<br>id=%{id}<extra></extra>",
         "ids": [
          "all/аксессуары/ на поддон",
          "all/сантехника/акриловые",
          "all/для дачи и бани/аксессуары для бани",
          "all/ унитазы, биде, писсуары и комплектующие/аксессуары для биде",
          "all/аксессуары для ванной комнаты/аксессуары для ванной комнаты",
          "all/ванны и комплектующие/аксессуары для ванны",
          "all/душевые кабины, ограждения и комплектующие/аксессуары для душа",
          "all/кухонные мойки и комплектующие/аксессуары для моек",
          "all/ унитазы, биде, писсуары и комплектующие/аксессуары для писсуаров",
          "all/унитазы, биде, писсуары и комплектующие/аксессуары для писсуаров",
          "all/ унитазы, биде, писсуары и комплектующие/аксессуары для унитазов",
          "all/унитазы, биде, писсуары и комплектующие/аксессуары для унитазов",
          "all/мебель для ванной и комплектующие/аксессуары на раковину",
          "all/раковины и комплектующие/аксессуары на раковину",
          "all/водоснабжение/баки и емкости",
          "all/отопление и климат/баки и емкости",
          "all/для дачи и бани/банный текстиль",
          "all/для дачи и бани/бассейны",
          "all/ унитазы, биде, писсуары и комплектующие/биде",
          "all/унитазы, биде, писсуары и комплектующие/биде",
          "all/для дачи и бани/биотуалеты",
          "all/аксессуары/боксы для салфеток",
          "all/для дачи и бани/бондарные изделия",
          "all/ванны и комплектующие/бордюры",
          "all/для общественных мест/бумажные полотенца",
          "all/для общественных мест/бытовая химия",
          "all/ванны и комплектующие/ванны",
          "all/сантехника/ванны",
          "all/для дачи и бани/ведра",
          "all/для дачи и бани/веники для бани и сауны",
          "all/аксессуары/вешалки для ванной комнаты",
          "all/аксессуары для ванной комнаты/вешалки для ванной комнаты",
          "all/водонагреватели/водонагреватели",
          "all/душевые кабины, ограждения и комплектующие/водонагреватели",
          "all/отопление и климат/водонагреватели",
          "all/смесители, душ и комплектующие/все категории",
          "all/сантехника/встраиваемые",
          "all/смесители, душ и комплектующие/встраиваемые душевые комплекты",
          "all/ванны и комплектующие/встраиваемые душевые системы для ванны",
          "all/душевые кабины, ограждения и комплектующие/встраиваемые системы для&nbsp;душа",
          "all/отопление и климат/вытяжные вентиляторы",
          "all/мебель для ванной и комплектующие/гарнитуры для ванной комнаты",
          "all/ унитазы, биде, писсуары и комплектующие/гигиенические души",
          "all/смесители, душ и комплектующие/гигиенические души",
          "all/унитазы, биде, писсуары и комплектующие/гигиенические души",
          "all/для дачи и бани/гигрометры",
          "all/аксессуары/гладильные доски",
          "all/для дачи и бани/горшки и кашпо",
          "all/слив и канализация/гофры и отводы",
          "all/для дачи и бани/дачные души",
          "all/для дачи и бани/двери",
          "all/аксессуары/держатели для газет",
          "all/аксессуары/держатели для запасных рулонов",
          "all/аксессуары/держатели для туалетной бумаги",
          "all/аксессуары/держатели для фена",
          "all/аксессуары/держатели запасных рулонов",
          "all/аксессуары/держатели освежителя воздуха",
          "all/аксессуары/держатели туалетной бумаги",
          "all/для общественных мест/диспенсеры",
          "all/аксессуары/диспенсеры ватных дисков",
          "all/для общественных мест/для бумажных полотенец",
          "all/плитка и комплектующие/для ванной комнаты",
          "all/аксессуары/для ванны",
          "all/сантехника/для ванны с душем",
          "all/смесители, душ и комплектующие/для ванны с душем",
          "all/плитка и комплектующие/для гостиной",
          "all/аксессуары/для душа",
          "all/сантехника/для душа",
          "all/смесители, душ и комплектующие/для душа",
          "all/плитка и комплектующие/для кухни",
          "all/смесители, душ и комплектующие/для кухонной мойки",
          "all/для общественных мест/для мыла",
          "all/плитка и комплектующие/для общественных мест",
          "all/для общественных мест/для освежителей воздуха",
          "all/плитка и комплектующие/для пола",
          "all/аксессуары/для полотенец",
          "all/аксессуары/для раковины",
          "all/сантехника/для раковины",
          "all/смесители, душ и комплектующие/для раковины",
          "all/для дачи и бани/для сада и улицы",
          "all/для общественных мест/для салфеток",
          "all/плитка и комплектующие/для стен",
          "all/плитка и комплектующие/для стен и пола",
          "all/аксессуары/для туалета",
          "all/для общественных мест/для туалетной бумаги",
          "all/аксессуары/дозаторы",
          "all/слив и канализация/донные клапаны",
          "all/слив и канализация/донные клапаны для раковин",
          "all/ванны и комплектующие/душ настенного монтажа",
          "all/душевые кабины, ограждения и комплектующие/душ настенного монтажа",
          "all/душевые кабины, ограждения и комплектующие/душевые боксы",
          "all/смесители, душ и комплектующие/душевые гарнитуры",
          "all/душевые кабины, ограждения и комплектующие/душевые двери в нишу",
          "all/сантехника/душевые двери в нишу",
          "all/душевые кабины, ограждения и комплектующие/душевые кабины",
          "all/сантехника/душевые комплекты",
          "all/смесители, душ и комплектующие/душевые комплекты",
          "all/инженерная сантехника/душевые лотки",
          "all/слив и канализация/душевые лотки",
          "all/душевые кабины, ограждения и комплектующие/душевые перегородки",
          "all/душевые кабины, ограждения и комплектующие/душевые поддоны",
          "all/сантехника/душевые стойки",
          "all/смесители, душ и комплектующие/душевые стойки",
          "all/слив и канализация/душевые трапы",
          "all/сантехника/душевые углы",
          "all/душевые кабины, ограждения и комплектующие/душевые уголки",
          "all/отопление и климат/дымоходы",
          "all/аксессуары/ершики",
          "all/аксессуары для ванной комнаты/ершики",
          "all/для дачи и бани/запарники",
          "all/водоснабжение/запорная арматура",
          "all/плитка и комплектующие/затирки и крестики",
          "all/для дачи и бани/зеркала",
          "all/мебель для ванной и комплектующие/зеркала",
          "all/раковины и комплектующие/зеркала",
          "all/мебель для ванной и комплектующие/зеркала-шкафы",
          "all/слив и канализация/измельчители отходов",
          "all/кухонные мойки и комплектующие/измельчитель отходов",
          "all/для дачи и бани/измерительные приборы",
          "all/ унитазы, биде, писсуары и комплектующие/инсталляции для биде",
          "all/инсталляции, кнопки смыва и комплектующие/инсталляции для биде",
          "all/унитазы, биде, писсуары и комплектующие/инсталляции для биде",
          "all/ унитазы, биде, писсуары и комплектующие/инсталляции для писсуаров",
          "all/инсталляции, кнопки смыва и комплектующие/инсталляции для писсуаров",
          "all/унитазы, биде, писсуары и комплектующие/инсталляции для писсуаров",
          "all/инсталляции, кнопки смыва и комплектующие/инсталляции для раковин",
          "all/инсталляции, кнопки смыва и комплектующие/инсталляции для унитазов",
          "all/слив и канализация/инсталляции для унитазов",
          "all/ унитазы, биде, писсуары и комплектующие/инсталляции и кнопки смыва",
          "all/слив и канализация/инсталляции и кнопки смыва",
          "all/унитазы, биде, писсуары и комплектующие/инсталляции и кнопки смыва",
          "all/отопление и климат/камины",
          "all/аксессуары/карнизы",
          "all/ванны и комплектующие/карнизы для ванной",
          "all/ванны и комплектующие/карнизы для шторок",
          "all/фильтры для воды и кулеры/картриджи к магистральным фильтрам",
          "all/фильтры для воды и кулеры/картриджи к фильтрам питьевой воды",
          "all/плитка и комплектующие/керамическая",
          "all/плитка и комплектующие/керамогранит",
          "all/плитка и комплектующие/клинкерная",
          "all/инсталляции, кнопки смыва и комплектующие/кнопки смыва",
          "all/аксессуары/коврики",
          "all/для дачи и бани/коврики",
          "all/для дачи и бани/ковши",
          "all/мебель для ванной и комплектующие/комоды",
          "all/мебель для ванной и комплектующие/комоды для ванной комнаты",
          "all/смесители, душ и комплектующие/комплект для ванны",
          "all/смесители, душ и комплектующие/комплект для душа",
          "all/для дачи и бани/компостеры",
          "all/отопление и климат/кондиционеры",
          "all/мебель для ванной и комплектующие/консоли с раковиной",
          "all/раковины и комплектующие/консоли с раковиной",
          "all/аксессуары/контейнеры",
          "all/аксессуары/корзины для белья",
          "all/аксессуары/косметические зеркала",
          "all/отопление и климат/котлы",
          "all/фильтры для воды и кулеры/краны для питьевой воды",
          "all/аксессуары/крючки для ванной комнаты",
          "all/фильтры для воды и кулеры/кулеры и пурифайеры",
          "all/кухонные мойки и комплектующие/кухонные мойки",
          "all/водоснабжение/магистральные фильтры",
          "all/фильтры для воды и кулеры/магистральные фильтры грубой очистки",
          "all/фильтры для воды и кулеры/магистральные фильтры тонкой очистки",
          "all/для дачи и бани/мебель для бани",
          "all/мебель для ванной комнаты/мебель для ванной комнаты",
          "all/мебель для ванной и комплектующие/мебель под стиральную машину",
          "all/раковины и комплектующие/мебель под стиральную машину",
          "all/мебель для ванной и комплектующие/мебель под стиральную машину с раковиной",
          "all/раковины и комплектующие/мебель под стиральную машину с раковиной",
          "all/мебель для ванной и комплектующие/мебельные гарнитуры",
          "all/инсталляции, кнопки смыва и комплектующие/механизмы смыва для &nbsp; писсуаров",
          "all/отопление и климат/мойки воздуха",
          "all/аксессуары/мусорные ведра",
          "all/аксессуары/мусорные ведра ",
          "all/аксессуары/мыльницы",
          "all/аксессуары/на пол",
          "all/аксессуары/наборы аксессуаров",
          "all/аксессуары/наборы аксессуаров для ванной",
          "all/аксессуары/наборы держателей на стойке",
          "all/для дачи и бани/наборы для бани",
          "all/сантехника/накладные",
          "all/инженерная сантехника/накопительные",
          "all/сантехника/накопительные (бойлеры)",
          "all/сантехника/напольные",
          "all/водоснабжение/насосы",
          "all/отопление и климат/насосы",
          "all/отопление и климат/осушители воздуха",
          "all/отопление и климат/очистители воздуха",
          "all/для общественных мест/очиститель для стекол",
          "all/ унитазы, биде, писсуары и комплектующие/перегородки для писсуаров",
          "all/унитазы, биде, писсуары и комплектующие/перегородки для писсуаров",
          "all/ унитазы, биде, писсуары и комплектующие/писсуары",
          "all/для общественных мест/писсуары",
          "all/унитазы, биде, писсуары и комплектующие/писсуары",
          "all/плитка и комплектующие/плитка",
          "all/плитка и комплектующие/плитка для ванной комнаты",
          "all/плитка и комплектующие/плитка-мозаика",
          "all/плитка и комплектующие/по назначению",
          "all/плитка и комплектующие/по помещению",
          "all/для дачи и бани/подголовники",
          "all/аксессуары/подставки",
          "all/для дачи и бани/полив и мойка",
          "all/для дачи и бани/полки",
          "all/аксессуары/полки для душа",
          "all/смесители, душ и комплектующие/полки для душа",
          "all/аксессуары/полки для полотенец",
          "all/аксессуары/полки под зеркало",
          "all/мебель для ванной и комплектующие/полки под зеркало",
          "all/для дачи и бани/полотенца",
          "all/аксессуары/полотенцедержатели",
          "all/ванны и комплектующие/полотенцесушители",
          "all/душевые кабины, ограждения и комплектующие/полотенцесушители",
          "all/отопление и климат/полотенцесушители",
          "all/полотенцесушители/полотенцесушители",
          "all/отопление и климат/порталы для камина",
          "all/аксессуары/поручни",
          "all/смесители, душ и комплектующие/поэлементно",
          "all/для общественных мест/протирочный материал",
          "all/отопление и климат/радиаторы",
          "all/отопление и климат/радиаторы и обогреватели",
          "all/мебель для ванной и комплектующие/раковина на стиральную машину",
          "all/раковины и комплектующие/раковина на стиральную машину",
          "all/мебель для ванной и комплектующие/раковина с пьедесталом",
          "all/раковины и комплектующие/раковина с пьедесталом",
          "all/раковины и комплектующие/раковины",
          "all/сантехника/раковины",
          "all/раковины и комплектующие/раковины с пьедесталом",
          "all/для общественных мест/расходные материалы",
          "all/водоснабжение/ревизионные люки",
          "all/плитка и комплектующие/ревизионные люки",
          "all/слив и канализация/ревизионныые люки",
          "all/мебель для ванной и комплектующие/рядом с раковиной",
          "all/раковины и комплектующие/рядом с раковиной",
          "all/мебель для ванной комнаты/с подсветкой",
          "all/для дачи и бани/сантехника для дачи",
          "all/водоснабжение/сантехнические шкафы",
          "all/плитка и комплектующие/сантехнические шкафы",
          "all/слив и канализация/сантехнические шкафы",
          "all/для дачи и бани/светильники",
          "all/мебель для ванной и комплектующие/светильники",
          "all/раковины и комплектующие/светильники",
          "all/для общественных мест/сенсорные смесители",
          "all/аксессуары/сиденья",
          "all/аксессуары/сиденья для душа",
          "all/душевые кабины, ограждения и комплектующие/сиденья для душа",
          "all/аксессуары/сиденья на ванну",
          "all/водоснабжение/системы защиты от протечек",
          "all/плитка и комплектующие/системы защиты от протечек",
          "all/слив и канализация/системы защиты от протечек",
          "all/слив и канализация/сифоны",
          "all/ унитазы, биде, писсуары и комплектующие/сифоны для биде",
          "all/слив и канализация/сифоны для биде",
          "all/слив и канализация/сифоны для душевых поддонов",
          "all/слив и канализация/сифоны для моек",
          "all/слив и канализация/сифоны для раковин",
          "all/аксессуары/скребки для стёкол",
          "all/ унитазы, биде, писсуары и комплектующие/слив для унитазов",
          "all/унитазы, биде, писсуары и комплектующие/слив для унитазов",
          "all/душевые кабины, ограждения и комплектующие/слив и канализация",
          "all/мебель для ванной и комплектующие/слив и канализация",
          "all/раковины и комплектующие/слив и канализация",
          "all/ванны и комплектующие/сливы-переливы",
          "all/слив и канализация/сливы-переливы",
          "all/слив и канализация/сливы-переливы для ванн",
          "all/ унитазы, биде, писсуары и комплектующие/смесители для биде",
          "all/унитазы, биде, писсуары и комплектующие/смесители для биде",
          "all/ванны и комплектующие/смесители для ванны",
          "all/смесители, душ и комплектующие/смесители для ванны с душем",
          "all/душевые кабины, ограждения и комплектующие/смесители для душа",
          "all/кухонные мойки и комплектующие/смесители для кухни",
          "all/смесители, душ и комплектующие/смесители для кухни",
          "all/раковины и комплектующие/смесители для раковин",
          "all/мебель для ванной и комплектующие/смесители для раковины",
          "all/смесители, душ и комплектующие/смесители для раковины",
          "all/инсталляции, кнопки смыва и комплектующие/смывные бачки скрытого монтажа",
          "all/для общественных мест/средство для металлических поверхностей",
          "all/аксессуары/стаканы",
          "all/сантехника/стальные",
          "all/аксессуары/стеклянные и пластиковые шторки",
          "all/аксессуары/стеллажи",
          "all/аксессуары/стирка",
          "all/мебель для ванной и комплектующие/столешница с раковиной",
          "all/раковины и комплектующие/столешница с раковиной",
          "all/мебель для ванной комнаты/столешницы с раковиной",
          "all/раковины и комплектующие/столешницы с раковиной",
          "all/аксессуары/столики для ванны",
          "all/для дачи и бани/столы для бани и сауны",
          "all/аксессуары/стремянки",
          "all/для дачи и бани/стулья и лавочки для бани и сауны",
          "all/аксессуары/сушилки для белья",
          "all/для общественных мест/сушилки для рук",
          "all/аксессуары/текстильные шторы",
          "all/отопление и климат/теплые полы",
          "all/плитка и комплектующие/теплые полы",
          "all/для дачи и бани/термометры",
          "all/для общественных мест/туалетная бумага",
          "all/мебель для ванной и комплектующие/тумбы",
          "all/мебель для ванной и комплектующие/тумбы в ванную комнату",
          "all/мебель для ванной и комплектующие/тумбы с раковиной",
          "all/мебель для ванной комнаты/тумбы с раковиной",
          "all/отопление и климат/увлажнители воздуха",
          "all/для дачи и бани/уличные сушилки для белья",
          "all/для общественных мест/универсальное моющее средство",
          "all/ унитазы, биде, писсуары и комплектующие/унитазы",
          "all/унитазы, биде, писсуары и комплектующие/унитазы",
          "all/для общественных мест/урны",
          "all/плитка и комплектующие/фартук для кухни",
          "all/для общественных мест/фены",
          "all/кухонные мойки и комплектующие/фильтры для воды и кулеры",
          "all/водоснабжение/фильтры под мойку",
          "all/фильтры для воды и кулеры/фильтры под мойку",
          "all/фильтры для воды и кулеры/фильтры рядом с мойкой",
          "all/аксессуары/хранение",
          "all/для дачи и бани/часы",
          "all/для общественных мест/чаши генуя",
          "all/сантехника/чугунные",
          "all/для дачи и бани/шапки",
          "all/мебель для ванной и комплектующие/шкафы",
          "all/мебель для ванной и комплектующие/шкафы-пеналы",
          "all/ванны и комплектующие/шторки на ванну",
          "all/ванны и комплектующие/шторки стеклянные",
          "all/ванны и комплектующие/шторки текстильные",
          "all/ванны и комплектующие/экраны для ванн",
          "all/аксессуары/ёршики",
          "all/ унитазы, биде, писсуары и комплектующие",
          "all/аксессуары",
          "all/аксессуары для ванной комнаты",
          "all/ванны и комплектующие",
          "all/водонагреватели",
          "all/водоснабжение",
          "all/для дачи и бани",
          "all/для общественных мест",
          "all/душевые кабины, ограждения и комплектующие",
          "all/инженерная сантехника",
          "all/инсталляции, кнопки смыва и комплектующие",
          "all/кухонные мойки и комплектующие",
          "all/мебель для ванной и комплектующие",
          "all/мебель для ванной комнаты",
          "all/отопление и климат",
          "all/плитка и комплектующие",
          "all/полотенцесушители",
          "all/раковины и комплектующие",
          "all/сантехника",
          "all/слив и канализация",
          "all/смесители, душ и комплектующие",
          "all/унитазы, биде, писсуары и комплектующие",
          "all/фильтры для воды и кулеры",
          "all"
         ],
         "labels": [
          " на поддон",
          "акриловые",
          "аксессуары для бани",
          "аксессуары для биде",
          "аксессуары для ванной комнаты",
          "аксессуары для ванны",
          "аксессуары для душа",
          "аксессуары для моек",
          "аксессуары для писсуаров",
          "аксессуары для писсуаров",
          "аксессуары для унитазов",
          "аксессуары для унитазов",
          "аксессуары на раковину",
          "аксессуары на раковину",
          "баки и емкости",
          "баки и емкости",
          "банный текстиль",
          "бассейны",
          "биде",
          "биде",
          "биотуалеты",
          "боксы для салфеток",
          "бондарные изделия",
          "бордюры",
          "бумажные полотенца",
          "бытовая химия",
          "ванны",
          "ванны",
          "ведра",
          "веники для бани и сауны",
          "вешалки для ванной комнаты",
          "вешалки для ванной комнаты",
          "водонагреватели",
          "водонагреватели",
          "водонагреватели",
          "все категории",
          "встраиваемые",
          "встраиваемые душевые комплекты",
          "встраиваемые душевые системы для ванны",
          "встраиваемые системы для&nbsp;душа",
          "вытяжные вентиляторы",
          "гарнитуры для ванной комнаты",
          "гигиенические души",
          "гигиенические души",
          "гигиенические души",
          "гигрометры",
          "гладильные доски",
          "горшки и кашпо",
          "гофры и отводы",
          "дачные души",
          "двери",
          "держатели для газет",
          "держатели для запасных рулонов",
          "держатели для туалетной бумаги",
          "держатели для фена",
          "держатели запасных рулонов",
          "держатели освежителя воздуха",
          "держатели туалетной бумаги",
          "диспенсеры",
          "диспенсеры ватных дисков",
          "для бумажных полотенец",
          "для ванной комнаты",
          "для ванны",
          "для ванны с душем",
          "для ванны с душем",
          "для гостиной",
          "для душа",
          "для душа",
          "для душа",
          "для кухни",
          "для кухонной мойки",
          "для мыла",
          "для общественных мест",
          "для освежителей воздуха",
          "для пола",
          "для полотенец",
          "для раковины",
          "для раковины",
          "для раковины",
          "для сада и улицы",
          "для салфеток",
          "для стен",
          "для стен и пола",
          "для туалета",
          "для туалетной бумаги",
          "дозаторы",
          "донные клапаны",
          "донные клапаны для раковин",
          "душ настенного монтажа",
          "душ настенного монтажа",
          "душевые боксы",
          "душевые гарнитуры",
          "душевые двери в нишу",
          "душевые двери в нишу",
          "душевые кабины",
          "душевые комплекты",
          "душевые комплекты",
          "душевые лотки",
          "душевые лотки",
          "душевые перегородки",
          "душевые поддоны",
          "душевые стойки",
          "душевые стойки",
          "душевые трапы",
          "душевые углы",
          "душевые уголки",
          "дымоходы",
          "ершики",
          "ершики",
          "запарники",
          "запорная арматура",
          "затирки и крестики",
          "зеркала",
          "зеркала",
          "зеркала",
          "зеркала-шкафы",
          "измельчители отходов",
          "измельчитель отходов",
          "измерительные приборы",
          "инсталляции для биде",
          "инсталляции для биде",
          "инсталляции для биде",
          "инсталляции для писсуаров",
          "инсталляции для писсуаров",
          "инсталляции для писсуаров",
          "инсталляции для раковин",
          "инсталляции для унитазов",
          "инсталляции для унитазов",
          "инсталляции и кнопки смыва",
          "инсталляции и кнопки смыва",
          "инсталляции и кнопки смыва",
          "камины",
          "карнизы",
          "карнизы для ванной",
          "карнизы для шторок",
          "картриджи к магистральным фильтрам",
          "картриджи к фильтрам питьевой воды",
          "керамическая",
          "керамогранит",
          "клинкерная",
          "кнопки смыва",
          "коврики",
          "коврики",
          "ковши",
          "комоды",
          "комоды для ванной комнаты",
          "комплект для ванны",
          "комплект для душа",
          "компостеры",
          "кондиционеры",
          "консоли с раковиной",
          "консоли с раковиной",
          "контейнеры",
          "корзины для белья",
          "косметические зеркала",
          "котлы",
          "краны для питьевой воды",
          "крючки для ванной комнаты",
          "кулеры и пурифайеры",
          "кухонные мойки",
          "магистральные фильтры",
          "магистральные фильтры грубой очистки",
          "магистральные фильтры тонкой очистки",
          "мебель для бани",
          "мебель для ванной комнаты",
          "мебель под стиральную машину",
          "мебель под стиральную машину",
          "мебель под стиральную машину с раковиной",
          "мебель под стиральную машину с раковиной",
          "мебельные гарнитуры",
          "механизмы смыва для &nbsp; писсуаров",
          "мойки воздуха",
          "мусорные ведра",
          "мусорные ведра ",
          "мыльницы",
          "на пол",
          "наборы аксессуаров",
          "наборы аксессуаров для ванной",
          "наборы держателей на стойке",
          "наборы для бани",
          "накладные",
          "накопительные",
          "накопительные (бойлеры)",
          "напольные",
          "насосы",
          "насосы",
          "осушители воздуха",
          "очистители воздуха",
          "очиститель для стекол",
          "перегородки для писсуаров",
          "перегородки для писсуаров",
          "писсуары",
          "писсуары",
          "писсуары",
          "плитка",
          "плитка для ванной комнаты",
          "плитка-мозаика",
          "по назначению",
          "по помещению",
          "подголовники",
          "подставки",
          "полив и мойка",
          "полки",
          "полки для душа",
          "полки для душа",
          "полки для полотенец",
          "полки под зеркало",
          "полки под зеркало",
          "полотенца",
          "полотенцедержатели",
          "полотенцесушители",
          "полотенцесушители",
          "полотенцесушители",
          "полотенцесушители",
          "порталы для камина",
          "поручни",
          "поэлементно",
          "протирочный материал",
          "радиаторы",
          "радиаторы и обогреватели",
          "раковина на стиральную машину",
          "раковина на стиральную машину",
          "раковина с пьедесталом",
          "раковина с пьедесталом",
          "раковины",
          "раковины",
          "раковины с пьедесталом",
          "расходные материалы",
          "ревизионные люки",
          "ревизионные люки",
          "ревизионныые люки",
          "рядом с раковиной",
          "рядом с раковиной",
          "с подсветкой",
          "сантехника для дачи",
          "сантехнические шкафы",
          "сантехнические шкафы",
          "сантехнические шкафы",
          "светильники",
          "светильники",
          "светильники",
          "сенсорные смесители",
          "сиденья",
          "сиденья для душа",
          "сиденья для душа",
          "сиденья на ванну",
          "системы защиты от протечек",
          "системы защиты от протечек",
          "системы защиты от протечек",
          "сифоны",
          "сифоны для биде",
          "сифоны для биде",
          "сифоны для душевых поддонов",
          "сифоны для моек",
          "сифоны для раковин",
          "скребки для стёкол",
          "слив для унитазов",
          "слив для унитазов",
          "слив и канализация",
          "слив и канализация",
          "слив и канализация",
          "сливы-переливы",
          "сливы-переливы",
          "сливы-переливы для ванн",
          "смесители для биде",
          "смесители для биде",
          "смесители для ванны",
          "смесители для ванны с душем",
          "смесители для душа",
          "смесители для кухни",
          "смесители для кухни",
          "смесители для раковин",
          "смесители для раковины",
          "смесители для раковины",
          "смывные бачки скрытого монтажа",
          "средство для металлических поверхностей",
          "стаканы",
          "стальные",
          "стеклянные и пластиковые шторки",
          "стеллажи",
          "стирка",
          "столешница с раковиной",
          "столешница с раковиной",
          "столешницы с раковиной",
          "столешницы с раковиной",
          "столики для ванны",
          "столы для бани и сауны",
          "стремянки",
          "стулья и лавочки для бани и сауны",
          "сушилки для белья",
          "сушилки для рук",
          "текстильные шторы",
          "теплые полы",
          "теплые полы",
          "термометры",
          "туалетная бумага",
          "тумбы",
          "тумбы в ванную комнату",
          "тумбы с раковиной",
          "тумбы с раковиной",
          "увлажнители воздуха",
          "уличные сушилки для белья",
          "универсальное моющее средство",
          "унитазы",
          "унитазы",
          "урны",
          "фартук для кухни",
          "фены",
          "фильтры для воды и кулеры",
          "фильтры под мойку",
          "фильтры под мойку",
          "фильтры рядом с мойкой",
          "хранение",
          "часы",
          "чаши генуя",
          "чугунные",
          "шапки",
          "шкафы",
          "шкафы-пеналы",
          "шторки на ванну",
          "шторки стеклянные",
          "шторки текстильные",
          "экраны для ванн",
          "ёршики",
          " унитазы, биде, писсуары и комплектующие",
          "аксессуары",
          "аксессуары для ванной комнаты",
          "ванны и комплектующие",
          "водонагреватели",
          "водоснабжение",
          "для дачи и бани",
          "для общественных мест",
          "душевые кабины, ограждения и комплектующие",
          "инженерная сантехника",
          "инсталляции, кнопки смыва и комплектующие",
          "кухонные мойки и комплектующие",
          "мебель для ванной и комплектующие",
          "мебель для ванной комнаты",
          "отопление и климат",
          "плитка и комплектующие",
          "полотенцесушители",
          "раковины и комплектующие",
          "сантехника",
          "слив и канализация",
          "смесители, душ и комплектующие",
          "унитазы, биде, писсуары и комплектующие",
          "фильтры для воды и кулеры",
          "all"
         ],
         "name": "",
         "parents": [
          "all/аксессуары",
          "all/сантехника",
          "all/для дачи и бани",
          "all/ унитазы, биде, писсуары и комплектующие",
          "all/аксессуары для ванной комнаты",
          "all/ванны и комплектующие",
          "all/душевые кабины, ограждения и комплектующие",
          "all/кухонные мойки и комплектующие",
          "all/ унитазы, биде, писсуары и комплектующие",
          "all/унитазы, биде, писсуары и комплектующие",
          "all/ унитазы, биде, писсуары и комплектующие",
          "all/унитазы, биде, писсуары и комплектующие",
          "all/мебель для ванной и комплектующие",
          "all/раковины и комплектующие",
          "all/водоснабжение",
          "all/отопление и климат",
          "all/для дачи и бани",
          "all/для дачи и бани",
          "all/ унитазы, биде, писсуары и комплектующие",
          "all/унитазы, биде, писсуары и комплектующие",
          "all/для дачи и бани",
          "all/аксессуары",
          "all/для дачи и бани",
          "all/ванны и комплектующие",
          "all/для общественных мест",
          "all/для общественных мест",
          "all/ванны и комплектующие",
          "all/сантехника",
          "all/для дачи и бани",
          "all/для дачи и бани",
          "all/аксессуары",
          "all/аксессуары для ванной комнаты",
          "all/водонагреватели",
          "all/душевые кабины, ограждения и комплектующие",
          "all/отопление и климат",
          "all/смесители, душ и комплектующие",
          "all/сантехника",
          "all/смесители, душ и комплектующие",
          "all/ванны и комплектующие",
          "all/душевые кабины, ограждения и комплектующие",
          "all/отопление и климат",
          "all/мебель для ванной и комплектующие",
          "all/ унитазы, биде, писсуары и комплектующие",
          "all/смесители, душ и комплектующие",
          "all/унитазы, биде, писсуары и комплектующие",
          "all/для дачи и бани",
          "all/аксессуары",
          "all/для дачи и бани",
          "all/слив и канализация",
          "all/для дачи и бани",
          "all/для дачи и бани",
          "all/аксессуары",
          "all/аксессуары",
          "all/аксессуары",
          "all/аксессуары",
          "all/аксессуары",
          "all/аксессуары",
          "all/аксессуары",
          "all/для общественных мест",
          "all/аксессуары",
          "all/для общественных мест",
          "all/плитка и комплектующие",
          "all/аксессуары",
          "all/сантехника",
          "all/смесители, душ и комплектующие",
          "all/плитка и комплектующие",
          "all/аксессуары",
          "all/сантехника",
          "all/смесители, душ и комплектующие",
          "all/плитка и комплектующие",
          "all/смесители, душ и комплектующие",
          "all/для общественных мест",
          "all/плитка и комплектующие",
          "all/для общественных мест",
          "all/плитка и комплектующие",
          "all/аксессуары",
          "all/аксессуары",
          "all/сантехника",
          "all/смесители, душ и комплектующие",
          "all/для дачи и бани",
          "all/для общественных мест",
          "all/плитка и комплектующие",
          "all/плитка и комплектующие",
          "all/аксессуары",
          "all/для общественных мест",
          "all/аксессуары",
          "all/слив и канализация",
          "all/слив и канализация",
          "all/ванны и комплектующие",
          "all/душевые кабины, ограждения и комплектующие",
          "all/душевые кабины, ограждения и комплектующие",
          "all/смесители, душ и комплектующие",
          "all/душевые кабины, ограждения и комплектующие",
          "all/сантехника",
          "all/душевые кабины, ограждения и комплектующие",
          "all/сантехника",
          "all/смесители, душ и комплектующие",
          "all/инженерная сантехника",
          "all/слив и канализация",
          "all/душевые кабины, ограждения и комплектующие",
          "all/душевые кабины, ограждения и комплектующие",
          "all/сантехника",
          "all/смесители, душ и комплектующие",
          "all/слив и канализация",
          "all/сантехника",
          "all/душевые кабины, ограждения и комплектующие",
          "all/отопление и климат",
          "all/аксессуары",
          "all/аксессуары для ванной комнаты",
          "all/для дачи и бани",
          "all/водоснабжение",
          "all/плитка и комплектующие",
          "all/для дачи и бани",
          "all/мебель для ванной и комплектующие",
          "all/раковины и комплектующие",
          "all/мебель для ванной и комплектующие",
          "all/слив и канализация",
          "all/кухонные мойки и комплектующие",
          "all/для дачи и бани",
          "all/ унитазы, биде, писсуары и комплектующие",
          "all/инсталляции, кнопки смыва и комплектующие",
          "all/унитазы, биде, писсуары и комплектующие",
          "all/ унитазы, биде, писсуары и комплектующие",
          "all/инсталляции, кнопки смыва и комплектующие",
          "all/унитазы, биде, писсуары и комплектующие",
          "all/инсталляции, кнопки смыва и комплектующие",
          "all/инсталляции, кнопки смыва и комплектующие",
          "all/слив и канализация",
          "all/ унитазы, биде, писсуары и комплектующие",
          "all/слив и канализация",
          "all/унитазы, биде, писсуары и комплектующие",
          "all/отопление и климат",
          "all/аксессуары",
          "all/ванны и комплектующие",
          "all/ванны и комплектующие",
          "all/фильтры для воды и кулеры",
          "all/фильтры для воды и кулеры",
          "all/плитка и комплектующие",
          "all/плитка и комплектующие",
          "all/плитка и комплектующие",
          "all/инсталляции, кнопки смыва и комплектующие",
          "all/аксессуары",
          "all/для дачи и бани",
          "all/для дачи и бани",
          "all/мебель для ванной и комплектующие",
          "all/мебель для ванной и комплектующие",
          "all/смесители, душ и комплектующие",
          "all/смесители, душ и комплектующие",
          "all/для дачи и бани",
          "all/отопление и климат",
          "all/мебель для ванной и комплектующие",
          "all/раковины и комплектующие",
          "all/аксессуары",
          "all/аксессуары",
          "all/аксессуары",
          "all/отопление и климат",
          "all/фильтры для воды и кулеры",
          "all/аксессуары",
          "all/фильтры для воды и кулеры",
          "all/кухонные мойки и комплектующие",
          "all/водоснабжение",
          "all/фильтры для воды и кулеры",
          "all/фильтры для воды и кулеры",
          "all/для дачи и бани",
          "all/мебель для ванной комнаты",
          "all/мебель для ванной и комплектующие",
          "all/раковины и комплектующие",
          "all/мебель для ванной и комплектующие",
          "all/раковины и комплектующие",
          "all/мебель для ванной и комплектующие",
          "all/инсталляции, кнопки смыва и комплектующие",
          "all/отопление и климат",
          "all/аксессуары",
          "all/аксессуары",
          "all/аксессуары",
          "all/аксессуары",
          "all/аксессуары",
          "all/аксессуары",
          "all/аксессуары",
          "all/для дачи и бани",
          "all/сантехника",
          "all/инженерная сантехника",
          "all/сантехника",
          "all/сантехника",
          "all/водоснабжение",
          "all/отопление и климат",
          "all/отопление и климат",
          "all/отопление и климат",
          "all/для общественных мест",
          "all/ унитазы, биде, писсуары и комплектующие",
          "all/унитазы, биде, писсуары и комплектующие",
          "all/ унитазы, биде, писсуары и комплектующие",
          "all/для общественных мест",
          "all/унитазы, биде, писсуары и комплектующие",
          "all/плитка и комплектующие",
          "all/плитка и комплектующие",
          "all/плитка и комплектующие",
          "all/плитка и комплектующие",
          "all/плитка и комплектующие",
          "all/для дачи и бани",
          "all/аксессуары",
          "all/для дачи и бани",
          "all/для дачи и бани",
          "all/аксессуары",
          "all/смесители, душ и комплектующие",
          "all/аксессуары",
          "all/аксессуары",
          "all/мебель для ванной и комплектующие",
          "all/для дачи и бани",
          "all/аксессуары",
          "all/ванны и комплектующие",
          "all/душевые кабины, ограждения и комплектующие",
          "all/отопление и климат",
          "all/полотенцесушители",
          "all/отопление и климат",
          "all/аксессуары",
          "all/смесители, душ и комплектующие",
          "all/для общественных мест",
          "all/отопление и климат",
          "all/отопление и климат",
          "all/мебель для ванной и комплектующие",
          "all/раковины и комплектующие",
          "all/мебель для ванной и комплектующие",
          "all/раковины и комплектующие",
          "all/раковины и комплектующие",
          "all/сантехника",
          "all/раковины и комплектующие",
          "all/для общественных мест",
          "all/водоснабжение",
          "all/плитка и комплектующие",
          "all/слив и канализация",
          "all/мебель для ванной и комплектующие",
          "all/раковины и комплектующие",
          "all/мебель для ванной комнаты",
          "all/для дачи и бани",
          "all/водоснабжение",
          "all/плитка и комплектующие",
          "all/слив и канализация",
          "all/для дачи и бани",
          "all/мебель для ванной и комплектующие",
          "all/раковины и комплектующие",
          "all/для общественных мест",
          "all/аксессуары",
          "all/аксессуары",
          "all/душевые кабины, ограждения и комплектующие",
          "all/аксессуары",
          "all/водоснабжение",
          "all/плитка и комплектующие",
          "all/слив и канализация",
          "all/слив и канализация",
          "all/ унитазы, биде, писсуары и комплектующие",
          "all/слив и канализация",
          "all/слив и канализация",
          "all/слив и канализация",
          "all/слив и канализация",
          "all/аксессуары",
          "all/ унитазы, биде, писсуары и комплектующие",
          "all/унитазы, биде, писсуары и комплектующие",
          "all/душевые кабины, ограждения и комплектующие",
          "all/мебель для ванной и комплектующие",
          "all/раковины и комплектующие",
          "all/ванны и комплектующие",
          "all/слив и канализация",
          "all/слив и канализация",
          "all/ унитазы, биде, писсуары и комплектующие",
          "all/унитазы, биде, писсуары и комплектующие",
          "all/ванны и комплектующие",
          "all/смесители, душ и комплектующие",
          "all/душевые кабины, ограждения и комплектующие",
          "all/кухонные мойки и комплектующие",
          "all/смесители, душ и комплектующие",
          "all/раковины и комплектующие",
          "all/мебель для ванной и комплектующие",
          "all/смесители, душ и комплектующие",
          "all/инсталляции, кнопки смыва и комплектующие",
          "all/для общественных мест",
          "all/аксессуары",
          "all/сантехника",
          "all/аксессуары",
          "all/аксессуары",
          "all/аксессуары",
          "all/мебель для ванной и комплектующие",
          "all/раковины и комплектующие",
          "all/мебель для ванной комнаты",
          "all/раковины и комплектующие",
          "all/аксессуары",
          "all/для дачи и бани",
          "all/аксессуары",
          "all/для дачи и бани",
          "all/аксессуары",
          "all/для общественных мест",
          "all/аксессуары",
          "all/отопление и климат",
          "all/плитка и комплектующие",
          "all/для дачи и бани",
          "all/для общественных мест",
          "all/мебель для ванной и комплектующие",
          "all/мебель для ванной и комплектующие",
          "all/мебель для ванной и комплектующие",
          "all/мебель для ванной комнаты",
          "all/отопление и климат",
          "all/для дачи и бани",
          "all/для общественных мест",
          "all/ унитазы, биде, писсуары и комплектующие",
          "all/унитазы, биде, писсуары и комплектующие",
          "all/для общественных мест",
          "all/плитка и комплектующие",
          "all/для общественных мест",
          "all/кухонные мойки и комплектующие",
          "all/водоснабжение",
          "all/фильтры для воды и кулеры",
          "all/фильтры для воды и кулеры",
          "all/аксессуары",
          "all/для дачи и бани",
          "all/для общественных мест",
          "all/сантехника",
          "all/для дачи и бани",
          "all/мебель для ванной и комплектующие",
          "all/мебель для ванной и комплектующие",
          "all/ванны и комплектующие",
          "all/ванны и комплектующие",
          "all/ванны и комплектующие",
          "all/ванны и комплектующие",
          "all/аксессуары",
          "all",
          "all",
          "all",
          "all",
          "all",
          "all",
          "all",
          "all",
          "all",
          "all",
          "all",
          "all",
          "all",
          "all",
          "all",
          "all",
          "all",
          "all",
          "all",
          "all",
          "all",
          "all",
          "all",
          ""
         ],
         "type": "treemap",
         "values": [
          13,
          1,
          4,
          4,
          1,
          75,
          45,
          121,
          10,
          2,
          74,
          13,
          87,
          21,
          5,
          2,
          3,
          14,
          133,
          24,
          2,
          8,
          14,
          47,
          3,
          8,
          4873,
          1,
          6,
          11,
          26,
          2,
          511,
          3,
          25,
          995,
          2,
          1,
          46,
          11,
          117,
          11,
          58,
          769,
          8,
          1,
          8,
          6,
          68,
          3,
          1,
          2,
          1,
          4,
          7,
          14,
          11,
          225,
          13,
          13,
          5,
          325,
          37,
          1,
          1146,
          4,
          135,
          1,
          270,
          29,
          1095,
          6,
          4,
          1,
          135,
          170,
          230,
          2,
          2476,
          12,
          1,
          110,
          165,
          240,
          3,
          120,
          61,
          4,
          46,
          16,
          198,
          426,
          837,
          1,
          669,
          1,
          723,
          1,
          177,
          651,
          605,
          2,
          1609,
          114,
          2,
          1443,
          3,
          50,
          1,
          5,
          218,
          19,
          1,
          1223,
          43,
          634,
          26,
          50,
          5,
          26,
          25,
          2,
          13,
          15,
          3,
          11,
          915,
          1,
          615,
          9,
          117,
          18,
          38,
          1,
          62,
          16,
          6,
          21,
          107,
          10,
          279,
          44,
          1,
          1,
          139,
          2,
          252,
          529,
          1,
          54,
          31,
          95,
          9,
          55,
          20,
          40,
          13,
          138,
          7,
          1625,
          25,
          51,
          35,
          22,
          5,
          3,
          1,
          256,
          145,
          2106,
          8,
          11,
          40,
          7,
          63,
          20,
          168,
          2,
          29,
          3,
          2,
          1,
          1,
          1,
          20,
          7,
          8,
          8,
          1,
          3,
          3,
          82,
          4,
          31,
          348,
          1,
          21,
          3,
          1,
          2,
          5,
          2,
          1,
          264,
          2,
          43,
          12,
          50,
          1,
          103,
          14,
          10,
          32,
          2570,
          4,
          17,
          178,
          1,
          1,
          504,
          37,
          193,
          13,
          150,
          4165,
          1,
          1,
          5,
          18,
          38,
          13,
          171,
          45,
          2,
          7,
          16,
          28,
          11,
          2,
          99,
          9,
          8,
          35,
          15,
          11,
          2,
          27,
          10,
          15,
          325,
          4,
          1,
          1,
          1,
          3,
          21,
          28,
          2,
          138,
          24,
          228,
          75,
          147,
          5,
          11,
          4,
          52,
          9,
          10,
          549,
          4,
          216,
          72,
          12,
          24,
          2,
          43,
          1,
          21,
          7,
          10,
          133,
          246,
          2,
          1,
          8,
          1,
          41,
          1,
          13,
          17,
          26,
          64,
          17,
          3,
          1,
          364,
          3,
          4375,
          9,
          3,
          1,
          2,
          3718,
          837,
          17,
          49,
          8,
          24,
          11,
          178,
          5,
          50,
          2,
          3,
          1,
          1,
          323,
          519,
          2,
          409,
          41,
          206,
          129,
          4779,
          2812,
          4,
          5949,
          511,
          340,
          140,
          109,
          4647,
          2,
          1277,
          2369,
          10675,
          18,
          901,
          1445,
          2570,
          5559,
          21,
          982,
          10496,
          1046,
          311,
          56963
         ]
        }
       ],
       "layout": {
        "legend": {
         "tracegroupgap": 0
        },
        "margin": {
         "b": 25,
         "l": 25,
         "r": 25,
         "t": 50
        },
        "template": {
         "data": {
          "bar": [
           {
            "error_x": {
             "color": "#2a3f5f"
            },
            "error_y": {
             "color": "#2a3f5f"
            },
            "marker": {
             "line": {
              "color": "#E5ECF6",
              "width": 0.5
             },
             "pattern": {
              "fillmode": "overlay",
              "size": 10,
              "solidity": 0.2
             }
            },
            "type": "bar"
           }
          ],
          "barpolar": [
           {
            "marker": {
             "line": {
              "color": "#E5ECF6",
              "width": 0.5
             },
             "pattern": {
              "fillmode": "overlay",
              "size": 10,
              "solidity": 0.2
             }
            },
            "type": "barpolar"
           }
          ],
          "carpet": [
           {
            "aaxis": {
             "endlinecolor": "#2a3f5f",
             "gridcolor": "white",
             "linecolor": "white",
             "minorgridcolor": "white",
             "startlinecolor": "#2a3f5f"
            },
            "baxis": {
             "endlinecolor": "#2a3f5f",
             "gridcolor": "white",
             "linecolor": "white",
             "minorgridcolor": "white",
             "startlinecolor": "#2a3f5f"
            },
            "type": "carpet"
           }
          ],
          "choropleth": [
           {
            "colorbar": {
             "outlinewidth": 0,
             "ticks": ""
            },
            "type": "choropleth"
           }
          ],
          "contour": [
           {
            "colorbar": {
             "outlinewidth": 0,
             "ticks": ""
            },
            "colorscale": [
             [
              0,
              "#0d0887"
             ],
             [
              0.1111111111111111,
              "#46039f"
             ],
             [
              0.2222222222222222,
              "#7201a8"
             ],
             [
              0.3333333333333333,
              "#9c179e"
             ],
             [
              0.4444444444444444,
              "#bd3786"
             ],
             [
              0.5555555555555556,
              "#d8576b"
             ],
             [
              0.6666666666666666,
              "#ed7953"
             ],
             [
              0.7777777777777778,
              "#fb9f3a"
             ],
             [
              0.8888888888888888,
              "#fdca26"
             ],
             [
              1,
              "#f0f921"
             ]
            ],
            "type": "contour"
           }
          ],
          "contourcarpet": [
           {
            "colorbar": {
             "outlinewidth": 0,
             "ticks": ""
            },
            "type": "contourcarpet"
           }
          ],
          "heatmap": [
           {
            "colorbar": {
             "outlinewidth": 0,
             "ticks": ""
            },
            "colorscale": [
             [
              0,
              "#0d0887"
             ],
             [
              0.1111111111111111,
              "#46039f"
             ],
             [
              0.2222222222222222,
              "#7201a8"
             ],
             [
              0.3333333333333333,
              "#9c179e"
             ],
             [
              0.4444444444444444,
              "#bd3786"
             ],
             [
              0.5555555555555556,
              "#d8576b"
             ],
             [
              0.6666666666666666,
              "#ed7953"
             ],
             [
              0.7777777777777778,
              "#fb9f3a"
             ],
             [
              0.8888888888888888,
              "#fdca26"
             ],
             [
              1,
              "#f0f921"
             ]
            ],
            "type": "heatmap"
           }
          ],
          "heatmapgl": [
           {
            "colorbar": {
             "outlinewidth": 0,
             "ticks": ""
            },
            "colorscale": [
             [
              0,
              "#0d0887"
             ],
             [
              0.1111111111111111,
              "#46039f"
             ],
             [
              0.2222222222222222,
              "#7201a8"
             ],
             [
              0.3333333333333333,
              "#9c179e"
             ],
             [
              0.4444444444444444,
              "#bd3786"
             ],
             [
              0.5555555555555556,
              "#d8576b"
             ],
             [
              0.6666666666666666,
              "#ed7953"
             ],
             [
              0.7777777777777778,
              "#fb9f3a"
             ],
             [
              0.8888888888888888,
              "#fdca26"
             ],
             [
              1,
              "#f0f921"
             ]
            ],
            "type": "heatmapgl"
           }
          ],
          "histogram": [
           {
            "marker": {
             "pattern": {
              "fillmode": "overlay",
              "size": 10,
              "solidity": 0.2
             }
            },
            "type": "histogram"
           }
          ],
          "histogram2d": [
           {
            "colorbar": {
             "outlinewidth": 0,
             "ticks": ""
            },
            "colorscale": [
             [
              0,
              "#0d0887"
             ],
             [
              0.1111111111111111,
              "#46039f"
             ],
             [
              0.2222222222222222,
              "#7201a8"
             ],
             [
              0.3333333333333333,
              "#9c179e"
             ],
             [
              0.4444444444444444,
              "#bd3786"
             ],
             [
              0.5555555555555556,
              "#d8576b"
             ],
             [
              0.6666666666666666,
              "#ed7953"
             ],
             [
              0.7777777777777778,
              "#fb9f3a"
             ],
             [
              0.8888888888888888,
              "#fdca26"
             ],
             [
              1,
              "#f0f921"
             ]
            ],
            "type": "histogram2d"
           }
          ],
          "histogram2dcontour": [
           {
            "colorbar": {
             "outlinewidth": 0,
             "ticks": ""
            },
            "colorscale": [
             [
              0,
              "#0d0887"
             ],
             [
              0.1111111111111111,
              "#46039f"
             ],
             [
              0.2222222222222222,
              "#7201a8"
             ],
             [
              0.3333333333333333,
              "#9c179e"
             ],
             [
              0.4444444444444444,
              "#bd3786"
             ],
             [
              0.5555555555555556,
              "#d8576b"
             ],
             [
              0.6666666666666666,
              "#ed7953"
             ],
             [
              0.7777777777777778,
              "#fb9f3a"
             ],
             [
              0.8888888888888888,
              "#fdca26"
             ],
             [
              1,
              "#f0f921"
             ]
            ],
            "type": "histogram2dcontour"
           }
          ],
          "mesh3d": [
           {
            "colorbar": {
             "outlinewidth": 0,
             "ticks": ""
            },
            "type": "mesh3d"
           }
          ],
          "parcoords": [
           {
            "line": {
             "colorbar": {
              "outlinewidth": 0,
              "ticks": ""
             }
            },
            "type": "parcoords"
           }
          ],
          "pie": [
           {
            "automargin": true,
            "type": "pie"
           }
          ],
          "scatter": [
           {
            "marker": {
             "colorbar": {
              "outlinewidth": 0,
              "ticks": ""
             }
            },
            "type": "scatter"
           }
          ],
          "scatter3d": [
           {
            "line": {
             "colorbar": {
              "outlinewidth": 0,
              "ticks": ""
             }
            },
            "marker": {
             "colorbar": {
              "outlinewidth": 0,
              "ticks": ""
             }
            },
            "type": "scatter3d"
           }
          ],
          "scattercarpet": [
           {
            "marker": {
             "colorbar": {
              "outlinewidth": 0,
              "ticks": ""
             }
            },
            "type": "scattercarpet"
           }
          ],
          "scattergeo": [
           {
            "marker": {
             "colorbar": {
              "outlinewidth": 0,
              "ticks": ""
             }
            },
            "type": "scattergeo"
           }
          ],
          "scattergl": [
           {
            "marker": {
             "colorbar": {
              "outlinewidth": 0,
              "ticks": ""
             }
            },
            "type": "scattergl"
           }
          ],
          "scattermapbox": [
           {
            "marker": {
             "colorbar": {
              "outlinewidth": 0,
              "ticks": ""
             }
            },
            "type": "scattermapbox"
           }
          ],
          "scatterpolar": [
           {
            "marker": {
             "colorbar": {
              "outlinewidth": 0,
              "ticks": ""
             }
            },
            "type": "scatterpolar"
           }
          ],
          "scatterpolargl": [
           {
            "marker": {
             "colorbar": {
              "outlinewidth": 0,
              "ticks": ""
             }
            },
            "type": "scatterpolargl"
           }
          ],
          "scatterternary": [
           {
            "marker": {
             "colorbar": {
              "outlinewidth": 0,
              "ticks": ""
             }
            },
            "type": "scatterternary"
           }
          ],
          "surface": [
           {
            "colorbar": {
             "outlinewidth": 0,
             "ticks": ""
            },
            "colorscale": [
             [
              0,
              "#0d0887"
             ],
             [
              0.1111111111111111,
              "#46039f"
             ],
             [
              0.2222222222222222,
              "#7201a8"
             ],
             [
              0.3333333333333333,
              "#9c179e"
             ],
             [
              0.4444444444444444,
              "#bd3786"
             ],
             [
              0.5555555555555556,
              "#d8576b"
             ],
             [
              0.6666666666666666,
              "#ed7953"
             ],
             [
              0.7777777777777778,
              "#fb9f3a"
             ],
             [
              0.8888888888888888,
              "#fdca26"
             ],
             [
              1,
              "#f0f921"
             ]
            ],
            "type": "surface"
           }
          ],
          "table": [
           {
            "cells": {
             "fill": {
              "color": "#EBF0F8"
             },
             "line": {
              "color": "white"
             }
            },
            "header": {
             "fill": {
              "color": "#C8D4E3"
             },
             "line": {
              "color": "white"
             }
            },
            "type": "table"
           }
          ]
         },
         "layout": {
          "annotationdefaults": {
           "arrowcolor": "#2a3f5f",
           "arrowhead": 0,
           "arrowwidth": 1
          },
          "autotypenumbers": "strict",
          "coloraxis": {
           "colorbar": {
            "outlinewidth": 0,
            "ticks": ""
           }
          },
          "colorscale": {
           "diverging": [
            [
             0,
             "#8e0152"
            ],
            [
             0.1,
             "#c51b7d"
            ],
            [
             0.2,
             "#de77ae"
            ],
            [
             0.3,
             "#f1b6da"
            ],
            [
             0.4,
             "#fde0ef"
            ],
            [
             0.5,
             "#f7f7f7"
            ],
            [
             0.6,
             "#e6f5d0"
            ],
            [
             0.7,
             "#b8e186"
            ],
            [
             0.8,
             "#7fbc41"
            ],
            [
             0.9,
             "#4d9221"
            ],
            [
             1,
             "#276419"
            ]
           ],
           "sequential": [
            [
             0,
             "#0d0887"
            ],
            [
             0.1111111111111111,
             "#46039f"
            ],
            [
             0.2222222222222222,
             "#7201a8"
            ],
            [
             0.3333333333333333,
             "#9c179e"
            ],
            [
             0.4444444444444444,
             "#bd3786"
            ],
            [
             0.5555555555555556,
             "#d8576b"
            ],
            [
             0.6666666666666666,
             "#ed7953"
            ],
            [
             0.7777777777777778,
             "#fb9f3a"
            ],
            [
             0.8888888888888888,
             "#fdca26"
            ],
            [
             1,
             "#f0f921"
            ]
           ],
           "sequentialminus": [
            [
             0,
             "#0d0887"
            ],
            [
             0.1111111111111111,
             "#46039f"
            ],
            [
             0.2222222222222222,
             "#7201a8"
            ],
            [
             0.3333333333333333,
             "#9c179e"
            ],
            [
             0.4444444444444444,
             "#bd3786"
            ],
            [
             0.5555555555555556,
             "#d8576b"
            ],
            [
             0.6666666666666666,
             "#ed7953"
            ],
            [
             0.7777777777777778,
             "#fb9f3a"
            ],
            [
             0.8888888888888888,
             "#fdca26"
            ],
            [
             1,
             "#f0f921"
            ]
           ]
          },
          "colorway": [
           "#636efa",
           "#EF553B",
           "#00cc96",
           "#ab63fa",
           "#FFA15A",
           "#19d3f3",
           "#FF6692",
           "#B6E880",
           "#FF97FF",
           "#FECB52"
          ],
          "font": {
           "color": "#2a3f5f"
          },
          "geo": {
           "bgcolor": "white",
           "lakecolor": "white",
           "landcolor": "#E5ECF6",
           "showlakes": true,
           "showland": true,
           "subunitcolor": "white"
          },
          "hoverlabel": {
           "align": "left"
          },
          "hovermode": "closest",
          "mapbox": {
           "style": "light"
          },
          "paper_bgcolor": "white",
          "plot_bgcolor": "#E5ECF6",
          "polar": {
           "angularaxis": {
            "gridcolor": "white",
            "linecolor": "white",
            "ticks": ""
           },
           "bgcolor": "#E5ECF6",
           "radialaxis": {
            "gridcolor": "white",
            "linecolor": "white",
            "ticks": ""
           }
          },
          "scene": {
           "xaxis": {
            "backgroundcolor": "#E5ECF6",
            "gridcolor": "white",
            "gridwidth": 2,
            "linecolor": "white",
            "showbackground": true,
            "ticks": "",
            "zerolinecolor": "white"
           },
           "yaxis": {
            "backgroundcolor": "#E5ECF6",
            "gridcolor": "white",
            "gridwidth": 2,
            "linecolor": "white",
            "showbackground": true,
            "ticks": "",
            "zerolinecolor": "white"
           },
           "zaxis": {
            "backgroundcolor": "#E5ECF6",
            "gridcolor": "white",
            "gridwidth": 2,
            "linecolor": "white",
            "showbackground": true,
            "ticks": "",
            "zerolinecolor": "white"
           }
          },
          "shapedefaults": {
           "line": {
            "color": "#2a3f5f"
           }
          },
          "ternary": {
           "aaxis": {
            "gridcolor": "white",
            "linecolor": "white",
            "ticks": ""
           },
           "baxis": {
            "gridcolor": "white",
            "linecolor": "white",
            "ticks": ""
           },
           "bgcolor": "#E5ECF6",
           "caxis": {
            "gridcolor": "white",
            "linecolor": "white",
            "ticks": ""
           }
          },
          "title": {
           "x": 0.05
          },
          "xaxis": {
           "automargin": true,
           "gridcolor": "white",
           "linecolor": "white",
           "ticks": "",
           "title": {
            "standoff": 15
           },
           "zerolinecolor": "white",
           "zerolinewidth": 2
          },
          "yaxis": {
           "automargin": true,
           "gridcolor": "white",
           "linecolor": "white",
           "ticks": "",
           "title": {
            "standoff": 15
           },
           "zerolinecolor": "white",
           "zerolinewidth": 2
          }
         }
        }
       }
      },
      "text/html": [
       "<div>                            <div id=\"dedee370-59aa-4753-8f05-10b97e6fe27c\" class=\"plotly-graph-div\" style=\"height:525px; width:100%;\"></div>            <script type=\"text/javascript\">                require([\"plotly\"], function(Plotly) {                    window.PLOTLYENV=window.PLOTLYENV || {};                                    if (document.getElementById(\"dedee370-59aa-4753-8f05-10b97e6fe27c\")) {                    Plotly.newPlot(                        \"dedee370-59aa-4753-8f05-10b97e6fe27c\",                        [{\"branchvalues\":\"total\",\"domain\":{\"x\":[0.0,1.0],\"y\":[0.0,1.0]},\"hovertemplate\":\"labels=%{label}<br>count_sum=%{value}<br>parent=%{parent}<br>id=%{id}<extra></extra>\",\"ids\":[\"all/\\u0430\\u043a\\u0441\\u0435\\u0441\\u0441\\u0443\\u0430\\u0440\\u044b/ \\u043d\\u0430 \\u043f\\u043e\\u0434\\u0434\\u043e\\u043d\",\"all/\\u0441\\u0430\\u043d\\u0442\\u0435\\u0445\\u043d\\u0438\\u043a\\u0430/\\u0430\\u043a\\u0440\\u0438\\u043b\\u043e\\u0432\\u044b\\u0435\",\"all/\\u0434\\u043b\\u044f \\u0434\\u0430\\u0447\\u0438 \\u0438 \\u0431\\u0430\\u043d\\u0438/\\u0430\\u043a\\u0441\\u0435\\u0441\\u0441\\u0443\\u0430\\u0440\\u044b \\u0434\\u043b\\u044f \\u0431\\u0430\\u043d\\u0438\",\"all/ \\u0443\\u043d\\u0438\\u0442\\u0430\\u0437\\u044b, \\u0431\\u0438\\u0434\\u0435, \\u043f\\u0438\\u0441\\u0441\\u0443\\u0430\\u0440\\u044b \\u0438 \\u043a\\u043e\\u043c\\u043f\\u043b\\u0435\\u043a\\u0442\\u0443\\u044e\\u0449\\u0438\\u0435/\\u0430\\u043a\\u0441\\u0435\\u0441\\u0441\\u0443\\u0430\\u0440\\u044b \\u0434\\u043b\\u044f \\u0431\\u0438\\u0434\\u0435\",\"all/\\u0430\\u043a\\u0441\\u0435\\u0441\\u0441\\u0443\\u0430\\u0440\\u044b \\u0434\\u043b\\u044f \\u0432\\u0430\\u043d\\u043d\\u043e\\u0439 \\u043a\\u043e\\u043c\\u043d\\u0430\\u0442\\u044b/\\u0430\\u043a\\u0441\\u0435\\u0441\\u0441\\u0443\\u0430\\u0440\\u044b \\u0434\\u043b\\u044f \\u0432\\u0430\\u043d\\u043d\\u043e\\u0439 \\u043a\\u043e\\u043c\\u043d\\u0430\\u0442\\u044b\",\"all/\\u0432\\u0430\\u043d\\u043d\\u044b \\u0438 \\u043a\\u043e\\u043c\\u043f\\u043b\\u0435\\u043a\\u0442\\u0443\\u044e\\u0449\\u0438\\u0435/\\u0430\\u043a\\u0441\\u0435\\u0441\\u0441\\u0443\\u0430\\u0440\\u044b \\u0434\\u043b\\u044f \\u0432\\u0430\\u043d\\u043d\\u044b\",\"all/\\u0434\\u0443\\u0448\\u0435\\u0432\\u044b\\u0435 \\u043a\\u0430\\u0431\\u0438\\u043d\\u044b, \\u043e\\u0433\\u0440\\u0430\\u0436\\u0434\\u0435\\u043d\\u0438\\u044f \\u0438 \\u043a\\u043e\\u043c\\u043f\\u043b\\u0435\\u043a\\u0442\\u0443\\u044e\\u0449\\u0438\\u0435/\\u0430\\u043a\\u0441\\u0435\\u0441\\u0441\\u0443\\u0430\\u0440\\u044b \\u0434\\u043b\\u044f \\u0434\\u0443\\u0448\\u0430\",\"all/\\u043a\\u0443\\u0445\\u043e\\u043d\\u043d\\u044b\\u0435 \\u043c\\u043e\\u0439\\u043a\\u0438 \\u0438 \\u043a\\u043e\\u043c\\u043f\\u043b\\u0435\\u043a\\u0442\\u0443\\u044e\\u0449\\u0438\\u0435/\\u0430\\u043a\\u0441\\u0435\\u0441\\u0441\\u0443\\u0430\\u0440\\u044b \\u0434\\u043b\\u044f \\u043c\\u043e\\u0435\\u043a\",\"all/ \\u0443\\u043d\\u0438\\u0442\\u0430\\u0437\\u044b, \\u0431\\u0438\\u0434\\u0435, \\u043f\\u0438\\u0441\\u0441\\u0443\\u0430\\u0440\\u044b \\u0438 \\u043a\\u043e\\u043c\\u043f\\u043b\\u0435\\u043a\\u0442\\u0443\\u044e\\u0449\\u0438\\u0435/\\u0430\\u043a\\u0441\\u0435\\u0441\\u0441\\u0443\\u0430\\u0440\\u044b \\u0434\\u043b\\u044f \\u043f\\u0438\\u0441\\u0441\\u0443\\u0430\\u0440\\u043e\\u0432\",\"all/\\u0443\\u043d\\u0438\\u0442\\u0430\\u0437\\u044b, \\u0431\\u0438\\u0434\\u0435, \\u043f\\u0438\\u0441\\u0441\\u0443\\u0430\\u0440\\u044b \\u0438 \\u043a\\u043e\\u043c\\u043f\\u043b\\u0435\\u043a\\u0442\\u0443\\u044e\\u0449\\u0438\\u0435/\\u0430\\u043a\\u0441\\u0435\\u0441\\u0441\\u0443\\u0430\\u0440\\u044b \\u0434\\u043b\\u044f \\u043f\\u0438\\u0441\\u0441\\u0443\\u0430\\u0440\\u043e\\u0432\",\"all/ \\u0443\\u043d\\u0438\\u0442\\u0430\\u0437\\u044b, \\u0431\\u0438\\u0434\\u0435, \\u043f\\u0438\\u0441\\u0441\\u0443\\u0430\\u0440\\u044b \\u0438 \\u043a\\u043e\\u043c\\u043f\\u043b\\u0435\\u043a\\u0442\\u0443\\u044e\\u0449\\u0438\\u0435/\\u0430\\u043a\\u0441\\u0435\\u0441\\u0441\\u0443\\u0430\\u0440\\u044b \\u0434\\u043b\\u044f \\u0443\\u043d\\u0438\\u0442\\u0430\\u0437\\u043e\\u0432\",\"all/\\u0443\\u043d\\u0438\\u0442\\u0430\\u0437\\u044b, \\u0431\\u0438\\u0434\\u0435, \\u043f\\u0438\\u0441\\u0441\\u0443\\u0430\\u0440\\u044b \\u0438 \\u043a\\u043e\\u043c\\u043f\\u043b\\u0435\\u043a\\u0442\\u0443\\u044e\\u0449\\u0438\\u0435/\\u0430\\u043a\\u0441\\u0435\\u0441\\u0441\\u0443\\u0430\\u0440\\u044b \\u0434\\u043b\\u044f \\u0443\\u043d\\u0438\\u0442\\u0430\\u0437\\u043e\\u0432\",\"all/\\u043c\\u0435\\u0431\\u0435\\u043b\\u044c \\u0434\\u043b\\u044f \\u0432\\u0430\\u043d\\u043d\\u043e\\u0439 \\u0438 \\u043a\\u043e\\u043c\\u043f\\u043b\\u0435\\u043a\\u0442\\u0443\\u044e\\u0449\\u0438\\u0435/\\u0430\\u043a\\u0441\\u0435\\u0441\\u0441\\u0443\\u0430\\u0440\\u044b \\u043d\\u0430 \\u0440\\u0430\\u043a\\u043e\\u0432\\u0438\\u043d\\u0443\",\"all/\\u0440\\u0430\\u043a\\u043e\\u0432\\u0438\\u043d\\u044b \\u0438 \\u043a\\u043e\\u043c\\u043f\\u043b\\u0435\\u043a\\u0442\\u0443\\u044e\\u0449\\u0438\\u0435/\\u0430\\u043a\\u0441\\u0435\\u0441\\u0441\\u0443\\u0430\\u0440\\u044b \\u043d\\u0430 \\u0440\\u0430\\u043a\\u043e\\u0432\\u0438\\u043d\\u0443\",\"all/\\u0432\\u043e\\u0434\\u043e\\u0441\\u043d\\u0430\\u0431\\u0436\\u0435\\u043d\\u0438\\u0435/\\u0431\\u0430\\u043a\\u0438 \\u0438 \\u0435\\u043c\\u043a\\u043e\\u0441\\u0442\\u0438\",\"all/\\u043e\\u0442\\u043e\\u043f\\u043b\\u0435\\u043d\\u0438\\u0435 \\u0438 \\u043a\\u043b\\u0438\\u043c\\u0430\\u0442/\\u0431\\u0430\\u043a\\u0438 \\u0438 \\u0435\\u043c\\u043a\\u043e\\u0441\\u0442\\u0438\",\"all/\\u0434\\u043b\\u044f \\u0434\\u0430\\u0447\\u0438 \\u0438 \\u0431\\u0430\\u043d\\u0438/\\u0431\\u0430\\u043d\\u043d\\u044b\\u0439 \\u0442\\u0435\\u043a\\u0441\\u0442\\u0438\\u043b\\u044c\",\"all/\\u0434\\u043b\\u044f \\u0434\\u0430\\u0447\\u0438 \\u0438 \\u0431\\u0430\\u043d\\u0438/\\u0431\\u0430\\u0441\\u0441\\u0435\\u0439\\u043d\\u044b\",\"all/ \\u0443\\u043d\\u0438\\u0442\\u0430\\u0437\\u044b, \\u0431\\u0438\\u0434\\u0435, \\u043f\\u0438\\u0441\\u0441\\u0443\\u0430\\u0440\\u044b \\u0438 \\u043a\\u043e\\u043c\\u043f\\u043b\\u0435\\u043a\\u0442\\u0443\\u044e\\u0449\\u0438\\u0435/\\u0431\\u0438\\u0434\\u0435\",\"all/\\u0443\\u043d\\u0438\\u0442\\u0430\\u0437\\u044b, \\u0431\\u0438\\u0434\\u0435, \\u043f\\u0438\\u0441\\u0441\\u0443\\u0430\\u0440\\u044b \\u0438 \\u043a\\u043e\\u043c\\u043f\\u043b\\u0435\\u043a\\u0442\\u0443\\u044e\\u0449\\u0438\\u0435/\\u0431\\u0438\\u0434\\u0435\",\"all/\\u0434\\u043b\\u044f \\u0434\\u0430\\u0447\\u0438 \\u0438 \\u0431\\u0430\\u043d\\u0438/\\u0431\\u0438\\u043e\\u0442\\u0443\\u0430\\u043b\\u0435\\u0442\\u044b\",\"all/\\u0430\\u043a\\u0441\\u0435\\u0441\\u0441\\u0443\\u0430\\u0440\\u044b/\\u0431\\u043e\\u043a\\u0441\\u044b \\u0434\\u043b\\u044f \\u0441\\u0430\\u043b\\u0444\\u0435\\u0442\\u043e\\u043a\",\"all/\\u0434\\u043b\\u044f \\u0434\\u0430\\u0447\\u0438 \\u0438 \\u0431\\u0430\\u043d\\u0438/\\u0431\\u043e\\u043d\\u0434\\u0430\\u0440\\u043d\\u044b\\u0435 \\u0438\\u0437\\u0434\\u0435\\u043b\\u0438\\u044f\",\"all/\\u0432\\u0430\\u043d\\u043d\\u044b \\u0438 \\u043a\\u043e\\u043c\\u043f\\u043b\\u0435\\u043a\\u0442\\u0443\\u044e\\u0449\\u0438\\u0435/\\u0431\\u043e\\u0440\\u0434\\u044e\\u0440\\u044b\",\"all/\\u0434\\u043b\\u044f \\u043e\\u0431\\u0449\\u0435\\u0441\\u0442\\u0432\\u0435\\u043d\\u043d\\u044b\\u0445 \\u043c\\u0435\\u0441\\u0442/\\u0431\\u0443\\u043c\\u0430\\u0436\\u043d\\u044b\\u0435 \\u043f\\u043e\\u043b\\u043e\\u0442\\u0435\\u043d\\u0446\\u0430\",\"all/\\u0434\\u043b\\u044f \\u043e\\u0431\\u0449\\u0435\\u0441\\u0442\\u0432\\u0435\\u043d\\u043d\\u044b\\u0445 \\u043c\\u0435\\u0441\\u0442/\\u0431\\u044b\\u0442\\u043e\\u0432\\u0430\\u044f \\u0445\\u0438\\u043c\\u0438\\u044f\",\"all/\\u0432\\u0430\\u043d\\u043d\\u044b \\u0438 \\u043a\\u043e\\u043c\\u043f\\u043b\\u0435\\u043a\\u0442\\u0443\\u044e\\u0449\\u0438\\u0435/\\u0432\\u0430\\u043d\\u043d\\u044b\",\"all/\\u0441\\u0430\\u043d\\u0442\\u0435\\u0445\\u043d\\u0438\\u043a\\u0430/\\u0432\\u0430\\u043d\\u043d\\u044b\",\"all/\\u0434\\u043b\\u044f \\u0434\\u0430\\u0447\\u0438 \\u0438 \\u0431\\u0430\\u043d\\u0438/\\u0432\\u0435\\u0434\\u0440\\u0430\",\"all/\\u0434\\u043b\\u044f \\u0434\\u0430\\u0447\\u0438 \\u0438 \\u0431\\u0430\\u043d\\u0438/\\u0432\\u0435\\u043d\\u0438\\u043a\\u0438 \\u0434\\u043b\\u044f \\u0431\\u0430\\u043d\\u0438 \\u0438 \\u0441\\u0430\\u0443\\u043d\\u044b\",\"all/\\u0430\\u043a\\u0441\\u0435\\u0441\\u0441\\u0443\\u0430\\u0440\\u044b/\\u0432\\u0435\\u0448\\u0430\\u043b\\u043a\\u0438 \\u0434\\u043b\\u044f \\u0432\\u0430\\u043d\\u043d\\u043e\\u0439 \\u043a\\u043e\\u043c\\u043d\\u0430\\u0442\\u044b\",\"all/\\u0430\\u043a\\u0441\\u0435\\u0441\\u0441\\u0443\\u0430\\u0440\\u044b \\u0434\\u043b\\u044f \\u0432\\u0430\\u043d\\u043d\\u043e\\u0439 \\u043a\\u043e\\u043c\\u043d\\u0430\\u0442\\u044b/\\u0432\\u0435\\u0448\\u0430\\u043b\\u043a\\u0438 \\u0434\\u043b\\u044f \\u0432\\u0430\\u043d\\u043d\\u043e\\u0439 \\u043a\\u043e\\u043c\\u043d\\u0430\\u0442\\u044b\",\"all/\\u0432\\u043e\\u0434\\u043e\\u043d\\u0430\\u0433\\u0440\\u0435\\u0432\\u0430\\u0442\\u0435\\u043b\\u0438/\\u0432\\u043e\\u0434\\u043e\\u043d\\u0430\\u0433\\u0440\\u0435\\u0432\\u0430\\u0442\\u0435\\u043b\\u0438\",\"all/\\u0434\\u0443\\u0448\\u0435\\u0432\\u044b\\u0435 \\u043a\\u0430\\u0431\\u0438\\u043d\\u044b, \\u043e\\u0433\\u0440\\u0430\\u0436\\u0434\\u0435\\u043d\\u0438\\u044f \\u0438 \\u043a\\u043e\\u043c\\u043f\\u043b\\u0435\\u043a\\u0442\\u0443\\u044e\\u0449\\u0438\\u0435/\\u0432\\u043e\\u0434\\u043e\\u043d\\u0430\\u0433\\u0440\\u0435\\u0432\\u0430\\u0442\\u0435\\u043b\\u0438\",\"all/\\u043e\\u0442\\u043e\\u043f\\u043b\\u0435\\u043d\\u0438\\u0435 \\u0438 \\u043a\\u043b\\u0438\\u043c\\u0430\\u0442/\\u0432\\u043e\\u0434\\u043e\\u043d\\u0430\\u0433\\u0440\\u0435\\u0432\\u0430\\u0442\\u0435\\u043b\\u0438\",\"all/\\u0441\\u043c\\u0435\\u0441\\u0438\\u0442\\u0435\\u043b\\u0438, \\u0434\\u0443\\u0448 \\u0438 \\u043a\\u043e\\u043c\\u043f\\u043b\\u0435\\u043a\\u0442\\u0443\\u044e\\u0449\\u0438\\u0435/\\u0432\\u0441\\u0435 \\u043a\\u0430\\u0442\\u0435\\u0433\\u043e\\u0440\\u0438\\u0438\",\"all/\\u0441\\u0430\\u043d\\u0442\\u0435\\u0445\\u043d\\u0438\\u043a\\u0430/\\u0432\\u0441\\u0442\\u0440\\u0430\\u0438\\u0432\\u0430\\u0435\\u043c\\u044b\\u0435\",\"all/\\u0441\\u043c\\u0435\\u0441\\u0438\\u0442\\u0435\\u043b\\u0438, \\u0434\\u0443\\u0448 \\u0438 \\u043a\\u043e\\u043c\\u043f\\u043b\\u0435\\u043a\\u0442\\u0443\\u044e\\u0449\\u0438\\u0435/\\u0432\\u0441\\u0442\\u0440\\u0430\\u0438\\u0432\\u0430\\u0435\\u043c\\u044b\\u0435 \\u0434\\u0443\\u0448\\u0435\\u0432\\u044b\\u0435 \\u043a\\u043e\\u043c\\u043f\\u043b\\u0435\\u043a\\u0442\\u044b\",\"all/\\u0432\\u0430\\u043d\\u043d\\u044b \\u0438 \\u043a\\u043e\\u043c\\u043f\\u043b\\u0435\\u043a\\u0442\\u0443\\u044e\\u0449\\u0438\\u0435/\\u0432\\u0441\\u0442\\u0440\\u0430\\u0438\\u0432\\u0430\\u0435\\u043c\\u044b\\u0435 \\u0434\\u0443\\u0448\\u0435\\u0432\\u044b\\u0435 \\u0441\\u0438\\u0441\\u0442\\u0435\\u043c\\u044b \\u0434\\u043b\\u044f \\u0432\\u0430\\u043d\\u043d\\u044b\",\"all/\\u0434\\u0443\\u0448\\u0435\\u0432\\u044b\\u0435 \\u043a\\u0430\\u0431\\u0438\\u043d\\u044b, \\u043e\\u0433\\u0440\\u0430\\u0436\\u0434\\u0435\\u043d\\u0438\\u044f \\u0438 \\u043a\\u043e\\u043c\\u043f\\u043b\\u0435\\u043a\\u0442\\u0443\\u044e\\u0449\\u0438\\u0435/\\u0432\\u0441\\u0442\\u0440\\u0430\\u0438\\u0432\\u0430\\u0435\\u043c\\u044b\\u0435 \\u0441\\u0438\\u0441\\u0442\\u0435\\u043c\\u044b \\u0434\\u043b\\u044f&nbsp;\\u0434\\u0443\\u0448\\u0430\",\"all/\\u043e\\u0442\\u043e\\u043f\\u043b\\u0435\\u043d\\u0438\\u0435 \\u0438 \\u043a\\u043b\\u0438\\u043c\\u0430\\u0442/\\u0432\\u044b\\u0442\\u044f\\u0436\\u043d\\u044b\\u0435 \\u0432\\u0435\\u043d\\u0442\\u0438\\u043b\\u044f\\u0442\\u043e\\u0440\\u044b\",\"all/\\u043c\\u0435\\u0431\\u0435\\u043b\\u044c \\u0434\\u043b\\u044f \\u0432\\u0430\\u043d\\u043d\\u043e\\u0439 \\u0438 \\u043a\\u043e\\u043c\\u043f\\u043b\\u0435\\u043a\\u0442\\u0443\\u044e\\u0449\\u0438\\u0435/\\u0433\\u0430\\u0440\\u043d\\u0438\\u0442\\u0443\\u0440\\u044b \\u0434\\u043b\\u044f \\u0432\\u0430\\u043d\\u043d\\u043e\\u0439 \\u043a\\u043e\\u043c\\u043d\\u0430\\u0442\\u044b\",\"all/ \\u0443\\u043d\\u0438\\u0442\\u0430\\u0437\\u044b, \\u0431\\u0438\\u0434\\u0435, \\u043f\\u0438\\u0441\\u0441\\u0443\\u0430\\u0440\\u044b \\u0438 \\u043a\\u043e\\u043c\\u043f\\u043b\\u0435\\u043a\\u0442\\u0443\\u044e\\u0449\\u0438\\u0435/\\u0433\\u0438\\u0433\\u0438\\u0435\\u043d\\u0438\\u0447\\u0435\\u0441\\u043a\\u0438\\u0435 \\u0434\\u0443\\u0448\\u0438\",\"all/\\u0441\\u043c\\u0435\\u0441\\u0438\\u0442\\u0435\\u043b\\u0438, \\u0434\\u0443\\u0448 \\u0438 \\u043a\\u043e\\u043c\\u043f\\u043b\\u0435\\u043a\\u0442\\u0443\\u044e\\u0449\\u0438\\u0435/\\u0433\\u0438\\u0433\\u0438\\u0435\\u043d\\u0438\\u0447\\u0435\\u0441\\u043a\\u0438\\u0435 \\u0434\\u0443\\u0448\\u0438\",\"all/\\u0443\\u043d\\u0438\\u0442\\u0430\\u0437\\u044b, \\u0431\\u0438\\u0434\\u0435, \\u043f\\u0438\\u0441\\u0441\\u0443\\u0430\\u0440\\u044b \\u0438 \\u043a\\u043e\\u043c\\u043f\\u043b\\u0435\\u043a\\u0442\\u0443\\u044e\\u0449\\u0438\\u0435/\\u0433\\u0438\\u0433\\u0438\\u0435\\u043d\\u0438\\u0447\\u0435\\u0441\\u043a\\u0438\\u0435 \\u0434\\u0443\\u0448\\u0438\",\"all/\\u0434\\u043b\\u044f \\u0434\\u0430\\u0447\\u0438 \\u0438 \\u0431\\u0430\\u043d\\u0438/\\u0433\\u0438\\u0433\\u0440\\u043e\\u043c\\u0435\\u0442\\u0440\\u044b\",\"all/\\u0430\\u043a\\u0441\\u0435\\u0441\\u0441\\u0443\\u0430\\u0440\\u044b/\\u0433\\u043b\\u0430\\u0434\\u0438\\u043b\\u044c\\u043d\\u044b\\u0435 \\u0434\\u043e\\u0441\\u043a\\u0438\",\"all/\\u0434\\u043b\\u044f \\u0434\\u0430\\u0447\\u0438 \\u0438 \\u0431\\u0430\\u043d\\u0438/\\u0433\\u043e\\u0440\\u0448\\u043a\\u0438 \\u0438 \\u043a\\u0430\\u0448\\u043f\\u043e\",\"all/\\u0441\\u043b\\u0438\\u0432 \\u0438 \\u043a\\u0430\\u043d\\u0430\\u043b\\u0438\\u0437\\u0430\\u0446\\u0438\\u044f/\\u0433\\u043e\\u0444\\u0440\\u044b \\u0438 \\u043e\\u0442\\u0432\\u043e\\u0434\\u044b\",\"all/\\u0434\\u043b\\u044f \\u0434\\u0430\\u0447\\u0438 \\u0438 \\u0431\\u0430\\u043d\\u0438/\\u0434\\u0430\\u0447\\u043d\\u044b\\u0435 \\u0434\\u0443\\u0448\\u0438\",\"all/\\u0434\\u043b\\u044f \\u0434\\u0430\\u0447\\u0438 \\u0438 \\u0431\\u0430\\u043d\\u0438/\\u0434\\u0432\\u0435\\u0440\\u0438\",\"all/\\u0430\\u043a\\u0441\\u0435\\u0441\\u0441\\u0443\\u0430\\u0440\\u044b/\\u0434\\u0435\\u0440\\u0436\\u0430\\u0442\\u0435\\u043b\\u0438 \\u0434\\u043b\\u044f \\u0433\\u0430\\u0437\\u0435\\u0442\",\"all/\\u0430\\u043a\\u0441\\u0435\\u0441\\u0441\\u0443\\u0430\\u0440\\u044b/\\u0434\\u0435\\u0440\\u0436\\u0430\\u0442\\u0435\\u043b\\u0438 \\u0434\\u043b\\u044f \\u0437\\u0430\\u043f\\u0430\\u0441\\u043d\\u044b\\u0445 \\u0440\\u0443\\u043b\\u043e\\u043d\\u043e\\u0432\",\"all/\\u0430\\u043a\\u0441\\u0435\\u0441\\u0441\\u0443\\u0430\\u0440\\u044b/\\u0434\\u0435\\u0440\\u0436\\u0430\\u0442\\u0435\\u043b\\u0438 \\u0434\\u043b\\u044f \\u0442\\u0443\\u0430\\u043b\\u0435\\u0442\\u043d\\u043e\\u0439 \\u0431\\u0443\\u043c\\u0430\\u0433\\u0438\",\"all/\\u0430\\u043a\\u0441\\u0435\\u0441\\u0441\\u0443\\u0430\\u0440\\u044b/\\u0434\\u0435\\u0440\\u0436\\u0430\\u0442\\u0435\\u043b\\u0438 \\u0434\\u043b\\u044f \\u0444\\u0435\\u043d\\u0430\",\"all/\\u0430\\u043a\\u0441\\u0435\\u0441\\u0441\\u0443\\u0430\\u0440\\u044b/\\u0434\\u0435\\u0440\\u0436\\u0430\\u0442\\u0435\\u043b\\u0438 \\u0437\\u0430\\u043f\\u0430\\u0441\\u043d\\u044b\\u0445 \\u0440\\u0443\\u043b\\u043e\\u043d\\u043e\\u0432\",\"all/\\u0430\\u043a\\u0441\\u0435\\u0441\\u0441\\u0443\\u0430\\u0440\\u044b/\\u0434\\u0435\\u0440\\u0436\\u0430\\u0442\\u0435\\u043b\\u0438 \\u043e\\u0441\\u0432\\u0435\\u0436\\u0438\\u0442\\u0435\\u043b\\u044f \\u0432\\u043e\\u0437\\u0434\\u0443\\u0445\\u0430\",\"all/\\u0430\\u043a\\u0441\\u0435\\u0441\\u0441\\u0443\\u0430\\u0440\\u044b/\\u0434\\u0435\\u0440\\u0436\\u0430\\u0442\\u0435\\u043b\\u0438 \\u0442\\u0443\\u0430\\u043b\\u0435\\u0442\\u043d\\u043e\\u0439 \\u0431\\u0443\\u043c\\u0430\\u0433\\u0438\",\"all/\\u0434\\u043b\\u044f \\u043e\\u0431\\u0449\\u0435\\u0441\\u0442\\u0432\\u0435\\u043d\\u043d\\u044b\\u0445 \\u043c\\u0435\\u0441\\u0442/\\u0434\\u0438\\u0441\\u043f\\u0435\\u043d\\u0441\\u0435\\u0440\\u044b\",\"all/\\u0430\\u043a\\u0441\\u0435\\u0441\\u0441\\u0443\\u0430\\u0440\\u044b/\\u0434\\u0438\\u0441\\u043f\\u0435\\u043d\\u0441\\u0435\\u0440\\u044b \\u0432\\u0430\\u0442\\u043d\\u044b\\u0445 \\u0434\\u0438\\u0441\\u043a\\u043e\\u0432\",\"all/\\u0434\\u043b\\u044f \\u043e\\u0431\\u0449\\u0435\\u0441\\u0442\\u0432\\u0435\\u043d\\u043d\\u044b\\u0445 \\u043c\\u0435\\u0441\\u0442/\\u0434\\u043b\\u044f \\u0431\\u0443\\u043c\\u0430\\u0436\\u043d\\u044b\\u0445 \\u043f\\u043e\\u043b\\u043e\\u0442\\u0435\\u043d\\u0435\\u0446\",\"all/\\u043f\\u043b\\u0438\\u0442\\u043a\\u0430 \\u0438 \\u043a\\u043e\\u043c\\u043f\\u043b\\u0435\\u043a\\u0442\\u0443\\u044e\\u0449\\u0438\\u0435/\\u0434\\u043b\\u044f \\u0432\\u0430\\u043d\\u043d\\u043e\\u0439 \\u043a\\u043e\\u043c\\u043d\\u0430\\u0442\\u044b\",\"all/\\u0430\\u043a\\u0441\\u0435\\u0441\\u0441\\u0443\\u0430\\u0440\\u044b/\\u0434\\u043b\\u044f \\u0432\\u0430\\u043d\\u043d\\u044b\",\"all/\\u0441\\u0430\\u043d\\u0442\\u0435\\u0445\\u043d\\u0438\\u043a\\u0430/\\u0434\\u043b\\u044f \\u0432\\u0430\\u043d\\u043d\\u044b \\u0441 \\u0434\\u0443\\u0448\\u0435\\u043c\",\"all/\\u0441\\u043c\\u0435\\u0441\\u0438\\u0442\\u0435\\u043b\\u0438, \\u0434\\u0443\\u0448 \\u0438 \\u043a\\u043e\\u043c\\u043f\\u043b\\u0435\\u043a\\u0442\\u0443\\u044e\\u0449\\u0438\\u0435/\\u0434\\u043b\\u044f \\u0432\\u0430\\u043d\\u043d\\u044b \\u0441 \\u0434\\u0443\\u0448\\u0435\\u043c\",\"all/\\u043f\\u043b\\u0438\\u0442\\u043a\\u0430 \\u0438 \\u043a\\u043e\\u043c\\u043f\\u043b\\u0435\\u043a\\u0442\\u0443\\u044e\\u0449\\u0438\\u0435/\\u0434\\u043b\\u044f \\u0433\\u043e\\u0441\\u0442\\u0438\\u043d\\u043e\\u0439\",\"all/\\u0430\\u043a\\u0441\\u0435\\u0441\\u0441\\u0443\\u0430\\u0440\\u044b/\\u0434\\u043b\\u044f \\u0434\\u0443\\u0448\\u0430\",\"all/\\u0441\\u0430\\u043d\\u0442\\u0435\\u0445\\u043d\\u0438\\u043a\\u0430/\\u0434\\u043b\\u044f \\u0434\\u0443\\u0448\\u0430\",\"all/\\u0441\\u043c\\u0435\\u0441\\u0438\\u0442\\u0435\\u043b\\u0438, \\u0434\\u0443\\u0448 \\u0438 \\u043a\\u043e\\u043c\\u043f\\u043b\\u0435\\u043a\\u0442\\u0443\\u044e\\u0449\\u0438\\u0435/\\u0434\\u043b\\u044f \\u0434\\u0443\\u0448\\u0430\",\"all/\\u043f\\u043b\\u0438\\u0442\\u043a\\u0430 \\u0438 \\u043a\\u043e\\u043c\\u043f\\u043b\\u0435\\u043a\\u0442\\u0443\\u044e\\u0449\\u0438\\u0435/\\u0434\\u043b\\u044f \\u043a\\u0443\\u0445\\u043d\\u0438\",\"all/\\u0441\\u043c\\u0435\\u0441\\u0438\\u0442\\u0435\\u043b\\u0438, \\u0434\\u0443\\u0448 \\u0438 \\u043a\\u043e\\u043c\\u043f\\u043b\\u0435\\u043a\\u0442\\u0443\\u044e\\u0449\\u0438\\u0435/\\u0434\\u043b\\u044f \\u043a\\u0443\\u0445\\u043e\\u043d\\u043d\\u043e\\u0439 \\u043c\\u043e\\u0439\\u043a\\u0438\",\"all/\\u0434\\u043b\\u044f \\u043e\\u0431\\u0449\\u0435\\u0441\\u0442\\u0432\\u0435\\u043d\\u043d\\u044b\\u0445 \\u043c\\u0435\\u0441\\u0442/\\u0434\\u043b\\u044f \\u043c\\u044b\\u043b\\u0430\",\"all/\\u043f\\u043b\\u0438\\u0442\\u043a\\u0430 \\u0438 \\u043a\\u043e\\u043c\\u043f\\u043b\\u0435\\u043a\\u0442\\u0443\\u044e\\u0449\\u0438\\u0435/\\u0434\\u043b\\u044f \\u043e\\u0431\\u0449\\u0435\\u0441\\u0442\\u0432\\u0435\\u043d\\u043d\\u044b\\u0445 \\u043c\\u0435\\u0441\\u0442\",\"all/\\u0434\\u043b\\u044f \\u043e\\u0431\\u0449\\u0435\\u0441\\u0442\\u0432\\u0435\\u043d\\u043d\\u044b\\u0445 \\u043c\\u0435\\u0441\\u0442/\\u0434\\u043b\\u044f \\u043e\\u0441\\u0432\\u0435\\u0436\\u0438\\u0442\\u0435\\u043b\\u0435\\u0439 \\u0432\\u043e\\u0437\\u0434\\u0443\\u0445\\u0430\",\"all/\\u043f\\u043b\\u0438\\u0442\\u043a\\u0430 \\u0438 \\u043a\\u043e\\u043c\\u043f\\u043b\\u0435\\u043a\\u0442\\u0443\\u044e\\u0449\\u0438\\u0435/\\u0434\\u043b\\u044f \\u043f\\u043e\\u043b\\u0430\",\"all/\\u0430\\u043a\\u0441\\u0435\\u0441\\u0441\\u0443\\u0430\\u0440\\u044b/\\u0434\\u043b\\u044f \\u043f\\u043e\\u043b\\u043e\\u0442\\u0435\\u043d\\u0435\\u0446\",\"all/\\u0430\\u043a\\u0441\\u0435\\u0441\\u0441\\u0443\\u0430\\u0440\\u044b/\\u0434\\u043b\\u044f \\u0440\\u0430\\u043a\\u043e\\u0432\\u0438\\u043d\\u044b\",\"all/\\u0441\\u0430\\u043d\\u0442\\u0435\\u0445\\u043d\\u0438\\u043a\\u0430/\\u0434\\u043b\\u044f \\u0440\\u0430\\u043a\\u043e\\u0432\\u0438\\u043d\\u044b\",\"all/\\u0441\\u043c\\u0435\\u0441\\u0438\\u0442\\u0435\\u043b\\u0438, \\u0434\\u0443\\u0448 \\u0438 \\u043a\\u043e\\u043c\\u043f\\u043b\\u0435\\u043a\\u0442\\u0443\\u044e\\u0449\\u0438\\u0435/\\u0434\\u043b\\u044f \\u0440\\u0430\\u043a\\u043e\\u0432\\u0438\\u043d\\u044b\",\"all/\\u0434\\u043b\\u044f \\u0434\\u0430\\u0447\\u0438 \\u0438 \\u0431\\u0430\\u043d\\u0438/\\u0434\\u043b\\u044f \\u0441\\u0430\\u0434\\u0430 \\u0438 \\u0443\\u043b\\u0438\\u0446\\u044b\",\"all/\\u0434\\u043b\\u044f \\u043e\\u0431\\u0449\\u0435\\u0441\\u0442\\u0432\\u0435\\u043d\\u043d\\u044b\\u0445 \\u043c\\u0435\\u0441\\u0442/\\u0434\\u043b\\u044f \\u0441\\u0430\\u043b\\u0444\\u0435\\u0442\\u043e\\u043a\",\"all/\\u043f\\u043b\\u0438\\u0442\\u043a\\u0430 \\u0438 \\u043a\\u043e\\u043c\\u043f\\u043b\\u0435\\u043a\\u0442\\u0443\\u044e\\u0449\\u0438\\u0435/\\u0434\\u043b\\u044f \\u0441\\u0442\\u0435\\u043d\",\"all/\\u043f\\u043b\\u0438\\u0442\\u043a\\u0430 \\u0438 \\u043a\\u043e\\u043c\\u043f\\u043b\\u0435\\u043a\\u0442\\u0443\\u044e\\u0449\\u0438\\u0435/\\u0434\\u043b\\u044f \\u0441\\u0442\\u0435\\u043d \\u0438 \\u043f\\u043e\\u043b\\u0430\",\"all/\\u0430\\u043a\\u0441\\u0435\\u0441\\u0441\\u0443\\u0430\\u0440\\u044b/\\u0434\\u043b\\u044f \\u0442\\u0443\\u0430\\u043b\\u0435\\u0442\\u0430\",\"all/\\u0434\\u043b\\u044f \\u043e\\u0431\\u0449\\u0435\\u0441\\u0442\\u0432\\u0435\\u043d\\u043d\\u044b\\u0445 \\u043c\\u0435\\u0441\\u0442/\\u0434\\u043b\\u044f \\u0442\\u0443\\u0430\\u043b\\u0435\\u0442\\u043d\\u043e\\u0439 \\u0431\\u0443\\u043c\\u0430\\u0433\\u0438\",\"all/\\u0430\\u043a\\u0441\\u0435\\u0441\\u0441\\u0443\\u0430\\u0440\\u044b/\\u0434\\u043e\\u0437\\u0430\\u0442\\u043e\\u0440\\u044b\",\"all/\\u0441\\u043b\\u0438\\u0432 \\u0438 \\u043a\\u0430\\u043d\\u0430\\u043b\\u0438\\u0437\\u0430\\u0446\\u0438\\u044f/\\u0434\\u043e\\u043d\\u043d\\u044b\\u0435 \\u043a\\u043b\\u0430\\u043f\\u0430\\u043d\\u044b\",\"all/\\u0441\\u043b\\u0438\\u0432 \\u0438 \\u043a\\u0430\\u043d\\u0430\\u043b\\u0438\\u0437\\u0430\\u0446\\u0438\\u044f/\\u0434\\u043e\\u043d\\u043d\\u044b\\u0435 \\u043a\\u043b\\u0430\\u043f\\u0430\\u043d\\u044b \\u0434\\u043b\\u044f \\u0440\\u0430\\u043a\\u043e\\u0432\\u0438\\u043d\",\"all/\\u0432\\u0430\\u043d\\u043d\\u044b \\u0438 \\u043a\\u043e\\u043c\\u043f\\u043b\\u0435\\u043a\\u0442\\u0443\\u044e\\u0449\\u0438\\u0435/\\u0434\\u0443\\u0448 \\u043d\\u0430\\u0441\\u0442\\u0435\\u043d\\u043d\\u043e\\u0433\\u043e \\u043c\\u043e\\u043d\\u0442\\u0430\\u0436\\u0430\",\"all/\\u0434\\u0443\\u0448\\u0435\\u0432\\u044b\\u0435 \\u043a\\u0430\\u0431\\u0438\\u043d\\u044b, \\u043e\\u0433\\u0440\\u0430\\u0436\\u0434\\u0435\\u043d\\u0438\\u044f \\u0438 \\u043a\\u043e\\u043c\\u043f\\u043b\\u0435\\u043a\\u0442\\u0443\\u044e\\u0449\\u0438\\u0435/\\u0434\\u0443\\u0448 \\u043d\\u0430\\u0441\\u0442\\u0435\\u043d\\u043d\\u043e\\u0433\\u043e \\u043c\\u043e\\u043d\\u0442\\u0430\\u0436\\u0430\",\"all/\\u0434\\u0443\\u0448\\u0435\\u0432\\u044b\\u0435 \\u043a\\u0430\\u0431\\u0438\\u043d\\u044b, \\u043e\\u0433\\u0440\\u0430\\u0436\\u0434\\u0435\\u043d\\u0438\\u044f \\u0438 \\u043a\\u043e\\u043c\\u043f\\u043b\\u0435\\u043a\\u0442\\u0443\\u044e\\u0449\\u0438\\u0435/\\u0434\\u0443\\u0448\\u0435\\u0432\\u044b\\u0435 \\u0431\\u043e\\u043a\\u0441\\u044b\",\"all/\\u0441\\u043c\\u0435\\u0441\\u0438\\u0442\\u0435\\u043b\\u0438, \\u0434\\u0443\\u0448 \\u0438 \\u043a\\u043e\\u043c\\u043f\\u043b\\u0435\\u043a\\u0442\\u0443\\u044e\\u0449\\u0438\\u0435/\\u0434\\u0443\\u0448\\u0435\\u0432\\u044b\\u0435 \\u0433\\u0430\\u0440\\u043d\\u0438\\u0442\\u0443\\u0440\\u044b\",\"all/\\u0434\\u0443\\u0448\\u0435\\u0432\\u044b\\u0435 \\u043a\\u0430\\u0431\\u0438\\u043d\\u044b, \\u043e\\u0433\\u0440\\u0430\\u0436\\u0434\\u0435\\u043d\\u0438\\u044f \\u0438 \\u043a\\u043e\\u043c\\u043f\\u043b\\u0435\\u043a\\u0442\\u0443\\u044e\\u0449\\u0438\\u0435/\\u0434\\u0443\\u0448\\u0435\\u0432\\u044b\\u0435 \\u0434\\u0432\\u0435\\u0440\\u0438 \\u0432 \\u043d\\u0438\\u0448\\u0443\",\"all/\\u0441\\u0430\\u043d\\u0442\\u0435\\u0445\\u043d\\u0438\\u043a\\u0430/\\u0434\\u0443\\u0448\\u0435\\u0432\\u044b\\u0435 \\u0434\\u0432\\u0435\\u0440\\u0438 \\u0432 \\u043d\\u0438\\u0448\\u0443\",\"all/\\u0434\\u0443\\u0448\\u0435\\u0432\\u044b\\u0435 \\u043a\\u0430\\u0431\\u0438\\u043d\\u044b, \\u043e\\u0433\\u0440\\u0430\\u0436\\u0434\\u0435\\u043d\\u0438\\u044f \\u0438 \\u043a\\u043e\\u043c\\u043f\\u043b\\u0435\\u043a\\u0442\\u0443\\u044e\\u0449\\u0438\\u0435/\\u0434\\u0443\\u0448\\u0435\\u0432\\u044b\\u0435 \\u043a\\u0430\\u0431\\u0438\\u043d\\u044b\",\"all/\\u0441\\u0430\\u043d\\u0442\\u0435\\u0445\\u043d\\u0438\\u043a\\u0430/\\u0434\\u0443\\u0448\\u0435\\u0432\\u044b\\u0435 \\u043a\\u043e\\u043c\\u043f\\u043b\\u0435\\u043a\\u0442\\u044b\",\"all/\\u0441\\u043c\\u0435\\u0441\\u0438\\u0442\\u0435\\u043b\\u0438, \\u0434\\u0443\\u0448 \\u0438 \\u043a\\u043e\\u043c\\u043f\\u043b\\u0435\\u043a\\u0442\\u0443\\u044e\\u0449\\u0438\\u0435/\\u0434\\u0443\\u0448\\u0435\\u0432\\u044b\\u0435 \\u043a\\u043e\\u043c\\u043f\\u043b\\u0435\\u043a\\u0442\\u044b\",\"all/\\u0438\\u043d\\u0436\\u0435\\u043d\\u0435\\u0440\\u043d\\u0430\\u044f \\u0441\\u0430\\u043d\\u0442\\u0435\\u0445\\u043d\\u0438\\u043a\\u0430/\\u0434\\u0443\\u0448\\u0435\\u0432\\u044b\\u0435 \\u043b\\u043e\\u0442\\u043a\\u0438\",\"all/\\u0441\\u043b\\u0438\\u0432 \\u0438 \\u043a\\u0430\\u043d\\u0430\\u043b\\u0438\\u0437\\u0430\\u0446\\u0438\\u044f/\\u0434\\u0443\\u0448\\u0435\\u0432\\u044b\\u0435 \\u043b\\u043e\\u0442\\u043a\\u0438\",\"all/\\u0434\\u0443\\u0448\\u0435\\u0432\\u044b\\u0435 \\u043a\\u0430\\u0431\\u0438\\u043d\\u044b, \\u043e\\u0433\\u0440\\u0430\\u0436\\u0434\\u0435\\u043d\\u0438\\u044f \\u0438 \\u043a\\u043e\\u043c\\u043f\\u043b\\u0435\\u043a\\u0442\\u0443\\u044e\\u0449\\u0438\\u0435/\\u0434\\u0443\\u0448\\u0435\\u0432\\u044b\\u0435 \\u043f\\u0435\\u0440\\u0435\\u0433\\u043e\\u0440\\u043e\\u0434\\u043a\\u0438\",\"all/\\u0434\\u0443\\u0448\\u0435\\u0432\\u044b\\u0435 \\u043a\\u0430\\u0431\\u0438\\u043d\\u044b, \\u043e\\u0433\\u0440\\u0430\\u0436\\u0434\\u0435\\u043d\\u0438\\u044f \\u0438 \\u043a\\u043e\\u043c\\u043f\\u043b\\u0435\\u043a\\u0442\\u0443\\u044e\\u0449\\u0438\\u0435/\\u0434\\u0443\\u0448\\u0435\\u0432\\u044b\\u0435 \\u043f\\u043e\\u0434\\u0434\\u043e\\u043d\\u044b\",\"all/\\u0441\\u0430\\u043d\\u0442\\u0435\\u0445\\u043d\\u0438\\u043a\\u0430/\\u0434\\u0443\\u0448\\u0435\\u0432\\u044b\\u0435 \\u0441\\u0442\\u043e\\u0439\\u043a\\u0438\",\"all/\\u0441\\u043c\\u0435\\u0441\\u0438\\u0442\\u0435\\u043b\\u0438, \\u0434\\u0443\\u0448 \\u0438 \\u043a\\u043e\\u043c\\u043f\\u043b\\u0435\\u043a\\u0442\\u0443\\u044e\\u0449\\u0438\\u0435/\\u0434\\u0443\\u0448\\u0435\\u0432\\u044b\\u0435 \\u0441\\u0442\\u043e\\u0439\\u043a\\u0438\",\"all/\\u0441\\u043b\\u0438\\u0432 \\u0438 \\u043a\\u0430\\u043d\\u0430\\u043b\\u0438\\u0437\\u0430\\u0446\\u0438\\u044f/\\u0434\\u0443\\u0448\\u0435\\u0432\\u044b\\u0435 \\u0442\\u0440\\u0430\\u043f\\u044b\",\"all/\\u0441\\u0430\\u043d\\u0442\\u0435\\u0445\\u043d\\u0438\\u043a\\u0430/\\u0434\\u0443\\u0448\\u0435\\u0432\\u044b\\u0435 \\u0443\\u0433\\u043b\\u044b\",\"all/\\u0434\\u0443\\u0448\\u0435\\u0432\\u044b\\u0435 \\u043a\\u0430\\u0431\\u0438\\u043d\\u044b, \\u043e\\u0433\\u0440\\u0430\\u0436\\u0434\\u0435\\u043d\\u0438\\u044f \\u0438 \\u043a\\u043e\\u043c\\u043f\\u043b\\u0435\\u043a\\u0442\\u0443\\u044e\\u0449\\u0438\\u0435/\\u0434\\u0443\\u0448\\u0435\\u0432\\u044b\\u0435 \\u0443\\u0433\\u043e\\u043b\\u043a\\u0438\",\"all/\\u043e\\u0442\\u043e\\u043f\\u043b\\u0435\\u043d\\u0438\\u0435 \\u0438 \\u043a\\u043b\\u0438\\u043c\\u0430\\u0442/\\u0434\\u044b\\u043c\\u043e\\u0445\\u043e\\u0434\\u044b\",\"all/\\u0430\\u043a\\u0441\\u0435\\u0441\\u0441\\u0443\\u0430\\u0440\\u044b/\\u0435\\u0440\\u0448\\u0438\\u043a\\u0438\",\"all/\\u0430\\u043a\\u0441\\u0435\\u0441\\u0441\\u0443\\u0430\\u0440\\u044b \\u0434\\u043b\\u044f \\u0432\\u0430\\u043d\\u043d\\u043e\\u0439 \\u043a\\u043e\\u043c\\u043d\\u0430\\u0442\\u044b/\\u0435\\u0440\\u0448\\u0438\\u043a\\u0438\",\"all/\\u0434\\u043b\\u044f \\u0434\\u0430\\u0447\\u0438 \\u0438 \\u0431\\u0430\\u043d\\u0438/\\u0437\\u0430\\u043f\\u0430\\u0440\\u043d\\u0438\\u043a\\u0438\",\"all/\\u0432\\u043e\\u0434\\u043e\\u0441\\u043d\\u0430\\u0431\\u0436\\u0435\\u043d\\u0438\\u0435/\\u0437\\u0430\\u043f\\u043e\\u0440\\u043d\\u0430\\u044f \\u0430\\u0440\\u043c\\u0430\\u0442\\u0443\\u0440\\u0430\",\"all/\\u043f\\u043b\\u0438\\u0442\\u043a\\u0430 \\u0438 \\u043a\\u043e\\u043c\\u043f\\u043b\\u0435\\u043a\\u0442\\u0443\\u044e\\u0449\\u0438\\u0435/\\u0437\\u0430\\u0442\\u0438\\u0440\\u043a\\u0438 \\u0438 \\u043a\\u0440\\u0435\\u0441\\u0442\\u0438\\u043a\\u0438\",\"all/\\u0434\\u043b\\u044f \\u0434\\u0430\\u0447\\u0438 \\u0438 \\u0431\\u0430\\u043d\\u0438/\\u0437\\u0435\\u0440\\u043a\\u0430\\u043b\\u0430\",\"all/\\u043c\\u0435\\u0431\\u0435\\u043b\\u044c \\u0434\\u043b\\u044f \\u0432\\u0430\\u043d\\u043d\\u043e\\u0439 \\u0438 \\u043a\\u043e\\u043c\\u043f\\u043b\\u0435\\u043a\\u0442\\u0443\\u044e\\u0449\\u0438\\u0435/\\u0437\\u0435\\u0440\\u043a\\u0430\\u043b\\u0430\",\"all/\\u0440\\u0430\\u043a\\u043e\\u0432\\u0438\\u043d\\u044b \\u0438 \\u043a\\u043e\\u043c\\u043f\\u043b\\u0435\\u043a\\u0442\\u0443\\u044e\\u0449\\u0438\\u0435/\\u0437\\u0435\\u0440\\u043a\\u0430\\u043b\\u0430\",\"all/\\u043c\\u0435\\u0431\\u0435\\u043b\\u044c \\u0434\\u043b\\u044f \\u0432\\u0430\\u043d\\u043d\\u043e\\u0439 \\u0438 \\u043a\\u043e\\u043c\\u043f\\u043b\\u0435\\u043a\\u0442\\u0443\\u044e\\u0449\\u0438\\u0435/\\u0437\\u0435\\u0440\\u043a\\u0430\\u043b\\u0430-\\u0448\\u043a\\u0430\\u0444\\u044b\",\"all/\\u0441\\u043b\\u0438\\u0432 \\u0438 \\u043a\\u0430\\u043d\\u0430\\u043b\\u0438\\u0437\\u0430\\u0446\\u0438\\u044f/\\u0438\\u0437\\u043c\\u0435\\u043b\\u044c\\u0447\\u0438\\u0442\\u0435\\u043b\\u0438 \\u043e\\u0442\\u0445\\u043e\\u0434\\u043e\\u0432\",\"all/\\u043a\\u0443\\u0445\\u043e\\u043d\\u043d\\u044b\\u0435 \\u043c\\u043e\\u0439\\u043a\\u0438 \\u0438 \\u043a\\u043e\\u043c\\u043f\\u043b\\u0435\\u043a\\u0442\\u0443\\u044e\\u0449\\u0438\\u0435/\\u0438\\u0437\\u043c\\u0435\\u043b\\u044c\\u0447\\u0438\\u0442\\u0435\\u043b\\u044c \\u043e\\u0442\\u0445\\u043e\\u0434\\u043e\\u0432\",\"all/\\u0434\\u043b\\u044f \\u0434\\u0430\\u0447\\u0438 \\u0438 \\u0431\\u0430\\u043d\\u0438/\\u0438\\u0437\\u043c\\u0435\\u0440\\u0438\\u0442\\u0435\\u043b\\u044c\\u043d\\u044b\\u0435 \\u043f\\u0440\\u0438\\u0431\\u043e\\u0440\\u044b\",\"all/ \\u0443\\u043d\\u0438\\u0442\\u0430\\u0437\\u044b, \\u0431\\u0438\\u0434\\u0435, \\u043f\\u0438\\u0441\\u0441\\u0443\\u0430\\u0440\\u044b \\u0438 \\u043a\\u043e\\u043c\\u043f\\u043b\\u0435\\u043a\\u0442\\u0443\\u044e\\u0449\\u0438\\u0435/\\u0438\\u043d\\u0441\\u0442\\u0430\\u043b\\u043b\\u044f\\u0446\\u0438\\u0438 \\u0434\\u043b\\u044f \\u0431\\u0438\\u0434\\u0435\",\"all/\\u0438\\u043d\\u0441\\u0442\\u0430\\u043b\\u043b\\u044f\\u0446\\u0438\\u0438, \\u043a\\u043d\\u043e\\u043f\\u043a\\u0438 \\u0441\\u043c\\u044b\\u0432\\u0430 \\u0438 \\u043a\\u043e\\u043c\\u043f\\u043b\\u0435\\u043a\\u0442\\u0443\\u044e\\u0449\\u0438\\u0435/\\u0438\\u043d\\u0441\\u0442\\u0430\\u043b\\u043b\\u044f\\u0446\\u0438\\u0438 \\u0434\\u043b\\u044f \\u0431\\u0438\\u0434\\u0435\",\"all/\\u0443\\u043d\\u0438\\u0442\\u0430\\u0437\\u044b, \\u0431\\u0438\\u0434\\u0435, \\u043f\\u0438\\u0441\\u0441\\u0443\\u0430\\u0440\\u044b \\u0438 \\u043a\\u043e\\u043c\\u043f\\u043b\\u0435\\u043a\\u0442\\u0443\\u044e\\u0449\\u0438\\u0435/\\u0438\\u043d\\u0441\\u0442\\u0430\\u043b\\u043b\\u044f\\u0446\\u0438\\u0438 \\u0434\\u043b\\u044f \\u0431\\u0438\\u0434\\u0435\",\"all/ \\u0443\\u043d\\u0438\\u0442\\u0430\\u0437\\u044b, \\u0431\\u0438\\u0434\\u0435, \\u043f\\u0438\\u0441\\u0441\\u0443\\u0430\\u0440\\u044b \\u0438 \\u043a\\u043e\\u043c\\u043f\\u043b\\u0435\\u043a\\u0442\\u0443\\u044e\\u0449\\u0438\\u0435/\\u0438\\u043d\\u0441\\u0442\\u0430\\u043b\\u043b\\u044f\\u0446\\u0438\\u0438 \\u0434\\u043b\\u044f \\u043f\\u0438\\u0441\\u0441\\u0443\\u0430\\u0440\\u043e\\u0432\",\"all/\\u0438\\u043d\\u0441\\u0442\\u0430\\u043b\\u043b\\u044f\\u0446\\u0438\\u0438, \\u043a\\u043d\\u043e\\u043f\\u043a\\u0438 \\u0441\\u043c\\u044b\\u0432\\u0430 \\u0438 \\u043a\\u043e\\u043c\\u043f\\u043b\\u0435\\u043a\\u0442\\u0443\\u044e\\u0449\\u0438\\u0435/\\u0438\\u043d\\u0441\\u0442\\u0430\\u043b\\u043b\\u044f\\u0446\\u0438\\u0438 \\u0434\\u043b\\u044f \\u043f\\u0438\\u0441\\u0441\\u0443\\u0430\\u0440\\u043e\\u0432\",\"all/\\u0443\\u043d\\u0438\\u0442\\u0430\\u0437\\u044b, \\u0431\\u0438\\u0434\\u0435, \\u043f\\u0438\\u0441\\u0441\\u0443\\u0430\\u0440\\u044b \\u0438 \\u043a\\u043e\\u043c\\u043f\\u043b\\u0435\\u043a\\u0442\\u0443\\u044e\\u0449\\u0438\\u0435/\\u0438\\u043d\\u0441\\u0442\\u0430\\u043b\\u043b\\u044f\\u0446\\u0438\\u0438 \\u0434\\u043b\\u044f \\u043f\\u0438\\u0441\\u0441\\u0443\\u0430\\u0440\\u043e\\u0432\",\"all/\\u0438\\u043d\\u0441\\u0442\\u0430\\u043b\\u043b\\u044f\\u0446\\u0438\\u0438, \\u043a\\u043d\\u043e\\u043f\\u043a\\u0438 \\u0441\\u043c\\u044b\\u0432\\u0430 \\u0438 \\u043a\\u043e\\u043c\\u043f\\u043b\\u0435\\u043a\\u0442\\u0443\\u044e\\u0449\\u0438\\u0435/\\u0438\\u043d\\u0441\\u0442\\u0430\\u043b\\u043b\\u044f\\u0446\\u0438\\u0438 \\u0434\\u043b\\u044f \\u0440\\u0430\\u043a\\u043e\\u0432\\u0438\\u043d\",\"all/\\u0438\\u043d\\u0441\\u0442\\u0430\\u043b\\u043b\\u044f\\u0446\\u0438\\u0438, \\u043a\\u043d\\u043e\\u043f\\u043a\\u0438 \\u0441\\u043c\\u044b\\u0432\\u0430 \\u0438 \\u043a\\u043e\\u043c\\u043f\\u043b\\u0435\\u043a\\u0442\\u0443\\u044e\\u0449\\u0438\\u0435/\\u0438\\u043d\\u0441\\u0442\\u0430\\u043b\\u043b\\u044f\\u0446\\u0438\\u0438 \\u0434\\u043b\\u044f \\u0443\\u043d\\u0438\\u0442\\u0430\\u0437\\u043e\\u0432\",\"all/\\u0441\\u043b\\u0438\\u0432 \\u0438 \\u043a\\u0430\\u043d\\u0430\\u043b\\u0438\\u0437\\u0430\\u0446\\u0438\\u044f/\\u0438\\u043d\\u0441\\u0442\\u0430\\u043b\\u043b\\u044f\\u0446\\u0438\\u0438 \\u0434\\u043b\\u044f \\u0443\\u043d\\u0438\\u0442\\u0430\\u0437\\u043e\\u0432\",\"all/ \\u0443\\u043d\\u0438\\u0442\\u0430\\u0437\\u044b, \\u0431\\u0438\\u0434\\u0435, \\u043f\\u0438\\u0441\\u0441\\u0443\\u0430\\u0440\\u044b \\u0438 \\u043a\\u043e\\u043c\\u043f\\u043b\\u0435\\u043a\\u0442\\u0443\\u044e\\u0449\\u0438\\u0435/\\u0438\\u043d\\u0441\\u0442\\u0430\\u043b\\u043b\\u044f\\u0446\\u0438\\u0438 \\u0438 \\u043a\\u043d\\u043e\\u043f\\u043a\\u0438 \\u0441\\u043c\\u044b\\u0432\\u0430\",\"all/\\u0441\\u043b\\u0438\\u0432 \\u0438 \\u043a\\u0430\\u043d\\u0430\\u043b\\u0438\\u0437\\u0430\\u0446\\u0438\\u044f/\\u0438\\u043d\\u0441\\u0442\\u0430\\u043b\\u043b\\u044f\\u0446\\u0438\\u0438 \\u0438 \\u043a\\u043d\\u043e\\u043f\\u043a\\u0438 \\u0441\\u043c\\u044b\\u0432\\u0430\",\"all/\\u0443\\u043d\\u0438\\u0442\\u0430\\u0437\\u044b, \\u0431\\u0438\\u0434\\u0435, \\u043f\\u0438\\u0441\\u0441\\u0443\\u0430\\u0440\\u044b \\u0438 \\u043a\\u043e\\u043c\\u043f\\u043b\\u0435\\u043a\\u0442\\u0443\\u044e\\u0449\\u0438\\u0435/\\u0438\\u043d\\u0441\\u0442\\u0430\\u043b\\u043b\\u044f\\u0446\\u0438\\u0438 \\u0438 \\u043a\\u043d\\u043e\\u043f\\u043a\\u0438 \\u0441\\u043c\\u044b\\u0432\\u0430\",\"all/\\u043e\\u0442\\u043e\\u043f\\u043b\\u0435\\u043d\\u0438\\u0435 \\u0438 \\u043a\\u043b\\u0438\\u043c\\u0430\\u0442/\\u043a\\u0430\\u043c\\u0438\\u043d\\u044b\",\"all/\\u0430\\u043a\\u0441\\u0435\\u0441\\u0441\\u0443\\u0430\\u0440\\u044b/\\u043a\\u0430\\u0440\\u043d\\u0438\\u0437\\u044b\",\"all/\\u0432\\u0430\\u043d\\u043d\\u044b \\u0438 \\u043a\\u043e\\u043c\\u043f\\u043b\\u0435\\u043a\\u0442\\u0443\\u044e\\u0449\\u0438\\u0435/\\u043a\\u0430\\u0440\\u043d\\u0438\\u0437\\u044b \\u0434\\u043b\\u044f \\u0432\\u0430\\u043d\\u043d\\u043e\\u0439\",\"all/\\u0432\\u0430\\u043d\\u043d\\u044b \\u0438 \\u043a\\u043e\\u043c\\u043f\\u043b\\u0435\\u043a\\u0442\\u0443\\u044e\\u0449\\u0438\\u0435/\\u043a\\u0430\\u0440\\u043d\\u0438\\u0437\\u044b \\u0434\\u043b\\u044f \\u0448\\u0442\\u043e\\u0440\\u043e\\u043a\",\"all/\\u0444\\u0438\\u043b\\u044c\\u0442\\u0440\\u044b \\u0434\\u043b\\u044f \\u0432\\u043e\\u0434\\u044b \\u0438 \\u043a\\u0443\\u043b\\u0435\\u0440\\u044b/\\u043a\\u0430\\u0440\\u0442\\u0440\\u0438\\u0434\\u0436\\u0438 \\u043a \\u043c\\u0430\\u0433\\u0438\\u0441\\u0442\\u0440\\u0430\\u043b\\u044c\\u043d\\u044b\\u043c \\u0444\\u0438\\u043b\\u044c\\u0442\\u0440\\u0430\\u043c\",\"all/\\u0444\\u0438\\u043b\\u044c\\u0442\\u0440\\u044b \\u0434\\u043b\\u044f \\u0432\\u043e\\u0434\\u044b \\u0438 \\u043a\\u0443\\u043b\\u0435\\u0440\\u044b/\\u043a\\u0430\\u0440\\u0442\\u0440\\u0438\\u0434\\u0436\\u0438 \\u043a \\u0444\\u0438\\u043b\\u044c\\u0442\\u0440\\u0430\\u043c \\u043f\\u0438\\u0442\\u044c\\u0435\\u0432\\u043e\\u0439 \\u0432\\u043e\\u0434\\u044b\",\"all/\\u043f\\u043b\\u0438\\u0442\\u043a\\u0430 \\u0438 \\u043a\\u043e\\u043c\\u043f\\u043b\\u0435\\u043a\\u0442\\u0443\\u044e\\u0449\\u0438\\u0435/\\u043a\\u0435\\u0440\\u0430\\u043c\\u0438\\u0447\\u0435\\u0441\\u043a\\u0430\\u044f\",\"all/\\u043f\\u043b\\u0438\\u0442\\u043a\\u0430 \\u0438 \\u043a\\u043e\\u043c\\u043f\\u043b\\u0435\\u043a\\u0442\\u0443\\u044e\\u0449\\u0438\\u0435/\\u043a\\u0435\\u0440\\u0430\\u043c\\u043e\\u0433\\u0440\\u0430\\u043d\\u0438\\u0442\",\"all/\\u043f\\u043b\\u0438\\u0442\\u043a\\u0430 \\u0438 \\u043a\\u043e\\u043c\\u043f\\u043b\\u0435\\u043a\\u0442\\u0443\\u044e\\u0449\\u0438\\u0435/\\u043a\\u043b\\u0438\\u043d\\u043a\\u0435\\u0440\\u043d\\u0430\\u044f\",\"all/\\u0438\\u043d\\u0441\\u0442\\u0430\\u043b\\u043b\\u044f\\u0446\\u0438\\u0438, \\u043a\\u043d\\u043e\\u043f\\u043a\\u0438 \\u0441\\u043c\\u044b\\u0432\\u0430 \\u0438 \\u043a\\u043e\\u043c\\u043f\\u043b\\u0435\\u043a\\u0442\\u0443\\u044e\\u0449\\u0438\\u0435/\\u043a\\u043d\\u043e\\u043f\\u043a\\u0438 \\u0441\\u043c\\u044b\\u0432\\u0430\",\"all/\\u0430\\u043a\\u0441\\u0435\\u0441\\u0441\\u0443\\u0430\\u0440\\u044b/\\u043a\\u043e\\u0432\\u0440\\u0438\\u043a\\u0438\",\"all/\\u0434\\u043b\\u044f \\u0434\\u0430\\u0447\\u0438 \\u0438 \\u0431\\u0430\\u043d\\u0438/\\u043a\\u043e\\u0432\\u0440\\u0438\\u043a\\u0438\",\"all/\\u0434\\u043b\\u044f \\u0434\\u0430\\u0447\\u0438 \\u0438 \\u0431\\u0430\\u043d\\u0438/\\u043a\\u043e\\u0432\\u0448\\u0438\",\"all/\\u043c\\u0435\\u0431\\u0435\\u043b\\u044c \\u0434\\u043b\\u044f \\u0432\\u0430\\u043d\\u043d\\u043e\\u0439 \\u0438 \\u043a\\u043e\\u043c\\u043f\\u043b\\u0435\\u043a\\u0442\\u0443\\u044e\\u0449\\u0438\\u0435/\\u043a\\u043e\\u043c\\u043e\\u0434\\u044b\",\"all/\\u043c\\u0435\\u0431\\u0435\\u043b\\u044c \\u0434\\u043b\\u044f \\u0432\\u0430\\u043d\\u043d\\u043e\\u0439 \\u0438 \\u043a\\u043e\\u043c\\u043f\\u043b\\u0435\\u043a\\u0442\\u0443\\u044e\\u0449\\u0438\\u0435/\\u043a\\u043e\\u043c\\u043e\\u0434\\u044b \\u0434\\u043b\\u044f \\u0432\\u0430\\u043d\\u043d\\u043e\\u0439 \\u043a\\u043e\\u043c\\u043d\\u0430\\u0442\\u044b\",\"all/\\u0441\\u043c\\u0435\\u0441\\u0438\\u0442\\u0435\\u043b\\u0438, \\u0434\\u0443\\u0448 \\u0438 \\u043a\\u043e\\u043c\\u043f\\u043b\\u0435\\u043a\\u0442\\u0443\\u044e\\u0449\\u0438\\u0435/\\u043a\\u043e\\u043c\\u043f\\u043b\\u0435\\u043a\\u0442 \\u0434\\u043b\\u044f \\u0432\\u0430\\u043d\\u043d\\u044b\",\"all/\\u0441\\u043c\\u0435\\u0441\\u0438\\u0442\\u0435\\u043b\\u0438, \\u0434\\u0443\\u0448 \\u0438 \\u043a\\u043e\\u043c\\u043f\\u043b\\u0435\\u043a\\u0442\\u0443\\u044e\\u0449\\u0438\\u0435/\\u043a\\u043e\\u043c\\u043f\\u043b\\u0435\\u043a\\u0442 \\u0434\\u043b\\u044f \\u0434\\u0443\\u0448\\u0430\",\"all/\\u0434\\u043b\\u044f \\u0434\\u0430\\u0447\\u0438 \\u0438 \\u0431\\u0430\\u043d\\u0438/\\u043a\\u043e\\u043c\\u043f\\u043e\\u0441\\u0442\\u0435\\u0440\\u044b\",\"all/\\u043e\\u0442\\u043e\\u043f\\u043b\\u0435\\u043d\\u0438\\u0435 \\u0438 \\u043a\\u043b\\u0438\\u043c\\u0430\\u0442/\\u043a\\u043e\\u043d\\u0434\\u0438\\u0446\\u0438\\u043e\\u043d\\u0435\\u0440\\u044b\",\"all/\\u043c\\u0435\\u0431\\u0435\\u043b\\u044c \\u0434\\u043b\\u044f \\u0432\\u0430\\u043d\\u043d\\u043e\\u0439 \\u0438 \\u043a\\u043e\\u043c\\u043f\\u043b\\u0435\\u043a\\u0442\\u0443\\u044e\\u0449\\u0438\\u0435/\\u043a\\u043e\\u043d\\u0441\\u043e\\u043b\\u0438 \\u0441 \\u0440\\u0430\\u043a\\u043e\\u0432\\u0438\\u043d\\u043e\\u0439\",\"all/\\u0440\\u0430\\u043a\\u043e\\u0432\\u0438\\u043d\\u044b \\u0438 \\u043a\\u043e\\u043c\\u043f\\u043b\\u0435\\u043a\\u0442\\u0443\\u044e\\u0449\\u0438\\u0435/\\u043a\\u043e\\u043d\\u0441\\u043e\\u043b\\u0438 \\u0441 \\u0440\\u0430\\u043a\\u043e\\u0432\\u0438\\u043d\\u043e\\u0439\",\"all/\\u0430\\u043a\\u0441\\u0435\\u0441\\u0441\\u0443\\u0430\\u0440\\u044b/\\u043a\\u043e\\u043d\\u0442\\u0435\\u0439\\u043d\\u0435\\u0440\\u044b\",\"all/\\u0430\\u043a\\u0441\\u0435\\u0441\\u0441\\u0443\\u0430\\u0440\\u044b/\\u043a\\u043e\\u0440\\u0437\\u0438\\u043d\\u044b \\u0434\\u043b\\u044f \\u0431\\u0435\\u043b\\u044c\\u044f\",\"all/\\u0430\\u043a\\u0441\\u0435\\u0441\\u0441\\u0443\\u0430\\u0440\\u044b/\\u043a\\u043e\\u0441\\u043c\\u0435\\u0442\\u0438\\u0447\\u0435\\u0441\\u043a\\u0438\\u0435 \\u0437\\u0435\\u0440\\u043a\\u0430\\u043b\\u0430\",\"all/\\u043e\\u0442\\u043e\\u043f\\u043b\\u0435\\u043d\\u0438\\u0435 \\u0438 \\u043a\\u043b\\u0438\\u043c\\u0430\\u0442/\\u043a\\u043e\\u0442\\u043b\\u044b\",\"all/\\u0444\\u0438\\u043b\\u044c\\u0442\\u0440\\u044b \\u0434\\u043b\\u044f \\u0432\\u043e\\u0434\\u044b \\u0438 \\u043a\\u0443\\u043b\\u0435\\u0440\\u044b/\\u043a\\u0440\\u0430\\u043d\\u044b \\u0434\\u043b\\u044f \\u043f\\u0438\\u0442\\u044c\\u0435\\u0432\\u043e\\u0439 \\u0432\\u043e\\u0434\\u044b\",\"all/\\u0430\\u043a\\u0441\\u0435\\u0441\\u0441\\u0443\\u0430\\u0440\\u044b/\\u043a\\u0440\\u044e\\u0447\\u043a\\u0438 \\u0434\\u043b\\u044f \\u0432\\u0430\\u043d\\u043d\\u043e\\u0439 \\u043a\\u043e\\u043c\\u043d\\u0430\\u0442\\u044b\",\"all/\\u0444\\u0438\\u043b\\u044c\\u0442\\u0440\\u044b \\u0434\\u043b\\u044f \\u0432\\u043e\\u0434\\u044b \\u0438 \\u043a\\u0443\\u043b\\u0435\\u0440\\u044b/\\u043a\\u0443\\u043b\\u0435\\u0440\\u044b \\u0438 \\u043f\\u0443\\u0440\\u0438\\u0444\\u0430\\u0439\\u0435\\u0440\\u044b\",\"all/\\u043a\\u0443\\u0445\\u043e\\u043d\\u043d\\u044b\\u0435 \\u043c\\u043e\\u0439\\u043a\\u0438 \\u0438 \\u043a\\u043e\\u043c\\u043f\\u043b\\u0435\\u043a\\u0442\\u0443\\u044e\\u0449\\u0438\\u0435/\\u043a\\u0443\\u0445\\u043e\\u043d\\u043d\\u044b\\u0435 \\u043c\\u043e\\u0439\\u043a\\u0438\",\"all/\\u0432\\u043e\\u0434\\u043e\\u0441\\u043d\\u0430\\u0431\\u0436\\u0435\\u043d\\u0438\\u0435/\\u043c\\u0430\\u0433\\u0438\\u0441\\u0442\\u0440\\u0430\\u043b\\u044c\\u043d\\u044b\\u0435 \\u0444\\u0438\\u043b\\u044c\\u0442\\u0440\\u044b\",\"all/\\u0444\\u0438\\u043b\\u044c\\u0442\\u0440\\u044b \\u0434\\u043b\\u044f \\u0432\\u043e\\u0434\\u044b \\u0438 \\u043a\\u0443\\u043b\\u0435\\u0440\\u044b/\\u043c\\u0430\\u0433\\u0438\\u0441\\u0442\\u0440\\u0430\\u043b\\u044c\\u043d\\u044b\\u0435 \\u0444\\u0438\\u043b\\u044c\\u0442\\u0440\\u044b \\u0433\\u0440\\u0443\\u0431\\u043e\\u0439 \\u043e\\u0447\\u0438\\u0441\\u0442\\u043a\\u0438\",\"all/\\u0444\\u0438\\u043b\\u044c\\u0442\\u0440\\u044b \\u0434\\u043b\\u044f \\u0432\\u043e\\u0434\\u044b \\u0438 \\u043a\\u0443\\u043b\\u0435\\u0440\\u044b/\\u043c\\u0430\\u0433\\u0438\\u0441\\u0442\\u0440\\u0430\\u043b\\u044c\\u043d\\u044b\\u0435 \\u0444\\u0438\\u043b\\u044c\\u0442\\u0440\\u044b \\u0442\\u043e\\u043d\\u043a\\u043e\\u0439 \\u043e\\u0447\\u0438\\u0441\\u0442\\u043a\\u0438\",\"all/\\u0434\\u043b\\u044f \\u0434\\u0430\\u0447\\u0438 \\u0438 \\u0431\\u0430\\u043d\\u0438/\\u043c\\u0435\\u0431\\u0435\\u043b\\u044c \\u0434\\u043b\\u044f \\u0431\\u0430\\u043d\\u0438\",\"all/\\u043c\\u0435\\u0431\\u0435\\u043b\\u044c \\u0434\\u043b\\u044f \\u0432\\u0430\\u043d\\u043d\\u043e\\u0439 \\u043a\\u043e\\u043c\\u043d\\u0430\\u0442\\u044b/\\u043c\\u0435\\u0431\\u0435\\u043b\\u044c \\u0434\\u043b\\u044f \\u0432\\u0430\\u043d\\u043d\\u043e\\u0439 \\u043a\\u043e\\u043c\\u043d\\u0430\\u0442\\u044b\",\"all/\\u043c\\u0435\\u0431\\u0435\\u043b\\u044c \\u0434\\u043b\\u044f \\u0432\\u0430\\u043d\\u043d\\u043e\\u0439 \\u0438 \\u043a\\u043e\\u043c\\u043f\\u043b\\u0435\\u043a\\u0442\\u0443\\u044e\\u0449\\u0438\\u0435/\\u043c\\u0435\\u0431\\u0435\\u043b\\u044c \\u043f\\u043e\\u0434 \\u0441\\u0442\\u0438\\u0440\\u0430\\u043b\\u044c\\u043d\\u0443\\u044e \\u043c\\u0430\\u0448\\u0438\\u043d\\u0443\",\"all/\\u0440\\u0430\\u043a\\u043e\\u0432\\u0438\\u043d\\u044b \\u0438 \\u043a\\u043e\\u043c\\u043f\\u043b\\u0435\\u043a\\u0442\\u0443\\u044e\\u0449\\u0438\\u0435/\\u043c\\u0435\\u0431\\u0435\\u043b\\u044c \\u043f\\u043e\\u0434 \\u0441\\u0442\\u0438\\u0440\\u0430\\u043b\\u044c\\u043d\\u0443\\u044e \\u043c\\u0430\\u0448\\u0438\\u043d\\u0443\",\"all/\\u043c\\u0435\\u0431\\u0435\\u043b\\u044c \\u0434\\u043b\\u044f \\u0432\\u0430\\u043d\\u043d\\u043e\\u0439 \\u0438 \\u043a\\u043e\\u043c\\u043f\\u043b\\u0435\\u043a\\u0442\\u0443\\u044e\\u0449\\u0438\\u0435/\\u043c\\u0435\\u0431\\u0435\\u043b\\u044c \\u043f\\u043e\\u0434 \\u0441\\u0442\\u0438\\u0440\\u0430\\u043b\\u044c\\u043d\\u0443\\u044e \\u043c\\u0430\\u0448\\u0438\\u043d\\u0443 \\u0441 \\u0440\\u0430\\u043a\\u043e\\u0432\\u0438\\u043d\\u043e\\u0439\",\"all/\\u0440\\u0430\\u043a\\u043e\\u0432\\u0438\\u043d\\u044b \\u0438 \\u043a\\u043e\\u043c\\u043f\\u043b\\u0435\\u043a\\u0442\\u0443\\u044e\\u0449\\u0438\\u0435/\\u043c\\u0435\\u0431\\u0435\\u043b\\u044c \\u043f\\u043e\\u0434 \\u0441\\u0442\\u0438\\u0440\\u0430\\u043b\\u044c\\u043d\\u0443\\u044e \\u043c\\u0430\\u0448\\u0438\\u043d\\u0443 \\u0441 \\u0440\\u0430\\u043a\\u043e\\u0432\\u0438\\u043d\\u043e\\u0439\",\"all/\\u043c\\u0435\\u0431\\u0435\\u043b\\u044c \\u0434\\u043b\\u044f \\u0432\\u0430\\u043d\\u043d\\u043e\\u0439 \\u0438 \\u043a\\u043e\\u043c\\u043f\\u043b\\u0435\\u043a\\u0442\\u0443\\u044e\\u0449\\u0438\\u0435/\\u043c\\u0435\\u0431\\u0435\\u043b\\u044c\\u043d\\u044b\\u0435 \\u0433\\u0430\\u0440\\u043d\\u0438\\u0442\\u0443\\u0440\\u044b\",\"all/\\u0438\\u043d\\u0441\\u0442\\u0430\\u043b\\u043b\\u044f\\u0446\\u0438\\u0438, \\u043a\\u043d\\u043e\\u043f\\u043a\\u0438 \\u0441\\u043c\\u044b\\u0432\\u0430 \\u0438 \\u043a\\u043e\\u043c\\u043f\\u043b\\u0435\\u043a\\u0442\\u0443\\u044e\\u0449\\u0438\\u0435/\\u043c\\u0435\\u0445\\u0430\\u043d\\u0438\\u0437\\u043c\\u044b \\u0441\\u043c\\u044b\\u0432\\u0430 \\u0434\\u043b\\u044f &nbsp; \\u043f\\u0438\\u0441\\u0441\\u0443\\u0430\\u0440\\u043e\\u0432\",\"all/\\u043e\\u0442\\u043e\\u043f\\u043b\\u0435\\u043d\\u0438\\u0435 \\u0438 \\u043a\\u043b\\u0438\\u043c\\u0430\\u0442/\\u043c\\u043e\\u0439\\u043a\\u0438 \\u0432\\u043e\\u0437\\u0434\\u0443\\u0445\\u0430\",\"all/\\u0430\\u043a\\u0441\\u0435\\u0441\\u0441\\u0443\\u0430\\u0440\\u044b/\\u043c\\u0443\\u0441\\u043e\\u0440\\u043d\\u044b\\u0435 \\u0432\\u0435\\u0434\\u0440\\u0430\",\"all/\\u0430\\u043a\\u0441\\u0435\\u0441\\u0441\\u0443\\u0430\\u0440\\u044b/\\u043c\\u0443\\u0441\\u043e\\u0440\\u043d\\u044b\\u0435 \\u0432\\u0435\\u0434\\u0440\\u0430 \",\"all/\\u0430\\u043a\\u0441\\u0435\\u0441\\u0441\\u0443\\u0430\\u0440\\u044b/\\u043c\\u044b\\u043b\\u044c\\u043d\\u0438\\u0446\\u044b\",\"all/\\u0430\\u043a\\u0441\\u0435\\u0441\\u0441\\u0443\\u0430\\u0440\\u044b/\\u043d\\u0430 \\u043f\\u043e\\u043b\",\"all/\\u0430\\u043a\\u0441\\u0435\\u0441\\u0441\\u0443\\u0430\\u0440\\u044b/\\u043d\\u0430\\u0431\\u043e\\u0440\\u044b \\u0430\\u043a\\u0441\\u0435\\u0441\\u0441\\u0443\\u0430\\u0440\\u043e\\u0432\",\"all/\\u0430\\u043a\\u0441\\u0435\\u0441\\u0441\\u0443\\u0430\\u0440\\u044b/\\u043d\\u0430\\u0431\\u043e\\u0440\\u044b \\u0430\\u043a\\u0441\\u0435\\u0441\\u0441\\u0443\\u0430\\u0440\\u043e\\u0432 \\u0434\\u043b\\u044f \\u0432\\u0430\\u043d\\u043d\\u043e\\u0439\",\"all/\\u0430\\u043a\\u0441\\u0435\\u0441\\u0441\\u0443\\u0430\\u0440\\u044b/\\u043d\\u0430\\u0431\\u043e\\u0440\\u044b \\u0434\\u0435\\u0440\\u0436\\u0430\\u0442\\u0435\\u043b\\u0435\\u0439 \\u043d\\u0430 \\u0441\\u0442\\u043e\\u0439\\u043a\\u0435\",\"all/\\u0434\\u043b\\u044f \\u0434\\u0430\\u0447\\u0438 \\u0438 \\u0431\\u0430\\u043d\\u0438/\\u043d\\u0430\\u0431\\u043e\\u0440\\u044b \\u0434\\u043b\\u044f \\u0431\\u0430\\u043d\\u0438\",\"all/\\u0441\\u0430\\u043d\\u0442\\u0435\\u0445\\u043d\\u0438\\u043a\\u0430/\\u043d\\u0430\\u043a\\u043b\\u0430\\u0434\\u043d\\u044b\\u0435\",\"all/\\u0438\\u043d\\u0436\\u0435\\u043d\\u0435\\u0440\\u043d\\u0430\\u044f \\u0441\\u0430\\u043d\\u0442\\u0435\\u0445\\u043d\\u0438\\u043a\\u0430/\\u043d\\u0430\\u043a\\u043e\\u043f\\u0438\\u0442\\u0435\\u043b\\u044c\\u043d\\u044b\\u0435\",\"all/\\u0441\\u0430\\u043d\\u0442\\u0435\\u0445\\u043d\\u0438\\u043a\\u0430/\\u043d\\u0430\\u043a\\u043e\\u043f\\u0438\\u0442\\u0435\\u043b\\u044c\\u043d\\u044b\\u0435 (\\u0431\\u043e\\u0439\\u043b\\u0435\\u0440\\u044b)\",\"all/\\u0441\\u0430\\u043d\\u0442\\u0435\\u0445\\u043d\\u0438\\u043a\\u0430/\\u043d\\u0430\\u043f\\u043e\\u043b\\u044c\\u043d\\u044b\\u0435\",\"all/\\u0432\\u043e\\u0434\\u043e\\u0441\\u043d\\u0430\\u0431\\u0436\\u0435\\u043d\\u0438\\u0435/\\u043d\\u0430\\u0441\\u043e\\u0441\\u044b\",\"all/\\u043e\\u0442\\u043e\\u043f\\u043b\\u0435\\u043d\\u0438\\u0435 \\u0438 \\u043a\\u043b\\u0438\\u043c\\u0430\\u0442/\\u043d\\u0430\\u0441\\u043e\\u0441\\u044b\",\"all/\\u043e\\u0442\\u043e\\u043f\\u043b\\u0435\\u043d\\u0438\\u0435 \\u0438 \\u043a\\u043b\\u0438\\u043c\\u0430\\u0442/\\u043e\\u0441\\u0443\\u0448\\u0438\\u0442\\u0435\\u043b\\u0438 \\u0432\\u043e\\u0437\\u0434\\u0443\\u0445\\u0430\",\"all/\\u043e\\u0442\\u043e\\u043f\\u043b\\u0435\\u043d\\u0438\\u0435 \\u0438 \\u043a\\u043b\\u0438\\u043c\\u0430\\u0442/\\u043e\\u0447\\u0438\\u0441\\u0442\\u0438\\u0442\\u0435\\u043b\\u0438 \\u0432\\u043e\\u0437\\u0434\\u0443\\u0445\\u0430\",\"all/\\u0434\\u043b\\u044f \\u043e\\u0431\\u0449\\u0435\\u0441\\u0442\\u0432\\u0435\\u043d\\u043d\\u044b\\u0445 \\u043c\\u0435\\u0441\\u0442/\\u043e\\u0447\\u0438\\u0441\\u0442\\u0438\\u0442\\u0435\\u043b\\u044c \\u0434\\u043b\\u044f \\u0441\\u0442\\u0435\\u043a\\u043e\\u043b\",\"all/ \\u0443\\u043d\\u0438\\u0442\\u0430\\u0437\\u044b, \\u0431\\u0438\\u0434\\u0435, \\u043f\\u0438\\u0441\\u0441\\u0443\\u0430\\u0440\\u044b \\u0438 \\u043a\\u043e\\u043c\\u043f\\u043b\\u0435\\u043a\\u0442\\u0443\\u044e\\u0449\\u0438\\u0435/\\u043f\\u0435\\u0440\\u0435\\u0433\\u043e\\u0440\\u043e\\u0434\\u043a\\u0438 \\u0434\\u043b\\u044f \\u043f\\u0438\\u0441\\u0441\\u0443\\u0430\\u0440\\u043e\\u0432\",\"all/\\u0443\\u043d\\u0438\\u0442\\u0430\\u0437\\u044b, \\u0431\\u0438\\u0434\\u0435, \\u043f\\u0438\\u0441\\u0441\\u0443\\u0430\\u0440\\u044b \\u0438 \\u043a\\u043e\\u043c\\u043f\\u043b\\u0435\\u043a\\u0442\\u0443\\u044e\\u0449\\u0438\\u0435/\\u043f\\u0435\\u0440\\u0435\\u0433\\u043e\\u0440\\u043e\\u0434\\u043a\\u0438 \\u0434\\u043b\\u044f \\u043f\\u0438\\u0441\\u0441\\u0443\\u0430\\u0440\\u043e\\u0432\",\"all/ \\u0443\\u043d\\u0438\\u0442\\u0430\\u0437\\u044b, \\u0431\\u0438\\u0434\\u0435, \\u043f\\u0438\\u0441\\u0441\\u0443\\u0430\\u0440\\u044b \\u0438 \\u043a\\u043e\\u043c\\u043f\\u043b\\u0435\\u043a\\u0442\\u0443\\u044e\\u0449\\u0438\\u0435/\\u043f\\u0438\\u0441\\u0441\\u0443\\u0430\\u0440\\u044b\",\"all/\\u0434\\u043b\\u044f \\u043e\\u0431\\u0449\\u0435\\u0441\\u0442\\u0432\\u0435\\u043d\\u043d\\u044b\\u0445 \\u043c\\u0435\\u0441\\u0442/\\u043f\\u0438\\u0441\\u0441\\u0443\\u0430\\u0440\\u044b\",\"all/\\u0443\\u043d\\u0438\\u0442\\u0430\\u0437\\u044b, \\u0431\\u0438\\u0434\\u0435, \\u043f\\u0438\\u0441\\u0441\\u0443\\u0430\\u0440\\u044b \\u0438 \\u043a\\u043e\\u043c\\u043f\\u043b\\u0435\\u043a\\u0442\\u0443\\u044e\\u0449\\u0438\\u0435/\\u043f\\u0438\\u0441\\u0441\\u0443\\u0430\\u0440\\u044b\",\"all/\\u043f\\u043b\\u0438\\u0442\\u043a\\u0430 \\u0438 \\u043a\\u043e\\u043c\\u043f\\u043b\\u0435\\u043a\\u0442\\u0443\\u044e\\u0449\\u0438\\u0435/\\u043f\\u043b\\u0438\\u0442\\u043a\\u0430\",\"all/\\u043f\\u043b\\u0438\\u0442\\u043a\\u0430 \\u0438 \\u043a\\u043e\\u043c\\u043f\\u043b\\u0435\\u043a\\u0442\\u0443\\u044e\\u0449\\u0438\\u0435/\\u043f\\u043b\\u0438\\u0442\\u043a\\u0430 \\u0434\\u043b\\u044f \\u0432\\u0430\\u043d\\u043d\\u043e\\u0439 \\u043a\\u043e\\u043c\\u043d\\u0430\\u0442\\u044b\",\"all/\\u043f\\u043b\\u0438\\u0442\\u043a\\u0430 \\u0438 \\u043a\\u043e\\u043c\\u043f\\u043b\\u0435\\u043a\\u0442\\u0443\\u044e\\u0449\\u0438\\u0435/\\u043f\\u043b\\u0438\\u0442\\u043a\\u0430-\\u043c\\u043e\\u0437\\u0430\\u0438\\u043a\\u0430\",\"all/\\u043f\\u043b\\u0438\\u0442\\u043a\\u0430 \\u0438 \\u043a\\u043e\\u043c\\u043f\\u043b\\u0435\\u043a\\u0442\\u0443\\u044e\\u0449\\u0438\\u0435/\\u043f\\u043e \\u043d\\u0430\\u0437\\u043d\\u0430\\u0447\\u0435\\u043d\\u0438\\u044e\",\"all/\\u043f\\u043b\\u0438\\u0442\\u043a\\u0430 \\u0438 \\u043a\\u043e\\u043c\\u043f\\u043b\\u0435\\u043a\\u0442\\u0443\\u044e\\u0449\\u0438\\u0435/\\u043f\\u043e \\u043f\\u043e\\u043c\\u0435\\u0449\\u0435\\u043d\\u0438\\u044e\",\"all/\\u0434\\u043b\\u044f \\u0434\\u0430\\u0447\\u0438 \\u0438 \\u0431\\u0430\\u043d\\u0438/\\u043f\\u043e\\u0434\\u0433\\u043e\\u043b\\u043e\\u0432\\u043d\\u0438\\u043a\\u0438\",\"all/\\u0430\\u043a\\u0441\\u0435\\u0441\\u0441\\u0443\\u0430\\u0440\\u044b/\\u043f\\u043e\\u0434\\u0441\\u0442\\u0430\\u0432\\u043a\\u0438\",\"all/\\u0434\\u043b\\u044f \\u0434\\u0430\\u0447\\u0438 \\u0438 \\u0431\\u0430\\u043d\\u0438/\\u043f\\u043e\\u043b\\u0438\\u0432 \\u0438 \\u043c\\u043e\\u0439\\u043a\\u0430\",\"all/\\u0434\\u043b\\u044f \\u0434\\u0430\\u0447\\u0438 \\u0438 \\u0431\\u0430\\u043d\\u0438/\\u043f\\u043e\\u043b\\u043a\\u0438\",\"all/\\u0430\\u043a\\u0441\\u0435\\u0441\\u0441\\u0443\\u0430\\u0440\\u044b/\\u043f\\u043e\\u043b\\u043a\\u0438 \\u0434\\u043b\\u044f \\u0434\\u0443\\u0448\\u0430\",\"all/\\u0441\\u043c\\u0435\\u0441\\u0438\\u0442\\u0435\\u043b\\u0438, \\u0434\\u0443\\u0448 \\u0438 \\u043a\\u043e\\u043c\\u043f\\u043b\\u0435\\u043a\\u0442\\u0443\\u044e\\u0449\\u0438\\u0435/\\u043f\\u043e\\u043b\\u043a\\u0438 \\u0434\\u043b\\u044f \\u0434\\u0443\\u0448\\u0430\",\"all/\\u0430\\u043a\\u0441\\u0435\\u0441\\u0441\\u0443\\u0430\\u0440\\u044b/\\u043f\\u043e\\u043b\\u043a\\u0438 \\u0434\\u043b\\u044f \\u043f\\u043e\\u043b\\u043e\\u0442\\u0435\\u043d\\u0435\\u0446\",\"all/\\u0430\\u043a\\u0441\\u0435\\u0441\\u0441\\u0443\\u0430\\u0440\\u044b/\\u043f\\u043e\\u043b\\u043a\\u0438 \\u043f\\u043e\\u0434 \\u0437\\u0435\\u0440\\u043a\\u0430\\u043b\\u043e\",\"all/\\u043c\\u0435\\u0431\\u0435\\u043b\\u044c \\u0434\\u043b\\u044f \\u0432\\u0430\\u043d\\u043d\\u043e\\u0439 \\u0438 \\u043a\\u043e\\u043c\\u043f\\u043b\\u0435\\u043a\\u0442\\u0443\\u044e\\u0449\\u0438\\u0435/\\u043f\\u043e\\u043b\\u043a\\u0438 \\u043f\\u043e\\u0434 \\u0437\\u0435\\u0440\\u043a\\u0430\\u043b\\u043e\",\"all/\\u0434\\u043b\\u044f \\u0434\\u0430\\u0447\\u0438 \\u0438 \\u0431\\u0430\\u043d\\u0438/\\u043f\\u043e\\u043b\\u043e\\u0442\\u0435\\u043d\\u0446\\u0430\",\"all/\\u0430\\u043a\\u0441\\u0435\\u0441\\u0441\\u0443\\u0430\\u0440\\u044b/\\u043f\\u043e\\u043b\\u043e\\u0442\\u0435\\u043d\\u0446\\u0435\\u0434\\u0435\\u0440\\u0436\\u0430\\u0442\\u0435\\u043b\\u0438\",\"all/\\u0432\\u0430\\u043d\\u043d\\u044b \\u0438 \\u043a\\u043e\\u043c\\u043f\\u043b\\u0435\\u043a\\u0442\\u0443\\u044e\\u0449\\u0438\\u0435/\\u043f\\u043e\\u043b\\u043e\\u0442\\u0435\\u043d\\u0446\\u0435\\u0441\\u0443\\u0448\\u0438\\u0442\\u0435\\u043b\\u0438\",\"all/\\u0434\\u0443\\u0448\\u0435\\u0432\\u044b\\u0435 \\u043a\\u0430\\u0431\\u0438\\u043d\\u044b, \\u043e\\u0433\\u0440\\u0430\\u0436\\u0434\\u0435\\u043d\\u0438\\u044f \\u0438 \\u043a\\u043e\\u043c\\u043f\\u043b\\u0435\\u043a\\u0442\\u0443\\u044e\\u0449\\u0438\\u0435/\\u043f\\u043e\\u043b\\u043e\\u0442\\u0435\\u043d\\u0446\\u0435\\u0441\\u0443\\u0448\\u0438\\u0442\\u0435\\u043b\\u0438\",\"all/\\u043e\\u0442\\u043e\\u043f\\u043b\\u0435\\u043d\\u0438\\u0435 \\u0438 \\u043a\\u043b\\u0438\\u043c\\u0430\\u0442/\\u043f\\u043e\\u043b\\u043e\\u0442\\u0435\\u043d\\u0446\\u0435\\u0441\\u0443\\u0448\\u0438\\u0442\\u0435\\u043b\\u0438\",\"all/\\u043f\\u043e\\u043b\\u043e\\u0442\\u0435\\u043d\\u0446\\u0435\\u0441\\u0443\\u0448\\u0438\\u0442\\u0435\\u043b\\u0438/\\u043f\\u043e\\u043b\\u043e\\u0442\\u0435\\u043d\\u0446\\u0435\\u0441\\u0443\\u0448\\u0438\\u0442\\u0435\\u043b\\u0438\",\"all/\\u043e\\u0442\\u043e\\u043f\\u043b\\u0435\\u043d\\u0438\\u0435 \\u0438 \\u043a\\u043b\\u0438\\u043c\\u0430\\u0442/\\u043f\\u043e\\u0440\\u0442\\u0430\\u043b\\u044b \\u0434\\u043b\\u044f \\u043a\\u0430\\u043c\\u0438\\u043d\\u0430\",\"all/\\u0430\\u043a\\u0441\\u0435\\u0441\\u0441\\u0443\\u0430\\u0440\\u044b/\\u043f\\u043e\\u0440\\u0443\\u0447\\u043d\\u0438\",\"all/\\u0441\\u043c\\u0435\\u0441\\u0438\\u0442\\u0435\\u043b\\u0438, \\u0434\\u0443\\u0448 \\u0438 \\u043a\\u043e\\u043c\\u043f\\u043b\\u0435\\u043a\\u0442\\u0443\\u044e\\u0449\\u0438\\u0435/\\u043f\\u043e\\u044d\\u043b\\u0435\\u043c\\u0435\\u043d\\u0442\\u043d\\u043e\",\"all/\\u0434\\u043b\\u044f \\u043e\\u0431\\u0449\\u0435\\u0441\\u0442\\u0432\\u0435\\u043d\\u043d\\u044b\\u0445 \\u043c\\u0435\\u0441\\u0442/\\u043f\\u0440\\u043e\\u0442\\u0438\\u0440\\u043e\\u0447\\u043d\\u044b\\u0439 \\u043c\\u0430\\u0442\\u0435\\u0440\\u0438\\u0430\\u043b\",\"all/\\u043e\\u0442\\u043e\\u043f\\u043b\\u0435\\u043d\\u0438\\u0435 \\u0438 \\u043a\\u043b\\u0438\\u043c\\u0430\\u0442/\\u0440\\u0430\\u0434\\u0438\\u0430\\u0442\\u043e\\u0440\\u044b\",\"all/\\u043e\\u0442\\u043e\\u043f\\u043b\\u0435\\u043d\\u0438\\u0435 \\u0438 \\u043a\\u043b\\u0438\\u043c\\u0430\\u0442/\\u0440\\u0430\\u0434\\u0438\\u0430\\u0442\\u043e\\u0440\\u044b \\u0438 \\u043e\\u0431\\u043e\\u0433\\u0440\\u0435\\u0432\\u0430\\u0442\\u0435\\u043b\\u0438\",\"all/\\u043c\\u0435\\u0431\\u0435\\u043b\\u044c \\u0434\\u043b\\u044f \\u0432\\u0430\\u043d\\u043d\\u043e\\u0439 \\u0438 \\u043a\\u043e\\u043c\\u043f\\u043b\\u0435\\u043a\\u0442\\u0443\\u044e\\u0449\\u0438\\u0435/\\u0440\\u0430\\u043a\\u043e\\u0432\\u0438\\u043d\\u0430 \\u043d\\u0430 \\u0441\\u0442\\u0438\\u0440\\u0430\\u043b\\u044c\\u043d\\u0443\\u044e \\u043c\\u0430\\u0448\\u0438\\u043d\\u0443\",\"all/\\u0440\\u0430\\u043a\\u043e\\u0432\\u0438\\u043d\\u044b \\u0438 \\u043a\\u043e\\u043c\\u043f\\u043b\\u0435\\u043a\\u0442\\u0443\\u044e\\u0449\\u0438\\u0435/\\u0440\\u0430\\u043a\\u043e\\u0432\\u0438\\u043d\\u0430 \\u043d\\u0430 \\u0441\\u0442\\u0438\\u0440\\u0430\\u043b\\u044c\\u043d\\u0443\\u044e \\u043c\\u0430\\u0448\\u0438\\u043d\\u0443\",\"all/\\u043c\\u0435\\u0431\\u0435\\u043b\\u044c \\u0434\\u043b\\u044f \\u0432\\u0430\\u043d\\u043d\\u043e\\u0439 \\u0438 \\u043a\\u043e\\u043c\\u043f\\u043b\\u0435\\u043a\\u0442\\u0443\\u044e\\u0449\\u0438\\u0435/\\u0440\\u0430\\u043a\\u043e\\u0432\\u0438\\u043d\\u0430 \\u0441 \\u043f\\u044c\\u0435\\u0434\\u0435\\u0441\\u0442\\u0430\\u043b\\u043e\\u043c\",\"all/\\u0440\\u0430\\u043a\\u043e\\u0432\\u0438\\u043d\\u044b \\u0438 \\u043a\\u043e\\u043c\\u043f\\u043b\\u0435\\u043a\\u0442\\u0443\\u044e\\u0449\\u0438\\u0435/\\u0440\\u0430\\u043a\\u043e\\u0432\\u0438\\u043d\\u0430 \\u0441 \\u043f\\u044c\\u0435\\u0434\\u0435\\u0441\\u0442\\u0430\\u043b\\u043e\\u043c\",\"all/\\u0440\\u0430\\u043a\\u043e\\u0432\\u0438\\u043d\\u044b \\u0438 \\u043a\\u043e\\u043c\\u043f\\u043b\\u0435\\u043a\\u0442\\u0443\\u044e\\u0449\\u0438\\u0435/\\u0440\\u0430\\u043a\\u043e\\u0432\\u0438\\u043d\\u044b\",\"all/\\u0441\\u0430\\u043d\\u0442\\u0435\\u0445\\u043d\\u0438\\u043a\\u0430/\\u0440\\u0430\\u043a\\u043e\\u0432\\u0438\\u043d\\u044b\",\"all/\\u0440\\u0430\\u043a\\u043e\\u0432\\u0438\\u043d\\u044b \\u0438 \\u043a\\u043e\\u043c\\u043f\\u043b\\u0435\\u043a\\u0442\\u0443\\u044e\\u0449\\u0438\\u0435/\\u0440\\u0430\\u043a\\u043e\\u0432\\u0438\\u043d\\u044b \\u0441 \\u043f\\u044c\\u0435\\u0434\\u0435\\u0441\\u0442\\u0430\\u043b\\u043e\\u043c\",\"all/\\u0434\\u043b\\u044f \\u043e\\u0431\\u0449\\u0435\\u0441\\u0442\\u0432\\u0435\\u043d\\u043d\\u044b\\u0445 \\u043c\\u0435\\u0441\\u0442/\\u0440\\u0430\\u0441\\u0445\\u043e\\u0434\\u043d\\u044b\\u0435 \\u043c\\u0430\\u0442\\u0435\\u0440\\u0438\\u0430\\u043b\\u044b\",\"all/\\u0432\\u043e\\u0434\\u043e\\u0441\\u043d\\u0430\\u0431\\u0436\\u0435\\u043d\\u0438\\u0435/\\u0440\\u0435\\u0432\\u0438\\u0437\\u0438\\u043e\\u043d\\u043d\\u044b\\u0435 \\u043b\\u044e\\u043a\\u0438\",\"all/\\u043f\\u043b\\u0438\\u0442\\u043a\\u0430 \\u0438 \\u043a\\u043e\\u043c\\u043f\\u043b\\u0435\\u043a\\u0442\\u0443\\u044e\\u0449\\u0438\\u0435/\\u0440\\u0435\\u0432\\u0438\\u0437\\u0438\\u043e\\u043d\\u043d\\u044b\\u0435 \\u043b\\u044e\\u043a\\u0438\",\"all/\\u0441\\u043b\\u0438\\u0432 \\u0438 \\u043a\\u0430\\u043d\\u0430\\u043b\\u0438\\u0437\\u0430\\u0446\\u0438\\u044f/\\u0440\\u0435\\u0432\\u0438\\u0437\\u0438\\u043e\\u043d\\u043d\\u044b\\u044b\\u0435 \\u043b\\u044e\\u043a\\u0438\",\"all/\\u043c\\u0435\\u0431\\u0435\\u043b\\u044c \\u0434\\u043b\\u044f \\u0432\\u0430\\u043d\\u043d\\u043e\\u0439 \\u0438 \\u043a\\u043e\\u043c\\u043f\\u043b\\u0435\\u043a\\u0442\\u0443\\u044e\\u0449\\u0438\\u0435/\\u0440\\u044f\\u0434\\u043e\\u043c \\u0441 \\u0440\\u0430\\u043a\\u043e\\u0432\\u0438\\u043d\\u043e\\u0439\",\"all/\\u0440\\u0430\\u043a\\u043e\\u0432\\u0438\\u043d\\u044b \\u0438 \\u043a\\u043e\\u043c\\u043f\\u043b\\u0435\\u043a\\u0442\\u0443\\u044e\\u0449\\u0438\\u0435/\\u0440\\u044f\\u0434\\u043e\\u043c \\u0441 \\u0440\\u0430\\u043a\\u043e\\u0432\\u0438\\u043d\\u043e\\u0439\",\"all/\\u043c\\u0435\\u0431\\u0435\\u043b\\u044c \\u0434\\u043b\\u044f \\u0432\\u0430\\u043d\\u043d\\u043e\\u0439 \\u043a\\u043e\\u043c\\u043d\\u0430\\u0442\\u044b/\\u0441 \\u043f\\u043e\\u0434\\u0441\\u0432\\u0435\\u0442\\u043a\\u043e\\u0439\",\"all/\\u0434\\u043b\\u044f \\u0434\\u0430\\u0447\\u0438 \\u0438 \\u0431\\u0430\\u043d\\u0438/\\u0441\\u0430\\u043d\\u0442\\u0435\\u0445\\u043d\\u0438\\u043a\\u0430 \\u0434\\u043b\\u044f \\u0434\\u0430\\u0447\\u0438\",\"all/\\u0432\\u043e\\u0434\\u043e\\u0441\\u043d\\u0430\\u0431\\u0436\\u0435\\u043d\\u0438\\u0435/\\u0441\\u0430\\u043d\\u0442\\u0435\\u0445\\u043d\\u0438\\u0447\\u0435\\u0441\\u043a\\u0438\\u0435 \\u0448\\u043a\\u0430\\u0444\\u044b\",\"all/\\u043f\\u043b\\u0438\\u0442\\u043a\\u0430 \\u0438 \\u043a\\u043e\\u043c\\u043f\\u043b\\u0435\\u043a\\u0442\\u0443\\u044e\\u0449\\u0438\\u0435/\\u0441\\u0430\\u043d\\u0442\\u0435\\u0445\\u043d\\u0438\\u0447\\u0435\\u0441\\u043a\\u0438\\u0435 \\u0448\\u043a\\u0430\\u0444\\u044b\",\"all/\\u0441\\u043b\\u0438\\u0432 \\u0438 \\u043a\\u0430\\u043d\\u0430\\u043b\\u0438\\u0437\\u0430\\u0446\\u0438\\u044f/\\u0441\\u0430\\u043d\\u0442\\u0435\\u0445\\u043d\\u0438\\u0447\\u0435\\u0441\\u043a\\u0438\\u0435 \\u0448\\u043a\\u0430\\u0444\\u044b\",\"all/\\u0434\\u043b\\u044f \\u0434\\u0430\\u0447\\u0438 \\u0438 \\u0431\\u0430\\u043d\\u0438/\\u0441\\u0432\\u0435\\u0442\\u0438\\u043b\\u044c\\u043d\\u0438\\u043a\\u0438\",\"all/\\u043c\\u0435\\u0431\\u0435\\u043b\\u044c \\u0434\\u043b\\u044f \\u0432\\u0430\\u043d\\u043d\\u043e\\u0439 \\u0438 \\u043a\\u043e\\u043c\\u043f\\u043b\\u0435\\u043a\\u0442\\u0443\\u044e\\u0449\\u0438\\u0435/\\u0441\\u0432\\u0435\\u0442\\u0438\\u043b\\u044c\\u043d\\u0438\\u043a\\u0438\",\"all/\\u0440\\u0430\\u043a\\u043e\\u0432\\u0438\\u043d\\u044b \\u0438 \\u043a\\u043e\\u043c\\u043f\\u043b\\u0435\\u043a\\u0442\\u0443\\u044e\\u0449\\u0438\\u0435/\\u0441\\u0432\\u0435\\u0442\\u0438\\u043b\\u044c\\u043d\\u0438\\u043a\\u0438\",\"all/\\u0434\\u043b\\u044f \\u043e\\u0431\\u0449\\u0435\\u0441\\u0442\\u0432\\u0435\\u043d\\u043d\\u044b\\u0445 \\u043c\\u0435\\u0441\\u0442/\\u0441\\u0435\\u043d\\u0441\\u043e\\u0440\\u043d\\u044b\\u0435 \\u0441\\u043c\\u0435\\u0441\\u0438\\u0442\\u0435\\u043b\\u0438\",\"all/\\u0430\\u043a\\u0441\\u0435\\u0441\\u0441\\u0443\\u0430\\u0440\\u044b/\\u0441\\u0438\\u0434\\u0435\\u043d\\u044c\\u044f\",\"all/\\u0430\\u043a\\u0441\\u0435\\u0441\\u0441\\u0443\\u0430\\u0440\\u044b/\\u0441\\u0438\\u0434\\u0435\\u043d\\u044c\\u044f \\u0434\\u043b\\u044f \\u0434\\u0443\\u0448\\u0430\",\"all/\\u0434\\u0443\\u0448\\u0435\\u0432\\u044b\\u0435 \\u043a\\u0430\\u0431\\u0438\\u043d\\u044b, \\u043e\\u0433\\u0440\\u0430\\u0436\\u0434\\u0435\\u043d\\u0438\\u044f \\u0438 \\u043a\\u043e\\u043c\\u043f\\u043b\\u0435\\u043a\\u0442\\u0443\\u044e\\u0449\\u0438\\u0435/\\u0441\\u0438\\u0434\\u0435\\u043d\\u044c\\u044f \\u0434\\u043b\\u044f \\u0434\\u0443\\u0448\\u0430\",\"all/\\u0430\\u043a\\u0441\\u0435\\u0441\\u0441\\u0443\\u0430\\u0440\\u044b/\\u0441\\u0438\\u0434\\u0435\\u043d\\u044c\\u044f \\u043d\\u0430 \\u0432\\u0430\\u043d\\u043d\\u0443\",\"all/\\u0432\\u043e\\u0434\\u043e\\u0441\\u043d\\u0430\\u0431\\u0436\\u0435\\u043d\\u0438\\u0435/\\u0441\\u0438\\u0441\\u0442\\u0435\\u043c\\u044b \\u0437\\u0430\\u0449\\u0438\\u0442\\u044b \\u043e\\u0442 \\u043f\\u0440\\u043e\\u0442\\u0435\\u0447\\u0435\\u043a\",\"all/\\u043f\\u043b\\u0438\\u0442\\u043a\\u0430 \\u0438 \\u043a\\u043e\\u043c\\u043f\\u043b\\u0435\\u043a\\u0442\\u0443\\u044e\\u0449\\u0438\\u0435/\\u0441\\u0438\\u0441\\u0442\\u0435\\u043c\\u044b \\u0437\\u0430\\u0449\\u0438\\u0442\\u044b \\u043e\\u0442 \\u043f\\u0440\\u043e\\u0442\\u0435\\u0447\\u0435\\u043a\",\"all/\\u0441\\u043b\\u0438\\u0432 \\u0438 \\u043a\\u0430\\u043d\\u0430\\u043b\\u0438\\u0437\\u0430\\u0446\\u0438\\u044f/\\u0441\\u0438\\u0441\\u0442\\u0435\\u043c\\u044b \\u0437\\u0430\\u0449\\u0438\\u0442\\u044b \\u043e\\u0442 \\u043f\\u0440\\u043e\\u0442\\u0435\\u0447\\u0435\\u043a\",\"all/\\u0441\\u043b\\u0438\\u0432 \\u0438 \\u043a\\u0430\\u043d\\u0430\\u043b\\u0438\\u0437\\u0430\\u0446\\u0438\\u044f/\\u0441\\u0438\\u0444\\u043e\\u043d\\u044b\",\"all/ \\u0443\\u043d\\u0438\\u0442\\u0430\\u0437\\u044b, \\u0431\\u0438\\u0434\\u0435, \\u043f\\u0438\\u0441\\u0441\\u0443\\u0430\\u0440\\u044b \\u0438 \\u043a\\u043e\\u043c\\u043f\\u043b\\u0435\\u043a\\u0442\\u0443\\u044e\\u0449\\u0438\\u0435/\\u0441\\u0438\\u0444\\u043e\\u043d\\u044b \\u0434\\u043b\\u044f \\u0431\\u0438\\u0434\\u0435\",\"all/\\u0441\\u043b\\u0438\\u0432 \\u0438 \\u043a\\u0430\\u043d\\u0430\\u043b\\u0438\\u0437\\u0430\\u0446\\u0438\\u044f/\\u0441\\u0438\\u0444\\u043e\\u043d\\u044b \\u0434\\u043b\\u044f \\u0431\\u0438\\u0434\\u0435\",\"all/\\u0441\\u043b\\u0438\\u0432 \\u0438 \\u043a\\u0430\\u043d\\u0430\\u043b\\u0438\\u0437\\u0430\\u0446\\u0438\\u044f/\\u0441\\u0438\\u0444\\u043e\\u043d\\u044b \\u0434\\u043b\\u044f \\u0434\\u0443\\u0448\\u0435\\u0432\\u044b\\u0445 \\u043f\\u043e\\u0434\\u0434\\u043e\\u043d\\u043e\\u0432\",\"all/\\u0441\\u043b\\u0438\\u0432 \\u0438 \\u043a\\u0430\\u043d\\u0430\\u043b\\u0438\\u0437\\u0430\\u0446\\u0438\\u044f/\\u0441\\u0438\\u0444\\u043e\\u043d\\u044b \\u0434\\u043b\\u044f \\u043c\\u043e\\u0435\\u043a\",\"all/\\u0441\\u043b\\u0438\\u0432 \\u0438 \\u043a\\u0430\\u043d\\u0430\\u043b\\u0438\\u0437\\u0430\\u0446\\u0438\\u044f/\\u0441\\u0438\\u0444\\u043e\\u043d\\u044b \\u0434\\u043b\\u044f \\u0440\\u0430\\u043a\\u043e\\u0432\\u0438\\u043d\",\"all/\\u0430\\u043a\\u0441\\u0435\\u0441\\u0441\\u0443\\u0430\\u0440\\u044b/\\u0441\\u043a\\u0440\\u0435\\u0431\\u043a\\u0438 \\u0434\\u043b\\u044f \\u0441\\u0442\\u0451\\u043a\\u043e\\u043b\",\"all/ \\u0443\\u043d\\u0438\\u0442\\u0430\\u0437\\u044b, \\u0431\\u0438\\u0434\\u0435, \\u043f\\u0438\\u0441\\u0441\\u0443\\u0430\\u0440\\u044b \\u0438 \\u043a\\u043e\\u043c\\u043f\\u043b\\u0435\\u043a\\u0442\\u0443\\u044e\\u0449\\u0438\\u0435/\\u0441\\u043b\\u0438\\u0432 \\u0434\\u043b\\u044f \\u0443\\u043d\\u0438\\u0442\\u0430\\u0437\\u043e\\u0432\",\"all/\\u0443\\u043d\\u0438\\u0442\\u0430\\u0437\\u044b, \\u0431\\u0438\\u0434\\u0435, \\u043f\\u0438\\u0441\\u0441\\u0443\\u0430\\u0440\\u044b \\u0438 \\u043a\\u043e\\u043c\\u043f\\u043b\\u0435\\u043a\\u0442\\u0443\\u044e\\u0449\\u0438\\u0435/\\u0441\\u043b\\u0438\\u0432 \\u0434\\u043b\\u044f \\u0443\\u043d\\u0438\\u0442\\u0430\\u0437\\u043e\\u0432\",\"all/\\u0434\\u0443\\u0448\\u0435\\u0432\\u044b\\u0435 \\u043a\\u0430\\u0431\\u0438\\u043d\\u044b, \\u043e\\u0433\\u0440\\u0430\\u0436\\u0434\\u0435\\u043d\\u0438\\u044f \\u0438 \\u043a\\u043e\\u043c\\u043f\\u043b\\u0435\\u043a\\u0442\\u0443\\u044e\\u0449\\u0438\\u0435/\\u0441\\u043b\\u0438\\u0432 \\u0438 \\u043a\\u0430\\u043d\\u0430\\u043b\\u0438\\u0437\\u0430\\u0446\\u0438\\u044f\",\"all/\\u043c\\u0435\\u0431\\u0435\\u043b\\u044c \\u0434\\u043b\\u044f \\u0432\\u0430\\u043d\\u043d\\u043e\\u0439 \\u0438 \\u043a\\u043e\\u043c\\u043f\\u043b\\u0435\\u043a\\u0442\\u0443\\u044e\\u0449\\u0438\\u0435/\\u0441\\u043b\\u0438\\u0432 \\u0438 \\u043a\\u0430\\u043d\\u0430\\u043b\\u0438\\u0437\\u0430\\u0446\\u0438\\u044f\",\"all/\\u0440\\u0430\\u043a\\u043e\\u0432\\u0438\\u043d\\u044b \\u0438 \\u043a\\u043e\\u043c\\u043f\\u043b\\u0435\\u043a\\u0442\\u0443\\u044e\\u0449\\u0438\\u0435/\\u0441\\u043b\\u0438\\u0432 \\u0438 \\u043a\\u0430\\u043d\\u0430\\u043b\\u0438\\u0437\\u0430\\u0446\\u0438\\u044f\",\"all/\\u0432\\u0430\\u043d\\u043d\\u044b \\u0438 \\u043a\\u043e\\u043c\\u043f\\u043b\\u0435\\u043a\\u0442\\u0443\\u044e\\u0449\\u0438\\u0435/\\u0441\\u043b\\u0438\\u0432\\u044b-\\u043f\\u0435\\u0440\\u0435\\u043b\\u0438\\u0432\\u044b\",\"all/\\u0441\\u043b\\u0438\\u0432 \\u0438 \\u043a\\u0430\\u043d\\u0430\\u043b\\u0438\\u0437\\u0430\\u0446\\u0438\\u044f/\\u0441\\u043b\\u0438\\u0432\\u044b-\\u043f\\u0435\\u0440\\u0435\\u043b\\u0438\\u0432\\u044b\",\"all/\\u0441\\u043b\\u0438\\u0432 \\u0438 \\u043a\\u0430\\u043d\\u0430\\u043b\\u0438\\u0437\\u0430\\u0446\\u0438\\u044f/\\u0441\\u043b\\u0438\\u0432\\u044b-\\u043f\\u0435\\u0440\\u0435\\u043b\\u0438\\u0432\\u044b \\u0434\\u043b\\u044f \\u0432\\u0430\\u043d\\u043d\",\"all/ \\u0443\\u043d\\u0438\\u0442\\u0430\\u0437\\u044b, \\u0431\\u0438\\u0434\\u0435, \\u043f\\u0438\\u0441\\u0441\\u0443\\u0430\\u0440\\u044b \\u0438 \\u043a\\u043e\\u043c\\u043f\\u043b\\u0435\\u043a\\u0442\\u0443\\u044e\\u0449\\u0438\\u0435/\\u0441\\u043c\\u0435\\u0441\\u0438\\u0442\\u0435\\u043b\\u0438 \\u0434\\u043b\\u044f \\u0431\\u0438\\u0434\\u0435\",\"all/\\u0443\\u043d\\u0438\\u0442\\u0430\\u0437\\u044b, \\u0431\\u0438\\u0434\\u0435, \\u043f\\u0438\\u0441\\u0441\\u0443\\u0430\\u0440\\u044b \\u0438 \\u043a\\u043e\\u043c\\u043f\\u043b\\u0435\\u043a\\u0442\\u0443\\u044e\\u0449\\u0438\\u0435/\\u0441\\u043c\\u0435\\u0441\\u0438\\u0442\\u0435\\u043b\\u0438 \\u0434\\u043b\\u044f \\u0431\\u0438\\u0434\\u0435\",\"all/\\u0432\\u0430\\u043d\\u043d\\u044b \\u0438 \\u043a\\u043e\\u043c\\u043f\\u043b\\u0435\\u043a\\u0442\\u0443\\u044e\\u0449\\u0438\\u0435/\\u0441\\u043c\\u0435\\u0441\\u0438\\u0442\\u0435\\u043b\\u0438 \\u0434\\u043b\\u044f \\u0432\\u0430\\u043d\\u043d\\u044b\",\"all/\\u0441\\u043c\\u0435\\u0441\\u0438\\u0442\\u0435\\u043b\\u0438, \\u0434\\u0443\\u0448 \\u0438 \\u043a\\u043e\\u043c\\u043f\\u043b\\u0435\\u043a\\u0442\\u0443\\u044e\\u0449\\u0438\\u0435/\\u0441\\u043c\\u0435\\u0441\\u0438\\u0442\\u0435\\u043b\\u0438 \\u0434\\u043b\\u044f \\u0432\\u0430\\u043d\\u043d\\u044b \\u0441 \\u0434\\u0443\\u0448\\u0435\\u043c\",\"all/\\u0434\\u0443\\u0448\\u0435\\u0432\\u044b\\u0435 \\u043a\\u0430\\u0431\\u0438\\u043d\\u044b, \\u043e\\u0433\\u0440\\u0430\\u0436\\u0434\\u0435\\u043d\\u0438\\u044f \\u0438 \\u043a\\u043e\\u043c\\u043f\\u043b\\u0435\\u043a\\u0442\\u0443\\u044e\\u0449\\u0438\\u0435/\\u0441\\u043c\\u0435\\u0441\\u0438\\u0442\\u0435\\u043b\\u0438 \\u0434\\u043b\\u044f \\u0434\\u0443\\u0448\\u0430\",\"all/\\u043a\\u0443\\u0445\\u043e\\u043d\\u043d\\u044b\\u0435 \\u043c\\u043e\\u0439\\u043a\\u0438 \\u0438 \\u043a\\u043e\\u043c\\u043f\\u043b\\u0435\\u043a\\u0442\\u0443\\u044e\\u0449\\u0438\\u0435/\\u0441\\u043c\\u0435\\u0441\\u0438\\u0442\\u0435\\u043b\\u0438 \\u0434\\u043b\\u044f \\u043a\\u0443\\u0445\\u043d\\u0438\",\"all/\\u0441\\u043c\\u0435\\u0441\\u0438\\u0442\\u0435\\u043b\\u0438, \\u0434\\u0443\\u0448 \\u0438 \\u043a\\u043e\\u043c\\u043f\\u043b\\u0435\\u043a\\u0442\\u0443\\u044e\\u0449\\u0438\\u0435/\\u0441\\u043c\\u0435\\u0441\\u0438\\u0442\\u0435\\u043b\\u0438 \\u0434\\u043b\\u044f \\u043a\\u0443\\u0445\\u043d\\u0438\",\"all/\\u0440\\u0430\\u043a\\u043e\\u0432\\u0438\\u043d\\u044b \\u0438 \\u043a\\u043e\\u043c\\u043f\\u043b\\u0435\\u043a\\u0442\\u0443\\u044e\\u0449\\u0438\\u0435/\\u0441\\u043c\\u0435\\u0441\\u0438\\u0442\\u0435\\u043b\\u0438 \\u0434\\u043b\\u044f \\u0440\\u0430\\u043a\\u043e\\u0432\\u0438\\u043d\",\"all/\\u043c\\u0435\\u0431\\u0435\\u043b\\u044c \\u0434\\u043b\\u044f \\u0432\\u0430\\u043d\\u043d\\u043e\\u0439 \\u0438 \\u043a\\u043e\\u043c\\u043f\\u043b\\u0435\\u043a\\u0442\\u0443\\u044e\\u0449\\u0438\\u0435/\\u0441\\u043c\\u0435\\u0441\\u0438\\u0442\\u0435\\u043b\\u0438 \\u0434\\u043b\\u044f \\u0440\\u0430\\u043a\\u043e\\u0432\\u0438\\u043d\\u044b\",\"all/\\u0441\\u043c\\u0435\\u0441\\u0438\\u0442\\u0435\\u043b\\u0438, \\u0434\\u0443\\u0448 \\u0438 \\u043a\\u043e\\u043c\\u043f\\u043b\\u0435\\u043a\\u0442\\u0443\\u044e\\u0449\\u0438\\u0435/\\u0441\\u043c\\u0435\\u0441\\u0438\\u0442\\u0435\\u043b\\u0438 \\u0434\\u043b\\u044f \\u0440\\u0430\\u043a\\u043e\\u0432\\u0438\\u043d\\u044b\",\"all/\\u0438\\u043d\\u0441\\u0442\\u0430\\u043b\\u043b\\u044f\\u0446\\u0438\\u0438, \\u043a\\u043d\\u043e\\u043f\\u043a\\u0438 \\u0441\\u043c\\u044b\\u0432\\u0430 \\u0438 \\u043a\\u043e\\u043c\\u043f\\u043b\\u0435\\u043a\\u0442\\u0443\\u044e\\u0449\\u0438\\u0435/\\u0441\\u043c\\u044b\\u0432\\u043d\\u044b\\u0435 \\u0431\\u0430\\u0447\\u043a\\u0438 \\u0441\\u043a\\u0440\\u044b\\u0442\\u043e\\u0433\\u043e \\u043c\\u043e\\u043d\\u0442\\u0430\\u0436\\u0430\",\"all/\\u0434\\u043b\\u044f \\u043e\\u0431\\u0449\\u0435\\u0441\\u0442\\u0432\\u0435\\u043d\\u043d\\u044b\\u0445 \\u043c\\u0435\\u0441\\u0442/\\u0441\\u0440\\u0435\\u0434\\u0441\\u0442\\u0432\\u043e \\u0434\\u043b\\u044f \\u043c\\u0435\\u0442\\u0430\\u043b\\u043b\\u0438\\u0447\\u0435\\u0441\\u043a\\u0438\\u0445 \\u043f\\u043e\\u0432\\u0435\\u0440\\u0445\\u043d\\u043e\\u0441\\u0442\\u0435\\u0439\",\"all/\\u0430\\u043a\\u0441\\u0435\\u0441\\u0441\\u0443\\u0430\\u0440\\u044b/\\u0441\\u0442\\u0430\\u043a\\u0430\\u043d\\u044b\",\"all/\\u0441\\u0430\\u043d\\u0442\\u0435\\u0445\\u043d\\u0438\\u043a\\u0430/\\u0441\\u0442\\u0430\\u043b\\u044c\\u043d\\u044b\\u0435\",\"all/\\u0430\\u043a\\u0441\\u0435\\u0441\\u0441\\u0443\\u0430\\u0440\\u044b/\\u0441\\u0442\\u0435\\u043a\\u043b\\u044f\\u043d\\u043d\\u044b\\u0435 \\u0438 \\u043f\\u043b\\u0430\\u0441\\u0442\\u0438\\u043a\\u043e\\u0432\\u044b\\u0435 \\u0448\\u0442\\u043e\\u0440\\u043a\\u0438\",\"all/\\u0430\\u043a\\u0441\\u0435\\u0441\\u0441\\u0443\\u0430\\u0440\\u044b/\\u0441\\u0442\\u0435\\u043b\\u043b\\u0430\\u0436\\u0438\",\"all/\\u0430\\u043a\\u0441\\u0435\\u0441\\u0441\\u0443\\u0430\\u0440\\u044b/\\u0441\\u0442\\u0438\\u0440\\u043a\\u0430\",\"all/\\u043c\\u0435\\u0431\\u0435\\u043b\\u044c \\u0434\\u043b\\u044f \\u0432\\u0430\\u043d\\u043d\\u043e\\u0439 \\u0438 \\u043a\\u043e\\u043c\\u043f\\u043b\\u0435\\u043a\\u0442\\u0443\\u044e\\u0449\\u0438\\u0435/\\u0441\\u0442\\u043e\\u043b\\u0435\\u0448\\u043d\\u0438\\u0446\\u0430 \\u0441 \\u0440\\u0430\\u043a\\u043e\\u0432\\u0438\\u043d\\u043e\\u0439\",\"all/\\u0440\\u0430\\u043a\\u043e\\u0432\\u0438\\u043d\\u044b \\u0438 \\u043a\\u043e\\u043c\\u043f\\u043b\\u0435\\u043a\\u0442\\u0443\\u044e\\u0449\\u0438\\u0435/\\u0441\\u0442\\u043e\\u043b\\u0435\\u0448\\u043d\\u0438\\u0446\\u0430 \\u0441 \\u0440\\u0430\\u043a\\u043e\\u0432\\u0438\\u043d\\u043e\\u0439\",\"all/\\u043c\\u0435\\u0431\\u0435\\u043b\\u044c \\u0434\\u043b\\u044f \\u0432\\u0430\\u043d\\u043d\\u043e\\u0439 \\u043a\\u043e\\u043c\\u043d\\u0430\\u0442\\u044b/\\u0441\\u0442\\u043e\\u043b\\u0435\\u0448\\u043d\\u0438\\u0446\\u044b \\u0441 \\u0440\\u0430\\u043a\\u043e\\u0432\\u0438\\u043d\\u043e\\u0439\",\"all/\\u0440\\u0430\\u043a\\u043e\\u0432\\u0438\\u043d\\u044b \\u0438 \\u043a\\u043e\\u043c\\u043f\\u043b\\u0435\\u043a\\u0442\\u0443\\u044e\\u0449\\u0438\\u0435/\\u0441\\u0442\\u043e\\u043b\\u0435\\u0448\\u043d\\u0438\\u0446\\u044b \\u0441 \\u0440\\u0430\\u043a\\u043e\\u0432\\u0438\\u043d\\u043e\\u0439\",\"all/\\u0430\\u043a\\u0441\\u0435\\u0441\\u0441\\u0443\\u0430\\u0440\\u044b/\\u0441\\u0442\\u043e\\u043b\\u0438\\u043a\\u0438 \\u0434\\u043b\\u044f \\u0432\\u0430\\u043d\\u043d\\u044b\",\"all/\\u0434\\u043b\\u044f \\u0434\\u0430\\u0447\\u0438 \\u0438 \\u0431\\u0430\\u043d\\u0438/\\u0441\\u0442\\u043e\\u043b\\u044b \\u0434\\u043b\\u044f \\u0431\\u0430\\u043d\\u0438 \\u0438 \\u0441\\u0430\\u0443\\u043d\\u044b\",\"all/\\u0430\\u043a\\u0441\\u0435\\u0441\\u0441\\u0443\\u0430\\u0440\\u044b/\\u0441\\u0442\\u0440\\u0435\\u043c\\u044f\\u043d\\u043a\\u0438\",\"all/\\u0434\\u043b\\u044f \\u0434\\u0430\\u0447\\u0438 \\u0438 \\u0431\\u0430\\u043d\\u0438/\\u0441\\u0442\\u0443\\u043b\\u044c\\u044f \\u0438 \\u043b\\u0430\\u0432\\u043e\\u0447\\u043a\\u0438 \\u0434\\u043b\\u044f \\u0431\\u0430\\u043d\\u0438 \\u0438 \\u0441\\u0430\\u0443\\u043d\\u044b\",\"all/\\u0430\\u043a\\u0441\\u0435\\u0441\\u0441\\u0443\\u0430\\u0440\\u044b/\\u0441\\u0443\\u0448\\u0438\\u043b\\u043a\\u0438 \\u0434\\u043b\\u044f \\u0431\\u0435\\u043b\\u044c\\u044f\",\"all/\\u0434\\u043b\\u044f \\u043e\\u0431\\u0449\\u0435\\u0441\\u0442\\u0432\\u0435\\u043d\\u043d\\u044b\\u0445 \\u043c\\u0435\\u0441\\u0442/\\u0441\\u0443\\u0448\\u0438\\u043b\\u043a\\u0438 \\u0434\\u043b\\u044f \\u0440\\u0443\\u043a\",\"all/\\u0430\\u043a\\u0441\\u0435\\u0441\\u0441\\u0443\\u0430\\u0440\\u044b/\\u0442\\u0435\\u043a\\u0441\\u0442\\u0438\\u043b\\u044c\\u043d\\u044b\\u0435 \\u0448\\u0442\\u043e\\u0440\\u044b\",\"all/\\u043e\\u0442\\u043e\\u043f\\u043b\\u0435\\u043d\\u0438\\u0435 \\u0438 \\u043a\\u043b\\u0438\\u043c\\u0430\\u0442/\\u0442\\u0435\\u043f\\u043b\\u044b\\u0435 \\u043f\\u043e\\u043b\\u044b\",\"all/\\u043f\\u043b\\u0438\\u0442\\u043a\\u0430 \\u0438 \\u043a\\u043e\\u043c\\u043f\\u043b\\u0435\\u043a\\u0442\\u0443\\u044e\\u0449\\u0438\\u0435/\\u0442\\u0435\\u043f\\u043b\\u044b\\u0435 \\u043f\\u043e\\u043b\\u044b\",\"all/\\u0434\\u043b\\u044f \\u0434\\u0430\\u0447\\u0438 \\u0438 \\u0431\\u0430\\u043d\\u0438/\\u0442\\u0435\\u0440\\u043c\\u043e\\u043c\\u0435\\u0442\\u0440\\u044b\",\"all/\\u0434\\u043b\\u044f \\u043e\\u0431\\u0449\\u0435\\u0441\\u0442\\u0432\\u0435\\u043d\\u043d\\u044b\\u0445 \\u043c\\u0435\\u0441\\u0442/\\u0442\\u0443\\u0430\\u043b\\u0435\\u0442\\u043d\\u0430\\u044f \\u0431\\u0443\\u043c\\u0430\\u0433\\u0430\",\"all/\\u043c\\u0435\\u0431\\u0435\\u043b\\u044c \\u0434\\u043b\\u044f \\u0432\\u0430\\u043d\\u043d\\u043e\\u0439 \\u0438 \\u043a\\u043e\\u043c\\u043f\\u043b\\u0435\\u043a\\u0442\\u0443\\u044e\\u0449\\u0438\\u0435/\\u0442\\u0443\\u043c\\u0431\\u044b\",\"all/\\u043c\\u0435\\u0431\\u0435\\u043b\\u044c \\u0434\\u043b\\u044f \\u0432\\u0430\\u043d\\u043d\\u043e\\u0439 \\u0438 \\u043a\\u043e\\u043c\\u043f\\u043b\\u0435\\u043a\\u0442\\u0443\\u044e\\u0449\\u0438\\u0435/\\u0442\\u0443\\u043c\\u0431\\u044b \\u0432 \\u0432\\u0430\\u043d\\u043d\\u0443\\u044e \\u043a\\u043e\\u043c\\u043d\\u0430\\u0442\\u0443\",\"all/\\u043c\\u0435\\u0431\\u0435\\u043b\\u044c \\u0434\\u043b\\u044f \\u0432\\u0430\\u043d\\u043d\\u043e\\u0439 \\u0438 \\u043a\\u043e\\u043c\\u043f\\u043b\\u0435\\u043a\\u0442\\u0443\\u044e\\u0449\\u0438\\u0435/\\u0442\\u0443\\u043c\\u0431\\u044b \\u0441 \\u0440\\u0430\\u043a\\u043e\\u0432\\u0438\\u043d\\u043e\\u0439\",\"all/\\u043c\\u0435\\u0431\\u0435\\u043b\\u044c \\u0434\\u043b\\u044f \\u0432\\u0430\\u043d\\u043d\\u043e\\u0439 \\u043a\\u043e\\u043c\\u043d\\u0430\\u0442\\u044b/\\u0442\\u0443\\u043c\\u0431\\u044b \\u0441 \\u0440\\u0430\\u043a\\u043e\\u0432\\u0438\\u043d\\u043e\\u0439\",\"all/\\u043e\\u0442\\u043e\\u043f\\u043b\\u0435\\u043d\\u0438\\u0435 \\u0438 \\u043a\\u043b\\u0438\\u043c\\u0430\\u0442/\\u0443\\u0432\\u043b\\u0430\\u0436\\u043d\\u0438\\u0442\\u0435\\u043b\\u0438 \\u0432\\u043e\\u0437\\u0434\\u0443\\u0445\\u0430\",\"all/\\u0434\\u043b\\u044f \\u0434\\u0430\\u0447\\u0438 \\u0438 \\u0431\\u0430\\u043d\\u0438/\\u0443\\u043b\\u0438\\u0447\\u043d\\u044b\\u0435 \\u0441\\u0443\\u0448\\u0438\\u043b\\u043a\\u0438 \\u0434\\u043b\\u044f \\u0431\\u0435\\u043b\\u044c\\u044f\",\"all/\\u0434\\u043b\\u044f \\u043e\\u0431\\u0449\\u0435\\u0441\\u0442\\u0432\\u0435\\u043d\\u043d\\u044b\\u0445 \\u043c\\u0435\\u0441\\u0442/\\u0443\\u043d\\u0438\\u0432\\u0435\\u0440\\u0441\\u0430\\u043b\\u044c\\u043d\\u043e\\u0435 \\u043c\\u043e\\u044e\\u0449\\u0435\\u0435 \\u0441\\u0440\\u0435\\u0434\\u0441\\u0442\\u0432\\u043e\",\"all/ \\u0443\\u043d\\u0438\\u0442\\u0430\\u0437\\u044b, \\u0431\\u0438\\u0434\\u0435, \\u043f\\u0438\\u0441\\u0441\\u0443\\u0430\\u0440\\u044b \\u0438 \\u043a\\u043e\\u043c\\u043f\\u043b\\u0435\\u043a\\u0442\\u0443\\u044e\\u0449\\u0438\\u0435/\\u0443\\u043d\\u0438\\u0442\\u0430\\u0437\\u044b\",\"all/\\u0443\\u043d\\u0438\\u0442\\u0430\\u0437\\u044b, \\u0431\\u0438\\u0434\\u0435, \\u043f\\u0438\\u0441\\u0441\\u0443\\u0430\\u0440\\u044b \\u0438 \\u043a\\u043e\\u043c\\u043f\\u043b\\u0435\\u043a\\u0442\\u0443\\u044e\\u0449\\u0438\\u0435/\\u0443\\u043d\\u0438\\u0442\\u0430\\u0437\\u044b\",\"all/\\u0434\\u043b\\u044f \\u043e\\u0431\\u0449\\u0435\\u0441\\u0442\\u0432\\u0435\\u043d\\u043d\\u044b\\u0445 \\u043c\\u0435\\u0441\\u0442/\\u0443\\u0440\\u043d\\u044b\",\"all/\\u043f\\u043b\\u0438\\u0442\\u043a\\u0430 \\u0438 \\u043a\\u043e\\u043c\\u043f\\u043b\\u0435\\u043a\\u0442\\u0443\\u044e\\u0449\\u0438\\u0435/\\u0444\\u0430\\u0440\\u0442\\u0443\\u043a \\u0434\\u043b\\u044f \\u043a\\u0443\\u0445\\u043d\\u0438\",\"all/\\u0434\\u043b\\u044f \\u043e\\u0431\\u0449\\u0435\\u0441\\u0442\\u0432\\u0435\\u043d\\u043d\\u044b\\u0445 \\u043c\\u0435\\u0441\\u0442/\\u0444\\u0435\\u043d\\u044b\",\"all/\\u043a\\u0443\\u0445\\u043e\\u043d\\u043d\\u044b\\u0435 \\u043c\\u043e\\u0439\\u043a\\u0438 \\u0438 \\u043a\\u043e\\u043c\\u043f\\u043b\\u0435\\u043a\\u0442\\u0443\\u044e\\u0449\\u0438\\u0435/\\u0444\\u0438\\u043b\\u044c\\u0442\\u0440\\u044b \\u0434\\u043b\\u044f \\u0432\\u043e\\u0434\\u044b \\u0438 \\u043a\\u0443\\u043b\\u0435\\u0440\\u044b\",\"all/\\u0432\\u043e\\u0434\\u043e\\u0441\\u043d\\u0430\\u0431\\u0436\\u0435\\u043d\\u0438\\u0435/\\u0444\\u0438\\u043b\\u044c\\u0442\\u0440\\u044b \\u043f\\u043e\\u0434 \\u043c\\u043e\\u0439\\u043a\\u0443\",\"all/\\u0444\\u0438\\u043b\\u044c\\u0442\\u0440\\u044b \\u0434\\u043b\\u044f \\u0432\\u043e\\u0434\\u044b \\u0438 \\u043a\\u0443\\u043b\\u0435\\u0440\\u044b/\\u0444\\u0438\\u043b\\u044c\\u0442\\u0440\\u044b \\u043f\\u043e\\u0434 \\u043c\\u043e\\u0439\\u043a\\u0443\",\"all/\\u0444\\u0438\\u043b\\u044c\\u0442\\u0440\\u044b \\u0434\\u043b\\u044f \\u0432\\u043e\\u0434\\u044b \\u0438 \\u043a\\u0443\\u043b\\u0435\\u0440\\u044b/\\u0444\\u0438\\u043b\\u044c\\u0442\\u0440\\u044b \\u0440\\u044f\\u0434\\u043e\\u043c \\u0441 \\u043c\\u043e\\u0439\\u043a\\u043e\\u0439\",\"all/\\u0430\\u043a\\u0441\\u0435\\u0441\\u0441\\u0443\\u0430\\u0440\\u044b/\\u0445\\u0440\\u0430\\u043d\\u0435\\u043d\\u0438\\u0435\",\"all/\\u0434\\u043b\\u044f \\u0434\\u0430\\u0447\\u0438 \\u0438 \\u0431\\u0430\\u043d\\u0438/\\u0447\\u0430\\u0441\\u044b\",\"all/\\u0434\\u043b\\u044f \\u043e\\u0431\\u0449\\u0435\\u0441\\u0442\\u0432\\u0435\\u043d\\u043d\\u044b\\u0445 \\u043c\\u0435\\u0441\\u0442/\\u0447\\u0430\\u0448\\u0438 \\u0433\\u0435\\u043d\\u0443\\u044f\",\"all/\\u0441\\u0430\\u043d\\u0442\\u0435\\u0445\\u043d\\u0438\\u043a\\u0430/\\u0447\\u0443\\u0433\\u0443\\u043d\\u043d\\u044b\\u0435\",\"all/\\u0434\\u043b\\u044f \\u0434\\u0430\\u0447\\u0438 \\u0438 \\u0431\\u0430\\u043d\\u0438/\\u0448\\u0430\\u043f\\u043a\\u0438\",\"all/\\u043c\\u0435\\u0431\\u0435\\u043b\\u044c \\u0434\\u043b\\u044f \\u0432\\u0430\\u043d\\u043d\\u043e\\u0439 \\u0438 \\u043a\\u043e\\u043c\\u043f\\u043b\\u0435\\u043a\\u0442\\u0443\\u044e\\u0449\\u0438\\u0435/\\u0448\\u043a\\u0430\\u0444\\u044b\",\"all/\\u043c\\u0435\\u0431\\u0435\\u043b\\u044c \\u0434\\u043b\\u044f \\u0432\\u0430\\u043d\\u043d\\u043e\\u0439 \\u0438 \\u043a\\u043e\\u043c\\u043f\\u043b\\u0435\\u043a\\u0442\\u0443\\u044e\\u0449\\u0438\\u0435/\\u0448\\u043a\\u0430\\u0444\\u044b-\\u043f\\u0435\\u043d\\u0430\\u043b\\u044b\",\"all/\\u0432\\u0430\\u043d\\u043d\\u044b \\u0438 \\u043a\\u043e\\u043c\\u043f\\u043b\\u0435\\u043a\\u0442\\u0443\\u044e\\u0449\\u0438\\u0435/\\u0448\\u0442\\u043e\\u0440\\u043a\\u0438 \\u043d\\u0430 \\u0432\\u0430\\u043d\\u043d\\u0443\",\"all/\\u0432\\u0430\\u043d\\u043d\\u044b \\u0438 \\u043a\\u043e\\u043c\\u043f\\u043b\\u0435\\u043a\\u0442\\u0443\\u044e\\u0449\\u0438\\u0435/\\u0448\\u0442\\u043e\\u0440\\u043a\\u0438 \\u0441\\u0442\\u0435\\u043a\\u043b\\u044f\\u043d\\u043d\\u044b\\u0435\",\"all/\\u0432\\u0430\\u043d\\u043d\\u044b \\u0438 \\u043a\\u043e\\u043c\\u043f\\u043b\\u0435\\u043a\\u0442\\u0443\\u044e\\u0449\\u0438\\u0435/\\u0448\\u0442\\u043e\\u0440\\u043a\\u0438 \\u0442\\u0435\\u043a\\u0441\\u0442\\u0438\\u043b\\u044c\\u043d\\u044b\\u0435\",\"all/\\u0432\\u0430\\u043d\\u043d\\u044b \\u0438 \\u043a\\u043e\\u043c\\u043f\\u043b\\u0435\\u043a\\u0442\\u0443\\u044e\\u0449\\u0438\\u0435/\\u044d\\u043a\\u0440\\u0430\\u043d\\u044b \\u0434\\u043b\\u044f \\u0432\\u0430\\u043d\\u043d\",\"all/\\u0430\\u043a\\u0441\\u0435\\u0441\\u0441\\u0443\\u0430\\u0440\\u044b/\\u0451\\u0440\\u0448\\u0438\\u043a\\u0438\",\"all/ \\u0443\\u043d\\u0438\\u0442\\u0430\\u0437\\u044b, \\u0431\\u0438\\u0434\\u0435, \\u043f\\u0438\\u0441\\u0441\\u0443\\u0430\\u0440\\u044b \\u0438 \\u043a\\u043e\\u043c\\u043f\\u043b\\u0435\\u043a\\u0442\\u0443\\u044e\\u0449\\u0438\\u0435\",\"all/\\u0430\\u043a\\u0441\\u0435\\u0441\\u0441\\u0443\\u0430\\u0440\\u044b\",\"all/\\u0430\\u043a\\u0441\\u0435\\u0441\\u0441\\u0443\\u0430\\u0440\\u044b \\u0434\\u043b\\u044f \\u0432\\u0430\\u043d\\u043d\\u043e\\u0439 \\u043a\\u043e\\u043c\\u043d\\u0430\\u0442\\u044b\",\"all/\\u0432\\u0430\\u043d\\u043d\\u044b \\u0438 \\u043a\\u043e\\u043c\\u043f\\u043b\\u0435\\u043a\\u0442\\u0443\\u044e\\u0449\\u0438\\u0435\",\"all/\\u0432\\u043e\\u0434\\u043e\\u043d\\u0430\\u0433\\u0440\\u0435\\u0432\\u0430\\u0442\\u0435\\u043b\\u0438\",\"all/\\u0432\\u043e\\u0434\\u043e\\u0441\\u043d\\u0430\\u0431\\u0436\\u0435\\u043d\\u0438\\u0435\",\"all/\\u0434\\u043b\\u044f \\u0434\\u0430\\u0447\\u0438 \\u0438 \\u0431\\u0430\\u043d\\u0438\",\"all/\\u0434\\u043b\\u044f \\u043e\\u0431\\u0449\\u0435\\u0441\\u0442\\u0432\\u0435\\u043d\\u043d\\u044b\\u0445 \\u043c\\u0435\\u0441\\u0442\",\"all/\\u0434\\u0443\\u0448\\u0435\\u0432\\u044b\\u0435 \\u043a\\u0430\\u0431\\u0438\\u043d\\u044b, \\u043e\\u0433\\u0440\\u0430\\u0436\\u0434\\u0435\\u043d\\u0438\\u044f \\u0438 \\u043a\\u043e\\u043c\\u043f\\u043b\\u0435\\u043a\\u0442\\u0443\\u044e\\u0449\\u0438\\u0435\",\"all/\\u0438\\u043d\\u0436\\u0435\\u043d\\u0435\\u0440\\u043d\\u0430\\u044f \\u0441\\u0430\\u043d\\u0442\\u0435\\u0445\\u043d\\u0438\\u043a\\u0430\",\"all/\\u0438\\u043d\\u0441\\u0442\\u0430\\u043b\\u043b\\u044f\\u0446\\u0438\\u0438, \\u043a\\u043d\\u043e\\u043f\\u043a\\u0438 \\u0441\\u043c\\u044b\\u0432\\u0430 \\u0438 \\u043a\\u043e\\u043c\\u043f\\u043b\\u0435\\u043a\\u0442\\u0443\\u044e\\u0449\\u0438\\u0435\",\"all/\\u043a\\u0443\\u0445\\u043e\\u043d\\u043d\\u044b\\u0435 \\u043c\\u043e\\u0439\\u043a\\u0438 \\u0438 \\u043a\\u043e\\u043c\\u043f\\u043b\\u0435\\u043a\\u0442\\u0443\\u044e\\u0449\\u0438\\u0435\",\"all/\\u043c\\u0435\\u0431\\u0435\\u043b\\u044c \\u0434\\u043b\\u044f \\u0432\\u0430\\u043d\\u043d\\u043e\\u0439 \\u0438 \\u043a\\u043e\\u043c\\u043f\\u043b\\u0435\\u043a\\u0442\\u0443\\u044e\\u0449\\u0438\\u0435\",\"all/\\u043c\\u0435\\u0431\\u0435\\u043b\\u044c \\u0434\\u043b\\u044f \\u0432\\u0430\\u043d\\u043d\\u043e\\u0439 \\u043a\\u043e\\u043c\\u043d\\u0430\\u0442\\u044b\",\"all/\\u043e\\u0442\\u043e\\u043f\\u043b\\u0435\\u043d\\u0438\\u0435 \\u0438 \\u043a\\u043b\\u0438\\u043c\\u0430\\u0442\",\"all/\\u043f\\u043b\\u0438\\u0442\\u043a\\u0430 \\u0438 \\u043a\\u043e\\u043c\\u043f\\u043b\\u0435\\u043a\\u0442\\u0443\\u044e\\u0449\\u0438\\u0435\",\"all/\\u043f\\u043e\\u043b\\u043e\\u0442\\u0435\\u043d\\u0446\\u0435\\u0441\\u0443\\u0448\\u0438\\u0442\\u0435\\u043b\\u0438\",\"all/\\u0440\\u0430\\u043a\\u043e\\u0432\\u0438\\u043d\\u044b \\u0438 \\u043a\\u043e\\u043c\\u043f\\u043b\\u0435\\u043a\\u0442\\u0443\\u044e\\u0449\\u0438\\u0435\",\"all/\\u0441\\u0430\\u043d\\u0442\\u0435\\u0445\\u043d\\u0438\\u043a\\u0430\",\"all/\\u0441\\u043b\\u0438\\u0432 \\u0438 \\u043a\\u0430\\u043d\\u0430\\u043b\\u0438\\u0437\\u0430\\u0446\\u0438\\u044f\",\"all/\\u0441\\u043c\\u0435\\u0441\\u0438\\u0442\\u0435\\u043b\\u0438, \\u0434\\u0443\\u0448 \\u0438 \\u043a\\u043e\\u043c\\u043f\\u043b\\u0435\\u043a\\u0442\\u0443\\u044e\\u0449\\u0438\\u0435\",\"all/\\u0443\\u043d\\u0438\\u0442\\u0430\\u0437\\u044b, \\u0431\\u0438\\u0434\\u0435, \\u043f\\u0438\\u0441\\u0441\\u0443\\u0430\\u0440\\u044b \\u0438 \\u043a\\u043e\\u043c\\u043f\\u043b\\u0435\\u043a\\u0442\\u0443\\u044e\\u0449\\u0438\\u0435\",\"all/\\u0444\\u0438\\u043b\\u044c\\u0442\\u0440\\u044b \\u0434\\u043b\\u044f \\u0432\\u043e\\u0434\\u044b \\u0438 \\u043a\\u0443\\u043b\\u0435\\u0440\\u044b\",\"all\"],\"labels\":[\" \\u043d\\u0430 \\u043f\\u043e\\u0434\\u0434\\u043e\\u043d\",\"\\u0430\\u043a\\u0440\\u0438\\u043b\\u043e\\u0432\\u044b\\u0435\",\"\\u0430\\u043a\\u0441\\u0435\\u0441\\u0441\\u0443\\u0430\\u0440\\u044b \\u0434\\u043b\\u044f \\u0431\\u0430\\u043d\\u0438\",\"\\u0430\\u043a\\u0441\\u0435\\u0441\\u0441\\u0443\\u0430\\u0440\\u044b \\u0434\\u043b\\u044f \\u0431\\u0438\\u0434\\u0435\",\"\\u0430\\u043a\\u0441\\u0435\\u0441\\u0441\\u0443\\u0430\\u0440\\u044b \\u0434\\u043b\\u044f \\u0432\\u0430\\u043d\\u043d\\u043e\\u0439 \\u043a\\u043e\\u043c\\u043d\\u0430\\u0442\\u044b\",\"\\u0430\\u043a\\u0441\\u0435\\u0441\\u0441\\u0443\\u0430\\u0440\\u044b \\u0434\\u043b\\u044f \\u0432\\u0430\\u043d\\u043d\\u044b\",\"\\u0430\\u043a\\u0441\\u0435\\u0441\\u0441\\u0443\\u0430\\u0440\\u044b \\u0434\\u043b\\u044f \\u0434\\u0443\\u0448\\u0430\",\"\\u0430\\u043a\\u0441\\u0435\\u0441\\u0441\\u0443\\u0430\\u0440\\u044b \\u0434\\u043b\\u044f \\u043c\\u043e\\u0435\\u043a\",\"\\u0430\\u043a\\u0441\\u0435\\u0441\\u0441\\u0443\\u0430\\u0440\\u044b \\u0434\\u043b\\u044f \\u043f\\u0438\\u0441\\u0441\\u0443\\u0430\\u0440\\u043e\\u0432\",\"\\u0430\\u043a\\u0441\\u0435\\u0441\\u0441\\u0443\\u0430\\u0440\\u044b \\u0434\\u043b\\u044f \\u043f\\u0438\\u0441\\u0441\\u0443\\u0430\\u0440\\u043e\\u0432\",\"\\u0430\\u043a\\u0441\\u0435\\u0441\\u0441\\u0443\\u0430\\u0440\\u044b \\u0434\\u043b\\u044f \\u0443\\u043d\\u0438\\u0442\\u0430\\u0437\\u043e\\u0432\",\"\\u0430\\u043a\\u0441\\u0435\\u0441\\u0441\\u0443\\u0430\\u0440\\u044b \\u0434\\u043b\\u044f \\u0443\\u043d\\u0438\\u0442\\u0430\\u0437\\u043e\\u0432\",\"\\u0430\\u043a\\u0441\\u0435\\u0441\\u0441\\u0443\\u0430\\u0440\\u044b \\u043d\\u0430 \\u0440\\u0430\\u043a\\u043e\\u0432\\u0438\\u043d\\u0443\",\"\\u0430\\u043a\\u0441\\u0435\\u0441\\u0441\\u0443\\u0430\\u0440\\u044b \\u043d\\u0430 \\u0440\\u0430\\u043a\\u043e\\u0432\\u0438\\u043d\\u0443\",\"\\u0431\\u0430\\u043a\\u0438 \\u0438 \\u0435\\u043c\\u043a\\u043e\\u0441\\u0442\\u0438\",\"\\u0431\\u0430\\u043a\\u0438 \\u0438 \\u0435\\u043c\\u043a\\u043e\\u0441\\u0442\\u0438\",\"\\u0431\\u0430\\u043d\\u043d\\u044b\\u0439 \\u0442\\u0435\\u043a\\u0441\\u0442\\u0438\\u043b\\u044c\",\"\\u0431\\u0430\\u0441\\u0441\\u0435\\u0439\\u043d\\u044b\",\"\\u0431\\u0438\\u0434\\u0435\",\"\\u0431\\u0438\\u0434\\u0435\",\"\\u0431\\u0438\\u043e\\u0442\\u0443\\u0430\\u043b\\u0435\\u0442\\u044b\",\"\\u0431\\u043e\\u043a\\u0441\\u044b \\u0434\\u043b\\u044f \\u0441\\u0430\\u043b\\u0444\\u0435\\u0442\\u043e\\u043a\",\"\\u0431\\u043e\\u043d\\u0434\\u0430\\u0440\\u043d\\u044b\\u0435 \\u0438\\u0437\\u0434\\u0435\\u043b\\u0438\\u044f\",\"\\u0431\\u043e\\u0440\\u0434\\u044e\\u0440\\u044b\",\"\\u0431\\u0443\\u043c\\u0430\\u0436\\u043d\\u044b\\u0435 \\u043f\\u043e\\u043b\\u043e\\u0442\\u0435\\u043d\\u0446\\u0430\",\"\\u0431\\u044b\\u0442\\u043e\\u0432\\u0430\\u044f \\u0445\\u0438\\u043c\\u0438\\u044f\",\"\\u0432\\u0430\\u043d\\u043d\\u044b\",\"\\u0432\\u0430\\u043d\\u043d\\u044b\",\"\\u0432\\u0435\\u0434\\u0440\\u0430\",\"\\u0432\\u0435\\u043d\\u0438\\u043a\\u0438 \\u0434\\u043b\\u044f \\u0431\\u0430\\u043d\\u0438 \\u0438 \\u0441\\u0430\\u0443\\u043d\\u044b\",\"\\u0432\\u0435\\u0448\\u0430\\u043b\\u043a\\u0438 \\u0434\\u043b\\u044f \\u0432\\u0430\\u043d\\u043d\\u043e\\u0439 \\u043a\\u043e\\u043c\\u043d\\u0430\\u0442\\u044b\",\"\\u0432\\u0435\\u0448\\u0430\\u043b\\u043a\\u0438 \\u0434\\u043b\\u044f \\u0432\\u0430\\u043d\\u043d\\u043e\\u0439 \\u043a\\u043e\\u043c\\u043d\\u0430\\u0442\\u044b\",\"\\u0432\\u043e\\u0434\\u043e\\u043d\\u0430\\u0433\\u0440\\u0435\\u0432\\u0430\\u0442\\u0435\\u043b\\u0438\",\"\\u0432\\u043e\\u0434\\u043e\\u043d\\u0430\\u0433\\u0440\\u0435\\u0432\\u0430\\u0442\\u0435\\u043b\\u0438\",\"\\u0432\\u043e\\u0434\\u043e\\u043d\\u0430\\u0433\\u0440\\u0435\\u0432\\u0430\\u0442\\u0435\\u043b\\u0438\",\"\\u0432\\u0441\\u0435 \\u043a\\u0430\\u0442\\u0435\\u0433\\u043e\\u0440\\u0438\\u0438\",\"\\u0432\\u0441\\u0442\\u0440\\u0430\\u0438\\u0432\\u0430\\u0435\\u043c\\u044b\\u0435\",\"\\u0432\\u0441\\u0442\\u0440\\u0430\\u0438\\u0432\\u0430\\u0435\\u043c\\u044b\\u0435 \\u0434\\u0443\\u0448\\u0435\\u0432\\u044b\\u0435 \\u043a\\u043e\\u043c\\u043f\\u043b\\u0435\\u043a\\u0442\\u044b\",\"\\u0432\\u0441\\u0442\\u0440\\u0430\\u0438\\u0432\\u0430\\u0435\\u043c\\u044b\\u0435 \\u0434\\u0443\\u0448\\u0435\\u0432\\u044b\\u0435 \\u0441\\u0438\\u0441\\u0442\\u0435\\u043c\\u044b \\u0434\\u043b\\u044f \\u0432\\u0430\\u043d\\u043d\\u044b\",\"\\u0432\\u0441\\u0442\\u0440\\u0430\\u0438\\u0432\\u0430\\u0435\\u043c\\u044b\\u0435 \\u0441\\u0438\\u0441\\u0442\\u0435\\u043c\\u044b \\u0434\\u043b\\u044f&nbsp;\\u0434\\u0443\\u0448\\u0430\",\"\\u0432\\u044b\\u0442\\u044f\\u0436\\u043d\\u044b\\u0435 \\u0432\\u0435\\u043d\\u0442\\u0438\\u043b\\u044f\\u0442\\u043e\\u0440\\u044b\",\"\\u0433\\u0430\\u0440\\u043d\\u0438\\u0442\\u0443\\u0440\\u044b \\u0434\\u043b\\u044f \\u0432\\u0430\\u043d\\u043d\\u043e\\u0439 \\u043a\\u043e\\u043c\\u043d\\u0430\\u0442\\u044b\",\"\\u0433\\u0438\\u0433\\u0438\\u0435\\u043d\\u0438\\u0447\\u0435\\u0441\\u043a\\u0438\\u0435 \\u0434\\u0443\\u0448\\u0438\",\"\\u0433\\u0438\\u0433\\u0438\\u0435\\u043d\\u0438\\u0447\\u0435\\u0441\\u043a\\u0438\\u0435 \\u0434\\u0443\\u0448\\u0438\",\"\\u0433\\u0438\\u0433\\u0438\\u0435\\u043d\\u0438\\u0447\\u0435\\u0441\\u043a\\u0438\\u0435 \\u0434\\u0443\\u0448\\u0438\",\"\\u0433\\u0438\\u0433\\u0440\\u043e\\u043c\\u0435\\u0442\\u0440\\u044b\",\"\\u0433\\u043b\\u0430\\u0434\\u0438\\u043b\\u044c\\u043d\\u044b\\u0435 \\u0434\\u043e\\u0441\\u043a\\u0438\",\"\\u0433\\u043e\\u0440\\u0448\\u043a\\u0438 \\u0438 \\u043a\\u0430\\u0448\\u043f\\u043e\",\"\\u0433\\u043e\\u0444\\u0440\\u044b \\u0438 \\u043e\\u0442\\u0432\\u043e\\u0434\\u044b\",\"\\u0434\\u0430\\u0447\\u043d\\u044b\\u0435 \\u0434\\u0443\\u0448\\u0438\",\"\\u0434\\u0432\\u0435\\u0440\\u0438\",\"\\u0434\\u0435\\u0440\\u0436\\u0430\\u0442\\u0435\\u043b\\u0438 \\u0434\\u043b\\u044f \\u0433\\u0430\\u0437\\u0435\\u0442\",\"\\u0434\\u0435\\u0440\\u0436\\u0430\\u0442\\u0435\\u043b\\u0438 \\u0434\\u043b\\u044f \\u0437\\u0430\\u043f\\u0430\\u0441\\u043d\\u044b\\u0445 \\u0440\\u0443\\u043b\\u043e\\u043d\\u043e\\u0432\",\"\\u0434\\u0435\\u0440\\u0436\\u0430\\u0442\\u0435\\u043b\\u0438 \\u0434\\u043b\\u044f \\u0442\\u0443\\u0430\\u043b\\u0435\\u0442\\u043d\\u043e\\u0439 \\u0431\\u0443\\u043c\\u0430\\u0433\\u0438\",\"\\u0434\\u0435\\u0440\\u0436\\u0430\\u0442\\u0435\\u043b\\u0438 \\u0434\\u043b\\u044f \\u0444\\u0435\\u043d\\u0430\",\"\\u0434\\u0435\\u0440\\u0436\\u0430\\u0442\\u0435\\u043b\\u0438 \\u0437\\u0430\\u043f\\u0430\\u0441\\u043d\\u044b\\u0445 \\u0440\\u0443\\u043b\\u043e\\u043d\\u043e\\u0432\",\"\\u0434\\u0435\\u0440\\u0436\\u0430\\u0442\\u0435\\u043b\\u0438 \\u043e\\u0441\\u0432\\u0435\\u0436\\u0438\\u0442\\u0435\\u043b\\u044f \\u0432\\u043e\\u0437\\u0434\\u0443\\u0445\\u0430\",\"\\u0434\\u0435\\u0440\\u0436\\u0430\\u0442\\u0435\\u043b\\u0438 \\u0442\\u0443\\u0430\\u043b\\u0435\\u0442\\u043d\\u043e\\u0439 \\u0431\\u0443\\u043c\\u0430\\u0433\\u0438\",\"\\u0434\\u0438\\u0441\\u043f\\u0435\\u043d\\u0441\\u0435\\u0440\\u044b\",\"\\u0434\\u0438\\u0441\\u043f\\u0435\\u043d\\u0441\\u0435\\u0440\\u044b \\u0432\\u0430\\u0442\\u043d\\u044b\\u0445 \\u0434\\u0438\\u0441\\u043a\\u043e\\u0432\",\"\\u0434\\u043b\\u044f \\u0431\\u0443\\u043c\\u0430\\u0436\\u043d\\u044b\\u0445 \\u043f\\u043e\\u043b\\u043e\\u0442\\u0435\\u043d\\u0435\\u0446\",\"\\u0434\\u043b\\u044f \\u0432\\u0430\\u043d\\u043d\\u043e\\u0439 \\u043a\\u043e\\u043c\\u043d\\u0430\\u0442\\u044b\",\"\\u0434\\u043b\\u044f \\u0432\\u0430\\u043d\\u043d\\u044b\",\"\\u0434\\u043b\\u044f \\u0432\\u0430\\u043d\\u043d\\u044b \\u0441 \\u0434\\u0443\\u0448\\u0435\\u043c\",\"\\u0434\\u043b\\u044f \\u0432\\u0430\\u043d\\u043d\\u044b \\u0441 \\u0434\\u0443\\u0448\\u0435\\u043c\",\"\\u0434\\u043b\\u044f \\u0433\\u043e\\u0441\\u0442\\u0438\\u043d\\u043e\\u0439\",\"\\u0434\\u043b\\u044f \\u0434\\u0443\\u0448\\u0430\",\"\\u0434\\u043b\\u044f \\u0434\\u0443\\u0448\\u0430\",\"\\u0434\\u043b\\u044f \\u0434\\u0443\\u0448\\u0430\",\"\\u0434\\u043b\\u044f \\u043a\\u0443\\u0445\\u043d\\u0438\",\"\\u0434\\u043b\\u044f \\u043a\\u0443\\u0445\\u043e\\u043d\\u043d\\u043e\\u0439 \\u043c\\u043e\\u0439\\u043a\\u0438\",\"\\u0434\\u043b\\u044f \\u043c\\u044b\\u043b\\u0430\",\"\\u0434\\u043b\\u044f \\u043e\\u0431\\u0449\\u0435\\u0441\\u0442\\u0432\\u0435\\u043d\\u043d\\u044b\\u0445 \\u043c\\u0435\\u0441\\u0442\",\"\\u0434\\u043b\\u044f \\u043e\\u0441\\u0432\\u0435\\u0436\\u0438\\u0442\\u0435\\u043b\\u0435\\u0439 \\u0432\\u043e\\u0437\\u0434\\u0443\\u0445\\u0430\",\"\\u0434\\u043b\\u044f \\u043f\\u043e\\u043b\\u0430\",\"\\u0434\\u043b\\u044f \\u043f\\u043e\\u043b\\u043e\\u0442\\u0435\\u043d\\u0435\\u0446\",\"\\u0434\\u043b\\u044f \\u0440\\u0430\\u043a\\u043e\\u0432\\u0438\\u043d\\u044b\",\"\\u0434\\u043b\\u044f \\u0440\\u0430\\u043a\\u043e\\u0432\\u0438\\u043d\\u044b\",\"\\u0434\\u043b\\u044f \\u0440\\u0430\\u043a\\u043e\\u0432\\u0438\\u043d\\u044b\",\"\\u0434\\u043b\\u044f \\u0441\\u0430\\u0434\\u0430 \\u0438 \\u0443\\u043b\\u0438\\u0446\\u044b\",\"\\u0434\\u043b\\u044f \\u0441\\u0430\\u043b\\u0444\\u0435\\u0442\\u043e\\u043a\",\"\\u0434\\u043b\\u044f \\u0441\\u0442\\u0435\\u043d\",\"\\u0434\\u043b\\u044f \\u0441\\u0442\\u0435\\u043d \\u0438 \\u043f\\u043e\\u043b\\u0430\",\"\\u0434\\u043b\\u044f \\u0442\\u0443\\u0430\\u043b\\u0435\\u0442\\u0430\",\"\\u0434\\u043b\\u044f \\u0442\\u0443\\u0430\\u043b\\u0435\\u0442\\u043d\\u043e\\u0439 \\u0431\\u0443\\u043c\\u0430\\u0433\\u0438\",\"\\u0434\\u043e\\u0437\\u0430\\u0442\\u043e\\u0440\\u044b\",\"\\u0434\\u043e\\u043d\\u043d\\u044b\\u0435 \\u043a\\u043b\\u0430\\u043f\\u0430\\u043d\\u044b\",\"\\u0434\\u043e\\u043d\\u043d\\u044b\\u0435 \\u043a\\u043b\\u0430\\u043f\\u0430\\u043d\\u044b \\u0434\\u043b\\u044f \\u0440\\u0430\\u043a\\u043e\\u0432\\u0438\\u043d\",\"\\u0434\\u0443\\u0448 \\u043d\\u0430\\u0441\\u0442\\u0435\\u043d\\u043d\\u043e\\u0433\\u043e \\u043c\\u043e\\u043d\\u0442\\u0430\\u0436\\u0430\",\"\\u0434\\u0443\\u0448 \\u043d\\u0430\\u0441\\u0442\\u0435\\u043d\\u043d\\u043e\\u0433\\u043e \\u043c\\u043e\\u043d\\u0442\\u0430\\u0436\\u0430\",\"\\u0434\\u0443\\u0448\\u0435\\u0432\\u044b\\u0435 \\u0431\\u043e\\u043a\\u0441\\u044b\",\"\\u0434\\u0443\\u0448\\u0435\\u0432\\u044b\\u0435 \\u0433\\u0430\\u0440\\u043d\\u0438\\u0442\\u0443\\u0440\\u044b\",\"\\u0434\\u0443\\u0448\\u0435\\u0432\\u044b\\u0435 \\u0434\\u0432\\u0435\\u0440\\u0438 \\u0432 \\u043d\\u0438\\u0448\\u0443\",\"\\u0434\\u0443\\u0448\\u0435\\u0432\\u044b\\u0435 \\u0434\\u0432\\u0435\\u0440\\u0438 \\u0432 \\u043d\\u0438\\u0448\\u0443\",\"\\u0434\\u0443\\u0448\\u0435\\u0432\\u044b\\u0435 \\u043a\\u0430\\u0431\\u0438\\u043d\\u044b\",\"\\u0434\\u0443\\u0448\\u0435\\u0432\\u044b\\u0435 \\u043a\\u043e\\u043c\\u043f\\u043b\\u0435\\u043a\\u0442\\u044b\",\"\\u0434\\u0443\\u0448\\u0435\\u0432\\u044b\\u0435 \\u043a\\u043e\\u043c\\u043f\\u043b\\u0435\\u043a\\u0442\\u044b\",\"\\u0434\\u0443\\u0448\\u0435\\u0432\\u044b\\u0435 \\u043b\\u043e\\u0442\\u043a\\u0438\",\"\\u0434\\u0443\\u0448\\u0435\\u0432\\u044b\\u0435 \\u043b\\u043e\\u0442\\u043a\\u0438\",\"\\u0434\\u0443\\u0448\\u0435\\u0432\\u044b\\u0435 \\u043f\\u0435\\u0440\\u0435\\u0433\\u043e\\u0440\\u043e\\u0434\\u043a\\u0438\",\"\\u0434\\u0443\\u0448\\u0435\\u0432\\u044b\\u0435 \\u043f\\u043e\\u0434\\u0434\\u043e\\u043d\\u044b\",\"\\u0434\\u0443\\u0448\\u0435\\u0432\\u044b\\u0435 \\u0441\\u0442\\u043e\\u0439\\u043a\\u0438\",\"\\u0434\\u0443\\u0448\\u0435\\u0432\\u044b\\u0435 \\u0441\\u0442\\u043e\\u0439\\u043a\\u0438\",\"\\u0434\\u0443\\u0448\\u0435\\u0432\\u044b\\u0435 \\u0442\\u0440\\u0430\\u043f\\u044b\",\"\\u0434\\u0443\\u0448\\u0435\\u0432\\u044b\\u0435 \\u0443\\u0433\\u043b\\u044b\",\"\\u0434\\u0443\\u0448\\u0435\\u0432\\u044b\\u0435 \\u0443\\u0433\\u043e\\u043b\\u043a\\u0438\",\"\\u0434\\u044b\\u043c\\u043e\\u0445\\u043e\\u0434\\u044b\",\"\\u0435\\u0440\\u0448\\u0438\\u043a\\u0438\",\"\\u0435\\u0440\\u0448\\u0438\\u043a\\u0438\",\"\\u0437\\u0430\\u043f\\u0430\\u0440\\u043d\\u0438\\u043a\\u0438\",\"\\u0437\\u0430\\u043f\\u043e\\u0440\\u043d\\u0430\\u044f \\u0430\\u0440\\u043c\\u0430\\u0442\\u0443\\u0440\\u0430\",\"\\u0437\\u0430\\u0442\\u0438\\u0440\\u043a\\u0438 \\u0438 \\u043a\\u0440\\u0435\\u0441\\u0442\\u0438\\u043a\\u0438\",\"\\u0437\\u0435\\u0440\\u043a\\u0430\\u043b\\u0430\",\"\\u0437\\u0435\\u0440\\u043a\\u0430\\u043b\\u0430\",\"\\u0437\\u0435\\u0440\\u043a\\u0430\\u043b\\u0430\",\"\\u0437\\u0435\\u0440\\u043a\\u0430\\u043b\\u0430-\\u0448\\u043a\\u0430\\u0444\\u044b\",\"\\u0438\\u0437\\u043c\\u0435\\u043b\\u044c\\u0447\\u0438\\u0442\\u0435\\u043b\\u0438 \\u043e\\u0442\\u0445\\u043e\\u0434\\u043e\\u0432\",\"\\u0438\\u0437\\u043c\\u0435\\u043b\\u044c\\u0447\\u0438\\u0442\\u0435\\u043b\\u044c \\u043e\\u0442\\u0445\\u043e\\u0434\\u043e\\u0432\",\"\\u0438\\u0437\\u043c\\u0435\\u0440\\u0438\\u0442\\u0435\\u043b\\u044c\\u043d\\u044b\\u0435 \\u043f\\u0440\\u0438\\u0431\\u043e\\u0440\\u044b\",\"\\u0438\\u043d\\u0441\\u0442\\u0430\\u043b\\u043b\\u044f\\u0446\\u0438\\u0438 \\u0434\\u043b\\u044f \\u0431\\u0438\\u0434\\u0435\",\"\\u0438\\u043d\\u0441\\u0442\\u0430\\u043b\\u043b\\u044f\\u0446\\u0438\\u0438 \\u0434\\u043b\\u044f \\u0431\\u0438\\u0434\\u0435\",\"\\u0438\\u043d\\u0441\\u0442\\u0430\\u043b\\u043b\\u044f\\u0446\\u0438\\u0438 \\u0434\\u043b\\u044f \\u0431\\u0438\\u0434\\u0435\",\"\\u0438\\u043d\\u0441\\u0442\\u0430\\u043b\\u043b\\u044f\\u0446\\u0438\\u0438 \\u0434\\u043b\\u044f \\u043f\\u0438\\u0441\\u0441\\u0443\\u0430\\u0440\\u043e\\u0432\",\"\\u0438\\u043d\\u0441\\u0442\\u0430\\u043b\\u043b\\u044f\\u0446\\u0438\\u0438 \\u0434\\u043b\\u044f \\u043f\\u0438\\u0441\\u0441\\u0443\\u0430\\u0440\\u043e\\u0432\",\"\\u0438\\u043d\\u0441\\u0442\\u0430\\u043b\\u043b\\u044f\\u0446\\u0438\\u0438 \\u0434\\u043b\\u044f \\u043f\\u0438\\u0441\\u0441\\u0443\\u0430\\u0440\\u043e\\u0432\",\"\\u0438\\u043d\\u0441\\u0442\\u0430\\u043b\\u043b\\u044f\\u0446\\u0438\\u0438 \\u0434\\u043b\\u044f \\u0440\\u0430\\u043a\\u043e\\u0432\\u0438\\u043d\",\"\\u0438\\u043d\\u0441\\u0442\\u0430\\u043b\\u043b\\u044f\\u0446\\u0438\\u0438 \\u0434\\u043b\\u044f \\u0443\\u043d\\u0438\\u0442\\u0430\\u0437\\u043e\\u0432\",\"\\u0438\\u043d\\u0441\\u0442\\u0430\\u043b\\u043b\\u044f\\u0446\\u0438\\u0438 \\u0434\\u043b\\u044f \\u0443\\u043d\\u0438\\u0442\\u0430\\u0437\\u043e\\u0432\",\"\\u0438\\u043d\\u0441\\u0442\\u0430\\u043b\\u043b\\u044f\\u0446\\u0438\\u0438 \\u0438 \\u043a\\u043d\\u043e\\u043f\\u043a\\u0438 \\u0441\\u043c\\u044b\\u0432\\u0430\",\"\\u0438\\u043d\\u0441\\u0442\\u0430\\u043b\\u043b\\u044f\\u0446\\u0438\\u0438 \\u0438 \\u043a\\u043d\\u043e\\u043f\\u043a\\u0438 \\u0441\\u043c\\u044b\\u0432\\u0430\",\"\\u0438\\u043d\\u0441\\u0442\\u0430\\u043b\\u043b\\u044f\\u0446\\u0438\\u0438 \\u0438 \\u043a\\u043d\\u043e\\u043f\\u043a\\u0438 \\u0441\\u043c\\u044b\\u0432\\u0430\",\"\\u043a\\u0430\\u043c\\u0438\\u043d\\u044b\",\"\\u043a\\u0430\\u0440\\u043d\\u0438\\u0437\\u044b\",\"\\u043a\\u0430\\u0440\\u043d\\u0438\\u0437\\u044b \\u0434\\u043b\\u044f \\u0432\\u0430\\u043d\\u043d\\u043e\\u0439\",\"\\u043a\\u0430\\u0440\\u043d\\u0438\\u0437\\u044b \\u0434\\u043b\\u044f \\u0448\\u0442\\u043e\\u0440\\u043e\\u043a\",\"\\u043a\\u0430\\u0440\\u0442\\u0440\\u0438\\u0434\\u0436\\u0438 \\u043a \\u043c\\u0430\\u0433\\u0438\\u0441\\u0442\\u0440\\u0430\\u043b\\u044c\\u043d\\u044b\\u043c \\u0444\\u0438\\u043b\\u044c\\u0442\\u0440\\u0430\\u043c\",\"\\u043a\\u0430\\u0440\\u0442\\u0440\\u0438\\u0434\\u0436\\u0438 \\u043a \\u0444\\u0438\\u043b\\u044c\\u0442\\u0440\\u0430\\u043c \\u043f\\u0438\\u0442\\u044c\\u0435\\u0432\\u043e\\u0439 \\u0432\\u043e\\u0434\\u044b\",\"\\u043a\\u0435\\u0440\\u0430\\u043c\\u0438\\u0447\\u0435\\u0441\\u043a\\u0430\\u044f\",\"\\u043a\\u0435\\u0440\\u0430\\u043c\\u043e\\u0433\\u0440\\u0430\\u043d\\u0438\\u0442\",\"\\u043a\\u043b\\u0438\\u043d\\u043a\\u0435\\u0440\\u043d\\u0430\\u044f\",\"\\u043a\\u043d\\u043e\\u043f\\u043a\\u0438 \\u0441\\u043c\\u044b\\u0432\\u0430\",\"\\u043a\\u043e\\u0432\\u0440\\u0438\\u043a\\u0438\",\"\\u043a\\u043e\\u0432\\u0440\\u0438\\u043a\\u0438\",\"\\u043a\\u043e\\u0432\\u0448\\u0438\",\"\\u043a\\u043e\\u043c\\u043e\\u0434\\u044b\",\"\\u043a\\u043e\\u043c\\u043e\\u0434\\u044b \\u0434\\u043b\\u044f \\u0432\\u0430\\u043d\\u043d\\u043e\\u0439 \\u043a\\u043e\\u043c\\u043d\\u0430\\u0442\\u044b\",\"\\u043a\\u043e\\u043c\\u043f\\u043b\\u0435\\u043a\\u0442 \\u0434\\u043b\\u044f \\u0432\\u0430\\u043d\\u043d\\u044b\",\"\\u043a\\u043e\\u043c\\u043f\\u043b\\u0435\\u043a\\u0442 \\u0434\\u043b\\u044f \\u0434\\u0443\\u0448\\u0430\",\"\\u043a\\u043e\\u043c\\u043f\\u043e\\u0441\\u0442\\u0435\\u0440\\u044b\",\"\\u043a\\u043e\\u043d\\u0434\\u0438\\u0446\\u0438\\u043e\\u043d\\u0435\\u0440\\u044b\",\"\\u043a\\u043e\\u043d\\u0441\\u043e\\u043b\\u0438 \\u0441 \\u0440\\u0430\\u043a\\u043e\\u0432\\u0438\\u043d\\u043e\\u0439\",\"\\u043a\\u043e\\u043d\\u0441\\u043e\\u043b\\u0438 \\u0441 \\u0440\\u0430\\u043a\\u043e\\u0432\\u0438\\u043d\\u043e\\u0439\",\"\\u043a\\u043e\\u043d\\u0442\\u0435\\u0439\\u043d\\u0435\\u0440\\u044b\",\"\\u043a\\u043e\\u0440\\u0437\\u0438\\u043d\\u044b \\u0434\\u043b\\u044f \\u0431\\u0435\\u043b\\u044c\\u044f\",\"\\u043a\\u043e\\u0441\\u043c\\u0435\\u0442\\u0438\\u0447\\u0435\\u0441\\u043a\\u0438\\u0435 \\u0437\\u0435\\u0440\\u043a\\u0430\\u043b\\u0430\",\"\\u043a\\u043e\\u0442\\u043b\\u044b\",\"\\u043a\\u0440\\u0430\\u043d\\u044b \\u0434\\u043b\\u044f \\u043f\\u0438\\u0442\\u044c\\u0435\\u0432\\u043e\\u0439 \\u0432\\u043e\\u0434\\u044b\",\"\\u043a\\u0440\\u044e\\u0447\\u043a\\u0438 \\u0434\\u043b\\u044f \\u0432\\u0430\\u043d\\u043d\\u043e\\u0439 \\u043a\\u043e\\u043c\\u043d\\u0430\\u0442\\u044b\",\"\\u043a\\u0443\\u043b\\u0435\\u0440\\u044b \\u0438 \\u043f\\u0443\\u0440\\u0438\\u0444\\u0430\\u0439\\u0435\\u0440\\u044b\",\"\\u043a\\u0443\\u0445\\u043e\\u043d\\u043d\\u044b\\u0435 \\u043c\\u043e\\u0439\\u043a\\u0438\",\"\\u043c\\u0430\\u0433\\u0438\\u0441\\u0442\\u0440\\u0430\\u043b\\u044c\\u043d\\u044b\\u0435 \\u0444\\u0438\\u043b\\u044c\\u0442\\u0440\\u044b\",\"\\u043c\\u0430\\u0433\\u0438\\u0441\\u0442\\u0440\\u0430\\u043b\\u044c\\u043d\\u044b\\u0435 \\u0444\\u0438\\u043b\\u044c\\u0442\\u0440\\u044b \\u0433\\u0440\\u0443\\u0431\\u043e\\u0439 \\u043e\\u0447\\u0438\\u0441\\u0442\\u043a\\u0438\",\"\\u043c\\u0430\\u0433\\u0438\\u0441\\u0442\\u0440\\u0430\\u043b\\u044c\\u043d\\u044b\\u0435 \\u0444\\u0438\\u043b\\u044c\\u0442\\u0440\\u044b \\u0442\\u043e\\u043d\\u043a\\u043e\\u0439 \\u043e\\u0447\\u0438\\u0441\\u0442\\u043a\\u0438\",\"\\u043c\\u0435\\u0431\\u0435\\u043b\\u044c \\u0434\\u043b\\u044f \\u0431\\u0430\\u043d\\u0438\",\"\\u043c\\u0435\\u0431\\u0435\\u043b\\u044c \\u0434\\u043b\\u044f \\u0432\\u0430\\u043d\\u043d\\u043e\\u0439 \\u043a\\u043e\\u043c\\u043d\\u0430\\u0442\\u044b\",\"\\u043c\\u0435\\u0431\\u0435\\u043b\\u044c \\u043f\\u043e\\u0434 \\u0441\\u0442\\u0438\\u0440\\u0430\\u043b\\u044c\\u043d\\u0443\\u044e \\u043c\\u0430\\u0448\\u0438\\u043d\\u0443\",\"\\u043c\\u0435\\u0431\\u0435\\u043b\\u044c \\u043f\\u043e\\u0434 \\u0441\\u0442\\u0438\\u0440\\u0430\\u043b\\u044c\\u043d\\u0443\\u044e \\u043c\\u0430\\u0448\\u0438\\u043d\\u0443\",\"\\u043c\\u0435\\u0431\\u0435\\u043b\\u044c \\u043f\\u043e\\u0434 \\u0441\\u0442\\u0438\\u0440\\u0430\\u043b\\u044c\\u043d\\u0443\\u044e \\u043c\\u0430\\u0448\\u0438\\u043d\\u0443 \\u0441 \\u0440\\u0430\\u043a\\u043e\\u0432\\u0438\\u043d\\u043e\\u0439\",\"\\u043c\\u0435\\u0431\\u0435\\u043b\\u044c \\u043f\\u043e\\u0434 \\u0441\\u0442\\u0438\\u0440\\u0430\\u043b\\u044c\\u043d\\u0443\\u044e \\u043c\\u0430\\u0448\\u0438\\u043d\\u0443 \\u0441 \\u0440\\u0430\\u043a\\u043e\\u0432\\u0438\\u043d\\u043e\\u0439\",\"\\u043c\\u0435\\u0431\\u0435\\u043b\\u044c\\u043d\\u044b\\u0435 \\u0433\\u0430\\u0440\\u043d\\u0438\\u0442\\u0443\\u0440\\u044b\",\"\\u043c\\u0435\\u0445\\u0430\\u043d\\u0438\\u0437\\u043c\\u044b \\u0441\\u043c\\u044b\\u0432\\u0430 \\u0434\\u043b\\u044f &nbsp; \\u043f\\u0438\\u0441\\u0441\\u0443\\u0430\\u0440\\u043e\\u0432\",\"\\u043c\\u043e\\u0439\\u043a\\u0438 \\u0432\\u043e\\u0437\\u0434\\u0443\\u0445\\u0430\",\"\\u043c\\u0443\\u0441\\u043e\\u0440\\u043d\\u044b\\u0435 \\u0432\\u0435\\u0434\\u0440\\u0430\",\"\\u043c\\u0443\\u0441\\u043e\\u0440\\u043d\\u044b\\u0435 \\u0432\\u0435\\u0434\\u0440\\u0430 \",\"\\u043c\\u044b\\u043b\\u044c\\u043d\\u0438\\u0446\\u044b\",\"\\u043d\\u0430 \\u043f\\u043e\\u043b\",\"\\u043d\\u0430\\u0431\\u043e\\u0440\\u044b \\u0430\\u043a\\u0441\\u0435\\u0441\\u0441\\u0443\\u0430\\u0440\\u043e\\u0432\",\"\\u043d\\u0430\\u0431\\u043e\\u0440\\u044b \\u0430\\u043a\\u0441\\u0435\\u0441\\u0441\\u0443\\u0430\\u0440\\u043e\\u0432 \\u0434\\u043b\\u044f \\u0432\\u0430\\u043d\\u043d\\u043e\\u0439\",\"\\u043d\\u0430\\u0431\\u043e\\u0440\\u044b \\u0434\\u0435\\u0440\\u0436\\u0430\\u0442\\u0435\\u043b\\u0435\\u0439 \\u043d\\u0430 \\u0441\\u0442\\u043e\\u0439\\u043a\\u0435\",\"\\u043d\\u0430\\u0431\\u043e\\u0440\\u044b \\u0434\\u043b\\u044f \\u0431\\u0430\\u043d\\u0438\",\"\\u043d\\u0430\\u043a\\u043b\\u0430\\u0434\\u043d\\u044b\\u0435\",\"\\u043d\\u0430\\u043a\\u043e\\u043f\\u0438\\u0442\\u0435\\u043b\\u044c\\u043d\\u044b\\u0435\",\"\\u043d\\u0430\\u043a\\u043e\\u043f\\u0438\\u0442\\u0435\\u043b\\u044c\\u043d\\u044b\\u0435 (\\u0431\\u043e\\u0439\\u043b\\u0435\\u0440\\u044b)\",\"\\u043d\\u0430\\u043f\\u043e\\u043b\\u044c\\u043d\\u044b\\u0435\",\"\\u043d\\u0430\\u0441\\u043e\\u0441\\u044b\",\"\\u043d\\u0430\\u0441\\u043e\\u0441\\u044b\",\"\\u043e\\u0441\\u0443\\u0448\\u0438\\u0442\\u0435\\u043b\\u0438 \\u0432\\u043e\\u0437\\u0434\\u0443\\u0445\\u0430\",\"\\u043e\\u0447\\u0438\\u0441\\u0442\\u0438\\u0442\\u0435\\u043b\\u0438 \\u0432\\u043e\\u0437\\u0434\\u0443\\u0445\\u0430\",\"\\u043e\\u0447\\u0438\\u0441\\u0442\\u0438\\u0442\\u0435\\u043b\\u044c \\u0434\\u043b\\u044f \\u0441\\u0442\\u0435\\u043a\\u043e\\u043b\",\"\\u043f\\u0435\\u0440\\u0435\\u0433\\u043e\\u0440\\u043e\\u0434\\u043a\\u0438 \\u0434\\u043b\\u044f \\u043f\\u0438\\u0441\\u0441\\u0443\\u0430\\u0440\\u043e\\u0432\",\"\\u043f\\u0435\\u0440\\u0435\\u0433\\u043e\\u0440\\u043e\\u0434\\u043a\\u0438 \\u0434\\u043b\\u044f \\u043f\\u0438\\u0441\\u0441\\u0443\\u0430\\u0440\\u043e\\u0432\",\"\\u043f\\u0438\\u0441\\u0441\\u0443\\u0430\\u0440\\u044b\",\"\\u043f\\u0438\\u0441\\u0441\\u0443\\u0430\\u0440\\u044b\",\"\\u043f\\u0438\\u0441\\u0441\\u0443\\u0430\\u0440\\u044b\",\"\\u043f\\u043b\\u0438\\u0442\\u043a\\u0430\",\"\\u043f\\u043b\\u0438\\u0442\\u043a\\u0430 \\u0434\\u043b\\u044f \\u0432\\u0430\\u043d\\u043d\\u043e\\u0439 \\u043a\\u043e\\u043c\\u043d\\u0430\\u0442\\u044b\",\"\\u043f\\u043b\\u0438\\u0442\\u043a\\u0430-\\u043c\\u043e\\u0437\\u0430\\u0438\\u043a\\u0430\",\"\\u043f\\u043e \\u043d\\u0430\\u0437\\u043d\\u0430\\u0447\\u0435\\u043d\\u0438\\u044e\",\"\\u043f\\u043e \\u043f\\u043e\\u043c\\u0435\\u0449\\u0435\\u043d\\u0438\\u044e\",\"\\u043f\\u043e\\u0434\\u0433\\u043e\\u043b\\u043e\\u0432\\u043d\\u0438\\u043a\\u0438\",\"\\u043f\\u043e\\u0434\\u0441\\u0442\\u0430\\u0432\\u043a\\u0438\",\"\\u043f\\u043e\\u043b\\u0438\\u0432 \\u0438 \\u043c\\u043e\\u0439\\u043a\\u0430\",\"\\u043f\\u043e\\u043b\\u043a\\u0438\",\"\\u043f\\u043e\\u043b\\u043a\\u0438 \\u0434\\u043b\\u044f \\u0434\\u0443\\u0448\\u0430\",\"\\u043f\\u043e\\u043b\\u043a\\u0438 \\u0434\\u043b\\u044f \\u0434\\u0443\\u0448\\u0430\",\"\\u043f\\u043e\\u043b\\u043a\\u0438 \\u0434\\u043b\\u044f \\u043f\\u043e\\u043b\\u043e\\u0442\\u0435\\u043d\\u0435\\u0446\",\"\\u043f\\u043e\\u043b\\u043a\\u0438 \\u043f\\u043e\\u0434 \\u0437\\u0435\\u0440\\u043a\\u0430\\u043b\\u043e\",\"\\u043f\\u043e\\u043b\\u043a\\u0438 \\u043f\\u043e\\u0434 \\u0437\\u0435\\u0440\\u043a\\u0430\\u043b\\u043e\",\"\\u043f\\u043e\\u043b\\u043e\\u0442\\u0435\\u043d\\u0446\\u0430\",\"\\u043f\\u043e\\u043b\\u043e\\u0442\\u0435\\u043d\\u0446\\u0435\\u0434\\u0435\\u0440\\u0436\\u0430\\u0442\\u0435\\u043b\\u0438\",\"\\u043f\\u043e\\u043b\\u043e\\u0442\\u0435\\u043d\\u0446\\u0435\\u0441\\u0443\\u0448\\u0438\\u0442\\u0435\\u043b\\u0438\",\"\\u043f\\u043e\\u043b\\u043e\\u0442\\u0435\\u043d\\u0446\\u0435\\u0441\\u0443\\u0448\\u0438\\u0442\\u0435\\u043b\\u0438\",\"\\u043f\\u043e\\u043b\\u043e\\u0442\\u0435\\u043d\\u0446\\u0435\\u0441\\u0443\\u0448\\u0438\\u0442\\u0435\\u043b\\u0438\",\"\\u043f\\u043e\\u043b\\u043e\\u0442\\u0435\\u043d\\u0446\\u0435\\u0441\\u0443\\u0448\\u0438\\u0442\\u0435\\u043b\\u0438\",\"\\u043f\\u043e\\u0440\\u0442\\u0430\\u043b\\u044b \\u0434\\u043b\\u044f \\u043a\\u0430\\u043c\\u0438\\u043d\\u0430\",\"\\u043f\\u043e\\u0440\\u0443\\u0447\\u043d\\u0438\",\"\\u043f\\u043e\\u044d\\u043b\\u0435\\u043c\\u0435\\u043d\\u0442\\u043d\\u043e\",\"\\u043f\\u0440\\u043e\\u0442\\u0438\\u0440\\u043e\\u0447\\u043d\\u044b\\u0439 \\u043c\\u0430\\u0442\\u0435\\u0440\\u0438\\u0430\\u043b\",\"\\u0440\\u0430\\u0434\\u0438\\u0430\\u0442\\u043e\\u0440\\u044b\",\"\\u0440\\u0430\\u0434\\u0438\\u0430\\u0442\\u043e\\u0440\\u044b \\u0438 \\u043e\\u0431\\u043e\\u0433\\u0440\\u0435\\u0432\\u0430\\u0442\\u0435\\u043b\\u0438\",\"\\u0440\\u0430\\u043a\\u043e\\u0432\\u0438\\u043d\\u0430 \\u043d\\u0430 \\u0441\\u0442\\u0438\\u0440\\u0430\\u043b\\u044c\\u043d\\u0443\\u044e \\u043c\\u0430\\u0448\\u0438\\u043d\\u0443\",\"\\u0440\\u0430\\u043a\\u043e\\u0432\\u0438\\u043d\\u0430 \\u043d\\u0430 \\u0441\\u0442\\u0438\\u0440\\u0430\\u043b\\u044c\\u043d\\u0443\\u044e \\u043c\\u0430\\u0448\\u0438\\u043d\\u0443\",\"\\u0440\\u0430\\u043a\\u043e\\u0432\\u0438\\u043d\\u0430 \\u0441 \\u043f\\u044c\\u0435\\u0434\\u0435\\u0441\\u0442\\u0430\\u043b\\u043e\\u043c\",\"\\u0440\\u0430\\u043a\\u043e\\u0432\\u0438\\u043d\\u0430 \\u0441 \\u043f\\u044c\\u0435\\u0434\\u0435\\u0441\\u0442\\u0430\\u043b\\u043e\\u043c\",\"\\u0440\\u0430\\u043a\\u043e\\u0432\\u0438\\u043d\\u044b\",\"\\u0440\\u0430\\u043a\\u043e\\u0432\\u0438\\u043d\\u044b\",\"\\u0440\\u0430\\u043a\\u043e\\u0432\\u0438\\u043d\\u044b \\u0441 \\u043f\\u044c\\u0435\\u0434\\u0435\\u0441\\u0442\\u0430\\u043b\\u043e\\u043c\",\"\\u0440\\u0430\\u0441\\u0445\\u043e\\u0434\\u043d\\u044b\\u0435 \\u043c\\u0430\\u0442\\u0435\\u0440\\u0438\\u0430\\u043b\\u044b\",\"\\u0440\\u0435\\u0432\\u0438\\u0437\\u0438\\u043e\\u043d\\u043d\\u044b\\u0435 \\u043b\\u044e\\u043a\\u0438\",\"\\u0440\\u0435\\u0432\\u0438\\u0437\\u0438\\u043e\\u043d\\u043d\\u044b\\u0435 \\u043b\\u044e\\u043a\\u0438\",\"\\u0440\\u0435\\u0432\\u0438\\u0437\\u0438\\u043e\\u043d\\u043d\\u044b\\u044b\\u0435 \\u043b\\u044e\\u043a\\u0438\",\"\\u0440\\u044f\\u0434\\u043e\\u043c \\u0441 \\u0440\\u0430\\u043a\\u043e\\u0432\\u0438\\u043d\\u043e\\u0439\",\"\\u0440\\u044f\\u0434\\u043e\\u043c \\u0441 \\u0440\\u0430\\u043a\\u043e\\u0432\\u0438\\u043d\\u043e\\u0439\",\"\\u0441 \\u043f\\u043e\\u0434\\u0441\\u0432\\u0435\\u0442\\u043a\\u043e\\u0439\",\"\\u0441\\u0430\\u043d\\u0442\\u0435\\u0445\\u043d\\u0438\\u043a\\u0430 \\u0434\\u043b\\u044f \\u0434\\u0430\\u0447\\u0438\",\"\\u0441\\u0430\\u043d\\u0442\\u0435\\u0445\\u043d\\u0438\\u0447\\u0435\\u0441\\u043a\\u0438\\u0435 \\u0448\\u043a\\u0430\\u0444\\u044b\",\"\\u0441\\u0430\\u043d\\u0442\\u0435\\u0445\\u043d\\u0438\\u0447\\u0435\\u0441\\u043a\\u0438\\u0435 \\u0448\\u043a\\u0430\\u0444\\u044b\",\"\\u0441\\u0430\\u043d\\u0442\\u0435\\u0445\\u043d\\u0438\\u0447\\u0435\\u0441\\u043a\\u0438\\u0435 \\u0448\\u043a\\u0430\\u0444\\u044b\",\"\\u0441\\u0432\\u0435\\u0442\\u0438\\u043b\\u044c\\u043d\\u0438\\u043a\\u0438\",\"\\u0441\\u0432\\u0435\\u0442\\u0438\\u043b\\u044c\\u043d\\u0438\\u043a\\u0438\",\"\\u0441\\u0432\\u0435\\u0442\\u0438\\u043b\\u044c\\u043d\\u0438\\u043a\\u0438\",\"\\u0441\\u0435\\u043d\\u0441\\u043e\\u0440\\u043d\\u044b\\u0435 \\u0441\\u043c\\u0435\\u0441\\u0438\\u0442\\u0435\\u043b\\u0438\",\"\\u0441\\u0438\\u0434\\u0435\\u043d\\u044c\\u044f\",\"\\u0441\\u0438\\u0434\\u0435\\u043d\\u044c\\u044f \\u0434\\u043b\\u044f \\u0434\\u0443\\u0448\\u0430\",\"\\u0441\\u0438\\u0434\\u0435\\u043d\\u044c\\u044f \\u0434\\u043b\\u044f \\u0434\\u0443\\u0448\\u0430\",\"\\u0441\\u0438\\u0434\\u0435\\u043d\\u044c\\u044f \\u043d\\u0430 \\u0432\\u0430\\u043d\\u043d\\u0443\",\"\\u0441\\u0438\\u0441\\u0442\\u0435\\u043c\\u044b \\u0437\\u0430\\u0449\\u0438\\u0442\\u044b \\u043e\\u0442 \\u043f\\u0440\\u043e\\u0442\\u0435\\u0447\\u0435\\u043a\",\"\\u0441\\u0438\\u0441\\u0442\\u0435\\u043c\\u044b \\u0437\\u0430\\u0449\\u0438\\u0442\\u044b \\u043e\\u0442 \\u043f\\u0440\\u043e\\u0442\\u0435\\u0447\\u0435\\u043a\",\"\\u0441\\u0438\\u0441\\u0442\\u0435\\u043c\\u044b \\u0437\\u0430\\u0449\\u0438\\u0442\\u044b \\u043e\\u0442 \\u043f\\u0440\\u043e\\u0442\\u0435\\u0447\\u0435\\u043a\",\"\\u0441\\u0438\\u0444\\u043e\\u043d\\u044b\",\"\\u0441\\u0438\\u0444\\u043e\\u043d\\u044b \\u0434\\u043b\\u044f \\u0431\\u0438\\u0434\\u0435\",\"\\u0441\\u0438\\u0444\\u043e\\u043d\\u044b \\u0434\\u043b\\u044f \\u0431\\u0438\\u0434\\u0435\",\"\\u0441\\u0438\\u0444\\u043e\\u043d\\u044b \\u0434\\u043b\\u044f \\u0434\\u0443\\u0448\\u0435\\u0432\\u044b\\u0445 \\u043f\\u043e\\u0434\\u0434\\u043e\\u043d\\u043e\\u0432\",\"\\u0441\\u0438\\u0444\\u043e\\u043d\\u044b \\u0434\\u043b\\u044f \\u043c\\u043e\\u0435\\u043a\",\"\\u0441\\u0438\\u0444\\u043e\\u043d\\u044b \\u0434\\u043b\\u044f \\u0440\\u0430\\u043a\\u043e\\u0432\\u0438\\u043d\",\"\\u0441\\u043a\\u0440\\u0435\\u0431\\u043a\\u0438 \\u0434\\u043b\\u044f \\u0441\\u0442\\u0451\\u043a\\u043e\\u043b\",\"\\u0441\\u043b\\u0438\\u0432 \\u0434\\u043b\\u044f \\u0443\\u043d\\u0438\\u0442\\u0430\\u0437\\u043e\\u0432\",\"\\u0441\\u043b\\u0438\\u0432 \\u0434\\u043b\\u044f \\u0443\\u043d\\u0438\\u0442\\u0430\\u0437\\u043e\\u0432\",\"\\u0441\\u043b\\u0438\\u0432 \\u0438 \\u043a\\u0430\\u043d\\u0430\\u043b\\u0438\\u0437\\u0430\\u0446\\u0438\\u044f\",\"\\u0441\\u043b\\u0438\\u0432 \\u0438 \\u043a\\u0430\\u043d\\u0430\\u043b\\u0438\\u0437\\u0430\\u0446\\u0438\\u044f\",\"\\u0441\\u043b\\u0438\\u0432 \\u0438 \\u043a\\u0430\\u043d\\u0430\\u043b\\u0438\\u0437\\u0430\\u0446\\u0438\\u044f\",\"\\u0441\\u043b\\u0438\\u0432\\u044b-\\u043f\\u0435\\u0440\\u0435\\u043b\\u0438\\u0432\\u044b\",\"\\u0441\\u043b\\u0438\\u0432\\u044b-\\u043f\\u0435\\u0440\\u0435\\u043b\\u0438\\u0432\\u044b\",\"\\u0441\\u043b\\u0438\\u0432\\u044b-\\u043f\\u0435\\u0440\\u0435\\u043b\\u0438\\u0432\\u044b \\u0434\\u043b\\u044f \\u0432\\u0430\\u043d\\u043d\",\"\\u0441\\u043c\\u0435\\u0441\\u0438\\u0442\\u0435\\u043b\\u0438 \\u0434\\u043b\\u044f \\u0431\\u0438\\u0434\\u0435\",\"\\u0441\\u043c\\u0435\\u0441\\u0438\\u0442\\u0435\\u043b\\u0438 \\u0434\\u043b\\u044f \\u0431\\u0438\\u0434\\u0435\",\"\\u0441\\u043c\\u0435\\u0441\\u0438\\u0442\\u0435\\u043b\\u0438 \\u0434\\u043b\\u044f \\u0432\\u0430\\u043d\\u043d\\u044b\",\"\\u0441\\u043c\\u0435\\u0441\\u0438\\u0442\\u0435\\u043b\\u0438 \\u0434\\u043b\\u044f \\u0432\\u0430\\u043d\\u043d\\u044b \\u0441 \\u0434\\u0443\\u0448\\u0435\\u043c\",\"\\u0441\\u043c\\u0435\\u0441\\u0438\\u0442\\u0435\\u043b\\u0438 \\u0434\\u043b\\u044f \\u0434\\u0443\\u0448\\u0430\",\"\\u0441\\u043c\\u0435\\u0441\\u0438\\u0442\\u0435\\u043b\\u0438 \\u0434\\u043b\\u044f \\u043a\\u0443\\u0445\\u043d\\u0438\",\"\\u0441\\u043c\\u0435\\u0441\\u0438\\u0442\\u0435\\u043b\\u0438 \\u0434\\u043b\\u044f \\u043a\\u0443\\u0445\\u043d\\u0438\",\"\\u0441\\u043c\\u0435\\u0441\\u0438\\u0442\\u0435\\u043b\\u0438 \\u0434\\u043b\\u044f \\u0440\\u0430\\u043a\\u043e\\u0432\\u0438\\u043d\",\"\\u0441\\u043c\\u0435\\u0441\\u0438\\u0442\\u0435\\u043b\\u0438 \\u0434\\u043b\\u044f \\u0440\\u0430\\u043a\\u043e\\u0432\\u0438\\u043d\\u044b\",\"\\u0441\\u043c\\u0435\\u0441\\u0438\\u0442\\u0435\\u043b\\u0438 \\u0434\\u043b\\u044f \\u0440\\u0430\\u043a\\u043e\\u0432\\u0438\\u043d\\u044b\",\"\\u0441\\u043c\\u044b\\u0432\\u043d\\u044b\\u0435 \\u0431\\u0430\\u0447\\u043a\\u0438 \\u0441\\u043a\\u0440\\u044b\\u0442\\u043e\\u0433\\u043e \\u043c\\u043e\\u043d\\u0442\\u0430\\u0436\\u0430\",\"\\u0441\\u0440\\u0435\\u0434\\u0441\\u0442\\u0432\\u043e \\u0434\\u043b\\u044f \\u043c\\u0435\\u0442\\u0430\\u043b\\u043b\\u0438\\u0447\\u0435\\u0441\\u043a\\u0438\\u0445 \\u043f\\u043e\\u0432\\u0435\\u0440\\u0445\\u043d\\u043e\\u0441\\u0442\\u0435\\u0439\",\"\\u0441\\u0442\\u0430\\u043a\\u0430\\u043d\\u044b\",\"\\u0441\\u0442\\u0430\\u043b\\u044c\\u043d\\u044b\\u0435\",\"\\u0441\\u0442\\u0435\\u043a\\u043b\\u044f\\u043d\\u043d\\u044b\\u0435 \\u0438 \\u043f\\u043b\\u0430\\u0441\\u0442\\u0438\\u043a\\u043e\\u0432\\u044b\\u0435 \\u0448\\u0442\\u043e\\u0440\\u043a\\u0438\",\"\\u0441\\u0442\\u0435\\u043b\\u043b\\u0430\\u0436\\u0438\",\"\\u0441\\u0442\\u0438\\u0440\\u043a\\u0430\",\"\\u0441\\u0442\\u043e\\u043b\\u0435\\u0448\\u043d\\u0438\\u0446\\u0430 \\u0441 \\u0440\\u0430\\u043a\\u043e\\u0432\\u0438\\u043d\\u043e\\u0439\",\"\\u0441\\u0442\\u043e\\u043b\\u0435\\u0448\\u043d\\u0438\\u0446\\u0430 \\u0441 \\u0440\\u0430\\u043a\\u043e\\u0432\\u0438\\u043d\\u043e\\u0439\",\"\\u0441\\u0442\\u043e\\u043b\\u0435\\u0448\\u043d\\u0438\\u0446\\u044b \\u0441 \\u0440\\u0430\\u043a\\u043e\\u0432\\u0438\\u043d\\u043e\\u0439\",\"\\u0441\\u0442\\u043e\\u043b\\u0435\\u0448\\u043d\\u0438\\u0446\\u044b \\u0441 \\u0440\\u0430\\u043a\\u043e\\u0432\\u0438\\u043d\\u043e\\u0439\",\"\\u0441\\u0442\\u043e\\u043b\\u0438\\u043a\\u0438 \\u0434\\u043b\\u044f \\u0432\\u0430\\u043d\\u043d\\u044b\",\"\\u0441\\u0442\\u043e\\u043b\\u044b \\u0434\\u043b\\u044f \\u0431\\u0430\\u043d\\u0438 \\u0438 \\u0441\\u0430\\u0443\\u043d\\u044b\",\"\\u0441\\u0442\\u0440\\u0435\\u043c\\u044f\\u043d\\u043a\\u0438\",\"\\u0441\\u0442\\u0443\\u043b\\u044c\\u044f \\u0438 \\u043b\\u0430\\u0432\\u043e\\u0447\\u043a\\u0438 \\u0434\\u043b\\u044f \\u0431\\u0430\\u043d\\u0438 \\u0438 \\u0441\\u0430\\u0443\\u043d\\u044b\",\"\\u0441\\u0443\\u0448\\u0438\\u043b\\u043a\\u0438 \\u0434\\u043b\\u044f \\u0431\\u0435\\u043b\\u044c\\u044f\",\"\\u0441\\u0443\\u0448\\u0438\\u043b\\u043a\\u0438 \\u0434\\u043b\\u044f \\u0440\\u0443\\u043a\",\"\\u0442\\u0435\\u043a\\u0441\\u0442\\u0438\\u043b\\u044c\\u043d\\u044b\\u0435 \\u0448\\u0442\\u043e\\u0440\\u044b\",\"\\u0442\\u0435\\u043f\\u043b\\u044b\\u0435 \\u043f\\u043e\\u043b\\u044b\",\"\\u0442\\u0435\\u043f\\u043b\\u044b\\u0435 \\u043f\\u043e\\u043b\\u044b\",\"\\u0442\\u0435\\u0440\\u043c\\u043e\\u043c\\u0435\\u0442\\u0440\\u044b\",\"\\u0442\\u0443\\u0430\\u043b\\u0435\\u0442\\u043d\\u0430\\u044f \\u0431\\u0443\\u043c\\u0430\\u0433\\u0430\",\"\\u0442\\u0443\\u043c\\u0431\\u044b\",\"\\u0442\\u0443\\u043c\\u0431\\u044b \\u0432 \\u0432\\u0430\\u043d\\u043d\\u0443\\u044e \\u043a\\u043e\\u043c\\u043d\\u0430\\u0442\\u0443\",\"\\u0442\\u0443\\u043c\\u0431\\u044b \\u0441 \\u0440\\u0430\\u043a\\u043e\\u0432\\u0438\\u043d\\u043e\\u0439\",\"\\u0442\\u0443\\u043c\\u0431\\u044b \\u0441 \\u0440\\u0430\\u043a\\u043e\\u0432\\u0438\\u043d\\u043e\\u0439\",\"\\u0443\\u0432\\u043b\\u0430\\u0436\\u043d\\u0438\\u0442\\u0435\\u043b\\u0438 \\u0432\\u043e\\u0437\\u0434\\u0443\\u0445\\u0430\",\"\\u0443\\u043b\\u0438\\u0447\\u043d\\u044b\\u0435 \\u0441\\u0443\\u0448\\u0438\\u043b\\u043a\\u0438 \\u0434\\u043b\\u044f \\u0431\\u0435\\u043b\\u044c\\u044f\",\"\\u0443\\u043d\\u0438\\u0432\\u0435\\u0440\\u0441\\u0430\\u043b\\u044c\\u043d\\u043e\\u0435 \\u043c\\u043e\\u044e\\u0449\\u0435\\u0435 \\u0441\\u0440\\u0435\\u0434\\u0441\\u0442\\u0432\\u043e\",\"\\u0443\\u043d\\u0438\\u0442\\u0430\\u0437\\u044b\",\"\\u0443\\u043d\\u0438\\u0442\\u0430\\u0437\\u044b\",\"\\u0443\\u0440\\u043d\\u044b\",\"\\u0444\\u0430\\u0440\\u0442\\u0443\\u043a \\u0434\\u043b\\u044f \\u043a\\u0443\\u0445\\u043d\\u0438\",\"\\u0444\\u0435\\u043d\\u044b\",\"\\u0444\\u0438\\u043b\\u044c\\u0442\\u0440\\u044b \\u0434\\u043b\\u044f \\u0432\\u043e\\u0434\\u044b \\u0438 \\u043a\\u0443\\u043b\\u0435\\u0440\\u044b\",\"\\u0444\\u0438\\u043b\\u044c\\u0442\\u0440\\u044b \\u043f\\u043e\\u0434 \\u043c\\u043e\\u0439\\u043a\\u0443\",\"\\u0444\\u0438\\u043b\\u044c\\u0442\\u0440\\u044b \\u043f\\u043e\\u0434 \\u043c\\u043e\\u0439\\u043a\\u0443\",\"\\u0444\\u0438\\u043b\\u044c\\u0442\\u0440\\u044b \\u0440\\u044f\\u0434\\u043e\\u043c \\u0441 \\u043c\\u043e\\u0439\\u043a\\u043e\\u0439\",\"\\u0445\\u0440\\u0430\\u043d\\u0435\\u043d\\u0438\\u0435\",\"\\u0447\\u0430\\u0441\\u044b\",\"\\u0447\\u0430\\u0448\\u0438 \\u0433\\u0435\\u043d\\u0443\\u044f\",\"\\u0447\\u0443\\u0433\\u0443\\u043d\\u043d\\u044b\\u0435\",\"\\u0448\\u0430\\u043f\\u043a\\u0438\",\"\\u0448\\u043a\\u0430\\u0444\\u044b\",\"\\u0448\\u043a\\u0430\\u0444\\u044b-\\u043f\\u0435\\u043d\\u0430\\u043b\\u044b\",\"\\u0448\\u0442\\u043e\\u0440\\u043a\\u0438 \\u043d\\u0430 \\u0432\\u0430\\u043d\\u043d\\u0443\",\"\\u0448\\u0442\\u043e\\u0440\\u043a\\u0438 \\u0441\\u0442\\u0435\\u043a\\u043b\\u044f\\u043d\\u043d\\u044b\\u0435\",\"\\u0448\\u0442\\u043e\\u0440\\u043a\\u0438 \\u0442\\u0435\\u043a\\u0441\\u0442\\u0438\\u043b\\u044c\\u043d\\u044b\\u0435\",\"\\u044d\\u043a\\u0440\\u0430\\u043d\\u044b \\u0434\\u043b\\u044f \\u0432\\u0430\\u043d\\u043d\",\"\\u0451\\u0440\\u0448\\u0438\\u043a\\u0438\",\" \\u0443\\u043d\\u0438\\u0442\\u0430\\u0437\\u044b, \\u0431\\u0438\\u0434\\u0435, \\u043f\\u0438\\u0441\\u0441\\u0443\\u0430\\u0440\\u044b \\u0438 \\u043a\\u043e\\u043c\\u043f\\u043b\\u0435\\u043a\\u0442\\u0443\\u044e\\u0449\\u0438\\u0435\",\"\\u0430\\u043a\\u0441\\u0435\\u0441\\u0441\\u0443\\u0430\\u0440\\u044b\",\"\\u0430\\u043a\\u0441\\u0435\\u0441\\u0441\\u0443\\u0430\\u0440\\u044b \\u0434\\u043b\\u044f \\u0432\\u0430\\u043d\\u043d\\u043e\\u0439 \\u043a\\u043e\\u043c\\u043d\\u0430\\u0442\\u044b\",\"\\u0432\\u0430\\u043d\\u043d\\u044b \\u0438 \\u043a\\u043e\\u043c\\u043f\\u043b\\u0435\\u043a\\u0442\\u0443\\u044e\\u0449\\u0438\\u0435\",\"\\u0432\\u043e\\u0434\\u043e\\u043d\\u0430\\u0433\\u0440\\u0435\\u0432\\u0430\\u0442\\u0435\\u043b\\u0438\",\"\\u0432\\u043e\\u0434\\u043e\\u0441\\u043d\\u0430\\u0431\\u0436\\u0435\\u043d\\u0438\\u0435\",\"\\u0434\\u043b\\u044f \\u0434\\u0430\\u0447\\u0438 \\u0438 \\u0431\\u0430\\u043d\\u0438\",\"\\u0434\\u043b\\u044f \\u043e\\u0431\\u0449\\u0435\\u0441\\u0442\\u0432\\u0435\\u043d\\u043d\\u044b\\u0445 \\u043c\\u0435\\u0441\\u0442\",\"\\u0434\\u0443\\u0448\\u0435\\u0432\\u044b\\u0435 \\u043a\\u0430\\u0431\\u0438\\u043d\\u044b, \\u043e\\u0433\\u0440\\u0430\\u0436\\u0434\\u0435\\u043d\\u0438\\u044f \\u0438 \\u043a\\u043e\\u043c\\u043f\\u043b\\u0435\\u043a\\u0442\\u0443\\u044e\\u0449\\u0438\\u0435\",\"\\u0438\\u043d\\u0436\\u0435\\u043d\\u0435\\u0440\\u043d\\u0430\\u044f \\u0441\\u0430\\u043d\\u0442\\u0435\\u0445\\u043d\\u0438\\u043a\\u0430\",\"\\u0438\\u043d\\u0441\\u0442\\u0430\\u043b\\u043b\\u044f\\u0446\\u0438\\u0438, \\u043a\\u043d\\u043e\\u043f\\u043a\\u0438 \\u0441\\u043c\\u044b\\u0432\\u0430 \\u0438 \\u043a\\u043e\\u043c\\u043f\\u043b\\u0435\\u043a\\u0442\\u0443\\u044e\\u0449\\u0438\\u0435\",\"\\u043a\\u0443\\u0445\\u043e\\u043d\\u043d\\u044b\\u0435 \\u043c\\u043e\\u0439\\u043a\\u0438 \\u0438 \\u043a\\u043e\\u043c\\u043f\\u043b\\u0435\\u043a\\u0442\\u0443\\u044e\\u0449\\u0438\\u0435\",\"\\u043c\\u0435\\u0431\\u0435\\u043b\\u044c \\u0434\\u043b\\u044f \\u0432\\u0430\\u043d\\u043d\\u043e\\u0439 \\u0438 \\u043a\\u043e\\u043c\\u043f\\u043b\\u0435\\u043a\\u0442\\u0443\\u044e\\u0449\\u0438\\u0435\",\"\\u043c\\u0435\\u0431\\u0435\\u043b\\u044c \\u0434\\u043b\\u044f \\u0432\\u0430\\u043d\\u043d\\u043e\\u0439 \\u043a\\u043e\\u043c\\u043d\\u0430\\u0442\\u044b\",\"\\u043e\\u0442\\u043e\\u043f\\u043b\\u0435\\u043d\\u0438\\u0435 \\u0438 \\u043a\\u043b\\u0438\\u043c\\u0430\\u0442\",\"\\u043f\\u043b\\u0438\\u0442\\u043a\\u0430 \\u0438 \\u043a\\u043e\\u043c\\u043f\\u043b\\u0435\\u043a\\u0442\\u0443\\u044e\\u0449\\u0438\\u0435\",\"\\u043f\\u043e\\u043b\\u043e\\u0442\\u0435\\u043d\\u0446\\u0435\\u0441\\u0443\\u0448\\u0438\\u0442\\u0435\\u043b\\u0438\",\"\\u0440\\u0430\\u043a\\u043e\\u0432\\u0438\\u043d\\u044b \\u0438 \\u043a\\u043e\\u043c\\u043f\\u043b\\u0435\\u043a\\u0442\\u0443\\u044e\\u0449\\u0438\\u0435\",\"\\u0441\\u0430\\u043d\\u0442\\u0435\\u0445\\u043d\\u0438\\u043a\\u0430\",\"\\u0441\\u043b\\u0438\\u0432 \\u0438 \\u043a\\u0430\\u043d\\u0430\\u043b\\u0438\\u0437\\u0430\\u0446\\u0438\\u044f\",\"\\u0441\\u043c\\u0435\\u0441\\u0438\\u0442\\u0435\\u043b\\u0438, \\u0434\\u0443\\u0448 \\u0438 \\u043a\\u043e\\u043c\\u043f\\u043b\\u0435\\u043a\\u0442\\u0443\\u044e\\u0449\\u0438\\u0435\",\"\\u0443\\u043d\\u0438\\u0442\\u0430\\u0437\\u044b, \\u0431\\u0438\\u0434\\u0435, \\u043f\\u0438\\u0441\\u0441\\u0443\\u0430\\u0440\\u044b \\u0438 \\u043a\\u043e\\u043c\\u043f\\u043b\\u0435\\u043a\\u0442\\u0443\\u044e\\u0449\\u0438\\u0435\",\"\\u0444\\u0438\\u043b\\u044c\\u0442\\u0440\\u044b \\u0434\\u043b\\u044f \\u0432\\u043e\\u0434\\u044b \\u0438 \\u043a\\u0443\\u043b\\u0435\\u0440\\u044b\",\"all\"],\"name\":\"\",\"parents\":[\"all/\\u0430\\u043a\\u0441\\u0435\\u0441\\u0441\\u0443\\u0430\\u0440\\u044b\",\"all/\\u0441\\u0430\\u043d\\u0442\\u0435\\u0445\\u043d\\u0438\\u043a\\u0430\",\"all/\\u0434\\u043b\\u044f \\u0434\\u0430\\u0447\\u0438 \\u0438 \\u0431\\u0430\\u043d\\u0438\",\"all/ \\u0443\\u043d\\u0438\\u0442\\u0430\\u0437\\u044b, \\u0431\\u0438\\u0434\\u0435, \\u043f\\u0438\\u0441\\u0441\\u0443\\u0430\\u0440\\u044b \\u0438 \\u043a\\u043e\\u043c\\u043f\\u043b\\u0435\\u043a\\u0442\\u0443\\u044e\\u0449\\u0438\\u0435\",\"all/\\u0430\\u043a\\u0441\\u0435\\u0441\\u0441\\u0443\\u0430\\u0440\\u044b \\u0434\\u043b\\u044f \\u0432\\u0430\\u043d\\u043d\\u043e\\u0439 \\u043a\\u043e\\u043c\\u043d\\u0430\\u0442\\u044b\",\"all/\\u0432\\u0430\\u043d\\u043d\\u044b \\u0438 \\u043a\\u043e\\u043c\\u043f\\u043b\\u0435\\u043a\\u0442\\u0443\\u044e\\u0449\\u0438\\u0435\",\"all/\\u0434\\u0443\\u0448\\u0435\\u0432\\u044b\\u0435 \\u043a\\u0430\\u0431\\u0438\\u043d\\u044b, \\u043e\\u0433\\u0440\\u0430\\u0436\\u0434\\u0435\\u043d\\u0438\\u044f \\u0438 \\u043a\\u043e\\u043c\\u043f\\u043b\\u0435\\u043a\\u0442\\u0443\\u044e\\u0449\\u0438\\u0435\",\"all/\\u043a\\u0443\\u0445\\u043e\\u043d\\u043d\\u044b\\u0435 \\u043c\\u043e\\u0439\\u043a\\u0438 \\u0438 \\u043a\\u043e\\u043c\\u043f\\u043b\\u0435\\u043a\\u0442\\u0443\\u044e\\u0449\\u0438\\u0435\",\"all/ \\u0443\\u043d\\u0438\\u0442\\u0430\\u0437\\u044b, \\u0431\\u0438\\u0434\\u0435, \\u043f\\u0438\\u0441\\u0441\\u0443\\u0430\\u0440\\u044b \\u0438 \\u043a\\u043e\\u043c\\u043f\\u043b\\u0435\\u043a\\u0442\\u0443\\u044e\\u0449\\u0438\\u0435\",\"all/\\u0443\\u043d\\u0438\\u0442\\u0430\\u0437\\u044b, \\u0431\\u0438\\u0434\\u0435, \\u043f\\u0438\\u0441\\u0441\\u0443\\u0430\\u0440\\u044b \\u0438 \\u043a\\u043e\\u043c\\u043f\\u043b\\u0435\\u043a\\u0442\\u0443\\u044e\\u0449\\u0438\\u0435\",\"all/ \\u0443\\u043d\\u0438\\u0442\\u0430\\u0437\\u044b, \\u0431\\u0438\\u0434\\u0435, \\u043f\\u0438\\u0441\\u0441\\u0443\\u0430\\u0440\\u044b \\u0438 \\u043a\\u043e\\u043c\\u043f\\u043b\\u0435\\u043a\\u0442\\u0443\\u044e\\u0449\\u0438\\u0435\",\"all/\\u0443\\u043d\\u0438\\u0442\\u0430\\u0437\\u044b, \\u0431\\u0438\\u0434\\u0435, \\u043f\\u0438\\u0441\\u0441\\u0443\\u0430\\u0440\\u044b \\u0438 \\u043a\\u043e\\u043c\\u043f\\u043b\\u0435\\u043a\\u0442\\u0443\\u044e\\u0449\\u0438\\u0435\",\"all/\\u043c\\u0435\\u0431\\u0435\\u043b\\u044c \\u0434\\u043b\\u044f \\u0432\\u0430\\u043d\\u043d\\u043e\\u0439 \\u0438 \\u043a\\u043e\\u043c\\u043f\\u043b\\u0435\\u043a\\u0442\\u0443\\u044e\\u0449\\u0438\\u0435\",\"all/\\u0440\\u0430\\u043a\\u043e\\u0432\\u0438\\u043d\\u044b \\u0438 \\u043a\\u043e\\u043c\\u043f\\u043b\\u0435\\u043a\\u0442\\u0443\\u044e\\u0449\\u0438\\u0435\",\"all/\\u0432\\u043e\\u0434\\u043e\\u0441\\u043d\\u0430\\u0431\\u0436\\u0435\\u043d\\u0438\\u0435\",\"all/\\u043e\\u0442\\u043e\\u043f\\u043b\\u0435\\u043d\\u0438\\u0435 \\u0438 \\u043a\\u043b\\u0438\\u043c\\u0430\\u0442\",\"all/\\u0434\\u043b\\u044f \\u0434\\u0430\\u0447\\u0438 \\u0438 \\u0431\\u0430\\u043d\\u0438\",\"all/\\u0434\\u043b\\u044f \\u0434\\u0430\\u0447\\u0438 \\u0438 \\u0431\\u0430\\u043d\\u0438\",\"all/ \\u0443\\u043d\\u0438\\u0442\\u0430\\u0437\\u044b, \\u0431\\u0438\\u0434\\u0435, \\u043f\\u0438\\u0441\\u0441\\u0443\\u0430\\u0440\\u044b \\u0438 \\u043a\\u043e\\u043c\\u043f\\u043b\\u0435\\u043a\\u0442\\u0443\\u044e\\u0449\\u0438\\u0435\",\"all/\\u0443\\u043d\\u0438\\u0442\\u0430\\u0437\\u044b, \\u0431\\u0438\\u0434\\u0435, \\u043f\\u0438\\u0441\\u0441\\u0443\\u0430\\u0440\\u044b \\u0438 \\u043a\\u043e\\u043c\\u043f\\u043b\\u0435\\u043a\\u0442\\u0443\\u044e\\u0449\\u0438\\u0435\",\"all/\\u0434\\u043b\\u044f \\u0434\\u0430\\u0447\\u0438 \\u0438 \\u0431\\u0430\\u043d\\u0438\",\"all/\\u0430\\u043a\\u0441\\u0435\\u0441\\u0441\\u0443\\u0430\\u0440\\u044b\",\"all/\\u0434\\u043b\\u044f \\u0434\\u0430\\u0447\\u0438 \\u0438 \\u0431\\u0430\\u043d\\u0438\",\"all/\\u0432\\u0430\\u043d\\u043d\\u044b \\u0438 \\u043a\\u043e\\u043c\\u043f\\u043b\\u0435\\u043a\\u0442\\u0443\\u044e\\u0449\\u0438\\u0435\",\"all/\\u0434\\u043b\\u044f \\u043e\\u0431\\u0449\\u0435\\u0441\\u0442\\u0432\\u0435\\u043d\\u043d\\u044b\\u0445 \\u043c\\u0435\\u0441\\u0442\",\"all/\\u0434\\u043b\\u044f \\u043e\\u0431\\u0449\\u0435\\u0441\\u0442\\u0432\\u0435\\u043d\\u043d\\u044b\\u0445 \\u043c\\u0435\\u0441\\u0442\",\"all/\\u0432\\u0430\\u043d\\u043d\\u044b \\u0438 \\u043a\\u043e\\u043c\\u043f\\u043b\\u0435\\u043a\\u0442\\u0443\\u044e\\u0449\\u0438\\u0435\",\"all/\\u0441\\u0430\\u043d\\u0442\\u0435\\u0445\\u043d\\u0438\\u043a\\u0430\",\"all/\\u0434\\u043b\\u044f \\u0434\\u0430\\u0447\\u0438 \\u0438 \\u0431\\u0430\\u043d\\u0438\",\"all/\\u0434\\u043b\\u044f \\u0434\\u0430\\u0447\\u0438 \\u0438 \\u0431\\u0430\\u043d\\u0438\",\"all/\\u0430\\u043a\\u0441\\u0435\\u0441\\u0441\\u0443\\u0430\\u0440\\u044b\",\"all/\\u0430\\u043a\\u0441\\u0435\\u0441\\u0441\\u0443\\u0430\\u0440\\u044b \\u0434\\u043b\\u044f \\u0432\\u0430\\u043d\\u043d\\u043e\\u0439 \\u043a\\u043e\\u043c\\u043d\\u0430\\u0442\\u044b\",\"all/\\u0432\\u043e\\u0434\\u043e\\u043d\\u0430\\u0433\\u0440\\u0435\\u0432\\u0430\\u0442\\u0435\\u043b\\u0438\",\"all/\\u0434\\u0443\\u0448\\u0435\\u0432\\u044b\\u0435 \\u043a\\u0430\\u0431\\u0438\\u043d\\u044b, \\u043e\\u0433\\u0440\\u0430\\u0436\\u0434\\u0435\\u043d\\u0438\\u044f \\u0438 \\u043a\\u043e\\u043c\\u043f\\u043b\\u0435\\u043a\\u0442\\u0443\\u044e\\u0449\\u0438\\u0435\",\"all/\\u043e\\u0442\\u043e\\u043f\\u043b\\u0435\\u043d\\u0438\\u0435 \\u0438 \\u043a\\u043b\\u0438\\u043c\\u0430\\u0442\",\"all/\\u0441\\u043c\\u0435\\u0441\\u0438\\u0442\\u0435\\u043b\\u0438, \\u0434\\u0443\\u0448 \\u0438 \\u043a\\u043e\\u043c\\u043f\\u043b\\u0435\\u043a\\u0442\\u0443\\u044e\\u0449\\u0438\\u0435\",\"all/\\u0441\\u0430\\u043d\\u0442\\u0435\\u0445\\u043d\\u0438\\u043a\\u0430\",\"all/\\u0441\\u043c\\u0435\\u0441\\u0438\\u0442\\u0435\\u043b\\u0438, \\u0434\\u0443\\u0448 \\u0438 \\u043a\\u043e\\u043c\\u043f\\u043b\\u0435\\u043a\\u0442\\u0443\\u044e\\u0449\\u0438\\u0435\",\"all/\\u0432\\u0430\\u043d\\u043d\\u044b \\u0438 \\u043a\\u043e\\u043c\\u043f\\u043b\\u0435\\u043a\\u0442\\u0443\\u044e\\u0449\\u0438\\u0435\",\"all/\\u0434\\u0443\\u0448\\u0435\\u0432\\u044b\\u0435 \\u043a\\u0430\\u0431\\u0438\\u043d\\u044b, \\u043e\\u0433\\u0440\\u0430\\u0436\\u0434\\u0435\\u043d\\u0438\\u044f \\u0438 \\u043a\\u043e\\u043c\\u043f\\u043b\\u0435\\u043a\\u0442\\u0443\\u044e\\u0449\\u0438\\u0435\",\"all/\\u043e\\u0442\\u043e\\u043f\\u043b\\u0435\\u043d\\u0438\\u0435 \\u0438 \\u043a\\u043b\\u0438\\u043c\\u0430\\u0442\",\"all/\\u043c\\u0435\\u0431\\u0435\\u043b\\u044c \\u0434\\u043b\\u044f \\u0432\\u0430\\u043d\\u043d\\u043e\\u0439 \\u0438 \\u043a\\u043e\\u043c\\u043f\\u043b\\u0435\\u043a\\u0442\\u0443\\u044e\\u0449\\u0438\\u0435\",\"all/ \\u0443\\u043d\\u0438\\u0442\\u0430\\u0437\\u044b, \\u0431\\u0438\\u0434\\u0435, \\u043f\\u0438\\u0441\\u0441\\u0443\\u0430\\u0440\\u044b \\u0438 \\u043a\\u043e\\u043c\\u043f\\u043b\\u0435\\u043a\\u0442\\u0443\\u044e\\u0449\\u0438\\u0435\",\"all/\\u0441\\u043c\\u0435\\u0441\\u0438\\u0442\\u0435\\u043b\\u0438, \\u0434\\u0443\\u0448 \\u0438 \\u043a\\u043e\\u043c\\u043f\\u043b\\u0435\\u043a\\u0442\\u0443\\u044e\\u0449\\u0438\\u0435\",\"all/\\u0443\\u043d\\u0438\\u0442\\u0430\\u0437\\u044b, \\u0431\\u0438\\u0434\\u0435, \\u043f\\u0438\\u0441\\u0441\\u0443\\u0430\\u0440\\u044b \\u0438 \\u043a\\u043e\\u043c\\u043f\\u043b\\u0435\\u043a\\u0442\\u0443\\u044e\\u0449\\u0438\\u0435\",\"all/\\u0434\\u043b\\u044f \\u0434\\u0430\\u0447\\u0438 \\u0438 \\u0431\\u0430\\u043d\\u0438\",\"all/\\u0430\\u043a\\u0441\\u0435\\u0441\\u0441\\u0443\\u0430\\u0440\\u044b\",\"all/\\u0434\\u043b\\u044f \\u0434\\u0430\\u0447\\u0438 \\u0438 \\u0431\\u0430\\u043d\\u0438\",\"all/\\u0441\\u043b\\u0438\\u0432 \\u0438 \\u043a\\u0430\\u043d\\u0430\\u043b\\u0438\\u0437\\u0430\\u0446\\u0438\\u044f\",\"all/\\u0434\\u043b\\u044f \\u0434\\u0430\\u0447\\u0438 \\u0438 \\u0431\\u0430\\u043d\\u0438\",\"all/\\u0434\\u043b\\u044f \\u0434\\u0430\\u0447\\u0438 \\u0438 \\u0431\\u0430\\u043d\\u0438\",\"all/\\u0430\\u043a\\u0441\\u0435\\u0441\\u0441\\u0443\\u0430\\u0440\\u044b\",\"all/\\u0430\\u043a\\u0441\\u0435\\u0441\\u0441\\u0443\\u0430\\u0440\\u044b\",\"all/\\u0430\\u043a\\u0441\\u0435\\u0441\\u0441\\u0443\\u0430\\u0440\\u044b\",\"all/\\u0430\\u043a\\u0441\\u0435\\u0441\\u0441\\u0443\\u0430\\u0440\\u044b\",\"all/\\u0430\\u043a\\u0441\\u0435\\u0441\\u0441\\u0443\\u0430\\u0440\\u044b\",\"all/\\u0430\\u043a\\u0441\\u0435\\u0441\\u0441\\u0443\\u0430\\u0440\\u044b\",\"all/\\u0430\\u043a\\u0441\\u0435\\u0441\\u0441\\u0443\\u0430\\u0440\\u044b\",\"all/\\u0434\\u043b\\u044f \\u043e\\u0431\\u0449\\u0435\\u0441\\u0442\\u0432\\u0435\\u043d\\u043d\\u044b\\u0445 \\u043c\\u0435\\u0441\\u0442\",\"all/\\u0430\\u043a\\u0441\\u0435\\u0441\\u0441\\u0443\\u0430\\u0440\\u044b\",\"all/\\u0434\\u043b\\u044f \\u043e\\u0431\\u0449\\u0435\\u0441\\u0442\\u0432\\u0435\\u043d\\u043d\\u044b\\u0445 \\u043c\\u0435\\u0441\\u0442\",\"all/\\u043f\\u043b\\u0438\\u0442\\u043a\\u0430 \\u0438 \\u043a\\u043e\\u043c\\u043f\\u043b\\u0435\\u043a\\u0442\\u0443\\u044e\\u0449\\u0438\\u0435\",\"all/\\u0430\\u043a\\u0441\\u0435\\u0441\\u0441\\u0443\\u0430\\u0440\\u044b\",\"all/\\u0441\\u0430\\u043d\\u0442\\u0435\\u0445\\u043d\\u0438\\u043a\\u0430\",\"all/\\u0441\\u043c\\u0435\\u0441\\u0438\\u0442\\u0435\\u043b\\u0438, \\u0434\\u0443\\u0448 \\u0438 \\u043a\\u043e\\u043c\\u043f\\u043b\\u0435\\u043a\\u0442\\u0443\\u044e\\u0449\\u0438\\u0435\",\"all/\\u043f\\u043b\\u0438\\u0442\\u043a\\u0430 \\u0438 \\u043a\\u043e\\u043c\\u043f\\u043b\\u0435\\u043a\\u0442\\u0443\\u044e\\u0449\\u0438\\u0435\",\"all/\\u0430\\u043a\\u0441\\u0435\\u0441\\u0441\\u0443\\u0430\\u0440\\u044b\",\"all/\\u0441\\u0430\\u043d\\u0442\\u0435\\u0445\\u043d\\u0438\\u043a\\u0430\",\"all/\\u0441\\u043c\\u0435\\u0441\\u0438\\u0442\\u0435\\u043b\\u0438, \\u0434\\u0443\\u0448 \\u0438 \\u043a\\u043e\\u043c\\u043f\\u043b\\u0435\\u043a\\u0442\\u0443\\u044e\\u0449\\u0438\\u0435\",\"all/\\u043f\\u043b\\u0438\\u0442\\u043a\\u0430 \\u0438 \\u043a\\u043e\\u043c\\u043f\\u043b\\u0435\\u043a\\u0442\\u0443\\u044e\\u0449\\u0438\\u0435\",\"all/\\u0441\\u043c\\u0435\\u0441\\u0438\\u0442\\u0435\\u043b\\u0438, \\u0434\\u0443\\u0448 \\u0438 \\u043a\\u043e\\u043c\\u043f\\u043b\\u0435\\u043a\\u0442\\u0443\\u044e\\u0449\\u0438\\u0435\",\"all/\\u0434\\u043b\\u044f \\u043e\\u0431\\u0449\\u0435\\u0441\\u0442\\u0432\\u0435\\u043d\\u043d\\u044b\\u0445 \\u043c\\u0435\\u0441\\u0442\",\"all/\\u043f\\u043b\\u0438\\u0442\\u043a\\u0430 \\u0438 \\u043a\\u043e\\u043c\\u043f\\u043b\\u0435\\u043a\\u0442\\u0443\\u044e\\u0449\\u0438\\u0435\",\"all/\\u0434\\u043b\\u044f \\u043e\\u0431\\u0449\\u0435\\u0441\\u0442\\u0432\\u0435\\u043d\\u043d\\u044b\\u0445 \\u043c\\u0435\\u0441\\u0442\",\"all/\\u043f\\u043b\\u0438\\u0442\\u043a\\u0430 \\u0438 \\u043a\\u043e\\u043c\\u043f\\u043b\\u0435\\u043a\\u0442\\u0443\\u044e\\u0449\\u0438\\u0435\",\"all/\\u0430\\u043a\\u0441\\u0435\\u0441\\u0441\\u0443\\u0430\\u0440\\u044b\",\"all/\\u0430\\u043a\\u0441\\u0435\\u0441\\u0441\\u0443\\u0430\\u0440\\u044b\",\"all/\\u0441\\u0430\\u043d\\u0442\\u0435\\u0445\\u043d\\u0438\\u043a\\u0430\",\"all/\\u0441\\u043c\\u0435\\u0441\\u0438\\u0442\\u0435\\u043b\\u0438, \\u0434\\u0443\\u0448 \\u0438 \\u043a\\u043e\\u043c\\u043f\\u043b\\u0435\\u043a\\u0442\\u0443\\u044e\\u0449\\u0438\\u0435\",\"all/\\u0434\\u043b\\u044f \\u0434\\u0430\\u0447\\u0438 \\u0438 \\u0431\\u0430\\u043d\\u0438\",\"all/\\u0434\\u043b\\u044f \\u043e\\u0431\\u0449\\u0435\\u0441\\u0442\\u0432\\u0435\\u043d\\u043d\\u044b\\u0445 \\u043c\\u0435\\u0441\\u0442\",\"all/\\u043f\\u043b\\u0438\\u0442\\u043a\\u0430 \\u0438 \\u043a\\u043e\\u043c\\u043f\\u043b\\u0435\\u043a\\u0442\\u0443\\u044e\\u0449\\u0438\\u0435\",\"all/\\u043f\\u043b\\u0438\\u0442\\u043a\\u0430 \\u0438 \\u043a\\u043e\\u043c\\u043f\\u043b\\u0435\\u043a\\u0442\\u0443\\u044e\\u0449\\u0438\\u0435\",\"all/\\u0430\\u043a\\u0441\\u0435\\u0441\\u0441\\u0443\\u0430\\u0440\\u044b\",\"all/\\u0434\\u043b\\u044f \\u043e\\u0431\\u0449\\u0435\\u0441\\u0442\\u0432\\u0435\\u043d\\u043d\\u044b\\u0445 \\u043c\\u0435\\u0441\\u0442\",\"all/\\u0430\\u043a\\u0441\\u0435\\u0441\\u0441\\u0443\\u0430\\u0440\\u044b\",\"all/\\u0441\\u043b\\u0438\\u0432 \\u0438 \\u043a\\u0430\\u043d\\u0430\\u043b\\u0438\\u0437\\u0430\\u0446\\u0438\\u044f\",\"all/\\u0441\\u043b\\u0438\\u0432 \\u0438 \\u043a\\u0430\\u043d\\u0430\\u043b\\u0438\\u0437\\u0430\\u0446\\u0438\\u044f\",\"all/\\u0432\\u0430\\u043d\\u043d\\u044b \\u0438 \\u043a\\u043e\\u043c\\u043f\\u043b\\u0435\\u043a\\u0442\\u0443\\u044e\\u0449\\u0438\\u0435\",\"all/\\u0434\\u0443\\u0448\\u0435\\u0432\\u044b\\u0435 \\u043a\\u0430\\u0431\\u0438\\u043d\\u044b, \\u043e\\u0433\\u0440\\u0430\\u0436\\u0434\\u0435\\u043d\\u0438\\u044f \\u0438 \\u043a\\u043e\\u043c\\u043f\\u043b\\u0435\\u043a\\u0442\\u0443\\u044e\\u0449\\u0438\\u0435\",\"all/\\u0434\\u0443\\u0448\\u0435\\u0432\\u044b\\u0435 \\u043a\\u0430\\u0431\\u0438\\u043d\\u044b, \\u043e\\u0433\\u0440\\u0430\\u0436\\u0434\\u0435\\u043d\\u0438\\u044f \\u0438 \\u043a\\u043e\\u043c\\u043f\\u043b\\u0435\\u043a\\u0442\\u0443\\u044e\\u0449\\u0438\\u0435\",\"all/\\u0441\\u043c\\u0435\\u0441\\u0438\\u0442\\u0435\\u043b\\u0438, \\u0434\\u0443\\u0448 \\u0438 \\u043a\\u043e\\u043c\\u043f\\u043b\\u0435\\u043a\\u0442\\u0443\\u044e\\u0449\\u0438\\u0435\",\"all/\\u0434\\u0443\\u0448\\u0435\\u0432\\u044b\\u0435 \\u043a\\u0430\\u0431\\u0438\\u043d\\u044b, \\u043e\\u0433\\u0440\\u0430\\u0436\\u0434\\u0435\\u043d\\u0438\\u044f \\u0438 \\u043a\\u043e\\u043c\\u043f\\u043b\\u0435\\u043a\\u0442\\u0443\\u044e\\u0449\\u0438\\u0435\",\"all/\\u0441\\u0430\\u043d\\u0442\\u0435\\u0445\\u043d\\u0438\\u043a\\u0430\",\"all/\\u0434\\u0443\\u0448\\u0435\\u0432\\u044b\\u0435 \\u043a\\u0430\\u0431\\u0438\\u043d\\u044b, \\u043e\\u0433\\u0440\\u0430\\u0436\\u0434\\u0435\\u043d\\u0438\\u044f \\u0438 \\u043a\\u043e\\u043c\\u043f\\u043b\\u0435\\u043a\\u0442\\u0443\\u044e\\u0449\\u0438\\u0435\",\"all/\\u0441\\u0430\\u043d\\u0442\\u0435\\u0445\\u043d\\u0438\\u043a\\u0430\",\"all/\\u0441\\u043c\\u0435\\u0441\\u0438\\u0442\\u0435\\u043b\\u0438, \\u0434\\u0443\\u0448 \\u0438 \\u043a\\u043e\\u043c\\u043f\\u043b\\u0435\\u043a\\u0442\\u0443\\u044e\\u0449\\u0438\\u0435\",\"all/\\u0438\\u043d\\u0436\\u0435\\u043d\\u0435\\u0440\\u043d\\u0430\\u044f \\u0441\\u0430\\u043d\\u0442\\u0435\\u0445\\u043d\\u0438\\u043a\\u0430\",\"all/\\u0441\\u043b\\u0438\\u0432 \\u0438 \\u043a\\u0430\\u043d\\u0430\\u043b\\u0438\\u0437\\u0430\\u0446\\u0438\\u044f\",\"all/\\u0434\\u0443\\u0448\\u0435\\u0432\\u044b\\u0435 \\u043a\\u0430\\u0431\\u0438\\u043d\\u044b, \\u043e\\u0433\\u0440\\u0430\\u0436\\u0434\\u0435\\u043d\\u0438\\u044f \\u0438 \\u043a\\u043e\\u043c\\u043f\\u043b\\u0435\\u043a\\u0442\\u0443\\u044e\\u0449\\u0438\\u0435\",\"all/\\u0434\\u0443\\u0448\\u0435\\u0432\\u044b\\u0435 \\u043a\\u0430\\u0431\\u0438\\u043d\\u044b, \\u043e\\u0433\\u0440\\u0430\\u0436\\u0434\\u0435\\u043d\\u0438\\u044f \\u0438 \\u043a\\u043e\\u043c\\u043f\\u043b\\u0435\\u043a\\u0442\\u0443\\u044e\\u0449\\u0438\\u0435\",\"all/\\u0441\\u0430\\u043d\\u0442\\u0435\\u0445\\u043d\\u0438\\u043a\\u0430\",\"all/\\u0441\\u043c\\u0435\\u0441\\u0438\\u0442\\u0435\\u043b\\u0438, \\u0434\\u0443\\u0448 \\u0438 \\u043a\\u043e\\u043c\\u043f\\u043b\\u0435\\u043a\\u0442\\u0443\\u044e\\u0449\\u0438\\u0435\",\"all/\\u0441\\u043b\\u0438\\u0432 \\u0438 \\u043a\\u0430\\u043d\\u0430\\u043b\\u0438\\u0437\\u0430\\u0446\\u0438\\u044f\",\"all/\\u0441\\u0430\\u043d\\u0442\\u0435\\u0445\\u043d\\u0438\\u043a\\u0430\",\"all/\\u0434\\u0443\\u0448\\u0435\\u0432\\u044b\\u0435 \\u043a\\u0430\\u0431\\u0438\\u043d\\u044b, \\u043e\\u0433\\u0440\\u0430\\u0436\\u0434\\u0435\\u043d\\u0438\\u044f \\u0438 \\u043a\\u043e\\u043c\\u043f\\u043b\\u0435\\u043a\\u0442\\u0443\\u044e\\u0449\\u0438\\u0435\",\"all/\\u043e\\u0442\\u043e\\u043f\\u043b\\u0435\\u043d\\u0438\\u0435 \\u0438 \\u043a\\u043b\\u0438\\u043c\\u0430\\u0442\",\"all/\\u0430\\u043a\\u0441\\u0435\\u0441\\u0441\\u0443\\u0430\\u0440\\u044b\",\"all/\\u0430\\u043a\\u0441\\u0435\\u0441\\u0441\\u0443\\u0430\\u0440\\u044b \\u0434\\u043b\\u044f \\u0432\\u0430\\u043d\\u043d\\u043e\\u0439 \\u043a\\u043e\\u043c\\u043d\\u0430\\u0442\\u044b\",\"all/\\u0434\\u043b\\u044f \\u0434\\u0430\\u0447\\u0438 \\u0438 \\u0431\\u0430\\u043d\\u0438\",\"all/\\u0432\\u043e\\u0434\\u043e\\u0441\\u043d\\u0430\\u0431\\u0436\\u0435\\u043d\\u0438\\u0435\",\"all/\\u043f\\u043b\\u0438\\u0442\\u043a\\u0430 \\u0438 \\u043a\\u043e\\u043c\\u043f\\u043b\\u0435\\u043a\\u0442\\u0443\\u044e\\u0449\\u0438\\u0435\",\"all/\\u0434\\u043b\\u044f \\u0434\\u0430\\u0447\\u0438 \\u0438 \\u0431\\u0430\\u043d\\u0438\",\"all/\\u043c\\u0435\\u0431\\u0435\\u043b\\u044c \\u0434\\u043b\\u044f \\u0432\\u0430\\u043d\\u043d\\u043e\\u0439 \\u0438 \\u043a\\u043e\\u043c\\u043f\\u043b\\u0435\\u043a\\u0442\\u0443\\u044e\\u0449\\u0438\\u0435\",\"all/\\u0440\\u0430\\u043a\\u043e\\u0432\\u0438\\u043d\\u044b \\u0438 \\u043a\\u043e\\u043c\\u043f\\u043b\\u0435\\u043a\\u0442\\u0443\\u044e\\u0449\\u0438\\u0435\",\"all/\\u043c\\u0435\\u0431\\u0435\\u043b\\u044c \\u0434\\u043b\\u044f \\u0432\\u0430\\u043d\\u043d\\u043e\\u0439 \\u0438 \\u043a\\u043e\\u043c\\u043f\\u043b\\u0435\\u043a\\u0442\\u0443\\u044e\\u0449\\u0438\\u0435\",\"all/\\u0441\\u043b\\u0438\\u0432 \\u0438 \\u043a\\u0430\\u043d\\u0430\\u043b\\u0438\\u0437\\u0430\\u0446\\u0438\\u044f\",\"all/\\u043a\\u0443\\u0445\\u043e\\u043d\\u043d\\u044b\\u0435 \\u043c\\u043e\\u0439\\u043a\\u0438 \\u0438 \\u043a\\u043e\\u043c\\u043f\\u043b\\u0435\\u043a\\u0442\\u0443\\u044e\\u0449\\u0438\\u0435\",\"all/\\u0434\\u043b\\u044f \\u0434\\u0430\\u0447\\u0438 \\u0438 \\u0431\\u0430\\u043d\\u0438\",\"all/ \\u0443\\u043d\\u0438\\u0442\\u0430\\u0437\\u044b, \\u0431\\u0438\\u0434\\u0435, \\u043f\\u0438\\u0441\\u0441\\u0443\\u0430\\u0440\\u044b \\u0438 \\u043a\\u043e\\u043c\\u043f\\u043b\\u0435\\u043a\\u0442\\u0443\\u044e\\u0449\\u0438\\u0435\",\"all/\\u0438\\u043d\\u0441\\u0442\\u0430\\u043b\\u043b\\u044f\\u0446\\u0438\\u0438, \\u043a\\u043d\\u043e\\u043f\\u043a\\u0438 \\u0441\\u043c\\u044b\\u0432\\u0430 \\u0438 \\u043a\\u043e\\u043c\\u043f\\u043b\\u0435\\u043a\\u0442\\u0443\\u044e\\u0449\\u0438\\u0435\",\"all/\\u0443\\u043d\\u0438\\u0442\\u0430\\u0437\\u044b, \\u0431\\u0438\\u0434\\u0435, \\u043f\\u0438\\u0441\\u0441\\u0443\\u0430\\u0440\\u044b \\u0438 \\u043a\\u043e\\u043c\\u043f\\u043b\\u0435\\u043a\\u0442\\u0443\\u044e\\u0449\\u0438\\u0435\",\"all/ \\u0443\\u043d\\u0438\\u0442\\u0430\\u0437\\u044b, \\u0431\\u0438\\u0434\\u0435, \\u043f\\u0438\\u0441\\u0441\\u0443\\u0430\\u0440\\u044b \\u0438 \\u043a\\u043e\\u043c\\u043f\\u043b\\u0435\\u043a\\u0442\\u0443\\u044e\\u0449\\u0438\\u0435\",\"all/\\u0438\\u043d\\u0441\\u0442\\u0430\\u043b\\u043b\\u044f\\u0446\\u0438\\u0438, \\u043a\\u043d\\u043e\\u043f\\u043a\\u0438 \\u0441\\u043c\\u044b\\u0432\\u0430 \\u0438 \\u043a\\u043e\\u043c\\u043f\\u043b\\u0435\\u043a\\u0442\\u0443\\u044e\\u0449\\u0438\\u0435\",\"all/\\u0443\\u043d\\u0438\\u0442\\u0430\\u0437\\u044b, \\u0431\\u0438\\u0434\\u0435, \\u043f\\u0438\\u0441\\u0441\\u0443\\u0430\\u0440\\u044b \\u0438 \\u043a\\u043e\\u043c\\u043f\\u043b\\u0435\\u043a\\u0442\\u0443\\u044e\\u0449\\u0438\\u0435\",\"all/\\u0438\\u043d\\u0441\\u0442\\u0430\\u043b\\u043b\\u044f\\u0446\\u0438\\u0438, \\u043a\\u043d\\u043e\\u043f\\u043a\\u0438 \\u0441\\u043c\\u044b\\u0432\\u0430 \\u0438 \\u043a\\u043e\\u043c\\u043f\\u043b\\u0435\\u043a\\u0442\\u0443\\u044e\\u0449\\u0438\\u0435\",\"all/\\u0438\\u043d\\u0441\\u0442\\u0430\\u043b\\u043b\\u044f\\u0446\\u0438\\u0438, \\u043a\\u043d\\u043e\\u043f\\u043a\\u0438 \\u0441\\u043c\\u044b\\u0432\\u0430 \\u0438 \\u043a\\u043e\\u043c\\u043f\\u043b\\u0435\\u043a\\u0442\\u0443\\u044e\\u0449\\u0438\\u0435\",\"all/\\u0441\\u043b\\u0438\\u0432 \\u0438 \\u043a\\u0430\\u043d\\u0430\\u043b\\u0438\\u0437\\u0430\\u0446\\u0438\\u044f\",\"all/ \\u0443\\u043d\\u0438\\u0442\\u0430\\u0437\\u044b, \\u0431\\u0438\\u0434\\u0435, \\u043f\\u0438\\u0441\\u0441\\u0443\\u0430\\u0440\\u044b \\u0438 \\u043a\\u043e\\u043c\\u043f\\u043b\\u0435\\u043a\\u0442\\u0443\\u044e\\u0449\\u0438\\u0435\",\"all/\\u0441\\u043b\\u0438\\u0432 \\u0438 \\u043a\\u0430\\u043d\\u0430\\u043b\\u0438\\u0437\\u0430\\u0446\\u0438\\u044f\",\"all/\\u0443\\u043d\\u0438\\u0442\\u0430\\u0437\\u044b, \\u0431\\u0438\\u0434\\u0435, \\u043f\\u0438\\u0441\\u0441\\u0443\\u0430\\u0440\\u044b \\u0438 \\u043a\\u043e\\u043c\\u043f\\u043b\\u0435\\u043a\\u0442\\u0443\\u044e\\u0449\\u0438\\u0435\",\"all/\\u043e\\u0442\\u043e\\u043f\\u043b\\u0435\\u043d\\u0438\\u0435 \\u0438 \\u043a\\u043b\\u0438\\u043c\\u0430\\u0442\",\"all/\\u0430\\u043a\\u0441\\u0435\\u0441\\u0441\\u0443\\u0430\\u0440\\u044b\",\"all/\\u0432\\u0430\\u043d\\u043d\\u044b \\u0438 \\u043a\\u043e\\u043c\\u043f\\u043b\\u0435\\u043a\\u0442\\u0443\\u044e\\u0449\\u0438\\u0435\",\"all/\\u0432\\u0430\\u043d\\u043d\\u044b \\u0438 \\u043a\\u043e\\u043c\\u043f\\u043b\\u0435\\u043a\\u0442\\u0443\\u044e\\u0449\\u0438\\u0435\",\"all/\\u0444\\u0438\\u043b\\u044c\\u0442\\u0440\\u044b \\u0434\\u043b\\u044f \\u0432\\u043e\\u0434\\u044b \\u0438 \\u043a\\u0443\\u043b\\u0435\\u0440\\u044b\",\"all/\\u0444\\u0438\\u043b\\u044c\\u0442\\u0440\\u044b \\u0434\\u043b\\u044f \\u0432\\u043e\\u0434\\u044b \\u0438 \\u043a\\u0443\\u043b\\u0435\\u0440\\u044b\",\"all/\\u043f\\u043b\\u0438\\u0442\\u043a\\u0430 \\u0438 \\u043a\\u043e\\u043c\\u043f\\u043b\\u0435\\u043a\\u0442\\u0443\\u044e\\u0449\\u0438\\u0435\",\"all/\\u043f\\u043b\\u0438\\u0442\\u043a\\u0430 \\u0438 \\u043a\\u043e\\u043c\\u043f\\u043b\\u0435\\u043a\\u0442\\u0443\\u044e\\u0449\\u0438\\u0435\",\"all/\\u043f\\u043b\\u0438\\u0442\\u043a\\u0430 \\u0438 \\u043a\\u043e\\u043c\\u043f\\u043b\\u0435\\u043a\\u0442\\u0443\\u044e\\u0449\\u0438\\u0435\",\"all/\\u0438\\u043d\\u0441\\u0442\\u0430\\u043b\\u043b\\u044f\\u0446\\u0438\\u0438, \\u043a\\u043d\\u043e\\u043f\\u043a\\u0438 \\u0441\\u043c\\u044b\\u0432\\u0430 \\u0438 \\u043a\\u043e\\u043c\\u043f\\u043b\\u0435\\u043a\\u0442\\u0443\\u044e\\u0449\\u0438\\u0435\",\"all/\\u0430\\u043a\\u0441\\u0435\\u0441\\u0441\\u0443\\u0430\\u0440\\u044b\",\"all/\\u0434\\u043b\\u044f \\u0434\\u0430\\u0447\\u0438 \\u0438 \\u0431\\u0430\\u043d\\u0438\",\"all/\\u0434\\u043b\\u044f \\u0434\\u0430\\u0447\\u0438 \\u0438 \\u0431\\u0430\\u043d\\u0438\",\"all/\\u043c\\u0435\\u0431\\u0435\\u043b\\u044c \\u0434\\u043b\\u044f \\u0432\\u0430\\u043d\\u043d\\u043e\\u0439 \\u0438 \\u043a\\u043e\\u043c\\u043f\\u043b\\u0435\\u043a\\u0442\\u0443\\u044e\\u0449\\u0438\\u0435\",\"all/\\u043c\\u0435\\u0431\\u0435\\u043b\\u044c \\u0434\\u043b\\u044f \\u0432\\u0430\\u043d\\u043d\\u043e\\u0439 \\u0438 \\u043a\\u043e\\u043c\\u043f\\u043b\\u0435\\u043a\\u0442\\u0443\\u044e\\u0449\\u0438\\u0435\",\"all/\\u0441\\u043c\\u0435\\u0441\\u0438\\u0442\\u0435\\u043b\\u0438, \\u0434\\u0443\\u0448 \\u0438 \\u043a\\u043e\\u043c\\u043f\\u043b\\u0435\\u043a\\u0442\\u0443\\u044e\\u0449\\u0438\\u0435\",\"all/\\u0441\\u043c\\u0435\\u0441\\u0438\\u0442\\u0435\\u043b\\u0438, \\u0434\\u0443\\u0448 \\u0438 \\u043a\\u043e\\u043c\\u043f\\u043b\\u0435\\u043a\\u0442\\u0443\\u044e\\u0449\\u0438\\u0435\",\"all/\\u0434\\u043b\\u044f \\u0434\\u0430\\u0447\\u0438 \\u0438 \\u0431\\u0430\\u043d\\u0438\",\"all/\\u043e\\u0442\\u043e\\u043f\\u043b\\u0435\\u043d\\u0438\\u0435 \\u0438 \\u043a\\u043b\\u0438\\u043c\\u0430\\u0442\",\"all/\\u043c\\u0435\\u0431\\u0435\\u043b\\u044c \\u0434\\u043b\\u044f \\u0432\\u0430\\u043d\\u043d\\u043e\\u0439 \\u0438 \\u043a\\u043e\\u043c\\u043f\\u043b\\u0435\\u043a\\u0442\\u0443\\u044e\\u0449\\u0438\\u0435\",\"all/\\u0440\\u0430\\u043a\\u043e\\u0432\\u0438\\u043d\\u044b \\u0438 \\u043a\\u043e\\u043c\\u043f\\u043b\\u0435\\u043a\\u0442\\u0443\\u044e\\u0449\\u0438\\u0435\",\"all/\\u0430\\u043a\\u0441\\u0435\\u0441\\u0441\\u0443\\u0430\\u0440\\u044b\",\"all/\\u0430\\u043a\\u0441\\u0435\\u0441\\u0441\\u0443\\u0430\\u0440\\u044b\",\"all/\\u0430\\u043a\\u0441\\u0435\\u0441\\u0441\\u0443\\u0430\\u0440\\u044b\",\"all/\\u043e\\u0442\\u043e\\u043f\\u043b\\u0435\\u043d\\u0438\\u0435 \\u0438 \\u043a\\u043b\\u0438\\u043c\\u0430\\u0442\",\"all/\\u0444\\u0438\\u043b\\u044c\\u0442\\u0440\\u044b \\u0434\\u043b\\u044f \\u0432\\u043e\\u0434\\u044b \\u0438 \\u043a\\u0443\\u043b\\u0435\\u0440\\u044b\",\"all/\\u0430\\u043a\\u0441\\u0435\\u0441\\u0441\\u0443\\u0430\\u0440\\u044b\",\"all/\\u0444\\u0438\\u043b\\u044c\\u0442\\u0440\\u044b \\u0434\\u043b\\u044f \\u0432\\u043e\\u0434\\u044b \\u0438 \\u043a\\u0443\\u043b\\u0435\\u0440\\u044b\",\"all/\\u043a\\u0443\\u0445\\u043e\\u043d\\u043d\\u044b\\u0435 \\u043c\\u043e\\u0439\\u043a\\u0438 \\u0438 \\u043a\\u043e\\u043c\\u043f\\u043b\\u0435\\u043a\\u0442\\u0443\\u044e\\u0449\\u0438\\u0435\",\"all/\\u0432\\u043e\\u0434\\u043e\\u0441\\u043d\\u0430\\u0431\\u0436\\u0435\\u043d\\u0438\\u0435\",\"all/\\u0444\\u0438\\u043b\\u044c\\u0442\\u0440\\u044b \\u0434\\u043b\\u044f \\u0432\\u043e\\u0434\\u044b \\u0438 \\u043a\\u0443\\u043b\\u0435\\u0440\\u044b\",\"all/\\u0444\\u0438\\u043b\\u044c\\u0442\\u0440\\u044b \\u0434\\u043b\\u044f \\u0432\\u043e\\u0434\\u044b \\u0438 \\u043a\\u0443\\u043b\\u0435\\u0440\\u044b\",\"all/\\u0434\\u043b\\u044f \\u0434\\u0430\\u0447\\u0438 \\u0438 \\u0431\\u0430\\u043d\\u0438\",\"all/\\u043c\\u0435\\u0431\\u0435\\u043b\\u044c \\u0434\\u043b\\u044f \\u0432\\u0430\\u043d\\u043d\\u043e\\u0439 \\u043a\\u043e\\u043c\\u043d\\u0430\\u0442\\u044b\",\"all/\\u043c\\u0435\\u0431\\u0435\\u043b\\u044c \\u0434\\u043b\\u044f \\u0432\\u0430\\u043d\\u043d\\u043e\\u0439 \\u0438 \\u043a\\u043e\\u043c\\u043f\\u043b\\u0435\\u043a\\u0442\\u0443\\u044e\\u0449\\u0438\\u0435\",\"all/\\u0440\\u0430\\u043a\\u043e\\u0432\\u0438\\u043d\\u044b \\u0438 \\u043a\\u043e\\u043c\\u043f\\u043b\\u0435\\u043a\\u0442\\u0443\\u044e\\u0449\\u0438\\u0435\",\"all/\\u043c\\u0435\\u0431\\u0435\\u043b\\u044c \\u0434\\u043b\\u044f \\u0432\\u0430\\u043d\\u043d\\u043e\\u0439 \\u0438 \\u043a\\u043e\\u043c\\u043f\\u043b\\u0435\\u043a\\u0442\\u0443\\u044e\\u0449\\u0438\\u0435\",\"all/\\u0440\\u0430\\u043a\\u043e\\u0432\\u0438\\u043d\\u044b \\u0438 \\u043a\\u043e\\u043c\\u043f\\u043b\\u0435\\u043a\\u0442\\u0443\\u044e\\u0449\\u0438\\u0435\",\"all/\\u043c\\u0435\\u0431\\u0435\\u043b\\u044c \\u0434\\u043b\\u044f \\u0432\\u0430\\u043d\\u043d\\u043e\\u0439 \\u0438 \\u043a\\u043e\\u043c\\u043f\\u043b\\u0435\\u043a\\u0442\\u0443\\u044e\\u0449\\u0438\\u0435\",\"all/\\u0438\\u043d\\u0441\\u0442\\u0430\\u043b\\u043b\\u044f\\u0446\\u0438\\u0438, \\u043a\\u043d\\u043e\\u043f\\u043a\\u0438 \\u0441\\u043c\\u044b\\u0432\\u0430 \\u0438 \\u043a\\u043e\\u043c\\u043f\\u043b\\u0435\\u043a\\u0442\\u0443\\u044e\\u0449\\u0438\\u0435\",\"all/\\u043e\\u0442\\u043e\\u043f\\u043b\\u0435\\u043d\\u0438\\u0435 \\u0438 \\u043a\\u043b\\u0438\\u043c\\u0430\\u0442\",\"all/\\u0430\\u043a\\u0441\\u0435\\u0441\\u0441\\u0443\\u0430\\u0440\\u044b\",\"all/\\u0430\\u043a\\u0441\\u0435\\u0441\\u0441\\u0443\\u0430\\u0440\\u044b\",\"all/\\u0430\\u043a\\u0441\\u0435\\u0441\\u0441\\u0443\\u0430\\u0440\\u044b\",\"all/\\u0430\\u043a\\u0441\\u0435\\u0441\\u0441\\u0443\\u0430\\u0440\\u044b\",\"all/\\u0430\\u043a\\u0441\\u0435\\u0441\\u0441\\u0443\\u0430\\u0440\\u044b\",\"all/\\u0430\\u043a\\u0441\\u0435\\u0441\\u0441\\u0443\\u0430\\u0440\\u044b\",\"all/\\u0430\\u043a\\u0441\\u0435\\u0441\\u0441\\u0443\\u0430\\u0440\\u044b\",\"all/\\u0434\\u043b\\u044f \\u0434\\u0430\\u0447\\u0438 \\u0438 \\u0431\\u0430\\u043d\\u0438\",\"all/\\u0441\\u0430\\u043d\\u0442\\u0435\\u0445\\u043d\\u0438\\u043a\\u0430\",\"all/\\u0438\\u043d\\u0436\\u0435\\u043d\\u0435\\u0440\\u043d\\u0430\\u044f \\u0441\\u0430\\u043d\\u0442\\u0435\\u0445\\u043d\\u0438\\u043a\\u0430\",\"all/\\u0441\\u0430\\u043d\\u0442\\u0435\\u0445\\u043d\\u0438\\u043a\\u0430\",\"all/\\u0441\\u0430\\u043d\\u0442\\u0435\\u0445\\u043d\\u0438\\u043a\\u0430\",\"all/\\u0432\\u043e\\u0434\\u043e\\u0441\\u043d\\u0430\\u0431\\u0436\\u0435\\u043d\\u0438\\u0435\",\"all/\\u043e\\u0442\\u043e\\u043f\\u043b\\u0435\\u043d\\u0438\\u0435 \\u0438 \\u043a\\u043b\\u0438\\u043c\\u0430\\u0442\",\"all/\\u043e\\u0442\\u043e\\u043f\\u043b\\u0435\\u043d\\u0438\\u0435 \\u0438 \\u043a\\u043b\\u0438\\u043c\\u0430\\u0442\",\"all/\\u043e\\u0442\\u043e\\u043f\\u043b\\u0435\\u043d\\u0438\\u0435 \\u0438 \\u043a\\u043b\\u0438\\u043c\\u0430\\u0442\",\"all/\\u0434\\u043b\\u044f \\u043e\\u0431\\u0449\\u0435\\u0441\\u0442\\u0432\\u0435\\u043d\\u043d\\u044b\\u0445 \\u043c\\u0435\\u0441\\u0442\",\"all/ \\u0443\\u043d\\u0438\\u0442\\u0430\\u0437\\u044b, \\u0431\\u0438\\u0434\\u0435, \\u043f\\u0438\\u0441\\u0441\\u0443\\u0430\\u0440\\u044b \\u0438 \\u043a\\u043e\\u043c\\u043f\\u043b\\u0435\\u043a\\u0442\\u0443\\u044e\\u0449\\u0438\\u0435\",\"all/\\u0443\\u043d\\u0438\\u0442\\u0430\\u0437\\u044b, \\u0431\\u0438\\u0434\\u0435, \\u043f\\u0438\\u0441\\u0441\\u0443\\u0430\\u0440\\u044b \\u0438 \\u043a\\u043e\\u043c\\u043f\\u043b\\u0435\\u043a\\u0442\\u0443\\u044e\\u0449\\u0438\\u0435\",\"all/ \\u0443\\u043d\\u0438\\u0442\\u0430\\u0437\\u044b, \\u0431\\u0438\\u0434\\u0435, \\u043f\\u0438\\u0441\\u0441\\u0443\\u0430\\u0440\\u044b \\u0438 \\u043a\\u043e\\u043c\\u043f\\u043b\\u0435\\u043a\\u0442\\u0443\\u044e\\u0449\\u0438\\u0435\",\"all/\\u0434\\u043b\\u044f \\u043e\\u0431\\u0449\\u0435\\u0441\\u0442\\u0432\\u0435\\u043d\\u043d\\u044b\\u0445 \\u043c\\u0435\\u0441\\u0442\",\"all/\\u0443\\u043d\\u0438\\u0442\\u0430\\u0437\\u044b, \\u0431\\u0438\\u0434\\u0435, \\u043f\\u0438\\u0441\\u0441\\u0443\\u0430\\u0440\\u044b \\u0438 \\u043a\\u043e\\u043c\\u043f\\u043b\\u0435\\u043a\\u0442\\u0443\\u044e\\u0449\\u0438\\u0435\",\"all/\\u043f\\u043b\\u0438\\u0442\\u043a\\u0430 \\u0438 \\u043a\\u043e\\u043c\\u043f\\u043b\\u0435\\u043a\\u0442\\u0443\\u044e\\u0449\\u0438\\u0435\",\"all/\\u043f\\u043b\\u0438\\u0442\\u043a\\u0430 \\u0438 \\u043a\\u043e\\u043c\\u043f\\u043b\\u0435\\u043a\\u0442\\u0443\\u044e\\u0449\\u0438\\u0435\",\"all/\\u043f\\u043b\\u0438\\u0442\\u043a\\u0430 \\u0438 \\u043a\\u043e\\u043c\\u043f\\u043b\\u0435\\u043a\\u0442\\u0443\\u044e\\u0449\\u0438\\u0435\",\"all/\\u043f\\u043b\\u0438\\u0442\\u043a\\u0430 \\u0438 \\u043a\\u043e\\u043c\\u043f\\u043b\\u0435\\u043a\\u0442\\u0443\\u044e\\u0449\\u0438\\u0435\",\"all/\\u043f\\u043b\\u0438\\u0442\\u043a\\u0430 \\u0438 \\u043a\\u043e\\u043c\\u043f\\u043b\\u0435\\u043a\\u0442\\u0443\\u044e\\u0449\\u0438\\u0435\",\"all/\\u0434\\u043b\\u044f \\u0434\\u0430\\u0447\\u0438 \\u0438 \\u0431\\u0430\\u043d\\u0438\",\"all/\\u0430\\u043a\\u0441\\u0435\\u0441\\u0441\\u0443\\u0430\\u0440\\u044b\",\"all/\\u0434\\u043b\\u044f \\u0434\\u0430\\u0447\\u0438 \\u0438 \\u0431\\u0430\\u043d\\u0438\",\"all/\\u0434\\u043b\\u044f \\u0434\\u0430\\u0447\\u0438 \\u0438 \\u0431\\u0430\\u043d\\u0438\",\"all/\\u0430\\u043a\\u0441\\u0435\\u0441\\u0441\\u0443\\u0430\\u0440\\u044b\",\"all/\\u0441\\u043c\\u0435\\u0441\\u0438\\u0442\\u0435\\u043b\\u0438, \\u0434\\u0443\\u0448 \\u0438 \\u043a\\u043e\\u043c\\u043f\\u043b\\u0435\\u043a\\u0442\\u0443\\u044e\\u0449\\u0438\\u0435\",\"all/\\u0430\\u043a\\u0441\\u0435\\u0441\\u0441\\u0443\\u0430\\u0440\\u044b\",\"all/\\u0430\\u043a\\u0441\\u0435\\u0441\\u0441\\u0443\\u0430\\u0440\\u044b\",\"all/\\u043c\\u0435\\u0431\\u0435\\u043b\\u044c \\u0434\\u043b\\u044f \\u0432\\u0430\\u043d\\u043d\\u043e\\u0439 \\u0438 \\u043a\\u043e\\u043c\\u043f\\u043b\\u0435\\u043a\\u0442\\u0443\\u044e\\u0449\\u0438\\u0435\",\"all/\\u0434\\u043b\\u044f \\u0434\\u0430\\u0447\\u0438 \\u0438 \\u0431\\u0430\\u043d\\u0438\",\"all/\\u0430\\u043a\\u0441\\u0435\\u0441\\u0441\\u0443\\u0430\\u0440\\u044b\",\"all/\\u0432\\u0430\\u043d\\u043d\\u044b \\u0438 \\u043a\\u043e\\u043c\\u043f\\u043b\\u0435\\u043a\\u0442\\u0443\\u044e\\u0449\\u0438\\u0435\",\"all/\\u0434\\u0443\\u0448\\u0435\\u0432\\u044b\\u0435 \\u043a\\u0430\\u0431\\u0438\\u043d\\u044b, \\u043e\\u0433\\u0440\\u0430\\u0436\\u0434\\u0435\\u043d\\u0438\\u044f \\u0438 \\u043a\\u043e\\u043c\\u043f\\u043b\\u0435\\u043a\\u0442\\u0443\\u044e\\u0449\\u0438\\u0435\",\"all/\\u043e\\u0442\\u043e\\u043f\\u043b\\u0435\\u043d\\u0438\\u0435 \\u0438 \\u043a\\u043b\\u0438\\u043c\\u0430\\u0442\",\"all/\\u043f\\u043e\\u043b\\u043e\\u0442\\u0435\\u043d\\u0446\\u0435\\u0441\\u0443\\u0448\\u0438\\u0442\\u0435\\u043b\\u0438\",\"all/\\u043e\\u0442\\u043e\\u043f\\u043b\\u0435\\u043d\\u0438\\u0435 \\u0438 \\u043a\\u043b\\u0438\\u043c\\u0430\\u0442\",\"all/\\u0430\\u043a\\u0441\\u0435\\u0441\\u0441\\u0443\\u0430\\u0440\\u044b\",\"all/\\u0441\\u043c\\u0435\\u0441\\u0438\\u0442\\u0435\\u043b\\u0438, \\u0434\\u0443\\u0448 \\u0438 \\u043a\\u043e\\u043c\\u043f\\u043b\\u0435\\u043a\\u0442\\u0443\\u044e\\u0449\\u0438\\u0435\",\"all/\\u0434\\u043b\\u044f \\u043e\\u0431\\u0449\\u0435\\u0441\\u0442\\u0432\\u0435\\u043d\\u043d\\u044b\\u0445 \\u043c\\u0435\\u0441\\u0442\",\"all/\\u043e\\u0442\\u043e\\u043f\\u043b\\u0435\\u043d\\u0438\\u0435 \\u0438 \\u043a\\u043b\\u0438\\u043c\\u0430\\u0442\",\"all/\\u043e\\u0442\\u043e\\u043f\\u043b\\u0435\\u043d\\u0438\\u0435 \\u0438 \\u043a\\u043b\\u0438\\u043c\\u0430\\u0442\",\"all/\\u043c\\u0435\\u0431\\u0435\\u043b\\u044c \\u0434\\u043b\\u044f \\u0432\\u0430\\u043d\\u043d\\u043e\\u0439 \\u0438 \\u043a\\u043e\\u043c\\u043f\\u043b\\u0435\\u043a\\u0442\\u0443\\u044e\\u0449\\u0438\\u0435\",\"all/\\u0440\\u0430\\u043a\\u043e\\u0432\\u0438\\u043d\\u044b \\u0438 \\u043a\\u043e\\u043c\\u043f\\u043b\\u0435\\u043a\\u0442\\u0443\\u044e\\u0449\\u0438\\u0435\",\"all/\\u043c\\u0435\\u0431\\u0435\\u043b\\u044c \\u0434\\u043b\\u044f \\u0432\\u0430\\u043d\\u043d\\u043e\\u0439 \\u0438 \\u043a\\u043e\\u043c\\u043f\\u043b\\u0435\\u043a\\u0442\\u0443\\u044e\\u0449\\u0438\\u0435\",\"all/\\u0440\\u0430\\u043a\\u043e\\u0432\\u0438\\u043d\\u044b \\u0438 \\u043a\\u043e\\u043c\\u043f\\u043b\\u0435\\u043a\\u0442\\u0443\\u044e\\u0449\\u0438\\u0435\",\"all/\\u0440\\u0430\\u043a\\u043e\\u0432\\u0438\\u043d\\u044b \\u0438 \\u043a\\u043e\\u043c\\u043f\\u043b\\u0435\\u043a\\u0442\\u0443\\u044e\\u0449\\u0438\\u0435\",\"all/\\u0441\\u0430\\u043d\\u0442\\u0435\\u0445\\u043d\\u0438\\u043a\\u0430\",\"all/\\u0440\\u0430\\u043a\\u043e\\u0432\\u0438\\u043d\\u044b \\u0438 \\u043a\\u043e\\u043c\\u043f\\u043b\\u0435\\u043a\\u0442\\u0443\\u044e\\u0449\\u0438\\u0435\",\"all/\\u0434\\u043b\\u044f \\u043e\\u0431\\u0449\\u0435\\u0441\\u0442\\u0432\\u0435\\u043d\\u043d\\u044b\\u0445 \\u043c\\u0435\\u0441\\u0442\",\"all/\\u0432\\u043e\\u0434\\u043e\\u0441\\u043d\\u0430\\u0431\\u0436\\u0435\\u043d\\u0438\\u0435\",\"all/\\u043f\\u043b\\u0438\\u0442\\u043a\\u0430 \\u0438 \\u043a\\u043e\\u043c\\u043f\\u043b\\u0435\\u043a\\u0442\\u0443\\u044e\\u0449\\u0438\\u0435\",\"all/\\u0441\\u043b\\u0438\\u0432 \\u0438 \\u043a\\u0430\\u043d\\u0430\\u043b\\u0438\\u0437\\u0430\\u0446\\u0438\\u044f\",\"all/\\u043c\\u0435\\u0431\\u0435\\u043b\\u044c \\u0434\\u043b\\u044f \\u0432\\u0430\\u043d\\u043d\\u043e\\u0439 \\u0438 \\u043a\\u043e\\u043c\\u043f\\u043b\\u0435\\u043a\\u0442\\u0443\\u044e\\u0449\\u0438\\u0435\",\"all/\\u0440\\u0430\\u043a\\u043e\\u0432\\u0438\\u043d\\u044b \\u0438 \\u043a\\u043e\\u043c\\u043f\\u043b\\u0435\\u043a\\u0442\\u0443\\u044e\\u0449\\u0438\\u0435\",\"all/\\u043c\\u0435\\u0431\\u0435\\u043b\\u044c \\u0434\\u043b\\u044f \\u0432\\u0430\\u043d\\u043d\\u043e\\u0439 \\u043a\\u043e\\u043c\\u043d\\u0430\\u0442\\u044b\",\"all/\\u0434\\u043b\\u044f \\u0434\\u0430\\u0447\\u0438 \\u0438 \\u0431\\u0430\\u043d\\u0438\",\"all/\\u0432\\u043e\\u0434\\u043e\\u0441\\u043d\\u0430\\u0431\\u0436\\u0435\\u043d\\u0438\\u0435\",\"all/\\u043f\\u043b\\u0438\\u0442\\u043a\\u0430 \\u0438 \\u043a\\u043e\\u043c\\u043f\\u043b\\u0435\\u043a\\u0442\\u0443\\u044e\\u0449\\u0438\\u0435\",\"all/\\u0441\\u043b\\u0438\\u0432 \\u0438 \\u043a\\u0430\\u043d\\u0430\\u043b\\u0438\\u0437\\u0430\\u0446\\u0438\\u044f\",\"all/\\u0434\\u043b\\u044f \\u0434\\u0430\\u0447\\u0438 \\u0438 \\u0431\\u0430\\u043d\\u0438\",\"all/\\u043c\\u0435\\u0431\\u0435\\u043b\\u044c \\u0434\\u043b\\u044f \\u0432\\u0430\\u043d\\u043d\\u043e\\u0439 \\u0438 \\u043a\\u043e\\u043c\\u043f\\u043b\\u0435\\u043a\\u0442\\u0443\\u044e\\u0449\\u0438\\u0435\",\"all/\\u0440\\u0430\\u043a\\u043e\\u0432\\u0438\\u043d\\u044b \\u0438 \\u043a\\u043e\\u043c\\u043f\\u043b\\u0435\\u043a\\u0442\\u0443\\u044e\\u0449\\u0438\\u0435\",\"all/\\u0434\\u043b\\u044f \\u043e\\u0431\\u0449\\u0435\\u0441\\u0442\\u0432\\u0435\\u043d\\u043d\\u044b\\u0445 \\u043c\\u0435\\u0441\\u0442\",\"all/\\u0430\\u043a\\u0441\\u0435\\u0441\\u0441\\u0443\\u0430\\u0440\\u044b\",\"all/\\u0430\\u043a\\u0441\\u0435\\u0441\\u0441\\u0443\\u0430\\u0440\\u044b\",\"all/\\u0434\\u0443\\u0448\\u0435\\u0432\\u044b\\u0435 \\u043a\\u0430\\u0431\\u0438\\u043d\\u044b, \\u043e\\u0433\\u0440\\u0430\\u0436\\u0434\\u0435\\u043d\\u0438\\u044f \\u0438 \\u043a\\u043e\\u043c\\u043f\\u043b\\u0435\\u043a\\u0442\\u0443\\u044e\\u0449\\u0438\\u0435\",\"all/\\u0430\\u043a\\u0441\\u0435\\u0441\\u0441\\u0443\\u0430\\u0440\\u044b\",\"all/\\u0432\\u043e\\u0434\\u043e\\u0441\\u043d\\u0430\\u0431\\u0436\\u0435\\u043d\\u0438\\u0435\",\"all/\\u043f\\u043b\\u0438\\u0442\\u043a\\u0430 \\u0438 \\u043a\\u043e\\u043c\\u043f\\u043b\\u0435\\u043a\\u0442\\u0443\\u044e\\u0449\\u0438\\u0435\",\"all/\\u0441\\u043b\\u0438\\u0432 \\u0438 \\u043a\\u0430\\u043d\\u0430\\u043b\\u0438\\u0437\\u0430\\u0446\\u0438\\u044f\",\"all/\\u0441\\u043b\\u0438\\u0432 \\u0438 \\u043a\\u0430\\u043d\\u0430\\u043b\\u0438\\u0437\\u0430\\u0446\\u0438\\u044f\",\"all/ \\u0443\\u043d\\u0438\\u0442\\u0430\\u0437\\u044b, \\u0431\\u0438\\u0434\\u0435, \\u043f\\u0438\\u0441\\u0441\\u0443\\u0430\\u0440\\u044b \\u0438 \\u043a\\u043e\\u043c\\u043f\\u043b\\u0435\\u043a\\u0442\\u0443\\u044e\\u0449\\u0438\\u0435\",\"all/\\u0441\\u043b\\u0438\\u0432 \\u0438 \\u043a\\u0430\\u043d\\u0430\\u043b\\u0438\\u0437\\u0430\\u0446\\u0438\\u044f\",\"all/\\u0441\\u043b\\u0438\\u0432 \\u0438 \\u043a\\u0430\\u043d\\u0430\\u043b\\u0438\\u0437\\u0430\\u0446\\u0438\\u044f\",\"all/\\u0441\\u043b\\u0438\\u0432 \\u0438 \\u043a\\u0430\\u043d\\u0430\\u043b\\u0438\\u0437\\u0430\\u0446\\u0438\\u044f\",\"all/\\u0441\\u043b\\u0438\\u0432 \\u0438 \\u043a\\u0430\\u043d\\u0430\\u043b\\u0438\\u0437\\u0430\\u0446\\u0438\\u044f\",\"all/\\u0430\\u043a\\u0441\\u0435\\u0441\\u0441\\u0443\\u0430\\u0440\\u044b\",\"all/ \\u0443\\u043d\\u0438\\u0442\\u0430\\u0437\\u044b, \\u0431\\u0438\\u0434\\u0435, \\u043f\\u0438\\u0441\\u0441\\u0443\\u0430\\u0440\\u044b \\u0438 \\u043a\\u043e\\u043c\\u043f\\u043b\\u0435\\u043a\\u0442\\u0443\\u044e\\u0449\\u0438\\u0435\",\"all/\\u0443\\u043d\\u0438\\u0442\\u0430\\u0437\\u044b, \\u0431\\u0438\\u0434\\u0435, \\u043f\\u0438\\u0441\\u0441\\u0443\\u0430\\u0440\\u044b \\u0438 \\u043a\\u043e\\u043c\\u043f\\u043b\\u0435\\u043a\\u0442\\u0443\\u044e\\u0449\\u0438\\u0435\",\"all/\\u0434\\u0443\\u0448\\u0435\\u0432\\u044b\\u0435 \\u043a\\u0430\\u0431\\u0438\\u043d\\u044b, \\u043e\\u0433\\u0440\\u0430\\u0436\\u0434\\u0435\\u043d\\u0438\\u044f \\u0438 \\u043a\\u043e\\u043c\\u043f\\u043b\\u0435\\u043a\\u0442\\u0443\\u044e\\u0449\\u0438\\u0435\",\"all/\\u043c\\u0435\\u0431\\u0435\\u043b\\u044c \\u0434\\u043b\\u044f \\u0432\\u0430\\u043d\\u043d\\u043e\\u0439 \\u0438 \\u043a\\u043e\\u043c\\u043f\\u043b\\u0435\\u043a\\u0442\\u0443\\u044e\\u0449\\u0438\\u0435\",\"all/\\u0440\\u0430\\u043a\\u043e\\u0432\\u0438\\u043d\\u044b \\u0438 \\u043a\\u043e\\u043c\\u043f\\u043b\\u0435\\u043a\\u0442\\u0443\\u044e\\u0449\\u0438\\u0435\",\"all/\\u0432\\u0430\\u043d\\u043d\\u044b \\u0438 \\u043a\\u043e\\u043c\\u043f\\u043b\\u0435\\u043a\\u0442\\u0443\\u044e\\u0449\\u0438\\u0435\",\"all/\\u0441\\u043b\\u0438\\u0432 \\u0438 \\u043a\\u0430\\u043d\\u0430\\u043b\\u0438\\u0437\\u0430\\u0446\\u0438\\u044f\",\"all/\\u0441\\u043b\\u0438\\u0432 \\u0438 \\u043a\\u0430\\u043d\\u0430\\u043b\\u0438\\u0437\\u0430\\u0446\\u0438\\u044f\",\"all/ \\u0443\\u043d\\u0438\\u0442\\u0430\\u0437\\u044b, \\u0431\\u0438\\u0434\\u0435, \\u043f\\u0438\\u0441\\u0441\\u0443\\u0430\\u0440\\u044b \\u0438 \\u043a\\u043e\\u043c\\u043f\\u043b\\u0435\\u043a\\u0442\\u0443\\u044e\\u0449\\u0438\\u0435\",\"all/\\u0443\\u043d\\u0438\\u0442\\u0430\\u0437\\u044b, \\u0431\\u0438\\u0434\\u0435, \\u043f\\u0438\\u0441\\u0441\\u0443\\u0430\\u0440\\u044b \\u0438 \\u043a\\u043e\\u043c\\u043f\\u043b\\u0435\\u043a\\u0442\\u0443\\u044e\\u0449\\u0438\\u0435\",\"all/\\u0432\\u0430\\u043d\\u043d\\u044b \\u0438 \\u043a\\u043e\\u043c\\u043f\\u043b\\u0435\\u043a\\u0442\\u0443\\u044e\\u0449\\u0438\\u0435\",\"all/\\u0441\\u043c\\u0435\\u0441\\u0438\\u0442\\u0435\\u043b\\u0438, \\u0434\\u0443\\u0448 \\u0438 \\u043a\\u043e\\u043c\\u043f\\u043b\\u0435\\u043a\\u0442\\u0443\\u044e\\u0449\\u0438\\u0435\",\"all/\\u0434\\u0443\\u0448\\u0435\\u0432\\u044b\\u0435 \\u043a\\u0430\\u0431\\u0438\\u043d\\u044b, \\u043e\\u0433\\u0440\\u0430\\u0436\\u0434\\u0435\\u043d\\u0438\\u044f \\u0438 \\u043a\\u043e\\u043c\\u043f\\u043b\\u0435\\u043a\\u0442\\u0443\\u044e\\u0449\\u0438\\u0435\",\"all/\\u043a\\u0443\\u0445\\u043e\\u043d\\u043d\\u044b\\u0435 \\u043c\\u043e\\u0439\\u043a\\u0438 \\u0438 \\u043a\\u043e\\u043c\\u043f\\u043b\\u0435\\u043a\\u0442\\u0443\\u044e\\u0449\\u0438\\u0435\",\"all/\\u0441\\u043c\\u0435\\u0441\\u0438\\u0442\\u0435\\u043b\\u0438, \\u0434\\u0443\\u0448 \\u0438 \\u043a\\u043e\\u043c\\u043f\\u043b\\u0435\\u043a\\u0442\\u0443\\u044e\\u0449\\u0438\\u0435\",\"all/\\u0440\\u0430\\u043a\\u043e\\u0432\\u0438\\u043d\\u044b \\u0438 \\u043a\\u043e\\u043c\\u043f\\u043b\\u0435\\u043a\\u0442\\u0443\\u044e\\u0449\\u0438\\u0435\",\"all/\\u043c\\u0435\\u0431\\u0435\\u043b\\u044c \\u0434\\u043b\\u044f \\u0432\\u0430\\u043d\\u043d\\u043e\\u0439 \\u0438 \\u043a\\u043e\\u043c\\u043f\\u043b\\u0435\\u043a\\u0442\\u0443\\u044e\\u0449\\u0438\\u0435\",\"all/\\u0441\\u043c\\u0435\\u0441\\u0438\\u0442\\u0435\\u043b\\u0438, \\u0434\\u0443\\u0448 \\u0438 \\u043a\\u043e\\u043c\\u043f\\u043b\\u0435\\u043a\\u0442\\u0443\\u044e\\u0449\\u0438\\u0435\",\"all/\\u0438\\u043d\\u0441\\u0442\\u0430\\u043b\\u043b\\u044f\\u0446\\u0438\\u0438, \\u043a\\u043d\\u043e\\u043f\\u043a\\u0438 \\u0441\\u043c\\u044b\\u0432\\u0430 \\u0438 \\u043a\\u043e\\u043c\\u043f\\u043b\\u0435\\u043a\\u0442\\u0443\\u044e\\u0449\\u0438\\u0435\",\"all/\\u0434\\u043b\\u044f \\u043e\\u0431\\u0449\\u0435\\u0441\\u0442\\u0432\\u0435\\u043d\\u043d\\u044b\\u0445 \\u043c\\u0435\\u0441\\u0442\",\"all/\\u0430\\u043a\\u0441\\u0435\\u0441\\u0441\\u0443\\u0430\\u0440\\u044b\",\"all/\\u0441\\u0430\\u043d\\u0442\\u0435\\u0445\\u043d\\u0438\\u043a\\u0430\",\"all/\\u0430\\u043a\\u0441\\u0435\\u0441\\u0441\\u0443\\u0430\\u0440\\u044b\",\"all/\\u0430\\u043a\\u0441\\u0435\\u0441\\u0441\\u0443\\u0430\\u0440\\u044b\",\"all/\\u0430\\u043a\\u0441\\u0435\\u0441\\u0441\\u0443\\u0430\\u0440\\u044b\",\"all/\\u043c\\u0435\\u0431\\u0435\\u043b\\u044c \\u0434\\u043b\\u044f \\u0432\\u0430\\u043d\\u043d\\u043e\\u0439 \\u0438 \\u043a\\u043e\\u043c\\u043f\\u043b\\u0435\\u043a\\u0442\\u0443\\u044e\\u0449\\u0438\\u0435\",\"all/\\u0440\\u0430\\u043a\\u043e\\u0432\\u0438\\u043d\\u044b \\u0438 \\u043a\\u043e\\u043c\\u043f\\u043b\\u0435\\u043a\\u0442\\u0443\\u044e\\u0449\\u0438\\u0435\",\"all/\\u043c\\u0435\\u0431\\u0435\\u043b\\u044c \\u0434\\u043b\\u044f \\u0432\\u0430\\u043d\\u043d\\u043e\\u0439 \\u043a\\u043e\\u043c\\u043d\\u0430\\u0442\\u044b\",\"all/\\u0440\\u0430\\u043a\\u043e\\u0432\\u0438\\u043d\\u044b \\u0438 \\u043a\\u043e\\u043c\\u043f\\u043b\\u0435\\u043a\\u0442\\u0443\\u044e\\u0449\\u0438\\u0435\",\"all/\\u0430\\u043a\\u0441\\u0435\\u0441\\u0441\\u0443\\u0430\\u0440\\u044b\",\"all/\\u0434\\u043b\\u044f \\u0434\\u0430\\u0447\\u0438 \\u0438 \\u0431\\u0430\\u043d\\u0438\",\"all/\\u0430\\u043a\\u0441\\u0435\\u0441\\u0441\\u0443\\u0430\\u0440\\u044b\",\"all/\\u0434\\u043b\\u044f \\u0434\\u0430\\u0447\\u0438 \\u0438 \\u0431\\u0430\\u043d\\u0438\",\"all/\\u0430\\u043a\\u0441\\u0435\\u0441\\u0441\\u0443\\u0430\\u0440\\u044b\",\"all/\\u0434\\u043b\\u044f \\u043e\\u0431\\u0449\\u0435\\u0441\\u0442\\u0432\\u0435\\u043d\\u043d\\u044b\\u0445 \\u043c\\u0435\\u0441\\u0442\",\"all/\\u0430\\u043a\\u0441\\u0435\\u0441\\u0441\\u0443\\u0430\\u0440\\u044b\",\"all/\\u043e\\u0442\\u043e\\u043f\\u043b\\u0435\\u043d\\u0438\\u0435 \\u0438 \\u043a\\u043b\\u0438\\u043c\\u0430\\u0442\",\"all/\\u043f\\u043b\\u0438\\u0442\\u043a\\u0430 \\u0438 \\u043a\\u043e\\u043c\\u043f\\u043b\\u0435\\u043a\\u0442\\u0443\\u044e\\u0449\\u0438\\u0435\",\"all/\\u0434\\u043b\\u044f \\u0434\\u0430\\u0447\\u0438 \\u0438 \\u0431\\u0430\\u043d\\u0438\",\"all/\\u0434\\u043b\\u044f \\u043e\\u0431\\u0449\\u0435\\u0441\\u0442\\u0432\\u0435\\u043d\\u043d\\u044b\\u0445 \\u043c\\u0435\\u0441\\u0442\",\"all/\\u043c\\u0435\\u0431\\u0435\\u043b\\u044c \\u0434\\u043b\\u044f \\u0432\\u0430\\u043d\\u043d\\u043e\\u0439 \\u0438 \\u043a\\u043e\\u043c\\u043f\\u043b\\u0435\\u043a\\u0442\\u0443\\u044e\\u0449\\u0438\\u0435\",\"all/\\u043c\\u0435\\u0431\\u0435\\u043b\\u044c \\u0434\\u043b\\u044f \\u0432\\u0430\\u043d\\u043d\\u043e\\u0439 \\u0438 \\u043a\\u043e\\u043c\\u043f\\u043b\\u0435\\u043a\\u0442\\u0443\\u044e\\u0449\\u0438\\u0435\",\"all/\\u043c\\u0435\\u0431\\u0435\\u043b\\u044c \\u0434\\u043b\\u044f \\u0432\\u0430\\u043d\\u043d\\u043e\\u0439 \\u0438 \\u043a\\u043e\\u043c\\u043f\\u043b\\u0435\\u043a\\u0442\\u0443\\u044e\\u0449\\u0438\\u0435\",\"all/\\u043c\\u0435\\u0431\\u0435\\u043b\\u044c \\u0434\\u043b\\u044f \\u0432\\u0430\\u043d\\u043d\\u043e\\u0439 \\u043a\\u043e\\u043c\\u043d\\u0430\\u0442\\u044b\",\"all/\\u043e\\u0442\\u043e\\u043f\\u043b\\u0435\\u043d\\u0438\\u0435 \\u0438 \\u043a\\u043b\\u0438\\u043c\\u0430\\u0442\",\"all/\\u0434\\u043b\\u044f \\u0434\\u0430\\u0447\\u0438 \\u0438 \\u0431\\u0430\\u043d\\u0438\",\"all/\\u0434\\u043b\\u044f \\u043e\\u0431\\u0449\\u0435\\u0441\\u0442\\u0432\\u0435\\u043d\\u043d\\u044b\\u0445 \\u043c\\u0435\\u0441\\u0442\",\"all/ \\u0443\\u043d\\u0438\\u0442\\u0430\\u0437\\u044b, \\u0431\\u0438\\u0434\\u0435, \\u043f\\u0438\\u0441\\u0441\\u0443\\u0430\\u0440\\u044b \\u0438 \\u043a\\u043e\\u043c\\u043f\\u043b\\u0435\\u043a\\u0442\\u0443\\u044e\\u0449\\u0438\\u0435\",\"all/\\u0443\\u043d\\u0438\\u0442\\u0430\\u0437\\u044b, \\u0431\\u0438\\u0434\\u0435, \\u043f\\u0438\\u0441\\u0441\\u0443\\u0430\\u0440\\u044b \\u0438 \\u043a\\u043e\\u043c\\u043f\\u043b\\u0435\\u043a\\u0442\\u0443\\u044e\\u0449\\u0438\\u0435\",\"all/\\u0434\\u043b\\u044f \\u043e\\u0431\\u0449\\u0435\\u0441\\u0442\\u0432\\u0435\\u043d\\u043d\\u044b\\u0445 \\u043c\\u0435\\u0441\\u0442\",\"all/\\u043f\\u043b\\u0438\\u0442\\u043a\\u0430 \\u0438 \\u043a\\u043e\\u043c\\u043f\\u043b\\u0435\\u043a\\u0442\\u0443\\u044e\\u0449\\u0438\\u0435\",\"all/\\u0434\\u043b\\u044f \\u043e\\u0431\\u0449\\u0435\\u0441\\u0442\\u0432\\u0435\\u043d\\u043d\\u044b\\u0445 \\u043c\\u0435\\u0441\\u0442\",\"all/\\u043a\\u0443\\u0445\\u043e\\u043d\\u043d\\u044b\\u0435 \\u043c\\u043e\\u0439\\u043a\\u0438 \\u0438 \\u043a\\u043e\\u043c\\u043f\\u043b\\u0435\\u043a\\u0442\\u0443\\u044e\\u0449\\u0438\\u0435\",\"all/\\u0432\\u043e\\u0434\\u043e\\u0441\\u043d\\u0430\\u0431\\u0436\\u0435\\u043d\\u0438\\u0435\",\"all/\\u0444\\u0438\\u043b\\u044c\\u0442\\u0440\\u044b \\u0434\\u043b\\u044f \\u0432\\u043e\\u0434\\u044b \\u0438 \\u043a\\u0443\\u043b\\u0435\\u0440\\u044b\",\"all/\\u0444\\u0438\\u043b\\u044c\\u0442\\u0440\\u044b \\u0434\\u043b\\u044f \\u0432\\u043e\\u0434\\u044b \\u0438 \\u043a\\u0443\\u043b\\u0435\\u0440\\u044b\",\"all/\\u0430\\u043a\\u0441\\u0435\\u0441\\u0441\\u0443\\u0430\\u0440\\u044b\",\"all/\\u0434\\u043b\\u044f \\u0434\\u0430\\u0447\\u0438 \\u0438 \\u0431\\u0430\\u043d\\u0438\",\"all/\\u0434\\u043b\\u044f \\u043e\\u0431\\u0449\\u0435\\u0441\\u0442\\u0432\\u0435\\u043d\\u043d\\u044b\\u0445 \\u043c\\u0435\\u0441\\u0442\",\"all/\\u0441\\u0430\\u043d\\u0442\\u0435\\u0445\\u043d\\u0438\\u043a\\u0430\",\"all/\\u0434\\u043b\\u044f \\u0434\\u0430\\u0447\\u0438 \\u0438 \\u0431\\u0430\\u043d\\u0438\",\"all/\\u043c\\u0435\\u0431\\u0435\\u043b\\u044c \\u0434\\u043b\\u044f \\u0432\\u0430\\u043d\\u043d\\u043e\\u0439 \\u0438 \\u043a\\u043e\\u043c\\u043f\\u043b\\u0435\\u043a\\u0442\\u0443\\u044e\\u0449\\u0438\\u0435\",\"all/\\u043c\\u0435\\u0431\\u0435\\u043b\\u044c \\u0434\\u043b\\u044f \\u0432\\u0430\\u043d\\u043d\\u043e\\u0439 \\u0438 \\u043a\\u043e\\u043c\\u043f\\u043b\\u0435\\u043a\\u0442\\u0443\\u044e\\u0449\\u0438\\u0435\",\"all/\\u0432\\u0430\\u043d\\u043d\\u044b \\u0438 \\u043a\\u043e\\u043c\\u043f\\u043b\\u0435\\u043a\\u0442\\u0443\\u044e\\u0449\\u0438\\u0435\",\"all/\\u0432\\u0430\\u043d\\u043d\\u044b \\u0438 \\u043a\\u043e\\u043c\\u043f\\u043b\\u0435\\u043a\\u0442\\u0443\\u044e\\u0449\\u0438\\u0435\",\"all/\\u0432\\u0430\\u043d\\u043d\\u044b \\u0438 \\u043a\\u043e\\u043c\\u043f\\u043b\\u0435\\u043a\\u0442\\u0443\\u044e\\u0449\\u0438\\u0435\",\"all/\\u0432\\u0430\\u043d\\u043d\\u044b \\u0438 \\u043a\\u043e\\u043c\\u043f\\u043b\\u0435\\u043a\\u0442\\u0443\\u044e\\u0449\\u0438\\u0435\",\"all/\\u0430\\u043a\\u0441\\u0435\\u0441\\u0441\\u0443\\u0430\\u0440\\u044b\",\"all\",\"all\",\"all\",\"all\",\"all\",\"all\",\"all\",\"all\",\"all\",\"all\",\"all\",\"all\",\"all\",\"all\",\"all\",\"all\",\"all\",\"all\",\"all\",\"all\",\"all\",\"all\",\"all\",\"\"],\"type\":\"treemap\",\"values\":[13,1,4,4,1,75,45,121,10,2,74,13,87,21,5,2,3,14,133,24,2,8,14,47,3,8,4873,1,6,11,26,2,511,3,25,995,2,1,46,11,117,11,58,769,8,1,8,6,68,3,1,2,1,4,7,14,11,225,13,13,5,325,37,1,1146,4,135,1,270,29,1095,6,4,1,135,170,230,2,2476,12,1,110,165,240,3,120,61,4,46,16,198,426,837,1,669,1,723,1,177,651,605,2,1609,114,2,1443,3,50,1,5,218,19,1,1223,43,634,26,50,5,26,25,2,13,15,3,11,915,1,615,9,117,18,38,1,62,16,6,21,107,10,279,44,1,1,139,2,252,529,1,54,31,95,9,55,20,40,13,138,7,1625,25,51,35,22,5,3,1,256,145,2106,8,11,40,7,63,20,168,2,29,3,2,1,1,1,20,7,8,8,1,3,3,82,4,31,348,1,21,3,1,2,5,2,1,264,2,43,12,50,1,103,14,10,32,2570,4,17,178,1,1,504,37,193,13,150,4165,1,1,5,18,38,13,171,45,2,7,16,28,11,2,99,9,8,35,15,11,2,27,10,15,325,4,1,1,1,3,21,28,2,138,24,228,75,147,5,11,4,52,9,10,549,4,216,72,12,24,2,43,1,21,7,10,133,246,2,1,8,1,41,1,13,17,26,64,17,3,1,364,3,4375,9,3,1,2,3718,837,17,49,8,24,11,178,5,50,2,3,1,1,323,519,2,409,41,206,129,4779,2812,4,5949,511,340,140,109,4647,2,1277,2369,10675,18,901,1445,2570,5559,21,982,10496,1046,311,56963]}],                        {\"legend\":{\"tracegroupgap\":0},\"margin\":{\"b\":25,\"l\":25,\"r\":25,\"t\":50},\"template\":{\"data\":{\"bar\":[{\"error_x\":{\"color\":\"#2a3f5f\"},\"error_y\":{\"color\":\"#2a3f5f\"},\"marker\":{\"line\":{\"color\":\"#E5ECF6\",\"width\":0.5},\"pattern\":{\"fillmode\":\"overlay\",\"size\":10,\"solidity\":0.2}},\"type\":\"bar\"}],\"barpolar\":[{\"marker\":{\"line\":{\"color\":\"#E5ECF6\",\"width\":0.5},\"pattern\":{\"fillmode\":\"overlay\",\"size\":10,\"solidity\":0.2}},\"type\":\"barpolar\"}],\"carpet\":[{\"aaxis\":{\"endlinecolor\":\"#2a3f5f\",\"gridcolor\":\"white\",\"linecolor\":\"white\",\"minorgridcolor\":\"white\",\"startlinecolor\":\"#2a3f5f\"},\"baxis\":{\"endlinecolor\":\"#2a3f5f\",\"gridcolor\":\"white\",\"linecolor\":\"white\",\"minorgridcolor\":\"white\",\"startlinecolor\":\"#2a3f5f\"},\"type\":\"carpet\"}],\"choropleth\":[{\"colorbar\":{\"outlinewidth\":0,\"ticks\":\"\"},\"type\":\"choropleth\"}],\"contour\":[{\"colorbar\":{\"outlinewidth\":0,\"ticks\":\"\"},\"colorscale\":[[0.0,\"#0d0887\"],[0.1111111111111111,\"#46039f\"],[0.2222222222222222,\"#7201a8\"],[0.3333333333333333,\"#9c179e\"],[0.4444444444444444,\"#bd3786\"],[0.5555555555555556,\"#d8576b\"],[0.6666666666666666,\"#ed7953\"],[0.7777777777777778,\"#fb9f3a\"],[0.8888888888888888,\"#fdca26\"],[1.0,\"#f0f921\"]],\"type\":\"contour\"}],\"contourcarpet\":[{\"colorbar\":{\"outlinewidth\":0,\"ticks\":\"\"},\"type\":\"contourcarpet\"}],\"heatmap\":[{\"colorbar\":{\"outlinewidth\":0,\"ticks\":\"\"},\"colorscale\":[[0.0,\"#0d0887\"],[0.1111111111111111,\"#46039f\"],[0.2222222222222222,\"#7201a8\"],[0.3333333333333333,\"#9c179e\"],[0.4444444444444444,\"#bd3786\"],[0.5555555555555556,\"#d8576b\"],[0.6666666666666666,\"#ed7953\"],[0.7777777777777778,\"#fb9f3a\"],[0.8888888888888888,\"#fdca26\"],[1.0,\"#f0f921\"]],\"type\":\"heatmap\"}],\"heatmapgl\":[{\"colorbar\":{\"outlinewidth\":0,\"ticks\":\"\"},\"colorscale\":[[0.0,\"#0d0887\"],[0.1111111111111111,\"#46039f\"],[0.2222222222222222,\"#7201a8\"],[0.3333333333333333,\"#9c179e\"],[0.4444444444444444,\"#bd3786\"],[0.5555555555555556,\"#d8576b\"],[0.6666666666666666,\"#ed7953\"],[0.7777777777777778,\"#fb9f3a\"],[0.8888888888888888,\"#fdca26\"],[1.0,\"#f0f921\"]],\"type\":\"heatmapgl\"}],\"histogram\":[{\"marker\":{\"pattern\":{\"fillmode\":\"overlay\",\"size\":10,\"solidity\":0.2}},\"type\":\"histogram\"}],\"histogram2d\":[{\"colorbar\":{\"outlinewidth\":0,\"ticks\":\"\"},\"colorscale\":[[0.0,\"#0d0887\"],[0.1111111111111111,\"#46039f\"],[0.2222222222222222,\"#7201a8\"],[0.3333333333333333,\"#9c179e\"],[0.4444444444444444,\"#bd3786\"],[0.5555555555555556,\"#d8576b\"],[0.6666666666666666,\"#ed7953\"],[0.7777777777777778,\"#fb9f3a\"],[0.8888888888888888,\"#fdca26\"],[1.0,\"#f0f921\"]],\"type\":\"histogram2d\"}],\"histogram2dcontour\":[{\"colorbar\":{\"outlinewidth\":0,\"ticks\":\"\"},\"colorscale\":[[0.0,\"#0d0887\"],[0.1111111111111111,\"#46039f\"],[0.2222222222222222,\"#7201a8\"],[0.3333333333333333,\"#9c179e\"],[0.4444444444444444,\"#bd3786\"],[0.5555555555555556,\"#d8576b\"],[0.6666666666666666,\"#ed7953\"],[0.7777777777777778,\"#fb9f3a\"],[0.8888888888888888,\"#fdca26\"],[1.0,\"#f0f921\"]],\"type\":\"histogram2dcontour\"}],\"mesh3d\":[{\"colorbar\":{\"outlinewidth\":0,\"ticks\":\"\"},\"type\":\"mesh3d\"}],\"parcoords\":[{\"line\":{\"colorbar\":{\"outlinewidth\":0,\"ticks\":\"\"}},\"type\":\"parcoords\"}],\"pie\":[{\"automargin\":true,\"type\":\"pie\"}],\"scatter\":[{\"marker\":{\"colorbar\":{\"outlinewidth\":0,\"ticks\":\"\"}},\"type\":\"scatter\"}],\"scatter3d\":[{\"line\":{\"colorbar\":{\"outlinewidth\":0,\"ticks\":\"\"}},\"marker\":{\"colorbar\":{\"outlinewidth\":0,\"ticks\":\"\"}},\"type\":\"scatter3d\"}],\"scattercarpet\":[{\"marker\":{\"colorbar\":{\"outlinewidth\":0,\"ticks\":\"\"}},\"type\":\"scattercarpet\"}],\"scattergeo\":[{\"marker\":{\"colorbar\":{\"outlinewidth\":0,\"ticks\":\"\"}},\"type\":\"scattergeo\"}],\"scattergl\":[{\"marker\":{\"colorbar\":{\"outlinewidth\":0,\"ticks\":\"\"}},\"type\":\"scattergl\"}],\"scattermapbox\":[{\"marker\":{\"colorbar\":{\"outlinewidth\":0,\"ticks\":\"\"}},\"type\":\"scattermapbox\"}],\"scatterpolar\":[{\"marker\":{\"colorbar\":{\"outlinewidth\":0,\"ticks\":\"\"}},\"type\":\"scatterpolar\"}],\"scatterpolargl\":[{\"marker\":{\"colorbar\":{\"outlinewidth\":0,\"ticks\":\"\"}},\"type\":\"scatterpolargl\"}],\"scatterternary\":[{\"marker\":{\"colorbar\":{\"outlinewidth\":0,\"ticks\":\"\"}},\"type\":\"scatterternary\"}],\"surface\":[{\"colorbar\":{\"outlinewidth\":0,\"ticks\":\"\"},\"colorscale\":[[0.0,\"#0d0887\"],[0.1111111111111111,\"#46039f\"],[0.2222222222222222,\"#7201a8\"],[0.3333333333333333,\"#9c179e\"],[0.4444444444444444,\"#bd3786\"],[0.5555555555555556,\"#d8576b\"],[0.6666666666666666,\"#ed7953\"],[0.7777777777777778,\"#fb9f3a\"],[0.8888888888888888,\"#fdca26\"],[1.0,\"#f0f921\"]],\"type\":\"surface\"}],\"table\":[{\"cells\":{\"fill\":{\"color\":\"#EBF0F8\"},\"line\":{\"color\":\"white\"}},\"header\":{\"fill\":{\"color\":\"#C8D4E3\"},\"line\":{\"color\":\"white\"}},\"type\":\"table\"}]},\"layout\":{\"annotationdefaults\":{\"arrowcolor\":\"#2a3f5f\",\"arrowhead\":0,\"arrowwidth\":1},\"autotypenumbers\":\"strict\",\"coloraxis\":{\"colorbar\":{\"outlinewidth\":0,\"ticks\":\"\"}},\"colorscale\":{\"diverging\":[[0,\"#8e0152\"],[0.1,\"#c51b7d\"],[0.2,\"#de77ae\"],[0.3,\"#f1b6da\"],[0.4,\"#fde0ef\"],[0.5,\"#f7f7f7\"],[0.6,\"#e6f5d0\"],[0.7,\"#b8e186\"],[0.8,\"#7fbc41\"],[0.9,\"#4d9221\"],[1,\"#276419\"]],\"sequential\":[[0.0,\"#0d0887\"],[0.1111111111111111,\"#46039f\"],[0.2222222222222222,\"#7201a8\"],[0.3333333333333333,\"#9c179e\"],[0.4444444444444444,\"#bd3786\"],[0.5555555555555556,\"#d8576b\"],[0.6666666666666666,\"#ed7953\"],[0.7777777777777778,\"#fb9f3a\"],[0.8888888888888888,\"#fdca26\"],[1.0,\"#f0f921\"]],\"sequentialminus\":[[0.0,\"#0d0887\"],[0.1111111111111111,\"#46039f\"],[0.2222222222222222,\"#7201a8\"],[0.3333333333333333,\"#9c179e\"],[0.4444444444444444,\"#bd3786\"],[0.5555555555555556,\"#d8576b\"],[0.6666666666666666,\"#ed7953\"],[0.7777777777777778,\"#fb9f3a\"],[0.8888888888888888,\"#fdca26\"],[1.0,\"#f0f921\"]]},\"colorway\":[\"#636efa\",\"#EF553B\",\"#00cc96\",\"#ab63fa\",\"#FFA15A\",\"#19d3f3\",\"#FF6692\",\"#B6E880\",\"#FF97FF\",\"#FECB52\"],\"font\":{\"color\":\"#2a3f5f\"},\"geo\":{\"bgcolor\":\"white\",\"lakecolor\":\"white\",\"landcolor\":\"#E5ECF6\",\"showlakes\":true,\"showland\":true,\"subunitcolor\":\"white\"},\"hoverlabel\":{\"align\":\"left\"},\"hovermode\":\"closest\",\"mapbox\":{\"style\":\"light\"},\"paper_bgcolor\":\"white\",\"plot_bgcolor\":\"#E5ECF6\",\"polar\":{\"angularaxis\":{\"gridcolor\":\"white\",\"linecolor\":\"white\",\"ticks\":\"\"},\"bgcolor\":\"#E5ECF6\",\"radialaxis\":{\"gridcolor\":\"white\",\"linecolor\":\"white\",\"ticks\":\"\"}},\"scene\":{\"xaxis\":{\"backgroundcolor\":\"#E5ECF6\",\"gridcolor\":\"white\",\"gridwidth\":2,\"linecolor\":\"white\",\"showbackground\":true,\"ticks\":\"\",\"zerolinecolor\":\"white\"},\"yaxis\":{\"backgroundcolor\":\"#E5ECF6\",\"gridcolor\":\"white\",\"gridwidth\":2,\"linecolor\":\"white\",\"showbackground\":true,\"ticks\":\"\",\"zerolinecolor\":\"white\"},\"zaxis\":{\"backgroundcolor\":\"#E5ECF6\",\"gridcolor\":\"white\",\"gridwidth\":2,\"linecolor\":\"white\",\"showbackground\":true,\"ticks\":\"\",\"zerolinecolor\":\"white\"}},\"shapedefaults\":{\"line\":{\"color\":\"#2a3f5f\"}},\"ternary\":{\"aaxis\":{\"gridcolor\":\"white\",\"linecolor\":\"white\",\"ticks\":\"\"},\"baxis\":{\"gridcolor\":\"white\",\"linecolor\":\"white\",\"ticks\":\"\"},\"bgcolor\":\"#E5ECF6\",\"caxis\":{\"gridcolor\":\"white\",\"linecolor\":\"white\",\"ticks\":\"\"}},\"title\":{\"x\":0.05},\"xaxis\":{\"automargin\":true,\"gridcolor\":\"white\",\"linecolor\":\"white\",\"ticks\":\"\",\"title\":{\"standoff\":15},\"zerolinecolor\":\"white\",\"zerolinewidth\":2},\"yaxis\":{\"automargin\":true,\"gridcolor\":\"white\",\"linecolor\":\"white\",\"ticks\":\"\",\"title\":{\"standoff\":15},\"zerolinecolor\":\"white\",\"zerolinewidth\":2}}}},                        {\"responsive\": true}                    ).then(function(){\n",
       "                            \n",
       "var gd = document.getElementById('dedee370-59aa-4753-8f05-10b97e6fe27c');\n",
       "var x = new MutationObserver(function (mutations, observer) {{\n",
       "        var display = window.getComputedStyle(gd).display;\n",
       "        if (!display || display === 'none') {{\n",
       "            console.log([gd, 'removed!']);\n",
       "            Plotly.purge(gd);\n",
       "            observer.disconnect();\n",
       "        }}\n",
       "}});\n",
       "\n",
       "// Listen for the removal of the full notebook cells\n",
       "var notebookContainer = gd.closest('#notebook-container');\n",
       "if (notebookContainer) {{\n",
       "    x.observe(notebookContainer, {childList: true});\n",
       "}}\n",
       "\n",
       "// Listen for the clearing of the current output cell\n",
       "var outputEl = gd.closest('.output');\n",
       "if (outputEl) {{\n",
       "    x.observe(outputEl, {childList: true});\n",
       "}}\n",
       "\n",
       "                        })                };                });            </script>        </div>"
      ]
     },
     "metadata": {},
     "output_type": "display_data"
    }
   ],
   "source": [
    "categ = to_categ(ct)\n",
    "categ_distribution_visualization_all(categ)\n"
   ]
  },
  {
   "cell_type": "markdown",
   "id": "f908710d",
   "metadata": {},
   "source": [
    "##  Каталог. Распределение кликов по категориям верхнего уровня"
   ]
  },
  {
   "cell_type": "code",
   "execution_count": 12,
   "id": "6cdbb638",
   "metadata": {},
   "outputs": [
    {
     "data": {
      "application/vnd.plotly.v1+json": {
       "config": {
        "plotlyServerURL": "https://plot.ly"
       },
       "data": [
        {
         "branchvalues": "total",
         "customdata": [
          [
           4779,
           4779
          ],
          [
           2812,
           2812
          ],
          [
           4,
           4
          ],
          [
           5949,
           5949
          ],
          [
           511,
           511
          ],
          [
           340,
           340
          ],
          [
           140,
           140
          ],
          [
           109,
           109
          ],
          [
           4647,
           4647
          ],
          [
           2,
           2
          ],
          [
           1277,
           1277
          ],
          [
           2369,
           2369
          ],
          [
           10675,
           10675
          ],
          [
           18,
           18
          ],
          [
           901,
           901
          ],
          [
           1445,
           1445
          ],
          [
           2570,
           2570
          ],
          [
           5559,
           5559
          ],
          [
           21,
           21
          ],
          [
           982,
           982
          ],
          [
           10496,
           10496
          ],
          [
           1046,
           1046
          ],
          [
           311,
           311
          ],
          [
           6356.1835050822465,
           6356.1835050822465
          ]
         ],
         "domain": {
          "x": [
           0,
           1
          ],
          "y": [
           0,
           1
          ]
         },
         "hovertemplate": "labels=%{label}<br>count_sum_sum=%{value}<br>parent=%{parent}<br>id=%{id}<br>count_sum=%{color}<extra></extra>",
         "ids": [
          "all/ унитазы, биде, писсуары и комплектующие",
          "all/аксессуары",
          "all/аксессуары для ванной комнаты",
          "all/ванны и комплектующие",
          "all/водонагреватели",
          "all/водоснабжение",
          "all/для дачи и бани",
          "all/для общественных мест",
          "all/душевые кабины, ограждения и комплектующие",
          "all/инженерная сантехника",
          "all/инсталляции, кнопки смыва и комплектующие",
          "all/кухонные мойки и комплектующие",
          "all/мебель для ванной и комплектующие",
          "all/мебель для ванной комнаты",
          "all/отопление и климат",
          "all/плитка и комплектующие",
          "all/полотенцесушители",
          "all/раковины и комплектующие",
          "all/сантехника",
          "all/слив и канализация",
          "all/смесители, душ и комплектующие",
          "all/унитазы, биде, писсуары и комплектующие",
          "all/фильтры для воды и кулеры",
          "all"
         ],
         "labels": [
          " унитазы, биде, писсуары и комплектующие",
          "аксессуары",
          "аксессуары для ванной комнаты",
          "ванны и комплектующие",
          "водонагреватели",
          "водоснабжение",
          "для дачи и бани",
          "для общественных мест",
          "душевые кабины, ограждения и комплектующие",
          "инженерная сантехника",
          "инсталляции, кнопки смыва и комплектующие",
          "кухонные мойки и комплектующие",
          "мебель для ванной и комплектующие",
          "мебель для ванной комнаты",
          "отопление и климат",
          "плитка и комплектующие",
          "полотенцесушители",
          "раковины и комплектующие",
          "сантехника",
          "слив и канализация",
          "смесители, душ и комплектующие",
          "унитазы, биде, писсуары и комплектующие",
          "фильтры для воды и кулеры",
          "all"
         ],
         "marker": {
          "coloraxis": "coloraxis",
          "colors": [
           4779,
           2812,
           4,
           5949,
           511,
           340,
           140,
           109,
           4647,
           2,
           1277,
           2369,
           10675,
           18,
           901,
           1445,
           2570,
           5559,
           21,
           982,
           10496,
           1046,
           311,
           6356.1835050822465
          ]
         },
         "name": "",
         "parents": [
          "all",
          "all",
          "all",
          "all",
          "all",
          "all",
          "all",
          "all",
          "all",
          "all",
          "all",
          "all",
          "all",
          "all",
          "all",
          "all",
          "all",
          "all",
          "all",
          "all",
          "all",
          "all",
          "all",
          ""
         ],
         "type": "treemap",
         "values": [
          4779,
          2812,
          4,
          5949,
          511,
          340,
          140,
          109,
          4647,
          2,
          1277,
          2369,
          10675,
          18,
          901,
          1445,
          2570,
          5559,
          21,
          982,
          10496,
          1046,
          311,
          56963
         ]
        }
       ],
       "layout": {
        "coloraxis": {
         "cmid": 6356.1835050822465,
         "colorbar": {
          "title": {
           "text": "count_sum"
          }
         },
         "colorscale": [
          [
           0,
           "rgb(103,0,31)"
          ],
          [
           0.1,
           "rgb(178,24,43)"
          ],
          [
           0.2,
           "rgb(214,96,77)"
          ],
          [
           0.3,
           "rgb(244,165,130)"
          ],
          [
           0.4,
           "rgb(253,219,199)"
          ],
          [
           0.5,
           "rgb(247,247,247)"
          ],
          [
           0.6,
           "rgb(209,229,240)"
          ],
          [
           0.7,
           "rgb(146,197,222)"
          ],
          [
           0.8,
           "rgb(67,147,195)"
          ],
          [
           0.9,
           "rgb(33,102,172)"
          ],
          [
           1,
           "rgb(5,48,97)"
          ]
         ]
        },
        "legend": {
         "tracegroupgap": 0
        },
        "margin": {
         "b": 25,
         "l": 25,
         "r": 25,
         "t": 50
        },
        "template": {
         "data": {
          "bar": [
           {
            "error_x": {
             "color": "#2a3f5f"
            },
            "error_y": {
             "color": "#2a3f5f"
            },
            "marker": {
             "line": {
              "color": "#E5ECF6",
              "width": 0.5
             },
             "pattern": {
              "fillmode": "overlay",
              "size": 10,
              "solidity": 0.2
             }
            },
            "type": "bar"
           }
          ],
          "barpolar": [
           {
            "marker": {
             "line": {
              "color": "#E5ECF6",
              "width": 0.5
             },
             "pattern": {
              "fillmode": "overlay",
              "size": 10,
              "solidity": 0.2
             }
            },
            "type": "barpolar"
           }
          ],
          "carpet": [
           {
            "aaxis": {
             "endlinecolor": "#2a3f5f",
             "gridcolor": "white",
             "linecolor": "white",
             "minorgridcolor": "white",
             "startlinecolor": "#2a3f5f"
            },
            "baxis": {
             "endlinecolor": "#2a3f5f",
             "gridcolor": "white",
             "linecolor": "white",
             "minorgridcolor": "white",
             "startlinecolor": "#2a3f5f"
            },
            "type": "carpet"
           }
          ],
          "choropleth": [
           {
            "colorbar": {
             "outlinewidth": 0,
             "ticks": ""
            },
            "type": "choropleth"
           }
          ],
          "contour": [
           {
            "colorbar": {
             "outlinewidth": 0,
             "ticks": ""
            },
            "colorscale": [
             [
              0,
              "#0d0887"
             ],
             [
              0.1111111111111111,
              "#46039f"
             ],
             [
              0.2222222222222222,
              "#7201a8"
             ],
             [
              0.3333333333333333,
              "#9c179e"
             ],
             [
              0.4444444444444444,
              "#bd3786"
             ],
             [
              0.5555555555555556,
              "#d8576b"
             ],
             [
              0.6666666666666666,
              "#ed7953"
             ],
             [
              0.7777777777777778,
              "#fb9f3a"
             ],
             [
              0.8888888888888888,
              "#fdca26"
             ],
             [
              1,
              "#f0f921"
             ]
            ],
            "type": "contour"
           }
          ],
          "contourcarpet": [
           {
            "colorbar": {
             "outlinewidth": 0,
             "ticks": ""
            },
            "type": "contourcarpet"
           }
          ],
          "heatmap": [
           {
            "colorbar": {
             "outlinewidth": 0,
             "ticks": ""
            },
            "colorscale": [
             [
              0,
              "#0d0887"
             ],
             [
              0.1111111111111111,
              "#46039f"
             ],
             [
              0.2222222222222222,
              "#7201a8"
             ],
             [
              0.3333333333333333,
              "#9c179e"
             ],
             [
              0.4444444444444444,
              "#bd3786"
             ],
             [
              0.5555555555555556,
              "#d8576b"
             ],
             [
              0.6666666666666666,
              "#ed7953"
             ],
             [
              0.7777777777777778,
              "#fb9f3a"
             ],
             [
              0.8888888888888888,
              "#fdca26"
             ],
             [
              1,
              "#f0f921"
             ]
            ],
            "type": "heatmap"
           }
          ],
          "heatmapgl": [
           {
            "colorbar": {
             "outlinewidth": 0,
             "ticks": ""
            },
            "colorscale": [
             [
              0,
              "#0d0887"
             ],
             [
              0.1111111111111111,
              "#46039f"
             ],
             [
              0.2222222222222222,
              "#7201a8"
             ],
             [
              0.3333333333333333,
              "#9c179e"
             ],
             [
              0.4444444444444444,
              "#bd3786"
             ],
             [
              0.5555555555555556,
              "#d8576b"
             ],
             [
              0.6666666666666666,
              "#ed7953"
             ],
             [
              0.7777777777777778,
              "#fb9f3a"
             ],
             [
              0.8888888888888888,
              "#fdca26"
             ],
             [
              1,
              "#f0f921"
             ]
            ],
            "type": "heatmapgl"
           }
          ],
          "histogram": [
           {
            "marker": {
             "pattern": {
              "fillmode": "overlay",
              "size": 10,
              "solidity": 0.2
             }
            },
            "type": "histogram"
           }
          ],
          "histogram2d": [
           {
            "colorbar": {
             "outlinewidth": 0,
             "ticks": ""
            },
            "colorscale": [
             [
              0,
              "#0d0887"
             ],
             [
              0.1111111111111111,
              "#46039f"
             ],
             [
              0.2222222222222222,
              "#7201a8"
             ],
             [
              0.3333333333333333,
              "#9c179e"
             ],
             [
              0.4444444444444444,
              "#bd3786"
             ],
             [
              0.5555555555555556,
              "#d8576b"
             ],
             [
              0.6666666666666666,
              "#ed7953"
             ],
             [
              0.7777777777777778,
              "#fb9f3a"
             ],
             [
              0.8888888888888888,
              "#fdca26"
             ],
             [
              1,
              "#f0f921"
             ]
            ],
            "type": "histogram2d"
           }
          ],
          "histogram2dcontour": [
           {
            "colorbar": {
             "outlinewidth": 0,
             "ticks": ""
            },
            "colorscale": [
             [
              0,
              "#0d0887"
             ],
             [
              0.1111111111111111,
              "#46039f"
             ],
             [
              0.2222222222222222,
              "#7201a8"
             ],
             [
              0.3333333333333333,
              "#9c179e"
             ],
             [
              0.4444444444444444,
              "#bd3786"
             ],
             [
              0.5555555555555556,
              "#d8576b"
             ],
             [
              0.6666666666666666,
              "#ed7953"
             ],
             [
              0.7777777777777778,
              "#fb9f3a"
             ],
             [
              0.8888888888888888,
              "#fdca26"
             ],
             [
              1,
              "#f0f921"
             ]
            ],
            "type": "histogram2dcontour"
           }
          ],
          "mesh3d": [
           {
            "colorbar": {
             "outlinewidth": 0,
             "ticks": ""
            },
            "type": "mesh3d"
           }
          ],
          "parcoords": [
           {
            "line": {
             "colorbar": {
              "outlinewidth": 0,
              "ticks": ""
             }
            },
            "type": "parcoords"
           }
          ],
          "pie": [
           {
            "automargin": true,
            "type": "pie"
           }
          ],
          "scatter": [
           {
            "marker": {
             "colorbar": {
              "outlinewidth": 0,
              "ticks": ""
             }
            },
            "type": "scatter"
           }
          ],
          "scatter3d": [
           {
            "line": {
             "colorbar": {
              "outlinewidth": 0,
              "ticks": ""
             }
            },
            "marker": {
             "colorbar": {
              "outlinewidth": 0,
              "ticks": ""
             }
            },
            "type": "scatter3d"
           }
          ],
          "scattercarpet": [
           {
            "marker": {
             "colorbar": {
              "outlinewidth": 0,
              "ticks": ""
             }
            },
            "type": "scattercarpet"
           }
          ],
          "scattergeo": [
           {
            "marker": {
             "colorbar": {
              "outlinewidth": 0,
              "ticks": ""
             }
            },
            "type": "scattergeo"
           }
          ],
          "scattergl": [
           {
            "marker": {
             "colorbar": {
              "outlinewidth": 0,
              "ticks": ""
             }
            },
            "type": "scattergl"
           }
          ],
          "scattermapbox": [
           {
            "marker": {
             "colorbar": {
              "outlinewidth": 0,
              "ticks": ""
             }
            },
            "type": "scattermapbox"
           }
          ],
          "scatterpolar": [
           {
            "marker": {
             "colorbar": {
              "outlinewidth": 0,
              "ticks": ""
             }
            },
            "type": "scatterpolar"
           }
          ],
          "scatterpolargl": [
           {
            "marker": {
             "colorbar": {
              "outlinewidth": 0,
              "ticks": ""
             }
            },
            "type": "scatterpolargl"
           }
          ],
          "scatterternary": [
           {
            "marker": {
             "colorbar": {
              "outlinewidth": 0,
              "ticks": ""
             }
            },
            "type": "scatterternary"
           }
          ],
          "surface": [
           {
            "colorbar": {
             "outlinewidth": 0,
             "ticks": ""
            },
            "colorscale": [
             [
              0,
              "#0d0887"
             ],
             [
              0.1111111111111111,
              "#46039f"
             ],
             [
              0.2222222222222222,
              "#7201a8"
             ],
             [
              0.3333333333333333,
              "#9c179e"
             ],
             [
              0.4444444444444444,
              "#bd3786"
             ],
             [
              0.5555555555555556,
              "#d8576b"
             ],
             [
              0.6666666666666666,
              "#ed7953"
             ],
             [
              0.7777777777777778,
              "#fb9f3a"
             ],
             [
              0.8888888888888888,
              "#fdca26"
             ],
             [
              1,
              "#f0f921"
             ]
            ],
            "type": "surface"
           }
          ],
          "table": [
           {
            "cells": {
             "fill": {
              "color": "#EBF0F8"
             },
             "line": {
              "color": "white"
             }
            },
            "header": {
             "fill": {
              "color": "#C8D4E3"
             },
             "line": {
              "color": "white"
             }
            },
            "type": "table"
           }
          ]
         },
         "layout": {
          "annotationdefaults": {
           "arrowcolor": "#2a3f5f",
           "arrowhead": 0,
           "arrowwidth": 1
          },
          "autotypenumbers": "strict",
          "coloraxis": {
           "colorbar": {
            "outlinewidth": 0,
            "ticks": ""
           }
          },
          "colorscale": {
           "diverging": [
            [
             0,
             "#8e0152"
            ],
            [
             0.1,
             "#c51b7d"
            ],
            [
             0.2,
             "#de77ae"
            ],
            [
             0.3,
             "#f1b6da"
            ],
            [
             0.4,
             "#fde0ef"
            ],
            [
             0.5,
             "#f7f7f7"
            ],
            [
             0.6,
             "#e6f5d0"
            ],
            [
             0.7,
             "#b8e186"
            ],
            [
             0.8,
             "#7fbc41"
            ],
            [
             0.9,
             "#4d9221"
            ],
            [
             1,
             "#276419"
            ]
           ],
           "sequential": [
            [
             0,
             "#0d0887"
            ],
            [
             0.1111111111111111,
             "#46039f"
            ],
            [
             0.2222222222222222,
             "#7201a8"
            ],
            [
             0.3333333333333333,
             "#9c179e"
            ],
            [
             0.4444444444444444,
             "#bd3786"
            ],
            [
             0.5555555555555556,
             "#d8576b"
            ],
            [
             0.6666666666666666,
             "#ed7953"
            ],
            [
             0.7777777777777778,
             "#fb9f3a"
            ],
            [
             0.8888888888888888,
             "#fdca26"
            ],
            [
             1,
             "#f0f921"
            ]
           ],
           "sequentialminus": [
            [
             0,
             "#0d0887"
            ],
            [
             0.1111111111111111,
             "#46039f"
            ],
            [
             0.2222222222222222,
             "#7201a8"
            ],
            [
             0.3333333333333333,
             "#9c179e"
            ],
            [
             0.4444444444444444,
             "#bd3786"
            ],
            [
             0.5555555555555556,
             "#d8576b"
            ],
            [
             0.6666666666666666,
             "#ed7953"
            ],
            [
             0.7777777777777778,
             "#fb9f3a"
            ],
            [
             0.8888888888888888,
             "#fdca26"
            ],
            [
             1,
             "#f0f921"
            ]
           ]
          },
          "colorway": [
           "#636efa",
           "#EF553B",
           "#00cc96",
           "#ab63fa",
           "#FFA15A",
           "#19d3f3",
           "#FF6692",
           "#B6E880",
           "#FF97FF",
           "#FECB52"
          ],
          "font": {
           "color": "#2a3f5f"
          },
          "geo": {
           "bgcolor": "white",
           "lakecolor": "white",
           "landcolor": "#E5ECF6",
           "showlakes": true,
           "showland": true,
           "subunitcolor": "white"
          },
          "hoverlabel": {
           "align": "left"
          },
          "hovermode": "closest",
          "mapbox": {
           "style": "light"
          },
          "paper_bgcolor": "white",
          "plot_bgcolor": "#E5ECF6",
          "polar": {
           "angularaxis": {
            "gridcolor": "white",
            "linecolor": "white",
            "ticks": ""
           },
           "bgcolor": "#E5ECF6",
           "radialaxis": {
            "gridcolor": "white",
            "linecolor": "white",
            "ticks": ""
           }
          },
          "scene": {
           "xaxis": {
            "backgroundcolor": "#E5ECF6",
            "gridcolor": "white",
            "gridwidth": 2,
            "linecolor": "white",
            "showbackground": true,
            "ticks": "",
            "zerolinecolor": "white"
           },
           "yaxis": {
            "backgroundcolor": "#E5ECF6",
            "gridcolor": "white",
            "gridwidth": 2,
            "linecolor": "white",
            "showbackground": true,
            "ticks": "",
            "zerolinecolor": "white"
           },
           "zaxis": {
            "backgroundcolor": "#E5ECF6",
            "gridcolor": "white",
            "gridwidth": 2,
            "linecolor": "white",
            "showbackground": true,
            "ticks": "",
            "zerolinecolor": "white"
           }
          },
          "shapedefaults": {
           "line": {
            "color": "#2a3f5f"
           }
          },
          "ternary": {
           "aaxis": {
            "gridcolor": "white",
            "linecolor": "white",
            "ticks": ""
           },
           "baxis": {
            "gridcolor": "white",
            "linecolor": "white",
            "ticks": ""
           },
           "bgcolor": "#E5ECF6",
           "caxis": {
            "gridcolor": "white",
            "linecolor": "white",
            "ticks": ""
           }
          },
          "title": {
           "x": 0.05
          },
          "xaxis": {
           "automargin": true,
           "gridcolor": "white",
           "linecolor": "white",
           "ticks": "",
           "title": {
            "standoff": 15
           },
           "zerolinecolor": "white",
           "zerolinewidth": 2
          },
          "yaxis": {
           "automargin": true,
           "gridcolor": "white",
           "linecolor": "white",
           "ticks": "",
           "title": {
            "standoff": 15
           },
           "zerolinecolor": "white",
           "zerolinewidth": 2
          }
         }
        }
       }
      },
      "text/html": [
       "<div>                            <div id=\"edf6ed68-e151-46a2-a745-cf1d4daf39f9\" class=\"plotly-graph-div\" style=\"height:525px; width:100%;\"></div>            <script type=\"text/javascript\">                require([\"plotly\"], function(Plotly) {                    window.PLOTLYENV=window.PLOTLYENV || {};                                    if (document.getElementById(\"edf6ed68-e151-46a2-a745-cf1d4daf39f9\")) {                    Plotly.newPlot(                        \"edf6ed68-e151-46a2-a745-cf1d4daf39f9\",                        [{\"branchvalues\":\"total\",\"customdata\":[[4779.0,4779.0],[2812.0,2812.0],[4.0,4.0],[5949.0,5949.0],[511.0,511.0],[340.0,340.0],[140.0,140.0],[109.0,109.0],[4647.0,4647.0],[2.0,2.0],[1277.0,1277.0],[2369.0,2369.0],[10675.0,10675.0],[18.0,18.0],[901.0,901.0],[1445.0,1445.0],[2570.0,2570.0],[5559.0,5559.0],[21.0,21.0],[982.0,982.0],[10496.0,10496.0],[1046.0,1046.0],[311.0,311.0],[6356.1835050822465,6356.1835050822465]],\"domain\":{\"x\":[0.0,1.0],\"y\":[0.0,1.0]},\"hovertemplate\":\"labels=%{label}<br>count_sum_sum=%{value}<br>parent=%{parent}<br>id=%{id}<br>count_sum=%{color}<extra></extra>\",\"ids\":[\"all/ \\u0443\\u043d\\u0438\\u0442\\u0430\\u0437\\u044b, \\u0431\\u0438\\u0434\\u0435, \\u043f\\u0438\\u0441\\u0441\\u0443\\u0430\\u0440\\u044b \\u0438 \\u043a\\u043e\\u043c\\u043f\\u043b\\u0435\\u043a\\u0442\\u0443\\u044e\\u0449\\u0438\\u0435\",\"all/\\u0430\\u043a\\u0441\\u0435\\u0441\\u0441\\u0443\\u0430\\u0440\\u044b\",\"all/\\u0430\\u043a\\u0441\\u0435\\u0441\\u0441\\u0443\\u0430\\u0440\\u044b \\u0434\\u043b\\u044f \\u0432\\u0430\\u043d\\u043d\\u043e\\u0439 \\u043a\\u043e\\u043c\\u043d\\u0430\\u0442\\u044b\",\"all/\\u0432\\u0430\\u043d\\u043d\\u044b \\u0438 \\u043a\\u043e\\u043c\\u043f\\u043b\\u0435\\u043a\\u0442\\u0443\\u044e\\u0449\\u0438\\u0435\",\"all/\\u0432\\u043e\\u0434\\u043e\\u043d\\u0430\\u0433\\u0440\\u0435\\u0432\\u0430\\u0442\\u0435\\u043b\\u0438\",\"all/\\u0432\\u043e\\u0434\\u043e\\u0441\\u043d\\u0430\\u0431\\u0436\\u0435\\u043d\\u0438\\u0435\",\"all/\\u0434\\u043b\\u044f \\u0434\\u0430\\u0447\\u0438 \\u0438 \\u0431\\u0430\\u043d\\u0438\",\"all/\\u0434\\u043b\\u044f \\u043e\\u0431\\u0449\\u0435\\u0441\\u0442\\u0432\\u0435\\u043d\\u043d\\u044b\\u0445 \\u043c\\u0435\\u0441\\u0442\",\"all/\\u0434\\u0443\\u0448\\u0435\\u0432\\u044b\\u0435 \\u043a\\u0430\\u0431\\u0438\\u043d\\u044b, \\u043e\\u0433\\u0440\\u0430\\u0436\\u0434\\u0435\\u043d\\u0438\\u044f \\u0438 \\u043a\\u043e\\u043c\\u043f\\u043b\\u0435\\u043a\\u0442\\u0443\\u044e\\u0449\\u0438\\u0435\",\"all/\\u0438\\u043d\\u0436\\u0435\\u043d\\u0435\\u0440\\u043d\\u0430\\u044f \\u0441\\u0430\\u043d\\u0442\\u0435\\u0445\\u043d\\u0438\\u043a\\u0430\",\"all/\\u0438\\u043d\\u0441\\u0442\\u0430\\u043b\\u043b\\u044f\\u0446\\u0438\\u0438, \\u043a\\u043d\\u043e\\u043f\\u043a\\u0438 \\u0441\\u043c\\u044b\\u0432\\u0430 \\u0438 \\u043a\\u043e\\u043c\\u043f\\u043b\\u0435\\u043a\\u0442\\u0443\\u044e\\u0449\\u0438\\u0435\",\"all/\\u043a\\u0443\\u0445\\u043e\\u043d\\u043d\\u044b\\u0435 \\u043c\\u043e\\u0439\\u043a\\u0438 \\u0438 \\u043a\\u043e\\u043c\\u043f\\u043b\\u0435\\u043a\\u0442\\u0443\\u044e\\u0449\\u0438\\u0435\",\"all/\\u043c\\u0435\\u0431\\u0435\\u043b\\u044c \\u0434\\u043b\\u044f \\u0432\\u0430\\u043d\\u043d\\u043e\\u0439 \\u0438 \\u043a\\u043e\\u043c\\u043f\\u043b\\u0435\\u043a\\u0442\\u0443\\u044e\\u0449\\u0438\\u0435\",\"all/\\u043c\\u0435\\u0431\\u0435\\u043b\\u044c \\u0434\\u043b\\u044f \\u0432\\u0430\\u043d\\u043d\\u043e\\u0439 \\u043a\\u043e\\u043c\\u043d\\u0430\\u0442\\u044b\",\"all/\\u043e\\u0442\\u043e\\u043f\\u043b\\u0435\\u043d\\u0438\\u0435 \\u0438 \\u043a\\u043b\\u0438\\u043c\\u0430\\u0442\",\"all/\\u043f\\u043b\\u0438\\u0442\\u043a\\u0430 \\u0438 \\u043a\\u043e\\u043c\\u043f\\u043b\\u0435\\u043a\\u0442\\u0443\\u044e\\u0449\\u0438\\u0435\",\"all/\\u043f\\u043e\\u043b\\u043e\\u0442\\u0435\\u043d\\u0446\\u0435\\u0441\\u0443\\u0448\\u0438\\u0442\\u0435\\u043b\\u0438\",\"all/\\u0440\\u0430\\u043a\\u043e\\u0432\\u0438\\u043d\\u044b \\u0438 \\u043a\\u043e\\u043c\\u043f\\u043b\\u0435\\u043a\\u0442\\u0443\\u044e\\u0449\\u0438\\u0435\",\"all/\\u0441\\u0430\\u043d\\u0442\\u0435\\u0445\\u043d\\u0438\\u043a\\u0430\",\"all/\\u0441\\u043b\\u0438\\u0432 \\u0438 \\u043a\\u0430\\u043d\\u0430\\u043b\\u0438\\u0437\\u0430\\u0446\\u0438\\u044f\",\"all/\\u0441\\u043c\\u0435\\u0441\\u0438\\u0442\\u0435\\u043b\\u0438, \\u0434\\u0443\\u0448 \\u0438 \\u043a\\u043e\\u043c\\u043f\\u043b\\u0435\\u043a\\u0442\\u0443\\u044e\\u0449\\u0438\\u0435\",\"all/\\u0443\\u043d\\u0438\\u0442\\u0430\\u0437\\u044b, \\u0431\\u0438\\u0434\\u0435, \\u043f\\u0438\\u0441\\u0441\\u0443\\u0430\\u0440\\u044b \\u0438 \\u043a\\u043e\\u043c\\u043f\\u043b\\u0435\\u043a\\u0442\\u0443\\u044e\\u0449\\u0438\\u0435\",\"all/\\u0444\\u0438\\u043b\\u044c\\u0442\\u0440\\u044b \\u0434\\u043b\\u044f \\u0432\\u043e\\u0434\\u044b \\u0438 \\u043a\\u0443\\u043b\\u0435\\u0440\\u044b\",\"all\"],\"labels\":[\" \\u0443\\u043d\\u0438\\u0442\\u0430\\u0437\\u044b, \\u0431\\u0438\\u0434\\u0435, \\u043f\\u0438\\u0441\\u0441\\u0443\\u0430\\u0440\\u044b \\u0438 \\u043a\\u043e\\u043c\\u043f\\u043b\\u0435\\u043a\\u0442\\u0443\\u044e\\u0449\\u0438\\u0435\",\"\\u0430\\u043a\\u0441\\u0435\\u0441\\u0441\\u0443\\u0430\\u0440\\u044b\",\"\\u0430\\u043a\\u0441\\u0435\\u0441\\u0441\\u0443\\u0430\\u0440\\u044b \\u0434\\u043b\\u044f \\u0432\\u0430\\u043d\\u043d\\u043e\\u0439 \\u043a\\u043e\\u043c\\u043d\\u0430\\u0442\\u044b\",\"\\u0432\\u0430\\u043d\\u043d\\u044b \\u0438 \\u043a\\u043e\\u043c\\u043f\\u043b\\u0435\\u043a\\u0442\\u0443\\u044e\\u0449\\u0438\\u0435\",\"\\u0432\\u043e\\u0434\\u043e\\u043d\\u0430\\u0433\\u0440\\u0435\\u0432\\u0430\\u0442\\u0435\\u043b\\u0438\",\"\\u0432\\u043e\\u0434\\u043e\\u0441\\u043d\\u0430\\u0431\\u0436\\u0435\\u043d\\u0438\\u0435\",\"\\u0434\\u043b\\u044f \\u0434\\u0430\\u0447\\u0438 \\u0438 \\u0431\\u0430\\u043d\\u0438\",\"\\u0434\\u043b\\u044f \\u043e\\u0431\\u0449\\u0435\\u0441\\u0442\\u0432\\u0435\\u043d\\u043d\\u044b\\u0445 \\u043c\\u0435\\u0441\\u0442\",\"\\u0434\\u0443\\u0448\\u0435\\u0432\\u044b\\u0435 \\u043a\\u0430\\u0431\\u0438\\u043d\\u044b, \\u043e\\u0433\\u0440\\u0430\\u0436\\u0434\\u0435\\u043d\\u0438\\u044f \\u0438 \\u043a\\u043e\\u043c\\u043f\\u043b\\u0435\\u043a\\u0442\\u0443\\u044e\\u0449\\u0438\\u0435\",\"\\u0438\\u043d\\u0436\\u0435\\u043d\\u0435\\u0440\\u043d\\u0430\\u044f \\u0441\\u0430\\u043d\\u0442\\u0435\\u0445\\u043d\\u0438\\u043a\\u0430\",\"\\u0438\\u043d\\u0441\\u0442\\u0430\\u043b\\u043b\\u044f\\u0446\\u0438\\u0438, \\u043a\\u043d\\u043e\\u043f\\u043a\\u0438 \\u0441\\u043c\\u044b\\u0432\\u0430 \\u0438 \\u043a\\u043e\\u043c\\u043f\\u043b\\u0435\\u043a\\u0442\\u0443\\u044e\\u0449\\u0438\\u0435\",\"\\u043a\\u0443\\u0445\\u043e\\u043d\\u043d\\u044b\\u0435 \\u043c\\u043e\\u0439\\u043a\\u0438 \\u0438 \\u043a\\u043e\\u043c\\u043f\\u043b\\u0435\\u043a\\u0442\\u0443\\u044e\\u0449\\u0438\\u0435\",\"\\u043c\\u0435\\u0431\\u0435\\u043b\\u044c \\u0434\\u043b\\u044f \\u0432\\u0430\\u043d\\u043d\\u043e\\u0439 \\u0438 \\u043a\\u043e\\u043c\\u043f\\u043b\\u0435\\u043a\\u0442\\u0443\\u044e\\u0449\\u0438\\u0435\",\"\\u043c\\u0435\\u0431\\u0435\\u043b\\u044c \\u0434\\u043b\\u044f \\u0432\\u0430\\u043d\\u043d\\u043e\\u0439 \\u043a\\u043e\\u043c\\u043d\\u0430\\u0442\\u044b\",\"\\u043e\\u0442\\u043e\\u043f\\u043b\\u0435\\u043d\\u0438\\u0435 \\u0438 \\u043a\\u043b\\u0438\\u043c\\u0430\\u0442\",\"\\u043f\\u043b\\u0438\\u0442\\u043a\\u0430 \\u0438 \\u043a\\u043e\\u043c\\u043f\\u043b\\u0435\\u043a\\u0442\\u0443\\u044e\\u0449\\u0438\\u0435\",\"\\u043f\\u043e\\u043b\\u043e\\u0442\\u0435\\u043d\\u0446\\u0435\\u0441\\u0443\\u0448\\u0438\\u0442\\u0435\\u043b\\u0438\",\"\\u0440\\u0430\\u043a\\u043e\\u0432\\u0438\\u043d\\u044b \\u0438 \\u043a\\u043e\\u043c\\u043f\\u043b\\u0435\\u043a\\u0442\\u0443\\u044e\\u0449\\u0438\\u0435\",\"\\u0441\\u0430\\u043d\\u0442\\u0435\\u0445\\u043d\\u0438\\u043a\\u0430\",\"\\u0441\\u043b\\u0438\\u0432 \\u0438 \\u043a\\u0430\\u043d\\u0430\\u043b\\u0438\\u0437\\u0430\\u0446\\u0438\\u044f\",\"\\u0441\\u043c\\u0435\\u0441\\u0438\\u0442\\u0435\\u043b\\u0438, \\u0434\\u0443\\u0448 \\u0438 \\u043a\\u043e\\u043c\\u043f\\u043b\\u0435\\u043a\\u0442\\u0443\\u044e\\u0449\\u0438\\u0435\",\"\\u0443\\u043d\\u0438\\u0442\\u0430\\u0437\\u044b, \\u0431\\u0438\\u0434\\u0435, \\u043f\\u0438\\u0441\\u0441\\u0443\\u0430\\u0440\\u044b \\u0438 \\u043a\\u043e\\u043c\\u043f\\u043b\\u0435\\u043a\\u0442\\u0443\\u044e\\u0449\\u0438\\u0435\",\"\\u0444\\u0438\\u043b\\u044c\\u0442\\u0440\\u044b \\u0434\\u043b\\u044f \\u0432\\u043e\\u0434\\u044b \\u0438 \\u043a\\u0443\\u043b\\u0435\\u0440\\u044b\",\"all\"],\"marker\":{\"coloraxis\":\"coloraxis\",\"colors\":[4779.0,2812.0,4.0,5949.0,511.0,340.0,140.0,109.0,4647.0,2.0,1277.0,2369.0,10675.0,18.0,901.0,1445.0,2570.0,5559.0,21.0,982.0,10496.0,1046.0,311.0,6356.1835050822465]},\"name\":\"\",\"parents\":[\"all\",\"all\",\"all\",\"all\",\"all\",\"all\",\"all\",\"all\",\"all\",\"all\",\"all\",\"all\",\"all\",\"all\",\"all\",\"all\",\"all\",\"all\",\"all\",\"all\",\"all\",\"all\",\"all\",\"\"],\"type\":\"treemap\",\"values\":[4779,2812,4,5949,511,340,140,109,4647,2,1277,2369,10675,18,901,1445,2570,5559,21,982,10496,1046,311,56963]}],                        {\"coloraxis\":{\"cmid\":6356.1835050822465,\"colorbar\":{\"title\":{\"text\":\"count_sum\"}},\"colorscale\":[[0.0,\"rgb(103,0,31)\"],[0.1,\"rgb(178,24,43)\"],[0.2,\"rgb(214,96,77)\"],[0.3,\"rgb(244,165,130)\"],[0.4,\"rgb(253,219,199)\"],[0.5,\"rgb(247,247,247)\"],[0.6,\"rgb(209,229,240)\"],[0.7,\"rgb(146,197,222)\"],[0.8,\"rgb(67,147,195)\"],[0.9,\"rgb(33,102,172)\"],[1.0,\"rgb(5,48,97)\"]]},\"legend\":{\"tracegroupgap\":0},\"margin\":{\"b\":25,\"l\":25,\"r\":25,\"t\":50},\"template\":{\"data\":{\"bar\":[{\"error_x\":{\"color\":\"#2a3f5f\"},\"error_y\":{\"color\":\"#2a3f5f\"},\"marker\":{\"line\":{\"color\":\"#E5ECF6\",\"width\":0.5},\"pattern\":{\"fillmode\":\"overlay\",\"size\":10,\"solidity\":0.2}},\"type\":\"bar\"}],\"barpolar\":[{\"marker\":{\"line\":{\"color\":\"#E5ECF6\",\"width\":0.5},\"pattern\":{\"fillmode\":\"overlay\",\"size\":10,\"solidity\":0.2}},\"type\":\"barpolar\"}],\"carpet\":[{\"aaxis\":{\"endlinecolor\":\"#2a3f5f\",\"gridcolor\":\"white\",\"linecolor\":\"white\",\"minorgridcolor\":\"white\",\"startlinecolor\":\"#2a3f5f\"},\"baxis\":{\"endlinecolor\":\"#2a3f5f\",\"gridcolor\":\"white\",\"linecolor\":\"white\",\"minorgridcolor\":\"white\",\"startlinecolor\":\"#2a3f5f\"},\"type\":\"carpet\"}],\"choropleth\":[{\"colorbar\":{\"outlinewidth\":0,\"ticks\":\"\"},\"type\":\"choropleth\"}],\"contour\":[{\"colorbar\":{\"outlinewidth\":0,\"ticks\":\"\"},\"colorscale\":[[0.0,\"#0d0887\"],[0.1111111111111111,\"#46039f\"],[0.2222222222222222,\"#7201a8\"],[0.3333333333333333,\"#9c179e\"],[0.4444444444444444,\"#bd3786\"],[0.5555555555555556,\"#d8576b\"],[0.6666666666666666,\"#ed7953\"],[0.7777777777777778,\"#fb9f3a\"],[0.8888888888888888,\"#fdca26\"],[1.0,\"#f0f921\"]],\"type\":\"contour\"}],\"contourcarpet\":[{\"colorbar\":{\"outlinewidth\":0,\"ticks\":\"\"},\"type\":\"contourcarpet\"}],\"heatmap\":[{\"colorbar\":{\"outlinewidth\":0,\"ticks\":\"\"},\"colorscale\":[[0.0,\"#0d0887\"],[0.1111111111111111,\"#46039f\"],[0.2222222222222222,\"#7201a8\"],[0.3333333333333333,\"#9c179e\"],[0.4444444444444444,\"#bd3786\"],[0.5555555555555556,\"#d8576b\"],[0.6666666666666666,\"#ed7953\"],[0.7777777777777778,\"#fb9f3a\"],[0.8888888888888888,\"#fdca26\"],[1.0,\"#f0f921\"]],\"type\":\"heatmap\"}],\"heatmapgl\":[{\"colorbar\":{\"outlinewidth\":0,\"ticks\":\"\"},\"colorscale\":[[0.0,\"#0d0887\"],[0.1111111111111111,\"#46039f\"],[0.2222222222222222,\"#7201a8\"],[0.3333333333333333,\"#9c179e\"],[0.4444444444444444,\"#bd3786\"],[0.5555555555555556,\"#d8576b\"],[0.6666666666666666,\"#ed7953\"],[0.7777777777777778,\"#fb9f3a\"],[0.8888888888888888,\"#fdca26\"],[1.0,\"#f0f921\"]],\"type\":\"heatmapgl\"}],\"histogram\":[{\"marker\":{\"pattern\":{\"fillmode\":\"overlay\",\"size\":10,\"solidity\":0.2}},\"type\":\"histogram\"}],\"histogram2d\":[{\"colorbar\":{\"outlinewidth\":0,\"ticks\":\"\"},\"colorscale\":[[0.0,\"#0d0887\"],[0.1111111111111111,\"#46039f\"],[0.2222222222222222,\"#7201a8\"],[0.3333333333333333,\"#9c179e\"],[0.4444444444444444,\"#bd3786\"],[0.5555555555555556,\"#d8576b\"],[0.6666666666666666,\"#ed7953\"],[0.7777777777777778,\"#fb9f3a\"],[0.8888888888888888,\"#fdca26\"],[1.0,\"#f0f921\"]],\"type\":\"histogram2d\"}],\"histogram2dcontour\":[{\"colorbar\":{\"outlinewidth\":0,\"ticks\":\"\"},\"colorscale\":[[0.0,\"#0d0887\"],[0.1111111111111111,\"#46039f\"],[0.2222222222222222,\"#7201a8\"],[0.3333333333333333,\"#9c179e\"],[0.4444444444444444,\"#bd3786\"],[0.5555555555555556,\"#d8576b\"],[0.6666666666666666,\"#ed7953\"],[0.7777777777777778,\"#fb9f3a\"],[0.8888888888888888,\"#fdca26\"],[1.0,\"#f0f921\"]],\"type\":\"histogram2dcontour\"}],\"mesh3d\":[{\"colorbar\":{\"outlinewidth\":0,\"ticks\":\"\"},\"type\":\"mesh3d\"}],\"parcoords\":[{\"line\":{\"colorbar\":{\"outlinewidth\":0,\"ticks\":\"\"}},\"type\":\"parcoords\"}],\"pie\":[{\"automargin\":true,\"type\":\"pie\"}],\"scatter\":[{\"marker\":{\"colorbar\":{\"outlinewidth\":0,\"ticks\":\"\"}},\"type\":\"scatter\"}],\"scatter3d\":[{\"line\":{\"colorbar\":{\"outlinewidth\":0,\"ticks\":\"\"}},\"marker\":{\"colorbar\":{\"outlinewidth\":0,\"ticks\":\"\"}},\"type\":\"scatter3d\"}],\"scattercarpet\":[{\"marker\":{\"colorbar\":{\"outlinewidth\":0,\"ticks\":\"\"}},\"type\":\"scattercarpet\"}],\"scattergeo\":[{\"marker\":{\"colorbar\":{\"outlinewidth\":0,\"ticks\":\"\"}},\"type\":\"scattergeo\"}],\"scattergl\":[{\"marker\":{\"colorbar\":{\"outlinewidth\":0,\"ticks\":\"\"}},\"type\":\"scattergl\"}],\"scattermapbox\":[{\"marker\":{\"colorbar\":{\"outlinewidth\":0,\"ticks\":\"\"}},\"type\":\"scattermapbox\"}],\"scatterpolar\":[{\"marker\":{\"colorbar\":{\"outlinewidth\":0,\"ticks\":\"\"}},\"type\":\"scatterpolar\"}],\"scatterpolargl\":[{\"marker\":{\"colorbar\":{\"outlinewidth\":0,\"ticks\":\"\"}},\"type\":\"scatterpolargl\"}],\"scatterternary\":[{\"marker\":{\"colorbar\":{\"outlinewidth\":0,\"ticks\":\"\"}},\"type\":\"scatterternary\"}],\"surface\":[{\"colorbar\":{\"outlinewidth\":0,\"ticks\":\"\"},\"colorscale\":[[0.0,\"#0d0887\"],[0.1111111111111111,\"#46039f\"],[0.2222222222222222,\"#7201a8\"],[0.3333333333333333,\"#9c179e\"],[0.4444444444444444,\"#bd3786\"],[0.5555555555555556,\"#d8576b\"],[0.6666666666666666,\"#ed7953\"],[0.7777777777777778,\"#fb9f3a\"],[0.8888888888888888,\"#fdca26\"],[1.0,\"#f0f921\"]],\"type\":\"surface\"}],\"table\":[{\"cells\":{\"fill\":{\"color\":\"#EBF0F8\"},\"line\":{\"color\":\"white\"}},\"header\":{\"fill\":{\"color\":\"#C8D4E3\"},\"line\":{\"color\":\"white\"}},\"type\":\"table\"}]},\"layout\":{\"annotationdefaults\":{\"arrowcolor\":\"#2a3f5f\",\"arrowhead\":0,\"arrowwidth\":1},\"autotypenumbers\":\"strict\",\"coloraxis\":{\"colorbar\":{\"outlinewidth\":0,\"ticks\":\"\"}},\"colorscale\":{\"diverging\":[[0,\"#8e0152\"],[0.1,\"#c51b7d\"],[0.2,\"#de77ae\"],[0.3,\"#f1b6da\"],[0.4,\"#fde0ef\"],[0.5,\"#f7f7f7\"],[0.6,\"#e6f5d0\"],[0.7,\"#b8e186\"],[0.8,\"#7fbc41\"],[0.9,\"#4d9221\"],[1,\"#276419\"]],\"sequential\":[[0.0,\"#0d0887\"],[0.1111111111111111,\"#46039f\"],[0.2222222222222222,\"#7201a8\"],[0.3333333333333333,\"#9c179e\"],[0.4444444444444444,\"#bd3786\"],[0.5555555555555556,\"#d8576b\"],[0.6666666666666666,\"#ed7953\"],[0.7777777777777778,\"#fb9f3a\"],[0.8888888888888888,\"#fdca26\"],[1.0,\"#f0f921\"]],\"sequentialminus\":[[0.0,\"#0d0887\"],[0.1111111111111111,\"#46039f\"],[0.2222222222222222,\"#7201a8\"],[0.3333333333333333,\"#9c179e\"],[0.4444444444444444,\"#bd3786\"],[0.5555555555555556,\"#d8576b\"],[0.6666666666666666,\"#ed7953\"],[0.7777777777777778,\"#fb9f3a\"],[0.8888888888888888,\"#fdca26\"],[1.0,\"#f0f921\"]]},\"colorway\":[\"#636efa\",\"#EF553B\",\"#00cc96\",\"#ab63fa\",\"#FFA15A\",\"#19d3f3\",\"#FF6692\",\"#B6E880\",\"#FF97FF\",\"#FECB52\"],\"font\":{\"color\":\"#2a3f5f\"},\"geo\":{\"bgcolor\":\"white\",\"lakecolor\":\"white\",\"landcolor\":\"#E5ECF6\",\"showlakes\":true,\"showland\":true,\"subunitcolor\":\"white\"},\"hoverlabel\":{\"align\":\"left\"},\"hovermode\":\"closest\",\"mapbox\":{\"style\":\"light\"},\"paper_bgcolor\":\"white\",\"plot_bgcolor\":\"#E5ECF6\",\"polar\":{\"angularaxis\":{\"gridcolor\":\"white\",\"linecolor\":\"white\",\"ticks\":\"\"},\"bgcolor\":\"#E5ECF6\",\"radialaxis\":{\"gridcolor\":\"white\",\"linecolor\":\"white\",\"ticks\":\"\"}},\"scene\":{\"xaxis\":{\"backgroundcolor\":\"#E5ECF6\",\"gridcolor\":\"white\",\"gridwidth\":2,\"linecolor\":\"white\",\"showbackground\":true,\"ticks\":\"\",\"zerolinecolor\":\"white\"},\"yaxis\":{\"backgroundcolor\":\"#E5ECF6\",\"gridcolor\":\"white\",\"gridwidth\":2,\"linecolor\":\"white\",\"showbackground\":true,\"ticks\":\"\",\"zerolinecolor\":\"white\"},\"zaxis\":{\"backgroundcolor\":\"#E5ECF6\",\"gridcolor\":\"white\",\"gridwidth\":2,\"linecolor\":\"white\",\"showbackground\":true,\"ticks\":\"\",\"zerolinecolor\":\"white\"}},\"shapedefaults\":{\"line\":{\"color\":\"#2a3f5f\"}},\"ternary\":{\"aaxis\":{\"gridcolor\":\"white\",\"linecolor\":\"white\",\"ticks\":\"\"},\"baxis\":{\"gridcolor\":\"white\",\"linecolor\":\"white\",\"ticks\":\"\"},\"bgcolor\":\"#E5ECF6\",\"caxis\":{\"gridcolor\":\"white\",\"linecolor\":\"white\",\"ticks\":\"\"}},\"title\":{\"x\":0.05},\"xaxis\":{\"automargin\":true,\"gridcolor\":\"white\",\"linecolor\":\"white\",\"ticks\":\"\",\"title\":{\"standoff\":15},\"zerolinecolor\":\"white\",\"zerolinewidth\":2},\"yaxis\":{\"automargin\":true,\"gridcolor\":\"white\",\"linecolor\":\"white\",\"ticks\":\"\",\"title\":{\"standoff\":15},\"zerolinecolor\":\"white\",\"zerolinewidth\":2}}}},                        {\"responsive\": true}                    ).then(function(){\n",
       "                            \n",
       "var gd = document.getElementById('edf6ed68-e151-46a2-a745-cf1d4daf39f9');\n",
       "var x = new MutationObserver(function (mutations, observer) {{\n",
       "        var display = window.getComputedStyle(gd).display;\n",
       "        if (!display || display === 'none') {{\n",
       "            console.log([gd, 'removed!']);\n",
       "            Plotly.purge(gd);\n",
       "            observer.disconnect();\n",
       "        }}\n",
       "}});\n",
       "\n",
       "// Listen for the removal of the full notebook cells\n",
       "var notebookContainer = gd.closest('#notebook-container');\n",
       "if (notebookContainer) {{\n",
       "    x.observe(notebookContainer, {childList: true});\n",
       "}}\n",
       "\n",
       "// Listen for the clearing of the current output cell\n",
       "var outputEl = gd.closest('.output');\n",
       "if (outputEl) {{\n",
       "    x.observe(outputEl, {childList: true});\n",
       "}}\n",
       "\n",
       "                        })                };                });            </script>        </div>"
      ]
     },
     "metadata": {},
     "output_type": "display_data"
    }
   ],
   "source": [
    "categ_distribution_visualization_upper(categ)\n",
    "\n"
   ]
  },
  {
   "cell_type": "markdown",
   "id": "4b14c0d4",
   "metadata": {},
   "source": [
    "## Каталог. Распределение кликов по категориям нижнего уровня\n"
   ]
  },
  {
   "cell_type": "code",
   "execution_count": 7,
   "id": "d6141fe5",
   "metadata": {},
   "outputs": [
    {
     "data": {
      "application/vnd.plotly.v1+json": {
       "config": {
        "plotlyServerURL": "https://plot.ly"
       },
       "data": [
        {
         "branchvalues": "total",
         "customdata": [
          [
           13,
           13
          ],
          [
           1,
           1
          ],
          [
           4,
           4
          ],
          [
           4,
           4
          ],
          [
           1,
           1
          ],
          [
           75,
           75
          ],
          [
           45,
           45
          ],
          [
           121,
           121
          ],
          [
           12,
           12
          ],
          [
           87,
           87
          ],
          [
           108,
           108
          ],
          [
           7,
           7
          ],
          [
           3,
           3
          ],
          [
           14,
           14
          ],
          [
           157,
           157
          ],
          [
           2,
           2
          ],
          [
           8,
           8
          ],
          [
           14,
           14
          ],
          [
           47,
           47
          ],
          [
           3,
           3
          ],
          [
           8,
           8
          ],
          [
           4874,
           4874
          ],
          [
           6,
           6
          ],
          [
           11,
           11
          ],
          [
           28,
           28
          ],
          [
           539,
           539
          ],
          [
           995,
           995
          ],
          [
           2,
           2
          ],
          [
           1,
           1
          ],
          [
           46,
           46
          ],
          [
           11,
           11
          ],
          [
           117,
           117
          ],
          [
           11,
           11
          ],
          [
           835,
           835
          ],
          [
           1,
           1
          ],
          [
           8,
           8
          ],
          [
           6,
           6
          ],
          [
           68,
           68
          ],
          [
           3,
           3
          ],
          [
           1,
           1
          ],
          [
           2,
           2
          ],
          [
           1,
           1
          ],
          [
           4,
           4
          ],
          [
           7,
           7
          ],
          [
           14,
           14
          ],
          [
           11,
           11
          ],
          [
           225,
           225
          ],
          [
           13,
           13
          ],
          [
           13,
           13
          ],
          [
           5,
           5
          ],
          [
           325,
           325
          ],
          [
           37,
           37
          ],
          [
           1147,
           1147
          ],
          [
           4,
           4
          ],
          [
           406,
           406
          ],
          [
           29,
           29
          ],
          [
           1095,
           1095
          ],
          [
           6,
           6
          ],
          [
           4,
           4
          ],
          [
           1,
           1
          ],
          [
           135,
           135
          ],
          [
           170,
           170
          ],
          [
           2708,
           2708
          ],
          [
           12,
           12
          ],
          [
           1,
           1
          ],
          [
           110,
           110
          ],
          [
           165,
           165
          ],
          [
           240,
           240
          ],
          [
           3,
           3
          ],
          [
           120,
           120
          ],
          [
           61,
           61
          ],
          [
           4,
           4
          ],
          [
           62,
           62
          ],
          [
           198,
           198
          ],
          [
           426,
           426
          ],
          [
           838,
           838
          ],
          [
           669,
           669
          ],
          [
           724,
           724
          ],
          [
           178,
           178
          ],
          [
           651,
           651
          ],
          [
           605,
           605
          ],
          [
           1611,
           1611
          ],
          [
           114,
           114
          ],
          [
           2,
           2
          ],
          [
           1443,
           1443
          ],
          [
           3,
           3
          ],
          [
           51,
           51
          ],
          [
           5,
           5
          ],
          [
           218,
           218
          ],
          [
           19,
           19
          ],
          [
           1267,
           1267
          ],
          [
           634,
           634
          ],
          [
           26,
           26
          ],
          [
           50,
           50
          ],
          [
           5,
           5
          ],
          [
           53,
           53
          ],
          [
           31,
           31
          ],
          [
           11,
           11
          ],
          [
           916,
           916
          ],
          [
           741,
           741
          ],
          [
           18,
           18
          ],
          [
           38,
           38
          ],
          [
           1,
           1
          ],
          [
           62,
           62
          ],
          [
           16,
           16
          ],
          [
           6,
           6
          ],
          [
           21,
           21
          ],
          [
           107,
           107
          ],
          [
           10,
           10
          ],
          [
           279,
           279
          ],
          [
           45,
           45
          ],
          [
           1,
           1
          ],
          [
           139,
           139
          ],
          [
           2,
           2
          ],
          [
           252,
           252
          ],
          [
           529,
           529
          ],
          [
           1,
           1
          ],
          [
           54,
           54
          ],
          [
           126,
           126
          ],
          [
           9,
           9
          ],
          [
           55,
           55
          ],
          [
           20,
           20
          ],
          [
           40,
           40
          ],
          [
           13,
           13
          ],
          [
           138,
           138
          ],
          [
           7,
           7
          ],
          [
           1625,
           1625
          ],
          [
           25,
           25
          ],
          [
           51,
           51
          ],
          [
           35,
           35
          ],
          [
           22,
           22
          ],
          [
           5,
           5
          ],
          [
           4,
           4
          ],
          [
           401,
           401
          ],
          [
           2106,
           2106
          ],
          [
           8,
           8
          ],
          [
           11,
           11
          ],
          [
           40,
           40
          ],
          [
           7,
           7
          ],
          [
           63,
           63
          ],
          [
           20,
           20
          ],
          [
           168,
           168
          ],
          [
           2,
           2
          ],
          [
           29,
           29
          ],
          [
           3,
           3
          ],
          [
           2,
           2
          ],
          [
           1,
           1
          ],
          [
           1,
           1
          ],
          [
           1,
           1
          ],
          [
           27,
           27
          ],
          [
           8,
           8
          ],
          [
           8,
           8
          ],
          [
           1,
           1
          ],
          [
           6,
           6
          ],
          [
           117,
           117
          ],
          [
           348,
           348
          ],
          [
           1,
           1
          ],
          [
           21,
           21
          ],
          [
           3,
           3
          ],
          [
           1,
           1
          ],
          [
           2,
           2
          ],
          [
           5,
           5
          ],
          [
           2,
           2
          ],
          [
           1,
           1
          ],
          [
           266,
           266
          ],
          [
           43,
           43
          ],
          [
           62,
           62
          ],
          [
           1,
           1
          ],
          [
           103,
           103
          ],
          [
           2626,
           2626
          ],
          [
           4,
           4
          ],
          [
           17,
           17
          ],
          [
           178,
           178
          ],
          [
           1,
           1
          ],
          [
           1,
           1
          ],
          [
           504,
           504
          ],
          [
           230,
           230
          ],
          [
           163,
           163
          ],
          [
           4166,
           4166
          ],
          [
           1,
           1
          ],
          [
           5,
           5
          ],
          [
           56,
           56
          ],
          [
           13,
           13
          ],
          [
           216,
           216
          ],
          [
           2,
           2
          ],
          [
           7,
           7
          ],
          [
           55,
           55
          ],
          [
           110,
           110
          ],
          [
           8,
           8
          ],
          [
           35,
           35
          ],
          [
           26,
           26
          ],
          [
           2,
           2
          ],
          [
           52,
           52
          ],
          [
           325,
           325
          ],
          [
           5,
           5
          ],
          [
           1,
           1
          ],
          [
           1,
           1
          ],
          [
           3,
           3
          ],
          [
           21,
           21
          ],
          [
           30,
           30
          ],
          [
           390,
           390
          ],
          [
           222,
           222
          ],
          [
           5,
           5
          ],
          [
           15,
           15
          ],
          [
           52,
           52
          ],
          [
           9,
           9
          ],
          [
           10,
           10
          ],
          [
           553,
           553
          ],
          [
           216,
           216
          ],
          [
           84,
           84
          ],
          [
           24,
           24
          ],
          [
           2,
           2
          ],
          [
           43,
           43
          ],
          [
           1,
           1
          ],
          [
           21,
           21
          ],
          [
           7,
           7
          ],
          [
           10,
           10
          ],
          [
           379,
           379
          ],
          [
           3,
           3
          ],
          [
           8,
           8
          ],
          [
           1,
           1
          ],
          [
           41,
           41
          ],
          [
           1,
           1
          ],
          [
           13,
           13
          ],
          [
           17,
           17
          ],
          [
           26,
           26
          ],
          [
           81,
           81
          ],
          [
           3,
           3
          ],
          [
           1,
           1
          ],
          [
           364,
           364
          ],
          [
           3,
           3
          ],
          [
           4384,
           4384
          ],
          [
           3,
           3
          ],
          [
           1,
           1
          ],
          [
           2,
           2
          ],
          [
           4555,
           4555
          ],
          [
           17,
           17
          ],
          [
           49,
           49
          ],
          [
           8,
           8
          ],
          [
           24,
           24
          ],
          [
           189,
           189
          ],
          [
           5,
           5
          ],
          [
           50,
           50
          ],
          [
           2,
           2
          ],
          [
           3,
           3
          ],
          [
           1,
           1
          ],
          [
           1,
           1
          ],
          [
           323,
           323
          ],
          [
           519,
           519
          ],
          [
           2,
           2
          ],
          [
           409,
           409
          ],
          [
           41,
           41
          ],
          [
           206,
           206
          ],
          [
           129,
           129
          ],
          [
           2129.1647736249847,
           2129.1647736249847
          ]
         ],
         "domain": {
          "x": [
           0,
           1
          ],
          "y": [
           0,
           1
          ]
         },
         "hovertemplate": "labels=%{label}<br>count_sum_sum=%{value}<br>parent=%{parent}<br>id=%{id}<br>count_sum=%{color}<extra></extra>",
         "ids": [
          "all/ на поддон",
          "all/акриловые",
          "all/аксессуары для бани",
          "all/аксессуары для биде",
          "all/аксессуары для ванной комнаты",
          "all/аксессуары для ванны",
          "all/аксессуары для душа",
          "all/аксессуары для моек",
          "all/аксессуары для писсуаров",
          "all/аксессуары для унитазов",
          "all/аксессуары на раковину",
          "all/баки и емкости",
          "all/банный текстиль",
          "all/бассейны",
          "all/биде",
          "all/биотуалеты",
          "all/боксы для салфеток",
          "all/бондарные изделия",
          "all/бордюры",
          "all/бумажные полотенца",
          "all/бытовая химия",
          "all/ванны",
          "all/ведра",
          "all/веники для бани и сауны",
          "all/вешалки для ванной комнаты",
          "all/водонагреватели",
          "all/все категории",
          "all/встраиваемые",
          "all/встраиваемые душевые комплекты",
          "all/встраиваемые душевые системы для ванны",
          "all/встраиваемые системы для&nbsp;душа",
          "all/вытяжные вентиляторы",
          "all/гарнитуры для ванной комнаты",
          "all/гигиенические души",
          "all/гигрометры",
          "all/гладильные доски",
          "all/горшки и кашпо",
          "all/гофры и отводы",
          "all/дачные души",
          "all/двери",
          "all/держатели для газет",
          "all/держатели для запасных рулонов",
          "all/держатели для туалетной бумаги",
          "all/держатели для фена",
          "all/держатели запасных рулонов",
          "all/держатели освежителя воздуха",
          "all/держатели туалетной бумаги",
          "all/диспенсеры",
          "all/диспенсеры ватных дисков",
          "all/для бумажных полотенец",
          "all/для ванной комнаты",
          "all/для ванны",
          "all/для ванны с душем",
          "all/для гостиной",
          "all/для душа",
          "all/для кухни",
          "all/для кухонной мойки",
          "all/для мыла",
          "all/для общественных мест",
          "all/для освежителей воздуха",
          "all/для пола",
          "all/для полотенец",
          "all/для раковины",
          "all/для сада и улицы",
          "all/для салфеток",
          "all/для стен",
          "all/для стен и пола",
          "all/для туалета",
          "all/для туалетной бумаги",
          "all/дозаторы",
          "all/донные клапаны",
          "all/донные клапаны для раковин",
          "all/душ настенного монтажа",
          "all/душевые боксы",
          "all/душевые гарнитуры",
          "all/душевые двери в нишу",
          "all/душевые кабины",
          "all/душевые комплекты",
          "all/душевые лотки",
          "all/душевые перегородки",
          "all/душевые поддоны",
          "all/душевые стойки",
          "all/душевые трапы",
          "all/душевые углы",
          "all/душевые уголки",
          "all/дымоходы",
          "all/ершики",
          "all/запарники",
          "all/запорная арматура",
          "all/затирки и крестики",
          "all/зеркала",
          "all/зеркала-шкафы",
          "all/измельчители отходов",
          "all/измельчитель отходов",
          "all/измерительные приборы",
          "all/инсталляции для биде",
          "all/инсталляции для писсуаров",
          "all/инсталляции для раковин",
          "all/инсталляции для унитазов",
          "all/инсталляции и кнопки смыва",
          "all/камины",
          "all/карнизы",
          "all/карнизы для ванной",
          "all/карнизы для шторок",
          "all/картриджи к магистральным фильтрам",
          "all/картриджи к фильтрам питьевой воды",
          "all/керамическая",
          "all/керамогранит",
          "all/клинкерная",
          "all/кнопки смыва",
          "all/коврики",
          "all/ковши",
          "all/комоды",
          "all/комоды для ванной комнаты",
          "all/комплект для ванны",
          "all/комплект для душа",
          "all/компостеры",
          "all/кондиционеры",
          "all/консоли с раковиной",
          "all/контейнеры",
          "all/корзины для белья",
          "all/косметические зеркала",
          "all/котлы",
          "all/краны для питьевой воды",
          "all/крючки для ванной комнаты",
          "all/кулеры и пурифайеры",
          "all/кухонные мойки",
          "all/магистральные фильтры",
          "all/магистральные фильтры грубой очистки",
          "all/магистральные фильтры тонкой очистки",
          "all/мебель для бани",
          "all/мебель для ванной комнаты",
          "all/мебель под стиральную машину",
          "all/мебель под стиральную машину с раковиной",
          "all/мебельные гарнитуры",
          "all/механизмы смыва для &nbsp; писсуаров",
          "all/мойки воздуха",
          "all/мусорные ведра",
          "all/мусорные ведра ",
          "all/мыльницы",
          "all/на пол",
          "all/наборы аксессуаров",
          "all/наборы аксессуаров для ванной",
          "all/наборы держателей на стойке",
          "all/наборы для бани",
          "all/накладные",
          "all/накопительные",
          "all/накопительные (бойлеры)",
          "all/напольные",
          "all/насосы",
          "all/осушители воздуха",
          "all/очистители воздуха",
          "all/очиститель для стекол",
          "all/перегородки для писсуаров",
          "all/писсуары",
          "all/плитка",
          "all/плитка для ванной комнаты",
          "all/плитка-мозаика",
          "all/по назначению",
          "all/по помещению",
          "all/подголовники",
          "all/подставки",
          "all/полив и мойка",
          "all/полки",
          "all/полки для душа",
          "all/полки для полотенец",
          "all/полки под зеркало",
          "all/полотенца",
          "all/полотенцедержатели",
          "all/полотенцесушители",
          "all/порталы для камина",
          "all/поручни",
          "all/поэлементно",
          "all/протирочный материал",
          "all/радиаторы",
          "all/радиаторы и обогреватели",
          "all/раковина на стиральную машину",
          "all/раковина с пьедесталом",
          "all/раковины",
          "all/раковины с пьедесталом",
          "all/расходные материалы",
          "all/ревизионные люки",
          "all/ревизионныые люки",
          "all/рядом с раковиной",
          "all/с подсветкой",
          "all/сантехника для дачи",
          "all/сантехнические шкафы",
          "all/светильники",
          "all/сенсорные смесители",
          "all/сиденья",
          "all/сиденья для душа",
          "all/сиденья на ванну",
          "all/системы защиты от протечек",
          "all/сифоны",
          "all/сифоны для биде",
          "all/сифоны для душевых поддонов",
          "all/сифоны для моек",
          "all/сифоны для раковин",
          "all/скребки для стёкол",
          "all/слив для унитазов",
          "all/слив и канализация",
          "all/сливы-переливы",
          "all/сливы-переливы для ванн",
          "all/смесители для биде",
          "all/смесители для ванны",
          "all/смесители для ванны с душем",
          "all/смесители для душа",
          "all/смесители для кухни",
          "all/смесители для раковин",
          "all/смесители для раковины",
          "all/смывные бачки скрытого монтажа",
          "all/средство для металлических поверхностей",
          "all/стаканы",
          "all/стальные",
          "all/стеклянные и пластиковые шторки",
          "all/стеллажи",
          "all/стирка",
          "all/столешница с раковиной",
          "all/столешницы с раковиной",
          "all/столики для ванны",
          "all/столы для бани и сауны",
          "all/стремянки",
          "all/стулья и лавочки для бани и сауны",
          "all/сушилки для белья",
          "all/сушилки для рук",
          "all/текстильные шторы",
          "all/теплые полы",
          "all/термометры",
          "all/туалетная бумага",
          "all/тумбы",
          "all/тумбы в ванную комнату",
          "all/тумбы с раковиной",
          "all/увлажнители воздуха",
          "all/уличные сушилки для белья",
          "all/универсальное моющее средство",
          "all/унитазы",
          "all/урны",
          "all/фартук для кухни",
          "all/фены",
          "all/фильтры для воды и кулеры",
          "all/фильтры под мойку",
          "all/фильтры рядом с мойкой",
          "all/хранение",
          "all/часы",
          "all/чаши генуя",
          "all/чугунные",
          "all/шапки",
          "all/шкафы",
          "all/шкафы-пеналы",
          "all/шторки на ванну",
          "all/шторки стеклянные",
          "all/шторки текстильные",
          "all/экраны для ванн",
          "all/ёршики",
          "all"
         ],
         "labels": [
          " на поддон",
          "акриловые",
          "аксессуары для бани",
          "аксессуары для биде",
          "аксессуары для ванной комнаты",
          "аксессуары для ванны",
          "аксессуары для душа",
          "аксессуары для моек",
          "аксессуары для писсуаров",
          "аксессуары для унитазов",
          "аксессуары на раковину",
          "баки и емкости",
          "банный текстиль",
          "бассейны",
          "биде",
          "биотуалеты",
          "боксы для салфеток",
          "бондарные изделия",
          "бордюры",
          "бумажные полотенца",
          "бытовая химия",
          "ванны",
          "ведра",
          "веники для бани и сауны",
          "вешалки для ванной комнаты",
          "водонагреватели",
          "все категории",
          "встраиваемые",
          "встраиваемые душевые комплекты",
          "встраиваемые душевые системы для ванны",
          "встраиваемые системы для&nbsp;душа",
          "вытяжные вентиляторы",
          "гарнитуры для ванной комнаты",
          "гигиенические души",
          "гигрометры",
          "гладильные доски",
          "горшки и кашпо",
          "гофры и отводы",
          "дачные души",
          "двери",
          "держатели для газет",
          "держатели для запасных рулонов",
          "держатели для туалетной бумаги",
          "держатели для фена",
          "держатели запасных рулонов",
          "держатели освежителя воздуха",
          "держатели туалетной бумаги",
          "диспенсеры",
          "диспенсеры ватных дисков",
          "для бумажных полотенец",
          "для ванной комнаты",
          "для ванны",
          "для ванны с душем",
          "для гостиной",
          "для душа",
          "для кухни",
          "для кухонной мойки",
          "для мыла",
          "для общественных мест",
          "для освежителей воздуха",
          "для пола",
          "для полотенец",
          "для раковины",
          "для сада и улицы",
          "для салфеток",
          "для стен",
          "для стен и пола",
          "для туалета",
          "для туалетной бумаги",
          "дозаторы",
          "донные клапаны",
          "донные клапаны для раковин",
          "душ настенного монтажа",
          "душевые боксы",
          "душевые гарнитуры",
          "душевые двери в нишу",
          "душевые кабины",
          "душевые комплекты",
          "душевые лотки",
          "душевые перегородки",
          "душевые поддоны",
          "душевые стойки",
          "душевые трапы",
          "душевые углы",
          "душевые уголки",
          "дымоходы",
          "ершики",
          "запарники",
          "запорная арматура",
          "затирки и крестики",
          "зеркала",
          "зеркала-шкафы",
          "измельчители отходов",
          "измельчитель отходов",
          "измерительные приборы",
          "инсталляции для биде",
          "инсталляции для писсуаров",
          "инсталляции для раковин",
          "инсталляции для унитазов",
          "инсталляции и кнопки смыва",
          "камины",
          "карнизы",
          "карнизы для ванной",
          "карнизы для шторок",
          "картриджи к магистральным фильтрам",
          "картриджи к фильтрам питьевой воды",
          "керамическая",
          "керамогранит",
          "клинкерная",
          "кнопки смыва",
          "коврики",
          "ковши",
          "комоды",
          "комоды для ванной комнаты",
          "комплект для ванны",
          "комплект для душа",
          "компостеры",
          "кондиционеры",
          "консоли с раковиной",
          "контейнеры",
          "корзины для белья",
          "косметические зеркала",
          "котлы",
          "краны для питьевой воды",
          "крючки для ванной комнаты",
          "кулеры и пурифайеры",
          "кухонные мойки",
          "магистральные фильтры",
          "магистральные фильтры грубой очистки",
          "магистральные фильтры тонкой очистки",
          "мебель для бани",
          "мебель для ванной комнаты",
          "мебель под стиральную машину",
          "мебель под стиральную машину с раковиной",
          "мебельные гарнитуры",
          "механизмы смыва для &nbsp; писсуаров",
          "мойки воздуха",
          "мусорные ведра",
          "мусорные ведра ",
          "мыльницы",
          "на пол",
          "наборы аксессуаров",
          "наборы аксессуаров для ванной",
          "наборы держателей на стойке",
          "наборы для бани",
          "накладные",
          "накопительные",
          "накопительные (бойлеры)",
          "напольные",
          "насосы",
          "осушители воздуха",
          "очистители воздуха",
          "очиститель для стекол",
          "перегородки для писсуаров",
          "писсуары",
          "плитка",
          "плитка для ванной комнаты",
          "плитка-мозаика",
          "по назначению",
          "по помещению",
          "подголовники",
          "подставки",
          "полив и мойка",
          "полки",
          "полки для душа",
          "полки для полотенец",
          "полки под зеркало",
          "полотенца",
          "полотенцедержатели",
          "полотенцесушители",
          "порталы для камина",
          "поручни",
          "поэлементно",
          "протирочный материал",
          "радиаторы",
          "радиаторы и обогреватели",
          "раковина на стиральную машину",
          "раковина с пьедесталом",
          "раковины",
          "раковины с пьедесталом",
          "расходные материалы",
          "ревизионные люки",
          "ревизионныые люки",
          "рядом с раковиной",
          "с подсветкой",
          "сантехника для дачи",
          "сантехнические шкафы",
          "светильники",
          "сенсорные смесители",
          "сиденья",
          "сиденья для душа",
          "сиденья на ванну",
          "системы защиты от протечек",
          "сифоны",
          "сифоны для биде",
          "сифоны для душевых поддонов",
          "сифоны для моек",
          "сифоны для раковин",
          "скребки для стёкол",
          "слив для унитазов",
          "слив и канализация",
          "сливы-переливы",
          "сливы-переливы для ванн",
          "смесители для биде",
          "смесители для ванны",
          "смесители для ванны с душем",
          "смесители для душа",
          "смесители для кухни",
          "смесители для раковин",
          "смесители для раковины",
          "смывные бачки скрытого монтажа",
          "средство для металлических поверхностей",
          "стаканы",
          "стальные",
          "стеклянные и пластиковые шторки",
          "стеллажи",
          "стирка",
          "столешница с раковиной",
          "столешницы с раковиной",
          "столики для ванны",
          "столы для бани и сауны",
          "стремянки",
          "стулья и лавочки для бани и сауны",
          "сушилки для белья",
          "сушилки для рук",
          "текстильные шторы",
          "теплые полы",
          "термометры",
          "туалетная бумага",
          "тумбы",
          "тумбы в ванную комнату",
          "тумбы с раковиной",
          "увлажнители воздуха",
          "уличные сушилки для белья",
          "универсальное моющее средство",
          "унитазы",
          "урны",
          "фартук для кухни",
          "фены",
          "фильтры для воды и кулеры",
          "фильтры под мойку",
          "фильтры рядом с мойкой",
          "хранение",
          "часы",
          "чаши генуя",
          "чугунные",
          "шапки",
          "шкафы",
          "шкафы-пеналы",
          "шторки на ванну",
          "шторки стеклянные",
          "шторки текстильные",
          "экраны для ванн",
          "ёршики",
          "all"
         ],
         "marker": {
          "coloraxis": "coloraxis",
          "colors": [
           13,
           1,
           4,
           4,
           1,
           75,
           45,
           121,
           12,
           87,
           108,
           7,
           3,
           14,
           157,
           2,
           8,
           14,
           47,
           3,
           8,
           4874,
           6,
           11,
           28,
           539,
           995,
           2,
           1,
           46,
           11,
           117,
           11,
           835,
           1,
           8,
           6,
           68,
           3,
           1,
           2,
           1,
           4,
           7,
           14,
           11,
           225,
           13,
           13,
           5,
           325,
           37,
           1147,
           4,
           406,
           29,
           1095,
           6,
           4,
           1,
           135,
           170,
           2708,
           12,
           1,
           110,
           165,
           240,
           3,
           120,
           61,
           4,
           62,
           198,
           426,
           838,
           669,
           724,
           178,
           651,
           605,
           1611,
           114,
           2,
           1443,
           3,
           51,
           5,
           218,
           19,
           1267,
           634,
           26,
           50,
           5,
           53,
           31,
           11,
           916,
           741,
           18,
           38,
           1,
           62,
           16,
           6,
           21,
           107,
           10,
           279,
           45,
           1,
           139,
           2,
           252,
           529,
           1,
           54,
           126,
           9,
           55,
           20,
           40,
           13,
           138,
           7,
           1625,
           25,
           51,
           35,
           22,
           5,
           4,
           401,
           2106,
           8,
           11,
           40,
           7,
           63,
           20,
           168,
           2,
           29,
           3,
           2,
           1,
           1,
           1,
           27,
           8,
           8,
           1,
           6,
           117,
           348,
           1,
           21,
           3,
           1,
           2,
           5,
           2,
           1,
           266,
           43,
           62,
           1,
           103,
           2626,
           4,
           17,
           178,
           1,
           1,
           504,
           230,
           163,
           4166,
           1,
           5,
           56,
           13,
           216,
           2,
           7,
           55,
           110,
           8,
           35,
           26,
           2,
           52,
           325,
           5,
           1,
           1,
           3,
           21,
           30,
           390,
           222,
           5,
           15,
           52,
           9,
           10,
           553,
           216,
           84,
           24,
           2,
           43,
           1,
           21,
           7,
           10,
           379,
           3,
           8,
           1,
           41,
           1,
           13,
           17,
           26,
           81,
           3,
           1,
           364,
           3,
           4384,
           3,
           1,
           2,
           4555,
           17,
           49,
           8,
           24,
           189,
           5,
           50,
           2,
           3,
           1,
           1,
           323,
           519,
           2,
           409,
           41,
           206,
           129,
           2129.1647736249847
          ]
         },
         "name": "",
         "parents": [
          "all",
          "all",
          "all",
          "all",
          "all",
          "all",
          "all",
          "all",
          "all",
          "all",
          "all",
          "all",
          "all",
          "all",
          "all",
          "all",
          "all",
          "all",
          "all",
          "all",
          "all",
          "all",
          "all",
          "all",
          "all",
          "all",
          "all",
          "all",
          "all",
          "all",
          "all",
          "all",
          "all",
          "all",
          "all",
          "all",
          "all",
          "all",
          "all",
          "all",
          "all",
          "all",
          "all",
          "all",
          "all",
          "all",
          "all",
          "all",
          "all",
          "all",
          "all",
          "all",
          "all",
          "all",
          "all",
          "all",
          "all",
          "all",
          "all",
          "all",
          "all",
          "all",
          "all",
          "all",
          "all",
          "all",
          "all",
          "all",
          "all",
          "all",
          "all",
          "all",
          "all",
          "all",
          "all",
          "all",
          "all",
          "all",
          "all",
          "all",
          "all",
          "all",
          "all",
          "all",
          "all",
          "all",
          "all",
          "all",
          "all",
          "all",
          "all",
          "all",
          "all",
          "all",
          "all",
          "all",
          "all",
          "all",
          "all",
          "all",
          "all",
          "all",
          "all",
          "all",
          "all",
          "all",
          "all",
          "all",
          "all",
          "all",
          "all",
          "all",
          "all",
          "all",
          "all",
          "all",
          "all",
          "all",
          "all",
          "all",
          "all",
          "all",
          "all",
          "all",
          "all",
          "all",
          "all",
          "all",
          "all",
          "all",
          "all",
          "all",
          "all",
          "all",
          "all",
          "all",
          "all",
          "all",
          "all",
          "all",
          "all",
          "all",
          "all",
          "all",
          "all",
          "all",
          "all",
          "all",
          "all",
          "all",
          "all",
          "all",
          "all",
          "all",
          "all",
          "all",
          "all",
          "all",
          "all",
          "all",
          "all",
          "all",
          "all",
          "all",
          "all",
          "all",
          "all",
          "all",
          "all",
          "all",
          "all",
          "all",
          "all",
          "all",
          "all",
          "all",
          "all",
          "all",
          "all",
          "all",
          "all",
          "all",
          "all",
          "all",
          "all",
          "all",
          "all",
          "all",
          "all",
          "all",
          "all",
          "all",
          "all",
          "all",
          "all",
          "all",
          "all",
          "all",
          "all",
          "all",
          "all",
          "all",
          "all",
          "all",
          "all",
          "all",
          "all",
          "all",
          "all",
          "all",
          "all",
          "all",
          "all",
          "all",
          "all",
          "all",
          "all",
          "all",
          "all",
          "all",
          "all",
          "all",
          "all",
          "all",
          "all",
          "all",
          "all",
          "all",
          "all",
          "all",
          "all",
          "all",
          "all",
          "all",
          "all",
          "all",
          "all",
          "all",
          "all",
          "all",
          "all",
          "all",
          "all",
          "all",
          "all",
          "all",
          "all",
          "all",
          "all",
          "all",
          "all",
          "all",
          "all",
          "all",
          ""
         ],
         "type": "treemap",
         "values": [
          13,
          1,
          4,
          4,
          1,
          75,
          45,
          121,
          12,
          87,
          108,
          7,
          3,
          14,
          157,
          2,
          8,
          14,
          47,
          3,
          8,
          4874,
          6,
          11,
          28,
          539,
          995,
          2,
          1,
          46,
          11,
          117,
          11,
          835,
          1,
          8,
          6,
          68,
          3,
          1,
          2,
          1,
          4,
          7,
          14,
          11,
          225,
          13,
          13,
          5,
          325,
          37,
          1147,
          4,
          406,
          29,
          1095,
          6,
          4,
          1,
          135,
          170,
          2708,
          12,
          1,
          110,
          165,
          240,
          3,
          120,
          61,
          4,
          62,
          198,
          426,
          838,
          669,
          724,
          178,
          651,
          605,
          1611,
          114,
          2,
          1443,
          3,
          51,
          5,
          218,
          19,
          1267,
          634,
          26,
          50,
          5,
          53,
          31,
          11,
          916,
          741,
          18,
          38,
          1,
          62,
          16,
          6,
          21,
          107,
          10,
          279,
          45,
          1,
          139,
          2,
          252,
          529,
          1,
          54,
          126,
          9,
          55,
          20,
          40,
          13,
          138,
          7,
          1625,
          25,
          51,
          35,
          22,
          5,
          4,
          401,
          2106,
          8,
          11,
          40,
          7,
          63,
          20,
          168,
          2,
          29,
          3,
          2,
          1,
          1,
          1,
          27,
          8,
          8,
          1,
          6,
          117,
          348,
          1,
          21,
          3,
          1,
          2,
          5,
          2,
          1,
          266,
          43,
          62,
          1,
          103,
          2626,
          4,
          17,
          178,
          1,
          1,
          504,
          230,
          163,
          4166,
          1,
          5,
          56,
          13,
          216,
          2,
          7,
          55,
          110,
          8,
          35,
          26,
          2,
          52,
          325,
          5,
          1,
          1,
          3,
          21,
          30,
          390,
          222,
          5,
          15,
          52,
          9,
          10,
          553,
          216,
          84,
          24,
          2,
          43,
          1,
          21,
          7,
          10,
          379,
          3,
          8,
          1,
          41,
          1,
          13,
          17,
          26,
          81,
          3,
          1,
          364,
          3,
          4384,
          3,
          1,
          2,
          4555,
          17,
          49,
          8,
          24,
          189,
          5,
          50,
          2,
          3,
          1,
          1,
          323,
          519,
          2,
          409,
          41,
          206,
          129,
          56963
         ]
        }
       ],
       "layout": {
        "coloraxis": {
         "cmid": 2129.1647736249847,
         "colorbar": {
          "title": {
           "text": "count_sum"
          }
         },
         "colorscale": [
          [
           0,
           "rgb(103,0,31)"
          ],
          [
           0.1,
           "rgb(178,24,43)"
          ],
          [
           0.2,
           "rgb(214,96,77)"
          ],
          [
           0.3,
           "rgb(244,165,130)"
          ],
          [
           0.4,
           "rgb(253,219,199)"
          ],
          [
           0.5,
           "rgb(247,247,247)"
          ],
          [
           0.6,
           "rgb(209,229,240)"
          ],
          [
           0.7,
           "rgb(146,197,222)"
          ],
          [
           0.8,
           "rgb(67,147,195)"
          ],
          [
           0.9,
           "rgb(33,102,172)"
          ],
          [
           1,
           "rgb(5,48,97)"
          ]
         ]
        },
        "legend": {
         "tracegroupgap": 0
        },
        "margin": {
         "b": 25,
         "l": 25,
         "r": 25,
         "t": 50
        },
        "template": {
         "data": {
          "bar": [
           {
            "error_x": {
             "color": "#2a3f5f"
            },
            "error_y": {
             "color": "#2a3f5f"
            },
            "marker": {
             "line": {
              "color": "#E5ECF6",
              "width": 0.5
             },
             "pattern": {
              "fillmode": "overlay",
              "size": 10,
              "solidity": 0.2
             }
            },
            "type": "bar"
           }
          ],
          "barpolar": [
           {
            "marker": {
             "line": {
              "color": "#E5ECF6",
              "width": 0.5
             },
             "pattern": {
              "fillmode": "overlay",
              "size": 10,
              "solidity": 0.2
             }
            },
            "type": "barpolar"
           }
          ],
          "carpet": [
           {
            "aaxis": {
             "endlinecolor": "#2a3f5f",
             "gridcolor": "white",
             "linecolor": "white",
             "minorgridcolor": "white",
             "startlinecolor": "#2a3f5f"
            },
            "baxis": {
             "endlinecolor": "#2a3f5f",
             "gridcolor": "white",
             "linecolor": "white",
             "minorgridcolor": "white",
             "startlinecolor": "#2a3f5f"
            },
            "type": "carpet"
           }
          ],
          "choropleth": [
           {
            "colorbar": {
             "outlinewidth": 0,
             "ticks": ""
            },
            "type": "choropleth"
           }
          ],
          "contour": [
           {
            "colorbar": {
             "outlinewidth": 0,
             "ticks": ""
            },
            "colorscale": [
             [
              0,
              "#0d0887"
             ],
             [
              0.1111111111111111,
              "#46039f"
             ],
             [
              0.2222222222222222,
              "#7201a8"
             ],
             [
              0.3333333333333333,
              "#9c179e"
             ],
             [
              0.4444444444444444,
              "#bd3786"
             ],
             [
              0.5555555555555556,
              "#d8576b"
             ],
             [
              0.6666666666666666,
              "#ed7953"
             ],
             [
              0.7777777777777778,
              "#fb9f3a"
             ],
             [
              0.8888888888888888,
              "#fdca26"
             ],
             [
              1,
              "#f0f921"
             ]
            ],
            "type": "contour"
           }
          ],
          "contourcarpet": [
           {
            "colorbar": {
             "outlinewidth": 0,
             "ticks": ""
            },
            "type": "contourcarpet"
           }
          ],
          "heatmap": [
           {
            "colorbar": {
             "outlinewidth": 0,
             "ticks": ""
            },
            "colorscale": [
             [
              0,
              "#0d0887"
             ],
             [
              0.1111111111111111,
              "#46039f"
             ],
             [
              0.2222222222222222,
              "#7201a8"
             ],
             [
              0.3333333333333333,
              "#9c179e"
             ],
             [
              0.4444444444444444,
              "#bd3786"
             ],
             [
              0.5555555555555556,
              "#d8576b"
             ],
             [
              0.6666666666666666,
              "#ed7953"
             ],
             [
              0.7777777777777778,
              "#fb9f3a"
             ],
             [
              0.8888888888888888,
              "#fdca26"
             ],
             [
              1,
              "#f0f921"
             ]
            ],
            "type": "heatmap"
           }
          ],
          "heatmapgl": [
           {
            "colorbar": {
             "outlinewidth": 0,
             "ticks": ""
            },
            "colorscale": [
             [
              0,
              "#0d0887"
             ],
             [
              0.1111111111111111,
              "#46039f"
             ],
             [
              0.2222222222222222,
              "#7201a8"
             ],
             [
              0.3333333333333333,
              "#9c179e"
             ],
             [
              0.4444444444444444,
              "#bd3786"
             ],
             [
              0.5555555555555556,
              "#d8576b"
             ],
             [
              0.6666666666666666,
              "#ed7953"
             ],
             [
              0.7777777777777778,
              "#fb9f3a"
             ],
             [
              0.8888888888888888,
              "#fdca26"
             ],
             [
              1,
              "#f0f921"
             ]
            ],
            "type": "heatmapgl"
           }
          ],
          "histogram": [
           {
            "marker": {
             "pattern": {
              "fillmode": "overlay",
              "size": 10,
              "solidity": 0.2
             }
            },
            "type": "histogram"
           }
          ],
          "histogram2d": [
           {
            "colorbar": {
             "outlinewidth": 0,
             "ticks": ""
            },
            "colorscale": [
             [
              0,
              "#0d0887"
             ],
             [
              0.1111111111111111,
              "#46039f"
             ],
             [
              0.2222222222222222,
              "#7201a8"
             ],
             [
              0.3333333333333333,
              "#9c179e"
             ],
             [
              0.4444444444444444,
              "#bd3786"
             ],
             [
              0.5555555555555556,
              "#d8576b"
             ],
             [
              0.6666666666666666,
              "#ed7953"
             ],
             [
              0.7777777777777778,
              "#fb9f3a"
             ],
             [
              0.8888888888888888,
              "#fdca26"
             ],
             [
              1,
              "#f0f921"
             ]
            ],
            "type": "histogram2d"
           }
          ],
          "histogram2dcontour": [
           {
            "colorbar": {
             "outlinewidth": 0,
             "ticks": ""
            },
            "colorscale": [
             [
              0,
              "#0d0887"
             ],
             [
              0.1111111111111111,
              "#46039f"
             ],
             [
              0.2222222222222222,
              "#7201a8"
             ],
             [
              0.3333333333333333,
              "#9c179e"
             ],
             [
              0.4444444444444444,
              "#bd3786"
             ],
             [
              0.5555555555555556,
              "#d8576b"
             ],
             [
              0.6666666666666666,
              "#ed7953"
             ],
             [
              0.7777777777777778,
              "#fb9f3a"
             ],
             [
              0.8888888888888888,
              "#fdca26"
             ],
             [
              1,
              "#f0f921"
             ]
            ],
            "type": "histogram2dcontour"
           }
          ],
          "mesh3d": [
           {
            "colorbar": {
             "outlinewidth": 0,
             "ticks": ""
            },
            "type": "mesh3d"
           }
          ],
          "parcoords": [
           {
            "line": {
             "colorbar": {
              "outlinewidth": 0,
              "ticks": ""
             }
            },
            "type": "parcoords"
           }
          ],
          "pie": [
           {
            "automargin": true,
            "type": "pie"
           }
          ],
          "scatter": [
           {
            "marker": {
             "colorbar": {
              "outlinewidth": 0,
              "ticks": ""
             }
            },
            "type": "scatter"
           }
          ],
          "scatter3d": [
           {
            "line": {
             "colorbar": {
              "outlinewidth": 0,
              "ticks": ""
             }
            },
            "marker": {
             "colorbar": {
              "outlinewidth": 0,
              "ticks": ""
             }
            },
            "type": "scatter3d"
           }
          ],
          "scattercarpet": [
           {
            "marker": {
             "colorbar": {
              "outlinewidth": 0,
              "ticks": ""
             }
            },
            "type": "scattercarpet"
           }
          ],
          "scattergeo": [
           {
            "marker": {
             "colorbar": {
              "outlinewidth": 0,
              "ticks": ""
             }
            },
            "type": "scattergeo"
           }
          ],
          "scattergl": [
           {
            "marker": {
             "colorbar": {
              "outlinewidth": 0,
              "ticks": ""
             }
            },
            "type": "scattergl"
           }
          ],
          "scattermapbox": [
           {
            "marker": {
             "colorbar": {
              "outlinewidth": 0,
              "ticks": ""
             }
            },
            "type": "scattermapbox"
           }
          ],
          "scatterpolar": [
           {
            "marker": {
             "colorbar": {
              "outlinewidth": 0,
              "ticks": ""
             }
            },
            "type": "scatterpolar"
           }
          ],
          "scatterpolargl": [
           {
            "marker": {
             "colorbar": {
              "outlinewidth": 0,
              "ticks": ""
             }
            },
            "type": "scatterpolargl"
           }
          ],
          "scatterternary": [
           {
            "marker": {
             "colorbar": {
              "outlinewidth": 0,
              "ticks": ""
             }
            },
            "type": "scatterternary"
           }
          ],
          "surface": [
           {
            "colorbar": {
             "outlinewidth": 0,
             "ticks": ""
            },
            "colorscale": [
             [
              0,
              "#0d0887"
             ],
             [
              0.1111111111111111,
              "#46039f"
             ],
             [
              0.2222222222222222,
              "#7201a8"
             ],
             [
              0.3333333333333333,
              "#9c179e"
             ],
             [
              0.4444444444444444,
              "#bd3786"
             ],
             [
              0.5555555555555556,
              "#d8576b"
             ],
             [
              0.6666666666666666,
              "#ed7953"
             ],
             [
              0.7777777777777778,
              "#fb9f3a"
             ],
             [
              0.8888888888888888,
              "#fdca26"
             ],
             [
              1,
              "#f0f921"
             ]
            ],
            "type": "surface"
           }
          ],
          "table": [
           {
            "cells": {
             "fill": {
              "color": "#EBF0F8"
             },
             "line": {
              "color": "white"
             }
            },
            "header": {
             "fill": {
              "color": "#C8D4E3"
             },
             "line": {
              "color": "white"
             }
            },
            "type": "table"
           }
          ]
         },
         "layout": {
          "annotationdefaults": {
           "arrowcolor": "#2a3f5f",
           "arrowhead": 0,
           "arrowwidth": 1
          },
          "autotypenumbers": "strict",
          "coloraxis": {
           "colorbar": {
            "outlinewidth": 0,
            "ticks": ""
           }
          },
          "colorscale": {
           "diverging": [
            [
             0,
             "#8e0152"
            ],
            [
             0.1,
             "#c51b7d"
            ],
            [
             0.2,
             "#de77ae"
            ],
            [
             0.3,
             "#f1b6da"
            ],
            [
             0.4,
             "#fde0ef"
            ],
            [
             0.5,
             "#f7f7f7"
            ],
            [
             0.6,
             "#e6f5d0"
            ],
            [
             0.7,
             "#b8e186"
            ],
            [
             0.8,
             "#7fbc41"
            ],
            [
             0.9,
             "#4d9221"
            ],
            [
             1,
             "#276419"
            ]
           ],
           "sequential": [
            [
             0,
             "#0d0887"
            ],
            [
             0.1111111111111111,
             "#46039f"
            ],
            [
             0.2222222222222222,
             "#7201a8"
            ],
            [
             0.3333333333333333,
             "#9c179e"
            ],
            [
             0.4444444444444444,
             "#bd3786"
            ],
            [
             0.5555555555555556,
             "#d8576b"
            ],
            [
             0.6666666666666666,
             "#ed7953"
            ],
            [
             0.7777777777777778,
             "#fb9f3a"
            ],
            [
             0.8888888888888888,
             "#fdca26"
            ],
            [
             1,
             "#f0f921"
            ]
           ],
           "sequentialminus": [
            [
             0,
             "#0d0887"
            ],
            [
             0.1111111111111111,
             "#46039f"
            ],
            [
             0.2222222222222222,
             "#7201a8"
            ],
            [
             0.3333333333333333,
             "#9c179e"
            ],
            [
             0.4444444444444444,
             "#bd3786"
            ],
            [
             0.5555555555555556,
             "#d8576b"
            ],
            [
             0.6666666666666666,
             "#ed7953"
            ],
            [
             0.7777777777777778,
             "#fb9f3a"
            ],
            [
             0.8888888888888888,
             "#fdca26"
            ],
            [
             1,
             "#f0f921"
            ]
           ]
          },
          "colorway": [
           "#636efa",
           "#EF553B",
           "#00cc96",
           "#ab63fa",
           "#FFA15A",
           "#19d3f3",
           "#FF6692",
           "#B6E880",
           "#FF97FF",
           "#FECB52"
          ],
          "font": {
           "color": "#2a3f5f"
          },
          "geo": {
           "bgcolor": "white",
           "lakecolor": "white",
           "landcolor": "#E5ECF6",
           "showlakes": true,
           "showland": true,
           "subunitcolor": "white"
          },
          "hoverlabel": {
           "align": "left"
          },
          "hovermode": "closest",
          "mapbox": {
           "style": "light"
          },
          "paper_bgcolor": "white",
          "plot_bgcolor": "#E5ECF6",
          "polar": {
           "angularaxis": {
            "gridcolor": "white",
            "linecolor": "white",
            "ticks": ""
           },
           "bgcolor": "#E5ECF6",
           "radialaxis": {
            "gridcolor": "white",
            "linecolor": "white",
            "ticks": ""
           }
          },
          "scene": {
           "xaxis": {
            "backgroundcolor": "#E5ECF6",
            "gridcolor": "white",
            "gridwidth": 2,
            "linecolor": "white",
            "showbackground": true,
            "ticks": "",
            "zerolinecolor": "white"
           },
           "yaxis": {
            "backgroundcolor": "#E5ECF6",
            "gridcolor": "white",
            "gridwidth": 2,
            "linecolor": "white",
            "showbackground": true,
            "ticks": "",
            "zerolinecolor": "white"
           },
           "zaxis": {
            "backgroundcolor": "#E5ECF6",
            "gridcolor": "white",
            "gridwidth": 2,
            "linecolor": "white",
            "showbackground": true,
            "ticks": "",
            "zerolinecolor": "white"
           }
          },
          "shapedefaults": {
           "line": {
            "color": "#2a3f5f"
           }
          },
          "ternary": {
           "aaxis": {
            "gridcolor": "white",
            "linecolor": "white",
            "ticks": ""
           },
           "baxis": {
            "gridcolor": "white",
            "linecolor": "white",
            "ticks": ""
           },
           "bgcolor": "#E5ECF6",
           "caxis": {
            "gridcolor": "white",
            "linecolor": "white",
            "ticks": ""
           }
          },
          "title": {
           "x": 0.05
          },
          "xaxis": {
           "automargin": true,
           "gridcolor": "white",
           "linecolor": "white",
           "ticks": "",
           "title": {
            "standoff": 15
           },
           "zerolinecolor": "white",
           "zerolinewidth": 2
          },
          "yaxis": {
           "automargin": true,
           "gridcolor": "white",
           "linecolor": "white",
           "ticks": "",
           "title": {
            "standoff": 15
           },
           "zerolinecolor": "white",
           "zerolinewidth": 2
          }
         }
        }
       }
      },
      "text/html": [
       "<div>                            <div id=\"22208392-2c8d-46b3-9f26-a5587db7f5c8\" class=\"plotly-graph-div\" style=\"height:525px; width:100%;\"></div>            <script type=\"text/javascript\">                require([\"plotly\"], function(Plotly) {                    window.PLOTLYENV=window.PLOTLYENV || {};                                    if (document.getElementById(\"22208392-2c8d-46b3-9f26-a5587db7f5c8\")) {                    Plotly.newPlot(                        \"22208392-2c8d-46b3-9f26-a5587db7f5c8\",                        [{\"branchvalues\":\"total\",\"customdata\":[[13.0,13.0],[1.0,1.0],[4.0,4.0],[4.0,4.0],[1.0,1.0],[75.0,75.0],[45.0,45.0],[121.0,121.0],[12.0,12.0],[87.0,87.0],[108.0,108.0],[7.0,7.0],[3.0,3.0],[14.0,14.0],[157.0,157.0],[2.0,2.0],[8.0,8.0],[14.0,14.0],[47.0,47.0],[3.0,3.0],[8.0,8.0],[4874.0,4874.0],[6.0,6.0],[11.0,11.0],[28.0,28.0],[539.0,539.0],[995.0,995.0],[2.0,2.0],[1.0,1.0],[46.0,46.0],[11.0,11.0],[117.0,117.0],[11.0,11.0],[835.0,835.0],[1.0,1.0],[8.0,8.0],[6.0,6.0],[68.0,68.0],[3.0,3.0],[1.0,1.0],[2.0,2.0],[1.0,1.0],[4.0,4.0],[7.0,7.0],[14.0,14.0],[11.0,11.0],[225.0,225.0],[13.0,13.0],[13.0,13.0],[5.0,5.0],[325.0,325.0],[37.0,37.0],[1147.0,1147.0],[4.0,4.0],[406.0,406.0],[29.0,29.0],[1095.0,1095.0],[6.0,6.0],[4.0,4.0],[1.0,1.0],[135.0,135.0],[170.0,170.0],[2708.0,2708.0],[12.0,12.0],[1.0,1.0],[110.0,110.0],[165.0,165.0],[240.0,240.0],[3.0,3.0],[120.0,120.0],[61.0,61.0],[4.0,4.0],[62.0,62.0],[198.0,198.0],[426.0,426.0],[838.0,838.0],[669.0,669.0],[724.0,724.0],[178.0,178.0],[651.0,651.0],[605.0,605.0],[1611.0,1611.0],[114.0,114.0],[2.0,2.0],[1443.0,1443.0],[3.0,3.0],[51.0,51.0],[5.0,5.0],[218.0,218.0],[19.0,19.0],[1267.0,1267.0],[634.0,634.0],[26.0,26.0],[50.0,50.0],[5.0,5.0],[53.0,53.0],[31.0,31.0],[11.0,11.0],[916.0,916.0],[741.0,741.0],[18.0,18.0],[38.0,38.0],[1.0,1.0],[62.0,62.0],[16.0,16.0],[6.0,6.0],[21.0,21.0],[107.0,107.0],[10.0,10.0],[279.0,279.0],[45.0,45.0],[1.0,1.0],[139.0,139.0],[2.0,2.0],[252.0,252.0],[529.0,529.0],[1.0,1.0],[54.0,54.0],[126.0,126.0],[9.0,9.0],[55.0,55.0],[20.0,20.0],[40.0,40.0],[13.0,13.0],[138.0,138.0],[7.0,7.0],[1625.0,1625.0],[25.0,25.0],[51.0,51.0],[35.0,35.0],[22.0,22.0],[5.0,5.0],[4.0,4.0],[401.0,401.0],[2106.0,2106.0],[8.0,8.0],[11.0,11.0],[40.0,40.0],[7.0,7.0],[63.0,63.0],[20.0,20.0],[168.0,168.0],[2.0,2.0],[29.0,29.0],[3.0,3.0],[2.0,2.0],[1.0,1.0],[1.0,1.0],[1.0,1.0],[27.0,27.0],[8.0,8.0],[8.0,8.0],[1.0,1.0],[6.0,6.0],[117.0,117.0],[348.0,348.0],[1.0,1.0],[21.0,21.0],[3.0,3.0],[1.0,1.0],[2.0,2.0],[5.0,5.0],[2.0,2.0],[1.0,1.0],[266.0,266.0],[43.0,43.0],[62.0,62.0],[1.0,1.0],[103.0,103.0],[2626.0,2626.0],[4.0,4.0],[17.0,17.0],[178.0,178.0],[1.0,1.0],[1.0,1.0],[504.0,504.0],[230.0,230.0],[163.0,163.0],[4166.0,4166.0],[1.0,1.0],[5.0,5.0],[56.0,56.0],[13.0,13.0],[216.0,216.0],[2.0,2.0],[7.0,7.0],[55.0,55.0],[110.0,110.0],[8.0,8.0],[35.0,35.0],[26.0,26.0],[2.0,2.0],[52.0,52.0],[325.0,325.0],[5.0,5.0],[1.0,1.0],[1.0,1.0],[3.0,3.0],[21.0,21.0],[30.0,30.0],[390.0,390.0],[222.0,222.0],[5.0,5.0],[15.0,15.0],[52.0,52.0],[9.0,9.0],[10.0,10.0],[553.0,553.0],[216.0,216.0],[84.0,84.0],[24.0,24.0],[2.0,2.0],[43.0,43.0],[1.0,1.0],[21.0,21.0],[7.0,7.0],[10.0,10.0],[379.0,379.0],[3.0,3.0],[8.0,8.0],[1.0,1.0],[41.0,41.0],[1.0,1.0],[13.0,13.0],[17.0,17.0],[26.0,26.0],[81.0,81.0],[3.0,3.0],[1.0,1.0],[364.0,364.0],[3.0,3.0],[4384.0,4384.0],[3.0,3.0],[1.0,1.0],[2.0,2.0],[4555.0,4555.0],[17.0,17.0],[49.0,49.0],[8.0,8.0],[24.0,24.0],[189.0,189.0],[5.0,5.0],[50.0,50.0],[2.0,2.0],[3.0,3.0],[1.0,1.0],[1.0,1.0],[323.0,323.0],[519.0,519.0],[2.0,2.0],[409.0,409.0],[41.0,41.0],[206.0,206.0],[129.0,129.0],[2129.1647736249847,2129.1647736249847]],\"domain\":{\"x\":[0.0,1.0],\"y\":[0.0,1.0]},\"hovertemplate\":\"labels=%{label}<br>count_sum_sum=%{value}<br>parent=%{parent}<br>id=%{id}<br>count_sum=%{color}<extra></extra>\",\"ids\":[\"all/ \\u043d\\u0430 \\u043f\\u043e\\u0434\\u0434\\u043e\\u043d\",\"all/\\u0430\\u043a\\u0440\\u0438\\u043b\\u043e\\u0432\\u044b\\u0435\",\"all/\\u0430\\u043a\\u0441\\u0435\\u0441\\u0441\\u0443\\u0430\\u0440\\u044b \\u0434\\u043b\\u044f \\u0431\\u0430\\u043d\\u0438\",\"all/\\u0430\\u043a\\u0441\\u0435\\u0441\\u0441\\u0443\\u0430\\u0440\\u044b \\u0434\\u043b\\u044f \\u0431\\u0438\\u0434\\u0435\",\"all/\\u0430\\u043a\\u0441\\u0435\\u0441\\u0441\\u0443\\u0430\\u0440\\u044b \\u0434\\u043b\\u044f \\u0432\\u0430\\u043d\\u043d\\u043e\\u0439 \\u043a\\u043e\\u043c\\u043d\\u0430\\u0442\\u044b\",\"all/\\u0430\\u043a\\u0441\\u0435\\u0441\\u0441\\u0443\\u0430\\u0440\\u044b \\u0434\\u043b\\u044f \\u0432\\u0430\\u043d\\u043d\\u044b\",\"all/\\u0430\\u043a\\u0441\\u0435\\u0441\\u0441\\u0443\\u0430\\u0440\\u044b \\u0434\\u043b\\u044f \\u0434\\u0443\\u0448\\u0430\",\"all/\\u0430\\u043a\\u0441\\u0435\\u0441\\u0441\\u0443\\u0430\\u0440\\u044b \\u0434\\u043b\\u044f \\u043c\\u043e\\u0435\\u043a\",\"all/\\u0430\\u043a\\u0441\\u0435\\u0441\\u0441\\u0443\\u0430\\u0440\\u044b \\u0434\\u043b\\u044f \\u043f\\u0438\\u0441\\u0441\\u0443\\u0430\\u0440\\u043e\\u0432\",\"all/\\u0430\\u043a\\u0441\\u0435\\u0441\\u0441\\u0443\\u0430\\u0440\\u044b \\u0434\\u043b\\u044f \\u0443\\u043d\\u0438\\u0442\\u0430\\u0437\\u043e\\u0432\",\"all/\\u0430\\u043a\\u0441\\u0435\\u0441\\u0441\\u0443\\u0430\\u0440\\u044b \\u043d\\u0430 \\u0440\\u0430\\u043a\\u043e\\u0432\\u0438\\u043d\\u0443\",\"all/\\u0431\\u0430\\u043a\\u0438 \\u0438 \\u0435\\u043c\\u043a\\u043e\\u0441\\u0442\\u0438\",\"all/\\u0431\\u0430\\u043d\\u043d\\u044b\\u0439 \\u0442\\u0435\\u043a\\u0441\\u0442\\u0438\\u043b\\u044c\",\"all/\\u0431\\u0430\\u0441\\u0441\\u0435\\u0439\\u043d\\u044b\",\"all/\\u0431\\u0438\\u0434\\u0435\",\"all/\\u0431\\u0438\\u043e\\u0442\\u0443\\u0430\\u043b\\u0435\\u0442\\u044b\",\"all/\\u0431\\u043e\\u043a\\u0441\\u044b \\u0434\\u043b\\u044f \\u0441\\u0430\\u043b\\u0444\\u0435\\u0442\\u043e\\u043a\",\"all/\\u0431\\u043e\\u043d\\u0434\\u0430\\u0440\\u043d\\u044b\\u0435 \\u0438\\u0437\\u0434\\u0435\\u043b\\u0438\\u044f\",\"all/\\u0431\\u043e\\u0440\\u0434\\u044e\\u0440\\u044b\",\"all/\\u0431\\u0443\\u043c\\u0430\\u0436\\u043d\\u044b\\u0435 \\u043f\\u043e\\u043b\\u043e\\u0442\\u0435\\u043d\\u0446\\u0430\",\"all/\\u0431\\u044b\\u0442\\u043e\\u0432\\u0430\\u044f \\u0445\\u0438\\u043c\\u0438\\u044f\",\"all/\\u0432\\u0430\\u043d\\u043d\\u044b\",\"all/\\u0432\\u0435\\u0434\\u0440\\u0430\",\"all/\\u0432\\u0435\\u043d\\u0438\\u043a\\u0438 \\u0434\\u043b\\u044f \\u0431\\u0430\\u043d\\u0438 \\u0438 \\u0441\\u0430\\u0443\\u043d\\u044b\",\"all/\\u0432\\u0435\\u0448\\u0430\\u043b\\u043a\\u0438 \\u0434\\u043b\\u044f \\u0432\\u0430\\u043d\\u043d\\u043e\\u0439 \\u043a\\u043e\\u043c\\u043d\\u0430\\u0442\\u044b\",\"all/\\u0432\\u043e\\u0434\\u043e\\u043d\\u0430\\u0433\\u0440\\u0435\\u0432\\u0430\\u0442\\u0435\\u043b\\u0438\",\"all/\\u0432\\u0441\\u0435 \\u043a\\u0430\\u0442\\u0435\\u0433\\u043e\\u0440\\u0438\\u0438\",\"all/\\u0432\\u0441\\u0442\\u0440\\u0430\\u0438\\u0432\\u0430\\u0435\\u043c\\u044b\\u0435\",\"all/\\u0432\\u0441\\u0442\\u0440\\u0430\\u0438\\u0432\\u0430\\u0435\\u043c\\u044b\\u0435 \\u0434\\u0443\\u0448\\u0435\\u0432\\u044b\\u0435 \\u043a\\u043e\\u043c\\u043f\\u043b\\u0435\\u043a\\u0442\\u044b\",\"all/\\u0432\\u0441\\u0442\\u0440\\u0430\\u0438\\u0432\\u0430\\u0435\\u043c\\u044b\\u0435 \\u0434\\u0443\\u0448\\u0435\\u0432\\u044b\\u0435 \\u0441\\u0438\\u0441\\u0442\\u0435\\u043c\\u044b \\u0434\\u043b\\u044f \\u0432\\u0430\\u043d\\u043d\\u044b\",\"all/\\u0432\\u0441\\u0442\\u0440\\u0430\\u0438\\u0432\\u0430\\u0435\\u043c\\u044b\\u0435 \\u0441\\u0438\\u0441\\u0442\\u0435\\u043c\\u044b \\u0434\\u043b\\u044f&nbsp;\\u0434\\u0443\\u0448\\u0430\",\"all/\\u0432\\u044b\\u0442\\u044f\\u0436\\u043d\\u044b\\u0435 \\u0432\\u0435\\u043d\\u0442\\u0438\\u043b\\u044f\\u0442\\u043e\\u0440\\u044b\",\"all/\\u0433\\u0430\\u0440\\u043d\\u0438\\u0442\\u0443\\u0440\\u044b \\u0434\\u043b\\u044f \\u0432\\u0430\\u043d\\u043d\\u043e\\u0439 \\u043a\\u043e\\u043c\\u043d\\u0430\\u0442\\u044b\",\"all/\\u0433\\u0438\\u0433\\u0438\\u0435\\u043d\\u0438\\u0447\\u0435\\u0441\\u043a\\u0438\\u0435 \\u0434\\u0443\\u0448\\u0438\",\"all/\\u0433\\u0438\\u0433\\u0440\\u043e\\u043c\\u0435\\u0442\\u0440\\u044b\",\"all/\\u0433\\u043b\\u0430\\u0434\\u0438\\u043b\\u044c\\u043d\\u044b\\u0435 \\u0434\\u043e\\u0441\\u043a\\u0438\",\"all/\\u0433\\u043e\\u0440\\u0448\\u043a\\u0438 \\u0438 \\u043a\\u0430\\u0448\\u043f\\u043e\",\"all/\\u0433\\u043e\\u0444\\u0440\\u044b \\u0438 \\u043e\\u0442\\u0432\\u043e\\u0434\\u044b\",\"all/\\u0434\\u0430\\u0447\\u043d\\u044b\\u0435 \\u0434\\u0443\\u0448\\u0438\",\"all/\\u0434\\u0432\\u0435\\u0440\\u0438\",\"all/\\u0434\\u0435\\u0440\\u0436\\u0430\\u0442\\u0435\\u043b\\u0438 \\u0434\\u043b\\u044f \\u0433\\u0430\\u0437\\u0435\\u0442\",\"all/\\u0434\\u0435\\u0440\\u0436\\u0430\\u0442\\u0435\\u043b\\u0438 \\u0434\\u043b\\u044f \\u0437\\u0430\\u043f\\u0430\\u0441\\u043d\\u044b\\u0445 \\u0440\\u0443\\u043b\\u043e\\u043d\\u043e\\u0432\",\"all/\\u0434\\u0435\\u0440\\u0436\\u0430\\u0442\\u0435\\u043b\\u0438 \\u0434\\u043b\\u044f \\u0442\\u0443\\u0430\\u043b\\u0435\\u0442\\u043d\\u043e\\u0439 \\u0431\\u0443\\u043c\\u0430\\u0433\\u0438\",\"all/\\u0434\\u0435\\u0440\\u0436\\u0430\\u0442\\u0435\\u043b\\u0438 \\u0434\\u043b\\u044f \\u0444\\u0435\\u043d\\u0430\",\"all/\\u0434\\u0435\\u0440\\u0436\\u0430\\u0442\\u0435\\u043b\\u0438 \\u0437\\u0430\\u043f\\u0430\\u0441\\u043d\\u044b\\u0445 \\u0440\\u0443\\u043b\\u043e\\u043d\\u043e\\u0432\",\"all/\\u0434\\u0435\\u0440\\u0436\\u0430\\u0442\\u0435\\u043b\\u0438 \\u043e\\u0441\\u0432\\u0435\\u0436\\u0438\\u0442\\u0435\\u043b\\u044f \\u0432\\u043e\\u0437\\u0434\\u0443\\u0445\\u0430\",\"all/\\u0434\\u0435\\u0440\\u0436\\u0430\\u0442\\u0435\\u043b\\u0438 \\u0442\\u0443\\u0430\\u043b\\u0435\\u0442\\u043d\\u043e\\u0439 \\u0431\\u0443\\u043c\\u0430\\u0433\\u0438\",\"all/\\u0434\\u0438\\u0441\\u043f\\u0435\\u043d\\u0441\\u0435\\u0440\\u044b\",\"all/\\u0434\\u0438\\u0441\\u043f\\u0435\\u043d\\u0441\\u0435\\u0440\\u044b \\u0432\\u0430\\u0442\\u043d\\u044b\\u0445 \\u0434\\u0438\\u0441\\u043a\\u043e\\u0432\",\"all/\\u0434\\u043b\\u044f \\u0431\\u0443\\u043c\\u0430\\u0436\\u043d\\u044b\\u0445 \\u043f\\u043e\\u043b\\u043e\\u0442\\u0435\\u043d\\u0435\\u0446\",\"all/\\u0434\\u043b\\u044f \\u0432\\u0430\\u043d\\u043d\\u043e\\u0439 \\u043a\\u043e\\u043c\\u043d\\u0430\\u0442\\u044b\",\"all/\\u0434\\u043b\\u044f \\u0432\\u0430\\u043d\\u043d\\u044b\",\"all/\\u0434\\u043b\\u044f \\u0432\\u0430\\u043d\\u043d\\u044b \\u0441 \\u0434\\u0443\\u0448\\u0435\\u043c\",\"all/\\u0434\\u043b\\u044f \\u0433\\u043e\\u0441\\u0442\\u0438\\u043d\\u043e\\u0439\",\"all/\\u0434\\u043b\\u044f \\u0434\\u0443\\u0448\\u0430\",\"all/\\u0434\\u043b\\u044f \\u043a\\u0443\\u0445\\u043d\\u0438\",\"all/\\u0434\\u043b\\u044f \\u043a\\u0443\\u0445\\u043e\\u043d\\u043d\\u043e\\u0439 \\u043c\\u043e\\u0439\\u043a\\u0438\",\"all/\\u0434\\u043b\\u044f \\u043c\\u044b\\u043b\\u0430\",\"all/\\u0434\\u043b\\u044f \\u043e\\u0431\\u0449\\u0435\\u0441\\u0442\\u0432\\u0435\\u043d\\u043d\\u044b\\u0445 \\u043c\\u0435\\u0441\\u0442\",\"all/\\u0434\\u043b\\u044f \\u043e\\u0441\\u0432\\u0435\\u0436\\u0438\\u0442\\u0435\\u043b\\u0435\\u0439 \\u0432\\u043e\\u0437\\u0434\\u0443\\u0445\\u0430\",\"all/\\u0434\\u043b\\u044f \\u043f\\u043e\\u043b\\u0430\",\"all/\\u0434\\u043b\\u044f \\u043f\\u043e\\u043b\\u043e\\u0442\\u0435\\u043d\\u0435\\u0446\",\"all/\\u0434\\u043b\\u044f \\u0440\\u0430\\u043a\\u043e\\u0432\\u0438\\u043d\\u044b\",\"all/\\u0434\\u043b\\u044f \\u0441\\u0430\\u0434\\u0430 \\u0438 \\u0443\\u043b\\u0438\\u0446\\u044b\",\"all/\\u0434\\u043b\\u044f \\u0441\\u0430\\u043b\\u0444\\u0435\\u0442\\u043e\\u043a\",\"all/\\u0434\\u043b\\u044f \\u0441\\u0442\\u0435\\u043d\",\"all/\\u0434\\u043b\\u044f \\u0441\\u0442\\u0435\\u043d \\u0438 \\u043f\\u043e\\u043b\\u0430\",\"all/\\u0434\\u043b\\u044f \\u0442\\u0443\\u0430\\u043b\\u0435\\u0442\\u0430\",\"all/\\u0434\\u043b\\u044f \\u0442\\u0443\\u0430\\u043b\\u0435\\u0442\\u043d\\u043e\\u0439 \\u0431\\u0443\\u043c\\u0430\\u0433\\u0438\",\"all/\\u0434\\u043e\\u0437\\u0430\\u0442\\u043e\\u0440\\u044b\",\"all/\\u0434\\u043e\\u043d\\u043d\\u044b\\u0435 \\u043a\\u043b\\u0430\\u043f\\u0430\\u043d\\u044b\",\"all/\\u0434\\u043e\\u043d\\u043d\\u044b\\u0435 \\u043a\\u043b\\u0430\\u043f\\u0430\\u043d\\u044b \\u0434\\u043b\\u044f \\u0440\\u0430\\u043a\\u043e\\u0432\\u0438\\u043d\",\"all/\\u0434\\u0443\\u0448 \\u043d\\u0430\\u0441\\u0442\\u0435\\u043d\\u043d\\u043e\\u0433\\u043e \\u043c\\u043e\\u043d\\u0442\\u0430\\u0436\\u0430\",\"all/\\u0434\\u0443\\u0448\\u0435\\u0432\\u044b\\u0435 \\u0431\\u043e\\u043a\\u0441\\u044b\",\"all/\\u0434\\u0443\\u0448\\u0435\\u0432\\u044b\\u0435 \\u0433\\u0430\\u0440\\u043d\\u0438\\u0442\\u0443\\u0440\\u044b\",\"all/\\u0434\\u0443\\u0448\\u0435\\u0432\\u044b\\u0435 \\u0434\\u0432\\u0435\\u0440\\u0438 \\u0432 \\u043d\\u0438\\u0448\\u0443\",\"all/\\u0434\\u0443\\u0448\\u0435\\u0432\\u044b\\u0435 \\u043a\\u0430\\u0431\\u0438\\u043d\\u044b\",\"all/\\u0434\\u0443\\u0448\\u0435\\u0432\\u044b\\u0435 \\u043a\\u043e\\u043c\\u043f\\u043b\\u0435\\u043a\\u0442\\u044b\",\"all/\\u0434\\u0443\\u0448\\u0435\\u0432\\u044b\\u0435 \\u043b\\u043e\\u0442\\u043a\\u0438\",\"all/\\u0434\\u0443\\u0448\\u0435\\u0432\\u044b\\u0435 \\u043f\\u0435\\u0440\\u0435\\u0433\\u043e\\u0440\\u043e\\u0434\\u043a\\u0438\",\"all/\\u0434\\u0443\\u0448\\u0435\\u0432\\u044b\\u0435 \\u043f\\u043e\\u0434\\u0434\\u043e\\u043d\\u044b\",\"all/\\u0434\\u0443\\u0448\\u0435\\u0432\\u044b\\u0435 \\u0441\\u0442\\u043e\\u0439\\u043a\\u0438\",\"all/\\u0434\\u0443\\u0448\\u0435\\u0432\\u044b\\u0435 \\u0442\\u0440\\u0430\\u043f\\u044b\",\"all/\\u0434\\u0443\\u0448\\u0435\\u0432\\u044b\\u0435 \\u0443\\u0433\\u043b\\u044b\",\"all/\\u0434\\u0443\\u0448\\u0435\\u0432\\u044b\\u0435 \\u0443\\u0433\\u043e\\u043b\\u043a\\u0438\",\"all/\\u0434\\u044b\\u043c\\u043e\\u0445\\u043e\\u0434\\u044b\",\"all/\\u0435\\u0440\\u0448\\u0438\\u043a\\u0438\",\"all/\\u0437\\u0430\\u043f\\u0430\\u0440\\u043d\\u0438\\u043a\\u0438\",\"all/\\u0437\\u0430\\u043f\\u043e\\u0440\\u043d\\u0430\\u044f \\u0430\\u0440\\u043c\\u0430\\u0442\\u0443\\u0440\\u0430\",\"all/\\u0437\\u0430\\u0442\\u0438\\u0440\\u043a\\u0438 \\u0438 \\u043a\\u0440\\u0435\\u0441\\u0442\\u0438\\u043a\\u0438\",\"all/\\u0437\\u0435\\u0440\\u043a\\u0430\\u043b\\u0430\",\"all/\\u0437\\u0435\\u0440\\u043a\\u0430\\u043b\\u0430-\\u0448\\u043a\\u0430\\u0444\\u044b\",\"all/\\u0438\\u0437\\u043c\\u0435\\u043b\\u044c\\u0447\\u0438\\u0442\\u0435\\u043b\\u0438 \\u043e\\u0442\\u0445\\u043e\\u0434\\u043e\\u0432\",\"all/\\u0438\\u0437\\u043c\\u0435\\u043b\\u044c\\u0447\\u0438\\u0442\\u0435\\u043b\\u044c \\u043e\\u0442\\u0445\\u043e\\u0434\\u043e\\u0432\",\"all/\\u0438\\u0437\\u043c\\u0435\\u0440\\u0438\\u0442\\u0435\\u043b\\u044c\\u043d\\u044b\\u0435 \\u043f\\u0440\\u0438\\u0431\\u043e\\u0440\\u044b\",\"all/\\u0438\\u043d\\u0441\\u0442\\u0430\\u043b\\u043b\\u044f\\u0446\\u0438\\u0438 \\u0434\\u043b\\u044f \\u0431\\u0438\\u0434\\u0435\",\"all/\\u0438\\u043d\\u0441\\u0442\\u0430\\u043b\\u043b\\u044f\\u0446\\u0438\\u0438 \\u0434\\u043b\\u044f \\u043f\\u0438\\u0441\\u0441\\u0443\\u0430\\u0440\\u043e\\u0432\",\"all/\\u0438\\u043d\\u0441\\u0442\\u0430\\u043b\\u043b\\u044f\\u0446\\u0438\\u0438 \\u0434\\u043b\\u044f \\u0440\\u0430\\u043a\\u043e\\u0432\\u0438\\u043d\",\"all/\\u0438\\u043d\\u0441\\u0442\\u0430\\u043b\\u043b\\u044f\\u0446\\u0438\\u0438 \\u0434\\u043b\\u044f \\u0443\\u043d\\u0438\\u0442\\u0430\\u0437\\u043e\\u0432\",\"all/\\u0438\\u043d\\u0441\\u0442\\u0430\\u043b\\u043b\\u044f\\u0446\\u0438\\u0438 \\u0438 \\u043a\\u043d\\u043e\\u043f\\u043a\\u0438 \\u0441\\u043c\\u044b\\u0432\\u0430\",\"all/\\u043a\\u0430\\u043c\\u0438\\u043d\\u044b\",\"all/\\u043a\\u0430\\u0440\\u043d\\u0438\\u0437\\u044b\",\"all/\\u043a\\u0430\\u0440\\u043d\\u0438\\u0437\\u044b \\u0434\\u043b\\u044f \\u0432\\u0430\\u043d\\u043d\\u043e\\u0439\",\"all/\\u043a\\u0430\\u0440\\u043d\\u0438\\u0437\\u044b \\u0434\\u043b\\u044f \\u0448\\u0442\\u043e\\u0440\\u043e\\u043a\",\"all/\\u043a\\u0430\\u0440\\u0442\\u0440\\u0438\\u0434\\u0436\\u0438 \\u043a \\u043c\\u0430\\u0433\\u0438\\u0441\\u0442\\u0440\\u0430\\u043b\\u044c\\u043d\\u044b\\u043c \\u0444\\u0438\\u043b\\u044c\\u0442\\u0440\\u0430\\u043c\",\"all/\\u043a\\u0430\\u0440\\u0442\\u0440\\u0438\\u0434\\u0436\\u0438 \\u043a \\u0444\\u0438\\u043b\\u044c\\u0442\\u0440\\u0430\\u043c \\u043f\\u0438\\u0442\\u044c\\u0435\\u0432\\u043e\\u0439 \\u0432\\u043e\\u0434\\u044b\",\"all/\\u043a\\u0435\\u0440\\u0430\\u043c\\u0438\\u0447\\u0435\\u0441\\u043a\\u0430\\u044f\",\"all/\\u043a\\u0435\\u0440\\u0430\\u043c\\u043e\\u0433\\u0440\\u0430\\u043d\\u0438\\u0442\",\"all/\\u043a\\u043b\\u0438\\u043d\\u043a\\u0435\\u0440\\u043d\\u0430\\u044f\",\"all/\\u043a\\u043d\\u043e\\u043f\\u043a\\u0438 \\u0441\\u043c\\u044b\\u0432\\u0430\",\"all/\\u043a\\u043e\\u0432\\u0440\\u0438\\u043a\\u0438\",\"all/\\u043a\\u043e\\u0432\\u0448\\u0438\",\"all/\\u043a\\u043e\\u043c\\u043e\\u0434\\u044b\",\"all/\\u043a\\u043e\\u043c\\u043e\\u0434\\u044b \\u0434\\u043b\\u044f \\u0432\\u0430\\u043d\\u043d\\u043e\\u0439 \\u043a\\u043e\\u043c\\u043d\\u0430\\u0442\\u044b\",\"all/\\u043a\\u043e\\u043c\\u043f\\u043b\\u0435\\u043a\\u0442 \\u0434\\u043b\\u044f \\u0432\\u0430\\u043d\\u043d\\u044b\",\"all/\\u043a\\u043e\\u043c\\u043f\\u043b\\u0435\\u043a\\u0442 \\u0434\\u043b\\u044f \\u0434\\u0443\\u0448\\u0430\",\"all/\\u043a\\u043e\\u043c\\u043f\\u043e\\u0441\\u0442\\u0435\\u0440\\u044b\",\"all/\\u043a\\u043e\\u043d\\u0434\\u0438\\u0446\\u0438\\u043e\\u043d\\u0435\\u0440\\u044b\",\"all/\\u043a\\u043e\\u043d\\u0441\\u043e\\u043b\\u0438 \\u0441 \\u0440\\u0430\\u043a\\u043e\\u0432\\u0438\\u043d\\u043e\\u0439\",\"all/\\u043a\\u043e\\u043d\\u0442\\u0435\\u0439\\u043d\\u0435\\u0440\\u044b\",\"all/\\u043a\\u043e\\u0440\\u0437\\u0438\\u043d\\u044b \\u0434\\u043b\\u044f \\u0431\\u0435\\u043b\\u044c\\u044f\",\"all/\\u043a\\u043e\\u0441\\u043c\\u0435\\u0442\\u0438\\u0447\\u0435\\u0441\\u043a\\u0438\\u0435 \\u0437\\u0435\\u0440\\u043a\\u0430\\u043b\\u0430\",\"all/\\u043a\\u043e\\u0442\\u043b\\u044b\",\"all/\\u043a\\u0440\\u0430\\u043d\\u044b \\u0434\\u043b\\u044f \\u043f\\u0438\\u0442\\u044c\\u0435\\u0432\\u043e\\u0439 \\u0432\\u043e\\u0434\\u044b\",\"all/\\u043a\\u0440\\u044e\\u0447\\u043a\\u0438 \\u0434\\u043b\\u044f \\u0432\\u0430\\u043d\\u043d\\u043e\\u0439 \\u043a\\u043e\\u043c\\u043d\\u0430\\u0442\\u044b\",\"all/\\u043a\\u0443\\u043b\\u0435\\u0440\\u044b \\u0438 \\u043f\\u0443\\u0440\\u0438\\u0444\\u0430\\u0439\\u0435\\u0440\\u044b\",\"all/\\u043a\\u0443\\u0445\\u043e\\u043d\\u043d\\u044b\\u0435 \\u043c\\u043e\\u0439\\u043a\\u0438\",\"all/\\u043c\\u0430\\u0433\\u0438\\u0441\\u0442\\u0440\\u0430\\u043b\\u044c\\u043d\\u044b\\u0435 \\u0444\\u0438\\u043b\\u044c\\u0442\\u0440\\u044b\",\"all/\\u043c\\u0430\\u0433\\u0438\\u0441\\u0442\\u0440\\u0430\\u043b\\u044c\\u043d\\u044b\\u0435 \\u0444\\u0438\\u043b\\u044c\\u0442\\u0440\\u044b \\u0433\\u0440\\u0443\\u0431\\u043e\\u0439 \\u043e\\u0447\\u0438\\u0441\\u0442\\u043a\\u0438\",\"all/\\u043c\\u0430\\u0433\\u0438\\u0441\\u0442\\u0440\\u0430\\u043b\\u044c\\u043d\\u044b\\u0435 \\u0444\\u0438\\u043b\\u044c\\u0442\\u0440\\u044b \\u0442\\u043e\\u043d\\u043a\\u043e\\u0439 \\u043e\\u0447\\u0438\\u0441\\u0442\\u043a\\u0438\",\"all/\\u043c\\u0435\\u0431\\u0435\\u043b\\u044c \\u0434\\u043b\\u044f \\u0431\\u0430\\u043d\\u0438\",\"all/\\u043c\\u0435\\u0431\\u0435\\u043b\\u044c \\u0434\\u043b\\u044f \\u0432\\u0430\\u043d\\u043d\\u043e\\u0439 \\u043a\\u043e\\u043c\\u043d\\u0430\\u0442\\u044b\",\"all/\\u043c\\u0435\\u0431\\u0435\\u043b\\u044c \\u043f\\u043e\\u0434 \\u0441\\u0442\\u0438\\u0440\\u0430\\u043b\\u044c\\u043d\\u0443\\u044e \\u043c\\u0430\\u0448\\u0438\\u043d\\u0443\",\"all/\\u043c\\u0435\\u0431\\u0435\\u043b\\u044c \\u043f\\u043e\\u0434 \\u0441\\u0442\\u0438\\u0440\\u0430\\u043b\\u044c\\u043d\\u0443\\u044e \\u043c\\u0430\\u0448\\u0438\\u043d\\u0443 \\u0441 \\u0440\\u0430\\u043a\\u043e\\u0432\\u0438\\u043d\\u043e\\u0439\",\"all/\\u043c\\u0435\\u0431\\u0435\\u043b\\u044c\\u043d\\u044b\\u0435 \\u0433\\u0430\\u0440\\u043d\\u0438\\u0442\\u0443\\u0440\\u044b\",\"all/\\u043c\\u0435\\u0445\\u0430\\u043d\\u0438\\u0437\\u043c\\u044b \\u0441\\u043c\\u044b\\u0432\\u0430 \\u0434\\u043b\\u044f &nbsp; \\u043f\\u0438\\u0441\\u0441\\u0443\\u0430\\u0440\\u043e\\u0432\",\"all/\\u043c\\u043e\\u0439\\u043a\\u0438 \\u0432\\u043e\\u0437\\u0434\\u0443\\u0445\\u0430\",\"all/\\u043c\\u0443\\u0441\\u043e\\u0440\\u043d\\u044b\\u0435 \\u0432\\u0435\\u0434\\u0440\\u0430\",\"all/\\u043c\\u0443\\u0441\\u043e\\u0440\\u043d\\u044b\\u0435 \\u0432\\u0435\\u0434\\u0440\\u0430 \",\"all/\\u043c\\u044b\\u043b\\u044c\\u043d\\u0438\\u0446\\u044b\",\"all/\\u043d\\u0430 \\u043f\\u043e\\u043b\",\"all/\\u043d\\u0430\\u0431\\u043e\\u0440\\u044b \\u0430\\u043a\\u0441\\u0435\\u0441\\u0441\\u0443\\u0430\\u0440\\u043e\\u0432\",\"all/\\u043d\\u0430\\u0431\\u043e\\u0440\\u044b \\u0430\\u043a\\u0441\\u0435\\u0441\\u0441\\u0443\\u0430\\u0440\\u043e\\u0432 \\u0434\\u043b\\u044f \\u0432\\u0430\\u043d\\u043d\\u043e\\u0439\",\"all/\\u043d\\u0430\\u0431\\u043e\\u0440\\u044b \\u0434\\u0435\\u0440\\u0436\\u0430\\u0442\\u0435\\u043b\\u0435\\u0439 \\u043d\\u0430 \\u0441\\u0442\\u043e\\u0439\\u043a\\u0435\",\"all/\\u043d\\u0430\\u0431\\u043e\\u0440\\u044b \\u0434\\u043b\\u044f \\u0431\\u0430\\u043d\\u0438\",\"all/\\u043d\\u0430\\u043a\\u043b\\u0430\\u0434\\u043d\\u044b\\u0435\",\"all/\\u043d\\u0430\\u043a\\u043e\\u043f\\u0438\\u0442\\u0435\\u043b\\u044c\\u043d\\u044b\\u0435\",\"all/\\u043d\\u0430\\u043a\\u043e\\u043f\\u0438\\u0442\\u0435\\u043b\\u044c\\u043d\\u044b\\u0435 (\\u0431\\u043e\\u0439\\u043b\\u0435\\u0440\\u044b)\",\"all/\\u043d\\u0430\\u043f\\u043e\\u043b\\u044c\\u043d\\u044b\\u0435\",\"all/\\u043d\\u0430\\u0441\\u043e\\u0441\\u044b\",\"all/\\u043e\\u0441\\u0443\\u0448\\u0438\\u0442\\u0435\\u043b\\u0438 \\u0432\\u043e\\u0437\\u0434\\u0443\\u0445\\u0430\",\"all/\\u043e\\u0447\\u0438\\u0441\\u0442\\u0438\\u0442\\u0435\\u043b\\u0438 \\u0432\\u043e\\u0437\\u0434\\u0443\\u0445\\u0430\",\"all/\\u043e\\u0447\\u0438\\u0441\\u0442\\u0438\\u0442\\u0435\\u043b\\u044c \\u0434\\u043b\\u044f \\u0441\\u0442\\u0435\\u043a\\u043e\\u043b\",\"all/\\u043f\\u0435\\u0440\\u0435\\u0433\\u043e\\u0440\\u043e\\u0434\\u043a\\u0438 \\u0434\\u043b\\u044f \\u043f\\u0438\\u0441\\u0441\\u0443\\u0430\\u0440\\u043e\\u0432\",\"all/\\u043f\\u0438\\u0441\\u0441\\u0443\\u0430\\u0440\\u044b\",\"all/\\u043f\\u043b\\u0438\\u0442\\u043a\\u0430\",\"all/\\u043f\\u043b\\u0438\\u0442\\u043a\\u0430 \\u0434\\u043b\\u044f \\u0432\\u0430\\u043d\\u043d\\u043e\\u0439 \\u043a\\u043e\\u043c\\u043d\\u0430\\u0442\\u044b\",\"all/\\u043f\\u043b\\u0438\\u0442\\u043a\\u0430-\\u043c\\u043e\\u0437\\u0430\\u0438\\u043a\\u0430\",\"all/\\u043f\\u043e \\u043d\\u0430\\u0437\\u043d\\u0430\\u0447\\u0435\\u043d\\u0438\\u044e\",\"all/\\u043f\\u043e \\u043f\\u043e\\u043c\\u0435\\u0449\\u0435\\u043d\\u0438\\u044e\",\"all/\\u043f\\u043e\\u0434\\u0433\\u043e\\u043b\\u043e\\u0432\\u043d\\u0438\\u043a\\u0438\",\"all/\\u043f\\u043e\\u0434\\u0441\\u0442\\u0430\\u0432\\u043a\\u0438\",\"all/\\u043f\\u043e\\u043b\\u0438\\u0432 \\u0438 \\u043c\\u043e\\u0439\\u043a\\u0430\",\"all/\\u043f\\u043e\\u043b\\u043a\\u0438\",\"all/\\u043f\\u043e\\u043b\\u043a\\u0438 \\u0434\\u043b\\u044f \\u0434\\u0443\\u0448\\u0430\",\"all/\\u043f\\u043e\\u043b\\u043a\\u0438 \\u0434\\u043b\\u044f \\u043f\\u043e\\u043b\\u043e\\u0442\\u0435\\u043d\\u0435\\u0446\",\"all/\\u043f\\u043e\\u043b\\u043a\\u0438 \\u043f\\u043e\\u0434 \\u0437\\u0435\\u0440\\u043a\\u0430\\u043b\\u043e\",\"all/\\u043f\\u043e\\u043b\\u043e\\u0442\\u0435\\u043d\\u0446\\u0430\",\"all/\\u043f\\u043e\\u043b\\u043e\\u0442\\u0435\\u043d\\u0446\\u0435\\u0434\\u0435\\u0440\\u0436\\u0430\\u0442\\u0435\\u043b\\u0438\",\"all/\\u043f\\u043e\\u043b\\u043e\\u0442\\u0435\\u043d\\u0446\\u0435\\u0441\\u0443\\u0448\\u0438\\u0442\\u0435\\u043b\\u0438\",\"all/\\u043f\\u043e\\u0440\\u0442\\u0430\\u043b\\u044b \\u0434\\u043b\\u044f \\u043a\\u0430\\u043c\\u0438\\u043d\\u0430\",\"all/\\u043f\\u043e\\u0440\\u0443\\u0447\\u043d\\u0438\",\"all/\\u043f\\u043e\\u044d\\u043b\\u0435\\u043c\\u0435\\u043d\\u0442\\u043d\\u043e\",\"all/\\u043f\\u0440\\u043e\\u0442\\u0438\\u0440\\u043e\\u0447\\u043d\\u044b\\u0439 \\u043c\\u0430\\u0442\\u0435\\u0440\\u0438\\u0430\\u043b\",\"all/\\u0440\\u0430\\u0434\\u0438\\u0430\\u0442\\u043e\\u0440\\u044b\",\"all/\\u0440\\u0430\\u0434\\u0438\\u0430\\u0442\\u043e\\u0440\\u044b \\u0438 \\u043e\\u0431\\u043e\\u0433\\u0440\\u0435\\u0432\\u0430\\u0442\\u0435\\u043b\\u0438\",\"all/\\u0440\\u0430\\u043a\\u043e\\u0432\\u0438\\u043d\\u0430 \\u043d\\u0430 \\u0441\\u0442\\u0438\\u0440\\u0430\\u043b\\u044c\\u043d\\u0443\\u044e \\u043c\\u0430\\u0448\\u0438\\u043d\\u0443\",\"all/\\u0440\\u0430\\u043a\\u043e\\u0432\\u0438\\u043d\\u0430 \\u0441 \\u043f\\u044c\\u0435\\u0434\\u0435\\u0441\\u0442\\u0430\\u043b\\u043e\\u043c\",\"all/\\u0440\\u0430\\u043a\\u043e\\u0432\\u0438\\u043d\\u044b\",\"all/\\u0440\\u0430\\u043a\\u043e\\u0432\\u0438\\u043d\\u044b \\u0441 \\u043f\\u044c\\u0435\\u0434\\u0435\\u0441\\u0442\\u0430\\u043b\\u043e\\u043c\",\"all/\\u0440\\u0430\\u0441\\u0445\\u043e\\u0434\\u043d\\u044b\\u0435 \\u043c\\u0430\\u0442\\u0435\\u0440\\u0438\\u0430\\u043b\\u044b\",\"all/\\u0440\\u0435\\u0432\\u0438\\u0437\\u0438\\u043e\\u043d\\u043d\\u044b\\u0435 \\u043b\\u044e\\u043a\\u0438\",\"all/\\u0440\\u0435\\u0432\\u0438\\u0437\\u0438\\u043e\\u043d\\u043d\\u044b\\u044b\\u0435 \\u043b\\u044e\\u043a\\u0438\",\"all/\\u0440\\u044f\\u0434\\u043e\\u043c \\u0441 \\u0440\\u0430\\u043a\\u043e\\u0432\\u0438\\u043d\\u043e\\u0439\",\"all/\\u0441 \\u043f\\u043e\\u0434\\u0441\\u0432\\u0435\\u0442\\u043a\\u043e\\u0439\",\"all/\\u0441\\u0430\\u043d\\u0442\\u0435\\u0445\\u043d\\u0438\\u043a\\u0430 \\u0434\\u043b\\u044f \\u0434\\u0430\\u0447\\u0438\",\"all/\\u0441\\u0430\\u043d\\u0442\\u0435\\u0445\\u043d\\u0438\\u0447\\u0435\\u0441\\u043a\\u0438\\u0435 \\u0448\\u043a\\u0430\\u0444\\u044b\",\"all/\\u0441\\u0432\\u0435\\u0442\\u0438\\u043b\\u044c\\u043d\\u0438\\u043a\\u0438\",\"all/\\u0441\\u0435\\u043d\\u0441\\u043e\\u0440\\u043d\\u044b\\u0435 \\u0441\\u043c\\u0435\\u0441\\u0438\\u0442\\u0435\\u043b\\u0438\",\"all/\\u0441\\u0438\\u0434\\u0435\\u043d\\u044c\\u044f\",\"all/\\u0441\\u0438\\u0434\\u0435\\u043d\\u044c\\u044f \\u0434\\u043b\\u044f \\u0434\\u0443\\u0448\\u0430\",\"all/\\u0441\\u0438\\u0434\\u0435\\u043d\\u044c\\u044f \\u043d\\u0430 \\u0432\\u0430\\u043d\\u043d\\u0443\",\"all/\\u0441\\u0438\\u0441\\u0442\\u0435\\u043c\\u044b \\u0437\\u0430\\u0449\\u0438\\u0442\\u044b \\u043e\\u0442 \\u043f\\u0440\\u043e\\u0442\\u0435\\u0447\\u0435\\u043a\",\"all/\\u0441\\u0438\\u0444\\u043e\\u043d\\u044b\",\"all/\\u0441\\u0438\\u0444\\u043e\\u043d\\u044b \\u0434\\u043b\\u044f \\u0431\\u0438\\u0434\\u0435\",\"all/\\u0441\\u0438\\u0444\\u043e\\u043d\\u044b \\u0434\\u043b\\u044f \\u0434\\u0443\\u0448\\u0435\\u0432\\u044b\\u0445 \\u043f\\u043e\\u0434\\u0434\\u043e\\u043d\\u043e\\u0432\",\"all/\\u0441\\u0438\\u0444\\u043e\\u043d\\u044b \\u0434\\u043b\\u044f \\u043c\\u043e\\u0435\\u043a\",\"all/\\u0441\\u0438\\u0444\\u043e\\u043d\\u044b \\u0434\\u043b\\u044f \\u0440\\u0430\\u043a\\u043e\\u0432\\u0438\\u043d\",\"all/\\u0441\\u043a\\u0440\\u0435\\u0431\\u043a\\u0438 \\u0434\\u043b\\u044f \\u0441\\u0442\\u0451\\u043a\\u043e\\u043b\",\"all/\\u0441\\u043b\\u0438\\u0432 \\u0434\\u043b\\u044f \\u0443\\u043d\\u0438\\u0442\\u0430\\u0437\\u043e\\u0432\",\"all/\\u0441\\u043b\\u0438\\u0432 \\u0438 \\u043a\\u0430\\u043d\\u0430\\u043b\\u0438\\u0437\\u0430\\u0446\\u0438\\u044f\",\"all/\\u0441\\u043b\\u0438\\u0432\\u044b-\\u043f\\u0435\\u0440\\u0435\\u043b\\u0438\\u0432\\u044b\",\"all/\\u0441\\u043b\\u0438\\u0432\\u044b-\\u043f\\u0435\\u0440\\u0435\\u043b\\u0438\\u0432\\u044b \\u0434\\u043b\\u044f \\u0432\\u0430\\u043d\\u043d\",\"all/\\u0441\\u043c\\u0435\\u0441\\u0438\\u0442\\u0435\\u043b\\u0438 \\u0434\\u043b\\u044f \\u0431\\u0438\\u0434\\u0435\",\"all/\\u0441\\u043c\\u0435\\u0441\\u0438\\u0442\\u0435\\u043b\\u0438 \\u0434\\u043b\\u044f \\u0432\\u0430\\u043d\\u043d\\u044b\",\"all/\\u0441\\u043c\\u0435\\u0441\\u0438\\u0442\\u0435\\u043b\\u0438 \\u0434\\u043b\\u044f \\u0432\\u0430\\u043d\\u043d\\u044b \\u0441 \\u0434\\u0443\\u0448\\u0435\\u043c\",\"all/\\u0441\\u043c\\u0435\\u0441\\u0438\\u0442\\u0435\\u043b\\u0438 \\u0434\\u043b\\u044f \\u0434\\u0443\\u0448\\u0430\",\"all/\\u0441\\u043c\\u0435\\u0441\\u0438\\u0442\\u0435\\u043b\\u0438 \\u0434\\u043b\\u044f \\u043a\\u0443\\u0445\\u043d\\u0438\",\"all/\\u0441\\u043c\\u0435\\u0441\\u0438\\u0442\\u0435\\u043b\\u0438 \\u0434\\u043b\\u044f \\u0440\\u0430\\u043a\\u043e\\u0432\\u0438\\u043d\",\"all/\\u0441\\u043c\\u0435\\u0441\\u0438\\u0442\\u0435\\u043b\\u0438 \\u0434\\u043b\\u044f \\u0440\\u0430\\u043a\\u043e\\u0432\\u0438\\u043d\\u044b\",\"all/\\u0441\\u043c\\u044b\\u0432\\u043d\\u044b\\u0435 \\u0431\\u0430\\u0447\\u043a\\u0438 \\u0441\\u043a\\u0440\\u044b\\u0442\\u043e\\u0433\\u043e \\u043c\\u043e\\u043d\\u0442\\u0430\\u0436\\u0430\",\"all/\\u0441\\u0440\\u0435\\u0434\\u0441\\u0442\\u0432\\u043e \\u0434\\u043b\\u044f \\u043c\\u0435\\u0442\\u0430\\u043b\\u043b\\u0438\\u0447\\u0435\\u0441\\u043a\\u0438\\u0445 \\u043f\\u043e\\u0432\\u0435\\u0440\\u0445\\u043d\\u043e\\u0441\\u0442\\u0435\\u0439\",\"all/\\u0441\\u0442\\u0430\\u043a\\u0430\\u043d\\u044b\",\"all/\\u0441\\u0442\\u0430\\u043b\\u044c\\u043d\\u044b\\u0435\",\"all/\\u0441\\u0442\\u0435\\u043a\\u043b\\u044f\\u043d\\u043d\\u044b\\u0435 \\u0438 \\u043f\\u043b\\u0430\\u0441\\u0442\\u0438\\u043a\\u043e\\u0432\\u044b\\u0435 \\u0448\\u0442\\u043e\\u0440\\u043a\\u0438\",\"all/\\u0441\\u0442\\u0435\\u043b\\u043b\\u0430\\u0436\\u0438\",\"all/\\u0441\\u0442\\u0438\\u0440\\u043a\\u0430\",\"all/\\u0441\\u0442\\u043e\\u043b\\u0435\\u0448\\u043d\\u0438\\u0446\\u0430 \\u0441 \\u0440\\u0430\\u043a\\u043e\\u0432\\u0438\\u043d\\u043e\\u0439\",\"all/\\u0441\\u0442\\u043e\\u043b\\u0435\\u0448\\u043d\\u0438\\u0446\\u044b \\u0441 \\u0440\\u0430\\u043a\\u043e\\u0432\\u0438\\u043d\\u043e\\u0439\",\"all/\\u0441\\u0442\\u043e\\u043b\\u0438\\u043a\\u0438 \\u0434\\u043b\\u044f \\u0432\\u0430\\u043d\\u043d\\u044b\",\"all/\\u0441\\u0442\\u043e\\u043b\\u044b \\u0434\\u043b\\u044f \\u0431\\u0430\\u043d\\u0438 \\u0438 \\u0441\\u0430\\u0443\\u043d\\u044b\",\"all/\\u0441\\u0442\\u0440\\u0435\\u043c\\u044f\\u043d\\u043a\\u0438\",\"all/\\u0441\\u0442\\u0443\\u043b\\u044c\\u044f \\u0438 \\u043b\\u0430\\u0432\\u043e\\u0447\\u043a\\u0438 \\u0434\\u043b\\u044f \\u0431\\u0430\\u043d\\u0438 \\u0438 \\u0441\\u0430\\u0443\\u043d\\u044b\",\"all/\\u0441\\u0443\\u0448\\u0438\\u043b\\u043a\\u0438 \\u0434\\u043b\\u044f \\u0431\\u0435\\u043b\\u044c\\u044f\",\"all/\\u0441\\u0443\\u0448\\u0438\\u043b\\u043a\\u0438 \\u0434\\u043b\\u044f \\u0440\\u0443\\u043a\",\"all/\\u0442\\u0435\\u043a\\u0441\\u0442\\u0438\\u043b\\u044c\\u043d\\u044b\\u0435 \\u0448\\u0442\\u043e\\u0440\\u044b\",\"all/\\u0442\\u0435\\u043f\\u043b\\u044b\\u0435 \\u043f\\u043e\\u043b\\u044b\",\"all/\\u0442\\u0435\\u0440\\u043c\\u043e\\u043c\\u0435\\u0442\\u0440\\u044b\",\"all/\\u0442\\u0443\\u0430\\u043b\\u0435\\u0442\\u043d\\u0430\\u044f \\u0431\\u0443\\u043c\\u0430\\u0433\\u0430\",\"all/\\u0442\\u0443\\u043c\\u0431\\u044b\",\"all/\\u0442\\u0443\\u043c\\u0431\\u044b \\u0432 \\u0432\\u0430\\u043d\\u043d\\u0443\\u044e \\u043a\\u043e\\u043c\\u043d\\u0430\\u0442\\u0443\",\"all/\\u0442\\u0443\\u043c\\u0431\\u044b \\u0441 \\u0440\\u0430\\u043a\\u043e\\u0432\\u0438\\u043d\\u043e\\u0439\",\"all/\\u0443\\u0432\\u043b\\u0430\\u0436\\u043d\\u0438\\u0442\\u0435\\u043b\\u0438 \\u0432\\u043e\\u0437\\u0434\\u0443\\u0445\\u0430\",\"all/\\u0443\\u043b\\u0438\\u0447\\u043d\\u044b\\u0435 \\u0441\\u0443\\u0448\\u0438\\u043b\\u043a\\u0438 \\u0434\\u043b\\u044f \\u0431\\u0435\\u043b\\u044c\\u044f\",\"all/\\u0443\\u043d\\u0438\\u0432\\u0435\\u0440\\u0441\\u0430\\u043b\\u044c\\u043d\\u043e\\u0435 \\u043c\\u043e\\u044e\\u0449\\u0435\\u0435 \\u0441\\u0440\\u0435\\u0434\\u0441\\u0442\\u0432\\u043e\",\"all/\\u0443\\u043d\\u0438\\u0442\\u0430\\u0437\\u044b\",\"all/\\u0443\\u0440\\u043d\\u044b\",\"all/\\u0444\\u0430\\u0440\\u0442\\u0443\\u043a \\u0434\\u043b\\u044f \\u043a\\u0443\\u0445\\u043d\\u0438\",\"all/\\u0444\\u0435\\u043d\\u044b\",\"all/\\u0444\\u0438\\u043b\\u044c\\u0442\\u0440\\u044b \\u0434\\u043b\\u044f \\u0432\\u043e\\u0434\\u044b \\u0438 \\u043a\\u0443\\u043b\\u0435\\u0440\\u044b\",\"all/\\u0444\\u0438\\u043b\\u044c\\u0442\\u0440\\u044b \\u043f\\u043e\\u0434 \\u043c\\u043e\\u0439\\u043a\\u0443\",\"all/\\u0444\\u0438\\u043b\\u044c\\u0442\\u0440\\u044b \\u0440\\u044f\\u0434\\u043e\\u043c \\u0441 \\u043c\\u043e\\u0439\\u043a\\u043e\\u0439\",\"all/\\u0445\\u0440\\u0430\\u043d\\u0435\\u043d\\u0438\\u0435\",\"all/\\u0447\\u0430\\u0441\\u044b\",\"all/\\u0447\\u0430\\u0448\\u0438 \\u0433\\u0435\\u043d\\u0443\\u044f\",\"all/\\u0447\\u0443\\u0433\\u0443\\u043d\\u043d\\u044b\\u0435\",\"all/\\u0448\\u0430\\u043f\\u043a\\u0438\",\"all/\\u0448\\u043a\\u0430\\u0444\\u044b\",\"all/\\u0448\\u043a\\u0430\\u0444\\u044b-\\u043f\\u0435\\u043d\\u0430\\u043b\\u044b\",\"all/\\u0448\\u0442\\u043e\\u0440\\u043a\\u0438 \\u043d\\u0430 \\u0432\\u0430\\u043d\\u043d\\u0443\",\"all/\\u0448\\u0442\\u043e\\u0440\\u043a\\u0438 \\u0441\\u0442\\u0435\\u043a\\u043b\\u044f\\u043d\\u043d\\u044b\\u0435\",\"all/\\u0448\\u0442\\u043e\\u0440\\u043a\\u0438 \\u0442\\u0435\\u043a\\u0441\\u0442\\u0438\\u043b\\u044c\\u043d\\u044b\\u0435\",\"all/\\u044d\\u043a\\u0440\\u0430\\u043d\\u044b \\u0434\\u043b\\u044f \\u0432\\u0430\\u043d\\u043d\",\"all/\\u0451\\u0440\\u0448\\u0438\\u043a\\u0438\",\"all\"],\"labels\":[\" \\u043d\\u0430 \\u043f\\u043e\\u0434\\u0434\\u043e\\u043d\",\"\\u0430\\u043a\\u0440\\u0438\\u043b\\u043e\\u0432\\u044b\\u0435\",\"\\u0430\\u043a\\u0441\\u0435\\u0441\\u0441\\u0443\\u0430\\u0440\\u044b \\u0434\\u043b\\u044f \\u0431\\u0430\\u043d\\u0438\",\"\\u0430\\u043a\\u0441\\u0435\\u0441\\u0441\\u0443\\u0430\\u0440\\u044b \\u0434\\u043b\\u044f \\u0431\\u0438\\u0434\\u0435\",\"\\u0430\\u043a\\u0441\\u0435\\u0441\\u0441\\u0443\\u0430\\u0440\\u044b \\u0434\\u043b\\u044f \\u0432\\u0430\\u043d\\u043d\\u043e\\u0439 \\u043a\\u043e\\u043c\\u043d\\u0430\\u0442\\u044b\",\"\\u0430\\u043a\\u0441\\u0435\\u0441\\u0441\\u0443\\u0430\\u0440\\u044b \\u0434\\u043b\\u044f \\u0432\\u0430\\u043d\\u043d\\u044b\",\"\\u0430\\u043a\\u0441\\u0435\\u0441\\u0441\\u0443\\u0430\\u0440\\u044b \\u0434\\u043b\\u044f \\u0434\\u0443\\u0448\\u0430\",\"\\u0430\\u043a\\u0441\\u0435\\u0441\\u0441\\u0443\\u0430\\u0440\\u044b \\u0434\\u043b\\u044f \\u043c\\u043e\\u0435\\u043a\",\"\\u0430\\u043a\\u0441\\u0435\\u0441\\u0441\\u0443\\u0430\\u0440\\u044b \\u0434\\u043b\\u044f \\u043f\\u0438\\u0441\\u0441\\u0443\\u0430\\u0440\\u043e\\u0432\",\"\\u0430\\u043a\\u0441\\u0435\\u0441\\u0441\\u0443\\u0430\\u0440\\u044b \\u0434\\u043b\\u044f \\u0443\\u043d\\u0438\\u0442\\u0430\\u0437\\u043e\\u0432\",\"\\u0430\\u043a\\u0441\\u0435\\u0441\\u0441\\u0443\\u0430\\u0440\\u044b \\u043d\\u0430 \\u0440\\u0430\\u043a\\u043e\\u0432\\u0438\\u043d\\u0443\",\"\\u0431\\u0430\\u043a\\u0438 \\u0438 \\u0435\\u043c\\u043a\\u043e\\u0441\\u0442\\u0438\",\"\\u0431\\u0430\\u043d\\u043d\\u044b\\u0439 \\u0442\\u0435\\u043a\\u0441\\u0442\\u0438\\u043b\\u044c\",\"\\u0431\\u0430\\u0441\\u0441\\u0435\\u0439\\u043d\\u044b\",\"\\u0431\\u0438\\u0434\\u0435\",\"\\u0431\\u0438\\u043e\\u0442\\u0443\\u0430\\u043b\\u0435\\u0442\\u044b\",\"\\u0431\\u043e\\u043a\\u0441\\u044b \\u0434\\u043b\\u044f \\u0441\\u0430\\u043b\\u0444\\u0435\\u0442\\u043e\\u043a\",\"\\u0431\\u043e\\u043d\\u0434\\u0430\\u0440\\u043d\\u044b\\u0435 \\u0438\\u0437\\u0434\\u0435\\u043b\\u0438\\u044f\",\"\\u0431\\u043e\\u0440\\u0434\\u044e\\u0440\\u044b\",\"\\u0431\\u0443\\u043c\\u0430\\u0436\\u043d\\u044b\\u0435 \\u043f\\u043e\\u043b\\u043e\\u0442\\u0435\\u043d\\u0446\\u0430\",\"\\u0431\\u044b\\u0442\\u043e\\u0432\\u0430\\u044f \\u0445\\u0438\\u043c\\u0438\\u044f\",\"\\u0432\\u0430\\u043d\\u043d\\u044b\",\"\\u0432\\u0435\\u0434\\u0440\\u0430\",\"\\u0432\\u0435\\u043d\\u0438\\u043a\\u0438 \\u0434\\u043b\\u044f \\u0431\\u0430\\u043d\\u0438 \\u0438 \\u0441\\u0430\\u0443\\u043d\\u044b\",\"\\u0432\\u0435\\u0448\\u0430\\u043b\\u043a\\u0438 \\u0434\\u043b\\u044f \\u0432\\u0430\\u043d\\u043d\\u043e\\u0439 \\u043a\\u043e\\u043c\\u043d\\u0430\\u0442\\u044b\",\"\\u0432\\u043e\\u0434\\u043e\\u043d\\u0430\\u0433\\u0440\\u0435\\u0432\\u0430\\u0442\\u0435\\u043b\\u0438\",\"\\u0432\\u0441\\u0435 \\u043a\\u0430\\u0442\\u0435\\u0433\\u043e\\u0440\\u0438\\u0438\",\"\\u0432\\u0441\\u0442\\u0440\\u0430\\u0438\\u0432\\u0430\\u0435\\u043c\\u044b\\u0435\",\"\\u0432\\u0441\\u0442\\u0440\\u0430\\u0438\\u0432\\u0430\\u0435\\u043c\\u044b\\u0435 \\u0434\\u0443\\u0448\\u0435\\u0432\\u044b\\u0435 \\u043a\\u043e\\u043c\\u043f\\u043b\\u0435\\u043a\\u0442\\u044b\",\"\\u0432\\u0441\\u0442\\u0440\\u0430\\u0438\\u0432\\u0430\\u0435\\u043c\\u044b\\u0435 \\u0434\\u0443\\u0448\\u0435\\u0432\\u044b\\u0435 \\u0441\\u0438\\u0441\\u0442\\u0435\\u043c\\u044b \\u0434\\u043b\\u044f \\u0432\\u0430\\u043d\\u043d\\u044b\",\"\\u0432\\u0441\\u0442\\u0440\\u0430\\u0438\\u0432\\u0430\\u0435\\u043c\\u044b\\u0435 \\u0441\\u0438\\u0441\\u0442\\u0435\\u043c\\u044b \\u0434\\u043b\\u044f&nbsp;\\u0434\\u0443\\u0448\\u0430\",\"\\u0432\\u044b\\u0442\\u044f\\u0436\\u043d\\u044b\\u0435 \\u0432\\u0435\\u043d\\u0442\\u0438\\u043b\\u044f\\u0442\\u043e\\u0440\\u044b\",\"\\u0433\\u0430\\u0440\\u043d\\u0438\\u0442\\u0443\\u0440\\u044b \\u0434\\u043b\\u044f \\u0432\\u0430\\u043d\\u043d\\u043e\\u0439 \\u043a\\u043e\\u043c\\u043d\\u0430\\u0442\\u044b\",\"\\u0433\\u0438\\u0433\\u0438\\u0435\\u043d\\u0438\\u0447\\u0435\\u0441\\u043a\\u0438\\u0435 \\u0434\\u0443\\u0448\\u0438\",\"\\u0433\\u0438\\u0433\\u0440\\u043e\\u043c\\u0435\\u0442\\u0440\\u044b\",\"\\u0433\\u043b\\u0430\\u0434\\u0438\\u043b\\u044c\\u043d\\u044b\\u0435 \\u0434\\u043e\\u0441\\u043a\\u0438\",\"\\u0433\\u043e\\u0440\\u0448\\u043a\\u0438 \\u0438 \\u043a\\u0430\\u0448\\u043f\\u043e\",\"\\u0433\\u043e\\u0444\\u0440\\u044b \\u0438 \\u043e\\u0442\\u0432\\u043e\\u0434\\u044b\",\"\\u0434\\u0430\\u0447\\u043d\\u044b\\u0435 \\u0434\\u0443\\u0448\\u0438\",\"\\u0434\\u0432\\u0435\\u0440\\u0438\",\"\\u0434\\u0435\\u0440\\u0436\\u0430\\u0442\\u0435\\u043b\\u0438 \\u0434\\u043b\\u044f \\u0433\\u0430\\u0437\\u0435\\u0442\",\"\\u0434\\u0435\\u0440\\u0436\\u0430\\u0442\\u0435\\u043b\\u0438 \\u0434\\u043b\\u044f \\u0437\\u0430\\u043f\\u0430\\u0441\\u043d\\u044b\\u0445 \\u0440\\u0443\\u043b\\u043e\\u043d\\u043e\\u0432\",\"\\u0434\\u0435\\u0440\\u0436\\u0430\\u0442\\u0435\\u043b\\u0438 \\u0434\\u043b\\u044f \\u0442\\u0443\\u0430\\u043b\\u0435\\u0442\\u043d\\u043e\\u0439 \\u0431\\u0443\\u043c\\u0430\\u0433\\u0438\",\"\\u0434\\u0435\\u0440\\u0436\\u0430\\u0442\\u0435\\u043b\\u0438 \\u0434\\u043b\\u044f \\u0444\\u0435\\u043d\\u0430\",\"\\u0434\\u0435\\u0440\\u0436\\u0430\\u0442\\u0435\\u043b\\u0438 \\u0437\\u0430\\u043f\\u0430\\u0441\\u043d\\u044b\\u0445 \\u0440\\u0443\\u043b\\u043e\\u043d\\u043e\\u0432\",\"\\u0434\\u0435\\u0440\\u0436\\u0430\\u0442\\u0435\\u043b\\u0438 \\u043e\\u0441\\u0432\\u0435\\u0436\\u0438\\u0442\\u0435\\u043b\\u044f \\u0432\\u043e\\u0437\\u0434\\u0443\\u0445\\u0430\",\"\\u0434\\u0435\\u0440\\u0436\\u0430\\u0442\\u0435\\u043b\\u0438 \\u0442\\u0443\\u0430\\u043b\\u0435\\u0442\\u043d\\u043e\\u0439 \\u0431\\u0443\\u043c\\u0430\\u0433\\u0438\",\"\\u0434\\u0438\\u0441\\u043f\\u0435\\u043d\\u0441\\u0435\\u0440\\u044b\",\"\\u0434\\u0438\\u0441\\u043f\\u0435\\u043d\\u0441\\u0435\\u0440\\u044b \\u0432\\u0430\\u0442\\u043d\\u044b\\u0445 \\u0434\\u0438\\u0441\\u043a\\u043e\\u0432\",\"\\u0434\\u043b\\u044f \\u0431\\u0443\\u043c\\u0430\\u0436\\u043d\\u044b\\u0445 \\u043f\\u043e\\u043b\\u043e\\u0442\\u0435\\u043d\\u0435\\u0446\",\"\\u0434\\u043b\\u044f \\u0432\\u0430\\u043d\\u043d\\u043e\\u0439 \\u043a\\u043e\\u043c\\u043d\\u0430\\u0442\\u044b\",\"\\u0434\\u043b\\u044f \\u0432\\u0430\\u043d\\u043d\\u044b\",\"\\u0434\\u043b\\u044f \\u0432\\u0430\\u043d\\u043d\\u044b \\u0441 \\u0434\\u0443\\u0448\\u0435\\u043c\",\"\\u0434\\u043b\\u044f \\u0433\\u043e\\u0441\\u0442\\u0438\\u043d\\u043e\\u0439\",\"\\u0434\\u043b\\u044f \\u0434\\u0443\\u0448\\u0430\",\"\\u0434\\u043b\\u044f \\u043a\\u0443\\u0445\\u043d\\u0438\",\"\\u0434\\u043b\\u044f \\u043a\\u0443\\u0445\\u043e\\u043d\\u043d\\u043e\\u0439 \\u043c\\u043e\\u0439\\u043a\\u0438\",\"\\u0434\\u043b\\u044f \\u043c\\u044b\\u043b\\u0430\",\"\\u0434\\u043b\\u044f \\u043e\\u0431\\u0449\\u0435\\u0441\\u0442\\u0432\\u0435\\u043d\\u043d\\u044b\\u0445 \\u043c\\u0435\\u0441\\u0442\",\"\\u0434\\u043b\\u044f \\u043e\\u0441\\u0432\\u0435\\u0436\\u0438\\u0442\\u0435\\u043b\\u0435\\u0439 \\u0432\\u043e\\u0437\\u0434\\u0443\\u0445\\u0430\",\"\\u0434\\u043b\\u044f \\u043f\\u043e\\u043b\\u0430\",\"\\u0434\\u043b\\u044f \\u043f\\u043e\\u043b\\u043e\\u0442\\u0435\\u043d\\u0435\\u0446\",\"\\u0434\\u043b\\u044f \\u0440\\u0430\\u043a\\u043e\\u0432\\u0438\\u043d\\u044b\",\"\\u0434\\u043b\\u044f \\u0441\\u0430\\u0434\\u0430 \\u0438 \\u0443\\u043b\\u0438\\u0446\\u044b\",\"\\u0434\\u043b\\u044f \\u0441\\u0430\\u043b\\u0444\\u0435\\u0442\\u043e\\u043a\",\"\\u0434\\u043b\\u044f \\u0441\\u0442\\u0435\\u043d\",\"\\u0434\\u043b\\u044f \\u0441\\u0442\\u0435\\u043d \\u0438 \\u043f\\u043e\\u043b\\u0430\",\"\\u0434\\u043b\\u044f \\u0442\\u0443\\u0430\\u043b\\u0435\\u0442\\u0430\",\"\\u0434\\u043b\\u044f \\u0442\\u0443\\u0430\\u043b\\u0435\\u0442\\u043d\\u043e\\u0439 \\u0431\\u0443\\u043c\\u0430\\u0433\\u0438\",\"\\u0434\\u043e\\u0437\\u0430\\u0442\\u043e\\u0440\\u044b\",\"\\u0434\\u043e\\u043d\\u043d\\u044b\\u0435 \\u043a\\u043b\\u0430\\u043f\\u0430\\u043d\\u044b\",\"\\u0434\\u043e\\u043d\\u043d\\u044b\\u0435 \\u043a\\u043b\\u0430\\u043f\\u0430\\u043d\\u044b \\u0434\\u043b\\u044f \\u0440\\u0430\\u043a\\u043e\\u0432\\u0438\\u043d\",\"\\u0434\\u0443\\u0448 \\u043d\\u0430\\u0441\\u0442\\u0435\\u043d\\u043d\\u043e\\u0433\\u043e \\u043c\\u043e\\u043d\\u0442\\u0430\\u0436\\u0430\",\"\\u0434\\u0443\\u0448\\u0435\\u0432\\u044b\\u0435 \\u0431\\u043e\\u043a\\u0441\\u044b\",\"\\u0434\\u0443\\u0448\\u0435\\u0432\\u044b\\u0435 \\u0433\\u0430\\u0440\\u043d\\u0438\\u0442\\u0443\\u0440\\u044b\",\"\\u0434\\u0443\\u0448\\u0435\\u0432\\u044b\\u0435 \\u0434\\u0432\\u0435\\u0440\\u0438 \\u0432 \\u043d\\u0438\\u0448\\u0443\",\"\\u0434\\u0443\\u0448\\u0435\\u0432\\u044b\\u0435 \\u043a\\u0430\\u0431\\u0438\\u043d\\u044b\",\"\\u0434\\u0443\\u0448\\u0435\\u0432\\u044b\\u0435 \\u043a\\u043e\\u043c\\u043f\\u043b\\u0435\\u043a\\u0442\\u044b\",\"\\u0434\\u0443\\u0448\\u0435\\u0432\\u044b\\u0435 \\u043b\\u043e\\u0442\\u043a\\u0438\",\"\\u0434\\u0443\\u0448\\u0435\\u0432\\u044b\\u0435 \\u043f\\u0435\\u0440\\u0435\\u0433\\u043e\\u0440\\u043e\\u0434\\u043a\\u0438\",\"\\u0434\\u0443\\u0448\\u0435\\u0432\\u044b\\u0435 \\u043f\\u043e\\u0434\\u0434\\u043e\\u043d\\u044b\",\"\\u0434\\u0443\\u0448\\u0435\\u0432\\u044b\\u0435 \\u0441\\u0442\\u043e\\u0439\\u043a\\u0438\",\"\\u0434\\u0443\\u0448\\u0435\\u0432\\u044b\\u0435 \\u0442\\u0440\\u0430\\u043f\\u044b\",\"\\u0434\\u0443\\u0448\\u0435\\u0432\\u044b\\u0435 \\u0443\\u0433\\u043b\\u044b\",\"\\u0434\\u0443\\u0448\\u0435\\u0432\\u044b\\u0435 \\u0443\\u0433\\u043e\\u043b\\u043a\\u0438\",\"\\u0434\\u044b\\u043c\\u043e\\u0445\\u043e\\u0434\\u044b\",\"\\u0435\\u0440\\u0448\\u0438\\u043a\\u0438\",\"\\u0437\\u0430\\u043f\\u0430\\u0440\\u043d\\u0438\\u043a\\u0438\",\"\\u0437\\u0430\\u043f\\u043e\\u0440\\u043d\\u0430\\u044f \\u0430\\u0440\\u043c\\u0430\\u0442\\u0443\\u0440\\u0430\",\"\\u0437\\u0430\\u0442\\u0438\\u0440\\u043a\\u0438 \\u0438 \\u043a\\u0440\\u0435\\u0441\\u0442\\u0438\\u043a\\u0438\",\"\\u0437\\u0435\\u0440\\u043a\\u0430\\u043b\\u0430\",\"\\u0437\\u0435\\u0440\\u043a\\u0430\\u043b\\u0430-\\u0448\\u043a\\u0430\\u0444\\u044b\",\"\\u0438\\u0437\\u043c\\u0435\\u043b\\u044c\\u0447\\u0438\\u0442\\u0435\\u043b\\u0438 \\u043e\\u0442\\u0445\\u043e\\u0434\\u043e\\u0432\",\"\\u0438\\u0437\\u043c\\u0435\\u043b\\u044c\\u0447\\u0438\\u0442\\u0435\\u043b\\u044c \\u043e\\u0442\\u0445\\u043e\\u0434\\u043e\\u0432\",\"\\u0438\\u0437\\u043c\\u0435\\u0440\\u0438\\u0442\\u0435\\u043b\\u044c\\u043d\\u044b\\u0435 \\u043f\\u0440\\u0438\\u0431\\u043e\\u0440\\u044b\",\"\\u0438\\u043d\\u0441\\u0442\\u0430\\u043b\\u043b\\u044f\\u0446\\u0438\\u0438 \\u0434\\u043b\\u044f \\u0431\\u0438\\u0434\\u0435\",\"\\u0438\\u043d\\u0441\\u0442\\u0430\\u043b\\u043b\\u044f\\u0446\\u0438\\u0438 \\u0434\\u043b\\u044f \\u043f\\u0438\\u0441\\u0441\\u0443\\u0430\\u0440\\u043e\\u0432\",\"\\u0438\\u043d\\u0441\\u0442\\u0430\\u043b\\u043b\\u044f\\u0446\\u0438\\u0438 \\u0434\\u043b\\u044f \\u0440\\u0430\\u043a\\u043e\\u0432\\u0438\\u043d\",\"\\u0438\\u043d\\u0441\\u0442\\u0430\\u043b\\u043b\\u044f\\u0446\\u0438\\u0438 \\u0434\\u043b\\u044f \\u0443\\u043d\\u0438\\u0442\\u0430\\u0437\\u043e\\u0432\",\"\\u0438\\u043d\\u0441\\u0442\\u0430\\u043b\\u043b\\u044f\\u0446\\u0438\\u0438 \\u0438 \\u043a\\u043d\\u043e\\u043f\\u043a\\u0438 \\u0441\\u043c\\u044b\\u0432\\u0430\",\"\\u043a\\u0430\\u043c\\u0438\\u043d\\u044b\",\"\\u043a\\u0430\\u0440\\u043d\\u0438\\u0437\\u044b\",\"\\u043a\\u0430\\u0440\\u043d\\u0438\\u0437\\u044b \\u0434\\u043b\\u044f \\u0432\\u0430\\u043d\\u043d\\u043e\\u0439\",\"\\u043a\\u0430\\u0440\\u043d\\u0438\\u0437\\u044b \\u0434\\u043b\\u044f \\u0448\\u0442\\u043e\\u0440\\u043e\\u043a\",\"\\u043a\\u0430\\u0440\\u0442\\u0440\\u0438\\u0434\\u0436\\u0438 \\u043a \\u043c\\u0430\\u0433\\u0438\\u0441\\u0442\\u0440\\u0430\\u043b\\u044c\\u043d\\u044b\\u043c \\u0444\\u0438\\u043b\\u044c\\u0442\\u0440\\u0430\\u043c\",\"\\u043a\\u0430\\u0440\\u0442\\u0440\\u0438\\u0434\\u0436\\u0438 \\u043a \\u0444\\u0438\\u043b\\u044c\\u0442\\u0440\\u0430\\u043c \\u043f\\u0438\\u0442\\u044c\\u0435\\u0432\\u043e\\u0439 \\u0432\\u043e\\u0434\\u044b\",\"\\u043a\\u0435\\u0440\\u0430\\u043c\\u0438\\u0447\\u0435\\u0441\\u043a\\u0430\\u044f\",\"\\u043a\\u0435\\u0440\\u0430\\u043c\\u043e\\u0433\\u0440\\u0430\\u043d\\u0438\\u0442\",\"\\u043a\\u043b\\u0438\\u043d\\u043a\\u0435\\u0440\\u043d\\u0430\\u044f\",\"\\u043a\\u043d\\u043e\\u043f\\u043a\\u0438 \\u0441\\u043c\\u044b\\u0432\\u0430\",\"\\u043a\\u043e\\u0432\\u0440\\u0438\\u043a\\u0438\",\"\\u043a\\u043e\\u0432\\u0448\\u0438\",\"\\u043a\\u043e\\u043c\\u043e\\u0434\\u044b\",\"\\u043a\\u043e\\u043c\\u043e\\u0434\\u044b \\u0434\\u043b\\u044f \\u0432\\u0430\\u043d\\u043d\\u043e\\u0439 \\u043a\\u043e\\u043c\\u043d\\u0430\\u0442\\u044b\",\"\\u043a\\u043e\\u043c\\u043f\\u043b\\u0435\\u043a\\u0442 \\u0434\\u043b\\u044f \\u0432\\u0430\\u043d\\u043d\\u044b\",\"\\u043a\\u043e\\u043c\\u043f\\u043b\\u0435\\u043a\\u0442 \\u0434\\u043b\\u044f \\u0434\\u0443\\u0448\\u0430\",\"\\u043a\\u043e\\u043c\\u043f\\u043e\\u0441\\u0442\\u0435\\u0440\\u044b\",\"\\u043a\\u043e\\u043d\\u0434\\u0438\\u0446\\u0438\\u043e\\u043d\\u0435\\u0440\\u044b\",\"\\u043a\\u043e\\u043d\\u0441\\u043e\\u043b\\u0438 \\u0441 \\u0440\\u0430\\u043a\\u043e\\u0432\\u0438\\u043d\\u043e\\u0439\",\"\\u043a\\u043e\\u043d\\u0442\\u0435\\u0439\\u043d\\u0435\\u0440\\u044b\",\"\\u043a\\u043e\\u0440\\u0437\\u0438\\u043d\\u044b \\u0434\\u043b\\u044f \\u0431\\u0435\\u043b\\u044c\\u044f\",\"\\u043a\\u043e\\u0441\\u043c\\u0435\\u0442\\u0438\\u0447\\u0435\\u0441\\u043a\\u0438\\u0435 \\u0437\\u0435\\u0440\\u043a\\u0430\\u043b\\u0430\",\"\\u043a\\u043e\\u0442\\u043b\\u044b\",\"\\u043a\\u0440\\u0430\\u043d\\u044b \\u0434\\u043b\\u044f \\u043f\\u0438\\u0442\\u044c\\u0435\\u0432\\u043e\\u0439 \\u0432\\u043e\\u0434\\u044b\",\"\\u043a\\u0440\\u044e\\u0447\\u043a\\u0438 \\u0434\\u043b\\u044f \\u0432\\u0430\\u043d\\u043d\\u043e\\u0439 \\u043a\\u043e\\u043c\\u043d\\u0430\\u0442\\u044b\",\"\\u043a\\u0443\\u043b\\u0435\\u0440\\u044b \\u0438 \\u043f\\u0443\\u0440\\u0438\\u0444\\u0430\\u0439\\u0435\\u0440\\u044b\",\"\\u043a\\u0443\\u0445\\u043e\\u043d\\u043d\\u044b\\u0435 \\u043c\\u043e\\u0439\\u043a\\u0438\",\"\\u043c\\u0430\\u0433\\u0438\\u0441\\u0442\\u0440\\u0430\\u043b\\u044c\\u043d\\u044b\\u0435 \\u0444\\u0438\\u043b\\u044c\\u0442\\u0440\\u044b\",\"\\u043c\\u0430\\u0433\\u0438\\u0441\\u0442\\u0440\\u0430\\u043b\\u044c\\u043d\\u044b\\u0435 \\u0444\\u0438\\u043b\\u044c\\u0442\\u0440\\u044b \\u0433\\u0440\\u0443\\u0431\\u043e\\u0439 \\u043e\\u0447\\u0438\\u0441\\u0442\\u043a\\u0438\",\"\\u043c\\u0430\\u0433\\u0438\\u0441\\u0442\\u0440\\u0430\\u043b\\u044c\\u043d\\u044b\\u0435 \\u0444\\u0438\\u043b\\u044c\\u0442\\u0440\\u044b \\u0442\\u043e\\u043d\\u043a\\u043e\\u0439 \\u043e\\u0447\\u0438\\u0441\\u0442\\u043a\\u0438\",\"\\u043c\\u0435\\u0431\\u0435\\u043b\\u044c \\u0434\\u043b\\u044f \\u0431\\u0430\\u043d\\u0438\",\"\\u043c\\u0435\\u0431\\u0435\\u043b\\u044c \\u0434\\u043b\\u044f \\u0432\\u0430\\u043d\\u043d\\u043e\\u0439 \\u043a\\u043e\\u043c\\u043d\\u0430\\u0442\\u044b\",\"\\u043c\\u0435\\u0431\\u0435\\u043b\\u044c \\u043f\\u043e\\u0434 \\u0441\\u0442\\u0438\\u0440\\u0430\\u043b\\u044c\\u043d\\u0443\\u044e \\u043c\\u0430\\u0448\\u0438\\u043d\\u0443\",\"\\u043c\\u0435\\u0431\\u0435\\u043b\\u044c \\u043f\\u043e\\u0434 \\u0441\\u0442\\u0438\\u0440\\u0430\\u043b\\u044c\\u043d\\u0443\\u044e \\u043c\\u0430\\u0448\\u0438\\u043d\\u0443 \\u0441 \\u0440\\u0430\\u043a\\u043e\\u0432\\u0438\\u043d\\u043e\\u0439\",\"\\u043c\\u0435\\u0431\\u0435\\u043b\\u044c\\u043d\\u044b\\u0435 \\u0433\\u0430\\u0440\\u043d\\u0438\\u0442\\u0443\\u0440\\u044b\",\"\\u043c\\u0435\\u0445\\u0430\\u043d\\u0438\\u0437\\u043c\\u044b \\u0441\\u043c\\u044b\\u0432\\u0430 \\u0434\\u043b\\u044f &nbsp; \\u043f\\u0438\\u0441\\u0441\\u0443\\u0430\\u0440\\u043e\\u0432\",\"\\u043c\\u043e\\u0439\\u043a\\u0438 \\u0432\\u043e\\u0437\\u0434\\u0443\\u0445\\u0430\",\"\\u043c\\u0443\\u0441\\u043e\\u0440\\u043d\\u044b\\u0435 \\u0432\\u0435\\u0434\\u0440\\u0430\",\"\\u043c\\u0443\\u0441\\u043e\\u0440\\u043d\\u044b\\u0435 \\u0432\\u0435\\u0434\\u0440\\u0430 \",\"\\u043c\\u044b\\u043b\\u044c\\u043d\\u0438\\u0446\\u044b\",\"\\u043d\\u0430 \\u043f\\u043e\\u043b\",\"\\u043d\\u0430\\u0431\\u043e\\u0440\\u044b \\u0430\\u043a\\u0441\\u0435\\u0441\\u0441\\u0443\\u0430\\u0440\\u043e\\u0432\",\"\\u043d\\u0430\\u0431\\u043e\\u0440\\u044b \\u0430\\u043a\\u0441\\u0435\\u0441\\u0441\\u0443\\u0430\\u0440\\u043e\\u0432 \\u0434\\u043b\\u044f \\u0432\\u0430\\u043d\\u043d\\u043e\\u0439\",\"\\u043d\\u0430\\u0431\\u043e\\u0440\\u044b \\u0434\\u0435\\u0440\\u0436\\u0430\\u0442\\u0435\\u043b\\u0435\\u0439 \\u043d\\u0430 \\u0441\\u0442\\u043e\\u0439\\u043a\\u0435\",\"\\u043d\\u0430\\u0431\\u043e\\u0440\\u044b \\u0434\\u043b\\u044f \\u0431\\u0430\\u043d\\u0438\",\"\\u043d\\u0430\\u043a\\u043b\\u0430\\u0434\\u043d\\u044b\\u0435\",\"\\u043d\\u0430\\u043a\\u043e\\u043f\\u0438\\u0442\\u0435\\u043b\\u044c\\u043d\\u044b\\u0435\",\"\\u043d\\u0430\\u043a\\u043e\\u043f\\u0438\\u0442\\u0435\\u043b\\u044c\\u043d\\u044b\\u0435 (\\u0431\\u043e\\u0439\\u043b\\u0435\\u0440\\u044b)\",\"\\u043d\\u0430\\u043f\\u043e\\u043b\\u044c\\u043d\\u044b\\u0435\",\"\\u043d\\u0430\\u0441\\u043e\\u0441\\u044b\",\"\\u043e\\u0441\\u0443\\u0448\\u0438\\u0442\\u0435\\u043b\\u0438 \\u0432\\u043e\\u0437\\u0434\\u0443\\u0445\\u0430\",\"\\u043e\\u0447\\u0438\\u0441\\u0442\\u0438\\u0442\\u0435\\u043b\\u0438 \\u0432\\u043e\\u0437\\u0434\\u0443\\u0445\\u0430\",\"\\u043e\\u0447\\u0438\\u0441\\u0442\\u0438\\u0442\\u0435\\u043b\\u044c \\u0434\\u043b\\u044f \\u0441\\u0442\\u0435\\u043a\\u043e\\u043b\",\"\\u043f\\u0435\\u0440\\u0435\\u0433\\u043e\\u0440\\u043e\\u0434\\u043a\\u0438 \\u0434\\u043b\\u044f \\u043f\\u0438\\u0441\\u0441\\u0443\\u0430\\u0440\\u043e\\u0432\",\"\\u043f\\u0438\\u0441\\u0441\\u0443\\u0430\\u0440\\u044b\",\"\\u043f\\u043b\\u0438\\u0442\\u043a\\u0430\",\"\\u043f\\u043b\\u0438\\u0442\\u043a\\u0430 \\u0434\\u043b\\u044f \\u0432\\u0430\\u043d\\u043d\\u043e\\u0439 \\u043a\\u043e\\u043c\\u043d\\u0430\\u0442\\u044b\",\"\\u043f\\u043b\\u0438\\u0442\\u043a\\u0430-\\u043c\\u043e\\u0437\\u0430\\u0438\\u043a\\u0430\",\"\\u043f\\u043e \\u043d\\u0430\\u0437\\u043d\\u0430\\u0447\\u0435\\u043d\\u0438\\u044e\",\"\\u043f\\u043e \\u043f\\u043e\\u043c\\u0435\\u0449\\u0435\\u043d\\u0438\\u044e\",\"\\u043f\\u043e\\u0434\\u0433\\u043e\\u043b\\u043e\\u0432\\u043d\\u0438\\u043a\\u0438\",\"\\u043f\\u043e\\u0434\\u0441\\u0442\\u0430\\u0432\\u043a\\u0438\",\"\\u043f\\u043e\\u043b\\u0438\\u0432 \\u0438 \\u043c\\u043e\\u0439\\u043a\\u0430\",\"\\u043f\\u043e\\u043b\\u043a\\u0438\",\"\\u043f\\u043e\\u043b\\u043a\\u0438 \\u0434\\u043b\\u044f \\u0434\\u0443\\u0448\\u0430\",\"\\u043f\\u043e\\u043b\\u043a\\u0438 \\u0434\\u043b\\u044f \\u043f\\u043e\\u043b\\u043e\\u0442\\u0435\\u043d\\u0435\\u0446\",\"\\u043f\\u043e\\u043b\\u043a\\u0438 \\u043f\\u043e\\u0434 \\u0437\\u0435\\u0440\\u043a\\u0430\\u043b\\u043e\",\"\\u043f\\u043e\\u043b\\u043e\\u0442\\u0435\\u043d\\u0446\\u0430\",\"\\u043f\\u043e\\u043b\\u043e\\u0442\\u0435\\u043d\\u0446\\u0435\\u0434\\u0435\\u0440\\u0436\\u0430\\u0442\\u0435\\u043b\\u0438\",\"\\u043f\\u043e\\u043b\\u043e\\u0442\\u0435\\u043d\\u0446\\u0435\\u0441\\u0443\\u0448\\u0438\\u0442\\u0435\\u043b\\u0438\",\"\\u043f\\u043e\\u0440\\u0442\\u0430\\u043b\\u044b \\u0434\\u043b\\u044f \\u043a\\u0430\\u043c\\u0438\\u043d\\u0430\",\"\\u043f\\u043e\\u0440\\u0443\\u0447\\u043d\\u0438\",\"\\u043f\\u043e\\u044d\\u043b\\u0435\\u043c\\u0435\\u043d\\u0442\\u043d\\u043e\",\"\\u043f\\u0440\\u043e\\u0442\\u0438\\u0440\\u043e\\u0447\\u043d\\u044b\\u0439 \\u043c\\u0430\\u0442\\u0435\\u0440\\u0438\\u0430\\u043b\",\"\\u0440\\u0430\\u0434\\u0438\\u0430\\u0442\\u043e\\u0440\\u044b\",\"\\u0440\\u0430\\u0434\\u0438\\u0430\\u0442\\u043e\\u0440\\u044b \\u0438 \\u043e\\u0431\\u043e\\u0433\\u0440\\u0435\\u0432\\u0430\\u0442\\u0435\\u043b\\u0438\",\"\\u0440\\u0430\\u043a\\u043e\\u0432\\u0438\\u043d\\u0430 \\u043d\\u0430 \\u0441\\u0442\\u0438\\u0440\\u0430\\u043b\\u044c\\u043d\\u0443\\u044e \\u043c\\u0430\\u0448\\u0438\\u043d\\u0443\",\"\\u0440\\u0430\\u043a\\u043e\\u0432\\u0438\\u043d\\u0430 \\u0441 \\u043f\\u044c\\u0435\\u0434\\u0435\\u0441\\u0442\\u0430\\u043b\\u043e\\u043c\",\"\\u0440\\u0430\\u043a\\u043e\\u0432\\u0438\\u043d\\u044b\",\"\\u0440\\u0430\\u043a\\u043e\\u0432\\u0438\\u043d\\u044b \\u0441 \\u043f\\u044c\\u0435\\u0434\\u0435\\u0441\\u0442\\u0430\\u043b\\u043e\\u043c\",\"\\u0440\\u0430\\u0441\\u0445\\u043e\\u0434\\u043d\\u044b\\u0435 \\u043c\\u0430\\u0442\\u0435\\u0440\\u0438\\u0430\\u043b\\u044b\",\"\\u0440\\u0435\\u0432\\u0438\\u0437\\u0438\\u043e\\u043d\\u043d\\u044b\\u0435 \\u043b\\u044e\\u043a\\u0438\",\"\\u0440\\u0435\\u0432\\u0438\\u0437\\u0438\\u043e\\u043d\\u043d\\u044b\\u044b\\u0435 \\u043b\\u044e\\u043a\\u0438\",\"\\u0440\\u044f\\u0434\\u043e\\u043c \\u0441 \\u0440\\u0430\\u043a\\u043e\\u0432\\u0438\\u043d\\u043e\\u0439\",\"\\u0441 \\u043f\\u043e\\u0434\\u0441\\u0432\\u0435\\u0442\\u043a\\u043e\\u0439\",\"\\u0441\\u0430\\u043d\\u0442\\u0435\\u0445\\u043d\\u0438\\u043a\\u0430 \\u0434\\u043b\\u044f \\u0434\\u0430\\u0447\\u0438\",\"\\u0441\\u0430\\u043d\\u0442\\u0435\\u0445\\u043d\\u0438\\u0447\\u0435\\u0441\\u043a\\u0438\\u0435 \\u0448\\u043a\\u0430\\u0444\\u044b\",\"\\u0441\\u0432\\u0435\\u0442\\u0438\\u043b\\u044c\\u043d\\u0438\\u043a\\u0438\",\"\\u0441\\u0435\\u043d\\u0441\\u043e\\u0440\\u043d\\u044b\\u0435 \\u0441\\u043c\\u0435\\u0441\\u0438\\u0442\\u0435\\u043b\\u0438\",\"\\u0441\\u0438\\u0434\\u0435\\u043d\\u044c\\u044f\",\"\\u0441\\u0438\\u0434\\u0435\\u043d\\u044c\\u044f \\u0434\\u043b\\u044f \\u0434\\u0443\\u0448\\u0430\",\"\\u0441\\u0438\\u0434\\u0435\\u043d\\u044c\\u044f \\u043d\\u0430 \\u0432\\u0430\\u043d\\u043d\\u0443\",\"\\u0441\\u0438\\u0441\\u0442\\u0435\\u043c\\u044b \\u0437\\u0430\\u0449\\u0438\\u0442\\u044b \\u043e\\u0442 \\u043f\\u0440\\u043e\\u0442\\u0435\\u0447\\u0435\\u043a\",\"\\u0441\\u0438\\u0444\\u043e\\u043d\\u044b\",\"\\u0441\\u0438\\u0444\\u043e\\u043d\\u044b \\u0434\\u043b\\u044f \\u0431\\u0438\\u0434\\u0435\",\"\\u0441\\u0438\\u0444\\u043e\\u043d\\u044b \\u0434\\u043b\\u044f \\u0434\\u0443\\u0448\\u0435\\u0432\\u044b\\u0445 \\u043f\\u043e\\u0434\\u0434\\u043e\\u043d\\u043e\\u0432\",\"\\u0441\\u0438\\u0444\\u043e\\u043d\\u044b \\u0434\\u043b\\u044f \\u043c\\u043e\\u0435\\u043a\",\"\\u0441\\u0438\\u0444\\u043e\\u043d\\u044b \\u0434\\u043b\\u044f \\u0440\\u0430\\u043a\\u043e\\u0432\\u0438\\u043d\",\"\\u0441\\u043a\\u0440\\u0435\\u0431\\u043a\\u0438 \\u0434\\u043b\\u044f \\u0441\\u0442\\u0451\\u043a\\u043e\\u043b\",\"\\u0441\\u043b\\u0438\\u0432 \\u0434\\u043b\\u044f \\u0443\\u043d\\u0438\\u0442\\u0430\\u0437\\u043e\\u0432\",\"\\u0441\\u043b\\u0438\\u0432 \\u0438 \\u043a\\u0430\\u043d\\u0430\\u043b\\u0438\\u0437\\u0430\\u0446\\u0438\\u044f\",\"\\u0441\\u043b\\u0438\\u0432\\u044b-\\u043f\\u0435\\u0440\\u0435\\u043b\\u0438\\u0432\\u044b\",\"\\u0441\\u043b\\u0438\\u0432\\u044b-\\u043f\\u0435\\u0440\\u0435\\u043b\\u0438\\u0432\\u044b \\u0434\\u043b\\u044f \\u0432\\u0430\\u043d\\u043d\",\"\\u0441\\u043c\\u0435\\u0441\\u0438\\u0442\\u0435\\u043b\\u0438 \\u0434\\u043b\\u044f \\u0431\\u0438\\u0434\\u0435\",\"\\u0441\\u043c\\u0435\\u0441\\u0438\\u0442\\u0435\\u043b\\u0438 \\u0434\\u043b\\u044f \\u0432\\u0430\\u043d\\u043d\\u044b\",\"\\u0441\\u043c\\u0435\\u0441\\u0438\\u0442\\u0435\\u043b\\u0438 \\u0434\\u043b\\u044f \\u0432\\u0430\\u043d\\u043d\\u044b \\u0441 \\u0434\\u0443\\u0448\\u0435\\u043c\",\"\\u0441\\u043c\\u0435\\u0441\\u0438\\u0442\\u0435\\u043b\\u0438 \\u0434\\u043b\\u044f \\u0434\\u0443\\u0448\\u0430\",\"\\u0441\\u043c\\u0435\\u0441\\u0438\\u0442\\u0435\\u043b\\u0438 \\u0434\\u043b\\u044f \\u043a\\u0443\\u0445\\u043d\\u0438\",\"\\u0441\\u043c\\u0435\\u0441\\u0438\\u0442\\u0435\\u043b\\u0438 \\u0434\\u043b\\u044f \\u0440\\u0430\\u043a\\u043e\\u0432\\u0438\\u043d\",\"\\u0441\\u043c\\u0435\\u0441\\u0438\\u0442\\u0435\\u043b\\u0438 \\u0434\\u043b\\u044f \\u0440\\u0430\\u043a\\u043e\\u0432\\u0438\\u043d\\u044b\",\"\\u0441\\u043c\\u044b\\u0432\\u043d\\u044b\\u0435 \\u0431\\u0430\\u0447\\u043a\\u0438 \\u0441\\u043a\\u0440\\u044b\\u0442\\u043e\\u0433\\u043e \\u043c\\u043e\\u043d\\u0442\\u0430\\u0436\\u0430\",\"\\u0441\\u0440\\u0435\\u0434\\u0441\\u0442\\u0432\\u043e \\u0434\\u043b\\u044f \\u043c\\u0435\\u0442\\u0430\\u043b\\u043b\\u0438\\u0447\\u0435\\u0441\\u043a\\u0438\\u0445 \\u043f\\u043e\\u0432\\u0435\\u0440\\u0445\\u043d\\u043e\\u0441\\u0442\\u0435\\u0439\",\"\\u0441\\u0442\\u0430\\u043a\\u0430\\u043d\\u044b\",\"\\u0441\\u0442\\u0430\\u043b\\u044c\\u043d\\u044b\\u0435\",\"\\u0441\\u0442\\u0435\\u043a\\u043b\\u044f\\u043d\\u043d\\u044b\\u0435 \\u0438 \\u043f\\u043b\\u0430\\u0441\\u0442\\u0438\\u043a\\u043e\\u0432\\u044b\\u0435 \\u0448\\u0442\\u043e\\u0440\\u043a\\u0438\",\"\\u0441\\u0442\\u0435\\u043b\\u043b\\u0430\\u0436\\u0438\",\"\\u0441\\u0442\\u0438\\u0440\\u043a\\u0430\",\"\\u0441\\u0442\\u043e\\u043b\\u0435\\u0448\\u043d\\u0438\\u0446\\u0430 \\u0441 \\u0440\\u0430\\u043a\\u043e\\u0432\\u0438\\u043d\\u043e\\u0439\",\"\\u0441\\u0442\\u043e\\u043b\\u0435\\u0448\\u043d\\u0438\\u0446\\u044b \\u0441 \\u0440\\u0430\\u043a\\u043e\\u0432\\u0438\\u043d\\u043e\\u0439\",\"\\u0441\\u0442\\u043e\\u043b\\u0438\\u043a\\u0438 \\u0434\\u043b\\u044f \\u0432\\u0430\\u043d\\u043d\\u044b\",\"\\u0441\\u0442\\u043e\\u043b\\u044b \\u0434\\u043b\\u044f \\u0431\\u0430\\u043d\\u0438 \\u0438 \\u0441\\u0430\\u0443\\u043d\\u044b\",\"\\u0441\\u0442\\u0440\\u0435\\u043c\\u044f\\u043d\\u043a\\u0438\",\"\\u0441\\u0442\\u0443\\u043b\\u044c\\u044f \\u0438 \\u043b\\u0430\\u0432\\u043e\\u0447\\u043a\\u0438 \\u0434\\u043b\\u044f \\u0431\\u0430\\u043d\\u0438 \\u0438 \\u0441\\u0430\\u0443\\u043d\\u044b\",\"\\u0441\\u0443\\u0448\\u0438\\u043b\\u043a\\u0438 \\u0434\\u043b\\u044f \\u0431\\u0435\\u043b\\u044c\\u044f\",\"\\u0441\\u0443\\u0448\\u0438\\u043b\\u043a\\u0438 \\u0434\\u043b\\u044f \\u0440\\u0443\\u043a\",\"\\u0442\\u0435\\u043a\\u0441\\u0442\\u0438\\u043b\\u044c\\u043d\\u044b\\u0435 \\u0448\\u0442\\u043e\\u0440\\u044b\",\"\\u0442\\u0435\\u043f\\u043b\\u044b\\u0435 \\u043f\\u043e\\u043b\\u044b\",\"\\u0442\\u0435\\u0440\\u043c\\u043e\\u043c\\u0435\\u0442\\u0440\\u044b\",\"\\u0442\\u0443\\u0430\\u043b\\u0435\\u0442\\u043d\\u0430\\u044f \\u0431\\u0443\\u043c\\u0430\\u0433\\u0430\",\"\\u0442\\u0443\\u043c\\u0431\\u044b\",\"\\u0442\\u0443\\u043c\\u0431\\u044b \\u0432 \\u0432\\u0430\\u043d\\u043d\\u0443\\u044e \\u043a\\u043e\\u043c\\u043d\\u0430\\u0442\\u0443\",\"\\u0442\\u0443\\u043c\\u0431\\u044b \\u0441 \\u0440\\u0430\\u043a\\u043e\\u0432\\u0438\\u043d\\u043e\\u0439\",\"\\u0443\\u0432\\u043b\\u0430\\u0436\\u043d\\u0438\\u0442\\u0435\\u043b\\u0438 \\u0432\\u043e\\u0437\\u0434\\u0443\\u0445\\u0430\",\"\\u0443\\u043b\\u0438\\u0447\\u043d\\u044b\\u0435 \\u0441\\u0443\\u0448\\u0438\\u043b\\u043a\\u0438 \\u0434\\u043b\\u044f \\u0431\\u0435\\u043b\\u044c\\u044f\",\"\\u0443\\u043d\\u0438\\u0432\\u0435\\u0440\\u0441\\u0430\\u043b\\u044c\\u043d\\u043e\\u0435 \\u043c\\u043e\\u044e\\u0449\\u0435\\u0435 \\u0441\\u0440\\u0435\\u0434\\u0441\\u0442\\u0432\\u043e\",\"\\u0443\\u043d\\u0438\\u0442\\u0430\\u0437\\u044b\",\"\\u0443\\u0440\\u043d\\u044b\",\"\\u0444\\u0430\\u0440\\u0442\\u0443\\u043a \\u0434\\u043b\\u044f \\u043a\\u0443\\u0445\\u043d\\u0438\",\"\\u0444\\u0435\\u043d\\u044b\",\"\\u0444\\u0438\\u043b\\u044c\\u0442\\u0440\\u044b \\u0434\\u043b\\u044f \\u0432\\u043e\\u0434\\u044b \\u0438 \\u043a\\u0443\\u043b\\u0435\\u0440\\u044b\",\"\\u0444\\u0438\\u043b\\u044c\\u0442\\u0440\\u044b \\u043f\\u043e\\u0434 \\u043c\\u043e\\u0439\\u043a\\u0443\",\"\\u0444\\u0438\\u043b\\u044c\\u0442\\u0440\\u044b \\u0440\\u044f\\u0434\\u043e\\u043c \\u0441 \\u043c\\u043e\\u0439\\u043a\\u043e\\u0439\",\"\\u0445\\u0440\\u0430\\u043d\\u0435\\u043d\\u0438\\u0435\",\"\\u0447\\u0430\\u0441\\u044b\",\"\\u0447\\u0430\\u0448\\u0438 \\u0433\\u0435\\u043d\\u0443\\u044f\",\"\\u0447\\u0443\\u0433\\u0443\\u043d\\u043d\\u044b\\u0435\",\"\\u0448\\u0430\\u043f\\u043a\\u0438\",\"\\u0448\\u043a\\u0430\\u0444\\u044b\",\"\\u0448\\u043a\\u0430\\u0444\\u044b-\\u043f\\u0435\\u043d\\u0430\\u043b\\u044b\",\"\\u0448\\u0442\\u043e\\u0440\\u043a\\u0438 \\u043d\\u0430 \\u0432\\u0430\\u043d\\u043d\\u0443\",\"\\u0448\\u0442\\u043e\\u0440\\u043a\\u0438 \\u0441\\u0442\\u0435\\u043a\\u043b\\u044f\\u043d\\u043d\\u044b\\u0435\",\"\\u0448\\u0442\\u043e\\u0440\\u043a\\u0438 \\u0442\\u0435\\u043a\\u0441\\u0442\\u0438\\u043b\\u044c\\u043d\\u044b\\u0435\",\"\\u044d\\u043a\\u0440\\u0430\\u043d\\u044b \\u0434\\u043b\\u044f \\u0432\\u0430\\u043d\\u043d\",\"\\u0451\\u0440\\u0448\\u0438\\u043a\\u0438\",\"all\"],\"marker\":{\"coloraxis\":\"coloraxis\",\"colors\":[13.0,1.0,4.0,4.0,1.0,75.0,45.0,121.0,12.0,87.0,108.0,7.0,3.0,14.0,157.0,2.0,8.0,14.0,47.0,3.0,8.0,4874.0,6.0,11.0,28.0,539.0,995.0,2.0,1.0,46.0,11.0,117.0,11.0,835.0,1.0,8.0,6.0,68.0,3.0,1.0,2.0,1.0,4.0,7.0,14.0,11.0,225.0,13.0,13.0,5.0,325.0,37.0,1147.0,4.0,406.0,29.0,1095.0,6.0,4.0,1.0,135.0,170.0,2708.0,12.0,1.0,110.0,165.0,240.0,3.0,120.0,61.0,4.0,62.0,198.0,426.0,838.0,669.0,724.0,178.0,651.0,605.0,1611.0,114.0,2.0,1443.0,3.0,51.0,5.0,218.0,19.0,1267.0,634.0,26.0,50.0,5.0,53.0,31.0,11.0,916.0,741.0,18.0,38.0,1.0,62.0,16.0,6.0,21.0,107.0,10.0,279.0,45.0,1.0,139.0,2.0,252.0,529.0,1.0,54.0,126.0,9.0,55.0,20.0,40.0,13.0,138.0,7.0,1625.0,25.0,51.0,35.0,22.0,5.0,4.0,401.0,2106.0,8.0,11.0,40.0,7.0,63.0,20.0,168.0,2.0,29.0,3.0,2.0,1.0,1.0,1.0,27.0,8.0,8.0,1.0,6.0,117.0,348.0,1.0,21.0,3.0,1.0,2.0,5.0,2.0,1.0,266.0,43.0,62.0,1.0,103.0,2626.0,4.0,17.0,178.0,1.0,1.0,504.0,230.0,163.0,4166.0,1.0,5.0,56.0,13.0,216.0,2.0,7.0,55.0,110.0,8.0,35.0,26.0,2.0,52.0,325.0,5.0,1.0,1.0,3.0,21.0,30.0,390.0,222.0,5.0,15.0,52.0,9.0,10.0,553.0,216.0,84.0,24.0,2.0,43.0,1.0,21.0,7.0,10.0,379.0,3.0,8.0,1.0,41.0,1.0,13.0,17.0,26.0,81.0,3.0,1.0,364.0,3.0,4384.0,3.0,1.0,2.0,4555.0,17.0,49.0,8.0,24.0,189.0,5.0,50.0,2.0,3.0,1.0,1.0,323.0,519.0,2.0,409.0,41.0,206.0,129.0,2129.1647736249847]},\"name\":\"\",\"parents\":[\"all\",\"all\",\"all\",\"all\",\"all\",\"all\",\"all\",\"all\",\"all\",\"all\",\"all\",\"all\",\"all\",\"all\",\"all\",\"all\",\"all\",\"all\",\"all\",\"all\",\"all\",\"all\",\"all\",\"all\",\"all\",\"all\",\"all\",\"all\",\"all\",\"all\",\"all\",\"all\",\"all\",\"all\",\"all\",\"all\",\"all\",\"all\",\"all\",\"all\",\"all\",\"all\",\"all\",\"all\",\"all\",\"all\",\"all\",\"all\",\"all\",\"all\",\"all\",\"all\",\"all\",\"all\",\"all\",\"all\",\"all\",\"all\",\"all\",\"all\",\"all\",\"all\",\"all\",\"all\",\"all\",\"all\",\"all\",\"all\",\"all\",\"all\",\"all\",\"all\",\"all\",\"all\",\"all\",\"all\",\"all\",\"all\",\"all\",\"all\",\"all\",\"all\",\"all\",\"all\",\"all\",\"all\",\"all\",\"all\",\"all\",\"all\",\"all\",\"all\",\"all\",\"all\",\"all\",\"all\",\"all\",\"all\",\"all\",\"all\",\"all\",\"all\",\"all\",\"all\",\"all\",\"all\",\"all\",\"all\",\"all\",\"all\",\"all\",\"all\",\"all\",\"all\",\"all\",\"all\",\"all\",\"all\",\"all\",\"all\",\"all\",\"all\",\"all\",\"all\",\"all\",\"all\",\"all\",\"all\",\"all\",\"all\",\"all\",\"all\",\"all\",\"all\",\"all\",\"all\",\"all\",\"all\",\"all\",\"all\",\"all\",\"all\",\"all\",\"all\",\"all\",\"all\",\"all\",\"all\",\"all\",\"all\",\"all\",\"all\",\"all\",\"all\",\"all\",\"all\",\"all\",\"all\",\"all\",\"all\",\"all\",\"all\",\"all\",\"all\",\"all\",\"all\",\"all\",\"all\",\"all\",\"all\",\"all\",\"all\",\"all\",\"all\",\"all\",\"all\",\"all\",\"all\",\"all\",\"all\",\"all\",\"all\",\"all\",\"all\",\"all\",\"all\",\"all\",\"all\",\"all\",\"all\",\"all\",\"all\",\"all\",\"all\",\"all\",\"all\",\"all\",\"all\",\"all\",\"all\",\"all\",\"all\",\"all\",\"all\",\"all\",\"all\",\"all\",\"all\",\"all\",\"all\",\"all\",\"all\",\"all\",\"all\",\"all\",\"all\",\"all\",\"all\",\"all\",\"all\",\"all\",\"all\",\"all\",\"all\",\"all\",\"all\",\"all\",\"all\",\"all\",\"all\",\"all\",\"all\",\"all\",\"all\",\"all\",\"all\",\"all\",\"all\",\"all\",\"all\",\"all\",\"all\",\"all\",\"all\",\"all\",\"all\",\"all\",\"all\",\"all\",\"all\",\"all\",\"all\",\"all\",\"all\",\"\"],\"type\":\"treemap\",\"values\":[13,1,4,4,1,75,45,121,12,87,108,7,3,14,157,2,8,14,47,3,8,4874,6,11,28,539,995,2,1,46,11,117,11,835,1,8,6,68,3,1,2,1,4,7,14,11,225,13,13,5,325,37,1147,4,406,29,1095,6,4,1,135,170,2708,12,1,110,165,240,3,120,61,4,62,198,426,838,669,724,178,651,605,1611,114,2,1443,3,51,5,218,19,1267,634,26,50,5,53,31,11,916,741,18,38,1,62,16,6,21,107,10,279,45,1,139,2,252,529,1,54,126,9,55,20,40,13,138,7,1625,25,51,35,22,5,4,401,2106,8,11,40,7,63,20,168,2,29,3,2,1,1,1,27,8,8,1,6,117,348,1,21,3,1,2,5,2,1,266,43,62,1,103,2626,4,17,178,1,1,504,230,163,4166,1,5,56,13,216,2,7,55,110,8,35,26,2,52,325,5,1,1,3,21,30,390,222,5,15,52,9,10,553,216,84,24,2,43,1,21,7,10,379,3,8,1,41,1,13,17,26,81,3,1,364,3,4384,3,1,2,4555,17,49,8,24,189,5,50,2,3,1,1,323,519,2,409,41,206,129,56963]}],                        {\"coloraxis\":{\"cmid\":2129.1647736249847,\"colorbar\":{\"title\":{\"text\":\"count_sum\"}},\"colorscale\":[[0.0,\"rgb(103,0,31)\"],[0.1,\"rgb(178,24,43)\"],[0.2,\"rgb(214,96,77)\"],[0.3,\"rgb(244,165,130)\"],[0.4,\"rgb(253,219,199)\"],[0.5,\"rgb(247,247,247)\"],[0.6,\"rgb(209,229,240)\"],[0.7,\"rgb(146,197,222)\"],[0.8,\"rgb(67,147,195)\"],[0.9,\"rgb(33,102,172)\"],[1.0,\"rgb(5,48,97)\"]]},\"legend\":{\"tracegroupgap\":0},\"margin\":{\"b\":25,\"l\":25,\"r\":25,\"t\":50},\"template\":{\"data\":{\"bar\":[{\"error_x\":{\"color\":\"#2a3f5f\"},\"error_y\":{\"color\":\"#2a3f5f\"},\"marker\":{\"line\":{\"color\":\"#E5ECF6\",\"width\":0.5},\"pattern\":{\"fillmode\":\"overlay\",\"size\":10,\"solidity\":0.2}},\"type\":\"bar\"}],\"barpolar\":[{\"marker\":{\"line\":{\"color\":\"#E5ECF6\",\"width\":0.5},\"pattern\":{\"fillmode\":\"overlay\",\"size\":10,\"solidity\":0.2}},\"type\":\"barpolar\"}],\"carpet\":[{\"aaxis\":{\"endlinecolor\":\"#2a3f5f\",\"gridcolor\":\"white\",\"linecolor\":\"white\",\"minorgridcolor\":\"white\",\"startlinecolor\":\"#2a3f5f\"},\"baxis\":{\"endlinecolor\":\"#2a3f5f\",\"gridcolor\":\"white\",\"linecolor\":\"white\",\"minorgridcolor\":\"white\",\"startlinecolor\":\"#2a3f5f\"},\"type\":\"carpet\"}],\"choropleth\":[{\"colorbar\":{\"outlinewidth\":0,\"ticks\":\"\"},\"type\":\"choropleth\"}],\"contour\":[{\"colorbar\":{\"outlinewidth\":0,\"ticks\":\"\"},\"colorscale\":[[0.0,\"#0d0887\"],[0.1111111111111111,\"#46039f\"],[0.2222222222222222,\"#7201a8\"],[0.3333333333333333,\"#9c179e\"],[0.4444444444444444,\"#bd3786\"],[0.5555555555555556,\"#d8576b\"],[0.6666666666666666,\"#ed7953\"],[0.7777777777777778,\"#fb9f3a\"],[0.8888888888888888,\"#fdca26\"],[1.0,\"#f0f921\"]],\"type\":\"contour\"}],\"contourcarpet\":[{\"colorbar\":{\"outlinewidth\":0,\"ticks\":\"\"},\"type\":\"contourcarpet\"}],\"heatmap\":[{\"colorbar\":{\"outlinewidth\":0,\"ticks\":\"\"},\"colorscale\":[[0.0,\"#0d0887\"],[0.1111111111111111,\"#46039f\"],[0.2222222222222222,\"#7201a8\"],[0.3333333333333333,\"#9c179e\"],[0.4444444444444444,\"#bd3786\"],[0.5555555555555556,\"#d8576b\"],[0.6666666666666666,\"#ed7953\"],[0.7777777777777778,\"#fb9f3a\"],[0.8888888888888888,\"#fdca26\"],[1.0,\"#f0f921\"]],\"type\":\"heatmap\"}],\"heatmapgl\":[{\"colorbar\":{\"outlinewidth\":0,\"ticks\":\"\"},\"colorscale\":[[0.0,\"#0d0887\"],[0.1111111111111111,\"#46039f\"],[0.2222222222222222,\"#7201a8\"],[0.3333333333333333,\"#9c179e\"],[0.4444444444444444,\"#bd3786\"],[0.5555555555555556,\"#d8576b\"],[0.6666666666666666,\"#ed7953\"],[0.7777777777777778,\"#fb9f3a\"],[0.8888888888888888,\"#fdca26\"],[1.0,\"#f0f921\"]],\"type\":\"heatmapgl\"}],\"histogram\":[{\"marker\":{\"pattern\":{\"fillmode\":\"overlay\",\"size\":10,\"solidity\":0.2}},\"type\":\"histogram\"}],\"histogram2d\":[{\"colorbar\":{\"outlinewidth\":0,\"ticks\":\"\"},\"colorscale\":[[0.0,\"#0d0887\"],[0.1111111111111111,\"#46039f\"],[0.2222222222222222,\"#7201a8\"],[0.3333333333333333,\"#9c179e\"],[0.4444444444444444,\"#bd3786\"],[0.5555555555555556,\"#d8576b\"],[0.6666666666666666,\"#ed7953\"],[0.7777777777777778,\"#fb9f3a\"],[0.8888888888888888,\"#fdca26\"],[1.0,\"#f0f921\"]],\"type\":\"histogram2d\"}],\"histogram2dcontour\":[{\"colorbar\":{\"outlinewidth\":0,\"ticks\":\"\"},\"colorscale\":[[0.0,\"#0d0887\"],[0.1111111111111111,\"#46039f\"],[0.2222222222222222,\"#7201a8\"],[0.3333333333333333,\"#9c179e\"],[0.4444444444444444,\"#bd3786\"],[0.5555555555555556,\"#d8576b\"],[0.6666666666666666,\"#ed7953\"],[0.7777777777777778,\"#fb9f3a\"],[0.8888888888888888,\"#fdca26\"],[1.0,\"#f0f921\"]],\"type\":\"histogram2dcontour\"}],\"mesh3d\":[{\"colorbar\":{\"outlinewidth\":0,\"ticks\":\"\"},\"type\":\"mesh3d\"}],\"parcoords\":[{\"line\":{\"colorbar\":{\"outlinewidth\":0,\"ticks\":\"\"}},\"type\":\"parcoords\"}],\"pie\":[{\"automargin\":true,\"type\":\"pie\"}],\"scatter\":[{\"marker\":{\"colorbar\":{\"outlinewidth\":0,\"ticks\":\"\"}},\"type\":\"scatter\"}],\"scatter3d\":[{\"line\":{\"colorbar\":{\"outlinewidth\":0,\"ticks\":\"\"}},\"marker\":{\"colorbar\":{\"outlinewidth\":0,\"ticks\":\"\"}},\"type\":\"scatter3d\"}],\"scattercarpet\":[{\"marker\":{\"colorbar\":{\"outlinewidth\":0,\"ticks\":\"\"}},\"type\":\"scattercarpet\"}],\"scattergeo\":[{\"marker\":{\"colorbar\":{\"outlinewidth\":0,\"ticks\":\"\"}},\"type\":\"scattergeo\"}],\"scattergl\":[{\"marker\":{\"colorbar\":{\"outlinewidth\":0,\"ticks\":\"\"}},\"type\":\"scattergl\"}],\"scattermapbox\":[{\"marker\":{\"colorbar\":{\"outlinewidth\":0,\"ticks\":\"\"}},\"type\":\"scattermapbox\"}],\"scatterpolar\":[{\"marker\":{\"colorbar\":{\"outlinewidth\":0,\"ticks\":\"\"}},\"type\":\"scatterpolar\"}],\"scatterpolargl\":[{\"marker\":{\"colorbar\":{\"outlinewidth\":0,\"ticks\":\"\"}},\"type\":\"scatterpolargl\"}],\"scatterternary\":[{\"marker\":{\"colorbar\":{\"outlinewidth\":0,\"ticks\":\"\"}},\"type\":\"scatterternary\"}],\"surface\":[{\"colorbar\":{\"outlinewidth\":0,\"ticks\":\"\"},\"colorscale\":[[0.0,\"#0d0887\"],[0.1111111111111111,\"#46039f\"],[0.2222222222222222,\"#7201a8\"],[0.3333333333333333,\"#9c179e\"],[0.4444444444444444,\"#bd3786\"],[0.5555555555555556,\"#d8576b\"],[0.6666666666666666,\"#ed7953\"],[0.7777777777777778,\"#fb9f3a\"],[0.8888888888888888,\"#fdca26\"],[1.0,\"#f0f921\"]],\"type\":\"surface\"}],\"table\":[{\"cells\":{\"fill\":{\"color\":\"#EBF0F8\"},\"line\":{\"color\":\"white\"}},\"header\":{\"fill\":{\"color\":\"#C8D4E3\"},\"line\":{\"color\":\"white\"}},\"type\":\"table\"}]},\"layout\":{\"annotationdefaults\":{\"arrowcolor\":\"#2a3f5f\",\"arrowhead\":0,\"arrowwidth\":1},\"autotypenumbers\":\"strict\",\"coloraxis\":{\"colorbar\":{\"outlinewidth\":0,\"ticks\":\"\"}},\"colorscale\":{\"diverging\":[[0,\"#8e0152\"],[0.1,\"#c51b7d\"],[0.2,\"#de77ae\"],[0.3,\"#f1b6da\"],[0.4,\"#fde0ef\"],[0.5,\"#f7f7f7\"],[0.6,\"#e6f5d0\"],[0.7,\"#b8e186\"],[0.8,\"#7fbc41\"],[0.9,\"#4d9221\"],[1,\"#276419\"]],\"sequential\":[[0.0,\"#0d0887\"],[0.1111111111111111,\"#46039f\"],[0.2222222222222222,\"#7201a8\"],[0.3333333333333333,\"#9c179e\"],[0.4444444444444444,\"#bd3786\"],[0.5555555555555556,\"#d8576b\"],[0.6666666666666666,\"#ed7953\"],[0.7777777777777778,\"#fb9f3a\"],[0.8888888888888888,\"#fdca26\"],[1.0,\"#f0f921\"]],\"sequentialminus\":[[0.0,\"#0d0887\"],[0.1111111111111111,\"#46039f\"],[0.2222222222222222,\"#7201a8\"],[0.3333333333333333,\"#9c179e\"],[0.4444444444444444,\"#bd3786\"],[0.5555555555555556,\"#d8576b\"],[0.6666666666666666,\"#ed7953\"],[0.7777777777777778,\"#fb9f3a\"],[0.8888888888888888,\"#fdca26\"],[1.0,\"#f0f921\"]]},\"colorway\":[\"#636efa\",\"#EF553B\",\"#00cc96\",\"#ab63fa\",\"#FFA15A\",\"#19d3f3\",\"#FF6692\",\"#B6E880\",\"#FF97FF\",\"#FECB52\"],\"font\":{\"color\":\"#2a3f5f\"},\"geo\":{\"bgcolor\":\"white\",\"lakecolor\":\"white\",\"landcolor\":\"#E5ECF6\",\"showlakes\":true,\"showland\":true,\"subunitcolor\":\"white\"},\"hoverlabel\":{\"align\":\"left\"},\"hovermode\":\"closest\",\"mapbox\":{\"style\":\"light\"},\"paper_bgcolor\":\"white\",\"plot_bgcolor\":\"#E5ECF6\",\"polar\":{\"angularaxis\":{\"gridcolor\":\"white\",\"linecolor\":\"white\",\"ticks\":\"\"},\"bgcolor\":\"#E5ECF6\",\"radialaxis\":{\"gridcolor\":\"white\",\"linecolor\":\"white\",\"ticks\":\"\"}},\"scene\":{\"xaxis\":{\"backgroundcolor\":\"#E5ECF6\",\"gridcolor\":\"white\",\"gridwidth\":2,\"linecolor\":\"white\",\"showbackground\":true,\"ticks\":\"\",\"zerolinecolor\":\"white\"},\"yaxis\":{\"backgroundcolor\":\"#E5ECF6\",\"gridcolor\":\"white\",\"gridwidth\":2,\"linecolor\":\"white\",\"showbackground\":true,\"ticks\":\"\",\"zerolinecolor\":\"white\"},\"zaxis\":{\"backgroundcolor\":\"#E5ECF6\",\"gridcolor\":\"white\",\"gridwidth\":2,\"linecolor\":\"white\",\"showbackground\":true,\"ticks\":\"\",\"zerolinecolor\":\"white\"}},\"shapedefaults\":{\"line\":{\"color\":\"#2a3f5f\"}},\"ternary\":{\"aaxis\":{\"gridcolor\":\"white\",\"linecolor\":\"white\",\"ticks\":\"\"},\"baxis\":{\"gridcolor\":\"white\",\"linecolor\":\"white\",\"ticks\":\"\"},\"bgcolor\":\"#E5ECF6\",\"caxis\":{\"gridcolor\":\"white\",\"linecolor\":\"white\",\"ticks\":\"\"}},\"title\":{\"x\":0.05},\"xaxis\":{\"automargin\":true,\"gridcolor\":\"white\",\"linecolor\":\"white\",\"ticks\":\"\",\"title\":{\"standoff\":15},\"zerolinecolor\":\"white\",\"zerolinewidth\":2},\"yaxis\":{\"automargin\":true,\"gridcolor\":\"white\",\"linecolor\":\"white\",\"ticks\":\"\",\"title\":{\"standoff\":15},\"zerolinecolor\":\"white\",\"zerolinewidth\":2}}}},                        {\"responsive\": true}                    ).then(function(){\n",
       "                            \n",
       "var gd = document.getElementById('22208392-2c8d-46b3-9f26-a5587db7f5c8');\n",
       "var x = new MutationObserver(function (mutations, observer) {{\n",
       "        var display = window.getComputedStyle(gd).display;\n",
       "        if (!display || display === 'none') {{\n",
       "            console.log([gd, 'removed!']);\n",
       "            Plotly.purge(gd);\n",
       "            observer.disconnect();\n",
       "        }}\n",
       "}});\n",
       "\n",
       "// Listen for the removal of the full notebook cells\n",
       "var notebookContainer = gd.closest('#notebook-container');\n",
       "if (notebookContainer) {{\n",
       "    x.observe(notebookContainer, {childList: true});\n",
       "}}\n",
       "\n",
       "// Listen for the clearing of the current output cell\n",
       "var outputEl = gd.closest('.output');\n",
       "if (outputEl) {{\n",
       "    x.observe(outputEl, {childList: true});\n",
       "}}\n",
       "\n",
       "                        })                };                });            </script>        </div>"
      ]
     },
     "metadata": {},
     "output_type": "display_data"
    }
   ],
   "source": [
    "categ_distribution_visualization_lower(categ)\n"
   ]
  },
  {
   "cell_type": "markdown",
   "id": "db49cf35",
   "metadata": {},
   "source": [
    "##  Каталог. Сравнение показателей вовлеченности \n"
   ]
  },
  {
   "cell_type": "code",
   "execution_count": 13,
   "id": "0123d8be",
   "metadata": {},
   "outputs": [
    {
     "data": {
      "application/vnd.plotly.v1+json": {
       "config": {
        "plotlyServerURL": "https://plot.ly"
       },
       "data": [
        {
         "cells": {
          "align": [
           "left",
           "center"
          ],
          "fill": {
           "color": [
            [
             "rgb(229, 238, 255)",
             "rgb(229, 238, 255)",
             "rgb(229, 238, 255)",
             "#a1bcf7",
             "rgb(229, 238, 255)",
             "#a1bcf7",
             "rgb(229, 238, 255)",
             "#a1bcf7"
            ],
            [
             "white",
             "white",
             "white",
             "#d9d9d9",
             "white",
             "#d9d9d9",
             "white",
             "#d9d9d9"
            ],
            [
             "white",
             "white",
             "white",
             "#d9d9d9",
             "white",
             "#d9d9d9",
             "white",
             "#d9d9d9"
            ],
            [
             "white",
             "white",
             "white",
             "#d9d9d9",
             "white",
             "#d9d9d9",
             "white",
             "#d9d9d9"
            ]
           ]
          },
          "font": {
           "size": 12
          },
          "height": 30,
          "line": {
           "color": "darkslategray"
          },
          "values": [
           [
            "sessions_count",
            "GT%",
            "catalog_open_sessions",
            "CR в уник. клики,%",
            "catalog_open_count",
            "Частота кликов",
            "Сессии с выходом",
            "Показатель выхода,%"
           ],
           [
            319658,
            54.79,
            25323,
            7.92,
            39312,
            1.55,
            676,
            2.67
           ],
           [
            263782,
            45.21,
            17035,
            6.46,
            27909,
            1.64,
            392,
            2.3
           ],
           [
            -17.48,
            -17.48,
            -32.73,
            -18.43,
            -29.01,
            5.81,
            -42.01,
            -13.86
           ]
          ]
         },
         "columnwidth": [
          150,
          160,
          160,
          160
         ],
         "header": {
          "align": [
           "left",
           "center"
          ],
          "fill": {
           "color": "rgb(103,112,244)"
          },
          "font": {
           "color": "white",
           "size": 12
          },
          "height": 40,
          "line": {
           "color": "darkslategray"
          },
          "values": [
           "",
           "before",
           "after",
           "diff,%"
          ]
         },
         "type": "table"
        }
       ],
       "layout": {
        "template": {
         "data": {
          "bar": [
           {
            "error_x": {
             "color": "#2a3f5f"
            },
            "error_y": {
             "color": "#2a3f5f"
            },
            "marker": {
             "line": {
              "color": "#E5ECF6",
              "width": 0.5
             },
             "pattern": {
              "fillmode": "overlay",
              "size": 10,
              "solidity": 0.2
             }
            },
            "type": "bar"
           }
          ],
          "barpolar": [
           {
            "marker": {
             "line": {
              "color": "#E5ECF6",
              "width": 0.5
             },
             "pattern": {
              "fillmode": "overlay",
              "size": 10,
              "solidity": 0.2
             }
            },
            "type": "barpolar"
           }
          ],
          "carpet": [
           {
            "aaxis": {
             "endlinecolor": "#2a3f5f",
             "gridcolor": "white",
             "linecolor": "white",
             "minorgridcolor": "white",
             "startlinecolor": "#2a3f5f"
            },
            "baxis": {
             "endlinecolor": "#2a3f5f",
             "gridcolor": "white",
             "linecolor": "white",
             "minorgridcolor": "white",
             "startlinecolor": "#2a3f5f"
            },
            "type": "carpet"
           }
          ],
          "choropleth": [
           {
            "colorbar": {
             "outlinewidth": 0,
             "ticks": ""
            },
            "type": "choropleth"
           }
          ],
          "contour": [
           {
            "colorbar": {
             "outlinewidth": 0,
             "ticks": ""
            },
            "colorscale": [
             [
              0,
              "#0d0887"
             ],
             [
              0.1111111111111111,
              "#46039f"
             ],
             [
              0.2222222222222222,
              "#7201a8"
             ],
             [
              0.3333333333333333,
              "#9c179e"
             ],
             [
              0.4444444444444444,
              "#bd3786"
             ],
             [
              0.5555555555555556,
              "#d8576b"
             ],
             [
              0.6666666666666666,
              "#ed7953"
             ],
             [
              0.7777777777777778,
              "#fb9f3a"
             ],
             [
              0.8888888888888888,
              "#fdca26"
             ],
             [
              1,
              "#f0f921"
             ]
            ],
            "type": "contour"
           }
          ],
          "contourcarpet": [
           {
            "colorbar": {
             "outlinewidth": 0,
             "ticks": ""
            },
            "type": "contourcarpet"
           }
          ],
          "heatmap": [
           {
            "colorbar": {
             "outlinewidth": 0,
             "ticks": ""
            },
            "colorscale": [
             [
              0,
              "#0d0887"
             ],
             [
              0.1111111111111111,
              "#46039f"
             ],
             [
              0.2222222222222222,
              "#7201a8"
             ],
             [
              0.3333333333333333,
              "#9c179e"
             ],
             [
              0.4444444444444444,
              "#bd3786"
             ],
             [
              0.5555555555555556,
              "#d8576b"
             ],
             [
              0.6666666666666666,
              "#ed7953"
             ],
             [
              0.7777777777777778,
              "#fb9f3a"
             ],
             [
              0.8888888888888888,
              "#fdca26"
             ],
             [
              1,
              "#f0f921"
             ]
            ],
            "type": "heatmap"
           }
          ],
          "heatmapgl": [
           {
            "colorbar": {
             "outlinewidth": 0,
             "ticks": ""
            },
            "colorscale": [
             [
              0,
              "#0d0887"
             ],
             [
              0.1111111111111111,
              "#46039f"
             ],
             [
              0.2222222222222222,
              "#7201a8"
             ],
             [
              0.3333333333333333,
              "#9c179e"
             ],
             [
              0.4444444444444444,
              "#bd3786"
             ],
             [
              0.5555555555555556,
              "#d8576b"
             ],
             [
              0.6666666666666666,
              "#ed7953"
             ],
             [
              0.7777777777777778,
              "#fb9f3a"
             ],
             [
              0.8888888888888888,
              "#fdca26"
             ],
             [
              1,
              "#f0f921"
             ]
            ],
            "type": "heatmapgl"
           }
          ],
          "histogram": [
           {
            "marker": {
             "pattern": {
              "fillmode": "overlay",
              "size": 10,
              "solidity": 0.2
             }
            },
            "type": "histogram"
           }
          ],
          "histogram2d": [
           {
            "colorbar": {
             "outlinewidth": 0,
             "ticks": ""
            },
            "colorscale": [
             [
              0,
              "#0d0887"
             ],
             [
              0.1111111111111111,
              "#46039f"
             ],
             [
              0.2222222222222222,
              "#7201a8"
             ],
             [
              0.3333333333333333,
              "#9c179e"
             ],
             [
              0.4444444444444444,
              "#bd3786"
             ],
             [
              0.5555555555555556,
              "#d8576b"
             ],
             [
              0.6666666666666666,
              "#ed7953"
             ],
             [
              0.7777777777777778,
              "#fb9f3a"
             ],
             [
              0.8888888888888888,
              "#fdca26"
             ],
             [
              1,
              "#f0f921"
             ]
            ],
            "type": "histogram2d"
           }
          ],
          "histogram2dcontour": [
           {
            "colorbar": {
             "outlinewidth": 0,
             "ticks": ""
            },
            "colorscale": [
             [
              0,
              "#0d0887"
             ],
             [
              0.1111111111111111,
              "#46039f"
             ],
             [
              0.2222222222222222,
              "#7201a8"
             ],
             [
              0.3333333333333333,
              "#9c179e"
             ],
             [
              0.4444444444444444,
              "#bd3786"
             ],
             [
              0.5555555555555556,
              "#d8576b"
             ],
             [
              0.6666666666666666,
              "#ed7953"
             ],
             [
              0.7777777777777778,
              "#fb9f3a"
             ],
             [
              0.8888888888888888,
              "#fdca26"
             ],
             [
              1,
              "#f0f921"
             ]
            ],
            "type": "histogram2dcontour"
           }
          ],
          "mesh3d": [
           {
            "colorbar": {
             "outlinewidth": 0,
             "ticks": ""
            },
            "type": "mesh3d"
           }
          ],
          "parcoords": [
           {
            "line": {
             "colorbar": {
              "outlinewidth": 0,
              "ticks": ""
             }
            },
            "type": "parcoords"
           }
          ],
          "pie": [
           {
            "automargin": true,
            "type": "pie"
           }
          ],
          "scatter": [
           {
            "marker": {
             "colorbar": {
              "outlinewidth": 0,
              "ticks": ""
             }
            },
            "type": "scatter"
           }
          ],
          "scatter3d": [
           {
            "line": {
             "colorbar": {
              "outlinewidth": 0,
              "ticks": ""
             }
            },
            "marker": {
             "colorbar": {
              "outlinewidth": 0,
              "ticks": ""
             }
            },
            "type": "scatter3d"
           }
          ],
          "scattercarpet": [
           {
            "marker": {
             "colorbar": {
              "outlinewidth": 0,
              "ticks": ""
             }
            },
            "type": "scattercarpet"
           }
          ],
          "scattergeo": [
           {
            "marker": {
             "colorbar": {
              "outlinewidth": 0,
              "ticks": ""
             }
            },
            "type": "scattergeo"
           }
          ],
          "scattergl": [
           {
            "marker": {
             "colorbar": {
              "outlinewidth": 0,
              "ticks": ""
             }
            },
            "type": "scattergl"
           }
          ],
          "scattermapbox": [
           {
            "marker": {
             "colorbar": {
              "outlinewidth": 0,
              "ticks": ""
             }
            },
            "type": "scattermapbox"
           }
          ],
          "scatterpolar": [
           {
            "marker": {
             "colorbar": {
              "outlinewidth": 0,
              "ticks": ""
             }
            },
            "type": "scatterpolar"
           }
          ],
          "scatterpolargl": [
           {
            "marker": {
             "colorbar": {
              "outlinewidth": 0,
              "ticks": ""
             }
            },
            "type": "scatterpolargl"
           }
          ],
          "scatterternary": [
           {
            "marker": {
             "colorbar": {
              "outlinewidth": 0,
              "ticks": ""
             }
            },
            "type": "scatterternary"
           }
          ],
          "surface": [
           {
            "colorbar": {
             "outlinewidth": 0,
             "ticks": ""
            },
            "colorscale": [
             [
              0,
              "#0d0887"
             ],
             [
              0.1111111111111111,
              "#46039f"
             ],
             [
              0.2222222222222222,
              "#7201a8"
             ],
             [
              0.3333333333333333,
              "#9c179e"
             ],
             [
              0.4444444444444444,
              "#bd3786"
             ],
             [
              0.5555555555555556,
              "#d8576b"
             ],
             [
              0.6666666666666666,
              "#ed7953"
             ],
             [
              0.7777777777777778,
              "#fb9f3a"
             ],
             [
              0.8888888888888888,
              "#fdca26"
             ],
             [
              1,
              "#f0f921"
             ]
            ],
            "type": "surface"
           }
          ],
          "table": [
           {
            "cells": {
             "fill": {
              "color": "#EBF0F8"
             },
             "line": {
              "color": "white"
             }
            },
            "header": {
             "fill": {
              "color": "#C8D4E3"
             },
             "line": {
              "color": "white"
             }
            },
            "type": "table"
           }
          ]
         },
         "layout": {
          "annotationdefaults": {
           "arrowcolor": "#2a3f5f",
           "arrowhead": 0,
           "arrowwidth": 1
          },
          "autotypenumbers": "strict",
          "coloraxis": {
           "colorbar": {
            "outlinewidth": 0,
            "ticks": ""
           }
          },
          "colorscale": {
           "diverging": [
            [
             0,
             "#8e0152"
            ],
            [
             0.1,
             "#c51b7d"
            ],
            [
             0.2,
             "#de77ae"
            ],
            [
             0.3,
             "#f1b6da"
            ],
            [
             0.4,
             "#fde0ef"
            ],
            [
             0.5,
             "#f7f7f7"
            ],
            [
             0.6,
             "#e6f5d0"
            ],
            [
             0.7,
             "#b8e186"
            ],
            [
             0.8,
             "#7fbc41"
            ],
            [
             0.9,
             "#4d9221"
            ],
            [
             1,
             "#276419"
            ]
           ],
           "sequential": [
            [
             0,
             "#0d0887"
            ],
            [
             0.1111111111111111,
             "#46039f"
            ],
            [
             0.2222222222222222,
             "#7201a8"
            ],
            [
             0.3333333333333333,
             "#9c179e"
            ],
            [
             0.4444444444444444,
             "#bd3786"
            ],
            [
             0.5555555555555556,
             "#d8576b"
            ],
            [
             0.6666666666666666,
             "#ed7953"
            ],
            [
             0.7777777777777778,
             "#fb9f3a"
            ],
            [
             0.8888888888888888,
             "#fdca26"
            ],
            [
             1,
             "#f0f921"
            ]
           ],
           "sequentialminus": [
            [
             0,
             "#0d0887"
            ],
            [
             0.1111111111111111,
             "#46039f"
            ],
            [
             0.2222222222222222,
             "#7201a8"
            ],
            [
             0.3333333333333333,
             "#9c179e"
            ],
            [
             0.4444444444444444,
             "#bd3786"
            ],
            [
             0.5555555555555556,
             "#d8576b"
            ],
            [
             0.6666666666666666,
             "#ed7953"
            ],
            [
             0.7777777777777778,
             "#fb9f3a"
            ],
            [
             0.8888888888888888,
             "#fdca26"
            ],
            [
             1,
             "#f0f921"
            ]
           ]
          },
          "colorway": [
           "#636efa",
           "#EF553B",
           "#00cc96",
           "#ab63fa",
           "#FFA15A",
           "#19d3f3",
           "#FF6692",
           "#B6E880",
           "#FF97FF",
           "#FECB52"
          ],
          "font": {
           "color": "#2a3f5f"
          },
          "geo": {
           "bgcolor": "white",
           "lakecolor": "white",
           "landcolor": "#E5ECF6",
           "showlakes": true,
           "showland": true,
           "subunitcolor": "white"
          },
          "hoverlabel": {
           "align": "left"
          },
          "hovermode": "closest",
          "mapbox": {
           "style": "light"
          },
          "paper_bgcolor": "white",
          "plot_bgcolor": "#E5ECF6",
          "polar": {
           "angularaxis": {
            "gridcolor": "white",
            "linecolor": "white",
            "ticks": ""
           },
           "bgcolor": "#E5ECF6",
           "radialaxis": {
            "gridcolor": "white",
            "linecolor": "white",
            "ticks": ""
           }
          },
          "scene": {
           "xaxis": {
            "backgroundcolor": "#E5ECF6",
            "gridcolor": "white",
            "gridwidth": 2,
            "linecolor": "white",
            "showbackground": true,
            "ticks": "",
            "zerolinecolor": "white"
           },
           "yaxis": {
            "backgroundcolor": "#E5ECF6",
            "gridcolor": "white",
            "gridwidth": 2,
            "linecolor": "white",
            "showbackground": true,
            "ticks": "",
            "zerolinecolor": "white"
           },
           "zaxis": {
            "backgroundcolor": "#E5ECF6",
            "gridcolor": "white",
            "gridwidth": 2,
            "linecolor": "white",
            "showbackground": true,
            "ticks": "",
            "zerolinecolor": "white"
           }
          },
          "shapedefaults": {
           "line": {
            "color": "#2a3f5f"
           }
          },
          "ternary": {
           "aaxis": {
            "gridcolor": "white",
            "linecolor": "white",
            "ticks": ""
           },
           "baxis": {
            "gridcolor": "white",
            "linecolor": "white",
            "ticks": ""
           },
           "bgcolor": "#E5ECF6",
           "caxis": {
            "gridcolor": "white",
            "linecolor": "white",
            "ticks": ""
           }
          },
          "title": {
           "x": 0.05
          },
          "xaxis": {
           "automargin": true,
           "gridcolor": "white",
           "linecolor": "white",
           "ticks": "",
           "title": {
            "standoff": 15
           },
           "zerolinecolor": "white",
           "zerolinewidth": 2
          },
          "yaxis": {
           "automargin": true,
           "gridcolor": "white",
           "linecolor": "white",
           "ticks": "",
           "title": {
            "standoff": 15
           },
           "zerolinecolor": "white",
           "zerolinewidth": 2
          }
         }
        }
       }
      },
      "text/html": [
       "<div>                            <div id=\"22995652-e871-4dea-9b0f-49b4fcf270ce\" class=\"plotly-graph-div\" style=\"height:525px; width:100%;\"></div>            <script type=\"text/javascript\">                require([\"plotly\"], function(Plotly) {                    window.PLOTLYENV=window.PLOTLYENV || {};                                    if (document.getElementById(\"22995652-e871-4dea-9b0f-49b4fcf270ce\")) {                    Plotly.newPlot(                        \"22995652-e871-4dea-9b0f-49b4fcf270ce\",                        [{\"cells\":{\"align\":[\"left\",\"center\"],\"fill\":{\"color\":[[\"rgb(229, 238, 255)\",\"rgb(229, 238, 255)\",\"rgb(229, 238, 255)\",\"#a1bcf7\",\"rgb(229, 238, 255)\",\"#a1bcf7\",\"rgb(229, 238, 255)\",\"#a1bcf7\"],[\"white\",\"white\",\"white\",\"#d9d9d9\",\"white\",\"#d9d9d9\",\"white\",\"#d9d9d9\"],[\"white\",\"white\",\"white\",\"#d9d9d9\",\"white\",\"#d9d9d9\",\"white\",\"#d9d9d9\"],[\"white\",\"white\",\"white\",\"#d9d9d9\",\"white\",\"#d9d9d9\",\"white\",\"#d9d9d9\"]]},\"font\":{\"size\":12},\"height\":30,\"line\":{\"color\":\"darkslategray\"},\"values\":[[\"sessions_count\",\"GT%\",\"catalog_open_sessions\",\"CR \\u0432 \\u0443\\u043d\\u0438\\u043a. \\u043a\\u043b\\u0438\\u043a\\u0438,%\",\"catalog_open_count\",\"\\u0427\\u0430\\u0441\\u0442\\u043e\\u0442\\u0430 \\u043a\\u043b\\u0438\\u043a\\u043e\\u0432\",\"\\u0421\\u0435\\u0441\\u0441\\u0438\\u0438 \\u0441 \\u0432\\u044b\\u0445\\u043e\\u0434\\u043e\\u043c\",\"\\u041f\\u043e\\u043a\\u0430\\u0437\\u0430\\u0442\\u0435\\u043b\\u044c \\u0432\\u044b\\u0445\\u043e\\u0434\\u0430,%\"],[319658,54.79,25323,7.92,39312,1.55,676,2.67],[263782,45.21,17035,6.46,27909,1.64,392,2.3],[-17.48,-17.48,-32.73,-18.43,-29.01,5.81,-42.01,-13.86]]},\"columnwidth\":[150,160,160,160],\"header\":{\"align\":[\"left\",\"center\"],\"fill\":{\"color\":\"rgb(103,112,244)\"},\"font\":{\"color\":\"white\",\"size\":12},\"height\":40,\"line\":{\"color\":\"darkslategray\"},\"values\":[\"\",\"before\",\"after\",\"diff,%\"]},\"type\":\"table\"}],                        {\"template\":{\"data\":{\"bar\":[{\"error_x\":{\"color\":\"#2a3f5f\"},\"error_y\":{\"color\":\"#2a3f5f\"},\"marker\":{\"line\":{\"color\":\"#E5ECF6\",\"width\":0.5},\"pattern\":{\"fillmode\":\"overlay\",\"size\":10,\"solidity\":0.2}},\"type\":\"bar\"}],\"barpolar\":[{\"marker\":{\"line\":{\"color\":\"#E5ECF6\",\"width\":0.5},\"pattern\":{\"fillmode\":\"overlay\",\"size\":10,\"solidity\":0.2}},\"type\":\"barpolar\"}],\"carpet\":[{\"aaxis\":{\"endlinecolor\":\"#2a3f5f\",\"gridcolor\":\"white\",\"linecolor\":\"white\",\"minorgridcolor\":\"white\",\"startlinecolor\":\"#2a3f5f\"},\"baxis\":{\"endlinecolor\":\"#2a3f5f\",\"gridcolor\":\"white\",\"linecolor\":\"white\",\"minorgridcolor\":\"white\",\"startlinecolor\":\"#2a3f5f\"},\"type\":\"carpet\"}],\"choropleth\":[{\"colorbar\":{\"outlinewidth\":0,\"ticks\":\"\"},\"type\":\"choropleth\"}],\"contour\":[{\"colorbar\":{\"outlinewidth\":0,\"ticks\":\"\"},\"colorscale\":[[0.0,\"#0d0887\"],[0.1111111111111111,\"#46039f\"],[0.2222222222222222,\"#7201a8\"],[0.3333333333333333,\"#9c179e\"],[0.4444444444444444,\"#bd3786\"],[0.5555555555555556,\"#d8576b\"],[0.6666666666666666,\"#ed7953\"],[0.7777777777777778,\"#fb9f3a\"],[0.8888888888888888,\"#fdca26\"],[1.0,\"#f0f921\"]],\"type\":\"contour\"}],\"contourcarpet\":[{\"colorbar\":{\"outlinewidth\":0,\"ticks\":\"\"},\"type\":\"contourcarpet\"}],\"heatmap\":[{\"colorbar\":{\"outlinewidth\":0,\"ticks\":\"\"},\"colorscale\":[[0.0,\"#0d0887\"],[0.1111111111111111,\"#46039f\"],[0.2222222222222222,\"#7201a8\"],[0.3333333333333333,\"#9c179e\"],[0.4444444444444444,\"#bd3786\"],[0.5555555555555556,\"#d8576b\"],[0.6666666666666666,\"#ed7953\"],[0.7777777777777778,\"#fb9f3a\"],[0.8888888888888888,\"#fdca26\"],[1.0,\"#f0f921\"]],\"type\":\"heatmap\"}],\"heatmapgl\":[{\"colorbar\":{\"outlinewidth\":0,\"ticks\":\"\"},\"colorscale\":[[0.0,\"#0d0887\"],[0.1111111111111111,\"#46039f\"],[0.2222222222222222,\"#7201a8\"],[0.3333333333333333,\"#9c179e\"],[0.4444444444444444,\"#bd3786\"],[0.5555555555555556,\"#d8576b\"],[0.6666666666666666,\"#ed7953\"],[0.7777777777777778,\"#fb9f3a\"],[0.8888888888888888,\"#fdca26\"],[1.0,\"#f0f921\"]],\"type\":\"heatmapgl\"}],\"histogram\":[{\"marker\":{\"pattern\":{\"fillmode\":\"overlay\",\"size\":10,\"solidity\":0.2}},\"type\":\"histogram\"}],\"histogram2d\":[{\"colorbar\":{\"outlinewidth\":0,\"ticks\":\"\"},\"colorscale\":[[0.0,\"#0d0887\"],[0.1111111111111111,\"#46039f\"],[0.2222222222222222,\"#7201a8\"],[0.3333333333333333,\"#9c179e\"],[0.4444444444444444,\"#bd3786\"],[0.5555555555555556,\"#d8576b\"],[0.6666666666666666,\"#ed7953\"],[0.7777777777777778,\"#fb9f3a\"],[0.8888888888888888,\"#fdca26\"],[1.0,\"#f0f921\"]],\"type\":\"histogram2d\"}],\"histogram2dcontour\":[{\"colorbar\":{\"outlinewidth\":0,\"ticks\":\"\"},\"colorscale\":[[0.0,\"#0d0887\"],[0.1111111111111111,\"#46039f\"],[0.2222222222222222,\"#7201a8\"],[0.3333333333333333,\"#9c179e\"],[0.4444444444444444,\"#bd3786\"],[0.5555555555555556,\"#d8576b\"],[0.6666666666666666,\"#ed7953\"],[0.7777777777777778,\"#fb9f3a\"],[0.8888888888888888,\"#fdca26\"],[1.0,\"#f0f921\"]],\"type\":\"histogram2dcontour\"}],\"mesh3d\":[{\"colorbar\":{\"outlinewidth\":0,\"ticks\":\"\"},\"type\":\"mesh3d\"}],\"parcoords\":[{\"line\":{\"colorbar\":{\"outlinewidth\":0,\"ticks\":\"\"}},\"type\":\"parcoords\"}],\"pie\":[{\"automargin\":true,\"type\":\"pie\"}],\"scatter\":[{\"marker\":{\"colorbar\":{\"outlinewidth\":0,\"ticks\":\"\"}},\"type\":\"scatter\"}],\"scatter3d\":[{\"line\":{\"colorbar\":{\"outlinewidth\":0,\"ticks\":\"\"}},\"marker\":{\"colorbar\":{\"outlinewidth\":0,\"ticks\":\"\"}},\"type\":\"scatter3d\"}],\"scattercarpet\":[{\"marker\":{\"colorbar\":{\"outlinewidth\":0,\"ticks\":\"\"}},\"type\":\"scattercarpet\"}],\"scattergeo\":[{\"marker\":{\"colorbar\":{\"outlinewidth\":0,\"ticks\":\"\"}},\"type\":\"scattergeo\"}],\"scattergl\":[{\"marker\":{\"colorbar\":{\"outlinewidth\":0,\"ticks\":\"\"}},\"type\":\"scattergl\"}],\"scattermapbox\":[{\"marker\":{\"colorbar\":{\"outlinewidth\":0,\"ticks\":\"\"}},\"type\":\"scattermapbox\"}],\"scatterpolar\":[{\"marker\":{\"colorbar\":{\"outlinewidth\":0,\"ticks\":\"\"}},\"type\":\"scatterpolar\"}],\"scatterpolargl\":[{\"marker\":{\"colorbar\":{\"outlinewidth\":0,\"ticks\":\"\"}},\"type\":\"scatterpolargl\"}],\"scatterternary\":[{\"marker\":{\"colorbar\":{\"outlinewidth\":0,\"ticks\":\"\"}},\"type\":\"scatterternary\"}],\"surface\":[{\"colorbar\":{\"outlinewidth\":0,\"ticks\":\"\"},\"colorscale\":[[0.0,\"#0d0887\"],[0.1111111111111111,\"#46039f\"],[0.2222222222222222,\"#7201a8\"],[0.3333333333333333,\"#9c179e\"],[0.4444444444444444,\"#bd3786\"],[0.5555555555555556,\"#d8576b\"],[0.6666666666666666,\"#ed7953\"],[0.7777777777777778,\"#fb9f3a\"],[0.8888888888888888,\"#fdca26\"],[1.0,\"#f0f921\"]],\"type\":\"surface\"}],\"table\":[{\"cells\":{\"fill\":{\"color\":\"#EBF0F8\"},\"line\":{\"color\":\"white\"}},\"header\":{\"fill\":{\"color\":\"#C8D4E3\"},\"line\":{\"color\":\"white\"}},\"type\":\"table\"}]},\"layout\":{\"annotationdefaults\":{\"arrowcolor\":\"#2a3f5f\",\"arrowhead\":0,\"arrowwidth\":1},\"autotypenumbers\":\"strict\",\"coloraxis\":{\"colorbar\":{\"outlinewidth\":0,\"ticks\":\"\"}},\"colorscale\":{\"diverging\":[[0,\"#8e0152\"],[0.1,\"#c51b7d\"],[0.2,\"#de77ae\"],[0.3,\"#f1b6da\"],[0.4,\"#fde0ef\"],[0.5,\"#f7f7f7\"],[0.6,\"#e6f5d0\"],[0.7,\"#b8e186\"],[0.8,\"#7fbc41\"],[0.9,\"#4d9221\"],[1,\"#276419\"]],\"sequential\":[[0.0,\"#0d0887\"],[0.1111111111111111,\"#46039f\"],[0.2222222222222222,\"#7201a8\"],[0.3333333333333333,\"#9c179e\"],[0.4444444444444444,\"#bd3786\"],[0.5555555555555556,\"#d8576b\"],[0.6666666666666666,\"#ed7953\"],[0.7777777777777778,\"#fb9f3a\"],[0.8888888888888888,\"#fdca26\"],[1.0,\"#f0f921\"]],\"sequentialminus\":[[0.0,\"#0d0887\"],[0.1111111111111111,\"#46039f\"],[0.2222222222222222,\"#7201a8\"],[0.3333333333333333,\"#9c179e\"],[0.4444444444444444,\"#bd3786\"],[0.5555555555555556,\"#d8576b\"],[0.6666666666666666,\"#ed7953\"],[0.7777777777777778,\"#fb9f3a\"],[0.8888888888888888,\"#fdca26\"],[1.0,\"#f0f921\"]]},\"colorway\":[\"#636efa\",\"#EF553B\",\"#00cc96\",\"#ab63fa\",\"#FFA15A\",\"#19d3f3\",\"#FF6692\",\"#B6E880\",\"#FF97FF\",\"#FECB52\"],\"font\":{\"color\":\"#2a3f5f\"},\"geo\":{\"bgcolor\":\"white\",\"lakecolor\":\"white\",\"landcolor\":\"#E5ECF6\",\"showlakes\":true,\"showland\":true,\"subunitcolor\":\"white\"},\"hoverlabel\":{\"align\":\"left\"},\"hovermode\":\"closest\",\"mapbox\":{\"style\":\"light\"},\"paper_bgcolor\":\"white\",\"plot_bgcolor\":\"#E5ECF6\",\"polar\":{\"angularaxis\":{\"gridcolor\":\"white\",\"linecolor\":\"white\",\"ticks\":\"\"},\"bgcolor\":\"#E5ECF6\",\"radialaxis\":{\"gridcolor\":\"white\",\"linecolor\":\"white\",\"ticks\":\"\"}},\"scene\":{\"xaxis\":{\"backgroundcolor\":\"#E5ECF6\",\"gridcolor\":\"white\",\"gridwidth\":2,\"linecolor\":\"white\",\"showbackground\":true,\"ticks\":\"\",\"zerolinecolor\":\"white\"},\"yaxis\":{\"backgroundcolor\":\"#E5ECF6\",\"gridcolor\":\"white\",\"gridwidth\":2,\"linecolor\":\"white\",\"showbackground\":true,\"ticks\":\"\",\"zerolinecolor\":\"white\"},\"zaxis\":{\"backgroundcolor\":\"#E5ECF6\",\"gridcolor\":\"white\",\"gridwidth\":2,\"linecolor\":\"white\",\"showbackground\":true,\"ticks\":\"\",\"zerolinecolor\":\"white\"}},\"shapedefaults\":{\"line\":{\"color\":\"#2a3f5f\"}},\"ternary\":{\"aaxis\":{\"gridcolor\":\"white\",\"linecolor\":\"white\",\"ticks\":\"\"},\"baxis\":{\"gridcolor\":\"white\",\"linecolor\":\"white\",\"ticks\":\"\"},\"bgcolor\":\"#E5ECF6\",\"caxis\":{\"gridcolor\":\"white\",\"linecolor\":\"white\",\"ticks\":\"\"}},\"title\":{\"x\":0.05},\"xaxis\":{\"automargin\":true,\"gridcolor\":\"white\",\"linecolor\":\"white\",\"ticks\":\"\",\"title\":{\"standoff\":15},\"zerolinecolor\":\"white\",\"zerolinewidth\":2},\"yaxis\":{\"automargin\":true,\"gridcolor\":\"white\",\"linecolor\":\"white\",\"ticks\":\"\",\"title\":{\"standoff\":15},\"zerolinecolor\":\"white\",\"zerolinewidth\":2}}}},                        {\"responsive\": true}                    ).then(function(){\n",
       "                            \n",
       "var gd = document.getElementById('22995652-e871-4dea-9b0f-49b4fcf270ce');\n",
       "var x = new MutationObserver(function (mutations, observer) {{\n",
       "        var display = window.getComputedStyle(gd).display;\n",
       "        if (!display || display === 'none') {{\n",
       "            console.log([gd, 'removed!']);\n",
       "            Plotly.purge(gd);\n",
       "            observer.disconnect();\n",
       "        }}\n",
       "}});\n",
       "\n",
       "// Listen for the removal of the full notebook cells\n",
       "var notebookContainer = gd.closest('#notebook-container');\n",
       "if (notebookContainer) {{\n",
       "    x.observe(notebookContainer, {childList: true});\n",
       "}}\n",
       "\n",
       "// Listen for the clearing of the current output cell\n",
       "var outputEl = gd.closest('.output');\n",
       "if (outputEl) {{\n",
       "    x.observe(outputEl, {childList: true});\n",
       "}}\n",
       "\n",
       "                        })                };                });            </script>        </div>"
      ]
     },
     "metadata": {},
     "output_type": "display_data"
    }
   ],
   "source": [
    "r = result_catalog(ct, ses, reg)\n",
    "result_catalog_visualisation(r)\n"
   ]
  },
  {
   "cell_type": "code",
   "execution_count": 19,
   "id": "9c197afb",
   "metadata": {},
   "outputs": [],
   "source": [
    "# stat_significance_catalog_freq(ct)\n"
   ]
  },
  {
   "cell_type": "markdown",
   "id": "6d860d27",
   "metadata": {},
   "source": [
    "##  Шапка. Сравнение показателей вовлеченности \n"
   ]
  },
  {
   "cell_type": "code",
   "execution_count": 15,
   "id": "ef362bd2",
   "metadata": {},
   "outputs": [
    {
     "data": {
      "application/vnd.plotly.v1+json": {
       "config": {
        "plotlyServerURL": "https://plot.ly"
       },
       "data": [
        {
         "cells": {
          "align": [
           "left",
           "center"
          ],
          "fill": {
           "color": [
            [
             "#b8cdf9",
             "#b8cdf9",
             "#b8cdf9",
             "rgb(229, 238, 255)",
             "rgb(229, 238, 255)",
             "rgb(229, 238, 255)",
             "rgb(229, 238, 255)",
             "rgb(229, 238, 255)",
             "rgb(229, 238, 255)",
             "#b8cdf9",
             "rgb(229, 238, 255)",
             "rgb(229, 238, 255)",
             "rgb(229, 238, 255)",
             "rgb(229, 238, 255)",
             "rgb(229, 238, 255)",
             "rgb(229, 238, 255)",
             "#b8cdf9",
             "rgb(229, 238, 255)",
             "rgb(229, 238, 255)",
             "rgb(229, 238, 255)",
             "rgb(229, 238, 255)",
             "rgb(229, 238, 255)",
             "rgb(229, 238, 255)",
             "#b8cdf9",
             "rgb(229, 238, 255)",
             "rgb(229, 238, 255)",
             "rgb(229, 238, 255)",
             "rgb(229, 238, 255)",
             "rgb(229, 238, 255)",
             "rgb(229, 238, 255)",
             "#b8cdf9",
             "rgb(229, 238, 255)",
             "rgb(229, 238, 255)",
             "rgb(229, 238, 255)",
             "rgb(229, 238, 255)",
             "rgb(229, 238, 255)",
             "rgb(229, 238, 255)"
            ],
            [
             "#f2f2f2",
             "#f2f2f2",
             "#f2f2f2",
             "white",
             "white",
             "white",
             "white",
             "white",
             "white",
             "#f2f2f2",
             "white",
             "white",
             "white",
             "white",
             "white",
             "white",
             "#f2f2f2",
             "white",
             "white",
             "white",
             "white",
             "white",
             "white",
             "#f2f2f2",
             "white",
             "white",
             "white",
             "white",
             "white",
             "white",
             "#f2f2f2",
             "white",
             "white",
             "white",
             "white",
             "white",
             "white"
            ],
            [
             "#f2f2f2",
             "#f2f2f2",
             "#f2f2f2",
             "white",
             "white",
             "white",
             "white",
             "white",
             "white",
             "#f2f2f2",
             "white",
             "white",
             "white",
             "white",
             "white",
             "white",
             "#f2f2f2",
             "white",
             "white",
             "white",
             "white",
             "white",
             "white",
             "#f2f2f2",
             "white",
             "white",
             "white",
             "white",
             "white",
             "white",
             "#f2f2f2",
             "white",
             "white",
             "white",
             "white",
             "white",
             "white"
            ],
            [
             "#f2f2f2",
             "#f2f2f2",
             "#f2f2f2",
             "white",
             "white",
             "white",
             "white",
             "white",
             "white",
             "#f2f2f2",
             "white",
             "white",
             "white",
             "white",
             "white",
             "white",
             "#f2f2f2",
             "white",
             "white",
             "white",
             "white",
             "white",
             "white",
             "#f2f2f2",
             "white",
             "white",
             "white",
             "white",
             "white",
             "white",
             "#f2f2f2",
             "white",
             "white",
             "white",
             "white",
             "white",
             "white"
            ]
           ]
          },
          "font": {
           "size": 12
          },
          "height": 30,
          "line": {
           "color": "darkslategray"
          },
          "values": [
           [
            "sessions_count",
            "GT%",
            "bar_click_sessions",
            "bar_click_sessions_Бренды",
            "bar_click_sessions_Акции",
            "bar_click_sessions_Уценка",
            "bar_click_sessions_Распродажа",
            "bar_click_sessions_Дизайн-решение",
            "bar_click_sessions_STWORKI",
            "%CR в уник. клики",
            "%CR в уник. клики_Бренды",
            "%CR в уник. клики_Акции",
            "%CR в уник. клики_Уценка",
            "%CR в уник. клики_Распродажа",
            "%CR в уник. клики_Дизайн-решение",
            "%CR в уник. клики_STWORKI",
            "Клики",
            "Клики_Бренды",
            "Клики_Акции",
            "Клики_Уценка",
            "Клики_Распродажа",
            "Клики_Дизайн-решение",
            "Клики_STWORKI",
            "Частота кликов",
            "Частота кликов_Бренды",
            "Частота кликов_Акции",
            "Частота кликов_Уценка",
            "Частота кликов_Распродажа",
            "Частота кликов_Дизайн-решение",
            "Частота кликов_STWORKI",
            "%GT_Клики",
            "%GT_Клики_Бренды",
            "%GT_Клики_Акции",
            "%GT_Клики_Уценка",
            "%GT_Клики_Распродажа",
            "%GT_Клики_Дизайн-решение",
            "%GT_Клики_STWORKI"
           ],
           [
            319658,
            54.79,
            2262,
            417,
            714,
            401,
            778,
            275,
            null,
            0.71,
            0.13,
            0.22,
            0.13,
            0.24,
            0.09,
            null,
            2863,
            491,
            784,
            426,
            867,
            295,
            null,
            1.27,
            1.18,
            1.1,
            1.06,
            1.11,
            1.07,
            null,
            100,
            17.15,
            27.38,
            14.88,
            30.28,
            10.3,
            null
           ],
           [
            263782,
            45.21,
            5811,
            1044,
            1964,
            840,
            1703,
            1218,
            402,
            2.2,
            0.4,
            0.74,
            0.32,
            0.65,
            0.46,
            0.15,
            8015,
            1242,
            2239,
            918,
            1872,
            1317,
            427,
            1.38,
            1.19,
            1.14,
            1.09,
            1.1,
            1.08,
            1.06,
            100,
            15.5,
            27.94,
            11.45,
            23.36,
            16.43,
            5.33
           ],
           [
            -17.48,
            -17.48,
            156.9,
            150.36,
            175.07,
            109.48,
            118.89,
            342.91,
            null,
            209.86,
            207.69,
            236.36,
            146.15,
            170.83,
            411.11,
            null,
            179.95,
            152.95,
            185.59,
            115.49,
            115.92,
            346.44,
            null,
            8.66,
            0.85,
            3.64,
            2.83,
            -0.9,
            0.93,
            null,
            0,
            -9.62,
            2.05,
            -23.05,
            -22.85,
            59.51,
            null
           ]
          ]
         },
         "columnwidth": [
          210,
          160,
          160,
          160
         ],
         "header": {
          "align": [
           "left",
           "center"
          ],
          "fill": {
           "color": "rgb(103,112,244)"
          },
          "font": {
           "color": "white",
           "size": 12
          },
          "height": 40,
          "line": {
           "color": "darkslategray"
          },
          "values": [
           "",
           "before",
           "after",
           "diff,%"
          ]
         },
         "type": "table"
        }
       ],
       "layout": {
        "template": {
         "data": {
          "bar": [
           {
            "error_x": {
             "color": "#2a3f5f"
            },
            "error_y": {
             "color": "#2a3f5f"
            },
            "marker": {
             "line": {
              "color": "#E5ECF6",
              "width": 0.5
             },
             "pattern": {
              "fillmode": "overlay",
              "size": 10,
              "solidity": 0.2
             }
            },
            "type": "bar"
           }
          ],
          "barpolar": [
           {
            "marker": {
             "line": {
              "color": "#E5ECF6",
              "width": 0.5
             },
             "pattern": {
              "fillmode": "overlay",
              "size": 10,
              "solidity": 0.2
             }
            },
            "type": "barpolar"
           }
          ],
          "carpet": [
           {
            "aaxis": {
             "endlinecolor": "#2a3f5f",
             "gridcolor": "white",
             "linecolor": "white",
             "minorgridcolor": "white",
             "startlinecolor": "#2a3f5f"
            },
            "baxis": {
             "endlinecolor": "#2a3f5f",
             "gridcolor": "white",
             "linecolor": "white",
             "minorgridcolor": "white",
             "startlinecolor": "#2a3f5f"
            },
            "type": "carpet"
           }
          ],
          "choropleth": [
           {
            "colorbar": {
             "outlinewidth": 0,
             "ticks": ""
            },
            "type": "choropleth"
           }
          ],
          "contour": [
           {
            "colorbar": {
             "outlinewidth": 0,
             "ticks": ""
            },
            "colorscale": [
             [
              0,
              "#0d0887"
             ],
             [
              0.1111111111111111,
              "#46039f"
             ],
             [
              0.2222222222222222,
              "#7201a8"
             ],
             [
              0.3333333333333333,
              "#9c179e"
             ],
             [
              0.4444444444444444,
              "#bd3786"
             ],
             [
              0.5555555555555556,
              "#d8576b"
             ],
             [
              0.6666666666666666,
              "#ed7953"
             ],
             [
              0.7777777777777778,
              "#fb9f3a"
             ],
             [
              0.8888888888888888,
              "#fdca26"
             ],
             [
              1,
              "#f0f921"
             ]
            ],
            "type": "contour"
           }
          ],
          "contourcarpet": [
           {
            "colorbar": {
             "outlinewidth": 0,
             "ticks": ""
            },
            "type": "contourcarpet"
           }
          ],
          "heatmap": [
           {
            "colorbar": {
             "outlinewidth": 0,
             "ticks": ""
            },
            "colorscale": [
             [
              0,
              "#0d0887"
             ],
             [
              0.1111111111111111,
              "#46039f"
             ],
             [
              0.2222222222222222,
              "#7201a8"
             ],
             [
              0.3333333333333333,
              "#9c179e"
             ],
             [
              0.4444444444444444,
              "#bd3786"
             ],
             [
              0.5555555555555556,
              "#d8576b"
             ],
             [
              0.6666666666666666,
              "#ed7953"
             ],
             [
              0.7777777777777778,
              "#fb9f3a"
             ],
             [
              0.8888888888888888,
              "#fdca26"
             ],
             [
              1,
              "#f0f921"
             ]
            ],
            "type": "heatmap"
           }
          ],
          "heatmapgl": [
           {
            "colorbar": {
             "outlinewidth": 0,
             "ticks": ""
            },
            "colorscale": [
             [
              0,
              "#0d0887"
             ],
             [
              0.1111111111111111,
              "#46039f"
             ],
             [
              0.2222222222222222,
              "#7201a8"
             ],
             [
              0.3333333333333333,
              "#9c179e"
             ],
             [
              0.4444444444444444,
              "#bd3786"
             ],
             [
              0.5555555555555556,
              "#d8576b"
             ],
             [
              0.6666666666666666,
              "#ed7953"
             ],
             [
              0.7777777777777778,
              "#fb9f3a"
             ],
             [
              0.8888888888888888,
              "#fdca26"
             ],
             [
              1,
              "#f0f921"
             ]
            ],
            "type": "heatmapgl"
           }
          ],
          "histogram": [
           {
            "marker": {
             "pattern": {
              "fillmode": "overlay",
              "size": 10,
              "solidity": 0.2
             }
            },
            "type": "histogram"
           }
          ],
          "histogram2d": [
           {
            "colorbar": {
             "outlinewidth": 0,
             "ticks": ""
            },
            "colorscale": [
             [
              0,
              "#0d0887"
             ],
             [
              0.1111111111111111,
              "#46039f"
             ],
             [
              0.2222222222222222,
              "#7201a8"
             ],
             [
              0.3333333333333333,
              "#9c179e"
             ],
             [
              0.4444444444444444,
              "#bd3786"
             ],
             [
              0.5555555555555556,
              "#d8576b"
             ],
             [
              0.6666666666666666,
              "#ed7953"
             ],
             [
              0.7777777777777778,
              "#fb9f3a"
             ],
             [
              0.8888888888888888,
              "#fdca26"
             ],
             [
              1,
              "#f0f921"
             ]
            ],
            "type": "histogram2d"
           }
          ],
          "histogram2dcontour": [
           {
            "colorbar": {
             "outlinewidth": 0,
             "ticks": ""
            },
            "colorscale": [
             [
              0,
              "#0d0887"
             ],
             [
              0.1111111111111111,
              "#46039f"
             ],
             [
              0.2222222222222222,
              "#7201a8"
             ],
             [
              0.3333333333333333,
              "#9c179e"
             ],
             [
              0.4444444444444444,
              "#bd3786"
             ],
             [
              0.5555555555555556,
              "#d8576b"
             ],
             [
              0.6666666666666666,
              "#ed7953"
             ],
             [
              0.7777777777777778,
              "#fb9f3a"
             ],
             [
              0.8888888888888888,
              "#fdca26"
             ],
             [
              1,
              "#f0f921"
             ]
            ],
            "type": "histogram2dcontour"
           }
          ],
          "mesh3d": [
           {
            "colorbar": {
             "outlinewidth": 0,
             "ticks": ""
            },
            "type": "mesh3d"
           }
          ],
          "parcoords": [
           {
            "line": {
             "colorbar": {
              "outlinewidth": 0,
              "ticks": ""
             }
            },
            "type": "parcoords"
           }
          ],
          "pie": [
           {
            "automargin": true,
            "type": "pie"
           }
          ],
          "scatter": [
           {
            "marker": {
             "colorbar": {
              "outlinewidth": 0,
              "ticks": ""
             }
            },
            "type": "scatter"
           }
          ],
          "scatter3d": [
           {
            "line": {
             "colorbar": {
              "outlinewidth": 0,
              "ticks": ""
             }
            },
            "marker": {
             "colorbar": {
              "outlinewidth": 0,
              "ticks": ""
             }
            },
            "type": "scatter3d"
           }
          ],
          "scattercarpet": [
           {
            "marker": {
             "colorbar": {
              "outlinewidth": 0,
              "ticks": ""
             }
            },
            "type": "scattercarpet"
           }
          ],
          "scattergeo": [
           {
            "marker": {
             "colorbar": {
              "outlinewidth": 0,
              "ticks": ""
             }
            },
            "type": "scattergeo"
           }
          ],
          "scattergl": [
           {
            "marker": {
             "colorbar": {
              "outlinewidth": 0,
              "ticks": ""
             }
            },
            "type": "scattergl"
           }
          ],
          "scattermapbox": [
           {
            "marker": {
             "colorbar": {
              "outlinewidth": 0,
              "ticks": ""
             }
            },
            "type": "scattermapbox"
           }
          ],
          "scatterpolar": [
           {
            "marker": {
             "colorbar": {
              "outlinewidth": 0,
              "ticks": ""
             }
            },
            "type": "scatterpolar"
           }
          ],
          "scatterpolargl": [
           {
            "marker": {
             "colorbar": {
              "outlinewidth": 0,
              "ticks": ""
             }
            },
            "type": "scatterpolargl"
           }
          ],
          "scatterternary": [
           {
            "marker": {
             "colorbar": {
              "outlinewidth": 0,
              "ticks": ""
             }
            },
            "type": "scatterternary"
           }
          ],
          "surface": [
           {
            "colorbar": {
             "outlinewidth": 0,
             "ticks": ""
            },
            "colorscale": [
             [
              0,
              "#0d0887"
             ],
             [
              0.1111111111111111,
              "#46039f"
             ],
             [
              0.2222222222222222,
              "#7201a8"
             ],
             [
              0.3333333333333333,
              "#9c179e"
             ],
             [
              0.4444444444444444,
              "#bd3786"
             ],
             [
              0.5555555555555556,
              "#d8576b"
             ],
             [
              0.6666666666666666,
              "#ed7953"
             ],
             [
              0.7777777777777778,
              "#fb9f3a"
             ],
             [
              0.8888888888888888,
              "#fdca26"
             ],
             [
              1,
              "#f0f921"
             ]
            ],
            "type": "surface"
           }
          ],
          "table": [
           {
            "cells": {
             "fill": {
              "color": "#EBF0F8"
             },
             "line": {
              "color": "white"
             }
            },
            "header": {
             "fill": {
              "color": "#C8D4E3"
             },
             "line": {
              "color": "white"
             }
            },
            "type": "table"
           }
          ]
         },
         "layout": {
          "annotationdefaults": {
           "arrowcolor": "#2a3f5f",
           "arrowhead": 0,
           "arrowwidth": 1
          },
          "autotypenumbers": "strict",
          "coloraxis": {
           "colorbar": {
            "outlinewidth": 0,
            "ticks": ""
           }
          },
          "colorscale": {
           "diverging": [
            [
             0,
             "#8e0152"
            ],
            [
             0.1,
             "#c51b7d"
            ],
            [
             0.2,
             "#de77ae"
            ],
            [
             0.3,
             "#f1b6da"
            ],
            [
             0.4,
             "#fde0ef"
            ],
            [
             0.5,
             "#f7f7f7"
            ],
            [
             0.6,
             "#e6f5d0"
            ],
            [
             0.7,
             "#b8e186"
            ],
            [
             0.8,
             "#7fbc41"
            ],
            [
             0.9,
             "#4d9221"
            ],
            [
             1,
             "#276419"
            ]
           ],
           "sequential": [
            [
             0,
             "#0d0887"
            ],
            [
             0.1111111111111111,
             "#46039f"
            ],
            [
             0.2222222222222222,
             "#7201a8"
            ],
            [
             0.3333333333333333,
             "#9c179e"
            ],
            [
             0.4444444444444444,
             "#bd3786"
            ],
            [
             0.5555555555555556,
             "#d8576b"
            ],
            [
             0.6666666666666666,
             "#ed7953"
            ],
            [
             0.7777777777777778,
             "#fb9f3a"
            ],
            [
             0.8888888888888888,
             "#fdca26"
            ],
            [
             1,
             "#f0f921"
            ]
           ],
           "sequentialminus": [
            [
             0,
             "#0d0887"
            ],
            [
             0.1111111111111111,
             "#46039f"
            ],
            [
             0.2222222222222222,
             "#7201a8"
            ],
            [
             0.3333333333333333,
             "#9c179e"
            ],
            [
             0.4444444444444444,
             "#bd3786"
            ],
            [
             0.5555555555555556,
             "#d8576b"
            ],
            [
             0.6666666666666666,
             "#ed7953"
            ],
            [
             0.7777777777777778,
             "#fb9f3a"
            ],
            [
             0.8888888888888888,
             "#fdca26"
            ],
            [
             1,
             "#f0f921"
            ]
           ]
          },
          "colorway": [
           "#636efa",
           "#EF553B",
           "#00cc96",
           "#ab63fa",
           "#FFA15A",
           "#19d3f3",
           "#FF6692",
           "#B6E880",
           "#FF97FF",
           "#FECB52"
          ],
          "font": {
           "color": "#2a3f5f"
          },
          "geo": {
           "bgcolor": "white",
           "lakecolor": "white",
           "landcolor": "#E5ECF6",
           "showlakes": true,
           "showland": true,
           "subunitcolor": "white"
          },
          "hoverlabel": {
           "align": "left"
          },
          "hovermode": "closest",
          "mapbox": {
           "style": "light"
          },
          "paper_bgcolor": "white",
          "plot_bgcolor": "#E5ECF6",
          "polar": {
           "angularaxis": {
            "gridcolor": "white",
            "linecolor": "white",
            "ticks": ""
           },
           "bgcolor": "#E5ECF6",
           "radialaxis": {
            "gridcolor": "white",
            "linecolor": "white",
            "ticks": ""
           }
          },
          "scene": {
           "xaxis": {
            "backgroundcolor": "#E5ECF6",
            "gridcolor": "white",
            "gridwidth": 2,
            "linecolor": "white",
            "showbackground": true,
            "ticks": "",
            "zerolinecolor": "white"
           },
           "yaxis": {
            "backgroundcolor": "#E5ECF6",
            "gridcolor": "white",
            "gridwidth": 2,
            "linecolor": "white",
            "showbackground": true,
            "ticks": "",
            "zerolinecolor": "white"
           },
           "zaxis": {
            "backgroundcolor": "#E5ECF6",
            "gridcolor": "white",
            "gridwidth": 2,
            "linecolor": "white",
            "showbackground": true,
            "ticks": "",
            "zerolinecolor": "white"
           }
          },
          "shapedefaults": {
           "line": {
            "color": "#2a3f5f"
           }
          },
          "ternary": {
           "aaxis": {
            "gridcolor": "white",
            "linecolor": "white",
            "ticks": ""
           },
           "baxis": {
            "gridcolor": "white",
            "linecolor": "white",
            "ticks": ""
           },
           "bgcolor": "#E5ECF6",
           "caxis": {
            "gridcolor": "white",
            "linecolor": "white",
            "ticks": ""
           }
          },
          "title": {
           "x": 0.05
          },
          "xaxis": {
           "automargin": true,
           "gridcolor": "white",
           "linecolor": "white",
           "ticks": "",
           "title": {
            "standoff": 15
           },
           "zerolinecolor": "white",
           "zerolinewidth": 2
          },
          "yaxis": {
           "automargin": true,
           "gridcolor": "white",
           "linecolor": "white",
           "ticks": "",
           "title": {
            "standoff": 15
           },
           "zerolinecolor": "white",
           "zerolinewidth": 2
          }
         }
        }
       }
      },
      "text/html": [
       "<div>                            <div id=\"d575339a-2406-4c5d-95c8-267c56c81b10\" class=\"plotly-graph-div\" style=\"height:525px; width:100%;\"></div>            <script type=\"text/javascript\">                require([\"plotly\"], function(Plotly) {                    window.PLOTLYENV=window.PLOTLYENV || {};                                    if (document.getElementById(\"d575339a-2406-4c5d-95c8-267c56c81b10\")) {                    Plotly.newPlot(                        \"d575339a-2406-4c5d-95c8-267c56c81b10\",                        [{\"cells\":{\"align\":[\"left\",\"center\"],\"fill\":{\"color\":[[\"#b8cdf9\",\"#b8cdf9\",\"#b8cdf9\",\"rgb(229, 238, 255)\",\"rgb(229, 238, 255)\",\"rgb(229, 238, 255)\",\"rgb(229, 238, 255)\",\"rgb(229, 238, 255)\",\"rgb(229, 238, 255)\",\"#b8cdf9\",\"rgb(229, 238, 255)\",\"rgb(229, 238, 255)\",\"rgb(229, 238, 255)\",\"rgb(229, 238, 255)\",\"rgb(229, 238, 255)\",\"rgb(229, 238, 255)\",\"#b8cdf9\",\"rgb(229, 238, 255)\",\"rgb(229, 238, 255)\",\"rgb(229, 238, 255)\",\"rgb(229, 238, 255)\",\"rgb(229, 238, 255)\",\"rgb(229, 238, 255)\",\"#b8cdf9\",\"rgb(229, 238, 255)\",\"rgb(229, 238, 255)\",\"rgb(229, 238, 255)\",\"rgb(229, 238, 255)\",\"rgb(229, 238, 255)\",\"rgb(229, 238, 255)\",\"#b8cdf9\",\"rgb(229, 238, 255)\",\"rgb(229, 238, 255)\",\"rgb(229, 238, 255)\",\"rgb(229, 238, 255)\",\"rgb(229, 238, 255)\",\"rgb(229, 238, 255)\"],[\"#f2f2f2\",\"#f2f2f2\",\"#f2f2f2\",\"white\",\"white\",\"white\",\"white\",\"white\",\"white\",\"#f2f2f2\",\"white\",\"white\",\"white\",\"white\",\"white\",\"white\",\"#f2f2f2\",\"white\",\"white\",\"white\",\"white\",\"white\",\"white\",\"#f2f2f2\",\"white\",\"white\",\"white\",\"white\",\"white\",\"white\",\"#f2f2f2\",\"white\",\"white\",\"white\",\"white\",\"white\",\"white\"],[\"#f2f2f2\",\"#f2f2f2\",\"#f2f2f2\",\"white\",\"white\",\"white\",\"white\",\"white\",\"white\",\"#f2f2f2\",\"white\",\"white\",\"white\",\"white\",\"white\",\"white\",\"#f2f2f2\",\"white\",\"white\",\"white\",\"white\",\"white\",\"white\",\"#f2f2f2\",\"white\",\"white\",\"white\",\"white\",\"white\",\"white\",\"#f2f2f2\",\"white\",\"white\",\"white\",\"white\",\"white\",\"white\"],[\"#f2f2f2\",\"#f2f2f2\",\"#f2f2f2\",\"white\",\"white\",\"white\",\"white\",\"white\",\"white\",\"#f2f2f2\",\"white\",\"white\",\"white\",\"white\",\"white\",\"white\",\"#f2f2f2\",\"white\",\"white\",\"white\",\"white\",\"white\",\"white\",\"#f2f2f2\",\"white\",\"white\",\"white\",\"white\",\"white\",\"white\",\"#f2f2f2\",\"white\",\"white\",\"white\",\"white\",\"white\",\"white\"]]},\"font\":{\"size\":12},\"height\":30,\"line\":{\"color\":\"darkslategray\"},\"values\":[[\"sessions_count\",\"GT%\",\"bar_click_sessions\",\"bar_click_sessions_\\u0411\\u0440\\u0435\\u043d\\u0434\\u044b\",\"bar_click_sessions_\\u0410\\u043a\\u0446\\u0438\\u0438\",\"bar_click_sessions_\\u0423\\u0446\\u0435\\u043d\\u043a\\u0430\",\"bar_click_sessions_\\u0420\\u0430\\u0441\\u043f\\u0440\\u043e\\u0434\\u0430\\u0436\\u0430\",\"bar_click_sessions_\\u0414\\u0438\\u0437\\u0430\\u0439\\u043d-\\u0440\\u0435\\u0448\\u0435\\u043d\\u0438\\u0435\",\"bar_click_sessions_STWORKI\",\"%CR \\u0432 \\u0443\\u043d\\u0438\\u043a. \\u043a\\u043b\\u0438\\u043a\\u0438\",\"%CR \\u0432 \\u0443\\u043d\\u0438\\u043a. \\u043a\\u043b\\u0438\\u043a\\u0438_\\u0411\\u0440\\u0435\\u043d\\u0434\\u044b\",\"%CR \\u0432 \\u0443\\u043d\\u0438\\u043a. \\u043a\\u043b\\u0438\\u043a\\u0438_\\u0410\\u043a\\u0446\\u0438\\u0438\",\"%CR \\u0432 \\u0443\\u043d\\u0438\\u043a. \\u043a\\u043b\\u0438\\u043a\\u0438_\\u0423\\u0446\\u0435\\u043d\\u043a\\u0430\",\"%CR \\u0432 \\u0443\\u043d\\u0438\\u043a. \\u043a\\u043b\\u0438\\u043a\\u0438_\\u0420\\u0430\\u0441\\u043f\\u0440\\u043e\\u0434\\u0430\\u0436\\u0430\",\"%CR \\u0432 \\u0443\\u043d\\u0438\\u043a. \\u043a\\u043b\\u0438\\u043a\\u0438_\\u0414\\u0438\\u0437\\u0430\\u0439\\u043d-\\u0440\\u0435\\u0448\\u0435\\u043d\\u0438\\u0435\",\"%CR \\u0432 \\u0443\\u043d\\u0438\\u043a. \\u043a\\u043b\\u0438\\u043a\\u0438_STWORKI\",\"\\u041a\\u043b\\u0438\\u043a\\u0438\",\"\\u041a\\u043b\\u0438\\u043a\\u0438_\\u0411\\u0440\\u0435\\u043d\\u0434\\u044b\",\"\\u041a\\u043b\\u0438\\u043a\\u0438_\\u0410\\u043a\\u0446\\u0438\\u0438\",\"\\u041a\\u043b\\u0438\\u043a\\u0438_\\u0423\\u0446\\u0435\\u043d\\u043a\\u0430\",\"\\u041a\\u043b\\u0438\\u043a\\u0438_\\u0420\\u0430\\u0441\\u043f\\u0440\\u043e\\u0434\\u0430\\u0436\\u0430\",\"\\u041a\\u043b\\u0438\\u043a\\u0438_\\u0414\\u0438\\u0437\\u0430\\u0439\\u043d-\\u0440\\u0435\\u0448\\u0435\\u043d\\u0438\\u0435\",\"\\u041a\\u043b\\u0438\\u043a\\u0438_STWORKI\",\"\\u0427\\u0430\\u0441\\u0442\\u043e\\u0442\\u0430 \\u043a\\u043b\\u0438\\u043a\\u043e\\u0432\",\"\\u0427\\u0430\\u0441\\u0442\\u043e\\u0442\\u0430 \\u043a\\u043b\\u0438\\u043a\\u043e\\u0432_\\u0411\\u0440\\u0435\\u043d\\u0434\\u044b\",\"\\u0427\\u0430\\u0441\\u0442\\u043e\\u0442\\u0430 \\u043a\\u043b\\u0438\\u043a\\u043e\\u0432_\\u0410\\u043a\\u0446\\u0438\\u0438\",\"\\u0427\\u0430\\u0441\\u0442\\u043e\\u0442\\u0430 \\u043a\\u043b\\u0438\\u043a\\u043e\\u0432_\\u0423\\u0446\\u0435\\u043d\\u043a\\u0430\",\"\\u0427\\u0430\\u0441\\u0442\\u043e\\u0442\\u0430 \\u043a\\u043b\\u0438\\u043a\\u043e\\u0432_\\u0420\\u0430\\u0441\\u043f\\u0440\\u043e\\u0434\\u0430\\u0436\\u0430\",\"\\u0427\\u0430\\u0441\\u0442\\u043e\\u0442\\u0430 \\u043a\\u043b\\u0438\\u043a\\u043e\\u0432_\\u0414\\u0438\\u0437\\u0430\\u0439\\u043d-\\u0440\\u0435\\u0448\\u0435\\u043d\\u0438\\u0435\",\"\\u0427\\u0430\\u0441\\u0442\\u043e\\u0442\\u0430 \\u043a\\u043b\\u0438\\u043a\\u043e\\u0432_STWORKI\",\"%GT_\\u041a\\u043b\\u0438\\u043a\\u0438\",\"%GT_\\u041a\\u043b\\u0438\\u043a\\u0438_\\u0411\\u0440\\u0435\\u043d\\u0434\\u044b\",\"%GT_\\u041a\\u043b\\u0438\\u043a\\u0438_\\u0410\\u043a\\u0446\\u0438\\u0438\",\"%GT_\\u041a\\u043b\\u0438\\u043a\\u0438_\\u0423\\u0446\\u0435\\u043d\\u043a\\u0430\",\"%GT_\\u041a\\u043b\\u0438\\u043a\\u0438_\\u0420\\u0430\\u0441\\u043f\\u0440\\u043e\\u0434\\u0430\\u0436\\u0430\",\"%GT_\\u041a\\u043b\\u0438\\u043a\\u0438_\\u0414\\u0438\\u0437\\u0430\\u0439\\u043d-\\u0440\\u0435\\u0448\\u0435\\u043d\\u0438\\u0435\",\"%GT_\\u041a\\u043b\\u0438\\u043a\\u0438_STWORKI\"],[319658,54.79,2262,417,714,401,778,275,null,0.71,0.13,0.22,0.13,0.24,0.09,null,2863,491,784,426,867,295,null,1.27,1.18,1.1,1.06,1.11,1.07,null,100.0,17.15,27.38,14.88,30.28,10.3,null],[263782,45.21,5811,1044,1964,840,1703,1218,402.0,2.2,0.4,0.74,0.32,0.65,0.46,0.15,8015,1242,2239,918,1872,1317,427.0,1.38,1.19,1.14,1.09,1.1,1.08,1.06,100.0,15.5,27.94,11.45,23.36,16.43,5.33],[-17.48,-17.48,156.9,150.36,175.07,109.48,118.89,342.91,null,209.86,207.69,236.36,146.15,170.83,411.11,null,179.95,152.95,185.59,115.49,115.92,346.44,null,8.66,0.85,3.64,2.83,-0.9,0.93,null,0.0,-9.62,2.05,-23.05,-22.85,59.51,null]]},\"columnwidth\":[210,160,160,160],\"header\":{\"align\":[\"left\",\"center\"],\"fill\":{\"color\":\"rgb(103,112,244)\"},\"font\":{\"color\":\"white\",\"size\":12},\"height\":40,\"line\":{\"color\":\"darkslategray\"},\"values\":[\"\",\"before\",\"after\",\"diff,%\"]},\"type\":\"table\"}],                        {\"template\":{\"data\":{\"bar\":[{\"error_x\":{\"color\":\"#2a3f5f\"},\"error_y\":{\"color\":\"#2a3f5f\"},\"marker\":{\"line\":{\"color\":\"#E5ECF6\",\"width\":0.5},\"pattern\":{\"fillmode\":\"overlay\",\"size\":10,\"solidity\":0.2}},\"type\":\"bar\"}],\"barpolar\":[{\"marker\":{\"line\":{\"color\":\"#E5ECF6\",\"width\":0.5},\"pattern\":{\"fillmode\":\"overlay\",\"size\":10,\"solidity\":0.2}},\"type\":\"barpolar\"}],\"carpet\":[{\"aaxis\":{\"endlinecolor\":\"#2a3f5f\",\"gridcolor\":\"white\",\"linecolor\":\"white\",\"minorgridcolor\":\"white\",\"startlinecolor\":\"#2a3f5f\"},\"baxis\":{\"endlinecolor\":\"#2a3f5f\",\"gridcolor\":\"white\",\"linecolor\":\"white\",\"minorgridcolor\":\"white\",\"startlinecolor\":\"#2a3f5f\"},\"type\":\"carpet\"}],\"choropleth\":[{\"colorbar\":{\"outlinewidth\":0,\"ticks\":\"\"},\"type\":\"choropleth\"}],\"contour\":[{\"colorbar\":{\"outlinewidth\":0,\"ticks\":\"\"},\"colorscale\":[[0.0,\"#0d0887\"],[0.1111111111111111,\"#46039f\"],[0.2222222222222222,\"#7201a8\"],[0.3333333333333333,\"#9c179e\"],[0.4444444444444444,\"#bd3786\"],[0.5555555555555556,\"#d8576b\"],[0.6666666666666666,\"#ed7953\"],[0.7777777777777778,\"#fb9f3a\"],[0.8888888888888888,\"#fdca26\"],[1.0,\"#f0f921\"]],\"type\":\"contour\"}],\"contourcarpet\":[{\"colorbar\":{\"outlinewidth\":0,\"ticks\":\"\"},\"type\":\"contourcarpet\"}],\"heatmap\":[{\"colorbar\":{\"outlinewidth\":0,\"ticks\":\"\"},\"colorscale\":[[0.0,\"#0d0887\"],[0.1111111111111111,\"#46039f\"],[0.2222222222222222,\"#7201a8\"],[0.3333333333333333,\"#9c179e\"],[0.4444444444444444,\"#bd3786\"],[0.5555555555555556,\"#d8576b\"],[0.6666666666666666,\"#ed7953\"],[0.7777777777777778,\"#fb9f3a\"],[0.8888888888888888,\"#fdca26\"],[1.0,\"#f0f921\"]],\"type\":\"heatmap\"}],\"heatmapgl\":[{\"colorbar\":{\"outlinewidth\":0,\"ticks\":\"\"},\"colorscale\":[[0.0,\"#0d0887\"],[0.1111111111111111,\"#46039f\"],[0.2222222222222222,\"#7201a8\"],[0.3333333333333333,\"#9c179e\"],[0.4444444444444444,\"#bd3786\"],[0.5555555555555556,\"#d8576b\"],[0.6666666666666666,\"#ed7953\"],[0.7777777777777778,\"#fb9f3a\"],[0.8888888888888888,\"#fdca26\"],[1.0,\"#f0f921\"]],\"type\":\"heatmapgl\"}],\"histogram\":[{\"marker\":{\"pattern\":{\"fillmode\":\"overlay\",\"size\":10,\"solidity\":0.2}},\"type\":\"histogram\"}],\"histogram2d\":[{\"colorbar\":{\"outlinewidth\":0,\"ticks\":\"\"},\"colorscale\":[[0.0,\"#0d0887\"],[0.1111111111111111,\"#46039f\"],[0.2222222222222222,\"#7201a8\"],[0.3333333333333333,\"#9c179e\"],[0.4444444444444444,\"#bd3786\"],[0.5555555555555556,\"#d8576b\"],[0.6666666666666666,\"#ed7953\"],[0.7777777777777778,\"#fb9f3a\"],[0.8888888888888888,\"#fdca26\"],[1.0,\"#f0f921\"]],\"type\":\"histogram2d\"}],\"histogram2dcontour\":[{\"colorbar\":{\"outlinewidth\":0,\"ticks\":\"\"},\"colorscale\":[[0.0,\"#0d0887\"],[0.1111111111111111,\"#46039f\"],[0.2222222222222222,\"#7201a8\"],[0.3333333333333333,\"#9c179e\"],[0.4444444444444444,\"#bd3786\"],[0.5555555555555556,\"#d8576b\"],[0.6666666666666666,\"#ed7953\"],[0.7777777777777778,\"#fb9f3a\"],[0.8888888888888888,\"#fdca26\"],[1.0,\"#f0f921\"]],\"type\":\"histogram2dcontour\"}],\"mesh3d\":[{\"colorbar\":{\"outlinewidth\":0,\"ticks\":\"\"},\"type\":\"mesh3d\"}],\"parcoords\":[{\"line\":{\"colorbar\":{\"outlinewidth\":0,\"ticks\":\"\"}},\"type\":\"parcoords\"}],\"pie\":[{\"automargin\":true,\"type\":\"pie\"}],\"scatter\":[{\"marker\":{\"colorbar\":{\"outlinewidth\":0,\"ticks\":\"\"}},\"type\":\"scatter\"}],\"scatter3d\":[{\"line\":{\"colorbar\":{\"outlinewidth\":0,\"ticks\":\"\"}},\"marker\":{\"colorbar\":{\"outlinewidth\":0,\"ticks\":\"\"}},\"type\":\"scatter3d\"}],\"scattercarpet\":[{\"marker\":{\"colorbar\":{\"outlinewidth\":0,\"ticks\":\"\"}},\"type\":\"scattercarpet\"}],\"scattergeo\":[{\"marker\":{\"colorbar\":{\"outlinewidth\":0,\"ticks\":\"\"}},\"type\":\"scattergeo\"}],\"scattergl\":[{\"marker\":{\"colorbar\":{\"outlinewidth\":0,\"ticks\":\"\"}},\"type\":\"scattergl\"}],\"scattermapbox\":[{\"marker\":{\"colorbar\":{\"outlinewidth\":0,\"ticks\":\"\"}},\"type\":\"scattermapbox\"}],\"scatterpolar\":[{\"marker\":{\"colorbar\":{\"outlinewidth\":0,\"ticks\":\"\"}},\"type\":\"scatterpolar\"}],\"scatterpolargl\":[{\"marker\":{\"colorbar\":{\"outlinewidth\":0,\"ticks\":\"\"}},\"type\":\"scatterpolargl\"}],\"scatterternary\":[{\"marker\":{\"colorbar\":{\"outlinewidth\":0,\"ticks\":\"\"}},\"type\":\"scatterternary\"}],\"surface\":[{\"colorbar\":{\"outlinewidth\":0,\"ticks\":\"\"},\"colorscale\":[[0.0,\"#0d0887\"],[0.1111111111111111,\"#46039f\"],[0.2222222222222222,\"#7201a8\"],[0.3333333333333333,\"#9c179e\"],[0.4444444444444444,\"#bd3786\"],[0.5555555555555556,\"#d8576b\"],[0.6666666666666666,\"#ed7953\"],[0.7777777777777778,\"#fb9f3a\"],[0.8888888888888888,\"#fdca26\"],[1.0,\"#f0f921\"]],\"type\":\"surface\"}],\"table\":[{\"cells\":{\"fill\":{\"color\":\"#EBF0F8\"},\"line\":{\"color\":\"white\"}},\"header\":{\"fill\":{\"color\":\"#C8D4E3\"},\"line\":{\"color\":\"white\"}},\"type\":\"table\"}]},\"layout\":{\"annotationdefaults\":{\"arrowcolor\":\"#2a3f5f\",\"arrowhead\":0,\"arrowwidth\":1},\"autotypenumbers\":\"strict\",\"coloraxis\":{\"colorbar\":{\"outlinewidth\":0,\"ticks\":\"\"}},\"colorscale\":{\"diverging\":[[0,\"#8e0152\"],[0.1,\"#c51b7d\"],[0.2,\"#de77ae\"],[0.3,\"#f1b6da\"],[0.4,\"#fde0ef\"],[0.5,\"#f7f7f7\"],[0.6,\"#e6f5d0\"],[0.7,\"#b8e186\"],[0.8,\"#7fbc41\"],[0.9,\"#4d9221\"],[1,\"#276419\"]],\"sequential\":[[0.0,\"#0d0887\"],[0.1111111111111111,\"#46039f\"],[0.2222222222222222,\"#7201a8\"],[0.3333333333333333,\"#9c179e\"],[0.4444444444444444,\"#bd3786\"],[0.5555555555555556,\"#d8576b\"],[0.6666666666666666,\"#ed7953\"],[0.7777777777777778,\"#fb9f3a\"],[0.8888888888888888,\"#fdca26\"],[1.0,\"#f0f921\"]],\"sequentialminus\":[[0.0,\"#0d0887\"],[0.1111111111111111,\"#46039f\"],[0.2222222222222222,\"#7201a8\"],[0.3333333333333333,\"#9c179e\"],[0.4444444444444444,\"#bd3786\"],[0.5555555555555556,\"#d8576b\"],[0.6666666666666666,\"#ed7953\"],[0.7777777777777778,\"#fb9f3a\"],[0.8888888888888888,\"#fdca26\"],[1.0,\"#f0f921\"]]},\"colorway\":[\"#636efa\",\"#EF553B\",\"#00cc96\",\"#ab63fa\",\"#FFA15A\",\"#19d3f3\",\"#FF6692\",\"#B6E880\",\"#FF97FF\",\"#FECB52\"],\"font\":{\"color\":\"#2a3f5f\"},\"geo\":{\"bgcolor\":\"white\",\"lakecolor\":\"white\",\"landcolor\":\"#E5ECF6\",\"showlakes\":true,\"showland\":true,\"subunitcolor\":\"white\"},\"hoverlabel\":{\"align\":\"left\"},\"hovermode\":\"closest\",\"mapbox\":{\"style\":\"light\"},\"paper_bgcolor\":\"white\",\"plot_bgcolor\":\"#E5ECF6\",\"polar\":{\"angularaxis\":{\"gridcolor\":\"white\",\"linecolor\":\"white\",\"ticks\":\"\"},\"bgcolor\":\"#E5ECF6\",\"radialaxis\":{\"gridcolor\":\"white\",\"linecolor\":\"white\",\"ticks\":\"\"}},\"scene\":{\"xaxis\":{\"backgroundcolor\":\"#E5ECF6\",\"gridcolor\":\"white\",\"gridwidth\":2,\"linecolor\":\"white\",\"showbackground\":true,\"ticks\":\"\",\"zerolinecolor\":\"white\"},\"yaxis\":{\"backgroundcolor\":\"#E5ECF6\",\"gridcolor\":\"white\",\"gridwidth\":2,\"linecolor\":\"white\",\"showbackground\":true,\"ticks\":\"\",\"zerolinecolor\":\"white\"},\"zaxis\":{\"backgroundcolor\":\"#E5ECF6\",\"gridcolor\":\"white\",\"gridwidth\":2,\"linecolor\":\"white\",\"showbackground\":true,\"ticks\":\"\",\"zerolinecolor\":\"white\"}},\"shapedefaults\":{\"line\":{\"color\":\"#2a3f5f\"}},\"ternary\":{\"aaxis\":{\"gridcolor\":\"white\",\"linecolor\":\"white\",\"ticks\":\"\"},\"baxis\":{\"gridcolor\":\"white\",\"linecolor\":\"white\",\"ticks\":\"\"},\"bgcolor\":\"#E5ECF6\",\"caxis\":{\"gridcolor\":\"white\",\"linecolor\":\"white\",\"ticks\":\"\"}},\"title\":{\"x\":0.05},\"xaxis\":{\"automargin\":true,\"gridcolor\":\"white\",\"linecolor\":\"white\",\"ticks\":\"\",\"title\":{\"standoff\":15},\"zerolinecolor\":\"white\",\"zerolinewidth\":2},\"yaxis\":{\"automargin\":true,\"gridcolor\":\"white\",\"linecolor\":\"white\",\"ticks\":\"\",\"title\":{\"standoff\":15},\"zerolinecolor\":\"white\",\"zerolinewidth\":2}}}},                        {\"responsive\": true}                    ).then(function(){\n",
       "                            \n",
       "var gd = document.getElementById('d575339a-2406-4c5d-95c8-267c56c81b10');\n",
       "var x = new MutationObserver(function (mutations, observer) {{\n",
       "        var display = window.getComputedStyle(gd).display;\n",
       "        if (!display || display === 'none') {{\n",
       "            console.log([gd, 'removed!']);\n",
       "            Plotly.purge(gd);\n",
       "            observer.disconnect();\n",
       "        }}\n",
       "}});\n",
       "\n",
       "// Listen for the removal of the full notebook cells\n",
       "var notebookContainer = gd.closest('#notebook-container');\n",
       "if (notebookContainer) {{\n",
       "    x.observe(notebookContainer, {childList: true});\n",
       "}}\n",
       "\n",
       "// Listen for the clearing of the current output cell\n",
       "var outputEl = gd.closest('.output');\n",
       "if (outputEl) {{\n",
       "    x.observe(outputEl, {childList: true});\n",
       "}}\n",
       "\n",
       "                        })                };                });            </script>        </div>"
      ]
     },
     "metadata": {},
     "output_type": "display_data"
    }
   ],
   "source": [
    "r2 = result_bar(bar, ses)\n",
    "result_bar_visualization(r2)\n",
    "\n",
    "\n"
   ]
  },
  {
   "cell_type": "markdown",
   "id": "095807c5",
   "metadata": {},
   "source": [
    "## Шапка. Распределение кликов по элементам до и после\n"
   ]
  },
  {
   "cell_type": "code",
   "execution_count": 18,
   "id": "59d62bf2",
   "metadata": {},
   "outputs": [
    {
     "data": {
      "application/vnd.plotly.v1+json": {
       "config": {
        "plotlyServerURL": "https://plot.ly"
       },
       "data": [
        {
         "hole": 0.7,
         "hoverinfo": "label+percent",
         "labels": [
          "Акции",
          "Бренды",
          "Дизайн-решение",
          "Распродажа",
          "Уценка"
         ],
         "type": "pie",
         "values": [
          784,
          491,
          295,
          867,
          426
         ]
        }
       ],
       "layout": {
        "template": {
         "data": {
          "bar": [
           {
            "error_x": {
             "color": "#2a3f5f"
            },
            "error_y": {
             "color": "#2a3f5f"
            },
            "marker": {
             "line": {
              "color": "#E5ECF6",
              "width": 0.5
             },
             "pattern": {
              "fillmode": "overlay",
              "size": 10,
              "solidity": 0.2
             }
            },
            "type": "bar"
           }
          ],
          "barpolar": [
           {
            "marker": {
             "line": {
              "color": "#E5ECF6",
              "width": 0.5
             },
             "pattern": {
              "fillmode": "overlay",
              "size": 10,
              "solidity": 0.2
             }
            },
            "type": "barpolar"
           }
          ],
          "carpet": [
           {
            "aaxis": {
             "endlinecolor": "#2a3f5f",
             "gridcolor": "white",
             "linecolor": "white",
             "minorgridcolor": "white",
             "startlinecolor": "#2a3f5f"
            },
            "baxis": {
             "endlinecolor": "#2a3f5f",
             "gridcolor": "white",
             "linecolor": "white",
             "minorgridcolor": "white",
             "startlinecolor": "#2a3f5f"
            },
            "type": "carpet"
           }
          ],
          "choropleth": [
           {
            "colorbar": {
             "outlinewidth": 0,
             "ticks": ""
            },
            "type": "choropleth"
           }
          ],
          "contour": [
           {
            "colorbar": {
             "outlinewidth": 0,
             "ticks": ""
            },
            "colorscale": [
             [
              0,
              "#0d0887"
             ],
             [
              0.1111111111111111,
              "#46039f"
             ],
             [
              0.2222222222222222,
              "#7201a8"
             ],
             [
              0.3333333333333333,
              "#9c179e"
             ],
             [
              0.4444444444444444,
              "#bd3786"
             ],
             [
              0.5555555555555556,
              "#d8576b"
             ],
             [
              0.6666666666666666,
              "#ed7953"
             ],
             [
              0.7777777777777778,
              "#fb9f3a"
             ],
             [
              0.8888888888888888,
              "#fdca26"
             ],
             [
              1,
              "#f0f921"
             ]
            ],
            "type": "contour"
           }
          ],
          "contourcarpet": [
           {
            "colorbar": {
             "outlinewidth": 0,
             "ticks": ""
            },
            "type": "contourcarpet"
           }
          ],
          "heatmap": [
           {
            "colorbar": {
             "outlinewidth": 0,
             "ticks": ""
            },
            "colorscale": [
             [
              0,
              "#0d0887"
             ],
             [
              0.1111111111111111,
              "#46039f"
             ],
             [
              0.2222222222222222,
              "#7201a8"
             ],
             [
              0.3333333333333333,
              "#9c179e"
             ],
             [
              0.4444444444444444,
              "#bd3786"
             ],
             [
              0.5555555555555556,
              "#d8576b"
             ],
             [
              0.6666666666666666,
              "#ed7953"
             ],
             [
              0.7777777777777778,
              "#fb9f3a"
             ],
             [
              0.8888888888888888,
              "#fdca26"
             ],
             [
              1,
              "#f0f921"
             ]
            ],
            "type": "heatmap"
           }
          ],
          "heatmapgl": [
           {
            "colorbar": {
             "outlinewidth": 0,
             "ticks": ""
            },
            "colorscale": [
             [
              0,
              "#0d0887"
             ],
             [
              0.1111111111111111,
              "#46039f"
             ],
             [
              0.2222222222222222,
              "#7201a8"
             ],
             [
              0.3333333333333333,
              "#9c179e"
             ],
             [
              0.4444444444444444,
              "#bd3786"
             ],
             [
              0.5555555555555556,
              "#d8576b"
             ],
             [
              0.6666666666666666,
              "#ed7953"
             ],
             [
              0.7777777777777778,
              "#fb9f3a"
             ],
             [
              0.8888888888888888,
              "#fdca26"
             ],
             [
              1,
              "#f0f921"
             ]
            ],
            "type": "heatmapgl"
           }
          ],
          "histogram": [
           {
            "marker": {
             "pattern": {
              "fillmode": "overlay",
              "size": 10,
              "solidity": 0.2
             }
            },
            "type": "histogram"
           }
          ],
          "histogram2d": [
           {
            "colorbar": {
             "outlinewidth": 0,
             "ticks": ""
            },
            "colorscale": [
             [
              0,
              "#0d0887"
             ],
             [
              0.1111111111111111,
              "#46039f"
             ],
             [
              0.2222222222222222,
              "#7201a8"
             ],
             [
              0.3333333333333333,
              "#9c179e"
             ],
             [
              0.4444444444444444,
              "#bd3786"
             ],
             [
              0.5555555555555556,
              "#d8576b"
             ],
             [
              0.6666666666666666,
              "#ed7953"
             ],
             [
              0.7777777777777778,
              "#fb9f3a"
             ],
             [
              0.8888888888888888,
              "#fdca26"
             ],
             [
              1,
              "#f0f921"
             ]
            ],
            "type": "histogram2d"
           }
          ],
          "histogram2dcontour": [
           {
            "colorbar": {
             "outlinewidth": 0,
             "ticks": ""
            },
            "colorscale": [
             [
              0,
              "#0d0887"
             ],
             [
              0.1111111111111111,
              "#46039f"
             ],
             [
              0.2222222222222222,
              "#7201a8"
             ],
             [
              0.3333333333333333,
              "#9c179e"
             ],
             [
              0.4444444444444444,
              "#bd3786"
             ],
             [
              0.5555555555555556,
              "#d8576b"
             ],
             [
              0.6666666666666666,
              "#ed7953"
             ],
             [
              0.7777777777777778,
              "#fb9f3a"
             ],
             [
              0.8888888888888888,
              "#fdca26"
             ],
             [
              1,
              "#f0f921"
             ]
            ],
            "type": "histogram2dcontour"
           }
          ],
          "mesh3d": [
           {
            "colorbar": {
             "outlinewidth": 0,
             "ticks": ""
            },
            "type": "mesh3d"
           }
          ],
          "parcoords": [
           {
            "line": {
             "colorbar": {
              "outlinewidth": 0,
              "ticks": ""
             }
            },
            "type": "parcoords"
           }
          ],
          "pie": [
           {
            "automargin": true,
            "type": "pie"
           }
          ],
          "scatter": [
           {
            "marker": {
             "colorbar": {
              "outlinewidth": 0,
              "ticks": ""
             }
            },
            "type": "scatter"
           }
          ],
          "scatter3d": [
           {
            "line": {
             "colorbar": {
              "outlinewidth": 0,
              "ticks": ""
             }
            },
            "marker": {
             "colorbar": {
              "outlinewidth": 0,
              "ticks": ""
             }
            },
            "type": "scatter3d"
           }
          ],
          "scattercarpet": [
           {
            "marker": {
             "colorbar": {
              "outlinewidth": 0,
              "ticks": ""
             }
            },
            "type": "scattercarpet"
           }
          ],
          "scattergeo": [
           {
            "marker": {
             "colorbar": {
              "outlinewidth": 0,
              "ticks": ""
             }
            },
            "type": "scattergeo"
           }
          ],
          "scattergl": [
           {
            "marker": {
             "colorbar": {
              "outlinewidth": 0,
              "ticks": ""
             }
            },
            "type": "scattergl"
           }
          ],
          "scattermapbox": [
           {
            "marker": {
             "colorbar": {
              "outlinewidth": 0,
              "ticks": ""
             }
            },
            "type": "scattermapbox"
           }
          ],
          "scatterpolar": [
           {
            "marker": {
             "colorbar": {
              "outlinewidth": 0,
              "ticks": ""
             }
            },
            "type": "scatterpolar"
           }
          ],
          "scatterpolargl": [
           {
            "marker": {
             "colorbar": {
              "outlinewidth": 0,
              "ticks": ""
             }
            },
            "type": "scatterpolargl"
           }
          ],
          "scatterternary": [
           {
            "marker": {
             "colorbar": {
              "outlinewidth": 0,
              "ticks": ""
             }
            },
            "type": "scatterternary"
           }
          ],
          "surface": [
           {
            "colorbar": {
             "outlinewidth": 0,
             "ticks": ""
            },
            "colorscale": [
             [
              0,
              "#0d0887"
             ],
             [
              0.1111111111111111,
              "#46039f"
             ],
             [
              0.2222222222222222,
              "#7201a8"
             ],
             [
              0.3333333333333333,
              "#9c179e"
             ],
             [
              0.4444444444444444,
              "#bd3786"
             ],
             [
              0.5555555555555556,
              "#d8576b"
             ],
             [
              0.6666666666666666,
              "#ed7953"
             ],
             [
              0.7777777777777778,
              "#fb9f3a"
             ],
             [
              0.8888888888888888,
              "#fdca26"
             ],
             [
              1,
              "#f0f921"
             ]
            ],
            "type": "surface"
           }
          ],
          "table": [
           {
            "cells": {
             "fill": {
              "color": "#EBF0F8"
             },
             "line": {
              "color": "white"
             }
            },
            "header": {
             "fill": {
              "color": "#C8D4E3"
             },
             "line": {
              "color": "white"
             }
            },
            "type": "table"
           }
          ]
         },
         "layout": {
          "annotationdefaults": {
           "arrowcolor": "#2a3f5f",
           "arrowhead": 0,
           "arrowwidth": 1
          },
          "autotypenumbers": "strict",
          "coloraxis": {
           "colorbar": {
            "outlinewidth": 0,
            "ticks": ""
           }
          },
          "colorscale": {
           "diverging": [
            [
             0,
             "#8e0152"
            ],
            [
             0.1,
             "#c51b7d"
            ],
            [
             0.2,
             "#de77ae"
            ],
            [
             0.3,
             "#f1b6da"
            ],
            [
             0.4,
             "#fde0ef"
            ],
            [
             0.5,
             "#f7f7f7"
            ],
            [
             0.6,
             "#e6f5d0"
            ],
            [
             0.7,
             "#b8e186"
            ],
            [
             0.8,
             "#7fbc41"
            ],
            [
             0.9,
             "#4d9221"
            ],
            [
             1,
             "#276419"
            ]
           ],
           "sequential": [
            [
             0,
             "#0d0887"
            ],
            [
             0.1111111111111111,
             "#46039f"
            ],
            [
             0.2222222222222222,
             "#7201a8"
            ],
            [
             0.3333333333333333,
             "#9c179e"
            ],
            [
             0.4444444444444444,
             "#bd3786"
            ],
            [
             0.5555555555555556,
             "#d8576b"
            ],
            [
             0.6666666666666666,
             "#ed7953"
            ],
            [
             0.7777777777777778,
             "#fb9f3a"
            ],
            [
             0.8888888888888888,
             "#fdca26"
            ],
            [
             1,
             "#f0f921"
            ]
           ],
           "sequentialminus": [
            [
             0,
             "#0d0887"
            ],
            [
             0.1111111111111111,
             "#46039f"
            ],
            [
             0.2222222222222222,
             "#7201a8"
            ],
            [
             0.3333333333333333,
             "#9c179e"
            ],
            [
             0.4444444444444444,
             "#bd3786"
            ],
            [
             0.5555555555555556,
             "#d8576b"
            ],
            [
             0.6666666666666666,
             "#ed7953"
            ],
            [
             0.7777777777777778,
             "#fb9f3a"
            ],
            [
             0.8888888888888888,
             "#fdca26"
            ],
            [
             1,
             "#f0f921"
            ]
           ]
          },
          "colorway": [
           "#636efa",
           "#EF553B",
           "#00cc96",
           "#ab63fa",
           "#FFA15A",
           "#19d3f3",
           "#FF6692",
           "#B6E880",
           "#FF97FF",
           "#FECB52"
          ],
          "font": {
           "color": "#2a3f5f"
          },
          "geo": {
           "bgcolor": "white",
           "lakecolor": "white",
           "landcolor": "#E5ECF6",
           "showlakes": true,
           "showland": true,
           "subunitcolor": "white"
          },
          "hoverlabel": {
           "align": "left"
          },
          "hovermode": "closest",
          "mapbox": {
           "style": "light"
          },
          "paper_bgcolor": "white",
          "plot_bgcolor": "#E5ECF6",
          "polar": {
           "angularaxis": {
            "gridcolor": "white",
            "linecolor": "white",
            "ticks": ""
           },
           "bgcolor": "#E5ECF6",
           "radialaxis": {
            "gridcolor": "white",
            "linecolor": "white",
            "ticks": ""
           }
          },
          "scene": {
           "xaxis": {
            "backgroundcolor": "#E5ECF6",
            "gridcolor": "white",
            "gridwidth": 2,
            "linecolor": "white",
            "showbackground": true,
            "ticks": "",
            "zerolinecolor": "white"
           },
           "yaxis": {
            "backgroundcolor": "#E5ECF6",
            "gridcolor": "white",
            "gridwidth": 2,
            "linecolor": "white",
            "showbackground": true,
            "ticks": "",
            "zerolinecolor": "white"
           },
           "zaxis": {
            "backgroundcolor": "#E5ECF6",
            "gridcolor": "white",
            "gridwidth": 2,
            "linecolor": "white",
            "showbackground": true,
            "ticks": "",
            "zerolinecolor": "white"
           }
          },
          "shapedefaults": {
           "line": {
            "color": "#2a3f5f"
           }
          },
          "ternary": {
           "aaxis": {
            "gridcolor": "white",
            "linecolor": "white",
            "ticks": ""
           },
           "baxis": {
            "gridcolor": "white",
            "linecolor": "white",
            "ticks": ""
           },
           "bgcolor": "#E5ECF6",
           "caxis": {
            "gridcolor": "white",
            "linecolor": "white",
            "ticks": ""
           }
          },
          "title": {
           "x": 0.05
          },
          "xaxis": {
           "automargin": true,
           "gridcolor": "white",
           "linecolor": "white",
           "ticks": "",
           "title": {
            "standoff": 15
           },
           "zerolinecolor": "white",
           "zerolinewidth": 2
          },
          "yaxis": {
           "automargin": true,
           "gridcolor": "white",
           "linecolor": "white",
           "ticks": "",
           "title": {
            "standoff": 15
           },
           "zerolinecolor": "white",
           "zerolinewidth": 2
          }
         }
        },
        "title": {
         "text": "before. Клики по элементам шапки"
        }
       }
      },
      "text/html": [
       "<div>                            <div id=\"faa625df-b6c7-45fe-93c6-0663ff644cea\" class=\"plotly-graph-div\" style=\"height:525px; width:100%;\"></div>            <script type=\"text/javascript\">                require([\"plotly\"], function(Plotly) {                    window.PLOTLYENV=window.PLOTLYENV || {};                                    if (document.getElementById(\"faa625df-b6c7-45fe-93c6-0663ff644cea\")) {                    Plotly.newPlot(                        \"faa625df-b6c7-45fe-93c6-0663ff644cea\",                        [{\"hole\":0.7,\"hoverinfo\":\"label+percent\",\"labels\":[\"\\u0410\\u043a\\u0446\\u0438\\u0438\",\"\\u0411\\u0440\\u0435\\u043d\\u0434\\u044b\",\"\\u0414\\u0438\\u0437\\u0430\\u0439\\u043d-\\u0440\\u0435\\u0448\\u0435\\u043d\\u0438\\u0435\",\"\\u0420\\u0430\\u0441\\u043f\\u0440\\u043e\\u0434\\u0430\\u0436\\u0430\",\"\\u0423\\u0446\\u0435\\u043d\\u043a\\u0430\"],\"type\":\"pie\",\"values\":[784,491,295,867,426]}],                        {\"template\":{\"data\":{\"bar\":[{\"error_x\":{\"color\":\"#2a3f5f\"},\"error_y\":{\"color\":\"#2a3f5f\"},\"marker\":{\"line\":{\"color\":\"#E5ECF6\",\"width\":0.5},\"pattern\":{\"fillmode\":\"overlay\",\"size\":10,\"solidity\":0.2}},\"type\":\"bar\"}],\"barpolar\":[{\"marker\":{\"line\":{\"color\":\"#E5ECF6\",\"width\":0.5},\"pattern\":{\"fillmode\":\"overlay\",\"size\":10,\"solidity\":0.2}},\"type\":\"barpolar\"}],\"carpet\":[{\"aaxis\":{\"endlinecolor\":\"#2a3f5f\",\"gridcolor\":\"white\",\"linecolor\":\"white\",\"minorgridcolor\":\"white\",\"startlinecolor\":\"#2a3f5f\"},\"baxis\":{\"endlinecolor\":\"#2a3f5f\",\"gridcolor\":\"white\",\"linecolor\":\"white\",\"minorgridcolor\":\"white\",\"startlinecolor\":\"#2a3f5f\"},\"type\":\"carpet\"}],\"choropleth\":[{\"colorbar\":{\"outlinewidth\":0,\"ticks\":\"\"},\"type\":\"choropleth\"}],\"contour\":[{\"colorbar\":{\"outlinewidth\":0,\"ticks\":\"\"},\"colorscale\":[[0.0,\"#0d0887\"],[0.1111111111111111,\"#46039f\"],[0.2222222222222222,\"#7201a8\"],[0.3333333333333333,\"#9c179e\"],[0.4444444444444444,\"#bd3786\"],[0.5555555555555556,\"#d8576b\"],[0.6666666666666666,\"#ed7953\"],[0.7777777777777778,\"#fb9f3a\"],[0.8888888888888888,\"#fdca26\"],[1.0,\"#f0f921\"]],\"type\":\"contour\"}],\"contourcarpet\":[{\"colorbar\":{\"outlinewidth\":0,\"ticks\":\"\"},\"type\":\"contourcarpet\"}],\"heatmap\":[{\"colorbar\":{\"outlinewidth\":0,\"ticks\":\"\"},\"colorscale\":[[0.0,\"#0d0887\"],[0.1111111111111111,\"#46039f\"],[0.2222222222222222,\"#7201a8\"],[0.3333333333333333,\"#9c179e\"],[0.4444444444444444,\"#bd3786\"],[0.5555555555555556,\"#d8576b\"],[0.6666666666666666,\"#ed7953\"],[0.7777777777777778,\"#fb9f3a\"],[0.8888888888888888,\"#fdca26\"],[1.0,\"#f0f921\"]],\"type\":\"heatmap\"}],\"heatmapgl\":[{\"colorbar\":{\"outlinewidth\":0,\"ticks\":\"\"},\"colorscale\":[[0.0,\"#0d0887\"],[0.1111111111111111,\"#46039f\"],[0.2222222222222222,\"#7201a8\"],[0.3333333333333333,\"#9c179e\"],[0.4444444444444444,\"#bd3786\"],[0.5555555555555556,\"#d8576b\"],[0.6666666666666666,\"#ed7953\"],[0.7777777777777778,\"#fb9f3a\"],[0.8888888888888888,\"#fdca26\"],[1.0,\"#f0f921\"]],\"type\":\"heatmapgl\"}],\"histogram\":[{\"marker\":{\"pattern\":{\"fillmode\":\"overlay\",\"size\":10,\"solidity\":0.2}},\"type\":\"histogram\"}],\"histogram2d\":[{\"colorbar\":{\"outlinewidth\":0,\"ticks\":\"\"},\"colorscale\":[[0.0,\"#0d0887\"],[0.1111111111111111,\"#46039f\"],[0.2222222222222222,\"#7201a8\"],[0.3333333333333333,\"#9c179e\"],[0.4444444444444444,\"#bd3786\"],[0.5555555555555556,\"#d8576b\"],[0.6666666666666666,\"#ed7953\"],[0.7777777777777778,\"#fb9f3a\"],[0.8888888888888888,\"#fdca26\"],[1.0,\"#f0f921\"]],\"type\":\"histogram2d\"}],\"histogram2dcontour\":[{\"colorbar\":{\"outlinewidth\":0,\"ticks\":\"\"},\"colorscale\":[[0.0,\"#0d0887\"],[0.1111111111111111,\"#46039f\"],[0.2222222222222222,\"#7201a8\"],[0.3333333333333333,\"#9c179e\"],[0.4444444444444444,\"#bd3786\"],[0.5555555555555556,\"#d8576b\"],[0.6666666666666666,\"#ed7953\"],[0.7777777777777778,\"#fb9f3a\"],[0.8888888888888888,\"#fdca26\"],[1.0,\"#f0f921\"]],\"type\":\"histogram2dcontour\"}],\"mesh3d\":[{\"colorbar\":{\"outlinewidth\":0,\"ticks\":\"\"},\"type\":\"mesh3d\"}],\"parcoords\":[{\"line\":{\"colorbar\":{\"outlinewidth\":0,\"ticks\":\"\"}},\"type\":\"parcoords\"}],\"pie\":[{\"automargin\":true,\"type\":\"pie\"}],\"scatter\":[{\"marker\":{\"colorbar\":{\"outlinewidth\":0,\"ticks\":\"\"}},\"type\":\"scatter\"}],\"scatter3d\":[{\"line\":{\"colorbar\":{\"outlinewidth\":0,\"ticks\":\"\"}},\"marker\":{\"colorbar\":{\"outlinewidth\":0,\"ticks\":\"\"}},\"type\":\"scatter3d\"}],\"scattercarpet\":[{\"marker\":{\"colorbar\":{\"outlinewidth\":0,\"ticks\":\"\"}},\"type\":\"scattercarpet\"}],\"scattergeo\":[{\"marker\":{\"colorbar\":{\"outlinewidth\":0,\"ticks\":\"\"}},\"type\":\"scattergeo\"}],\"scattergl\":[{\"marker\":{\"colorbar\":{\"outlinewidth\":0,\"ticks\":\"\"}},\"type\":\"scattergl\"}],\"scattermapbox\":[{\"marker\":{\"colorbar\":{\"outlinewidth\":0,\"ticks\":\"\"}},\"type\":\"scattermapbox\"}],\"scatterpolar\":[{\"marker\":{\"colorbar\":{\"outlinewidth\":0,\"ticks\":\"\"}},\"type\":\"scatterpolar\"}],\"scatterpolargl\":[{\"marker\":{\"colorbar\":{\"outlinewidth\":0,\"ticks\":\"\"}},\"type\":\"scatterpolargl\"}],\"scatterternary\":[{\"marker\":{\"colorbar\":{\"outlinewidth\":0,\"ticks\":\"\"}},\"type\":\"scatterternary\"}],\"surface\":[{\"colorbar\":{\"outlinewidth\":0,\"ticks\":\"\"},\"colorscale\":[[0.0,\"#0d0887\"],[0.1111111111111111,\"#46039f\"],[0.2222222222222222,\"#7201a8\"],[0.3333333333333333,\"#9c179e\"],[0.4444444444444444,\"#bd3786\"],[0.5555555555555556,\"#d8576b\"],[0.6666666666666666,\"#ed7953\"],[0.7777777777777778,\"#fb9f3a\"],[0.8888888888888888,\"#fdca26\"],[1.0,\"#f0f921\"]],\"type\":\"surface\"}],\"table\":[{\"cells\":{\"fill\":{\"color\":\"#EBF0F8\"},\"line\":{\"color\":\"white\"}},\"header\":{\"fill\":{\"color\":\"#C8D4E3\"},\"line\":{\"color\":\"white\"}},\"type\":\"table\"}]},\"layout\":{\"annotationdefaults\":{\"arrowcolor\":\"#2a3f5f\",\"arrowhead\":0,\"arrowwidth\":1},\"autotypenumbers\":\"strict\",\"coloraxis\":{\"colorbar\":{\"outlinewidth\":0,\"ticks\":\"\"}},\"colorscale\":{\"diverging\":[[0,\"#8e0152\"],[0.1,\"#c51b7d\"],[0.2,\"#de77ae\"],[0.3,\"#f1b6da\"],[0.4,\"#fde0ef\"],[0.5,\"#f7f7f7\"],[0.6,\"#e6f5d0\"],[0.7,\"#b8e186\"],[0.8,\"#7fbc41\"],[0.9,\"#4d9221\"],[1,\"#276419\"]],\"sequential\":[[0.0,\"#0d0887\"],[0.1111111111111111,\"#46039f\"],[0.2222222222222222,\"#7201a8\"],[0.3333333333333333,\"#9c179e\"],[0.4444444444444444,\"#bd3786\"],[0.5555555555555556,\"#d8576b\"],[0.6666666666666666,\"#ed7953\"],[0.7777777777777778,\"#fb9f3a\"],[0.8888888888888888,\"#fdca26\"],[1.0,\"#f0f921\"]],\"sequentialminus\":[[0.0,\"#0d0887\"],[0.1111111111111111,\"#46039f\"],[0.2222222222222222,\"#7201a8\"],[0.3333333333333333,\"#9c179e\"],[0.4444444444444444,\"#bd3786\"],[0.5555555555555556,\"#d8576b\"],[0.6666666666666666,\"#ed7953\"],[0.7777777777777778,\"#fb9f3a\"],[0.8888888888888888,\"#fdca26\"],[1.0,\"#f0f921\"]]},\"colorway\":[\"#636efa\",\"#EF553B\",\"#00cc96\",\"#ab63fa\",\"#FFA15A\",\"#19d3f3\",\"#FF6692\",\"#B6E880\",\"#FF97FF\",\"#FECB52\"],\"font\":{\"color\":\"#2a3f5f\"},\"geo\":{\"bgcolor\":\"white\",\"lakecolor\":\"white\",\"landcolor\":\"#E5ECF6\",\"showlakes\":true,\"showland\":true,\"subunitcolor\":\"white\"},\"hoverlabel\":{\"align\":\"left\"},\"hovermode\":\"closest\",\"mapbox\":{\"style\":\"light\"},\"paper_bgcolor\":\"white\",\"plot_bgcolor\":\"#E5ECF6\",\"polar\":{\"angularaxis\":{\"gridcolor\":\"white\",\"linecolor\":\"white\",\"ticks\":\"\"},\"bgcolor\":\"#E5ECF6\",\"radialaxis\":{\"gridcolor\":\"white\",\"linecolor\":\"white\",\"ticks\":\"\"}},\"scene\":{\"xaxis\":{\"backgroundcolor\":\"#E5ECF6\",\"gridcolor\":\"white\",\"gridwidth\":2,\"linecolor\":\"white\",\"showbackground\":true,\"ticks\":\"\",\"zerolinecolor\":\"white\"},\"yaxis\":{\"backgroundcolor\":\"#E5ECF6\",\"gridcolor\":\"white\",\"gridwidth\":2,\"linecolor\":\"white\",\"showbackground\":true,\"ticks\":\"\",\"zerolinecolor\":\"white\"},\"zaxis\":{\"backgroundcolor\":\"#E5ECF6\",\"gridcolor\":\"white\",\"gridwidth\":2,\"linecolor\":\"white\",\"showbackground\":true,\"ticks\":\"\",\"zerolinecolor\":\"white\"}},\"shapedefaults\":{\"line\":{\"color\":\"#2a3f5f\"}},\"ternary\":{\"aaxis\":{\"gridcolor\":\"white\",\"linecolor\":\"white\",\"ticks\":\"\"},\"baxis\":{\"gridcolor\":\"white\",\"linecolor\":\"white\",\"ticks\":\"\"},\"bgcolor\":\"#E5ECF6\",\"caxis\":{\"gridcolor\":\"white\",\"linecolor\":\"white\",\"ticks\":\"\"}},\"title\":{\"x\":0.05},\"xaxis\":{\"automargin\":true,\"gridcolor\":\"white\",\"linecolor\":\"white\",\"ticks\":\"\",\"title\":{\"standoff\":15},\"zerolinecolor\":\"white\",\"zerolinewidth\":2},\"yaxis\":{\"automargin\":true,\"gridcolor\":\"white\",\"linecolor\":\"white\",\"ticks\":\"\",\"title\":{\"standoff\":15},\"zerolinecolor\":\"white\",\"zerolinewidth\":2}}},\"title\":{\"text\":\"before. \\u041a\\u043b\\u0438\\u043a\\u0438 \\u043f\\u043e \\u044d\\u043b\\u0435\\u043c\\u0435\\u043d\\u0442\\u0430\\u043c \\u0448\\u0430\\u043f\\u043a\\u0438\"}},                        {\"responsive\": true}                    ).then(function(){\n",
       "                            \n",
       "var gd = document.getElementById('faa625df-b6c7-45fe-93c6-0663ff644cea');\n",
       "var x = new MutationObserver(function (mutations, observer) {{\n",
       "        var display = window.getComputedStyle(gd).display;\n",
       "        if (!display || display === 'none') {{\n",
       "            console.log([gd, 'removed!']);\n",
       "            Plotly.purge(gd);\n",
       "            observer.disconnect();\n",
       "        }}\n",
       "}});\n",
       "\n",
       "// Listen for the removal of the full notebook cells\n",
       "var notebookContainer = gd.closest('#notebook-container');\n",
       "if (notebookContainer) {{\n",
       "    x.observe(notebookContainer, {childList: true});\n",
       "}}\n",
       "\n",
       "// Listen for the clearing of the current output cell\n",
       "var outputEl = gd.closest('.output');\n",
       "if (outputEl) {{\n",
       "    x.observe(outputEl, {childList: true});\n",
       "}}\n",
       "\n",
       "                        })                };                });            </script>        </div>"
      ]
     },
     "metadata": {},
     "output_type": "display_data"
    },
    {
     "data": {
      "application/vnd.plotly.v1+json": {
       "config": {
        "plotlyServerURL": "https://plot.ly"
       },
       "data": [
        {
         "hole": 0.7,
         "hoverinfo": "label+percent",
         "labels": [
          "STWORKI",
          "Акции",
          "Бренды",
          "Дизайн-решение",
          "Распродажа",
          "Уценка"
         ],
         "type": "pie",
         "values": [
          427,
          2239,
          1242,
          1317,
          1872,
          918
         ]
        }
       ],
       "layout": {
        "template": {
         "data": {
          "bar": [
           {
            "error_x": {
             "color": "#2a3f5f"
            },
            "error_y": {
             "color": "#2a3f5f"
            },
            "marker": {
             "line": {
              "color": "#E5ECF6",
              "width": 0.5
             },
             "pattern": {
              "fillmode": "overlay",
              "size": 10,
              "solidity": 0.2
             }
            },
            "type": "bar"
           }
          ],
          "barpolar": [
           {
            "marker": {
             "line": {
              "color": "#E5ECF6",
              "width": 0.5
             },
             "pattern": {
              "fillmode": "overlay",
              "size": 10,
              "solidity": 0.2
             }
            },
            "type": "barpolar"
           }
          ],
          "carpet": [
           {
            "aaxis": {
             "endlinecolor": "#2a3f5f",
             "gridcolor": "white",
             "linecolor": "white",
             "minorgridcolor": "white",
             "startlinecolor": "#2a3f5f"
            },
            "baxis": {
             "endlinecolor": "#2a3f5f",
             "gridcolor": "white",
             "linecolor": "white",
             "minorgridcolor": "white",
             "startlinecolor": "#2a3f5f"
            },
            "type": "carpet"
           }
          ],
          "choropleth": [
           {
            "colorbar": {
             "outlinewidth": 0,
             "ticks": ""
            },
            "type": "choropleth"
           }
          ],
          "contour": [
           {
            "colorbar": {
             "outlinewidth": 0,
             "ticks": ""
            },
            "colorscale": [
             [
              0,
              "#0d0887"
             ],
             [
              0.1111111111111111,
              "#46039f"
             ],
             [
              0.2222222222222222,
              "#7201a8"
             ],
             [
              0.3333333333333333,
              "#9c179e"
             ],
             [
              0.4444444444444444,
              "#bd3786"
             ],
             [
              0.5555555555555556,
              "#d8576b"
             ],
             [
              0.6666666666666666,
              "#ed7953"
             ],
             [
              0.7777777777777778,
              "#fb9f3a"
             ],
             [
              0.8888888888888888,
              "#fdca26"
             ],
             [
              1,
              "#f0f921"
             ]
            ],
            "type": "contour"
           }
          ],
          "contourcarpet": [
           {
            "colorbar": {
             "outlinewidth": 0,
             "ticks": ""
            },
            "type": "contourcarpet"
           }
          ],
          "heatmap": [
           {
            "colorbar": {
             "outlinewidth": 0,
             "ticks": ""
            },
            "colorscale": [
             [
              0,
              "#0d0887"
             ],
             [
              0.1111111111111111,
              "#46039f"
             ],
             [
              0.2222222222222222,
              "#7201a8"
             ],
             [
              0.3333333333333333,
              "#9c179e"
             ],
             [
              0.4444444444444444,
              "#bd3786"
             ],
             [
              0.5555555555555556,
              "#d8576b"
             ],
             [
              0.6666666666666666,
              "#ed7953"
             ],
             [
              0.7777777777777778,
              "#fb9f3a"
             ],
             [
              0.8888888888888888,
              "#fdca26"
             ],
             [
              1,
              "#f0f921"
             ]
            ],
            "type": "heatmap"
           }
          ],
          "heatmapgl": [
           {
            "colorbar": {
             "outlinewidth": 0,
             "ticks": ""
            },
            "colorscale": [
             [
              0,
              "#0d0887"
             ],
             [
              0.1111111111111111,
              "#46039f"
             ],
             [
              0.2222222222222222,
              "#7201a8"
             ],
             [
              0.3333333333333333,
              "#9c179e"
             ],
             [
              0.4444444444444444,
              "#bd3786"
             ],
             [
              0.5555555555555556,
              "#d8576b"
             ],
             [
              0.6666666666666666,
              "#ed7953"
             ],
             [
              0.7777777777777778,
              "#fb9f3a"
             ],
             [
              0.8888888888888888,
              "#fdca26"
             ],
             [
              1,
              "#f0f921"
             ]
            ],
            "type": "heatmapgl"
           }
          ],
          "histogram": [
           {
            "marker": {
             "pattern": {
              "fillmode": "overlay",
              "size": 10,
              "solidity": 0.2
             }
            },
            "type": "histogram"
           }
          ],
          "histogram2d": [
           {
            "colorbar": {
             "outlinewidth": 0,
             "ticks": ""
            },
            "colorscale": [
             [
              0,
              "#0d0887"
             ],
             [
              0.1111111111111111,
              "#46039f"
             ],
             [
              0.2222222222222222,
              "#7201a8"
             ],
             [
              0.3333333333333333,
              "#9c179e"
             ],
             [
              0.4444444444444444,
              "#bd3786"
             ],
             [
              0.5555555555555556,
              "#d8576b"
             ],
             [
              0.6666666666666666,
              "#ed7953"
             ],
             [
              0.7777777777777778,
              "#fb9f3a"
             ],
             [
              0.8888888888888888,
              "#fdca26"
             ],
             [
              1,
              "#f0f921"
             ]
            ],
            "type": "histogram2d"
           }
          ],
          "histogram2dcontour": [
           {
            "colorbar": {
             "outlinewidth": 0,
             "ticks": ""
            },
            "colorscale": [
             [
              0,
              "#0d0887"
             ],
             [
              0.1111111111111111,
              "#46039f"
             ],
             [
              0.2222222222222222,
              "#7201a8"
             ],
             [
              0.3333333333333333,
              "#9c179e"
             ],
             [
              0.4444444444444444,
              "#bd3786"
             ],
             [
              0.5555555555555556,
              "#d8576b"
             ],
             [
              0.6666666666666666,
              "#ed7953"
             ],
             [
              0.7777777777777778,
              "#fb9f3a"
             ],
             [
              0.8888888888888888,
              "#fdca26"
             ],
             [
              1,
              "#f0f921"
             ]
            ],
            "type": "histogram2dcontour"
           }
          ],
          "mesh3d": [
           {
            "colorbar": {
             "outlinewidth": 0,
             "ticks": ""
            },
            "type": "mesh3d"
           }
          ],
          "parcoords": [
           {
            "line": {
             "colorbar": {
              "outlinewidth": 0,
              "ticks": ""
             }
            },
            "type": "parcoords"
           }
          ],
          "pie": [
           {
            "automargin": true,
            "type": "pie"
           }
          ],
          "scatter": [
           {
            "marker": {
             "colorbar": {
              "outlinewidth": 0,
              "ticks": ""
             }
            },
            "type": "scatter"
           }
          ],
          "scatter3d": [
           {
            "line": {
             "colorbar": {
              "outlinewidth": 0,
              "ticks": ""
             }
            },
            "marker": {
             "colorbar": {
              "outlinewidth": 0,
              "ticks": ""
             }
            },
            "type": "scatter3d"
           }
          ],
          "scattercarpet": [
           {
            "marker": {
             "colorbar": {
              "outlinewidth": 0,
              "ticks": ""
             }
            },
            "type": "scattercarpet"
           }
          ],
          "scattergeo": [
           {
            "marker": {
             "colorbar": {
              "outlinewidth": 0,
              "ticks": ""
             }
            },
            "type": "scattergeo"
           }
          ],
          "scattergl": [
           {
            "marker": {
             "colorbar": {
              "outlinewidth": 0,
              "ticks": ""
             }
            },
            "type": "scattergl"
           }
          ],
          "scattermapbox": [
           {
            "marker": {
             "colorbar": {
              "outlinewidth": 0,
              "ticks": ""
             }
            },
            "type": "scattermapbox"
           }
          ],
          "scatterpolar": [
           {
            "marker": {
             "colorbar": {
              "outlinewidth": 0,
              "ticks": ""
             }
            },
            "type": "scatterpolar"
           }
          ],
          "scatterpolargl": [
           {
            "marker": {
             "colorbar": {
              "outlinewidth": 0,
              "ticks": ""
             }
            },
            "type": "scatterpolargl"
           }
          ],
          "scatterternary": [
           {
            "marker": {
             "colorbar": {
              "outlinewidth": 0,
              "ticks": ""
             }
            },
            "type": "scatterternary"
           }
          ],
          "surface": [
           {
            "colorbar": {
             "outlinewidth": 0,
             "ticks": ""
            },
            "colorscale": [
             [
              0,
              "#0d0887"
             ],
             [
              0.1111111111111111,
              "#46039f"
             ],
             [
              0.2222222222222222,
              "#7201a8"
             ],
             [
              0.3333333333333333,
              "#9c179e"
             ],
             [
              0.4444444444444444,
              "#bd3786"
             ],
             [
              0.5555555555555556,
              "#d8576b"
             ],
             [
              0.6666666666666666,
              "#ed7953"
             ],
             [
              0.7777777777777778,
              "#fb9f3a"
             ],
             [
              0.8888888888888888,
              "#fdca26"
             ],
             [
              1,
              "#f0f921"
             ]
            ],
            "type": "surface"
           }
          ],
          "table": [
           {
            "cells": {
             "fill": {
              "color": "#EBF0F8"
             },
             "line": {
              "color": "white"
             }
            },
            "header": {
             "fill": {
              "color": "#C8D4E3"
             },
             "line": {
              "color": "white"
             }
            },
            "type": "table"
           }
          ]
         },
         "layout": {
          "annotationdefaults": {
           "arrowcolor": "#2a3f5f",
           "arrowhead": 0,
           "arrowwidth": 1
          },
          "autotypenumbers": "strict",
          "coloraxis": {
           "colorbar": {
            "outlinewidth": 0,
            "ticks": ""
           }
          },
          "colorscale": {
           "diverging": [
            [
             0,
             "#8e0152"
            ],
            [
             0.1,
             "#c51b7d"
            ],
            [
             0.2,
             "#de77ae"
            ],
            [
             0.3,
             "#f1b6da"
            ],
            [
             0.4,
             "#fde0ef"
            ],
            [
             0.5,
             "#f7f7f7"
            ],
            [
             0.6,
             "#e6f5d0"
            ],
            [
             0.7,
             "#b8e186"
            ],
            [
             0.8,
             "#7fbc41"
            ],
            [
             0.9,
             "#4d9221"
            ],
            [
             1,
             "#276419"
            ]
           ],
           "sequential": [
            [
             0,
             "#0d0887"
            ],
            [
             0.1111111111111111,
             "#46039f"
            ],
            [
             0.2222222222222222,
             "#7201a8"
            ],
            [
             0.3333333333333333,
             "#9c179e"
            ],
            [
             0.4444444444444444,
             "#bd3786"
            ],
            [
             0.5555555555555556,
             "#d8576b"
            ],
            [
             0.6666666666666666,
             "#ed7953"
            ],
            [
             0.7777777777777778,
             "#fb9f3a"
            ],
            [
             0.8888888888888888,
             "#fdca26"
            ],
            [
             1,
             "#f0f921"
            ]
           ],
           "sequentialminus": [
            [
             0,
             "#0d0887"
            ],
            [
             0.1111111111111111,
             "#46039f"
            ],
            [
             0.2222222222222222,
             "#7201a8"
            ],
            [
             0.3333333333333333,
             "#9c179e"
            ],
            [
             0.4444444444444444,
             "#bd3786"
            ],
            [
             0.5555555555555556,
             "#d8576b"
            ],
            [
             0.6666666666666666,
             "#ed7953"
            ],
            [
             0.7777777777777778,
             "#fb9f3a"
            ],
            [
             0.8888888888888888,
             "#fdca26"
            ],
            [
             1,
             "#f0f921"
            ]
           ]
          },
          "colorway": [
           "#636efa",
           "#EF553B",
           "#00cc96",
           "#ab63fa",
           "#FFA15A",
           "#19d3f3",
           "#FF6692",
           "#B6E880",
           "#FF97FF",
           "#FECB52"
          ],
          "font": {
           "color": "#2a3f5f"
          },
          "geo": {
           "bgcolor": "white",
           "lakecolor": "white",
           "landcolor": "#E5ECF6",
           "showlakes": true,
           "showland": true,
           "subunitcolor": "white"
          },
          "hoverlabel": {
           "align": "left"
          },
          "hovermode": "closest",
          "mapbox": {
           "style": "light"
          },
          "paper_bgcolor": "white",
          "plot_bgcolor": "#E5ECF6",
          "polar": {
           "angularaxis": {
            "gridcolor": "white",
            "linecolor": "white",
            "ticks": ""
           },
           "bgcolor": "#E5ECF6",
           "radialaxis": {
            "gridcolor": "white",
            "linecolor": "white",
            "ticks": ""
           }
          },
          "scene": {
           "xaxis": {
            "backgroundcolor": "#E5ECF6",
            "gridcolor": "white",
            "gridwidth": 2,
            "linecolor": "white",
            "showbackground": true,
            "ticks": "",
            "zerolinecolor": "white"
           },
           "yaxis": {
            "backgroundcolor": "#E5ECF6",
            "gridcolor": "white",
            "gridwidth": 2,
            "linecolor": "white",
            "showbackground": true,
            "ticks": "",
            "zerolinecolor": "white"
           },
           "zaxis": {
            "backgroundcolor": "#E5ECF6",
            "gridcolor": "white",
            "gridwidth": 2,
            "linecolor": "white",
            "showbackground": true,
            "ticks": "",
            "zerolinecolor": "white"
           }
          },
          "shapedefaults": {
           "line": {
            "color": "#2a3f5f"
           }
          },
          "ternary": {
           "aaxis": {
            "gridcolor": "white",
            "linecolor": "white",
            "ticks": ""
           },
           "baxis": {
            "gridcolor": "white",
            "linecolor": "white",
            "ticks": ""
           },
           "bgcolor": "#E5ECF6",
           "caxis": {
            "gridcolor": "white",
            "linecolor": "white",
            "ticks": ""
           }
          },
          "title": {
           "x": 0.05
          },
          "xaxis": {
           "automargin": true,
           "gridcolor": "white",
           "linecolor": "white",
           "ticks": "",
           "title": {
            "standoff": 15
           },
           "zerolinecolor": "white",
           "zerolinewidth": 2
          },
          "yaxis": {
           "automargin": true,
           "gridcolor": "white",
           "linecolor": "white",
           "ticks": "",
           "title": {
            "standoff": 15
           },
           "zerolinecolor": "white",
           "zerolinewidth": 2
          }
         }
        },
        "title": {
         "text": "after. Клики по элементам шапки"
        }
       }
      },
      "text/html": [
       "<div>                            <div id=\"1651f744-7f3c-4bb8-91be-6a6e157cde0b\" class=\"plotly-graph-div\" style=\"height:525px; width:100%;\"></div>            <script type=\"text/javascript\">                require([\"plotly\"], function(Plotly) {                    window.PLOTLYENV=window.PLOTLYENV || {};                                    if (document.getElementById(\"1651f744-7f3c-4bb8-91be-6a6e157cde0b\")) {                    Plotly.newPlot(                        \"1651f744-7f3c-4bb8-91be-6a6e157cde0b\",                        [{\"hole\":0.7,\"hoverinfo\":\"label+percent\",\"labels\":[\"STWORKI\",\"\\u0410\\u043a\\u0446\\u0438\\u0438\",\"\\u0411\\u0440\\u0435\\u043d\\u0434\\u044b\",\"\\u0414\\u0438\\u0437\\u0430\\u0439\\u043d-\\u0440\\u0435\\u0448\\u0435\\u043d\\u0438\\u0435\",\"\\u0420\\u0430\\u0441\\u043f\\u0440\\u043e\\u0434\\u0430\\u0436\\u0430\",\"\\u0423\\u0446\\u0435\\u043d\\u043a\\u0430\"],\"type\":\"pie\",\"values\":[427,2239,1242,1317,1872,918]}],                        {\"template\":{\"data\":{\"bar\":[{\"error_x\":{\"color\":\"#2a3f5f\"},\"error_y\":{\"color\":\"#2a3f5f\"},\"marker\":{\"line\":{\"color\":\"#E5ECF6\",\"width\":0.5},\"pattern\":{\"fillmode\":\"overlay\",\"size\":10,\"solidity\":0.2}},\"type\":\"bar\"}],\"barpolar\":[{\"marker\":{\"line\":{\"color\":\"#E5ECF6\",\"width\":0.5},\"pattern\":{\"fillmode\":\"overlay\",\"size\":10,\"solidity\":0.2}},\"type\":\"barpolar\"}],\"carpet\":[{\"aaxis\":{\"endlinecolor\":\"#2a3f5f\",\"gridcolor\":\"white\",\"linecolor\":\"white\",\"minorgridcolor\":\"white\",\"startlinecolor\":\"#2a3f5f\"},\"baxis\":{\"endlinecolor\":\"#2a3f5f\",\"gridcolor\":\"white\",\"linecolor\":\"white\",\"minorgridcolor\":\"white\",\"startlinecolor\":\"#2a3f5f\"},\"type\":\"carpet\"}],\"choropleth\":[{\"colorbar\":{\"outlinewidth\":0,\"ticks\":\"\"},\"type\":\"choropleth\"}],\"contour\":[{\"colorbar\":{\"outlinewidth\":0,\"ticks\":\"\"},\"colorscale\":[[0.0,\"#0d0887\"],[0.1111111111111111,\"#46039f\"],[0.2222222222222222,\"#7201a8\"],[0.3333333333333333,\"#9c179e\"],[0.4444444444444444,\"#bd3786\"],[0.5555555555555556,\"#d8576b\"],[0.6666666666666666,\"#ed7953\"],[0.7777777777777778,\"#fb9f3a\"],[0.8888888888888888,\"#fdca26\"],[1.0,\"#f0f921\"]],\"type\":\"contour\"}],\"contourcarpet\":[{\"colorbar\":{\"outlinewidth\":0,\"ticks\":\"\"},\"type\":\"contourcarpet\"}],\"heatmap\":[{\"colorbar\":{\"outlinewidth\":0,\"ticks\":\"\"},\"colorscale\":[[0.0,\"#0d0887\"],[0.1111111111111111,\"#46039f\"],[0.2222222222222222,\"#7201a8\"],[0.3333333333333333,\"#9c179e\"],[0.4444444444444444,\"#bd3786\"],[0.5555555555555556,\"#d8576b\"],[0.6666666666666666,\"#ed7953\"],[0.7777777777777778,\"#fb9f3a\"],[0.8888888888888888,\"#fdca26\"],[1.0,\"#f0f921\"]],\"type\":\"heatmap\"}],\"heatmapgl\":[{\"colorbar\":{\"outlinewidth\":0,\"ticks\":\"\"},\"colorscale\":[[0.0,\"#0d0887\"],[0.1111111111111111,\"#46039f\"],[0.2222222222222222,\"#7201a8\"],[0.3333333333333333,\"#9c179e\"],[0.4444444444444444,\"#bd3786\"],[0.5555555555555556,\"#d8576b\"],[0.6666666666666666,\"#ed7953\"],[0.7777777777777778,\"#fb9f3a\"],[0.8888888888888888,\"#fdca26\"],[1.0,\"#f0f921\"]],\"type\":\"heatmapgl\"}],\"histogram\":[{\"marker\":{\"pattern\":{\"fillmode\":\"overlay\",\"size\":10,\"solidity\":0.2}},\"type\":\"histogram\"}],\"histogram2d\":[{\"colorbar\":{\"outlinewidth\":0,\"ticks\":\"\"},\"colorscale\":[[0.0,\"#0d0887\"],[0.1111111111111111,\"#46039f\"],[0.2222222222222222,\"#7201a8\"],[0.3333333333333333,\"#9c179e\"],[0.4444444444444444,\"#bd3786\"],[0.5555555555555556,\"#d8576b\"],[0.6666666666666666,\"#ed7953\"],[0.7777777777777778,\"#fb9f3a\"],[0.8888888888888888,\"#fdca26\"],[1.0,\"#f0f921\"]],\"type\":\"histogram2d\"}],\"histogram2dcontour\":[{\"colorbar\":{\"outlinewidth\":0,\"ticks\":\"\"},\"colorscale\":[[0.0,\"#0d0887\"],[0.1111111111111111,\"#46039f\"],[0.2222222222222222,\"#7201a8\"],[0.3333333333333333,\"#9c179e\"],[0.4444444444444444,\"#bd3786\"],[0.5555555555555556,\"#d8576b\"],[0.6666666666666666,\"#ed7953\"],[0.7777777777777778,\"#fb9f3a\"],[0.8888888888888888,\"#fdca26\"],[1.0,\"#f0f921\"]],\"type\":\"histogram2dcontour\"}],\"mesh3d\":[{\"colorbar\":{\"outlinewidth\":0,\"ticks\":\"\"},\"type\":\"mesh3d\"}],\"parcoords\":[{\"line\":{\"colorbar\":{\"outlinewidth\":0,\"ticks\":\"\"}},\"type\":\"parcoords\"}],\"pie\":[{\"automargin\":true,\"type\":\"pie\"}],\"scatter\":[{\"marker\":{\"colorbar\":{\"outlinewidth\":0,\"ticks\":\"\"}},\"type\":\"scatter\"}],\"scatter3d\":[{\"line\":{\"colorbar\":{\"outlinewidth\":0,\"ticks\":\"\"}},\"marker\":{\"colorbar\":{\"outlinewidth\":0,\"ticks\":\"\"}},\"type\":\"scatter3d\"}],\"scattercarpet\":[{\"marker\":{\"colorbar\":{\"outlinewidth\":0,\"ticks\":\"\"}},\"type\":\"scattercarpet\"}],\"scattergeo\":[{\"marker\":{\"colorbar\":{\"outlinewidth\":0,\"ticks\":\"\"}},\"type\":\"scattergeo\"}],\"scattergl\":[{\"marker\":{\"colorbar\":{\"outlinewidth\":0,\"ticks\":\"\"}},\"type\":\"scattergl\"}],\"scattermapbox\":[{\"marker\":{\"colorbar\":{\"outlinewidth\":0,\"ticks\":\"\"}},\"type\":\"scattermapbox\"}],\"scatterpolar\":[{\"marker\":{\"colorbar\":{\"outlinewidth\":0,\"ticks\":\"\"}},\"type\":\"scatterpolar\"}],\"scatterpolargl\":[{\"marker\":{\"colorbar\":{\"outlinewidth\":0,\"ticks\":\"\"}},\"type\":\"scatterpolargl\"}],\"scatterternary\":[{\"marker\":{\"colorbar\":{\"outlinewidth\":0,\"ticks\":\"\"}},\"type\":\"scatterternary\"}],\"surface\":[{\"colorbar\":{\"outlinewidth\":0,\"ticks\":\"\"},\"colorscale\":[[0.0,\"#0d0887\"],[0.1111111111111111,\"#46039f\"],[0.2222222222222222,\"#7201a8\"],[0.3333333333333333,\"#9c179e\"],[0.4444444444444444,\"#bd3786\"],[0.5555555555555556,\"#d8576b\"],[0.6666666666666666,\"#ed7953\"],[0.7777777777777778,\"#fb9f3a\"],[0.8888888888888888,\"#fdca26\"],[1.0,\"#f0f921\"]],\"type\":\"surface\"}],\"table\":[{\"cells\":{\"fill\":{\"color\":\"#EBF0F8\"},\"line\":{\"color\":\"white\"}},\"header\":{\"fill\":{\"color\":\"#C8D4E3\"},\"line\":{\"color\":\"white\"}},\"type\":\"table\"}]},\"layout\":{\"annotationdefaults\":{\"arrowcolor\":\"#2a3f5f\",\"arrowhead\":0,\"arrowwidth\":1},\"autotypenumbers\":\"strict\",\"coloraxis\":{\"colorbar\":{\"outlinewidth\":0,\"ticks\":\"\"}},\"colorscale\":{\"diverging\":[[0,\"#8e0152\"],[0.1,\"#c51b7d\"],[0.2,\"#de77ae\"],[0.3,\"#f1b6da\"],[0.4,\"#fde0ef\"],[0.5,\"#f7f7f7\"],[0.6,\"#e6f5d0\"],[0.7,\"#b8e186\"],[0.8,\"#7fbc41\"],[0.9,\"#4d9221\"],[1,\"#276419\"]],\"sequential\":[[0.0,\"#0d0887\"],[0.1111111111111111,\"#46039f\"],[0.2222222222222222,\"#7201a8\"],[0.3333333333333333,\"#9c179e\"],[0.4444444444444444,\"#bd3786\"],[0.5555555555555556,\"#d8576b\"],[0.6666666666666666,\"#ed7953\"],[0.7777777777777778,\"#fb9f3a\"],[0.8888888888888888,\"#fdca26\"],[1.0,\"#f0f921\"]],\"sequentialminus\":[[0.0,\"#0d0887\"],[0.1111111111111111,\"#46039f\"],[0.2222222222222222,\"#7201a8\"],[0.3333333333333333,\"#9c179e\"],[0.4444444444444444,\"#bd3786\"],[0.5555555555555556,\"#d8576b\"],[0.6666666666666666,\"#ed7953\"],[0.7777777777777778,\"#fb9f3a\"],[0.8888888888888888,\"#fdca26\"],[1.0,\"#f0f921\"]]},\"colorway\":[\"#636efa\",\"#EF553B\",\"#00cc96\",\"#ab63fa\",\"#FFA15A\",\"#19d3f3\",\"#FF6692\",\"#B6E880\",\"#FF97FF\",\"#FECB52\"],\"font\":{\"color\":\"#2a3f5f\"},\"geo\":{\"bgcolor\":\"white\",\"lakecolor\":\"white\",\"landcolor\":\"#E5ECF6\",\"showlakes\":true,\"showland\":true,\"subunitcolor\":\"white\"},\"hoverlabel\":{\"align\":\"left\"},\"hovermode\":\"closest\",\"mapbox\":{\"style\":\"light\"},\"paper_bgcolor\":\"white\",\"plot_bgcolor\":\"#E5ECF6\",\"polar\":{\"angularaxis\":{\"gridcolor\":\"white\",\"linecolor\":\"white\",\"ticks\":\"\"},\"bgcolor\":\"#E5ECF6\",\"radialaxis\":{\"gridcolor\":\"white\",\"linecolor\":\"white\",\"ticks\":\"\"}},\"scene\":{\"xaxis\":{\"backgroundcolor\":\"#E5ECF6\",\"gridcolor\":\"white\",\"gridwidth\":2,\"linecolor\":\"white\",\"showbackground\":true,\"ticks\":\"\",\"zerolinecolor\":\"white\"},\"yaxis\":{\"backgroundcolor\":\"#E5ECF6\",\"gridcolor\":\"white\",\"gridwidth\":2,\"linecolor\":\"white\",\"showbackground\":true,\"ticks\":\"\",\"zerolinecolor\":\"white\"},\"zaxis\":{\"backgroundcolor\":\"#E5ECF6\",\"gridcolor\":\"white\",\"gridwidth\":2,\"linecolor\":\"white\",\"showbackground\":true,\"ticks\":\"\",\"zerolinecolor\":\"white\"}},\"shapedefaults\":{\"line\":{\"color\":\"#2a3f5f\"}},\"ternary\":{\"aaxis\":{\"gridcolor\":\"white\",\"linecolor\":\"white\",\"ticks\":\"\"},\"baxis\":{\"gridcolor\":\"white\",\"linecolor\":\"white\",\"ticks\":\"\"},\"bgcolor\":\"#E5ECF6\",\"caxis\":{\"gridcolor\":\"white\",\"linecolor\":\"white\",\"ticks\":\"\"}},\"title\":{\"x\":0.05},\"xaxis\":{\"automargin\":true,\"gridcolor\":\"white\",\"linecolor\":\"white\",\"ticks\":\"\",\"title\":{\"standoff\":15},\"zerolinecolor\":\"white\",\"zerolinewidth\":2},\"yaxis\":{\"automargin\":true,\"gridcolor\":\"white\",\"linecolor\":\"white\",\"ticks\":\"\",\"title\":{\"standoff\":15},\"zerolinecolor\":\"white\",\"zerolinewidth\":2}}},\"title\":{\"text\":\"after. \\u041a\\u043b\\u0438\\u043a\\u0438 \\u043f\\u043e \\u044d\\u043b\\u0435\\u043c\\u0435\\u043d\\u0442\\u0430\\u043c \\u0448\\u0430\\u043f\\u043a\\u0438\"}},                        {\"responsive\": true}                    ).then(function(){\n",
       "                            \n",
       "var gd = document.getElementById('1651f744-7f3c-4bb8-91be-6a6e157cde0b');\n",
       "var x = new MutationObserver(function (mutations, observer) {{\n",
       "        var display = window.getComputedStyle(gd).display;\n",
       "        if (!display || display === 'none') {{\n",
       "            console.log([gd, 'removed!']);\n",
       "            Plotly.purge(gd);\n",
       "            observer.disconnect();\n",
       "        }}\n",
       "}});\n",
       "\n",
       "// Listen for the removal of the full notebook cells\n",
       "var notebookContainer = gd.closest('#notebook-container');\n",
       "if (notebookContainer) {{\n",
       "    x.observe(notebookContainer, {childList: true});\n",
       "}}\n",
       "\n",
       "// Listen for the clearing of the current output cell\n",
       "var outputEl = gd.closest('.output');\n",
       "if (outputEl) {{\n",
       "    x.observe(outputEl, {childList: true});\n",
       "}}\n",
       "\n",
       "                        })                };                });            </script>        </div>"
      ]
     },
     "metadata": {},
     "output_type": "display_data"
    }
   ],
   "source": [
    "bar_gt_b(bar)\n",
    "bar_gt_a(bar)\n"
   ]
  },
  {
   "cell_type": "code",
   "execution_count": null,
   "id": "35be8479",
   "metadata": {},
   "outputs": [],
   "source": [
    "\n"
   ]
  },
  {
   "cell_type": "code",
   "execution_count": null,
   "id": "65813e2d",
   "metadata": {},
   "outputs": [],
   "source": []
  }
 ],
 "metadata": {
  "kernelspec": {
   "display_name": "Python 3",
   "language": "python",
   "name": "python3"
  },
  "language_info": {
   "codemirror_mode": {
    "name": "ipython",
    "version": 3
   },
   "file_extension": ".py",
   "mimetype": "text/x-python",
   "name": "python",
   "nbconvert_exporter": "python",
   "pygments_lexer": "ipython3",
   "version": "3.8.8"
  }
 },
 "nbformat": 4,
 "nbformat_minor": 5
}
