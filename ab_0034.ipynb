{
 "cells": [
  {
   "cell_type": "code",
   "execution_count": 42,
   "id": "2c01628a",
   "metadata": {},
   "outputs": [
    {
     "data": {
      "text/html": [
       "<script>\n",
       "code_show=true; \n",
       "function code_toggle() {\n",
       " if (code_show){\n",
       " $('div.input').hide();\n",
       " } else {\n",
       " $('div.input').show();\n",
       " }\n",
       " code_show = !code_show\n",
       "} \n",
       "$( document ).ready(code_toggle);\n",
       "</script>\n",
       "<form action=\"javascript:code_toggle()\"><input type=\"submit\" value=\"Click here to toggle on/off the raw code.\"></form>"
      ],
      "text/plain": [
       "<IPython.core.display.HTML object>"
      ]
     },
     "execution_count": 42,
     "metadata": {},
     "output_type": "execute_result"
    }
   ],
   "source": [
    "from IPython.display import HTML\n",
    "\n",
    "HTML('''<script>\n",
    "code_show=true; \n",
    "function code_toggle() {\n",
    " if (code_show){\n",
    " $('div.input').hide();\n",
    " } else {\n",
    " $('div.input').show();\n",
    " }\n",
    " code_show = !code_show\n",
    "} \n",
    "$( document ).ready(code_toggle);\n",
    "</script>\n",
    "<form action=\"javascript:code_toggle()\"><input type=\"submit\" value=\"Click here to toggle on/off the raw code.\"></form>''')\n",
    "\n",
    "\n"
   ]
  },
  {
   "cell_type": "markdown",
   "id": "15ca8c45",
   "metadata": {},
   "source": [
    "# A/B тест баннера в блоке \"Скидки недели\" на главной странице \n",
    "\n",
    "Необходимо провести A/B тестирование новой реализации блока \"Скидки недели\" на главной странице.\n",
    "\n",
    "Ссылка на макет: https://www.figma.com/file/nPUhnmVBRBfVY4JQWNGvcj/Главная-страница?node-id=1397%3A26441\n",
    "\n",
    "КОНТРОЛЬНАЯ группа: Показываем версию главной страницы с двухэтажным блоком скидки недели, но без красного баннера.\n",
    "ТЕСТОВАЯ группа: показываем версию главной страницы с двухэтажным блоком скидки недели и с красным баннером.\n",
    "\n",
    "КУКИ:\n",
    "exp_id=ab_0034\n",
    "exp_var=1 // Контрольная группа\n",
    "exp_var=2 // Тестовая группа\n",
    "\n",
    "В текущей версии сайта в блоке \"Скидки недели\" кнопка для перехода на полный листинг товаров со скидками не слишком заметка пользователем, что приводит к тому, что пользователи не так часто как хотелось бы просматривают остальные товары со скидками, которые в теории могли бы заинтересовать их.\n",
    "В новой версии главной страницы вместо кнопки используется привлекающий к себе внимание красный баннер с призывом перейти в листинг товара со скидками.\n",
    "\n",
    "Гипотеза: Новая реализация кнопки для перехода в виде баннера увеличит CR по переходу в листинг со скидками, увеличит взаимодействие с листингом товаров со скидками, а также благоприятно скажется на прибыли компании.\n",
    "\n",
    "\n",
    "Метрики: \n",
    "- CR в уникальные клики\n",
    "- Распределение кликов по товарам в блоке и кнопке для перехода в листинг в %\n",
    "\n",
    "Вспомогательные метрики: \n",
    "- CR в добавления в корзину\n"
   ]
  },
  {
   "cell_type": "code",
   "execution_count": 43,
   "id": "81a39691",
   "metadata": {},
   "outputs": [],
   "source": [
    "import pandas as pd\n",
    "from google.oauth2 import service_account\n",
    "\n",
    "import numpy as np\n",
    "import matplotlib.pyplot as plt\n",
    "from scipy import stats\n",
    "from scipy.stats import norm\n",
    "from scipy.stats import t\n",
    "from statsmodels.stats.proportion import proportion_confint\n",
    "from statsmodels.stats.weightstats import ztest\n",
    "from statsmodels.stats import weightstats\n",
    "from datetime import datetime\n",
    "import statsmodels.stats.weightstats as ws\n",
    "import math \n",
    "import warnings\n",
    "\n",
    "warnings.filterwarnings('ignore')\n"
   ]
  },
  {
   "cell_type": "code",
   "execution_count": 44,
   "id": "8b986a0c",
   "metadata": {},
   "outputs": [],
   "source": [
    "# Прописываем адрес к файлу с данными по сервисному аккаунту и получаем credentials для доступа к данным\n",
    "credentials = service_account.Credentials.from_service_account_file(\n",
    "    '/Users/lxndrarura/Python Santehnika/key/spry-compound-139714-3c5694cec4ca.json')\n",
    "\n",
    "project_id = 'spry-compound-139714' \n",
    "\n"
   ]
  },
  {
   "cell_type": "code",
   "execution_count": 45,
   "id": "c6e99c0f",
   "metadata": {},
   "outputs": [],
   "source": [
    "# Формируем запрос и получаем количество вопросов с тегом \"pandas\", сгруппированные по дате создания\n",
    "query = '''\n",
    "with\n",
    "ab_1 as(\n",
    "select \n",
    "    ab.date,\n",
    "    t.clientId,\n",
    "    ab.sessionId,\n",
    "    ab.experimentId,\n",
    "    ab.experimentVariant\n",
    "from `spry-compound-139714.Presets.presets_ab` as ab\n",
    "join `spry-compound-139714.Presets.presets_traffic` t on t.sessionId = ab.sessionId \n",
    "where ab.experimentId = 'ab_0034'\n",
    "and ab.experimentVariant in ('1', '2')\n",
    "and ab.date between '2022-01-01' and '2022-01-30'\n",
    "and t.date between '2022-01-01' and '2022-01-30'\n",
    "and ab.sessionId in (select d.sessionId from `spry-compound-139714.Presets.presets_devices` as d where d.deviceCategory = 'desktop' and d.date between '2022-01-01' and '2022-01-30')\n",
    "and ab.sessionId not in (select f.sessionId from `spry-compound-139714.Presets.presets_filters` as f)),\n",
    "\n",
    "-- # дубликаты сессий\n",
    "duplicates as(\n",
    "select \n",
    "    sessionid,\n",
    "    count(sessionId) as s_count\n",
    "from ab_1\n",
    "group by 1\n",
    "having s_count >1),\n",
    "\n",
    "# пользоваьели у которых были дублирующиеся сессии\n",
    "users_for_remove as (\n",
    "select\n",
    "    distinct(ab.clientId)\n",
    "from ab_1 as ab \n",
    "join duplicates d on d.sessionId = ab.sessionId\n",
    "\n",
    "),\n",
    "\n",
    "# сессии без юзеров с дублирующимися сессиями \n",
    "ab as (\n",
    "select ab_1.* from ab_1\n",
    "where ab_1.clientId not in (select clientId from users_for_remove)\n",
    ")\n",
    "\n",
    "select \n",
    "    distinct(i.sessionId),\n",
    "    i.date,\n",
    "    ab.experimentVariant\n",
    "from\n",
    "    `spry-compound-139714.Presets.presets_product_impressions` as i \n",
    "join \n",
    "    ab \n",
    "    on ab.sessionId = i.sessionId\n",
    "where \n",
    "    i.impressionList = 'Week Discounts'\n",
    "    and i.date between '2022-01-01' and '2022-01-30'\n",
    "\n",
    "\n",
    "'''\n",
    "\n",
    "\n",
    "# Выполняем запрос с помощью функции ((https://pandas.pydata.org/pandas-docs/stable/reference/api/pandas.read_gbq.html read_gbq)) в pandas, записывая результат в dataframe\n",
    "\n",
    "views = pd.read_gbq(query, project_id=project_id, credentials=credentials)\n",
    "\n",
    "# display(views.head(10))\n",
    "# print(views.info())\n",
    "\n",
    "\n"
   ]
  },
  {
   "cell_type": "code",
   "execution_count": 46,
   "id": "d68e61fb",
   "metadata": {},
   "outputs": [],
   "source": [
    "# Формируем запрос и получаем количество вопросов с тегом \"pandas\", сгруппированные по дате создания\n",
    "query = '''\n",
    "with\n",
    "ab_1 as(\n",
    "select \n",
    "    ab.date,\n",
    "    t.clientId,\n",
    "    ab.sessionId,\n",
    "    ab.experimentId,\n",
    "    ab.experimentVariant\n",
    "from `spry-compound-139714.Presets.presets_ab` as ab\n",
    "join `spry-compound-139714.Presets.presets_traffic` t on t.sessionId = ab.sessionId \n",
    "where ab.experimentId = 'ab_0034'\n",
    "and ab.experimentVariant in ('1', '2')\n",
    "and ab.date between '2022-01-01' and '2022-01-30'\n",
    "and t.date between '2022-01-01' and '2022-01-30'\n",
    "and ab.sessionId in (select d.sessionId from `spry-compound-139714.Presets.presets_devices` as d where d.deviceCategory = 'desktop' and d.date between '2022-01-01' and '2022-01-30')\n",
    "and ab.sessionId not in (select f.sessionId from `spry-compound-139714.Presets.presets_filters` as f)),\n",
    "\n",
    "-- # дубликаты сессий\n",
    "duplicates as(\n",
    "select \n",
    "    sessionid,\n",
    "    count(sessionId) as s_count\n",
    "from ab_1\n",
    "group by 1\n",
    "having s_count >1),\n",
    "\n",
    "# пользоваьели у которых были дублирующиеся сессии\n",
    "users_for_remove as (\n",
    "select\n",
    "    distinct(ab.clientId)\n",
    "from ab_1 as ab \n",
    "join duplicates d on d.sessionId = ab.sessionId\n",
    "\n",
    "),\n",
    "\n",
    "# сессии без юзеров с дублирующимися сессиями \n",
    "ab as (\n",
    "select ab_1.* from ab_1\n",
    "where ab_1.clientId not in (select clientId from users_for_remove)\n",
    ")\n",
    "\n",
    "select \n",
    "    p.sessionId,\n",
    "    p.hitId,\n",
    "    case \n",
    "        when p.productName = 'Больше товаров' then 'Больше товаров'\n",
    "        when p.productName != 'Больше товаров' then p.position\n",
    "    end position,\n",
    "    p.date,\n",
    "    ab.experimentVariant\n",
    "from \n",
    "    `spry-compound-139714.Presets.presets_product_clicks` as p \n",
    "join \n",
    "    ab \n",
    "    on ab.sessionId = p.sessionId\n",
    "where \n",
    "    p.date between '2022-01-01' and '2022-01-30'\n",
    "    and p.productListName = 'Week Discounts'\n",
    "\n",
    "'''\n",
    "\n",
    "\n",
    "# Выполняем запрос с помощью функции ((https://pandas.pydata.org/pandas-docs/stable/reference/api/pandas.read_gbq.html read_gbq)) в pandas, записывая результат в dataframe\n",
    "\n",
    "clicks = pd.read_gbq(query, project_id=project_id, credentials=credentials)\n",
    "\n",
    "# display(clicks.head(10))\n",
    "# print(clicks.info())\n",
    "\n",
    "\n",
    "\n"
   ]
  },
  {
   "cell_type": "code",
   "execution_count": 47,
   "id": "9b19bee0",
   "metadata": {},
   "outputs": [],
   "source": [
    "# Формируем запрос и получаем количество вопросов с тегом \"pandas\", сгруппированные по дате создания\n",
    "query = '''\n",
    "with\n",
    "ab_1 as(\n",
    "select \n",
    "    ab.date,\n",
    "    t.clientId,\n",
    "    ab.sessionId,\n",
    "    ab.experimentId,\n",
    "    ab.experimentVariant\n",
    "from `spry-compound-139714.Presets.presets_ab` as ab\n",
    "join `spry-compound-139714.Presets.presets_traffic` t on t.sessionId = ab.sessionId \n",
    "where ab.experimentId = 'ab_0034'\n",
    "and ab.experimentVariant in ('1', '2')\n",
    "and ab.date between '2022-01-01' and '2022-01-30'\n",
    "and t.date between '2022-01-01' and '2022-01-30'\n",
    "and ab.sessionId in (select d.sessionId from `spry-compound-139714.Presets.presets_devices` as d where d.deviceCategory = 'desktop' and d.date between '2022-01-01' and '2022-01-30')\n",
    "and ab.sessionId not in (select f.sessionId from `spry-compound-139714.Presets.presets_filters` as f)),\n",
    "\n",
    "-- # дубликаты сессий\n",
    "duplicates as(\n",
    "select \n",
    "    sessionid,\n",
    "    count(sessionId) as s_count\n",
    "from ab_1\n",
    "group by 1\n",
    "having s_count >1),\n",
    "\n",
    "# пользоваьели у которых были дублирующиеся сессии\n",
    "users_for_remove as (\n",
    "select\n",
    "    distinct(ab.clientId)\n",
    "from ab_1 as ab \n",
    "join duplicates d on d.sessionId = ab.sessionId\n",
    "\n",
    "),\n",
    "\n",
    "# сессии без юзеров с дублирующимися сессиями \n",
    "ab as (\n",
    "select ab_1.* from ab_1\n",
    "where ab_1.clientId not in (select clientId from users_for_remove)\n",
    "),\n",
    "\n",
    "clicks as (\n",
    "select \n",
    "    p.sessionId,\n",
    "    p.hitId,\n",
    "    case \n",
    "        when p.productName = 'Больше товаров' then 'Больше товаров'\n",
    "        when p.productName != 'Больше товаров' then p.position\n",
    "    end position,\n",
    "    p.date,\n",
    "    ab.experimentVariant\n",
    "from \n",
    "    `spry-compound-139714.Presets.presets_product_clicks` as p \n",
    "join \n",
    "    ab \n",
    "    on ab.sessionId = p.sessionId\n",
    "where \n",
    "    p.date between '2022-01-01' and '2022-01-30'\n",
    "    and p.productListName = 'Week Discounts'\n",
    "), \n",
    "\n",
    "t1 as (\n",
    "select \n",
    "    h.sessionId,\n",
    "    h.hitId,\n",
    "    h.eventAction,\n",
    "    h.date,\n",
    "    h.timestamp,\n",
    "    case \n",
    "        when h.eventAction = 'main_card_weekDiscounts_click' then 1 \n",
    "        else 0 \n",
    "    end mark,\n",
    "    ab.experimentVariant\n",
    "from \n",
    "    `spry-compound-139714.Presets.presets_hits_new` as h\n",
    "join\n",
    "    ab \n",
    "    on ab.sessionId = h.sessionId\n",
    "where \n",
    "    h.date between '2022-01-01' and '2022-01-30'\n",
    "    and (h.eventAction = 'add' or h.eventAction = 'main_card_weekDiscounts_click')\n",
    "order by \n",
    "    h.sessionId, h.timestamp\n",
    "),\n",
    "\n",
    "t2 as (\n",
    "select \n",
    "    h.sessionId,\n",
    "    h.hitId,\n",
    "    h.eventAction,\n",
    "    h.date,\n",
    "    h.timestamp,\n",
    "    h.mark,\n",
    "    h.experimentVariant,\n",
    "    case \n",
    "        when h.eventAction = 'add' and (max(mark) OVER(partition by h.sessionId ORDER BY h.timestamp ROWS BETWEEN UNBOUNDED PRECEDING AND CURRENT ROW))=1 \n",
    "        then 'yes'\n",
    "        else 'no'\n",
    "    end mark1\n",
    "from \n",
    "    t1 as h \n",
    "where \n",
    "    h.sessionId in (select sessionId from clicks)\n",
    "order by \n",
    "    h.sessionId, h.timestamp\n",
    ")\n",
    "\n",
    "-- добавления в корзину \n",
    "\n",
    "select \n",
    "    h.sessionId,\n",
    "    h.hitId,\n",
    "    h.date,\n",
    "    h.experimentVariant,\n",
    "from t2 as h \n",
    "where \n",
    "    mark1 = 'yes'\n",
    "\n",
    "'''\n",
    "\n",
    "\n",
    "# Выполняем запрос с помощью функции ((https://pandas.pydata.org/pandas-docs/stable/reference/api/pandas.read_gbq.html read_gbq)) в pandas, записывая результат в dataframe\n",
    "\n",
    "carts = pd.read_gbq(query, project_id=project_id, credentials=credentials)\n",
    "\n",
    "# display(carts.head(10))\n",
    "# print(carts.info())\n",
    "\n",
    "\n",
    "\n"
   ]
  },
  {
   "cell_type": "code",
   "execution_count": 48,
   "id": "0448aa38",
   "metadata": {},
   "outputs": [],
   "source": [
    "res = views.groupby('experimentVariant')['sessionId'].nunique().reset_index()\n",
    "res['%GT'] = (res['sessionId']/res['sessionId'].sum())*100\n",
    "\n"
   ]
  },
  {
   "cell_type": "code",
   "execution_count": 49,
   "id": "343e1926",
   "metadata": {},
   "outputs": [],
   "source": [
    "clicks.groupby('experimentVariant')['sessionId'].nunique().reset_index().rename(columns={'sessionId':'Уникальные клики по блоку'})\n",
    "clicks[clicks['position']=='Больше товаров'].groupby('experimentVariant')['sessionId'].nunique().reset_index().rename(columns={'sessionId':'Уникальные клики по больше товаров'})\n",
    "\n",
    "res = res.merge(clicks.groupby('experimentVariant')['sessionId'].nunique().reset_index().rename(columns={'sessionId':'Все уникальные клики'}), on = 'experimentVariant', how='left')\n",
    "res = res.merge(clicks[clicks['position']=='Больше товаров'].groupby('experimentVariant')['sessionId'].nunique().reset_index().rename(columns={'sessionId':'Уникальные клики по больше товаров'}), on = 'experimentVariant', how='left')\n",
    "\n"
   ]
  },
  {
   "cell_type": "code",
   "execution_count": 50,
   "id": "c28a17b7",
   "metadata": {},
   "outputs": [],
   "source": [
    "res['Общий CR в уник. клики, %'] = (res['Все уникальные клики']/res['sessionId'])*100\n",
    "res['CR в уникальные клики по больше товаров, %'] = (res['Уникальные клики по больше товаров']/res['sessionId'])*100\n",
    "\n",
    "\n"
   ]
  },
  {
   "cell_type": "code",
   "execution_count": 51,
   "id": "521909c6",
   "metadata": {},
   "outputs": [],
   "source": [
    "carts.groupby('experimentVariant')['sessionId'].nunique().reset_index().rename(columns={'sessionId':'Добавления в корзину после взаимодействия с блоком'})\n",
    "\n",
    "res = res.merge(carts.groupby('experimentVariant')['sessionId'].nunique().reset_index().rename(columns={'sessionId':'Добавления в корзину после взаимодействия с блоком'}), on ='experimentVariant' , how='left')\n",
    "\n",
    "\n"
   ]
  },
  {
   "cell_type": "code",
   "execution_count": 52,
   "id": "ea11bb61",
   "metadata": {},
   "outputs": [],
   "source": [
    "res['CR в корзину из просмотра блока, %'] = (res['Добавления в корзину после взаимодействия с блоком'] / res['sessionId'])*100\n",
    "\n",
    "\n"
   ]
  },
  {
   "cell_type": "code",
   "execution_count": 53,
   "id": "063d62ce",
   "metadata": {},
   "outputs": [],
   "source": [
    "res['CR в корзину из клика по блоку, %'] = (res['Добавления в корзину после взаимодействия с блоком']/res['Все уникальные клики'])*100\n",
    "\n",
    "\n"
   ]
  },
  {
   "cell_type": "code",
   "execution_count": 54,
   "id": "8b2bf269",
   "metadata": {},
   "outputs": [],
   "source": [
    "# res.round(2)\n",
    "# res\n",
    "\n",
    "# r['diff,%'].apply(lambda x: round(x, 2))\n",
    "\n",
    "\n",
    "for i in res.iloc[:, 1:]:\n",
    "    res[i] = res[i].apply(lambda x: round(x, 2))\n",
    "\n",
    "\n",
    "\n",
    "\n"
   ]
  },
  {
   "cell_type": "code",
   "execution_count": 55,
   "id": "6f47c940",
   "metadata": {},
   "outputs": [],
   "source": [
    "resT = res.T\n",
    "resT.columns = resT.iloc[0]\n",
    "resT = resT.iloc[1:]\n",
    "\n",
    "resT = resT.rename(columns = {\"1\":'control', \"2\":'test'})\n",
    "resT['%diff'] = (100/resT['control'])*resT['test']-100\n",
    "resT.columns.name=None\n",
    "\n",
    "\n",
    "\n"
   ]
  },
  {
   "cell_type": "markdown",
   "id": "5820a6bc",
   "metadata": {},
   "source": [
    "## Сравнение метрик"
   ]
  },
  {
   "cell_type": "code",
   "execution_count": 56,
   "id": "b5587a44",
   "metadata": {},
   "outputs": [
    {
     "data": {
      "application/vnd.plotly.v1+json": {
       "config": {
        "plotlyServerURL": "https://plot.ly"
       },
       "data": [
        {
         "cells": {
          "align": [
           "left",
           "center"
          ],
          "fill": {
           "color": [
            [
             "rgb(229, 238, 255)",
             "rgb(229, 238, 255)",
             "rgb(229, 238, 255)",
             "rgb(229, 238, 255)",
             "#a1bcf7",
             "#a1bcf7",
             "rgb(229, 238, 255)",
             "#a1bcf7",
             "#a1bcf7"
            ],
            [
             "white",
             "white",
             "white",
             "white",
             "#d9d9d9",
             "#d9d9d9",
             "white",
             "#d9d9d9",
             "#d9d9d9"
            ],
            [
             "white",
             "white",
             "white",
             "white",
             "#d9d9d9",
             "#d9d9d9",
             "white",
             "#d9d9d9",
             "#d9d9d9"
            ],
            [
             "white",
             "white",
             "white",
             "white",
             "#f57c73",
             "#d9d9d9",
             "white",
             "#d9d9d9",
             "#fff2cc"
            ]
           ]
          },
          "font": {
           "size": 12
          },
          "height": 30,
          "line": {
           "color": "darkslategray"
          },
          "values": [
           [
            "sessionId",
            "%GT",
            "Все уникальные клики",
            "Уникальные клики по больше товаров",
            "Общий CR в уник. клики, %",
            "CR в уникальные клики по больше товаров, %",
            "Добавления в корзину после взаимодействия с блоком",
            "CR в корзину из просмотра блока, %",
            "CR в корзину из клика по блоку, %"
           ],
           [
            23936,
            50.04,
            692,
            82,
            2.89,
            0.34,
            83,
            0.35,
            11.99
           ],
           [
            23900,
            49.96,
            611,
            73,
            2.56,
            0.31,
            74,
            0.31,
            12.11
           ],
           [
            -0.1504010695187077,
            -0.15987210231813265,
            -11.705202312138724,
            -10.975609756097569,
            -11.41868512110726,
            -8.82352941176471,
            -10.84337349397589,
            -11.42857142857143,
            1.0008340283569623
           ]
          ]
         },
         "columnwidth": [
          200,
          100,
          100,
          100
         ],
         "header": {
          "align": [
           "left",
           "center"
          ],
          "fill": {
           "color": "rgb(103,112,244)"
          },
          "font": {
           "color": "white",
           "size": 12
          },
          "height": 40,
          "line": {
           "color": "darkslategray"
          },
          "values": [
           "",
           "control",
           "test",
           "%diff"
          ]
         },
         "type": "table"
        }
       ],
       "layout": {
        "template": {
         "data": {
          "bar": [
           {
            "error_x": {
             "color": "#2a3f5f"
            },
            "error_y": {
             "color": "#2a3f5f"
            },
            "marker": {
             "line": {
              "color": "#E5ECF6",
              "width": 0.5
             },
             "pattern": {
              "fillmode": "overlay",
              "size": 10,
              "solidity": 0.2
             }
            },
            "type": "bar"
           }
          ],
          "barpolar": [
           {
            "marker": {
             "line": {
              "color": "#E5ECF6",
              "width": 0.5
             },
             "pattern": {
              "fillmode": "overlay",
              "size": 10,
              "solidity": 0.2
             }
            },
            "type": "barpolar"
           }
          ],
          "carpet": [
           {
            "aaxis": {
             "endlinecolor": "#2a3f5f",
             "gridcolor": "white",
             "linecolor": "white",
             "minorgridcolor": "white",
             "startlinecolor": "#2a3f5f"
            },
            "baxis": {
             "endlinecolor": "#2a3f5f",
             "gridcolor": "white",
             "linecolor": "white",
             "minorgridcolor": "white",
             "startlinecolor": "#2a3f5f"
            },
            "type": "carpet"
           }
          ],
          "choropleth": [
           {
            "colorbar": {
             "outlinewidth": 0,
             "ticks": ""
            },
            "type": "choropleth"
           }
          ],
          "contour": [
           {
            "colorbar": {
             "outlinewidth": 0,
             "ticks": ""
            },
            "colorscale": [
             [
              0,
              "#0d0887"
             ],
             [
              0.1111111111111111,
              "#46039f"
             ],
             [
              0.2222222222222222,
              "#7201a8"
             ],
             [
              0.3333333333333333,
              "#9c179e"
             ],
             [
              0.4444444444444444,
              "#bd3786"
             ],
             [
              0.5555555555555556,
              "#d8576b"
             ],
             [
              0.6666666666666666,
              "#ed7953"
             ],
             [
              0.7777777777777778,
              "#fb9f3a"
             ],
             [
              0.8888888888888888,
              "#fdca26"
             ],
             [
              1,
              "#f0f921"
             ]
            ],
            "type": "contour"
           }
          ],
          "contourcarpet": [
           {
            "colorbar": {
             "outlinewidth": 0,
             "ticks": ""
            },
            "type": "contourcarpet"
           }
          ],
          "heatmap": [
           {
            "colorbar": {
             "outlinewidth": 0,
             "ticks": ""
            },
            "colorscale": [
             [
              0,
              "#0d0887"
             ],
             [
              0.1111111111111111,
              "#46039f"
             ],
             [
              0.2222222222222222,
              "#7201a8"
             ],
             [
              0.3333333333333333,
              "#9c179e"
             ],
             [
              0.4444444444444444,
              "#bd3786"
             ],
             [
              0.5555555555555556,
              "#d8576b"
             ],
             [
              0.6666666666666666,
              "#ed7953"
             ],
             [
              0.7777777777777778,
              "#fb9f3a"
             ],
             [
              0.8888888888888888,
              "#fdca26"
             ],
             [
              1,
              "#f0f921"
             ]
            ],
            "type": "heatmap"
           }
          ],
          "heatmapgl": [
           {
            "colorbar": {
             "outlinewidth": 0,
             "ticks": ""
            },
            "colorscale": [
             [
              0,
              "#0d0887"
             ],
             [
              0.1111111111111111,
              "#46039f"
             ],
             [
              0.2222222222222222,
              "#7201a8"
             ],
             [
              0.3333333333333333,
              "#9c179e"
             ],
             [
              0.4444444444444444,
              "#bd3786"
             ],
             [
              0.5555555555555556,
              "#d8576b"
             ],
             [
              0.6666666666666666,
              "#ed7953"
             ],
             [
              0.7777777777777778,
              "#fb9f3a"
             ],
             [
              0.8888888888888888,
              "#fdca26"
             ],
             [
              1,
              "#f0f921"
             ]
            ],
            "type": "heatmapgl"
           }
          ],
          "histogram": [
           {
            "marker": {
             "pattern": {
              "fillmode": "overlay",
              "size": 10,
              "solidity": 0.2
             }
            },
            "type": "histogram"
           }
          ],
          "histogram2d": [
           {
            "colorbar": {
             "outlinewidth": 0,
             "ticks": ""
            },
            "colorscale": [
             [
              0,
              "#0d0887"
             ],
             [
              0.1111111111111111,
              "#46039f"
             ],
             [
              0.2222222222222222,
              "#7201a8"
             ],
             [
              0.3333333333333333,
              "#9c179e"
             ],
             [
              0.4444444444444444,
              "#bd3786"
             ],
             [
              0.5555555555555556,
              "#d8576b"
             ],
             [
              0.6666666666666666,
              "#ed7953"
             ],
             [
              0.7777777777777778,
              "#fb9f3a"
             ],
             [
              0.8888888888888888,
              "#fdca26"
             ],
             [
              1,
              "#f0f921"
             ]
            ],
            "type": "histogram2d"
           }
          ],
          "histogram2dcontour": [
           {
            "colorbar": {
             "outlinewidth": 0,
             "ticks": ""
            },
            "colorscale": [
             [
              0,
              "#0d0887"
             ],
             [
              0.1111111111111111,
              "#46039f"
             ],
             [
              0.2222222222222222,
              "#7201a8"
             ],
             [
              0.3333333333333333,
              "#9c179e"
             ],
             [
              0.4444444444444444,
              "#bd3786"
             ],
             [
              0.5555555555555556,
              "#d8576b"
             ],
             [
              0.6666666666666666,
              "#ed7953"
             ],
             [
              0.7777777777777778,
              "#fb9f3a"
             ],
             [
              0.8888888888888888,
              "#fdca26"
             ],
             [
              1,
              "#f0f921"
             ]
            ],
            "type": "histogram2dcontour"
           }
          ],
          "mesh3d": [
           {
            "colorbar": {
             "outlinewidth": 0,
             "ticks": ""
            },
            "type": "mesh3d"
           }
          ],
          "parcoords": [
           {
            "line": {
             "colorbar": {
              "outlinewidth": 0,
              "ticks": ""
             }
            },
            "type": "parcoords"
           }
          ],
          "pie": [
           {
            "automargin": true,
            "type": "pie"
           }
          ],
          "scatter": [
           {
            "marker": {
             "colorbar": {
              "outlinewidth": 0,
              "ticks": ""
             }
            },
            "type": "scatter"
           }
          ],
          "scatter3d": [
           {
            "line": {
             "colorbar": {
              "outlinewidth": 0,
              "ticks": ""
             }
            },
            "marker": {
             "colorbar": {
              "outlinewidth": 0,
              "ticks": ""
             }
            },
            "type": "scatter3d"
           }
          ],
          "scattercarpet": [
           {
            "marker": {
             "colorbar": {
              "outlinewidth": 0,
              "ticks": ""
             }
            },
            "type": "scattercarpet"
           }
          ],
          "scattergeo": [
           {
            "marker": {
             "colorbar": {
              "outlinewidth": 0,
              "ticks": ""
             }
            },
            "type": "scattergeo"
           }
          ],
          "scattergl": [
           {
            "marker": {
             "colorbar": {
              "outlinewidth": 0,
              "ticks": ""
             }
            },
            "type": "scattergl"
           }
          ],
          "scattermapbox": [
           {
            "marker": {
             "colorbar": {
              "outlinewidth": 0,
              "ticks": ""
             }
            },
            "type": "scattermapbox"
           }
          ],
          "scatterpolar": [
           {
            "marker": {
             "colorbar": {
              "outlinewidth": 0,
              "ticks": ""
             }
            },
            "type": "scatterpolar"
           }
          ],
          "scatterpolargl": [
           {
            "marker": {
             "colorbar": {
              "outlinewidth": 0,
              "ticks": ""
             }
            },
            "type": "scatterpolargl"
           }
          ],
          "scatterternary": [
           {
            "marker": {
             "colorbar": {
              "outlinewidth": 0,
              "ticks": ""
             }
            },
            "type": "scatterternary"
           }
          ],
          "surface": [
           {
            "colorbar": {
             "outlinewidth": 0,
             "ticks": ""
            },
            "colorscale": [
             [
              0,
              "#0d0887"
             ],
             [
              0.1111111111111111,
              "#46039f"
             ],
             [
              0.2222222222222222,
              "#7201a8"
             ],
             [
              0.3333333333333333,
              "#9c179e"
             ],
             [
              0.4444444444444444,
              "#bd3786"
             ],
             [
              0.5555555555555556,
              "#d8576b"
             ],
             [
              0.6666666666666666,
              "#ed7953"
             ],
             [
              0.7777777777777778,
              "#fb9f3a"
             ],
             [
              0.8888888888888888,
              "#fdca26"
             ],
             [
              1,
              "#f0f921"
             ]
            ],
            "type": "surface"
           }
          ],
          "table": [
           {
            "cells": {
             "fill": {
              "color": "#EBF0F8"
             },
             "line": {
              "color": "white"
             }
            },
            "header": {
             "fill": {
              "color": "#C8D4E3"
             },
             "line": {
              "color": "white"
             }
            },
            "type": "table"
           }
          ]
         },
         "layout": {
          "annotationdefaults": {
           "arrowcolor": "#2a3f5f",
           "arrowhead": 0,
           "arrowwidth": 1
          },
          "autotypenumbers": "strict",
          "coloraxis": {
           "colorbar": {
            "outlinewidth": 0,
            "ticks": ""
           }
          },
          "colorscale": {
           "diverging": [
            [
             0,
             "#8e0152"
            ],
            [
             0.1,
             "#c51b7d"
            ],
            [
             0.2,
             "#de77ae"
            ],
            [
             0.3,
             "#f1b6da"
            ],
            [
             0.4,
             "#fde0ef"
            ],
            [
             0.5,
             "#f7f7f7"
            ],
            [
             0.6,
             "#e6f5d0"
            ],
            [
             0.7,
             "#b8e186"
            ],
            [
             0.8,
             "#7fbc41"
            ],
            [
             0.9,
             "#4d9221"
            ],
            [
             1,
             "#276419"
            ]
           ],
           "sequential": [
            [
             0,
             "#0d0887"
            ],
            [
             0.1111111111111111,
             "#46039f"
            ],
            [
             0.2222222222222222,
             "#7201a8"
            ],
            [
             0.3333333333333333,
             "#9c179e"
            ],
            [
             0.4444444444444444,
             "#bd3786"
            ],
            [
             0.5555555555555556,
             "#d8576b"
            ],
            [
             0.6666666666666666,
             "#ed7953"
            ],
            [
             0.7777777777777778,
             "#fb9f3a"
            ],
            [
             0.8888888888888888,
             "#fdca26"
            ],
            [
             1,
             "#f0f921"
            ]
           ],
           "sequentialminus": [
            [
             0,
             "#0d0887"
            ],
            [
             0.1111111111111111,
             "#46039f"
            ],
            [
             0.2222222222222222,
             "#7201a8"
            ],
            [
             0.3333333333333333,
             "#9c179e"
            ],
            [
             0.4444444444444444,
             "#bd3786"
            ],
            [
             0.5555555555555556,
             "#d8576b"
            ],
            [
             0.6666666666666666,
             "#ed7953"
            ],
            [
             0.7777777777777778,
             "#fb9f3a"
            ],
            [
             0.8888888888888888,
             "#fdca26"
            ],
            [
             1,
             "#f0f921"
            ]
           ]
          },
          "colorway": [
           "#636efa",
           "#EF553B",
           "#00cc96",
           "#ab63fa",
           "#FFA15A",
           "#19d3f3",
           "#FF6692",
           "#B6E880",
           "#FF97FF",
           "#FECB52"
          ],
          "font": {
           "color": "#2a3f5f"
          },
          "geo": {
           "bgcolor": "white",
           "lakecolor": "white",
           "landcolor": "#E5ECF6",
           "showlakes": true,
           "showland": true,
           "subunitcolor": "white"
          },
          "hoverlabel": {
           "align": "left"
          },
          "hovermode": "closest",
          "mapbox": {
           "style": "light"
          },
          "paper_bgcolor": "white",
          "plot_bgcolor": "#E5ECF6",
          "polar": {
           "angularaxis": {
            "gridcolor": "white",
            "linecolor": "white",
            "ticks": ""
           },
           "bgcolor": "#E5ECF6",
           "radialaxis": {
            "gridcolor": "white",
            "linecolor": "white",
            "ticks": ""
           }
          },
          "scene": {
           "xaxis": {
            "backgroundcolor": "#E5ECF6",
            "gridcolor": "white",
            "gridwidth": 2,
            "linecolor": "white",
            "showbackground": true,
            "ticks": "",
            "zerolinecolor": "white"
           },
           "yaxis": {
            "backgroundcolor": "#E5ECF6",
            "gridcolor": "white",
            "gridwidth": 2,
            "linecolor": "white",
            "showbackground": true,
            "ticks": "",
            "zerolinecolor": "white"
           },
           "zaxis": {
            "backgroundcolor": "#E5ECF6",
            "gridcolor": "white",
            "gridwidth": 2,
            "linecolor": "white",
            "showbackground": true,
            "ticks": "",
            "zerolinecolor": "white"
           }
          },
          "shapedefaults": {
           "line": {
            "color": "#2a3f5f"
           }
          },
          "ternary": {
           "aaxis": {
            "gridcolor": "white",
            "linecolor": "white",
            "ticks": ""
           },
           "baxis": {
            "gridcolor": "white",
            "linecolor": "white",
            "ticks": ""
           },
           "bgcolor": "#E5ECF6",
           "caxis": {
            "gridcolor": "white",
            "linecolor": "white",
            "ticks": ""
           }
          },
          "title": {
           "x": 0.05
          },
          "xaxis": {
           "automargin": true,
           "gridcolor": "white",
           "linecolor": "white",
           "ticks": "",
           "title": {
            "standoff": 15
           },
           "zerolinecolor": "white",
           "zerolinewidth": 2
          },
          "yaxis": {
           "automargin": true,
           "gridcolor": "white",
           "linecolor": "white",
           "ticks": "",
           "title": {
            "standoff": 15
           },
           "zerolinecolor": "white",
           "zerolinewidth": 2
          }
         }
        }
       }
      },
      "text/html": [
       "<div>                            <div id=\"0e6d3961-a9f2-439b-a0ee-c2559a759144\" class=\"plotly-graph-div\" style=\"height:525px; width:100%;\"></div>            <script type=\"text/javascript\">                require([\"plotly\"], function(Plotly) {                    window.PLOTLYENV=window.PLOTLYENV || {};                                    if (document.getElementById(\"0e6d3961-a9f2-439b-a0ee-c2559a759144\")) {                    Plotly.newPlot(                        \"0e6d3961-a9f2-439b-a0ee-c2559a759144\",                        [{\"cells\":{\"align\":[\"left\",\"center\"],\"fill\":{\"color\":[[\"rgb(229, 238, 255)\",\"rgb(229, 238, 255)\",\"rgb(229, 238, 255)\",\"rgb(229, 238, 255)\",\"#a1bcf7\",\"#a1bcf7\",\"rgb(229, 238, 255)\",\"#a1bcf7\",\"#a1bcf7\"],[\"white\",\"white\",\"white\",\"white\",\"#d9d9d9\",\"#d9d9d9\",\"white\",\"#d9d9d9\",\"#d9d9d9\"],[\"white\",\"white\",\"white\",\"white\",\"#d9d9d9\",\"#d9d9d9\",\"white\",\"#d9d9d9\",\"#d9d9d9\"],[\"white\",\"white\",\"white\",\"white\",\"#f57c73\",\"#d9d9d9\",\"white\",\"#d9d9d9\",\"#fff2cc\"]]},\"font\":{\"size\":12},\"height\":30,\"line\":{\"color\":\"darkslategray\"},\"values\":[[\"sessionId\",\"%GT\",\"\\u0412\\u0441\\u0435 \\u0443\\u043d\\u0438\\u043a\\u0430\\u043b\\u044c\\u043d\\u044b\\u0435 \\u043a\\u043b\\u0438\\u043a\\u0438\",\"\\u0423\\u043d\\u0438\\u043a\\u0430\\u043b\\u044c\\u043d\\u044b\\u0435 \\u043a\\u043b\\u0438\\u043a\\u0438 \\u043f\\u043e \\u0431\\u043e\\u043b\\u044c\\u0448\\u0435 \\u0442\\u043e\\u0432\\u0430\\u0440\\u043e\\u0432\",\"\\u041e\\u0431\\u0449\\u0438\\u0439 CR \\u0432 \\u0443\\u043d\\u0438\\u043a. \\u043a\\u043b\\u0438\\u043a\\u0438, %\",\"CR \\u0432 \\u0443\\u043d\\u0438\\u043a\\u0430\\u043b\\u044c\\u043d\\u044b\\u0435 \\u043a\\u043b\\u0438\\u043a\\u0438 \\u043f\\u043e \\u0431\\u043e\\u043b\\u044c\\u0448\\u0435 \\u0442\\u043e\\u0432\\u0430\\u0440\\u043e\\u0432, %\",\"\\u0414\\u043e\\u0431\\u0430\\u0432\\u043b\\u0435\\u043d\\u0438\\u044f \\u0432 \\u043a\\u043e\\u0440\\u0437\\u0438\\u043d\\u0443 \\u043f\\u043e\\u0441\\u043b\\u0435 \\u0432\\u0437\\u0430\\u0438\\u043c\\u043e\\u0434\\u0435\\u0439\\u0441\\u0442\\u0432\\u0438\\u044f \\u0441 \\u0431\\u043b\\u043e\\u043a\\u043e\\u043c\",\"CR \\u0432 \\u043a\\u043e\\u0440\\u0437\\u0438\\u043d\\u0443 \\u0438\\u0437 \\u043f\\u0440\\u043e\\u0441\\u043c\\u043e\\u0442\\u0440\\u0430 \\u0431\\u043b\\u043e\\u043a\\u0430, %\",\"CR \\u0432 \\u043a\\u043e\\u0440\\u0437\\u0438\\u043d\\u0443 \\u0438\\u0437 \\u043a\\u043b\\u0438\\u043a\\u0430 \\u043f\\u043e \\u0431\\u043b\\u043e\\u043a\\u0443, %\"],[23936,50.04,692,82,2.89,0.34,83,0.35,11.99],[23900,49.96,611,73,2.56,0.31,74,0.31,12.11],[-0.1504010695187077,-0.15987210231813265,-11.705202312138724,-10.975609756097569,-11.41868512110726,-8.82352941176471,-10.84337349397589,-11.42857142857143,1.0008340283569623]]},\"columnwidth\":[200,100,100,100],\"header\":{\"align\":[\"left\",\"center\"],\"fill\":{\"color\":\"rgb(103,112,244)\"},\"font\":{\"color\":\"white\",\"size\":12},\"height\":40,\"line\":{\"color\":\"darkslategray\"},\"values\":[\"\",\"control\",\"test\",\"%diff\"]},\"type\":\"table\"}],                        {\"template\":{\"data\":{\"bar\":[{\"error_x\":{\"color\":\"#2a3f5f\"},\"error_y\":{\"color\":\"#2a3f5f\"},\"marker\":{\"line\":{\"color\":\"#E5ECF6\",\"width\":0.5},\"pattern\":{\"fillmode\":\"overlay\",\"size\":10,\"solidity\":0.2}},\"type\":\"bar\"}],\"barpolar\":[{\"marker\":{\"line\":{\"color\":\"#E5ECF6\",\"width\":0.5},\"pattern\":{\"fillmode\":\"overlay\",\"size\":10,\"solidity\":0.2}},\"type\":\"barpolar\"}],\"carpet\":[{\"aaxis\":{\"endlinecolor\":\"#2a3f5f\",\"gridcolor\":\"white\",\"linecolor\":\"white\",\"minorgridcolor\":\"white\",\"startlinecolor\":\"#2a3f5f\"},\"baxis\":{\"endlinecolor\":\"#2a3f5f\",\"gridcolor\":\"white\",\"linecolor\":\"white\",\"minorgridcolor\":\"white\",\"startlinecolor\":\"#2a3f5f\"},\"type\":\"carpet\"}],\"choropleth\":[{\"colorbar\":{\"outlinewidth\":0,\"ticks\":\"\"},\"type\":\"choropleth\"}],\"contour\":[{\"colorbar\":{\"outlinewidth\":0,\"ticks\":\"\"},\"colorscale\":[[0.0,\"#0d0887\"],[0.1111111111111111,\"#46039f\"],[0.2222222222222222,\"#7201a8\"],[0.3333333333333333,\"#9c179e\"],[0.4444444444444444,\"#bd3786\"],[0.5555555555555556,\"#d8576b\"],[0.6666666666666666,\"#ed7953\"],[0.7777777777777778,\"#fb9f3a\"],[0.8888888888888888,\"#fdca26\"],[1.0,\"#f0f921\"]],\"type\":\"contour\"}],\"contourcarpet\":[{\"colorbar\":{\"outlinewidth\":0,\"ticks\":\"\"},\"type\":\"contourcarpet\"}],\"heatmap\":[{\"colorbar\":{\"outlinewidth\":0,\"ticks\":\"\"},\"colorscale\":[[0.0,\"#0d0887\"],[0.1111111111111111,\"#46039f\"],[0.2222222222222222,\"#7201a8\"],[0.3333333333333333,\"#9c179e\"],[0.4444444444444444,\"#bd3786\"],[0.5555555555555556,\"#d8576b\"],[0.6666666666666666,\"#ed7953\"],[0.7777777777777778,\"#fb9f3a\"],[0.8888888888888888,\"#fdca26\"],[1.0,\"#f0f921\"]],\"type\":\"heatmap\"}],\"heatmapgl\":[{\"colorbar\":{\"outlinewidth\":0,\"ticks\":\"\"},\"colorscale\":[[0.0,\"#0d0887\"],[0.1111111111111111,\"#46039f\"],[0.2222222222222222,\"#7201a8\"],[0.3333333333333333,\"#9c179e\"],[0.4444444444444444,\"#bd3786\"],[0.5555555555555556,\"#d8576b\"],[0.6666666666666666,\"#ed7953\"],[0.7777777777777778,\"#fb9f3a\"],[0.8888888888888888,\"#fdca26\"],[1.0,\"#f0f921\"]],\"type\":\"heatmapgl\"}],\"histogram\":[{\"marker\":{\"pattern\":{\"fillmode\":\"overlay\",\"size\":10,\"solidity\":0.2}},\"type\":\"histogram\"}],\"histogram2d\":[{\"colorbar\":{\"outlinewidth\":0,\"ticks\":\"\"},\"colorscale\":[[0.0,\"#0d0887\"],[0.1111111111111111,\"#46039f\"],[0.2222222222222222,\"#7201a8\"],[0.3333333333333333,\"#9c179e\"],[0.4444444444444444,\"#bd3786\"],[0.5555555555555556,\"#d8576b\"],[0.6666666666666666,\"#ed7953\"],[0.7777777777777778,\"#fb9f3a\"],[0.8888888888888888,\"#fdca26\"],[1.0,\"#f0f921\"]],\"type\":\"histogram2d\"}],\"histogram2dcontour\":[{\"colorbar\":{\"outlinewidth\":0,\"ticks\":\"\"},\"colorscale\":[[0.0,\"#0d0887\"],[0.1111111111111111,\"#46039f\"],[0.2222222222222222,\"#7201a8\"],[0.3333333333333333,\"#9c179e\"],[0.4444444444444444,\"#bd3786\"],[0.5555555555555556,\"#d8576b\"],[0.6666666666666666,\"#ed7953\"],[0.7777777777777778,\"#fb9f3a\"],[0.8888888888888888,\"#fdca26\"],[1.0,\"#f0f921\"]],\"type\":\"histogram2dcontour\"}],\"mesh3d\":[{\"colorbar\":{\"outlinewidth\":0,\"ticks\":\"\"},\"type\":\"mesh3d\"}],\"parcoords\":[{\"line\":{\"colorbar\":{\"outlinewidth\":0,\"ticks\":\"\"}},\"type\":\"parcoords\"}],\"pie\":[{\"automargin\":true,\"type\":\"pie\"}],\"scatter\":[{\"marker\":{\"colorbar\":{\"outlinewidth\":0,\"ticks\":\"\"}},\"type\":\"scatter\"}],\"scatter3d\":[{\"line\":{\"colorbar\":{\"outlinewidth\":0,\"ticks\":\"\"}},\"marker\":{\"colorbar\":{\"outlinewidth\":0,\"ticks\":\"\"}},\"type\":\"scatter3d\"}],\"scattercarpet\":[{\"marker\":{\"colorbar\":{\"outlinewidth\":0,\"ticks\":\"\"}},\"type\":\"scattercarpet\"}],\"scattergeo\":[{\"marker\":{\"colorbar\":{\"outlinewidth\":0,\"ticks\":\"\"}},\"type\":\"scattergeo\"}],\"scattergl\":[{\"marker\":{\"colorbar\":{\"outlinewidth\":0,\"ticks\":\"\"}},\"type\":\"scattergl\"}],\"scattermapbox\":[{\"marker\":{\"colorbar\":{\"outlinewidth\":0,\"ticks\":\"\"}},\"type\":\"scattermapbox\"}],\"scatterpolar\":[{\"marker\":{\"colorbar\":{\"outlinewidth\":0,\"ticks\":\"\"}},\"type\":\"scatterpolar\"}],\"scatterpolargl\":[{\"marker\":{\"colorbar\":{\"outlinewidth\":0,\"ticks\":\"\"}},\"type\":\"scatterpolargl\"}],\"scatterternary\":[{\"marker\":{\"colorbar\":{\"outlinewidth\":0,\"ticks\":\"\"}},\"type\":\"scatterternary\"}],\"surface\":[{\"colorbar\":{\"outlinewidth\":0,\"ticks\":\"\"},\"colorscale\":[[0.0,\"#0d0887\"],[0.1111111111111111,\"#46039f\"],[0.2222222222222222,\"#7201a8\"],[0.3333333333333333,\"#9c179e\"],[0.4444444444444444,\"#bd3786\"],[0.5555555555555556,\"#d8576b\"],[0.6666666666666666,\"#ed7953\"],[0.7777777777777778,\"#fb9f3a\"],[0.8888888888888888,\"#fdca26\"],[1.0,\"#f0f921\"]],\"type\":\"surface\"}],\"table\":[{\"cells\":{\"fill\":{\"color\":\"#EBF0F8\"},\"line\":{\"color\":\"white\"}},\"header\":{\"fill\":{\"color\":\"#C8D4E3\"},\"line\":{\"color\":\"white\"}},\"type\":\"table\"}]},\"layout\":{\"annotationdefaults\":{\"arrowcolor\":\"#2a3f5f\",\"arrowhead\":0,\"arrowwidth\":1},\"autotypenumbers\":\"strict\",\"coloraxis\":{\"colorbar\":{\"outlinewidth\":0,\"ticks\":\"\"}},\"colorscale\":{\"diverging\":[[0,\"#8e0152\"],[0.1,\"#c51b7d\"],[0.2,\"#de77ae\"],[0.3,\"#f1b6da\"],[0.4,\"#fde0ef\"],[0.5,\"#f7f7f7\"],[0.6,\"#e6f5d0\"],[0.7,\"#b8e186\"],[0.8,\"#7fbc41\"],[0.9,\"#4d9221\"],[1,\"#276419\"]],\"sequential\":[[0.0,\"#0d0887\"],[0.1111111111111111,\"#46039f\"],[0.2222222222222222,\"#7201a8\"],[0.3333333333333333,\"#9c179e\"],[0.4444444444444444,\"#bd3786\"],[0.5555555555555556,\"#d8576b\"],[0.6666666666666666,\"#ed7953\"],[0.7777777777777778,\"#fb9f3a\"],[0.8888888888888888,\"#fdca26\"],[1.0,\"#f0f921\"]],\"sequentialminus\":[[0.0,\"#0d0887\"],[0.1111111111111111,\"#46039f\"],[0.2222222222222222,\"#7201a8\"],[0.3333333333333333,\"#9c179e\"],[0.4444444444444444,\"#bd3786\"],[0.5555555555555556,\"#d8576b\"],[0.6666666666666666,\"#ed7953\"],[0.7777777777777778,\"#fb9f3a\"],[0.8888888888888888,\"#fdca26\"],[1.0,\"#f0f921\"]]},\"colorway\":[\"#636efa\",\"#EF553B\",\"#00cc96\",\"#ab63fa\",\"#FFA15A\",\"#19d3f3\",\"#FF6692\",\"#B6E880\",\"#FF97FF\",\"#FECB52\"],\"font\":{\"color\":\"#2a3f5f\"},\"geo\":{\"bgcolor\":\"white\",\"lakecolor\":\"white\",\"landcolor\":\"#E5ECF6\",\"showlakes\":true,\"showland\":true,\"subunitcolor\":\"white\"},\"hoverlabel\":{\"align\":\"left\"},\"hovermode\":\"closest\",\"mapbox\":{\"style\":\"light\"},\"paper_bgcolor\":\"white\",\"plot_bgcolor\":\"#E5ECF6\",\"polar\":{\"angularaxis\":{\"gridcolor\":\"white\",\"linecolor\":\"white\",\"ticks\":\"\"},\"bgcolor\":\"#E5ECF6\",\"radialaxis\":{\"gridcolor\":\"white\",\"linecolor\":\"white\",\"ticks\":\"\"}},\"scene\":{\"xaxis\":{\"backgroundcolor\":\"#E5ECF6\",\"gridcolor\":\"white\",\"gridwidth\":2,\"linecolor\":\"white\",\"showbackground\":true,\"ticks\":\"\",\"zerolinecolor\":\"white\"},\"yaxis\":{\"backgroundcolor\":\"#E5ECF6\",\"gridcolor\":\"white\",\"gridwidth\":2,\"linecolor\":\"white\",\"showbackground\":true,\"ticks\":\"\",\"zerolinecolor\":\"white\"},\"zaxis\":{\"backgroundcolor\":\"#E5ECF6\",\"gridcolor\":\"white\",\"gridwidth\":2,\"linecolor\":\"white\",\"showbackground\":true,\"ticks\":\"\",\"zerolinecolor\":\"white\"}},\"shapedefaults\":{\"line\":{\"color\":\"#2a3f5f\"}},\"ternary\":{\"aaxis\":{\"gridcolor\":\"white\",\"linecolor\":\"white\",\"ticks\":\"\"},\"baxis\":{\"gridcolor\":\"white\",\"linecolor\":\"white\",\"ticks\":\"\"},\"bgcolor\":\"#E5ECF6\",\"caxis\":{\"gridcolor\":\"white\",\"linecolor\":\"white\",\"ticks\":\"\"}},\"title\":{\"x\":0.05},\"xaxis\":{\"automargin\":true,\"gridcolor\":\"white\",\"linecolor\":\"white\",\"ticks\":\"\",\"title\":{\"standoff\":15},\"zerolinecolor\":\"white\",\"zerolinewidth\":2},\"yaxis\":{\"automargin\":true,\"gridcolor\":\"white\",\"linecolor\":\"white\",\"ticks\":\"\",\"title\":{\"standoff\":15},\"zerolinecolor\":\"white\",\"zerolinewidth\":2}}}},                        {\"responsive\": true}                    ).then(function(){\n",
       "                            \n",
       "var gd = document.getElementById('0e6d3961-a9f2-439b-a0ee-c2559a759144');\n",
       "var x = new MutationObserver(function (mutations, observer) {{\n",
       "        var display = window.getComputedStyle(gd).display;\n",
       "        if (!display || display === 'none') {{\n",
       "            console.log([gd, 'removed!']);\n",
       "            Plotly.purge(gd);\n",
       "            observer.disconnect();\n",
       "        }}\n",
       "}});\n",
       "\n",
       "// Listen for the removal of the full notebook cells\n",
       "var notebookContainer = gd.closest('#notebook-container');\n",
       "if (notebookContainer) {{\n",
       "    x.observe(notebookContainer, {childList: true});\n",
       "}}\n",
       "\n",
       "// Listen for the clearing of the current output cell\n",
       "var outputEl = gd.closest('.output');\n",
       "if (outputEl) {{\n",
       "    x.observe(outputEl, {childList: true});\n",
       "}}\n",
       "\n",
       "                        })                };                });            </script>        </div>"
      ]
     },
     "metadata": {},
     "output_type": "display_data"
    }
   ],
   "source": [
    "import plotly.graph_objects as go\n",
    "metricks = resT\n",
    "metricks = metricks.round(decimals=2)\n",
    "\n",
    "fig = go.Figure(data=[go.Table(\n",
    " # columnorder = [1,4],\n",
    "  columnwidth = [200,100,100,100],\n",
    "  header = dict(\n",
    "    values = ['','control', 'test', '%diff'],\n",
    "    line_color='darkslategray',\n",
    "    fill_color='rgb(103,112,244)',\n",
    "    align=['left','center'],\n",
    "    font=dict(color='white', size=12),\n",
    "    height=40\n",
    "  ),\n",
    "  cells=dict(\n",
    "    values=[metricks.index, metricks['control'], metricks['test'], metricks['%diff']],\n",
    "    line_color='darkslategray',\n",
    "    fill=dict(color=[\n",
    "        ['rgb(229, 238, 255)', 'rgb(229, 238, 255)', 'rgb(229, 238, 255)', 'rgb(229, 238, 255)', '#a1bcf7', '#a1bcf7', 'rgb(229, 238, 255)','#a1bcf7','#a1bcf7'],\n",
    "        ['white','white','white', 'white','#d9d9d9','#d9d9d9', 'white', '#d9d9d9','#d9d9d9'],\n",
    "        ['white','white','white', 'white','#d9d9d9','#d9d9d9', 'white', '#d9d9d9','#d9d9d9'],\n",
    "        ['white','white','white', 'white','#f57c73','#d9d9d9', 'white', '#d9d9d9','#fff2cc']]),\n",
    "    # font=dict(color=['rgb(25, 25, 112)', ['rgb(25, 25, 112)', 'rgb(25, 25, 112)', 'rgb(25, 25, 112)', 'rgb(128, 128, 128)', 'rgb(25, 25, 112)'], ['rgb(25, 25, 112)', 'rgb(25, 25, 112)', 'rgb(25, 25, 112)', 'rgb(128, 128, 128)', 'rgb(25, 25, 112)'], ['rgb(25, 25, 112)', 'rgb(25, 25, 112)', 'rgb(25, 25, 112)', 'rgb(128, 128, 128)','rgb(25, 25, 112)']]),\n",
    "    align=['left', 'center'],\n",
    "    font_size=12,\n",
    "    height=30)\n",
    "    )\n",
    "])\n",
    "fig.show()\n",
    "\n",
    "\n",
    "\n",
    "\n"
   ]
  },
  {
   "cell_type": "code",
   "execution_count": 57,
   "id": "e6572aa0",
   "metadata": {},
   "outputs": [],
   "source": [
    "clicks.groupby(['experimentVariant', 'position'])['sessionId'].nunique().reset_index().sort_values(by=['experimentVariant', 'position'], ascending=True)\n",
    "\n",
    "# clicks[clicks['position']!='Больше товаров']['position'] = clicks[clicks['position']!='Больше товаров']['position'].apply(lambda x: int(x))\n",
    "\n",
    "cl = clicks[clicks['position']!='Больше товаров']\n",
    "cl['position'] = cl['position'].apply(lambda x: int(x))\n",
    "\n",
    "cl = cl.groupby(['experimentVariant', 'position'])['sessionId'].nunique().reset_index().sort_values(by=['experimentVariant', 'position'], ascending=True)\n",
    "cl1 = clicks[clicks['position']=='Больше товаров']\n",
    "cl1['position'] = 19\n",
    "cl1 = cl1.groupby(['experimentVariant', 'position'])['sessionId'].nunique().reset_index().sort_values(by=['experimentVariant', 'position'], ascending=True)\n",
    "\n",
    "cl = pd.concat([cl, cl1], ignore_index=True)\n",
    "\n",
    "cl = cl.rename(columns = {'sessionId': 'Уникальные клики'})\n",
    "cl = cl.sort_values(by=['experimentVariant', 'position'], ascending=True)\n",
    "\n"
   ]
  },
  {
   "cell_type": "code",
   "execution_count": 58,
   "id": "d10bcc2b",
   "metadata": {},
   "outputs": [],
   "source": [
    "vs = views.groupby('experimentVariant')['sessionId'].nunique().reset_index()\n",
    "cl['views'] = cl['experimentVariant'].apply(lambda x: int(vs[vs['experimentVariant']=='1']['sessionId']) if x=='1' else int(vs[vs['experimentVariant']=='2']['sessionId']))\n",
    "\n",
    "\n",
    "\n"
   ]
  },
  {
   "cell_type": "code",
   "execution_count": 59,
   "id": "b1de96f0",
   "metadata": {},
   "outputs": [],
   "source": [
    "cl['CR,%'] = (cl['Уникальные клики']/cl['views'])*100\n",
    "\n"
   ]
  },
  {
   "cell_type": "markdown",
   "id": "f6c459c2",
   "metadata": {},
   "source": [
    "## Сравнение CR в клики по позициям в блоке скидки недели \n",
    "\n",
    "Позиция 19 - это кнопка \"Больше товаров\"\n"
   ]
  },
  {
   "cell_type": "code",
   "execution_count": 60,
   "id": "675603b0",
   "metadata": {},
   "outputs": [
    {
     "data": {
      "application/vnd.plotly.v1+json": {
       "config": {
        "plotlyServerURL": "https://plot.ly"
       },
       "data": [
        {
         "name": "CR,% control",
         "text": [
          "0.4679144385026738",
          "0.3300467914438503",
          "0.3049799465240642",
          "0.34258021390374327",
          "0.21724598930481284",
          "0.16293449197860962",
          "0.2882687165775401",
          "0.2005347593582888",
          "0.16293449197860962",
          "0.2130681818181818",
          "0.02924465240641711",
          "0.01671122994652406",
          "0.02924465240641711",
          "0.01253342245989305",
          "0.00835561497326203",
          "0.02924465240641711",
          "0.01671122994652406",
          "0.004177807486631015",
          "0.34258021390374327"
         ],
         "textposition": "outside",
         "type": "bar",
         "x": [
          1,
          2,
          3,
          4,
          5,
          6,
          7,
          8,
          9,
          10,
          11,
          12,
          13,
          14,
          15,
          16,
          17,
          18,
          19
         ],
         "y": [
          0.4679144385026738,
          0.3300467914438503,
          0.3049799465240642,
          0.34258021390374327,
          0.21724598930481284,
          0.16293449197860962,
          0.2882687165775401,
          0.2005347593582888,
          0.16293449197860962,
          0.2130681818181818,
          0.02924465240641711,
          0.01671122994652406,
          0.02924465240641711,
          0.01253342245989305,
          0.00835561497326203,
          0.02924465240641711,
          0.01671122994652406,
          0.004177807486631015,
          0.34258021390374327
         ]
        },
        {
         "name": "CR,% test",
         "text": [
          "0.5355648535564854",
          "0.3891213389121339",
          "0.19246861924686193",
          "0.22594142259414227",
          "0.2677824267782427",
          "0.17154811715481172",
          "0.2677824267782427",
          "0.16736401673640167",
          "0.12133891213389121",
          "0.012552301255230127",
          "0.008368200836820085",
          "0.008368200836820085",
          "0.029288702928870296",
          "0.01673640167364017",
          "0.008368200836820085",
          "0.004184100418410042",
          "0.305439330543933"
         ],
         "textposition": "outside",
         "type": "bar",
         "x": [
          1,
          2,
          3,
          4,
          5,
          6,
          7,
          8,
          9,
          10,
          12,
          13,
          15,
          16,
          17,
          18,
          19
         ],
         "y": [
          0.5355648535564854,
          0.3891213389121339,
          0.19246861924686193,
          0.22594142259414227,
          0.2677824267782427,
          0.17154811715481172,
          0.2677824267782427,
          0.16736401673640167,
          0.12133891213389121,
          0.012552301255230127,
          0.008368200836820085,
          0.008368200836820085,
          0.029288702928870296,
          0.01673640167364017,
          0.008368200836820085,
          0.004184100418410042,
          0.305439330543933
         ]
        }
       ],
       "layout": {
        "paper_bgcolor": "rgba(0,0,0,0)",
        "plot_bgcolor": "rgba(0,0,0,0)",
        "template": {
         "data": {
          "bar": [
           {
            "error_x": {
             "color": "#2a3f5f"
            },
            "error_y": {
             "color": "#2a3f5f"
            },
            "marker": {
             "line": {
              "color": "#E5ECF6",
              "width": 0.5
             },
             "pattern": {
              "fillmode": "overlay",
              "size": 10,
              "solidity": 0.2
             }
            },
            "type": "bar"
           }
          ],
          "barpolar": [
           {
            "marker": {
             "line": {
              "color": "#E5ECF6",
              "width": 0.5
             },
             "pattern": {
              "fillmode": "overlay",
              "size": 10,
              "solidity": 0.2
             }
            },
            "type": "barpolar"
           }
          ],
          "carpet": [
           {
            "aaxis": {
             "endlinecolor": "#2a3f5f",
             "gridcolor": "white",
             "linecolor": "white",
             "minorgridcolor": "white",
             "startlinecolor": "#2a3f5f"
            },
            "baxis": {
             "endlinecolor": "#2a3f5f",
             "gridcolor": "white",
             "linecolor": "white",
             "minorgridcolor": "white",
             "startlinecolor": "#2a3f5f"
            },
            "type": "carpet"
           }
          ],
          "choropleth": [
           {
            "colorbar": {
             "outlinewidth": 0,
             "ticks": ""
            },
            "type": "choropleth"
           }
          ],
          "contour": [
           {
            "colorbar": {
             "outlinewidth": 0,
             "ticks": ""
            },
            "colorscale": [
             [
              0,
              "#0d0887"
             ],
             [
              0.1111111111111111,
              "#46039f"
             ],
             [
              0.2222222222222222,
              "#7201a8"
             ],
             [
              0.3333333333333333,
              "#9c179e"
             ],
             [
              0.4444444444444444,
              "#bd3786"
             ],
             [
              0.5555555555555556,
              "#d8576b"
             ],
             [
              0.6666666666666666,
              "#ed7953"
             ],
             [
              0.7777777777777778,
              "#fb9f3a"
             ],
             [
              0.8888888888888888,
              "#fdca26"
             ],
             [
              1,
              "#f0f921"
             ]
            ],
            "type": "contour"
           }
          ],
          "contourcarpet": [
           {
            "colorbar": {
             "outlinewidth": 0,
             "ticks": ""
            },
            "type": "contourcarpet"
           }
          ],
          "heatmap": [
           {
            "colorbar": {
             "outlinewidth": 0,
             "ticks": ""
            },
            "colorscale": [
             [
              0,
              "#0d0887"
             ],
             [
              0.1111111111111111,
              "#46039f"
             ],
             [
              0.2222222222222222,
              "#7201a8"
             ],
             [
              0.3333333333333333,
              "#9c179e"
             ],
             [
              0.4444444444444444,
              "#bd3786"
             ],
             [
              0.5555555555555556,
              "#d8576b"
             ],
             [
              0.6666666666666666,
              "#ed7953"
             ],
             [
              0.7777777777777778,
              "#fb9f3a"
             ],
             [
              0.8888888888888888,
              "#fdca26"
             ],
             [
              1,
              "#f0f921"
             ]
            ],
            "type": "heatmap"
           }
          ],
          "heatmapgl": [
           {
            "colorbar": {
             "outlinewidth": 0,
             "ticks": ""
            },
            "colorscale": [
             [
              0,
              "#0d0887"
             ],
             [
              0.1111111111111111,
              "#46039f"
             ],
             [
              0.2222222222222222,
              "#7201a8"
             ],
             [
              0.3333333333333333,
              "#9c179e"
             ],
             [
              0.4444444444444444,
              "#bd3786"
             ],
             [
              0.5555555555555556,
              "#d8576b"
             ],
             [
              0.6666666666666666,
              "#ed7953"
             ],
             [
              0.7777777777777778,
              "#fb9f3a"
             ],
             [
              0.8888888888888888,
              "#fdca26"
             ],
             [
              1,
              "#f0f921"
             ]
            ],
            "type": "heatmapgl"
           }
          ],
          "histogram": [
           {
            "marker": {
             "pattern": {
              "fillmode": "overlay",
              "size": 10,
              "solidity": 0.2
             }
            },
            "type": "histogram"
           }
          ],
          "histogram2d": [
           {
            "colorbar": {
             "outlinewidth": 0,
             "ticks": ""
            },
            "colorscale": [
             [
              0,
              "#0d0887"
             ],
             [
              0.1111111111111111,
              "#46039f"
             ],
             [
              0.2222222222222222,
              "#7201a8"
             ],
             [
              0.3333333333333333,
              "#9c179e"
             ],
             [
              0.4444444444444444,
              "#bd3786"
             ],
             [
              0.5555555555555556,
              "#d8576b"
             ],
             [
              0.6666666666666666,
              "#ed7953"
             ],
             [
              0.7777777777777778,
              "#fb9f3a"
             ],
             [
              0.8888888888888888,
              "#fdca26"
             ],
             [
              1,
              "#f0f921"
             ]
            ],
            "type": "histogram2d"
           }
          ],
          "histogram2dcontour": [
           {
            "colorbar": {
             "outlinewidth": 0,
             "ticks": ""
            },
            "colorscale": [
             [
              0,
              "#0d0887"
             ],
             [
              0.1111111111111111,
              "#46039f"
             ],
             [
              0.2222222222222222,
              "#7201a8"
             ],
             [
              0.3333333333333333,
              "#9c179e"
             ],
             [
              0.4444444444444444,
              "#bd3786"
             ],
             [
              0.5555555555555556,
              "#d8576b"
             ],
             [
              0.6666666666666666,
              "#ed7953"
             ],
             [
              0.7777777777777778,
              "#fb9f3a"
             ],
             [
              0.8888888888888888,
              "#fdca26"
             ],
             [
              1,
              "#f0f921"
             ]
            ],
            "type": "histogram2dcontour"
           }
          ],
          "mesh3d": [
           {
            "colorbar": {
             "outlinewidth": 0,
             "ticks": ""
            },
            "type": "mesh3d"
           }
          ],
          "parcoords": [
           {
            "line": {
             "colorbar": {
              "outlinewidth": 0,
              "ticks": ""
             }
            },
            "type": "parcoords"
           }
          ],
          "pie": [
           {
            "automargin": true,
            "type": "pie"
           }
          ],
          "scatter": [
           {
            "marker": {
             "colorbar": {
              "outlinewidth": 0,
              "ticks": ""
             }
            },
            "type": "scatter"
           }
          ],
          "scatter3d": [
           {
            "line": {
             "colorbar": {
              "outlinewidth": 0,
              "ticks": ""
             }
            },
            "marker": {
             "colorbar": {
              "outlinewidth": 0,
              "ticks": ""
             }
            },
            "type": "scatter3d"
           }
          ],
          "scattercarpet": [
           {
            "marker": {
             "colorbar": {
              "outlinewidth": 0,
              "ticks": ""
             }
            },
            "type": "scattercarpet"
           }
          ],
          "scattergeo": [
           {
            "marker": {
             "colorbar": {
              "outlinewidth": 0,
              "ticks": ""
             }
            },
            "type": "scattergeo"
           }
          ],
          "scattergl": [
           {
            "marker": {
             "colorbar": {
              "outlinewidth": 0,
              "ticks": ""
             }
            },
            "type": "scattergl"
           }
          ],
          "scattermapbox": [
           {
            "marker": {
             "colorbar": {
              "outlinewidth": 0,
              "ticks": ""
             }
            },
            "type": "scattermapbox"
           }
          ],
          "scatterpolar": [
           {
            "marker": {
             "colorbar": {
              "outlinewidth": 0,
              "ticks": ""
             }
            },
            "type": "scatterpolar"
           }
          ],
          "scatterpolargl": [
           {
            "marker": {
             "colorbar": {
              "outlinewidth": 0,
              "ticks": ""
             }
            },
            "type": "scatterpolargl"
           }
          ],
          "scatterternary": [
           {
            "marker": {
             "colorbar": {
              "outlinewidth": 0,
              "ticks": ""
             }
            },
            "type": "scatterternary"
           }
          ],
          "surface": [
           {
            "colorbar": {
             "outlinewidth": 0,
             "ticks": ""
            },
            "colorscale": [
             [
              0,
              "#0d0887"
             ],
             [
              0.1111111111111111,
              "#46039f"
             ],
             [
              0.2222222222222222,
              "#7201a8"
             ],
             [
              0.3333333333333333,
              "#9c179e"
             ],
             [
              0.4444444444444444,
              "#bd3786"
             ],
             [
              0.5555555555555556,
              "#d8576b"
             ],
             [
              0.6666666666666666,
              "#ed7953"
             ],
             [
              0.7777777777777778,
              "#fb9f3a"
             ],
             [
              0.8888888888888888,
              "#fdca26"
             ],
             [
              1,
              "#f0f921"
             ]
            ],
            "type": "surface"
           }
          ],
          "table": [
           {
            "cells": {
             "fill": {
              "color": "#EBF0F8"
             },
             "line": {
              "color": "white"
             }
            },
            "header": {
             "fill": {
              "color": "#C8D4E3"
             },
             "line": {
              "color": "white"
             }
            },
            "type": "table"
           }
          ]
         },
         "layout": {
          "annotationdefaults": {
           "arrowcolor": "#2a3f5f",
           "arrowhead": 0,
           "arrowwidth": 1
          },
          "autotypenumbers": "strict",
          "coloraxis": {
           "colorbar": {
            "outlinewidth": 0,
            "ticks": ""
           }
          },
          "colorscale": {
           "diverging": [
            [
             0,
             "#8e0152"
            ],
            [
             0.1,
             "#c51b7d"
            ],
            [
             0.2,
             "#de77ae"
            ],
            [
             0.3,
             "#f1b6da"
            ],
            [
             0.4,
             "#fde0ef"
            ],
            [
             0.5,
             "#f7f7f7"
            ],
            [
             0.6,
             "#e6f5d0"
            ],
            [
             0.7,
             "#b8e186"
            ],
            [
             0.8,
             "#7fbc41"
            ],
            [
             0.9,
             "#4d9221"
            ],
            [
             1,
             "#276419"
            ]
           ],
           "sequential": [
            [
             0,
             "#0d0887"
            ],
            [
             0.1111111111111111,
             "#46039f"
            ],
            [
             0.2222222222222222,
             "#7201a8"
            ],
            [
             0.3333333333333333,
             "#9c179e"
            ],
            [
             0.4444444444444444,
             "#bd3786"
            ],
            [
             0.5555555555555556,
             "#d8576b"
            ],
            [
             0.6666666666666666,
             "#ed7953"
            ],
            [
             0.7777777777777778,
             "#fb9f3a"
            ],
            [
             0.8888888888888888,
             "#fdca26"
            ],
            [
             1,
             "#f0f921"
            ]
           ],
           "sequentialminus": [
            [
             0,
             "#0d0887"
            ],
            [
             0.1111111111111111,
             "#46039f"
            ],
            [
             0.2222222222222222,
             "#7201a8"
            ],
            [
             0.3333333333333333,
             "#9c179e"
            ],
            [
             0.4444444444444444,
             "#bd3786"
            ],
            [
             0.5555555555555556,
             "#d8576b"
            ],
            [
             0.6666666666666666,
             "#ed7953"
            ],
            [
             0.7777777777777778,
             "#fb9f3a"
            ],
            [
             0.8888888888888888,
             "#fdca26"
            ],
            [
             1,
             "#f0f921"
            ]
           ]
          },
          "colorway": [
           "#636efa",
           "#EF553B",
           "#00cc96",
           "#ab63fa",
           "#FFA15A",
           "#19d3f3",
           "#FF6692",
           "#B6E880",
           "#FF97FF",
           "#FECB52"
          ],
          "font": {
           "color": "#2a3f5f"
          },
          "geo": {
           "bgcolor": "white",
           "lakecolor": "white",
           "landcolor": "#E5ECF6",
           "showlakes": true,
           "showland": true,
           "subunitcolor": "white"
          },
          "hoverlabel": {
           "align": "left"
          },
          "hovermode": "closest",
          "mapbox": {
           "style": "light"
          },
          "paper_bgcolor": "white",
          "plot_bgcolor": "#E5ECF6",
          "polar": {
           "angularaxis": {
            "gridcolor": "white",
            "linecolor": "white",
            "ticks": ""
           },
           "bgcolor": "#E5ECF6",
           "radialaxis": {
            "gridcolor": "white",
            "linecolor": "white",
            "ticks": ""
           }
          },
          "scene": {
           "xaxis": {
            "backgroundcolor": "#E5ECF6",
            "gridcolor": "white",
            "gridwidth": 2,
            "linecolor": "white",
            "showbackground": true,
            "ticks": "",
            "zerolinecolor": "white"
           },
           "yaxis": {
            "backgroundcolor": "#E5ECF6",
            "gridcolor": "white",
            "gridwidth": 2,
            "linecolor": "white",
            "showbackground": true,
            "ticks": "",
            "zerolinecolor": "white"
           },
           "zaxis": {
            "backgroundcolor": "#E5ECF6",
            "gridcolor": "white",
            "gridwidth": 2,
            "linecolor": "white",
            "showbackground": true,
            "ticks": "",
            "zerolinecolor": "white"
           }
          },
          "shapedefaults": {
           "line": {
            "color": "#2a3f5f"
           }
          },
          "ternary": {
           "aaxis": {
            "gridcolor": "white",
            "linecolor": "white",
            "ticks": ""
           },
           "baxis": {
            "gridcolor": "white",
            "linecolor": "white",
            "ticks": ""
           },
           "bgcolor": "#E5ECF6",
           "caxis": {
            "gridcolor": "white",
            "linecolor": "white",
            "ticks": ""
           }
          },
          "title": {
           "x": 0.05
          },
          "xaxis": {
           "automargin": true,
           "gridcolor": "white",
           "linecolor": "white",
           "ticks": "",
           "title": {
            "standoff": 15
           },
           "zerolinecolor": "white",
           "zerolinewidth": 2
          },
          "yaxis": {
           "automargin": true,
           "gridcolor": "white",
           "linecolor": "white",
           "ticks": "",
           "title": {
            "standoff": 15
           },
           "zerolinecolor": "white",
           "zerolinewidth": 2
          }
         }
        },
        "title": {
         "text": "CR по позициям"
        },
        "xaxis": {
         "ticklen": 5,
         "tickmode": "linear",
         "title": {
          "text": "Позиции"
         },
         "zeroline": false
        }
       }
      },
      "text/html": [
       "<div>                            <div id=\"cd9bd305-1e5d-40f2-b1c9-fe9267fa651c\" class=\"plotly-graph-div\" style=\"height:525px; width:100%;\"></div>            <script type=\"text/javascript\">                require([\"plotly\"], function(Plotly) {                    window.PLOTLYENV=window.PLOTLYENV || {};                                    if (document.getElementById(\"cd9bd305-1e5d-40f2-b1c9-fe9267fa651c\")) {                    Plotly.newPlot(                        \"cd9bd305-1e5d-40f2-b1c9-fe9267fa651c\",                        [{\"name\":\"CR,% control\",\"text\":[\"0.4679144385026738\",\"0.3300467914438503\",\"0.3049799465240642\",\"0.34258021390374327\",\"0.21724598930481284\",\"0.16293449197860962\",\"0.2882687165775401\",\"0.2005347593582888\",\"0.16293449197860962\",\"0.2130681818181818\",\"0.02924465240641711\",\"0.01671122994652406\",\"0.02924465240641711\",\"0.01253342245989305\",\"0.00835561497326203\",\"0.02924465240641711\",\"0.01671122994652406\",\"0.004177807486631015\",\"0.34258021390374327\"],\"textposition\":\"outside\",\"type\":\"bar\",\"x\":[1,2,3,4,5,6,7,8,9,10,11,12,13,14,15,16,17,18,19],\"y\":[0.4679144385026738,0.3300467914438503,0.3049799465240642,0.34258021390374327,0.21724598930481284,0.16293449197860962,0.2882687165775401,0.2005347593582888,0.16293449197860962,0.2130681818181818,0.02924465240641711,0.01671122994652406,0.02924465240641711,0.01253342245989305,0.00835561497326203,0.02924465240641711,0.01671122994652406,0.004177807486631015,0.34258021390374327]},{\"name\":\"CR,% test\",\"text\":[\"0.5355648535564854\",\"0.3891213389121339\",\"0.19246861924686193\",\"0.22594142259414227\",\"0.2677824267782427\",\"0.17154811715481172\",\"0.2677824267782427\",\"0.16736401673640167\",\"0.12133891213389121\",\"0.012552301255230127\",\"0.008368200836820085\",\"0.008368200836820085\",\"0.029288702928870296\",\"0.01673640167364017\",\"0.008368200836820085\",\"0.004184100418410042\",\"0.305439330543933\"],\"textposition\":\"outside\",\"type\":\"bar\",\"x\":[1,2,3,4,5,6,7,8,9,10,12,13,15,16,17,18,19],\"y\":[0.5355648535564854,0.3891213389121339,0.19246861924686193,0.22594142259414227,0.2677824267782427,0.17154811715481172,0.2677824267782427,0.16736401673640167,0.12133891213389121,0.012552301255230127,0.008368200836820085,0.008368200836820085,0.029288702928870296,0.01673640167364017,0.008368200836820085,0.004184100418410042,0.305439330543933]}],                        {\"paper_bgcolor\":\"rgba(0,0,0,0)\",\"plot_bgcolor\":\"rgba(0,0,0,0)\",\"template\":{\"data\":{\"bar\":[{\"error_x\":{\"color\":\"#2a3f5f\"},\"error_y\":{\"color\":\"#2a3f5f\"},\"marker\":{\"line\":{\"color\":\"#E5ECF6\",\"width\":0.5},\"pattern\":{\"fillmode\":\"overlay\",\"size\":10,\"solidity\":0.2}},\"type\":\"bar\"}],\"barpolar\":[{\"marker\":{\"line\":{\"color\":\"#E5ECF6\",\"width\":0.5},\"pattern\":{\"fillmode\":\"overlay\",\"size\":10,\"solidity\":0.2}},\"type\":\"barpolar\"}],\"carpet\":[{\"aaxis\":{\"endlinecolor\":\"#2a3f5f\",\"gridcolor\":\"white\",\"linecolor\":\"white\",\"minorgridcolor\":\"white\",\"startlinecolor\":\"#2a3f5f\"},\"baxis\":{\"endlinecolor\":\"#2a3f5f\",\"gridcolor\":\"white\",\"linecolor\":\"white\",\"minorgridcolor\":\"white\",\"startlinecolor\":\"#2a3f5f\"},\"type\":\"carpet\"}],\"choropleth\":[{\"colorbar\":{\"outlinewidth\":0,\"ticks\":\"\"},\"type\":\"choropleth\"}],\"contour\":[{\"colorbar\":{\"outlinewidth\":0,\"ticks\":\"\"},\"colorscale\":[[0.0,\"#0d0887\"],[0.1111111111111111,\"#46039f\"],[0.2222222222222222,\"#7201a8\"],[0.3333333333333333,\"#9c179e\"],[0.4444444444444444,\"#bd3786\"],[0.5555555555555556,\"#d8576b\"],[0.6666666666666666,\"#ed7953\"],[0.7777777777777778,\"#fb9f3a\"],[0.8888888888888888,\"#fdca26\"],[1.0,\"#f0f921\"]],\"type\":\"contour\"}],\"contourcarpet\":[{\"colorbar\":{\"outlinewidth\":0,\"ticks\":\"\"},\"type\":\"contourcarpet\"}],\"heatmap\":[{\"colorbar\":{\"outlinewidth\":0,\"ticks\":\"\"},\"colorscale\":[[0.0,\"#0d0887\"],[0.1111111111111111,\"#46039f\"],[0.2222222222222222,\"#7201a8\"],[0.3333333333333333,\"#9c179e\"],[0.4444444444444444,\"#bd3786\"],[0.5555555555555556,\"#d8576b\"],[0.6666666666666666,\"#ed7953\"],[0.7777777777777778,\"#fb9f3a\"],[0.8888888888888888,\"#fdca26\"],[1.0,\"#f0f921\"]],\"type\":\"heatmap\"}],\"heatmapgl\":[{\"colorbar\":{\"outlinewidth\":0,\"ticks\":\"\"},\"colorscale\":[[0.0,\"#0d0887\"],[0.1111111111111111,\"#46039f\"],[0.2222222222222222,\"#7201a8\"],[0.3333333333333333,\"#9c179e\"],[0.4444444444444444,\"#bd3786\"],[0.5555555555555556,\"#d8576b\"],[0.6666666666666666,\"#ed7953\"],[0.7777777777777778,\"#fb9f3a\"],[0.8888888888888888,\"#fdca26\"],[1.0,\"#f0f921\"]],\"type\":\"heatmapgl\"}],\"histogram\":[{\"marker\":{\"pattern\":{\"fillmode\":\"overlay\",\"size\":10,\"solidity\":0.2}},\"type\":\"histogram\"}],\"histogram2d\":[{\"colorbar\":{\"outlinewidth\":0,\"ticks\":\"\"},\"colorscale\":[[0.0,\"#0d0887\"],[0.1111111111111111,\"#46039f\"],[0.2222222222222222,\"#7201a8\"],[0.3333333333333333,\"#9c179e\"],[0.4444444444444444,\"#bd3786\"],[0.5555555555555556,\"#d8576b\"],[0.6666666666666666,\"#ed7953\"],[0.7777777777777778,\"#fb9f3a\"],[0.8888888888888888,\"#fdca26\"],[1.0,\"#f0f921\"]],\"type\":\"histogram2d\"}],\"histogram2dcontour\":[{\"colorbar\":{\"outlinewidth\":0,\"ticks\":\"\"},\"colorscale\":[[0.0,\"#0d0887\"],[0.1111111111111111,\"#46039f\"],[0.2222222222222222,\"#7201a8\"],[0.3333333333333333,\"#9c179e\"],[0.4444444444444444,\"#bd3786\"],[0.5555555555555556,\"#d8576b\"],[0.6666666666666666,\"#ed7953\"],[0.7777777777777778,\"#fb9f3a\"],[0.8888888888888888,\"#fdca26\"],[1.0,\"#f0f921\"]],\"type\":\"histogram2dcontour\"}],\"mesh3d\":[{\"colorbar\":{\"outlinewidth\":0,\"ticks\":\"\"},\"type\":\"mesh3d\"}],\"parcoords\":[{\"line\":{\"colorbar\":{\"outlinewidth\":0,\"ticks\":\"\"}},\"type\":\"parcoords\"}],\"pie\":[{\"automargin\":true,\"type\":\"pie\"}],\"scatter\":[{\"marker\":{\"colorbar\":{\"outlinewidth\":0,\"ticks\":\"\"}},\"type\":\"scatter\"}],\"scatter3d\":[{\"line\":{\"colorbar\":{\"outlinewidth\":0,\"ticks\":\"\"}},\"marker\":{\"colorbar\":{\"outlinewidth\":0,\"ticks\":\"\"}},\"type\":\"scatter3d\"}],\"scattercarpet\":[{\"marker\":{\"colorbar\":{\"outlinewidth\":0,\"ticks\":\"\"}},\"type\":\"scattercarpet\"}],\"scattergeo\":[{\"marker\":{\"colorbar\":{\"outlinewidth\":0,\"ticks\":\"\"}},\"type\":\"scattergeo\"}],\"scattergl\":[{\"marker\":{\"colorbar\":{\"outlinewidth\":0,\"ticks\":\"\"}},\"type\":\"scattergl\"}],\"scattermapbox\":[{\"marker\":{\"colorbar\":{\"outlinewidth\":0,\"ticks\":\"\"}},\"type\":\"scattermapbox\"}],\"scatterpolar\":[{\"marker\":{\"colorbar\":{\"outlinewidth\":0,\"ticks\":\"\"}},\"type\":\"scatterpolar\"}],\"scatterpolargl\":[{\"marker\":{\"colorbar\":{\"outlinewidth\":0,\"ticks\":\"\"}},\"type\":\"scatterpolargl\"}],\"scatterternary\":[{\"marker\":{\"colorbar\":{\"outlinewidth\":0,\"ticks\":\"\"}},\"type\":\"scatterternary\"}],\"surface\":[{\"colorbar\":{\"outlinewidth\":0,\"ticks\":\"\"},\"colorscale\":[[0.0,\"#0d0887\"],[0.1111111111111111,\"#46039f\"],[0.2222222222222222,\"#7201a8\"],[0.3333333333333333,\"#9c179e\"],[0.4444444444444444,\"#bd3786\"],[0.5555555555555556,\"#d8576b\"],[0.6666666666666666,\"#ed7953\"],[0.7777777777777778,\"#fb9f3a\"],[0.8888888888888888,\"#fdca26\"],[1.0,\"#f0f921\"]],\"type\":\"surface\"}],\"table\":[{\"cells\":{\"fill\":{\"color\":\"#EBF0F8\"},\"line\":{\"color\":\"white\"}},\"header\":{\"fill\":{\"color\":\"#C8D4E3\"},\"line\":{\"color\":\"white\"}},\"type\":\"table\"}]},\"layout\":{\"annotationdefaults\":{\"arrowcolor\":\"#2a3f5f\",\"arrowhead\":0,\"arrowwidth\":1},\"autotypenumbers\":\"strict\",\"coloraxis\":{\"colorbar\":{\"outlinewidth\":0,\"ticks\":\"\"}},\"colorscale\":{\"diverging\":[[0,\"#8e0152\"],[0.1,\"#c51b7d\"],[0.2,\"#de77ae\"],[0.3,\"#f1b6da\"],[0.4,\"#fde0ef\"],[0.5,\"#f7f7f7\"],[0.6,\"#e6f5d0\"],[0.7,\"#b8e186\"],[0.8,\"#7fbc41\"],[0.9,\"#4d9221\"],[1,\"#276419\"]],\"sequential\":[[0.0,\"#0d0887\"],[0.1111111111111111,\"#46039f\"],[0.2222222222222222,\"#7201a8\"],[0.3333333333333333,\"#9c179e\"],[0.4444444444444444,\"#bd3786\"],[0.5555555555555556,\"#d8576b\"],[0.6666666666666666,\"#ed7953\"],[0.7777777777777778,\"#fb9f3a\"],[0.8888888888888888,\"#fdca26\"],[1.0,\"#f0f921\"]],\"sequentialminus\":[[0.0,\"#0d0887\"],[0.1111111111111111,\"#46039f\"],[0.2222222222222222,\"#7201a8\"],[0.3333333333333333,\"#9c179e\"],[0.4444444444444444,\"#bd3786\"],[0.5555555555555556,\"#d8576b\"],[0.6666666666666666,\"#ed7953\"],[0.7777777777777778,\"#fb9f3a\"],[0.8888888888888888,\"#fdca26\"],[1.0,\"#f0f921\"]]},\"colorway\":[\"#636efa\",\"#EF553B\",\"#00cc96\",\"#ab63fa\",\"#FFA15A\",\"#19d3f3\",\"#FF6692\",\"#B6E880\",\"#FF97FF\",\"#FECB52\"],\"font\":{\"color\":\"#2a3f5f\"},\"geo\":{\"bgcolor\":\"white\",\"lakecolor\":\"white\",\"landcolor\":\"#E5ECF6\",\"showlakes\":true,\"showland\":true,\"subunitcolor\":\"white\"},\"hoverlabel\":{\"align\":\"left\"},\"hovermode\":\"closest\",\"mapbox\":{\"style\":\"light\"},\"paper_bgcolor\":\"white\",\"plot_bgcolor\":\"#E5ECF6\",\"polar\":{\"angularaxis\":{\"gridcolor\":\"white\",\"linecolor\":\"white\",\"ticks\":\"\"},\"bgcolor\":\"#E5ECF6\",\"radialaxis\":{\"gridcolor\":\"white\",\"linecolor\":\"white\",\"ticks\":\"\"}},\"scene\":{\"xaxis\":{\"backgroundcolor\":\"#E5ECF6\",\"gridcolor\":\"white\",\"gridwidth\":2,\"linecolor\":\"white\",\"showbackground\":true,\"ticks\":\"\",\"zerolinecolor\":\"white\"},\"yaxis\":{\"backgroundcolor\":\"#E5ECF6\",\"gridcolor\":\"white\",\"gridwidth\":2,\"linecolor\":\"white\",\"showbackground\":true,\"ticks\":\"\",\"zerolinecolor\":\"white\"},\"zaxis\":{\"backgroundcolor\":\"#E5ECF6\",\"gridcolor\":\"white\",\"gridwidth\":2,\"linecolor\":\"white\",\"showbackground\":true,\"ticks\":\"\",\"zerolinecolor\":\"white\"}},\"shapedefaults\":{\"line\":{\"color\":\"#2a3f5f\"}},\"ternary\":{\"aaxis\":{\"gridcolor\":\"white\",\"linecolor\":\"white\",\"ticks\":\"\"},\"baxis\":{\"gridcolor\":\"white\",\"linecolor\":\"white\",\"ticks\":\"\"},\"bgcolor\":\"#E5ECF6\",\"caxis\":{\"gridcolor\":\"white\",\"linecolor\":\"white\",\"ticks\":\"\"}},\"title\":{\"x\":0.05},\"xaxis\":{\"automargin\":true,\"gridcolor\":\"white\",\"linecolor\":\"white\",\"ticks\":\"\",\"title\":{\"standoff\":15},\"zerolinecolor\":\"white\",\"zerolinewidth\":2},\"yaxis\":{\"automargin\":true,\"gridcolor\":\"white\",\"linecolor\":\"white\",\"ticks\":\"\",\"title\":{\"standoff\":15},\"zerolinecolor\":\"white\",\"zerolinewidth\":2}}},\"title\":{\"text\":\"CR \\u043f\\u043e \\u043f\\u043e\\u0437\\u0438\\u0446\\u0438\\u044f\\u043c\"},\"xaxis\":{\"ticklen\":5,\"tickmode\":\"linear\",\"title\":{\"text\":\"\\u041f\\u043e\\u0437\\u0438\\u0446\\u0438\\u0438\"},\"zeroline\":false}},                        {\"responsive\": true}                    ).then(function(){\n",
       "                            \n",
       "var gd = document.getElementById('cd9bd305-1e5d-40f2-b1c9-fe9267fa651c');\n",
       "var x = new MutationObserver(function (mutations, observer) {{\n",
       "        var display = window.getComputedStyle(gd).display;\n",
       "        if (!display || display === 'none') {{\n",
       "            console.log([gd, 'removed!']);\n",
       "            Plotly.purge(gd);\n",
       "            observer.disconnect();\n",
       "        }}\n",
       "}});\n",
       "\n",
       "// Listen for the removal of the full notebook cells\n",
       "var notebookContainer = gd.closest('#notebook-container');\n",
       "if (notebookContainer) {{\n",
       "    x.observe(notebookContainer, {childList: true});\n",
       "}}\n",
       "\n",
       "// Listen for the clearing of the current output cell\n",
       "var outputEl = gd.closest('.output');\n",
       "if (outputEl) {{\n",
       "    x.observe(outputEl, {childList: true});\n",
       "}}\n",
       "\n",
       "                        })                };                });            </script>        </div>"
      ]
     },
     "metadata": {},
     "output_type": "display_data"
    }
   ],
   "source": [
    "\n",
    "import plotly.graph_objects as go\n",
    "from plotly.subplots import make_subplots\n",
    "\n",
    "\n",
    "fig = go.Figure()\n",
    "# fig = make_subplots(specs=[[{\"secondary_y\": True}]])\n",
    "\n",
    "fig.add_trace(\n",
    "    go.Bar(x=cl[cl['experimentVariant']=='1']['position'], y=cl[cl['experimentVariant']=='1']['CR,%'], name=\"CR,% control\", text=cl[cl['experimentVariant']=='1']['CR,%'], textposition='outside')\n",
    ")\n",
    "\n",
    "fig.add_trace(\n",
    "    go.Bar(x=cl[cl['experimentVariant']=='2']['position'], y=cl[cl['experimentVariant']=='2']['CR,%'], name=\"CR,% test\", text=cl[cl['experimentVariant']=='2']['CR,%'], textposition='outside')\n",
    ")\n",
    "\n",
    "# fig.add_trace(\n",
    "#     go.Scatter(x=dist[dist['experimentVariant']==1]['position'], y=dist[dist['experimentVariant']==1]['CR_click%'], name=\"CR в клики control\"),\n",
    "#     secondary_y=True,\n",
    "# )\n",
    "\n",
    "# fig.add_trace(\n",
    "#     go.Scatter(x=dist[dist['experimentVariant']==2]['position'], y=dist[dist['experimentVariant']==2]['CR_click%'], name=\"CR в клики test\"),\n",
    "#     secondary_y=True,\n",
    "# )\n",
    "\n",
    "\n",
    "# Add figure title\n",
    "fig.update_layout(\n",
    "    title_text=\"CR по позициям\",\n",
    "    xaxis = dict(title= 'Позиции',ticklen= 5,zeroline= False, tickmode='linear'), \n",
    " #   yaxis = dict(title= 'Клики',ticklen= 5,zeroline= False),\n",
    "    paper_bgcolor='rgba(0,0,0,0)',\n",
    "    plot_bgcolor='rgba(0,0,0,0)'\n",
    ")\n",
    "\n",
    "# Set y-axes titles\n",
    "# fig.update_yaxes(title_text=\"CR в клики, %\", secondary_y=True)\n",
    "# fig.update_yaxes(title_text=\"Клики\", secondary_y=False)\n",
    "\n",
    "\n",
    "fig.show()\n",
    "\n",
    "\n",
    "\n",
    "\n"
   ]
  },
  {
   "cell_type": "code",
   "execution_count": null,
   "id": "86b68be4",
   "metadata": {},
   "outputs": [],
   "source": []
  },
  {
   "cell_type": "code",
   "execution_count": null,
   "id": "90bc98ed",
   "metadata": {},
   "outputs": [],
   "source": []
  },
  {
   "cell_type": "code",
   "execution_count": null,
   "id": "b5271c63",
   "metadata": {},
   "outputs": [],
   "source": []
  }
 ],
 "metadata": {
  "kernelspec": {
   "display_name": "Python 3",
   "language": "python",
   "name": "python3"
  },
  "language_info": {
   "codemirror_mode": {
    "name": "ipython",
    "version": 3
   },
   "file_extension": ".py",
   "mimetype": "text/x-python",
   "name": "python",
   "nbconvert_exporter": "python",
   "pygments_lexer": "ipython3",
   "version": "3.8.8"
  }
 },
 "nbformat": 4,
 "nbformat_minor": 5
}
