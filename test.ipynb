{
 "cells": [
  {
   "cell_type": "code",
   "execution_count": 1,
   "id": "c9cb5076",
   "metadata": {},
   "outputs": [
    {
     "name": "stdout",
     "output_type": "stream",
     "text": [
      "Collecting package metadata (current_repodata.json): done\n",
      "Solving environment: done\n",
      "\n",
      "## Package Plan ##\n",
      "\n",
      "  environment location: /Users/lxndrarura/opt/anaconda3\n",
      "\n",
      "  added / updated specs:\n",
      "    - ipywidgets\n",
      "\n",
      "\n",
      "The following packages will be downloaded:\n",
      "\n",
      "    package                    |            build\n",
      "    ---------------------------|-----------------\n",
      "    conda-4.11.0               |   py38h50d1736_0        16.9 MB  conda-forge\n",
      "    python_abi-3.8             |           2_cp38           4 KB  conda-forge\n",
      "    ------------------------------------------------------------\n",
      "                                           Total:        16.9 MB\n",
      "\n",
      "The following NEW packages will be INSTALLED:\n",
      "\n",
      "  python_abi         conda-forge/osx-64::python_abi-3.8-2_cp38\n",
      "\n",
      "The following packages will be SUPERSEDED by a higher-priority channel:\n",
      "\n",
      "  conda              pkgs/main::conda-4.11.0-py38hecd8cb5_0 --> conda-forge::conda-4.11.0-py38h50d1736_0\n",
      "\n",
      "\n",
      "\n",
      "Downloading and Extracting Packages\n",
      "conda-4.11.0         | 16.9 MB   | ##################################### | 100% \n",
      "python_abi-3.8       | 4 KB      | ##################################### | 100% \n",
      "Preparing transaction: done\n",
      "Verifying transaction: done\n",
      "Executing transaction: done\n",
      "\n",
      "Note: you may need to restart the kernel to use updated packages.\n"
     ]
    }
   ],
   "source": [
    "conda install -c conda-forge ipywidgets"
   ]
  },
  {
   "cell_type": "code",
   "execution_count": 1,
   "id": "570f9163",
   "metadata": {},
   "outputs": [],
   "source": [
    "import ipywidgets as widgets\n",
    "from ipywidgets import interact, interact_manual\n"
   ]
  },
  {
   "cell_type": "code",
   "execution_count": 3,
   "id": "0ba6751f",
   "metadata": {},
   "outputs": [],
   "source": [
    "import pandas as pd\n",
    "from google.oauth2 import service_account\n"
   ]
  },
  {
   "cell_type": "code",
   "execution_count": 4,
   "id": "d283ac9d",
   "metadata": {},
   "outputs": [
    {
     "data": {
      "text/html": [
       "<div>\n",
       "<style scoped>\n",
       "    .dataframe tbody tr th:only-of-type {\n",
       "        vertical-align: middle;\n",
       "    }\n",
       "\n",
       "    .dataframe tbody tr th {\n",
       "        vertical-align: top;\n",
       "    }\n",
       "\n",
       "    .dataframe thead th {\n",
       "        text-align: right;\n",
       "    }\n",
       "</style>\n",
       "<table border=\"1\" class=\"dataframe\">\n",
       "  <thead>\n",
       "    <tr style=\"text-align: right;\">\n",
       "      <th></th>\n",
       "      <th>sessionId</th>\n",
       "      <th>hitId</th>\n",
       "      <th>eventAction</th>\n",
       "      <th>eventLabel</th>\n",
       "      <th>date</th>\n",
       "      <th>f0_</th>\n",
       "    </tr>\n",
       "  </thead>\n",
       "  <tbody>\n",
       "    <tr>\n",
       "      <th>0</th>\n",
       "      <td>1000056152.1637742845_1638281373692</td>\n",
       "      <td>12bcf5c9-9ba3-4554-8830-ba5ef6951cf3</td>\n",
       "      <td>header_nav_catalog_click</td>\n",
       "      <td>Каталог/Ванны и комплектующие/Ванны</td>\n",
       "      <td>2021-11-30</td>\n",
       "      <td>after</td>\n",
       "    </tr>\n",
       "    <tr>\n",
       "      <th>1</th>\n",
       "      <td>1000056152.1637742845_1638281373692</td>\n",
       "      <td>889c7b35-666a-4cd5-a48d-0422d70d4583</td>\n",
       "      <td>header_nav_catalog_interaction</td>\n",
       "      <td>open</td>\n",
       "      <td>2021-11-30</td>\n",
       "      <td>after</td>\n",
       "    </tr>\n",
       "    <tr>\n",
       "      <th>2</th>\n",
       "      <td>1000056152.1637742845_1638375283524</td>\n",
       "      <td>01b95bc6-f9b8-4584-a18b-8f951287ecbe</td>\n",
       "      <td>header_nav_catalog_interaction</td>\n",
       "      <td>open</td>\n",
       "      <td>2021-12-01</td>\n",
       "      <td>after</td>\n",
       "    </tr>\n",
       "    <tr>\n",
       "      <th>3</th>\n",
       "      <td>1000056152.1637742845_1638375283524</td>\n",
       "      <td>55f34efa-1864-4024-8157-e681060c3f48</td>\n",
       "      <td>header_nav_catalog_click</td>\n",
       "      <td>Каталог/Мебель для ванной и комплектующие/Тумб...</td>\n",
       "      <td>2021-12-01</td>\n",
       "      <td>after</td>\n",
       "    </tr>\n",
       "    <tr>\n",
       "      <th>4</th>\n",
       "      <td>1000056152.1637742845_1638457474017</td>\n",
       "      <td>c1ad6073-5678-46bb-928d-9e6a7a7c1260</td>\n",
       "      <td>header_nav_catalog_interaction</td>\n",
       "      <td>open</td>\n",
       "      <td>2021-12-02</td>\n",
       "      <td>after</td>\n",
       "    </tr>\n",
       "    <tr>\n",
       "      <th>...</th>\n",
       "      <td>...</td>\n",
       "      <td>...</td>\n",
       "      <td>...</td>\n",
       "      <td>...</td>\n",
       "      <td>...</td>\n",
       "      <td>...</td>\n",
       "    </tr>\n",
       "    <tr>\n",
       "      <th>128953</th>\n",
       "      <td>999745776.1638280248_1638280351933</td>\n",
       "      <td>2554f417-c480-4a32-9aed-5445958f1010</td>\n",
       "      <td>header_nav_catalog_click</td>\n",
       "      <td>Каталог/Ванны и комплектующие/Ванны</td>\n",
       "      <td>2021-11-30</td>\n",
       "      <td>after</td>\n",
       "    </tr>\n",
       "    <tr>\n",
       "      <th>128954</th>\n",
       "      <td>999745776.1638280248_1638280351933</td>\n",
       "      <td>67aed4f3-1967-445e-b879-588fecad3357</td>\n",
       "      <td>header_nav_catalog_interaction</td>\n",
       "      <td>open</td>\n",
       "      <td>2021-11-30</td>\n",
       "      <td>after</td>\n",
       "    </tr>\n",
       "    <tr>\n",
       "      <th>128955</th>\n",
       "      <td>999769661.1626409143_1637406793931</td>\n",
       "      <td>4f3add8b-2feb-4556-bf19-17330a19581d</td>\n",
       "      <td>header_nav_catalog_click</td>\n",
       "      <td>Каталог товаров/Душевые кабины, ограждения и к...</td>\n",
       "      <td>2021-11-20</td>\n",
       "      <td>before</td>\n",
       "    </tr>\n",
       "    <tr>\n",
       "      <th>128956</th>\n",
       "      <td>999769661.1626409143_1637406793931</td>\n",
       "      <td>f0d1a015-131b-49f2-9236-8de1fd76a661</td>\n",
       "      <td>header_nav_catalog_interaction</td>\n",
       "      <td>open</td>\n",
       "      <td>2021-11-20</td>\n",
       "      <td>before</td>\n",
       "    </tr>\n",
       "    <tr>\n",
       "      <th>128957</th>\n",
       "      <td>999951354.1637152098_1637242378929</td>\n",
       "      <td>4c41e762-7bd8-45c9-b615-76f5a3c1778f</td>\n",
       "      <td>header_nav_catalog_interaction</td>\n",
       "      <td>open</td>\n",
       "      <td>2021-11-18</td>\n",
       "      <td>before</td>\n",
       "    </tr>\n",
       "  </tbody>\n",
       "</table>\n",
       "<p>128958 rows × 6 columns</p>\n",
       "</div>"
      ],
      "text/plain": [
       "                                  sessionId  \\\n",
       "0       1000056152.1637742845_1638281373692   \n",
       "1       1000056152.1637742845_1638281373692   \n",
       "2       1000056152.1637742845_1638375283524   \n",
       "3       1000056152.1637742845_1638375283524   \n",
       "4       1000056152.1637742845_1638457474017   \n",
       "...                                     ...   \n",
       "128953   999745776.1638280248_1638280351933   \n",
       "128954   999745776.1638280248_1638280351933   \n",
       "128955   999769661.1626409143_1637406793931   \n",
       "128956   999769661.1626409143_1637406793931   \n",
       "128957   999951354.1637152098_1637242378929   \n",
       "\n",
       "                                       hitId                     eventAction  \\\n",
       "0       12bcf5c9-9ba3-4554-8830-ba5ef6951cf3        header_nav_catalog_click   \n",
       "1       889c7b35-666a-4cd5-a48d-0422d70d4583  header_nav_catalog_interaction   \n",
       "2       01b95bc6-f9b8-4584-a18b-8f951287ecbe  header_nav_catalog_interaction   \n",
       "3       55f34efa-1864-4024-8157-e681060c3f48        header_nav_catalog_click   \n",
       "4       c1ad6073-5678-46bb-928d-9e6a7a7c1260  header_nav_catalog_interaction   \n",
       "...                                      ...                             ...   \n",
       "128953  2554f417-c480-4a32-9aed-5445958f1010        header_nav_catalog_click   \n",
       "128954  67aed4f3-1967-445e-b879-588fecad3357  header_nav_catalog_interaction   \n",
       "128955  4f3add8b-2feb-4556-bf19-17330a19581d        header_nav_catalog_click   \n",
       "128956  f0d1a015-131b-49f2-9236-8de1fd76a661  header_nav_catalog_interaction   \n",
       "128957  4c41e762-7bd8-45c9-b615-76f5a3c1778f  header_nav_catalog_interaction   \n",
       "\n",
       "                                               eventLabel       date     f0_  \n",
       "0                     Каталог/Ванны и комплектующие/Ванны 2021-11-30   after  \n",
       "1                                                    open 2021-11-30   after  \n",
       "2                                                    open 2021-12-01   after  \n",
       "3       Каталог/Мебель для ванной и комплектующие/Тумб... 2021-12-01   after  \n",
       "4                                                    open 2021-12-02   after  \n",
       "...                                                   ...        ...     ...  \n",
       "128953                Каталог/Ванны и комплектующие/Ванны 2021-11-30   after  \n",
       "128954                                               open 2021-11-30   after  \n",
       "128955  Каталог товаров/Душевые кабины, ограждения и к... 2021-11-20  before  \n",
       "128956                                               open 2021-11-20  before  \n",
       "128957                                               open 2021-11-18  before  \n",
       "\n",
       "[128958 rows x 6 columns]"
      ]
     },
     "execution_count": 4,
     "metadata": {},
     "output_type": "execute_result"
    }
   ],
   "source": [
    "def categ_sql():\n",
    "    credentials = service_account.Credentials.from_service_account_file(\n",
    "    '/Users/lxndrarura/Python Santehnika/key/spry-compound-139714-3c5694cec4ca.json')\n",
    "    project_id = 'spry-compound-139714' \n",
    "   \n",
    "    query = '''\n",
    "    select \n",
    "        *\n",
    "    from `spry-compound-139714.SNTO_lyapakhina.head_catalog_events11`\n",
    "    '''\n",
    "    ct = pd.read_gbq(query, project_id=project_id, credentials=credentials)\n",
    "    return ct\n",
    "\n",
    "ct = categ_sql()\n",
    "ct"
   ]
  },
  {
   "cell_type": "code",
   "execution_count": 6,
   "id": "ec75e60c",
   "metadata": {},
   "outputs": [
    {
     "data": {
      "text/html": [
       "<div>\n",
       "<style scoped>\n",
       "    .dataframe tbody tr th:only-of-type {\n",
       "        vertical-align: middle;\n",
       "    }\n",
       "\n",
       "    .dataframe tbody tr th {\n",
       "        vertical-align: top;\n",
       "    }\n",
       "\n",
       "    .dataframe thead th {\n",
       "        text-align: right;\n",
       "    }\n",
       "</style>\n",
       "<table border=\"1\" class=\"dataframe\">\n",
       "  <thead>\n",
       "    <tr style=\"text-align: right;\">\n",
       "      <th></th>\n",
       "      <th>date</th>\n",
       "      <th>f0_</th>\n",
       "      <th>sessionId</th>\n",
       "    </tr>\n",
       "  </thead>\n",
       "  <tbody>\n",
       "    <tr>\n",
       "      <th>0</th>\n",
       "      <td>2021-11-17</td>\n",
       "      <td>before</td>\n",
       "      <td>3811</td>\n",
       "    </tr>\n",
       "    <tr>\n",
       "      <th>1</th>\n",
       "      <td>2021-11-18</td>\n",
       "      <td>before</td>\n",
       "      <td>3913</td>\n",
       "    </tr>\n",
       "    <tr>\n",
       "      <th>2</th>\n",
       "      <td>2021-11-19</td>\n",
       "      <td>before</td>\n",
       "      <td>3405</td>\n",
       "    </tr>\n",
       "    <tr>\n",
       "      <th>3</th>\n",
       "      <td>2021-11-20</td>\n",
       "      <td>before</td>\n",
       "      <td>2743</td>\n",
       "    </tr>\n",
       "    <tr>\n",
       "      <th>4</th>\n",
       "      <td>2021-11-21</td>\n",
       "      <td>before</td>\n",
       "      <td>3075</td>\n",
       "    </tr>\n",
       "    <tr>\n",
       "      <th>5</th>\n",
       "      <td>2021-11-22</td>\n",
       "      <td>before</td>\n",
       "      <td>4224</td>\n",
       "    </tr>\n",
       "    <tr>\n",
       "      <th>6</th>\n",
       "      <td>2021-11-23</td>\n",
       "      <td>before</td>\n",
       "      <td>4152</td>\n",
       "    </tr>\n",
       "    <tr>\n",
       "      <th>7</th>\n",
       "      <td>2021-11-29</td>\n",
       "      <td>after</td>\n",
       "      <td>3842</td>\n",
       "    </tr>\n",
       "    <tr>\n",
       "      <th>8</th>\n",
       "      <td>2021-11-30</td>\n",
       "      <td>after</td>\n",
       "      <td>3661</td>\n",
       "    </tr>\n",
       "    <tr>\n",
       "      <th>9</th>\n",
       "      <td>2021-12-01</td>\n",
       "      <td>after</td>\n",
       "      <td>3316</td>\n",
       "    </tr>\n",
       "    <tr>\n",
       "      <th>10</th>\n",
       "      <td>2021-12-02</td>\n",
       "      <td>after</td>\n",
       "      <td>3378</td>\n",
       "    </tr>\n",
       "    <tr>\n",
       "      <th>11</th>\n",
       "      <td>2021-12-03</td>\n",
       "      <td>after</td>\n",
       "      <td>2838</td>\n",
       "    </tr>\n",
       "  </tbody>\n",
       "</table>\n",
       "</div>"
      ],
      "text/plain": [
       "         date     f0_  sessionId\n",
       "0  2021-11-17  before       3811\n",
       "1  2021-11-18  before       3913\n",
       "2  2021-11-19  before       3405\n",
       "3  2021-11-20  before       2743\n",
       "4  2021-11-21  before       3075\n",
       "5  2021-11-22  before       4224\n",
       "6  2021-11-23  before       4152\n",
       "7  2021-11-29   after       3842\n",
       "8  2021-11-30   after       3661\n",
       "9  2021-12-01   after       3316\n",
       "10 2021-12-02   after       3378\n",
       "11 2021-12-03   after       2838"
      ]
     },
     "execution_count": 6,
     "metadata": {},
     "output_type": "execute_result"
    }
   ],
   "source": [
    "df = ct.groupby(['date', 'f0_'])['sessionId'].nunique().reset_index()\n",
    "df"
   ]
  },
  {
   "cell_type": "code",
   "execution_count": 10,
   "id": "c1ff67a8",
   "metadata": {},
   "outputs": [
    {
     "data": {
      "application/vnd.jupyter.widget-view+json": {
       "model_id": "8fd68b51415f4de5a266116c5cb9f026",
       "version_major": 2,
       "version_minor": 0
      },
      "text/plain": [
       "interactive(children=(Dropdown(description='column', options=('sessionId',), value='sessionId'), IntSlider(val…"
      ]
     },
     "metadata": {},
     "output_type": "display_data"
    }
   ],
   "source": [
    "@interact\n",
    "def show_articles_more_than(column=['sessionId'], \n",
    "                            x=(10, 5000, 10)):\n",
    "    return df.loc[df[column] > x]\n"
   ]
  },
  {
   "cell_type": "code",
   "execution_count": null,
   "id": "5a5e7dae",
   "metadata": {},
   "outputs": [],
   "source": []
  },
  {
   "cell_type": "code",
   "execution_count": null,
   "id": "f0d4c226",
   "metadata": {},
   "outputs": [],
   "source": []
  },
  {
   "cell_type": "code",
   "execution_count": null,
   "id": "9062ac33",
   "metadata": {},
   "outputs": [],
   "source": []
  }
 ],
 "metadata": {
  "kernelspec": {
   "display_name": "Python 3",
   "language": "python",
   "name": "python3"
  },
  "language_info": {
   "codemirror_mode": {
    "name": "ipython",
    "version": 3
   },
   "file_extension": ".py",
   "mimetype": "text/x-python",
   "name": "python",
   "nbconvert_exporter": "python",
   "pygments_lexer": "ipython3",
   "version": "3.8.8"
  },
  "widgets": {
   "application/vnd.jupyter.widget-state+json": {
    "state": {
     "02d7844ae0ef489f9cf3b116e0c2cc3f": {
      "model_module": "@jupyter-widgets/controls",
      "model_module_version": "1.5.0",
      "model_name": "IntSliderModel",
      "state": {
       "description": "x",
       "layout": "IPY_MODEL_ba264828b9164eedb3a3d9c1fd938be1",
       "max": 6000,
       "min": 10,
       "step": 10,
       "style": "IPY_MODEL_39d304aae53445508b8ee8e68362bbfa",
       "value": 5060
      }
     },
     "06dce79dcf8e4b6795f517952933729a": {
      "model_module": "@jupyter-widgets/base",
      "model_module_version": "1.2.0",
      "model_name": "LayoutModel",
      "state": {}
     },
     "15d23da22081418aa66a0114515fecb8": {
      "model_module": "@jupyter-widgets/controls",
      "model_module_version": "1.5.0",
      "model_name": "SliderStyleModel",
      "state": {
       "description_width": ""
      }
     },
     "15eb970611a74d079caca6254aa14469": {
      "model_module": "@jupyter-widgets/base",
      "model_module_version": "1.2.0",
      "model_name": "LayoutModel",
      "state": {}
     },
     "1a8d61e302364edba60aeb6de761f209": {
      "model_module": "@jupyter-widgets/base",
      "model_module_version": "1.2.0",
      "model_name": "LayoutModel",
      "state": {}
     },
     "1f81da408dec434f9fcd774a3e89b4f2": {
      "model_module": "@jupyter-widgets/controls",
      "model_module_version": "1.5.0",
      "model_name": "DescriptionStyleModel",
      "state": {
       "description_width": ""
      }
     },
     "241053bc370a45238eaba887d93488df": {
      "model_module": "@jupyter-widgets/controls",
      "model_module_version": "1.5.0",
      "model_name": "DescriptionStyleModel",
      "state": {
       "description_width": ""
      }
     },
     "35100146bd4349878dfac2b62232a770": {
      "model_module": "@jupyter-widgets/controls",
      "model_module_version": "1.5.0",
      "model_name": "DropdownModel",
      "state": {
       "_options_labels": [
        "sessionId"
       ],
       "description": "column",
       "index": 0,
       "layout": "IPY_MODEL_1a8d61e302364edba60aeb6de761f209",
       "style": "IPY_MODEL_b6564190f30845a59e3b7ed10086a54f"
      }
     },
     "39d304aae53445508b8ee8e68362bbfa": {
      "model_module": "@jupyter-widgets/controls",
      "model_module_version": "1.5.0",
      "model_name": "SliderStyleModel",
      "state": {
       "description_width": ""
      }
     },
     "3a0d8f3dbe35494db8fdd05d7015eee0": {
      "model_module": "@jupyter-widgets/base",
      "model_module_version": "1.2.0",
      "model_name": "LayoutModel",
      "state": {}
     },
     "42ff5053fe054389b9af8df0de0c4c33": {
      "model_module": "@jupyter-widgets/base",
      "model_module_version": "1.2.0",
      "model_name": "LayoutModel",
      "state": {}
     },
     "4ba64b556ad848a9be9889e40257ffec": {
      "model_module": "@jupyter-widgets/controls",
      "model_module_version": "1.5.0",
      "model_name": "VBoxModel",
      "state": {
       "_dom_classes": [
        "widget-interact"
       ],
       "children": [
        "IPY_MODEL_d7a68fadb5524333be1c372969d27364",
        "IPY_MODEL_8764061471634614b708754863e05a12",
        "IPY_MODEL_f71670fa1bbd4bf49599f503d518392c"
       ],
       "layout": "IPY_MODEL_3a0d8f3dbe35494db8fdd05d7015eee0"
      }
     },
     "4e22bb5cae9b4120b9a79a19b7b69b75": {
      "model_module": "@jupyter-widgets/controls",
      "model_module_version": "1.5.0",
      "model_name": "VBoxModel",
      "state": {
       "_dom_classes": [
        "widget-interact"
       ],
       "children": [
        "IPY_MODEL_35100146bd4349878dfac2b62232a770",
        "IPY_MODEL_02d7844ae0ef489f9cf3b116e0c2cc3f",
        "IPY_MODEL_fae32dcf80e0498b955ea6976447d72a"
       ],
       "layout": "IPY_MODEL_fa5f003101a648f5a740b84cdcd24452"
      }
     },
     "53a72e55462e412ab3c48163e8c781bb": {
      "model_module": "@jupyter-widgets/controls",
      "model_module_version": "1.5.0",
      "model_name": "DropdownModel",
      "state": {
       "_options_labels": [
        "sessionId"
       ],
       "description": "column",
       "index": 0,
       "layout": "IPY_MODEL_c8e609f93904493eb0887ad510eb0fac",
       "style": "IPY_MODEL_1f81da408dec434f9fcd774a3e89b4f2"
      }
     },
     "5d67d707e5ce466799305fdbf85f15d2": {
      "model_module": "@jupyter-widgets/controls",
      "model_module_version": "1.5.0",
      "model_name": "VBoxModel",
      "state": {
       "_dom_classes": [
        "widget-interact"
       ],
       "children": [
        "IPY_MODEL_53a72e55462e412ab3c48163e8c781bb",
        "IPY_MODEL_c6a53c09b89745bfb1b4f5647eab846f",
        "IPY_MODEL_e2f04ece1de7454880bab2ec822f22d4"
       ],
       "layout": "IPY_MODEL_f0e83e5eb1ee4797a71ead5684ebda94"
      }
     },
     "61013748064d47bfb0a1fe78eea9fe5c": {
      "model_module": "@jupyter-widgets/controls",
      "model_module_version": "1.5.0",
      "model_name": "DescriptionStyleModel",
      "state": {
       "description_width": ""
      }
     },
     "6a1602333b544891bef3418d71fdf1e0": {
      "model_module": "@jupyter-widgets/controls",
      "model_module_version": "1.5.0",
      "model_name": "SliderStyleModel",
      "state": {
       "description_width": ""
      }
     },
     "7ab3263a654a45e5b3f3bd3ca7bae078": {
      "model_module": "@jupyter-widgets/output",
      "model_module_version": "1.0.0",
      "model_name": "OutputModel",
      "state": {
       "layout": "IPY_MODEL_a25acb4793f341c0af9a613ac262ec73",
       "outputs": [
        {
         "data": {
          "text/html": "<div>\n<style scoped>\n    .dataframe tbody tr th:only-of-type {\n        vertical-align: middle;\n    }\n\n    .dataframe tbody tr th {\n        vertical-align: top;\n    }\n\n    .dataframe thead th {\n        text-align: right;\n    }\n</style>\n<table border=\"1\" class=\"dataframe\">\n  <thead>\n    <tr style=\"text-align: right;\">\n      <th></th>\n      <th>date</th>\n      <th>f0_</th>\n      <th>sessionId</th>\n    </tr>\n  </thead>\n  <tbody>\n    <tr>\n      <th>0</th>\n      <td>2021-11-17</td>\n      <td>before</td>\n      <td>3811</td>\n    </tr>\n    <tr>\n      <th>1</th>\n      <td>2021-11-18</td>\n      <td>before</td>\n      <td>3913</td>\n    </tr>\n    <tr>\n      <th>5</th>\n      <td>2021-11-22</td>\n      <td>before</td>\n      <td>4224</td>\n    </tr>\n    <tr>\n      <th>6</th>\n      <td>2021-11-23</td>\n      <td>before</td>\n      <td>4152</td>\n    </tr>\n    <tr>\n      <th>7</th>\n      <td>2021-11-29</td>\n      <td>after</td>\n      <td>3842</td>\n    </tr>\n    <tr>\n      <th>8</th>\n      <td>2021-11-30</td>\n      <td>after</td>\n      <td>3661</td>\n    </tr>\n  </tbody>\n</table>\n</div>",
          "text/plain": "        date     f0_  sessionId\n0 2021-11-17  before       3811\n1 2021-11-18  before       3913\n5 2021-11-22  before       4224\n6 2021-11-23  before       4152\n7 2021-11-29   after       3842\n8 2021-11-30   after       3661"
         },
         "metadata": {},
         "output_type": "display_data"
        }
       ]
      }
     },
     "8436d4afb60c4ed2aee9e3b4112910da": {
      "model_module": "@jupyter-widgets/base",
      "model_module_version": "1.2.0",
      "model_name": "LayoutModel",
      "state": {}
     },
     "8764061471634614b708754863e05a12": {
      "model_module": "@jupyter-widgets/controls",
      "model_module_version": "1.5.0",
      "model_name": "IntSliderModel",
      "state": {
       "description": "x",
       "layout": "IPY_MODEL_98dcc2be0c3343298a826b5f1c2dd827",
       "max": 10000,
       "min": 10,
       "step": 10,
       "style": "IPY_MODEL_15d23da22081418aa66a0114515fecb8",
       "value": 5000
      }
     },
     "8fd68b51415f4de5a266116c5cb9f026": {
      "model_module": "@jupyter-widgets/controls",
      "model_module_version": "1.5.0",
      "model_name": "VBoxModel",
      "state": {
       "_dom_classes": [
        "widget-interact"
       ],
       "children": [
        "IPY_MODEL_d8464b426b7b4ab7a0f3f9a4c41824be",
        "IPY_MODEL_a7db004878f84d928c660e0f90458921",
        "IPY_MODEL_7ab3263a654a45e5b3f3bd3ca7bae078"
       ],
       "layout": "IPY_MODEL_42ff5053fe054389b9af8df0de0c4c33"
      }
     },
     "95eabb8e36c0487c9ed4d211958e18fe": {
      "model_module": "@jupyter-widgets/base",
      "model_module_version": "1.2.0",
      "model_name": "LayoutModel",
      "state": {}
     },
     "98dcc2be0c3343298a826b5f1c2dd827": {
      "model_module": "@jupyter-widgets/base",
      "model_module_version": "1.2.0",
      "model_name": "LayoutModel",
      "state": {}
     },
     "a25acb4793f341c0af9a613ac262ec73": {
      "model_module": "@jupyter-widgets/base",
      "model_module_version": "1.2.0",
      "model_name": "LayoutModel",
      "state": {}
     },
     "a7db004878f84d928c660e0f90458921": {
      "model_module": "@jupyter-widgets/controls",
      "model_module_version": "1.5.0",
      "model_name": "IntSliderModel",
      "state": {
       "description": "x",
       "layout": "IPY_MODEL_8436d4afb60c4ed2aee9e3b4112910da",
       "max": 5000,
       "min": 10,
       "step": 10,
       "style": "IPY_MODEL_ee655570c27244549487f3d936a68f1c",
       "value": 3520
      }
     },
     "affc58210ec14d25aca9b9162c2cd7ab": {
      "model_module": "@jupyter-widgets/base",
      "model_module_version": "1.2.0",
      "model_name": "LayoutModel",
      "state": {}
     },
     "b6564190f30845a59e3b7ed10086a54f": {
      "model_module": "@jupyter-widgets/controls",
      "model_module_version": "1.5.0",
      "model_name": "DescriptionStyleModel",
      "state": {
       "description_width": ""
      }
     },
     "ba264828b9164eedb3a3d9c1fd938be1": {
      "model_module": "@jupyter-widgets/base",
      "model_module_version": "1.2.0",
      "model_name": "LayoutModel",
      "state": {}
     },
     "bff974e267554fa3b44847265600bef2": {
      "model_module": "@jupyter-widgets/base",
      "model_module_version": "1.2.0",
      "model_name": "LayoutModel",
      "state": {}
     },
     "c6a53c09b89745bfb1b4f5647eab846f": {
      "model_module": "@jupyter-widgets/controls",
      "model_module_version": "1.5.0",
      "model_name": "IntSliderModel",
      "state": {
       "description": "x",
       "layout": "IPY_MODEL_06dce79dcf8e4b6795f517952933729a",
       "max": 100000,
       "min": 10,
       "step": 10,
       "style": "IPY_MODEL_6a1602333b544891bef3418d71fdf1e0",
       "value": 330
      }
     },
     "c8e609f93904493eb0887ad510eb0fac": {
      "model_module": "@jupyter-widgets/base",
      "model_module_version": "1.2.0",
      "model_name": "LayoutModel",
      "state": {}
     },
     "d7a68fadb5524333be1c372969d27364": {
      "model_module": "@jupyter-widgets/controls",
      "model_module_version": "1.5.0",
      "model_name": "DropdownModel",
      "state": {
       "_options_labels": [
        "sessionId"
       ],
       "description": "column",
       "index": 0,
       "layout": "IPY_MODEL_15eb970611a74d079caca6254aa14469",
       "style": "IPY_MODEL_241053bc370a45238eaba887d93488df"
      }
     },
     "d8464b426b7b4ab7a0f3f9a4c41824be": {
      "model_module": "@jupyter-widgets/controls",
      "model_module_version": "1.5.0",
      "model_name": "DropdownModel",
      "state": {
       "_options_labels": [
        "sessionId"
       ],
       "description": "column",
       "index": 0,
       "layout": "IPY_MODEL_95eabb8e36c0487c9ed4d211958e18fe",
       "style": "IPY_MODEL_61013748064d47bfb0a1fe78eea9fe5c"
      }
     },
     "d9bb31dbd9594682930dc11be0de47d2": {
      "model_module": "@jupyter-widgets/base",
      "model_module_version": "1.2.0",
      "model_name": "LayoutModel",
      "state": {}
     },
     "e2f04ece1de7454880bab2ec822f22d4": {
      "model_module": "@jupyter-widgets/output",
      "model_module_version": "1.0.0",
      "model_name": "OutputModel",
      "state": {
       "layout": "IPY_MODEL_d9bb31dbd9594682930dc11be0de47d2",
       "outputs": [
        {
         "data": {
          "text/html": "<div>\n<style scoped>\n    .dataframe tbody tr th:only-of-type {\n        vertical-align: middle;\n    }\n\n    .dataframe tbody tr th {\n        vertical-align: top;\n    }\n\n    .dataframe thead th {\n        text-align: right;\n    }\n</style>\n<table border=\"1\" class=\"dataframe\">\n  <thead>\n    <tr style=\"text-align: right;\">\n      <th></th>\n      <th>date</th>\n      <th>f0_</th>\n      <th>sessionId</th>\n    </tr>\n  </thead>\n  <tbody>\n    <tr>\n      <th>0</th>\n      <td>2021-11-17</td>\n      <td>before</td>\n      <td>3811</td>\n    </tr>\n    <tr>\n      <th>1</th>\n      <td>2021-11-18</td>\n      <td>before</td>\n      <td>3913</td>\n    </tr>\n    <tr>\n      <th>2</th>\n      <td>2021-11-19</td>\n      <td>before</td>\n      <td>3405</td>\n    </tr>\n    <tr>\n      <th>3</th>\n      <td>2021-11-20</td>\n      <td>before</td>\n      <td>2743</td>\n    </tr>\n    <tr>\n      <th>4</th>\n      <td>2021-11-21</td>\n      <td>before</td>\n      <td>3075</td>\n    </tr>\n    <tr>\n      <th>5</th>\n      <td>2021-11-22</td>\n      <td>before</td>\n      <td>4224</td>\n    </tr>\n    <tr>\n      <th>6</th>\n      <td>2021-11-23</td>\n      <td>before</td>\n      <td>4152</td>\n    </tr>\n    <tr>\n      <th>7</th>\n      <td>2021-11-29</td>\n      <td>after</td>\n      <td>3842</td>\n    </tr>\n    <tr>\n      <th>8</th>\n      <td>2021-11-30</td>\n      <td>after</td>\n      <td>3661</td>\n    </tr>\n    <tr>\n      <th>9</th>\n      <td>2021-12-01</td>\n      <td>after</td>\n      <td>3316</td>\n    </tr>\n    <tr>\n      <th>10</th>\n      <td>2021-12-02</td>\n      <td>after</td>\n      <td>3378</td>\n    </tr>\n    <tr>\n      <th>11</th>\n      <td>2021-12-03</td>\n      <td>after</td>\n      <td>2838</td>\n    </tr>\n  </tbody>\n</table>\n</div>",
          "text/plain": "         date     f0_  sessionId\n0  2021-11-17  before       3811\n1  2021-11-18  before       3913\n2  2021-11-19  before       3405\n3  2021-11-20  before       2743\n4  2021-11-21  before       3075\n5  2021-11-22  before       4224\n6  2021-11-23  before       4152\n7  2021-11-29   after       3842\n8  2021-11-30   after       3661\n9  2021-12-01   after       3316\n10 2021-12-02   after       3378\n11 2021-12-03   after       2838"
         },
         "metadata": {},
         "output_type": "display_data"
        }
       ]
      }
     },
     "ee655570c27244549487f3d936a68f1c": {
      "model_module": "@jupyter-widgets/controls",
      "model_module_version": "1.5.0",
      "model_name": "SliderStyleModel",
      "state": {
       "description_width": ""
      }
     },
     "f0e83e5eb1ee4797a71ead5684ebda94": {
      "model_module": "@jupyter-widgets/base",
      "model_module_version": "1.2.0",
      "model_name": "LayoutModel",
      "state": {}
     },
     "f71670fa1bbd4bf49599f503d518392c": {
      "model_module": "@jupyter-widgets/output",
      "model_module_version": "1.0.0",
      "model_name": "OutputModel",
      "state": {
       "layout": "IPY_MODEL_affc58210ec14d25aca9b9162c2cd7ab",
       "outputs": [
        {
         "data": {
          "text/html": "<div>\n<style scoped>\n    .dataframe tbody tr th:only-of-type {\n        vertical-align: middle;\n    }\n\n    .dataframe tbody tr th {\n        vertical-align: top;\n    }\n\n    .dataframe thead th {\n        text-align: right;\n    }\n</style>\n<table border=\"1\" class=\"dataframe\">\n  <thead>\n    <tr style=\"text-align: right;\">\n      <th></th>\n      <th>date</th>\n      <th>f0_</th>\n      <th>sessionId</th>\n    </tr>\n  </thead>\n  <tbody>\n  </tbody>\n</table>\n</div>",
          "text/plain": "Empty DataFrame\nColumns: [date, f0_, sessionId]\nIndex: []"
         },
         "metadata": {},
         "output_type": "display_data"
        }
       ]
      }
     },
     "fa5f003101a648f5a740b84cdcd24452": {
      "model_module": "@jupyter-widgets/base",
      "model_module_version": "1.2.0",
      "model_name": "LayoutModel",
      "state": {}
     },
     "fae32dcf80e0498b955ea6976447d72a": {
      "model_module": "@jupyter-widgets/output",
      "model_module_version": "1.0.0",
      "model_name": "OutputModel",
      "state": {
       "layout": "IPY_MODEL_bff974e267554fa3b44847265600bef2",
       "outputs": [
        {
         "data": {
          "text/html": "<div>\n<style scoped>\n    .dataframe tbody tr th:only-of-type {\n        vertical-align: middle;\n    }\n\n    .dataframe tbody tr th {\n        vertical-align: top;\n    }\n\n    .dataframe thead th {\n        text-align: right;\n    }\n</style>\n<table border=\"1\" class=\"dataframe\">\n  <thead>\n    <tr style=\"text-align: right;\">\n      <th></th>\n      <th>date</th>\n      <th>f0_</th>\n      <th>sessionId</th>\n    </tr>\n  </thead>\n  <tbody>\n  </tbody>\n</table>\n</div>",
          "text/plain": "Empty DataFrame\nColumns: [date, f0_, sessionId]\nIndex: []"
         },
         "metadata": {},
         "output_type": "display_data"
        }
       ]
      }
     }
    },
    "version_major": 2,
    "version_minor": 0
   }
  }
 },
 "nbformat": 4,
 "nbformat_minor": 5
}
